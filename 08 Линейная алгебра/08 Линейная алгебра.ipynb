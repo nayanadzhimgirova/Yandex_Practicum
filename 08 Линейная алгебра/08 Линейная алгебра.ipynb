{
 "cells": [
  {
   "cell_type": "markdown",
   "metadata": {},
   "source": [
    "# Защита персональных данных клиентов"
   ]
  },
  {
   "cell_type": "markdown",
   "metadata": {},
   "source": [
    "<div class=\"alert alert-info\" style=\"border:solid purple 2px; padding: 20px; background-color: #e6d2f2; color: #4b0082;\">\n",
    "\n",
    "**Цель исследования:** найти метод преобразования данных, с помощью которого будет сложно восстановить персональную информацию.\n",
    "\n",
    "**Задачи исследования:**\n",
    "- изучить данные\n",
    "- умножить признаки на обратимую матрицу\n",
    "- сравнить метрики по данным до и после преобразований\n",
    "- предложить метод преобразования данных\n",
    "- проверить метод"
   ]
  },
  {
   "cell_type": "markdown",
   "metadata": {},
   "source": [
    "## Загрузка данных"
   ]
  },
  {
   "cell_type": "markdown",
   "metadata": {},
   "source": [
    "**1. Загружу необходимые в работе библиотеки**"
   ]
  },
  {
   "cell_type": "code",
   "execution_count": 1,
   "metadata": {},
   "outputs": [],
   "source": [
    "import pandas as pd\n",
    "from sklearn.linear_model import LinearRegression\n",
    "import numpy as np\n",
    "from sklearn.metrics import r2_score"
   ]
  },
  {
   "cell_type": "markdown",
   "metadata": {},
   "source": [
    "**2. Загружу данные и изучу их**"
   ]
  },
  {
   "cell_type": "code",
   "execution_count": 2,
   "metadata": {},
   "outputs": [],
   "source": [
    "data = pd.read_csv('/datasets/insurance.csv')"
   ]
  },
  {
   "cell_type": "code",
   "execution_count": 3,
   "metadata": {
    "scrolled": true
   },
   "outputs": [
    {
     "name": "stdout",
     "output_type": "stream",
     "text": [
      "<class 'pandas.core.frame.DataFrame'>\n",
      "RangeIndex: 5000 entries, 0 to 4999\n",
      "Data columns (total 5 columns):\n",
      " #   Column             Non-Null Count  Dtype  \n",
      "---  ------             --------------  -----  \n",
      " 0   Пол                5000 non-null   int64  \n",
      " 1   Возраст            5000 non-null   float64\n",
      " 2   Зарплата           5000 non-null   float64\n",
      " 3   Члены семьи        5000 non-null   int64  \n",
      " 4   Страховые выплаты  5000 non-null   int64  \n",
      "dtypes: float64(2), int64(3)\n",
      "memory usage: 195.4 KB\n"
     ]
    }
   ],
   "source": [
    "data.info()"
   ]
  },
  {
   "cell_type": "markdown",
   "metadata": {},
   "source": [
    "<div class=\"alert alert-info\" style=\"border:solid purple 2px; padding: 20px; background-color: #e6d2f2; color: #4b0082;\">\n",
    "\n",
    "В данных 5000 строк без пропусков. Столбцы \"Пол\", \"Члены семьи\", \"Страховые выплаты\" имеют формат целых чисел. Столбцы \"Возраст\" и \"Зарплата\" имеют формат вещественных чисел."
   ]
  },
  {
   "cell_type": "code",
   "execution_count": 4,
   "metadata": {
    "scrolled": false
   },
   "outputs": [
    {
     "data": {
      "text/html": [
       "<div>\n",
       "<style scoped>\n",
       "    .dataframe tbody tr th:only-of-type {\n",
       "        vertical-align: middle;\n",
       "    }\n",
       "\n",
       "    .dataframe tbody tr th {\n",
       "        vertical-align: top;\n",
       "    }\n",
       "\n",
       "    .dataframe thead th {\n",
       "        text-align: right;\n",
       "    }\n",
       "</style>\n",
       "<table border=\"1\" class=\"dataframe\">\n",
       "  <thead>\n",
       "    <tr style=\"text-align: right;\">\n",
       "      <th></th>\n",
       "      <th>Пол</th>\n",
       "      <th>Возраст</th>\n",
       "      <th>Зарплата</th>\n",
       "      <th>Члены семьи</th>\n",
       "      <th>Страховые выплаты</th>\n",
       "    </tr>\n",
       "  </thead>\n",
       "  <tbody>\n",
       "    <tr>\n",
       "      <th>0</th>\n",
       "      <td>1</td>\n",
       "      <td>41.0</td>\n",
       "      <td>49600.0</td>\n",
       "      <td>1</td>\n",
       "      <td>0</td>\n",
       "    </tr>\n",
       "    <tr>\n",
       "      <th>1</th>\n",
       "      <td>0</td>\n",
       "      <td>46.0</td>\n",
       "      <td>38000.0</td>\n",
       "      <td>1</td>\n",
       "      <td>1</td>\n",
       "    </tr>\n",
       "    <tr>\n",
       "      <th>2</th>\n",
       "      <td>0</td>\n",
       "      <td>29.0</td>\n",
       "      <td>21000.0</td>\n",
       "      <td>0</td>\n",
       "      <td>0</td>\n",
       "    </tr>\n",
       "    <tr>\n",
       "      <th>3</th>\n",
       "      <td>0</td>\n",
       "      <td>21.0</td>\n",
       "      <td>41700.0</td>\n",
       "      <td>2</td>\n",
       "      <td>0</td>\n",
       "    </tr>\n",
       "    <tr>\n",
       "      <th>4</th>\n",
       "      <td>1</td>\n",
       "      <td>28.0</td>\n",
       "      <td>26100.0</td>\n",
       "      <td>0</td>\n",
       "      <td>0</td>\n",
       "    </tr>\n",
       "  </tbody>\n",
       "</table>\n",
       "</div>"
      ],
      "text/plain": [
       "   Пол  Возраст  Зарплата  Члены семьи  Страховые выплаты\n",
       "0    1     41.0   49600.0            1                  0\n",
       "1    0     46.0   38000.0            1                  1\n",
       "2    0     29.0   21000.0            0                  0\n",
       "3    0     21.0   41700.0            2                  0\n",
       "4    1     28.0   26100.0            0                  0"
      ]
     },
     "execution_count": 4,
     "metadata": {},
     "output_type": "execute_result"
    }
   ],
   "source": [
    "data.head()"
   ]
  },
  {
   "cell_type": "markdown",
   "metadata": {},
   "source": [
    "**3. Сохраню features и target в переменные**"
   ]
  },
  {
   "cell_type": "markdown",
   "metadata": {},
   "source": [
    "<div class=\"alert alert-info\" style=\"border:solid purple 2px; padding: 20px; background-color: #e6d2f2; color: #4b0082;\">\n",
    "\n",
    "Целевой признак - страховые выплаты."
   ]
  },
  {
   "cell_type": "code",
   "execution_count": 5,
   "metadata": {},
   "outputs": [
    {
     "name": "stdout",
     "output_type": "stream",
     "text": [
      "(5000, 4)\n",
      "(5000,)\n"
     ]
    }
   ],
   "source": [
    "features = data.drop('Страховые выплаты', axis=1)\n",
    "target = data['Страховые выплаты']\n",
    "\n",
    "print(features.shape)\n",
    "print(target.shape)"
   ]
  },
  {
   "cell_type": "markdown",
   "metadata": {},
   "source": [
    "## Умножение матриц"
   ]
  },
  {
   "cell_type": "markdown",
   "metadata": {},
   "source": [
    "<div class=\"alert alert-info\" style=\"border:solid purple 2px; padding: 20px; background-color: #e6d2f2; color: #4b0082;\">\n",
    "\n",
    "Обозначения:\n",
    "\n",
    "- $X$ — матрица признаков (нулевой столбец состоит из единиц)\n",
    "\n",
    "- $y$ — вектор целевого признака\n",
    "\n",
    "- $P$ — матрица, на которую умножаются признаки\n",
    "\n",
    "- $w$ — вектор весов линейной регрессии (нулевой элемент равен сдвигу)"
   ]
  },
  {
   "cell_type": "markdown",
   "metadata": {},
   "source": [
    "<div class=\"alert alert-info\" style=\"border:solid purple 2px; padding: 20px; background-color: #e6d2f2; color: #4b0082;\">\n",
    "\n",
    "Предсказания:\n",
    "\n",
    "$$\n",
    "a = Xw\n",
    "$$\n",
    "\n",
    "Задача обучения:\n",
    "\n",
    "$$\n",
    "w = \\arg\\min_w MSE(Xw, y)\n",
    "$$\n",
    "\n",
    "Формула обучения:\n",
    "\n",
    "$$\n",
    "w = (X^T X)^{-1} X^T y\n",
    "$$"
   ]
  },
  {
   "cell_type": "markdown",
   "metadata": {},
   "source": [
    "**1. Рассчитаю R2 до преобразований**"
   ]
  },
  {
   "cell_type": "code",
   "execution_count": 6,
   "metadata": {},
   "outputs": [
    {
     "name": "stdout",
     "output_type": "stream",
     "text": [
      "R2: 0.4249455028666801\n"
     ]
    }
   ],
   "source": [
    "model = LinearRegression()\n",
    "model.fit(features, target)\n",
    "predicted = model.predict(features)\n",
    "r2_before = r2_score(target, predicted)\n",
    "print('R2:', r2_before)"
   ]
  },
  {
   "cell_type": "markdown",
   "metadata": {},
   "source": [
    "**2. Рассчитаю R2 после преобразований**"
   ]
  },
  {
   "cell_type": "markdown",
   "metadata": {},
   "source": [
    "**2.1.** Создам рандомную обратимую матрицу"
   ]
  },
  {
   "cell_type": "code",
   "execution_count": 7,
   "metadata": {},
   "outputs": [
    {
     "data": {
      "text/plain": [
       "array([[0.82095735, 0.87183218, 0.1863191 , 0.66241576],\n",
       "       [0.99647959, 0.15590769, 0.84223533, 0.46762185],\n",
       "       [0.35905532, 0.47584527, 0.44110848, 0.89470603],\n",
       "       [0.37595158, 0.87427187, 0.64040704, 0.19023525]])"
      ]
     },
     "execution_count": 7,
     "metadata": {},
     "output_type": "execute_result"
    }
   ],
   "source": [
    "R = np.random.rand(4, 4)\n",
    "R"
   ]
  },
  {
   "cell_type": "code",
   "execution_count": 8,
   "metadata": {},
   "outputs": [
    {
     "data": {
      "text/plain": [
       "array([[ 1.01327486,  0.7593943 , -1.02170014, -0.58978206],\n",
       "       [ 0.50090647, -0.66852345, -0.20784531,  0.87664238],\n",
       "       [-1.26383558,  0.52927761,  0.46498878,  0.91284118],\n",
       "       [-0.04994615, -0.21014688,  1.40899753, -0.67960168]])"
      ]
     },
     "execution_count": 8,
     "metadata": {},
     "output_type": "execute_result"
    }
   ],
   "source": [
    "#проверим матрицу на обратимость\n",
    "\n",
    "np.linalg.inv(R)"
   ]
  },
  {
   "cell_type": "markdown",
   "metadata": {},
   "source": [
    "<div class=\"alert alert-info\" style=\"border:solid purple 2px; padding: 20px; background-color: #e6d2f2; color: #4b0082;\">\n",
    "\n",
    "Ошибки нет, матрица обратима."
   ]
  },
  {
   "cell_type": "markdown",
   "metadata": {},
   "source": [
    "**2.2.** Умножу признаки на матрицу и рассчитаю R2"
   ]
  },
  {
   "cell_type": "code",
   "execution_count": 9,
   "metadata": {},
   "outputs": [],
   "source": [
    "features_after = features.values @ R"
   ]
  },
  {
   "cell_type": "code",
   "execution_count": 10,
   "metadata": {},
   "outputs": [
    {
     "name": "stdout",
     "output_type": "stream",
     "text": [
      "R2 после преобразований: 0.424945502866682\n"
     ]
    }
   ],
   "source": [
    "#обучим модель на новых признаках\n",
    "model = LinearRegression()\n",
    "model.fit(features_after, target)\n",
    "predicted_after = model.predict(features_after)\n",
    "\n",
    "#рассчитаем R2\n",
    "r2_after = r2_score(target, predicted_after)\n",
    "\n",
    "print('R2 после преобразований:', r2_after)"
   ]
  },
  {
   "cell_type": "markdown",
   "metadata": {},
   "source": [
    "**3. Рассмотрю, как связаны параметры линейной регрессии в исходной задаче и в преобразованной**"
   ]
  },
  {
   "cell_type": "code",
   "execution_count": 11,
   "metadata": {},
   "outputs": [
    {
     "data": {
      "text/plain": [
       "0.9999999999999956"
      ]
     },
     "execution_count": 11,
     "metadata": {},
     "output_type": "execute_result"
    }
   ],
   "source": [
    "#найдём отношение R2 до преобразований к R2 после преобразований\n",
    "\n",
    "r2_before / r2_after"
   ]
  },
  {
   "cell_type": "markdown",
   "metadata": {},
   "source": [
    "<div class=\"alert alert-info\" style=\"border:solid purple 2px; padding: 20px; background-color: #e6d2f2; color: #4b0082;\">\n",
    "\n",
    "Метрика практически не изменилась после преобразования."
   ]
  },
  {
   "cell_type": "markdown",
   "metadata": {},
   "source": [
    "<div class=\"alert alert-info\" style=\"border:solid purple 2px; padding: 20px; background-color: #e6d2f2; color: #4b0082;\">\n",
    "\n",
    "**Ответ:** Метрика не меняется после преобразования."
   ]
  },
  {
   "cell_type": "markdown",
   "metadata": {},
   "source": [
    "<div class=\"alert alert-info\" style=\"border:solid purple 2px; padding: 20px; background-color: #e6d2f2; color: #4b0082;\">\n",
    "\n",
    "**Обоснование:**\n",
    "\n",
    "Вектор предсказаний до преобразования:\n",
    "\n",
    "$$\n",
    "a = Aw = A * (X^T * X)^{-1} * X^T * y\n",
    "$$\n",
    "\n",
    "Вектор предсказаний после преобразования:\n",
    "\n",
    "$$\n",
    "a_R = A * R * w_R = A * R * ((XR)^T * XR)^{-1} * (XR)^T * y\n",
    "$$\n",
    "\n",
    "Рассмотрю:\n",
    "$$\n",
    "((XR)^T * XR)^{-1} = (R^T*X^T*X*R)^{-1} = R^{-1}*(X^T*X)^{-1}*(R^T)^{-1}\n",
    "$$\n",
    "\n",
    "Подставлю:\n",
    "$$\n",
    "a_R = A*R*R^{-1}*(X^T*X)^{-1}*(R^T)^{-1}*(XR)^T*y = A*(X^T*X)^{-1}*(R^T)^{-1}*R^T*X^T*y = A*(X^T*X)^{-1}*X^T*y\n",
    "$$"
   ]
  },
  {
   "cell_type": "markdown",
   "metadata": {},
   "source": [
    "## Алгоритм преобразования"
   ]
  },
  {
   "cell_type": "markdown",
   "metadata": {},
   "source": [
    "<div class=\"alert alert-info\" style=\"border:solid purple 2px; padding: 20px; background-color: #e6d2f2; color: #4b0082;\">\n",
    "\n",
    "**Алгоритм**\n",
    "\n",
    "1) сгенерирую рандомную матрицу\n",
    "2) проверю её на обратимость\n",
    "3) умножу данные на матрицу"
   ]
  },
  {
   "cell_type": "markdown",
   "metadata": {},
   "source": [
    "<div class=\"alert alert-info\" style=\"border:solid purple 2px; padding: 20px; background-color: #e6d2f2; color: #4b0082;\">\n",
    "\n",
    "**Обоснование**\n",
    "\n",
    "1) сгенерирую рандомную матрицу\\\n",
    "Нужно сгенерировать матрицу с количеством строк, совпадающим с количеством столбцов матрицы признаков. Признаки - это данные пользователей.\n",
    "\n",
    "2) проверю её на обратимость\\\n",
    "Нужна обратимая матрица, потому что при расчёте вектора весов используются обратные матрицы.\n",
    "\n",
    "3) умножу данные на матрицу"
   ]
  },
  {
   "cell_type": "markdown",
   "metadata": {},
   "source": [
    "## Проверка алгоритма"
   ]
  },
  {
   "cell_type": "markdown",
   "metadata": {},
   "source": [
    "**1. Сгенерирую рандомную матрицу**"
   ]
  },
  {
   "cell_type": "code",
   "execution_count": 12,
   "metadata": {},
   "outputs": [
    {
     "data": {
      "text/plain": [
       "array([[0.43652927, 0.44529007, 0.21827682, 0.56144931],\n",
       "       [0.06773307, 0.66007629, 0.62107911, 0.23155272],\n",
       "       [0.62526481, 0.19700799, 0.40856175, 0.23592445],\n",
       "       [0.04836355, 0.85243895, 0.56880366, 0.50732878]])"
      ]
     },
     "execution_count": 12,
     "metadata": {},
     "output_type": "execute_result"
    }
   ],
   "source": [
    "#сгенерируем матрицу размером 4Х4, т.к. признаков 4\n",
    "\n",
    "R = np.random.rand(4, 4)\n",
    "R"
   ]
  },
  {
   "cell_type": "markdown",
   "metadata": {},
   "source": [
    "**2. Проверю её на обратимость**"
   ]
  },
  {
   "cell_type": "code",
   "execution_count": 13,
   "metadata": {},
   "outputs": [
    {
     "data": {
      "text/plain": [
       "array([[ 13.50572826,  18.68692546,  -8.33813172, -19.59798362],\n",
       "       [ 25.68327041,  36.83250927, -19.10931218, -36.34756978],\n",
       "       [-20.96195446, -27.20904105,  15.38039652,  28.46436344],\n",
       "       [-20.93981035, -33.1631673 ,  15.6591899 ,  32.99887291]])"
      ]
     },
     "execution_count": 13,
     "metadata": {},
     "output_type": "execute_result"
    }
   ],
   "source": [
    "np.linalg.inv(R)"
   ]
  },
  {
   "cell_type": "markdown",
   "metadata": {},
   "source": [
    "<div class=\"alert alert-info\" style=\"border:solid purple 2px; padding: 20px; background-color: #e6d2f2; color: #4b0082;\">\n",
    "\n",
    "Ошибки нет, матрица обратима."
   ]
  },
  {
   "cell_type": "markdown",
   "metadata": {},
   "source": [
    "**3. Умножу данные на матрицу**"
   ]
  },
  {
   "cell_type": "code",
   "execution_count": 14,
   "metadata": {},
   "outputs": [
    {
     "name": "stdout",
     "output_type": "stream",
     "text": [
      "Данные до преобразования:\n"
     ]
    },
    {
     "data": {
      "text/html": [
       "<div>\n",
       "<style scoped>\n",
       "    .dataframe tbody tr th:only-of-type {\n",
       "        vertical-align: middle;\n",
       "    }\n",
       "\n",
       "    .dataframe tbody tr th {\n",
       "        vertical-align: top;\n",
       "    }\n",
       "\n",
       "    .dataframe thead th {\n",
       "        text-align: right;\n",
       "    }\n",
       "</style>\n",
       "<table border=\"1\" class=\"dataframe\">\n",
       "  <thead>\n",
       "    <tr style=\"text-align: right;\">\n",
       "      <th></th>\n",
       "      <th>Пол</th>\n",
       "      <th>Возраст</th>\n",
       "      <th>Зарплата</th>\n",
       "      <th>Члены семьи</th>\n",
       "    </tr>\n",
       "  </thead>\n",
       "  <tbody>\n",
       "    <tr>\n",
       "      <th>0</th>\n",
       "      <td>1</td>\n",
       "      <td>41.0</td>\n",
       "      <td>49600.0</td>\n",
       "      <td>1</td>\n",
       "    </tr>\n",
       "    <tr>\n",
       "      <th>1</th>\n",
       "      <td>0</td>\n",
       "      <td>46.0</td>\n",
       "      <td>38000.0</td>\n",
       "      <td>1</td>\n",
       "    </tr>\n",
       "    <tr>\n",
       "      <th>2</th>\n",
       "      <td>0</td>\n",
       "      <td>29.0</td>\n",
       "      <td>21000.0</td>\n",
       "      <td>0</td>\n",
       "    </tr>\n",
       "    <tr>\n",
       "      <th>3</th>\n",
       "      <td>0</td>\n",
       "      <td>21.0</td>\n",
       "      <td>41700.0</td>\n",
       "      <td>2</td>\n",
       "    </tr>\n",
       "    <tr>\n",
       "      <th>4</th>\n",
       "      <td>1</td>\n",
       "      <td>28.0</td>\n",
       "      <td>26100.0</td>\n",
       "      <td>0</td>\n",
       "    </tr>\n",
       "  </tbody>\n",
       "</table>\n",
       "</div>"
      ],
      "text/plain": [
       "   Пол  Возраст  Зарплата  Члены семьи\n",
       "0    1     41.0   49600.0            1\n",
       "1    0     46.0   38000.0            1\n",
       "2    0     29.0   21000.0            0\n",
       "3    0     21.0   41700.0            2\n",
       "4    1     28.0   26100.0            0"
      ]
     },
     "metadata": {},
     "output_type": "display_data"
    },
    {
     "name": "stdout",
     "output_type": "stream",
     "text": [
      "Данные после преобразования:\n"
     ]
    },
    {
     "data": {
      "text/html": [
       "<div>\n",
       "<style scoped>\n",
       "    .dataframe tbody tr th:only-of-type {\n",
       "        vertical-align: middle;\n",
       "    }\n",
       "\n",
       "    .dataframe tbody tr th {\n",
       "        vertical-align: top;\n",
       "    }\n",
       "\n",
       "    .dataframe thead th {\n",
       "        text-align: right;\n",
       "    }\n",
       "</style>\n",
       "<table border=\"1\" class=\"dataframe\">\n",
       "  <thead>\n",
       "    <tr style=\"text-align: right;\">\n",
       "      <th></th>\n",
       "      <th>0</th>\n",
       "      <th>1</th>\n",
       "      <th>2</th>\n",
       "      <th>3</th>\n",
       "    </tr>\n",
       "  </thead>\n",
       "  <tbody>\n",
       "    <tr>\n",
       "      <th>0</th>\n",
       "      <td>31016.396685</td>\n",
       "      <td>9799.957336</td>\n",
       "      <td>20290.914351</td>\n",
       "      <td>11712.415382</td>\n",
       "    </tr>\n",
       "    <tr>\n",
       "      <th>1</th>\n",
       "      <td>23763.226987</td>\n",
       "      <td>7517.519702</td>\n",
       "      <td>15554.485117</td>\n",
       "      <td>8976.288024</td>\n",
       "    </tr>\n",
       "    <tr>\n",
       "      <th>2</th>\n",
       "      <td>13132.525337</td>\n",
       "      <td>4156.310076</td>\n",
       "      <td>8597.808140</td>\n",
       "      <td>4961.128573</td>\n",
       "    </tr>\n",
       "    <tr>\n",
       "      <th>3</th>\n",
       "      <td>26075.061833</td>\n",
       "      <td>8230.799810</td>\n",
       "      <td>17051.205434</td>\n",
       "      <td>9843.927017</td>\n",
       "    </tr>\n",
       "    <tr>\n",
       "      <th>4</th>\n",
       "      <td>16321.744680</td>\n",
       "      <td>5160.836057</td>\n",
       "      <td>10681.070286</td>\n",
       "      <td>6164.673188</td>\n",
       "    </tr>\n",
       "  </tbody>\n",
       "</table>\n",
       "</div>"
      ],
      "text/plain": [
       "              0            1             2             3\n",
       "0  31016.396685  9799.957336  20290.914351  11712.415382\n",
       "1  23763.226987  7517.519702  15554.485117   8976.288024\n",
       "2  13132.525337  4156.310076   8597.808140   4961.128573\n",
       "3  26075.061833  8230.799810  17051.205434   9843.927017\n",
       "4  16321.744680  5160.836057  10681.070286   6164.673188"
      ]
     },
     "execution_count": 14,
     "metadata": {},
     "output_type": "execute_result"
    }
   ],
   "source": [
    "features_R = features @ R\n",
    "print('Данные до преобразования:')\n",
    "display(features.head())\n",
    "print('Данные после преобразования:')\n",
    "features_R.head()"
   ]
  },
  {
   "cell_type": "markdown",
   "metadata": {},
   "source": [
    "**4. Проверю качество линейной регрессии**"
   ]
  },
  {
   "cell_type": "code",
   "execution_count": 15,
   "metadata": {},
   "outputs": [
    {
     "name": "stdout",
     "output_type": "stream",
     "text": [
      "R2 до преобразования: 0.4249455028666801\n"
     ]
    }
   ],
   "source": [
    "model = LinearRegression()\n",
    "model.fit(features, target)\n",
    "print('R2 до преобразования:', model.score(features, target))"
   ]
  },
  {
   "cell_type": "code",
   "execution_count": 16,
   "metadata": {},
   "outputs": [
    {
     "name": "stdout",
     "output_type": "stream",
     "text": [
      "R2 до преобразования: 0.42494550286666033\n"
     ]
    }
   ],
   "source": [
    "model = LinearRegression()\n",
    "model.fit(features_R, target)\n",
    "print('R2 до преобразования:', model.score(features_R, target))"
   ]
  },
  {
   "cell_type": "markdown",
   "metadata": {},
   "source": [
    "<div class=\"alert alert-info\" style=\"border:solid purple 2px; padding: 20px; background-color: #e6d2f2; color: #4b0082;\">\n",
    "\n",
    "Качество линейной регрессии не поменялось."
   ]
  },
  {
   "cell_type": "markdown",
   "metadata": {},
   "source": [
    "<div class=\"alert alert-info\" style=\"border:solid purple 2px; padding: 20px; background-color: #e6d2f2; color: #4b0082;\">\n",
    "\n",
    "**Итоговый вывод:**\n",
    "- Я изучила данные и разделила их на признаки и целевой признак. В данных 5000 строк, 4 признака и один целевой признак.\n",
    "- Сгенерировала рандомную матрицу и умножила на неё признаки. Обучила модели линейной регрессии на данных до и после преобразования и сравнила их качество метрикой R2. *Метрика не изменилась, значит, умножение данных на рандомную обратимую матрицу не меняет качество обучения.*\n",
    "\n",
    "\n",
    "***Метод преобразования данных - умножение на рандомную обратимую матрицу.***"
   ]
  }
 ],
 "metadata": {
  "ExecuteTimeLog": [
   {
    "duration": 394,
    "start_time": "2023-03-17T15:32:17.005Z"
   },
   {
    "duration": 42,
    "start_time": "2023-03-17T15:33:32.943Z"
   },
   {
    "duration": 100,
    "start_time": "2023-03-17T15:33:38.144Z"
   },
   {
    "duration": 13,
    "start_time": "2023-03-17T15:33:57.086Z"
   },
   {
    "duration": 17,
    "start_time": "2023-03-17T15:34:11.746Z"
   },
   {
    "duration": 51,
    "start_time": "2023-03-17T20:11:09.178Z"
   },
   {
    "duration": 411,
    "start_time": "2023-03-17T20:11:20.707Z"
   },
   {
    "duration": 87,
    "start_time": "2023-03-17T20:11:21.120Z"
   },
   {
    "duration": 13,
    "start_time": "2023-03-17T20:11:21.210Z"
   },
   {
    "duration": 17,
    "start_time": "2023-03-17T20:11:21.225Z"
   },
   {
    "duration": 7,
    "start_time": "2023-03-17T20:11:21.245Z"
   },
   {
    "duration": 850,
    "start_time": "2023-03-17T20:15:36.344Z"
   },
   {
    "duration": 3,
    "start_time": "2023-03-17T20:17:05.610Z"
   },
   {
    "duration": 3,
    "start_time": "2023-03-17T20:17:22.048Z"
   },
   {
    "duration": 2,
    "start_time": "2023-03-17T20:17:43.570Z"
   },
   {
    "duration": 2,
    "start_time": "2023-03-17T20:17:57.258Z"
   },
   {
    "duration": 3,
    "start_time": "2023-03-17T20:18:16.090Z"
   },
   {
    "duration": 3,
    "start_time": "2023-03-17T20:18:41.912Z"
   },
   {
    "duration": 1122,
    "start_time": "2023-03-17T20:18:50.369Z"
   },
   {
    "duration": 30,
    "start_time": "2023-03-17T20:18:51.493Z"
   },
   {
    "duration": 13,
    "start_time": "2023-03-17T20:18:51.525Z"
   },
   {
    "duration": 19,
    "start_time": "2023-03-17T20:18:51.539Z"
   },
   {
    "duration": 6,
    "start_time": "2023-03-17T20:18:51.561Z"
   },
   {
    "duration": 8,
    "start_time": "2023-03-17T20:18:51.569Z"
   },
   {
    "duration": 2,
    "start_time": "2023-03-17T20:19:18.221Z"
   },
   {
    "duration": 3,
    "start_time": "2023-03-17T20:20:00.124Z"
   },
   {
    "duration": 209,
    "start_time": "2023-03-17T20:20:00.383Z"
   },
   {
    "duration": 3,
    "start_time": "2023-03-17T20:20:23.671Z"
   },
   {
    "duration": 91,
    "start_time": "2023-03-17T20:20:24.048Z"
   },
   {
    "duration": 4,
    "start_time": "2023-03-17T20:20:30.990Z"
   },
   {
    "duration": 6,
    "start_time": "2023-03-17T20:20:50.187Z"
   },
   {
    "duration": 126,
    "start_time": "2023-03-17T20:21:15.230Z"
   },
   {
    "duration": 4,
    "start_time": "2023-03-17T20:21:25.484Z"
   },
   {
    "duration": 3,
    "start_time": "2023-03-17T20:21:38.267Z"
   },
   {
    "duration": 4,
    "start_time": "2023-03-17T20:21:42.547Z"
   },
   {
    "duration": 7,
    "start_time": "2023-03-17T20:21:44.634Z"
   },
   {
    "duration": 4,
    "start_time": "2023-03-17T20:21:48.581Z"
   },
   {
    "duration": 5,
    "start_time": "2023-03-17T20:21:50.351Z"
   },
   {
    "duration": 3,
    "start_time": "2023-03-17T20:22:35.389Z"
   },
   {
    "duration": 4,
    "start_time": "2023-03-17T20:22:40.293Z"
   },
   {
    "duration": 5,
    "start_time": "2023-03-17T20:22:44.542Z"
   },
   {
    "duration": 9,
    "start_time": "2023-03-17T20:22:58.187Z"
   },
   {
    "duration": 4,
    "start_time": "2023-03-17T20:23:01.729Z"
   },
   {
    "duration": 4,
    "start_time": "2023-03-17T20:23:23.731Z"
   },
   {
    "duration": 6,
    "start_time": "2023-03-17T20:23:26.775Z"
   },
   {
    "duration": 1134,
    "start_time": "2023-03-17T20:23:36.798Z"
   },
   {
    "duration": 38,
    "start_time": "2023-03-17T20:23:37.935Z"
   },
   {
    "duration": 11,
    "start_time": "2023-03-17T20:23:37.975Z"
   },
   {
    "duration": 19,
    "start_time": "2023-03-17T20:23:37.989Z"
   },
   {
    "duration": 9,
    "start_time": "2023-03-17T20:23:38.010Z"
   },
   {
    "duration": 6,
    "start_time": "2023-03-17T20:23:38.020Z"
   },
   {
    "duration": 191,
    "start_time": "2023-03-17T20:23:38.028Z"
   },
   {
    "duration": 5,
    "start_time": "2023-03-17T20:23:50.694Z"
   },
   {
    "duration": 4,
    "start_time": "2023-03-17T20:23:59.061Z"
   },
   {
    "duration": 5,
    "start_time": "2023-03-17T20:24:04.347Z"
   },
   {
    "duration": 9,
    "start_time": "2023-03-17T20:28:07.118Z"
   },
   {
    "duration": 75,
    "start_time": "2023-03-17T20:28:14.257Z"
   },
   {
    "duration": 8,
    "start_time": "2023-03-17T20:28:17.114Z"
   },
   {
    "duration": 22,
    "start_time": "2023-03-17T20:29:13.715Z"
   },
   {
    "duration": 14,
    "start_time": "2023-03-17T20:29:34.994Z"
   },
   {
    "duration": 16,
    "start_time": "2023-03-17T20:29:44.274Z"
   },
   {
    "duration": 13,
    "start_time": "2023-03-17T20:29:53.000Z"
   },
   {
    "duration": 15,
    "start_time": "2023-03-17T20:30:10.998Z"
   },
   {
    "duration": 21,
    "start_time": "2023-03-17T20:30:17.130Z"
   },
   {
    "duration": 5,
    "start_time": "2023-03-17T20:30:30.718Z"
   },
   {
    "duration": 4,
    "start_time": "2023-03-17T20:30:57.458Z"
   },
   {
    "duration": 5,
    "start_time": "2023-03-17T20:31:19.853Z"
   },
   {
    "duration": 6,
    "start_time": "2023-03-17T20:31:25.029Z"
   },
   {
    "duration": 3,
    "start_time": "2023-03-17T20:33:51.714Z"
   },
   {
    "duration": 3,
    "start_time": "2023-03-17T20:39:05.698Z"
   },
   {
    "duration": 30,
    "start_time": "2023-03-17T20:39:20.251Z"
   },
   {
    "duration": 13,
    "start_time": "2023-03-17T20:39:20.894Z"
   },
   {
    "duration": 1297,
    "start_time": "2023-03-17T20:39:27.703Z"
   },
   {
    "duration": 35,
    "start_time": "2023-03-17T20:39:29.003Z"
   },
   {
    "duration": 19,
    "start_time": "2023-03-17T20:39:29.041Z"
   },
   {
    "duration": 36,
    "start_time": "2023-03-17T20:39:29.062Z"
   },
   {
    "duration": 6,
    "start_time": "2023-03-17T20:39:29.099Z"
   },
   {
    "duration": 17,
    "start_time": "2023-03-17T20:39:29.107Z"
   },
   {
    "duration": 6,
    "start_time": "2023-03-17T20:39:29.133Z"
   },
   {
    "duration": 35,
    "start_time": "2023-03-17T20:39:29.142Z"
   },
   {
    "duration": 228,
    "start_time": "2023-03-17T20:39:29.180Z"
   },
   {
    "duration": 5,
    "start_time": "2023-03-17T20:39:57.515Z"
   },
   {
    "duration": 19,
    "start_time": "2023-03-17T20:39:57.940Z"
   },
   {
    "duration": 65,
    "start_time": "2023-03-17T20:41:46.465Z"
   },
   {
    "duration": 13,
    "start_time": "2023-03-17T20:42:13.451Z"
   },
   {
    "duration": 4,
    "start_time": "2023-03-17T20:45:21.291Z"
   },
   {
    "duration": 13,
    "start_time": "2023-03-17T20:49:11.227Z"
   },
   {
    "duration": 11,
    "start_time": "2023-03-17T20:49:46.062Z"
   },
   {
    "duration": 9,
    "start_time": "2023-03-17T20:50:23.944Z"
   },
   {
    "duration": 11,
    "start_time": "2023-03-17T20:50:36.961Z"
   },
   {
    "duration": 7,
    "start_time": "2023-03-17T20:50:38.593Z"
   },
   {
    "duration": 5,
    "start_time": "2023-03-17T20:50:39.091Z"
   },
   {
    "duration": 4,
    "start_time": "2023-03-17T20:50:40.984Z"
   },
   {
    "duration": 62,
    "start_time": "2023-03-17T20:50:41.569Z"
   },
   {
    "duration": 1080,
    "start_time": "2023-03-17T20:52:08.186Z"
   },
   {
    "duration": 29,
    "start_time": "2023-03-17T20:52:09.268Z"
   },
   {
    "duration": 10,
    "start_time": "2023-03-17T20:52:09.299Z"
   },
   {
    "duration": 16,
    "start_time": "2023-03-17T20:52:09.311Z"
   },
   {
    "duration": 5,
    "start_time": "2023-03-17T20:52:09.330Z"
   },
   {
    "duration": 16,
    "start_time": "2023-03-17T20:52:09.337Z"
   },
   {
    "duration": 6,
    "start_time": "2023-03-17T20:52:09.355Z"
   },
   {
    "duration": 89,
    "start_time": "2023-03-17T20:52:09.363Z"
   },
   {
    "duration": 81,
    "start_time": "2023-03-17T20:52:09.454Z"
   },
   {
    "duration": 12,
    "start_time": "2023-03-17T20:52:09.537Z"
   },
   {
    "duration": 78,
    "start_time": "2023-03-17T20:52:09.554Z"
   },
   {
    "duration": 9,
    "start_time": "2023-03-17T20:52:09.635Z"
   },
   {
    "duration": 8,
    "start_time": "2023-03-17T20:52:53.554Z"
   },
   {
    "duration": 1123,
    "start_time": "2023-03-17T20:53:17.228Z"
   },
   {
    "duration": 30,
    "start_time": "2023-03-17T20:53:18.352Z"
   },
   {
    "duration": 11,
    "start_time": "2023-03-17T20:53:18.383Z"
   },
   {
    "duration": 18,
    "start_time": "2023-03-17T20:53:18.395Z"
   },
   {
    "duration": 6,
    "start_time": "2023-03-17T20:53:18.415Z"
   },
   {
    "duration": 16,
    "start_time": "2023-03-17T20:53:18.423Z"
   },
   {
    "duration": 4,
    "start_time": "2023-03-17T20:53:18.440Z"
   },
   {
    "duration": 184,
    "start_time": "2023-03-17T20:53:18.446Z"
   },
   {
    "duration": 5,
    "start_time": "2023-03-17T20:53:18.636Z"
   },
   {
    "duration": 16,
    "start_time": "2023-03-17T20:53:18.643Z"
   },
   {
    "duration": 8,
    "start_time": "2023-03-17T20:53:18.662Z"
   },
   {
    "duration": 111,
    "start_time": "2023-03-17T20:53:18.730Z"
   },
   {
    "duration": 110,
    "start_time": "2023-03-17T20:53:43.270Z"
   },
   {
    "duration": 281,
    "start_time": "2023-03-17T20:54:00.758Z"
   },
   {
    "duration": 1201,
    "start_time": "2023-03-17T20:54:37.373Z"
   },
   {
    "duration": 29,
    "start_time": "2023-03-17T20:54:38.576Z"
   },
   {
    "duration": 11,
    "start_time": "2023-03-17T20:54:38.607Z"
   },
   {
    "duration": 22,
    "start_time": "2023-03-17T20:54:38.619Z"
   },
   {
    "duration": 16,
    "start_time": "2023-03-17T20:54:38.644Z"
   },
   {
    "duration": 17,
    "start_time": "2023-03-17T20:54:38.661Z"
   },
   {
    "duration": 4,
    "start_time": "2023-03-17T20:54:38.680Z"
   },
   {
    "duration": 55,
    "start_time": "2023-03-17T20:54:38.686Z"
   },
   {
    "duration": 109,
    "start_time": "2023-03-17T20:54:38.743Z"
   },
   {
    "duration": 9,
    "start_time": "2023-03-17T20:54:38.854Z"
   },
   {
    "duration": 466,
    "start_time": "2023-03-17T20:54:38.865Z"
   },
   {
    "duration": 1459,
    "start_time": "2023-03-17T20:55:09.849Z"
   },
   {
    "duration": 32,
    "start_time": "2023-03-17T20:55:11.311Z"
   },
   {
    "duration": 14,
    "start_time": "2023-03-17T20:55:11.346Z"
   },
   {
    "duration": 33,
    "start_time": "2023-03-17T20:55:11.363Z"
   },
   {
    "duration": 48,
    "start_time": "2023-03-17T20:55:11.399Z"
   },
   {
    "duration": 57,
    "start_time": "2023-03-17T20:55:11.450Z"
   },
   {
    "duration": 32,
    "start_time": "2023-03-17T20:55:11.509Z"
   },
   {
    "duration": 53,
    "start_time": "2023-03-17T20:55:11.544Z"
   },
   {
    "duration": 7,
    "start_time": "2023-03-17T20:55:11.730Z"
   },
   {
    "duration": 38,
    "start_time": "2023-03-17T20:55:11.740Z"
   },
   {
    "duration": 50,
    "start_time": "2023-03-17T20:55:11.781Z"
   },
   {
    "duration": 117,
    "start_time": "2023-03-17T20:55:11.833Z"
   },
   {
    "duration": 3,
    "start_time": "2023-03-17T20:56:56.167Z"
   },
   {
    "duration": 129,
    "start_time": "2023-03-17T20:58:21.981Z"
   },
   {
    "duration": 26,
    "start_time": "2023-03-17T20:58:34.106Z"
   },
   {
    "duration": 16,
    "start_time": "2023-03-17T20:58:44.052Z"
   },
   {
    "duration": 11,
    "start_time": "2023-03-17T20:59:17.909Z"
   },
   {
    "duration": 10,
    "start_time": "2023-03-17T21:00:04.117Z"
   },
   {
    "duration": 13,
    "start_time": "2023-03-17T21:00:10.399Z"
   },
   {
    "duration": 4,
    "start_time": "2023-03-17T21:00:22.106Z"
   },
   {
    "duration": 7,
    "start_time": "2023-03-17T21:00:22.409Z"
   },
   {
    "duration": 1162,
    "start_time": "2023-03-18T13:03:59.885Z"
   },
   {
    "duration": 122,
    "start_time": "2023-03-18T13:04:01.049Z"
   },
   {
    "duration": 20,
    "start_time": "2023-03-18T13:04:01.174Z"
   },
   {
    "duration": 45,
    "start_time": "2023-03-18T13:04:01.197Z"
   },
   {
    "duration": 15,
    "start_time": "2023-03-18T13:04:01.244Z"
   },
   {
    "duration": 44,
    "start_time": "2023-03-18T13:04:01.263Z"
   },
   {
    "duration": 30,
    "start_time": "2023-03-18T13:04:01.310Z"
   },
   {
    "duration": 49,
    "start_time": "2023-03-18T13:04:01.343Z"
   },
   {
    "duration": 89,
    "start_time": "2023-03-18T13:04:01.394Z"
   },
   {
    "duration": 28,
    "start_time": "2023-03-18T13:04:01.562Z"
   },
   {
    "duration": 170,
    "start_time": "2023-03-18T13:04:01.594Z"
   },
   {
    "duration": 31,
    "start_time": "2023-03-18T13:04:01.768Z"
   },
   {
    "duration": 15,
    "start_time": "2023-03-18T13:04:01.870Z"
   },
   {
    "duration": 94,
    "start_time": "2023-03-18T13:04:01.892Z"
   },
   {
    "duration": 7,
    "start_time": "2023-03-18T13:04:56.383Z"
   },
   {
    "duration": 150,
    "start_time": "2023-03-18T13:04:59.184Z"
   },
   {
    "duration": 13,
    "start_time": "2023-03-18T13:05:00.539Z"
   },
   {
    "duration": 15,
    "start_time": "2023-03-18T13:05:01.013Z"
   },
   {
    "duration": 6,
    "start_time": "2023-03-18T13:05:01.464Z"
   },
   {
    "duration": 10,
    "start_time": "2023-03-18T13:05:01.949Z"
   },
   {
    "duration": 5,
    "start_time": "2023-03-18T13:05:13.680Z"
   },
   {
    "duration": 5,
    "start_time": "2023-03-18T13:05:14.649Z"
   },
   {
    "duration": 3,
    "start_time": "2023-03-18T13:05:17.221Z"
   },
   {
    "duration": 14,
    "start_time": "2023-03-18T13:05:18.255Z"
   },
   {
    "duration": 12,
    "start_time": "2023-03-18T13:05:23.544Z"
   },
   {
    "duration": 5,
    "start_time": "2023-03-18T13:05:25.810Z"
   },
   {
    "duration": 6,
    "start_time": "2023-03-18T13:05:26.485Z"
   },
   {
    "duration": 3,
    "start_time": "2023-03-18T13:05:28.288Z"
   },
   {
    "duration": 8,
    "start_time": "2023-03-18T13:05:28.816Z"
   },
   {
    "duration": 4,
    "start_time": "2023-03-18T13:05:29.410Z"
   },
   {
    "duration": 11,
    "start_time": "2023-03-18T13:05:29.983Z"
   },
   {
    "duration": 152,
    "start_time": "2023-03-18T13:08:12.121Z"
   },
   {
    "duration": 1165,
    "start_time": "2023-03-18T13:08:36.374Z"
   },
   {
    "duration": 47,
    "start_time": "2023-03-18T13:08:37.542Z"
   },
   {
    "duration": 16,
    "start_time": "2023-03-18T13:08:37.592Z"
   },
   {
    "duration": 16,
    "start_time": "2023-03-18T13:08:37.611Z"
   },
   {
    "duration": 7,
    "start_time": "2023-03-18T13:08:37.629Z"
   },
   {
    "duration": 13,
    "start_time": "2023-03-18T13:08:37.638Z"
   },
   {
    "duration": 10,
    "start_time": "2023-03-18T13:08:37.662Z"
   },
   {
    "duration": 35,
    "start_time": "2023-03-18T13:08:37.676Z"
   },
   {
    "duration": 29,
    "start_time": "2023-03-18T13:08:37.778Z"
   },
   {
    "duration": 26,
    "start_time": "2023-03-18T13:08:37.869Z"
   },
   {
    "duration": 8,
    "start_time": "2023-03-18T13:08:37.897Z"
   },
   {
    "duration": 174,
    "start_time": "2023-03-18T13:08:37.908Z"
   },
   {
    "duration": 11,
    "start_time": "2023-03-18T13:08:38.098Z"
   },
   {
    "duration": 86,
    "start_time": "2023-03-18T13:08:38.112Z"
   },
   {
    "duration": 384,
    "start_time": "2023-03-18T13:08:38.289Z"
   },
   {
    "duration": 16,
    "start_time": "2023-03-18T13:13:10.718Z"
   },
   {
    "duration": 4,
    "start_time": "2023-03-18T13:13:27.642Z"
   },
   {
    "duration": 21,
    "start_time": "2023-03-18T13:13:28.559Z"
   },
   {
    "duration": 66,
    "start_time": "2023-03-18T13:13:45.394Z"
   },
   {
    "duration": 42,
    "start_time": "2023-03-18T13:13:53.425Z"
   },
   {
    "duration": 8,
    "start_time": "2023-03-18T13:17:29.810Z"
   },
   {
    "duration": 12,
    "start_time": "2023-03-18T13:17:56.688Z"
   },
   {
    "duration": 16,
    "start_time": "2023-03-18T13:18:17.496Z"
   },
   {
    "duration": 4,
    "start_time": "2023-03-18T13:18:51.383Z"
   },
   {
    "duration": 5,
    "start_time": "2023-03-18T13:20:22.128Z"
   },
   {
    "duration": 14,
    "start_time": "2023-03-18T13:21:42.028Z"
   },
   {
    "duration": 7,
    "start_time": "2023-03-18T13:22:44.607Z"
   },
   {
    "duration": 7,
    "start_time": "2023-03-18T13:22:49.229Z"
   },
   {
    "duration": 8,
    "start_time": "2023-03-18T13:22:56.803Z"
   },
   {
    "duration": 4,
    "start_time": "2023-03-18T13:23:01.981Z"
   },
   {
    "duration": 7,
    "start_time": "2023-03-18T13:23:02.443Z"
   },
   {
    "duration": 5,
    "start_time": "2023-03-18T13:24:44.127Z"
   },
   {
    "duration": 4,
    "start_time": "2023-03-18T13:26:19.740Z"
   },
   {
    "duration": 63,
    "start_time": "2023-03-19T00:00:17.265Z"
   },
   {
    "duration": 1078,
    "start_time": "2023-03-19T00:00:23.135Z"
   },
   {
    "duration": 98,
    "start_time": "2023-03-19T00:00:24.215Z"
   },
   {
    "duration": 13,
    "start_time": "2023-03-19T00:00:24.318Z"
   },
   {
    "duration": 27,
    "start_time": "2023-03-19T00:00:24.333Z"
   },
   {
    "duration": 7,
    "start_time": "2023-03-19T00:00:24.362Z"
   },
   {
    "duration": 127,
    "start_time": "2023-03-19T00:00:24.370Z"
   },
   {
    "duration": 15,
    "start_time": "2023-03-19T00:00:24.505Z"
   },
   {
    "duration": 9,
    "start_time": "2023-03-19T00:00:24.579Z"
   },
   {
    "duration": 137,
    "start_time": "2023-03-19T00:00:24.590Z"
   },
   {
    "duration": 61,
    "start_time": "2023-03-19T00:00:24.729Z"
   },
   {
    "duration": 95,
    "start_time": "2023-03-19T00:00:24.794Z"
   },
   {
    "duration": 3,
    "start_time": "2023-03-19T00:11:31.198Z"
   },
   {
    "duration": 4,
    "start_time": "2023-03-19T00:11:36.854Z"
   },
   {
    "duration": 4,
    "start_time": "2023-03-19T00:12:45.171Z"
   },
   {
    "duration": 12,
    "start_time": "2023-03-19T00:13:49.890Z"
   },
   {
    "duration": 29,
    "start_time": "2023-03-19T00:14:01.571Z"
   },
   {
    "duration": 1021,
    "start_time": "2023-03-19T00:14:07.702Z"
   },
   {
    "duration": 27,
    "start_time": "2023-03-19T00:14:08.725Z"
   },
   {
    "duration": 10,
    "start_time": "2023-03-19T00:14:08.753Z"
   },
   {
    "duration": 49,
    "start_time": "2023-03-19T00:14:08.764Z"
   },
   {
    "duration": 4,
    "start_time": "2023-03-19T00:14:08.815Z"
   },
   {
    "duration": 11,
    "start_time": "2023-03-19T00:14:08.821Z"
   },
   {
    "duration": 55,
    "start_time": "2023-03-19T00:14:08.834Z"
   },
   {
    "duration": 128,
    "start_time": "2023-03-19T00:14:08.891Z"
   },
   {
    "duration": 5,
    "start_time": "2023-03-19T00:14:09.021Z"
   },
   {
    "duration": 59,
    "start_time": "2023-03-19T00:14:09.027Z"
   },
   {
    "duration": 109,
    "start_time": "2023-03-19T00:14:09.088Z"
   },
   {
    "duration": 17,
    "start_time": "2023-03-19T00:14:09.199Z"
   },
   {
    "duration": 10,
    "start_time": "2023-03-19T00:14:09.218Z"
   },
   {
    "duration": 13,
    "start_time": "2023-03-19T00:14:09.231Z"
   },
   {
    "duration": 10,
    "start_time": "2023-03-19T00:14:21.106Z"
   },
   {
    "duration": 10,
    "start_time": "2023-03-19T00:14:49.753Z"
   },
   {
    "duration": 10,
    "start_time": "2023-03-19T00:15:00.001Z"
   },
   {
    "duration": 12,
    "start_time": "2023-03-19T00:15:38.056Z"
   },
   {
    "duration": 982,
    "start_time": "2023-03-19T00:15:48.850Z"
   },
   {
    "duration": 27,
    "start_time": "2023-03-19T00:15:49.833Z"
   },
   {
    "duration": 10,
    "start_time": "2023-03-19T00:15:49.862Z"
   },
   {
    "duration": 38,
    "start_time": "2023-03-19T00:15:49.886Z"
   },
   {
    "duration": 4,
    "start_time": "2023-03-19T00:15:49.925Z"
   },
   {
    "duration": 18,
    "start_time": "2023-03-19T00:15:49.931Z"
   },
   {
    "duration": 110,
    "start_time": "2023-03-19T00:15:49.987Z"
   },
   {
    "duration": 18,
    "start_time": "2023-03-19T00:15:50.098Z"
   },
   {
    "duration": 67,
    "start_time": "2023-03-19T00:15:50.118Z"
   },
   {
    "duration": 114,
    "start_time": "2023-03-19T00:15:50.187Z"
   },
   {
    "duration": 103,
    "start_time": "2023-03-19T00:15:50.302Z"
   },
   {
    "duration": 8,
    "start_time": "2023-03-19T00:15:50.406Z"
   },
   {
    "duration": 9,
    "start_time": "2023-03-19T00:15:50.415Z"
   },
   {
    "duration": 76,
    "start_time": "2023-03-19T00:15:50.425Z"
   },
   {
    "duration": 8,
    "start_time": "2023-03-19T00:18:11.872Z"
   },
   {
    "duration": 106,
    "start_time": "2023-03-19T00:18:27.970Z"
   },
   {
    "duration": 10,
    "start_time": "2023-03-19T00:18:45.605Z"
   },
   {
    "duration": 1047,
    "start_time": "2023-03-19T00:18:50.886Z"
   },
   {
    "duration": 28,
    "start_time": "2023-03-19T00:18:51.935Z"
   },
   {
    "duration": 10,
    "start_time": "2023-03-19T00:18:51.964Z"
   },
   {
    "duration": 53,
    "start_time": "2023-03-19T00:18:51.975Z"
   },
   {
    "duration": 4,
    "start_time": "2023-03-19T00:18:52.030Z"
   },
   {
    "duration": 10,
    "start_time": "2023-03-19T00:18:52.035Z"
   },
   {
    "duration": 52,
    "start_time": "2023-03-19T00:18:52.047Z"
   },
   {
    "duration": 111,
    "start_time": "2023-03-19T00:18:52.105Z"
   },
   {
    "duration": 11,
    "start_time": "2023-03-19T00:18:52.217Z"
   },
   {
    "duration": 68,
    "start_time": "2023-03-19T00:18:52.230Z"
   },
   {
    "duration": 9,
    "start_time": "2023-03-19T00:18:52.300Z"
   },
   {
    "duration": 114,
    "start_time": "2023-03-19T00:18:52.310Z"
   },
   {
    "duration": 60,
    "start_time": "2023-03-19T00:18:52.425Z"
   },
   {
    "duration": 114,
    "start_time": "2023-03-19T00:18:52.488Z"
   },
   {
    "duration": 10,
    "start_time": "2023-03-19T00:18:52.604Z"
   },
   {
    "duration": 194,
    "start_time": "2023-03-19T00:18:52.617Z"
   },
   {
    "duration": 1021,
    "start_time": "2023-03-19T00:19:42.005Z"
   },
   {
    "duration": 28,
    "start_time": "2023-03-19T00:19:43.028Z"
   },
   {
    "duration": 11,
    "start_time": "2023-03-19T00:19:43.057Z"
   },
   {
    "duration": 24,
    "start_time": "2023-03-19T00:19:43.069Z"
   },
   {
    "duration": 29,
    "start_time": "2023-03-19T00:19:43.095Z"
   },
   {
    "duration": 15,
    "start_time": "2023-03-19T00:19:43.126Z"
   },
   {
    "duration": 154,
    "start_time": "2023-03-19T00:19:43.142Z"
   },
   {
    "duration": 16,
    "start_time": "2023-03-19T00:19:43.298Z"
   },
   {
    "duration": 9,
    "start_time": "2023-03-19T00:19:43.316Z"
   },
   {
    "duration": 72,
    "start_time": "2023-03-19T00:19:43.327Z"
   },
   {
    "duration": 118,
    "start_time": "2023-03-19T00:19:43.402Z"
   },
   {
    "duration": 6,
    "start_time": "2023-03-19T00:19:43.522Z"
   },
   {
    "duration": 60,
    "start_time": "2023-03-19T00:19:43.530Z"
   },
   {
    "duration": 116,
    "start_time": "2023-03-19T00:19:43.592Z"
   },
   {
    "duration": 11,
    "start_time": "2023-03-19T00:19:43.710Z"
   },
   {
    "duration": 168,
    "start_time": "2023-03-19T00:19:43.722Z"
   },
   {
    "duration": 1027,
    "start_time": "2023-03-19T00:33:29.179Z"
   },
   {
    "duration": 27,
    "start_time": "2023-03-19T00:33:30.208Z"
   },
   {
    "duration": 9,
    "start_time": "2023-03-19T00:33:30.237Z"
   },
   {
    "duration": 22,
    "start_time": "2023-03-19T00:33:30.247Z"
   },
   {
    "duration": 39,
    "start_time": "2023-03-19T00:33:30.270Z"
   },
   {
    "duration": 21,
    "start_time": "2023-03-19T00:33:30.310Z"
   },
   {
    "duration": 173,
    "start_time": "2023-03-19T00:33:30.333Z"
   },
   {
    "duration": 41,
    "start_time": "2023-03-19T00:33:30.507Z"
   },
   {
    "duration": 56,
    "start_time": "2023-03-19T00:33:30.550Z"
   },
   {
    "duration": 93,
    "start_time": "2023-03-19T00:33:30.611Z"
   },
   {
    "duration": 80,
    "start_time": "2023-03-19T00:33:30.711Z"
   },
   {
    "duration": 122,
    "start_time": "2023-03-19T00:33:30.795Z"
   },
   {
    "duration": 41,
    "start_time": "2023-03-19T00:33:30.919Z"
   },
   {
    "duration": 137,
    "start_time": "2023-03-19T00:33:30.963Z"
   },
   {
    "duration": 54,
    "start_time": "2023-03-19T00:33:31.102Z"
   },
   {
    "duration": 143,
    "start_time": "2023-03-19T00:33:31.158Z"
   },
   {
    "duration": 1049,
    "start_time": "2023-03-19T00:33:58.875Z"
   },
   {
    "duration": 27,
    "start_time": "2023-03-19T00:33:59.926Z"
   },
   {
    "duration": 10,
    "start_time": "2023-03-19T00:33:59.954Z"
   },
   {
    "duration": 39,
    "start_time": "2023-03-19T00:33:59.966Z"
   },
   {
    "duration": 6,
    "start_time": "2023-03-19T00:34:00.014Z"
   },
   {
    "duration": 31,
    "start_time": "2023-03-19T00:34:00.021Z"
   },
   {
    "duration": 155,
    "start_time": "2023-03-19T00:34:00.054Z"
   },
   {
    "duration": 20,
    "start_time": "2023-03-19T00:34:00.210Z"
   },
   {
    "duration": 53,
    "start_time": "2023-03-19T00:34:00.232Z"
   },
   {
    "duration": 103,
    "start_time": "2023-03-19T00:34:00.286Z"
   },
   {
    "duration": 128,
    "start_time": "2023-03-19T00:34:00.390Z"
   },
   {
    "duration": 13,
    "start_time": "2023-03-19T00:34:00.519Z"
   },
   {
    "duration": 15,
    "start_time": "2023-03-19T00:34:00.533Z"
   },
   {
    "duration": 49,
    "start_time": "2023-03-19T00:34:00.551Z"
   },
   {
    "duration": 85,
    "start_time": "2023-03-19T00:34:00.602Z"
   },
   {
    "duration": 114,
    "start_time": "2023-03-19T00:34:00.688Z"
   },
   {
    "duration": 1075,
    "start_time": "2023-03-19T15:50:59.536Z"
   },
   {
    "duration": 106,
    "start_time": "2023-03-19T15:51:00.613Z"
   },
   {
    "duration": 10,
    "start_time": "2023-03-19T15:51:00.720Z"
   },
   {
    "duration": 55,
    "start_time": "2023-03-19T15:51:00.732Z"
   },
   {
    "duration": 17,
    "start_time": "2023-03-19T15:51:00.789Z"
   },
   {
    "duration": 30,
    "start_time": "2023-03-19T15:51:00.807Z"
   },
   {
    "duration": 100,
    "start_time": "2023-03-19T15:51:00.841Z"
   },
   {
    "duration": 94,
    "start_time": "2023-03-19T15:51:00.945Z"
   },
   {
    "duration": 20,
    "start_time": "2023-03-19T15:51:01.042Z"
   },
   {
    "duration": 99,
    "start_time": "2023-03-19T15:51:01.064Z"
   },
   {
    "duration": 175,
    "start_time": "2023-03-19T15:51:01.165Z"
   },
   {
    "duration": 34,
    "start_time": "2023-03-19T15:51:01.342Z"
   },
   {
    "duration": 34,
    "start_time": "2023-03-19T15:51:01.377Z"
   },
   {
    "duration": 40,
    "start_time": "2023-03-19T15:51:01.415Z"
   },
   {
    "duration": 97,
    "start_time": "2023-03-19T15:51:01.457Z"
   },
   {
    "duration": 188,
    "start_time": "2023-03-19T15:51:01.555Z"
   },
   {
    "duration": 1020,
    "start_time": "2023-03-19T15:51:58.798Z"
   },
   {
    "duration": 29,
    "start_time": "2023-03-19T15:51:59.820Z"
   },
   {
    "duration": 10,
    "start_time": "2023-03-19T15:51:59.850Z"
   },
   {
    "duration": 14,
    "start_time": "2023-03-19T15:51:59.862Z"
   },
   {
    "duration": 5,
    "start_time": "2023-03-19T15:51:59.878Z"
   },
   {
    "duration": 57,
    "start_time": "2023-03-19T15:51:59.884Z"
   },
   {
    "duration": 5,
    "start_time": "2023-03-19T15:51:59.943Z"
   },
   {
    "duration": 94,
    "start_time": "2023-03-19T15:51:59.949Z"
   },
   {
    "duration": 3,
    "start_time": "2023-03-19T15:52:00.045Z"
   },
   {
    "duration": 189,
    "start_time": "2023-03-19T15:52:00.051Z"
   },
   {
    "duration": 5,
    "start_time": "2023-03-19T15:52:00.242Z"
   },
   {
    "duration": 11,
    "start_time": "2023-03-19T15:52:00.248Z"
   },
   {
    "duration": 81,
    "start_time": "2023-03-19T15:52:00.260Z"
   },
   {
    "duration": 108,
    "start_time": "2023-03-19T15:52:00.345Z"
   },
   {
    "duration": 93,
    "start_time": "2023-03-19T15:52:00.455Z"
   },
   {
    "duration": 95,
    "start_time": "2023-03-19T15:52:00.550Z"
   }
  ],
  "kernelspec": {
   "display_name": "Python 3 (ipykernel)",
   "language": "python",
   "name": "python3"
  },
  "language_info": {
   "codemirror_mode": {
    "name": "ipython",
    "version": 3
   },
   "file_extension": ".py",
   "mimetype": "text/x-python",
   "name": "python",
   "nbconvert_exporter": "python",
   "pygments_lexer": "ipython3",
   "version": "3.10.9"
  },
  "toc": {
   "base_numbering": 1,
   "nav_menu": {},
   "number_sections": true,
   "sideBar": true,
   "skip_h1_title": true,
   "title_cell": "Содержание",
   "title_sidebar": "Contents",
   "toc_cell": true,
   "toc_position": {},
   "toc_section_display": true,
   "toc_window_display": true
  }
 },
 "nbformat": 4,
 "nbformat_minor": 2
}
