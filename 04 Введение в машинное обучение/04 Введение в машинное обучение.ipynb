{
 "cells": [
  {
   "cell_type": "markdown",
   "metadata": {},
   "source": [
    "# Рекомендация тарифов"
   ]
  },
  {
   "cell_type": "markdown",
   "metadata": {},
   "source": [
    "<div class=\"alert alert-info\" style=\"border:solid purple 2px; padding: 20px; background-color: #e6d2f2; color: #4b0082;\">\n",
    "\n",
    "**Цель исследования:** построить модель с наибольшим значением accuracy.\n",
    "    \n",
    "**Задачи исследования:**\n",
    "- изучить данные и определить признаки и целевой признак\n",
    "- разделить данные на обучающую, валидационную и тестовую выборки\n",
    "- построить разные модели, меняя гиперпараметры\n",
    "- найти модель с наибольшим значением accuracy\n",
    "- проверить "
   ]
  },
  {
   "cell_type": "markdown",
   "metadata": {},
   "source": [
    "## Откройте и изучите файл"
   ]
  },
  {
   "cell_type": "code",
   "execution_count": 1,
   "metadata": {},
   "outputs": [],
   "source": [
    "import pandas as pd\n",
    "from sklearn.model_selection import train_test_split\n",
    "from sklearn.tree import DecisionTreeClassifier\n",
    "from sklearn.ensemble import RandomForestClassifier\n",
    "from sklearn.metrics import accuracy_score\n",
    "from sklearn.linear_model import LogisticRegression"
   ]
  },
  {
   "cell_type": "markdown",
   "metadata": {},
   "source": [
    "<div class=\"alert alert-info\" style=\"border:solid purple 2px; padding: 20px; background-color: #e6d2f2; color: #4b0082;\">\n",
    "\n",
    "Импортирую все нужные в исследовании библиотеки."
   ]
  },
  {
   "cell_type": "code",
   "execution_count": 2,
   "metadata": {},
   "outputs": [],
   "source": [
    "df = pd.read_csv('/datasets/users_behavior.csv')"
   ]
  },
  {
   "cell_type": "markdown",
   "metadata": {},
   "source": [
    "<div class=\"alert alert-info\" style=\"border:solid purple 2px; padding: 20px; background-color: #e6d2f2; color: #4b0082;\">\n",
    "\n",
    "Открою файл и сохраню его в переменную df."
   ]
  },
  {
   "cell_type": "code",
   "execution_count": 3,
   "metadata": {},
   "outputs": [
    {
     "name": "stdout",
     "output_type": "stream",
     "text": [
      "<class 'pandas.core.frame.DataFrame'>\n",
      "RangeIndex: 3214 entries, 0 to 3213\n",
      "Data columns (total 5 columns):\n",
      " #   Column    Non-Null Count  Dtype  \n",
      "---  ------    --------------  -----  \n",
      " 0   calls     3214 non-null   float64\n",
      " 1   minutes   3214 non-null   float64\n",
      " 2   messages  3214 non-null   float64\n",
      " 3   mb_used   3214 non-null   float64\n",
      " 4   is_ultra  3214 non-null   int64  \n",
      "dtypes: float64(4), int64(1)\n",
      "memory usage: 125.7 KB\n"
     ]
    }
   ],
   "source": [
    "df.info()"
   ]
  },
  {
   "cell_type": "markdown",
   "metadata": {},
   "source": [
    "<div class=\"alert alert-info\" style=\"border:solid purple 2px; padding: 20px; background-color: #e6d2f2; color: #4b0082;\">\n",
    "\n",
    "Изучу датасет. Общий объём данных - 3214 строк."
   ]
  },
  {
   "cell_type": "markdown",
   "metadata": {},
   "source": [
    "<div class=\"alert alert-info\" style=\"border:solid purple 2px; padding: 20px; background-color: #e6d2f2; color: #4b0082;\">\n",
    "\n",
    "В датасете есть пять столбцов - количество звонков, суммарная длительность звонков в минутах, количество sms-сообщений, израсходованный интернет-трафик в Мб и каким тарифом пользовался клиент в течение месяца.\\\n",
    "Моя задача - построить модель для задачи классификации, которая выберет подходящий тариф. Это значит, что целевой признак - 'is_ultra'."
   ]
  },
  {
   "cell_type": "code",
   "execution_count": 4,
   "metadata": {},
   "outputs": [],
   "source": [
    "features = df.drop('is_ultra', axis=1)\n",
    "target = df['is_ultra']"
   ]
  },
  {
   "cell_type": "markdown",
   "metadata": {},
   "source": [
    "<div class=\"alert alert-info\" style=\"border:solid purple 2px; padding: 20px; background-color: #e6d2f2; color: #4b0082;\">\n",
    "\n",
    "Сохраню признаки и целевой признак в переменные features и target."
   ]
  },
  {
   "cell_type": "markdown",
   "metadata": {},
   "source": [
    "<div class=\"alert alert-info\" style=\"border:solid purple 2px; padding: 20px; background-color: #e6d2f2; color: #4b0082;\">\n",
    "\n",
    "**Вывод:** я изучила данные и выделила признаки и целевой признак."
   ]
  },
  {
   "cell_type": "markdown",
   "metadata": {},
   "source": [
    "## Разбейте данные на выборки"
   ]
  },
  {
   "cell_type": "markdown",
   "metadata": {},
   "source": [
    "<div class=\"alert alert-info\" style=\"border:solid purple 2px; padding: 20px; background-color: #e6d2f2; color: #4b0082;\">\n",
    "\n",
    "Нужно разделить данные на три выборки: тренировочную, валидационную и тестовую. Тренировочная выборка составит 60% от всех данных, валидационная - 20%, тестовая - 20%."
   ]
  },
  {
   "cell_type": "code",
   "execution_count": 5,
   "metadata": {},
   "outputs": [],
   "source": [
    "features_train_valid, features_test, target_train_valid, target_test = \\\n",
    "train_test_split(features, target, test_size=0.2, random_state=12345)"
   ]
  },
  {
   "cell_type": "markdown",
   "metadata": {},
   "source": [
    "<div class=\"alert alert-info\" style=\"border:solid purple 2px; padding: 20px; background-color: #e6d2f2; color: #4b0082;\">\n",
    "\n",
    "Выделю сначала тестовую выборку и сохраню её в переменные features_test и target_test. Так как тестовая выборка составляет 20% от всех данных, параметр test_size указываю равным 0.2."
   ]
  },
  {
   "cell_type": "code",
   "execution_count": 6,
   "metadata": {},
   "outputs": [],
   "source": [
    "features_train, features_valid, target_train, target_valid = \\\n",
    "train_test_split(features_train_valid, target_train_valid, test_size=0.25, random_state=12345)"
   ]
  },
  {
   "cell_type": "markdown",
   "metadata": {},
   "source": [
    "<div class=\"alert alert-info\" style=\"border:solid purple 2px; padding: 20px; background-color: #e6d2f2; color: #4b0082;\">\n",
    "\n",
    "Выделю тренировочную и валидационную выборки и сохраню их в переменные features_train, features_valid, target_train, target_valid. Т.к. валидационная выборка составляет 25% от оставшихся после отделения тестовой выборки данных, параметр test_size указываем равным 0.25."
   ]
  },
  {
   "cell_type": "markdown",
   "metadata": {},
   "source": [
    "<div class=\"alert alert-info\" style=\"border:solid purple 2px; padding: 20px; background-color: #e6d2f2; color: #4b0082;\">\n",
    "\n",
    "**Вывод:** я разбила данные на три части: тренировочную, валидационную и тестовую выборки."
   ]
  },
  {
   "cell_type": "code",
   "execution_count": 15,
   "metadata": {},
   "outputs": [
    {
     "data": {
      "text/plain": [
       "(1928, 4)"
      ]
     },
     "metadata": {},
     "output_type": "display_data"
    },
    {
     "data": {
      "text/plain": [
       "(1928,)"
      ]
     },
     "execution_count": 15,
     "metadata": {},
     "output_type": "execute_result"
    }
   ],
   "source": [
    "display(features_train.shape)\n",
    "target_train.shape"
   ]
  },
  {
   "cell_type": "code",
   "execution_count": 16,
   "metadata": {},
   "outputs": [
    {
     "data": {
      "text/plain": [
       "(643, 4)"
      ]
     },
     "metadata": {},
     "output_type": "display_data"
    },
    {
     "data": {
      "text/plain": [
       "(643,)"
      ]
     },
     "execution_count": 16,
     "metadata": {},
     "output_type": "execute_result"
    }
   ],
   "source": [
    "display(features_valid.shape)\n",
    "target_valid.shape"
   ]
  },
  {
   "cell_type": "code",
   "execution_count": 17,
   "metadata": {},
   "outputs": [
    {
     "data": {
      "text/plain": [
       "(643, 4)"
      ]
     },
     "metadata": {},
     "output_type": "display_data"
    },
    {
     "data": {
      "text/plain": [
       "(643,)"
      ]
     },
     "execution_count": 17,
     "metadata": {},
     "output_type": "execute_result"
    }
   ],
   "source": [
    "display(features_test.shape)\n",
    "target_test.shape"
   ]
  },
  {
   "cell_type": "markdown",
   "metadata": {},
   "source": [
    "## Исследуйте модели"
   ]
  },
  {
   "cell_type": "markdown",
   "metadata": {},
   "source": [
    "<div class=\"alert alert-info\" style=\"border:solid purple 2px; padding: 20px; background-color: #e6d2f2; color: #4b0082;\">\n",
    "\n",
    "Для решения этой задачи классификации я могу использовать два вида моделей: решающее дерево и случайный лес."
   ]
  },
  {
   "cell_type": "markdown",
   "metadata": {},
   "source": [
    "**1. Решающее дерево**"
   ]
  },
  {
   "cell_type": "code",
   "execution_count": 7,
   "metadata": {},
   "outputs": [
    {
     "data": {
      "text/plain": [
       "'Глубина: 1, Значение accuracy: 0.7387247278382582'"
      ]
     },
     "metadata": {},
     "output_type": "display_data"
    },
    {
     "data": {
      "text/plain": [
       "'Глубина: 2, Значение accuracy: 0.7573872472783826'"
      ]
     },
     "metadata": {},
     "output_type": "display_data"
    },
    {
     "data": {
      "text/plain": [
       "'Глубина: 3, Значение accuracy: 0.7651632970451011'"
      ]
     },
     "metadata": {},
     "output_type": "display_data"
    },
    {
     "data": {
      "text/plain": [
       "'Глубина: 3, Значение accuracy: 0.7651632970451011'"
      ]
     },
     "metadata": {},
     "output_type": "display_data"
    },
    {
     "data": {
      "text/plain": [
       "'Глубина: 3, Значение accuracy: 0.7651632970451011'"
      ]
     },
     "metadata": {},
     "output_type": "display_data"
    }
   ],
   "source": [
    "best_model_tree = None\n",
    "best_result_tree = 0\n",
    "best_depth_tree = 0\n",
    "\n",
    "for depth_tree in range(1, 6):\n",
    "    model_tree = DecisionTreeClassifier(random_state=12345, max_depth=depth_tree)\n",
    "    model_tree.fit(features_train, target_train)\n",
    "    if result > best_result_tree:\n",
    "        best_model_tree = model_tree\n",
    "        best_result_tree = result\n",
    "    prediction_valid_tree = model_tree.predict(features_valid)\n",
    "    result = accuracy_score(target_valid, prediction_valid_tree)\n",
    "        best_depth_tree = depth_tree\n",
    "    display(f'Глубина: {best_depth_tree}, Значение accuracy: {best_result_tree}')"
   ]
  },
  {
   "cell_type": "markdown",
   "metadata": {},
   "source": [
    "<div class=\"alert alert-info\" style=\"border:solid purple 2px; padding: 20px; background-color: #e6d2f2; color: #4b0082;\">\n",
    "\n",
    "Рассмотрю решающее дерево. У решающего дерева есть один настраиваемый гиперпараметр - максимальная глубина. Переберу значения максимальной глубины от 1 до 5 и найду то значение максимальной глубины, при которой значение accuracy максимально.\\\n",
    "Наибольшее значение accuracy достигается при максимальной глубине 3 и составляет 0.765\n",
    "\n",
    "Я вывела значение accuracy для каждого значения максимальной глубины. Можно заметить, что значение accuracy возрастает до значения максимальной глубины равного 3, затем идёт на убыль."
   ]
  },
  {
   "cell_type": "markdown",
   "metadata": {},
   "source": [
    "**2. Случайный лес**"
   ]
  },
  {
   "cell_type": "code",
   "execution_count": 8,
   "metadata": {
    "scrolled": false
   },
   "outputs": [
    {
     "data": {
      "text/plain": [
       "'Глубина: 1, количество деревьев: 10, accuracy: 0.7309486780715396'"
      ]
     },
     "metadata": {},
     "output_type": "display_data"
    },
    {
     "data": {
      "text/plain": [
       "'Глубина: 1, количество деревьев: 20, accuracy: 0.7325038880248833'"
      ]
     },
     "metadata": {},
     "output_type": "display_data"
    },
    {
     "data": {
      "text/plain": [
       "'Глубина: 1, количество деревьев: 30, accuracy: 0.7387247278382582'"
      ]
     },
     "metadata": {},
     "output_type": "display_data"
    },
    {
     "data": {
      "text/plain": [
       "'Глубина: 1, количество деревьев: 40, accuracy: 0.7387247278382582'"
      ]
     },
     "metadata": {},
     "output_type": "display_data"
    },
    {
     "data": {
      "text/plain": [
       "'Глубина: 1, количество деревьев: 50, accuracy: 0.7465007776049767'"
      ]
     },
     "metadata": {},
     "output_type": "display_data"
    },
    {
     "data": {
      "text/plain": [
       "'Глубина: 2, количество деревьев: 10, accuracy: 0.7636080870917574'"
      ]
     },
     "metadata": {},
     "output_type": "display_data"
    },
    {
     "data": {
      "text/plain": [
       "'Глубина: 2, количество деревьев: 20, accuracy: 0.7620528771384136'"
      ]
     },
     "metadata": {},
     "output_type": "display_data"
    },
    {
     "data": {
      "text/plain": [
       "'Глубина: 2, количество деревьев: 30, accuracy: 0.76049766718507'"
      ]
     },
     "metadata": {},
     "output_type": "display_data"
    },
    {
     "data": {
      "text/plain": [
       "'Глубина: 2, количество деревьев: 40, accuracy: 0.7620528771384136'"
      ]
     },
     "metadata": {},
     "output_type": "display_data"
    },
    {
     "data": {
      "text/plain": [
       "'Глубина: 2, количество деревьев: 50, accuracy: 0.76049766718507'"
      ]
     },
     "metadata": {},
     "output_type": "display_data"
    },
    {
     "data": {
      "text/plain": [
       "'Глубина: 3, количество деревьев: 10, accuracy: 0.7713841368584758'"
      ]
     },
     "metadata": {},
     "output_type": "display_data"
    },
    {
     "data": {
      "text/plain": [
       "'Глубина: 3, количество деревьев: 20, accuracy: 0.7713841368584758'"
      ]
     },
     "metadata": {},
     "output_type": "display_data"
    },
    {
     "data": {
      "text/plain": [
       "'Глубина: 3, количество деревьев: 30, accuracy: 0.7698289269051322'"
      ]
     },
     "metadata": {},
     "output_type": "display_data"
    },
    {
     "data": {
      "text/plain": [
       "'Глубина: 3, количество деревьев: 40, accuracy: 0.7713841368584758'"
      ]
     },
     "metadata": {},
     "output_type": "display_data"
    },
    {
     "data": {
      "text/plain": [
       "'Глубина: 3, количество деревьев: 50, accuracy: 0.7667185069984448'"
      ]
     },
     "metadata": {},
     "output_type": "display_data"
    },
    {
     "data": {
      "text/plain": [
       "'Глубина: 4, количество деревьев: 10, accuracy: 0.7776049766718507'"
      ]
     },
     "metadata": {},
     "output_type": "display_data"
    },
    {
     "data": {
      "text/plain": [
       "'Глубина: 4, количество деревьев: 20, accuracy: 0.776049766718507'"
      ]
     },
     "metadata": {},
     "output_type": "display_data"
    },
    {
     "data": {
      "text/plain": [
       "'Глубина: 4, количество деревьев: 30, accuracy: 0.776049766718507'"
      ]
     },
     "metadata": {},
     "output_type": "display_data"
    },
    {
     "data": {
      "text/plain": [
       "'Глубина: 4, количество деревьев: 40, accuracy: 0.7791601866251944'"
      ]
     },
     "metadata": {},
     "output_type": "display_data"
    },
    {
     "data": {
      "text/plain": [
       "'Глубина: 4, количество деревьев: 50, accuracy: 0.7744945567651633'"
      ]
     },
     "metadata": {},
     "output_type": "display_data"
    },
    {
     "data": {
      "text/plain": [
       "'Глубина: 5, количество деревьев: 10, accuracy: 0.7776049766718507'"
      ]
     },
     "metadata": {},
     "output_type": "display_data"
    },
    {
     "data": {
      "text/plain": [
       "'Глубина: 5, количество деревьев: 20, accuracy: 0.7791601866251944'"
      ]
     },
     "metadata": {},
     "output_type": "display_data"
    },
    {
     "data": {
      "text/plain": [
       "'Глубина: 5, количество деревьев: 30, accuracy: 0.7791601866251944'"
      ]
     },
     "metadata": {},
     "output_type": "display_data"
    },
    {
     "data": {
      "text/plain": [
       "'Глубина: 5, количество деревьев: 40, accuracy: 0.7807153965785381'"
      ]
     },
     "metadata": {},
     "output_type": "display_data"
    },
    {
     "data": {
      "text/plain": [
       "'Глубина: 5, количество деревьев: 50, accuracy: 0.7791601866251944'"
      ]
     },
     "metadata": {},
     "output_type": "display_data"
    }
   ],
   "source": [
    "best_model_forest_ax = None\n",
    "best_result_forest = 0\n",
    "best_depth_forest = 0\n",
    "best_n_estimator = 0\n",
    "\n",
    "for depth_forest in range(1,6):\n",
    "    for est in range(10, 51, 10):\n",
    "        model_forest = RandomForestClassifier(random_state=12345, n_estimators=est, max_depth=depth_forest)\n",
    "        model_forest.fit(features_train, target_train)\n",
    "        prediction_valid_forest = model_forest.predict(features_valid)\n",
    "        result_forest = accuracy_score(target_valid, prediction_valid_forest)\n",
    "        display(f'Глубина: {depth_forest}, количество деревьев: {est}, accuracy: {result_forest}')"
   ]
  },
  {
   "cell_type": "markdown",
   "metadata": {},
   "source": [
    "<div class=\"alert alert-info\" style=\"border:solid purple 2px; padding: 20px; background-color: #e6d2f2; color: #4b0082;\">\n",
    "\n",
    "Рассмотрю расчёт accuracy при каждом значении максимальной глубины и количества деревьев. Можно заметить, что с увеличением максимальной глубины и количества деревьев значение accuracy увеличивается.\\\n",
    "Но при этом, при одном и том же значении глубины дерева и увеличивающимся значением количества деревьев accuracy не увеличивается постоянно, т.е. при большем значении количества деревьев accuracy может уменьшиться.\\\n",
    "Однако при одном и том же значении количества деревьев и разных значениях глубины дерева accuracy увеличивается стабильно, т.е. при большей глубине дерева и одном и том же количестве деревьев accuracy всегда больше."
   ]
  },
  {
   "cell_type": "markdown",
   "metadata": {},
   "source": [
    "<div class=\"alert alert-info\" style=\"border:solid purple 2px; padding: 20px; background-color: #e6d2f2; color: #4b0082;\">\n",
    "\n",
    "**Проанализирую результаты:**\n",
    "1) accuracy решающего дерева при максимальной глубине 3 составляет 0.765 (наибольшее значение), accuracy случайного леса при максимальной глубине 3 составляет 0.767. Из этого следует, что при одинаковом значении максимальной глубины accuracy случайного леса выше, чем accuracy решающего дерева. Можно предположить, что случайный лес может дать наибольшее значение accuracy, превышающее наибольшее значение accuracy решающего дерева.\n",
    "2) наибольшее accuracy решающего дерева составляет 0.765, случайного леса - 0.779.\\\n",
    "Исходя из тех выводов, которые я сделала на основе расчёта accuracy при разных значениях максимальной глубины и количества деревьев, можно предположить, что количество деревьев является тем условием, которое обеспечивает постоянное возрастание accuracy при увеличении максимальной глубины.\n",
    "\n",
    "Конкретно в этом исследовании наибольшее значение accuracy дала модель случайного леса при максимальной глубине 5 и количестве деревьев 50. Наибольшее значение accuracy - 0.779."
   ]
  },
  {
   "cell_type": "code",
   "execution_count": 18,
   "metadata": {},
   "outputs": [
    {
     "data": {
      "text/plain": [
       "'Глубина: 5, количество деревьев: 50, accuracy: 0.7791601866251944'"
      ]
     },
     "metadata": {},
     "output_type": "display_data"
    }
   ],
   "source": [
    "best_result_forest = 0\n",
    "best_depth_forest = 0\n",
    "best_n_estimator = 0\n",
    "best_model_forest = None\n",
    "\n",
    "for depth_forest in range(1,6):\n",
    "    for est in range(10, 51, 10):\n",
    "        model_forest = RandomForestClassifier(random_state=12345, n_estimators=est, max_depth=depth_forest)\n",
    "        model_forest.fit(features_train, target_train)\n",
    "        prediction_valid_forest = model_forest.predict(features_valid)\n",
    "        result_forest = accuracy_score(target_valid, prediction_valid_forest)\n",
    "    if result_forest > best_result_forest:\n",
    "        best_model_forest = model_forest\n",
    "        best_result_forest = result_forest\n",
    "        best_depth_forest = depth_forest\n",
    "        best_n_estimator = est\n",
    "display(f'Глубина: {best_depth_forest}, количество деревьев: {best_n_estimator}, accuracy: {best_result_forest}')"
   ]
  },
  {
   "cell_type": "markdown",
   "metadata": {},
   "source": [
    "<div class=\"alert alert-info\" style=\"border:solid purple 2px; padding: 20px; background-color: #e6d2f2; color: #4b0082;\">\n",
    "\n",
    "Рассмотрю случайный лес. У случайного леса есть два настраиваемых гиперпараметра - максимальная глубина и количество деревьев. Переберу значения максимальной глубины от 1 до 5 и значения количества деревьев от 10 до 50 с шагом 10 и найду значения, при которых accuracy достигает наибольшего значения.\n",
    "Наибольшее accuracy составляет 0.779 и достигается при значениях максимальной глубины 5 и количества деревьев 50."
   ]
  },
  {
   "cell_type": "markdown",
   "metadata": {},
   "source": [
    "## Проверьте модель на тестовой выборке"
   ]
  },
  {
   "cell_type": "markdown",
   "metadata": {},
   "source": [
    "<div class=\"alert alert-info\" style=\"border:solid purple 2px; padding: 20px; background-color: #e6d2f2; color: #4b0082;\">\n",
    "\n",
    "Проверю качество модели на тестовой выборке."
   ]
  },
  {
   "cell_type": "code",
   "execution_count": 10,
   "metadata": {},
   "outputs": [
    {
     "data": {
      "text/plain": [
       "0.7931570762052877"
      ]
     },
     "execution_count": 10,
     "metadata": {},
     "output_type": "execute_result"
    }
   ],
   "source": [
    "prediction_test = best_model_forest.predict(features_test)\n",
    "result_test = accuracy_score(target_test, prediction_test)\n",
    "result_test"
   ]
  },
  {
   "cell_type": "markdown",
   "metadata": {},
   "source": [
    "<div class=\"alert alert-info\" style=\"border:solid purple 2px; padding: 20px; background-color: #e6d2f2; color: #4b0082;\">\n",
    "\n",
    "Accuracy модели на тестовой выборке составило 0.793 - выше, чем на валидационной и выше 0.75."
   ]
  },
  {
   "cell_type": "markdown",
   "metadata": {},
   "source": [
    "<div class=\"alert alert-info\" style=\"border:solid purple 2px; padding: 20px; background-color: #e6d2f2; color: #4b0082;\">\n",
    "\n",
    "**Итог:** я построила модель, значение accuracy которой превышает значения других моделей с другими гиперпараметрами. Это модель случайного леса с максимальной глубиной 5 и количеством деревьев 50. Её accuracy составило 0.793."
   ]
  },
  {
   "cell_type": "markdown",
   "metadata": {},
   "source": [
    "## (бонус) Проверьте модели на адекватность"
   ]
  },
  {
   "cell_type": "code",
   "execution_count": 11,
   "metadata": {},
   "outputs": [
    {
     "data": {
      "text/plain": [
       "0.8709175738724728"
      ]
     },
     "execution_count": 11,
     "metadata": {},
     "output_type": "execute_result"
    }
   ],
   "source": [
    "model_log = LogisticRegression()\n",
    "model_log.fit(features_test, target_test)\n",
    "model_log.score(features_test, prediction_test)"
   ]
  },
  {
   "cell_type": "markdown",
   "metadata": {},
   "source": [
    "<div class=\"alert alert-info\" style=\"border:solid purple 2px; padding: 20px; background-color: #e6d2f2; color: #4b0082;\">\n",
    "\n",
    "Обучу модель логистической регрессии на данных тестовой выборки и проверю accuracy на признаках тестовой выборки и предсказаниях модели случайного леса с наибольшим значением accuracy."
   ]
  },
  {
   "cell_type": "markdown",
   "metadata": {},
   "source": [
    "<div class=\"alert alert-info\" style=\"border:solid purple 2px; padding: 20px; background-color: #e6d2f2; color: #4b0082;\">\n",
    "\n",
    "**Итоговый вывод:**\n",
    "- Для достижения цели исследования было необходимо решить задачу классификации. Для её решения я рассмотрела две модели: модель решающего дерева и модель случайного леса.\n",
    "- Наибольшую эффективность - наибольшее значение accuracy - показала модель случайного леса при максимальной глубине 5 и количестве деревьев 50. Её значение accuracy - 0.779.\n",
    "- Я испытала лучшую модель на тестовой выборке и нашла её значение accuracy, которое составило 0.793, что даже больше, чем значение accuracy, рассчитанное на валидационной выборке.\n",
    "\n",
    "Таким образом, я достигла цели исследования - нашла модель с наибольшим значением accuracy, которое превысило 0.75."
   ]
  }
 ],
 "metadata": {
  "ExecuteTimeLog": [
   {
    "duration": 399,
    "start_time": "2023-01-29T10:41:37.378Z"
   },
   {
    "duration": 92,
    "start_time": "2023-01-29T10:44:59.823Z"
   },
   {
    "duration": 62,
    "start_time": "2023-01-29T10:45:09.160Z"
   },
   {
    "duration": 11,
    "start_time": "2023-01-29T10:46:23.697Z"
   },
   {
    "duration": 51,
    "start_time": "2023-01-29T13:16:01.081Z"
   },
   {
    "duration": 1007,
    "start_time": "2023-01-29T13:16:09.464Z"
   },
   {
    "duration": 64,
    "start_time": "2023-01-29T13:16:10.473Z"
   },
   {
    "duration": 15,
    "start_time": "2023-01-29T13:16:10.538Z"
   },
   {
    "duration": 12,
    "start_time": "2023-01-29T13:16:10.554Z"
   },
   {
    "duration": 4,
    "start_time": "2023-01-29T13:16:15.132Z"
   },
   {
    "duration": 4,
    "start_time": "2023-01-29T13:16:22.651Z"
   },
   {
    "duration": 5,
    "start_time": "2023-01-29T13:17:02.547Z"
   },
   {
    "duration": 8,
    "start_time": "2023-01-29T13:24:53.749Z"
   },
   {
    "duration": 78,
    "start_time": "2023-01-29T14:30:30.236Z"
   },
   {
    "duration": 1369,
    "start_time": "2023-01-29T14:30:41.209Z"
   },
   {
    "duration": 73,
    "start_time": "2023-01-29T14:30:42.581Z"
   },
   {
    "duration": 14,
    "start_time": "2023-01-29T14:30:42.656Z"
   },
   {
    "duration": 92,
    "start_time": "2023-01-29T14:30:42.673Z"
   },
   {
    "duration": 14,
    "start_time": "2023-01-29T14:30:42.768Z"
   },
   {
    "duration": 156,
    "start_time": "2023-01-29T14:52:10.868Z"
   },
   {
    "duration": 8,
    "start_time": "2023-01-29T14:52:55.579Z"
   },
   {
    "duration": 15,
    "start_time": "2023-01-29T14:52:57.464Z"
   },
   {
    "duration": 1236,
    "start_time": "2023-01-29T14:53:03.203Z"
   },
   {
    "duration": 28,
    "start_time": "2023-01-29T14:53:04.442Z"
   },
   {
    "duration": 32,
    "start_time": "2023-01-29T14:53:04.472Z"
   },
   {
    "duration": 45,
    "start_time": "2023-01-29T14:53:04.506Z"
   },
   {
    "duration": 8,
    "start_time": "2023-01-29T14:53:04.553Z"
   },
   {
    "duration": 127,
    "start_time": "2023-01-29T14:53:04.563Z"
   },
   {
    "duration": 14,
    "start_time": "2023-01-29T14:54:34.511Z"
   },
   {
    "duration": 10,
    "start_time": "2023-01-29T14:54:57.850Z"
   },
   {
    "duration": 13,
    "start_time": "2023-01-29T14:55:09.398Z"
   },
   {
    "duration": 9,
    "start_time": "2023-01-29T14:55:15.878Z"
   },
   {
    "duration": 8,
    "start_time": "2023-01-29T14:57:27.372Z"
   },
   {
    "duration": 5,
    "start_time": "2023-01-29T14:57:31.241Z"
   },
   {
    "duration": 6,
    "start_time": "2023-01-29T14:57:43.665Z"
   },
   {
    "duration": 41,
    "start_time": "2023-01-29T15:05:09.438Z"
   },
   {
    "duration": 15,
    "start_time": "2023-01-29T15:06:38.904Z"
   },
   {
    "duration": 41,
    "start_time": "2023-01-29T15:08:39.980Z"
   },
   {
    "duration": 3,
    "start_time": "2023-01-29T15:08:49.566Z"
   },
   {
    "duration": 49,
    "start_time": "2023-01-30T18:29:13.216Z"
   },
   {
    "duration": 1136,
    "start_time": "2023-01-30T18:29:30.134Z"
   },
   {
    "duration": 133,
    "start_time": "2023-01-30T18:29:31.272Z"
   },
   {
    "duration": 14,
    "start_time": "2023-01-30T18:29:31.406Z"
   },
   {
    "duration": 24,
    "start_time": "2023-01-30T18:29:31.422Z"
   },
   {
    "duration": 16,
    "start_time": "2023-01-30T18:29:31.448Z"
   },
   {
    "duration": 16,
    "start_time": "2023-01-30T18:29:31.466Z"
   },
   {
    "duration": 29,
    "start_time": "2023-01-30T18:29:31.483Z"
   },
   {
    "duration": 121,
    "start_time": "2023-01-30T18:46:05.129Z"
   },
   {
    "duration": 1144,
    "start_time": "2023-01-30T18:46:19.727Z"
   },
   {
    "duration": 31,
    "start_time": "2023-01-30T18:46:20.873Z"
   },
   {
    "duration": 33,
    "start_time": "2023-01-30T18:46:20.906Z"
   },
   {
    "duration": 47,
    "start_time": "2023-01-30T18:46:20.941Z"
   },
   {
    "duration": 47,
    "start_time": "2023-01-30T18:46:20.992Z"
   },
   {
    "duration": 41,
    "start_time": "2023-01-30T18:46:21.041Z"
   },
   {
    "duration": 120,
    "start_time": "2023-01-30T18:46:21.084Z"
   },
   {
    "duration": 4,
    "start_time": "2023-01-30T18:46:54.125Z"
   },
   {
    "duration": 1407,
    "start_time": "2023-01-30T18:47:00.075Z"
   },
   {
    "duration": 31,
    "start_time": "2023-01-30T18:47:01.484Z"
   },
   {
    "duration": 21,
    "start_time": "2023-01-30T18:47:01.517Z"
   },
   {
    "duration": 28,
    "start_time": "2023-01-30T18:47:01.541Z"
   },
   {
    "duration": 42,
    "start_time": "2023-01-30T18:47:01.571Z"
   },
   {
    "duration": 44,
    "start_time": "2023-01-30T18:47:01.615Z"
   },
   {
    "duration": 202,
    "start_time": "2023-01-30T18:47:01.661Z"
   },
   {
    "duration": 20,
    "start_time": "2023-01-30T18:47:20.756Z"
   },
   {
    "duration": 46,
    "start_time": "2023-01-30T18:47:28.352Z"
   },
   {
    "duration": 46,
    "start_time": "2023-01-30T18:47:34.942Z"
   },
   {
    "duration": 64,
    "start_time": "2023-01-30T18:59:41.255Z"
   },
   {
    "duration": 47,
    "start_time": "2023-01-30T18:59:49.696Z"
   },
   {
    "duration": 38,
    "start_time": "2023-01-30T19:00:44.887Z"
   },
   {
    "duration": 43,
    "start_time": "2023-01-30T19:01:39.304Z"
   },
   {
    "duration": 54,
    "start_time": "2023-01-31T09:47:03.064Z"
   },
   {
    "duration": 1153,
    "start_time": "2023-01-31T09:47:22.906Z"
   },
   {
    "duration": 70,
    "start_time": "2023-01-31T09:47:24.060Z"
   },
   {
    "duration": 12,
    "start_time": "2023-01-31T09:47:24.131Z"
   },
   {
    "duration": 27,
    "start_time": "2023-01-31T09:47:24.145Z"
   },
   {
    "duration": 42,
    "start_time": "2023-01-31T09:47:24.174Z"
   },
   {
    "duration": 33,
    "start_time": "2023-01-31T09:47:24.218Z"
   },
   {
    "duration": 70,
    "start_time": "2023-01-31T09:47:24.252Z"
   },
   {
    "duration": 9678,
    "start_time": "2023-01-31T09:47:34.159Z"
   },
   {
    "duration": 1598,
    "start_time": "2023-01-31T09:55:16.747Z"
   },
   {
    "duration": 36,
    "start_time": "2023-01-31T09:56:27.205Z"
   },
   {
    "duration": 44,
    "start_time": "2023-01-31T09:56:36.974Z"
   },
   {
    "duration": 1663,
    "start_time": "2023-01-31T09:58:56.955Z"
   },
   {
    "duration": 1610,
    "start_time": "2023-01-31T09:59:10.007Z"
   },
   {
    "duration": 4,
    "start_time": "2023-01-31T10:00:38.014Z"
   },
   {
    "duration": 40,
    "start_time": "2023-01-31T10:00:47.564Z"
   },
   {
    "duration": 1658,
    "start_time": "2023-01-31T10:00:50.707Z"
   },
   {
    "duration": 1694,
    "start_time": "2023-01-31T10:02:02.446Z"
   },
   {
    "duration": 49,
    "start_time": "2023-01-31T10:02:18.017Z"
   },
   {
    "duration": 1704,
    "start_time": "2023-01-31T10:02:24.298Z"
   },
   {
    "duration": 1736,
    "start_time": "2023-01-31T10:03:19.424Z"
   },
   {
    "duration": 1689,
    "start_time": "2023-01-31T10:03:56.772Z"
   },
   {
    "duration": 24,
    "start_time": "2023-01-31T10:18:54.807Z"
   },
   {
    "duration": 1117,
    "start_time": "2023-01-31T10:19:30.491Z"
   },
   {
    "duration": 28,
    "start_time": "2023-01-31T10:19:31.610Z"
   },
   {
    "duration": 13,
    "start_time": "2023-01-31T10:19:31.640Z"
   },
   {
    "duration": 10,
    "start_time": "2023-01-31T10:19:31.654Z"
   },
   {
    "duration": 11,
    "start_time": "2023-01-31T10:19:31.666Z"
   },
   {
    "duration": 19,
    "start_time": "2023-01-31T10:19:31.679Z"
   },
   {
    "duration": 56,
    "start_time": "2023-01-31T10:19:31.700Z"
   },
   {
    "duration": 1655,
    "start_time": "2023-01-31T10:19:31.758Z"
   },
   {
    "duration": 25,
    "start_time": "2023-01-31T10:19:33.415Z"
   },
   {
    "duration": 1715,
    "start_time": "2023-01-31T10:20:29.580Z"
   },
   {
    "duration": 32,
    "start_time": "2023-01-31T10:20:48.362Z"
   },
   {
    "duration": 37,
    "start_time": "2023-01-31T10:21:09.664Z"
   },
   {
    "duration": 84,
    "start_time": "2023-01-31T10:22:05.947Z"
   },
   {
    "duration": 61,
    "start_time": "2023-01-31T10:22:23.070Z"
   },
   {
    "duration": 54,
    "start_time": "2023-01-31T10:22:47.626Z"
   },
   {
    "duration": 42,
    "start_time": "2023-01-31T10:22:56.006Z"
   },
   {
    "duration": 1708,
    "start_time": "2023-01-31T10:23:01.435Z"
   },
   {
    "duration": 48,
    "start_time": "2023-01-31T10:23:04.162Z"
   },
   {
    "duration": 3,
    "start_time": "2023-01-31T10:23:58.682Z"
   },
   {
    "duration": 52,
    "start_time": "2023-01-31T10:24:02.006Z"
   },
   {
    "duration": 1707,
    "start_time": "2023-01-31T10:24:26.572Z"
   },
   {
    "duration": 1590,
    "start_time": "2023-01-31T10:24:51.533Z"
   },
   {
    "duration": 1807,
    "start_time": "2023-01-31T11:17:32.246Z"
   },
   {
    "duration": 1763,
    "start_time": "2023-01-31T11:30:18.696Z"
   },
   {
    "duration": 14,
    "start_time": "2023-01-31T11:31:28.945Z"
   },
   {
    "duration": 16,
    "start_time": "2023-01-31T11:31:32.945Z"
   },
   {
    "duration": 4,
    "start_time": "2023-01-31T11:53:34.843Z"
   },
   {
    "duration": 136,
    "start_time": "2023-01-31T12:07:44.852Z"
   },
   {
    "duration": 46,
    "start_time": "2023-01-31T12:07:51.302Z"
   },
   {
    "duration": 59,
    "start_time": "2023-01-31T12:08:48.523Z"
   },
   {
    "duration": 51,
    "start_time": "2023-01-31T12:09:17.848Z"
   },
   {
    "duration": 52,
    "start_time": "2023-01-31T12:09:22.179Z"
   },
   {
    "duration": 38,
    "start_time": "2023-01-31T12:09:39.245Z"
   },
   {
    "duration": 43,
    "start_time": "2023-01-31T12:13:11.910Z"
   },
   {
    "duration": 44,
    "start_time": "2023-01-31T12:21:34.767Z"
   },
   {
    "duration": 42,
    "start_time": "2023-01-31T12:21:57.163Z"
   },
   {
    "duration": 17,
    "start_time": "2023-01-31T12:25:16.054Z"
   },
   {
    "duration": 33,
    "start_time": "2023-01-31T13:24:47.218Z"
   },
   {
    "duration": 54,
    "start_time": "2023-01-31T13:34:41.505Z"
   },
   {
    "duration": 47,
    "start_time": "2023-02-01T11:39:38.859Z"
   },
   {
    "duration": 1120,
    "start_time": "2023-02-01T11:39:44.119Z"
   },
   {
    "duration": 62,
    "start_time": "2023-02-01T11:39:45.241Z"
   },
   {
    "duration": 12,
    "start_time": "2023-02-01T11:39:45.305Z"
   },
   {
    "duration": 31,
    "start_time": "2023-02-01T11:39:45.319Z"
   },
   {
    "duration": 47,
    "start_time": "2023-02-01T11:39:45.352Z"
   },
   {
    "duration": 5,
    "start_time": "2023-02-01T11:39:45.400Z"
   },
   {
    "duration": 13,
    "start_time": "2023-02-01T11:39:45.406Z"
   },
   {
    "duration": 65,
    "start_time": "2023-02-01T11:39:45.421Z"
   },
   {
    "duration": 1532,
    "start_time": "2023-02-01T11:39:45.487Z"
   },
   {
    "duration": 1643,
    "start_time": "2023-02-01T11:39:47.021Z"
   },
   {
    "duration": 98,
    "start_time": "2023-02-01T11:39:48.666Z"
   },
   {
    "duration": 0,
    "start_time": "2023-02-01T11:39:48.766Z"
   },
   {
    "duration": 8,
    "start_time": "2023-02-01T11:59:17.929Z"
   },
   {
    "duration": 50,
    "start_time": "2023-02-01T13:57:55.390Z"
   },
   {
    "duration": 1098,
    "start_time": "2023-02-01T13:58:01.478Z"
   },
   {
    "duration": 63,
    "start_time": "2023-02-01T13:58:02.578Z"
   },
   {
    "duration": 11,
    "start_time": "2023-02-01T13:58:02.643Z"
   },
   {
    "duration": 28,
    "start_time": "2023-02-01T13:58:02.655Z"
   },
   {
    "duration": 50,
    "start_time": "2023-02-01T13:58:02.686Z"
   },
   {
    "duration": 54,
    "start_time": "2023-02-01T13:58:02.738Z"
   },
   {
    "duration": 57,
    "start_time": "2023-02-01T13:58:02.794Z"
   },
   {
    "duration": 1532,
    "start_time": "2023-02-01T13:58:02.852Z"
   },
   {
    "duration": 1712,
    "start_time": "2023-02-01T13:58:04.385Z"
   },
   {
    "duration": 1583,
    "start_time": "2023-02-01T13:58:06.099Z"
   },
   {
    "duration": 17,
    "start_time": "2023-02-01T13:58:07.684Z"
   },
   {
    "duration": 31,
    "start_time": "2023-02-01T13:58:07.703Z"
   },
   {
    "duration": 1102,
    "start_time": "2023-02-01T13:59:06.634Z"
   },
   {
    "duration": 25,
    "start_time": "2023-02-01T13:59:07.738Z"
   },
   {
    "duration": 14,
    "start_time": "2023-02-01T13:59:07.764Z"
   },
   {
    "duration": 19,
    "start_time": "2023-02-01T13:59:07.780Z"
   },
   {
    "duration": 22,
    "start_time": "2023-02-01T13:59:07.802Z"
   },
   {
    "duration": 13,
    "start_time": "2023-02-01T13:59:07.825Z"
   },
   {
    "duration": 59,
    "start_time": "2023-02-01T13:59:07.840Z"
   },
   {
    "duration": 1607,
    "start_time": "2023-02-01T13:59:07.901Z"
   },
   {
    "duration": 1479,
    "start_time": "2023-02-01T13:59:09.510Z"
   },
   {
    "duration": 13,
    "start_time": "2023-02-01T13:59:10.991Z"
   },
   {
    "duration": 51,
    "start_time": "2023-02-01T13:59:11.006Z"
   },
   {
    "duration": 4,
    "start_time": "2023-02-01T14:14:59.430Z"
   },
   {
    "duration": 4,
    "start_time": "2023-02-01T14:17:05.166Z"
   },
   {
    "duration": 5,
    "start_time": "2023-02-01T14:17:07.122Z"
   },
   {
    "duration": 4,
    "start_time": "2023-02-01T14:18:13.883Z"
   },
   {
    "duration": 5,
    "start_time": "2023-02-01T14:18:14.570Z"
   },
   {
    "duration": 6,
    "start_time": "2023-02-01T14:18:15.018Z"
   },
   {
    "duration": 1425,
    "start_time": "2023-02-01T14:25:18.091Z"
   }
  ],
  "kernelspec": {
   "display_name": "Python 3 (ipykernel)",
   "language": "python",
   "name": "python3"
  },
  "language_info": {
   "codemirror_mode": {
    "name": "ipython",
    "version": 3
   },
   "file_extension": ".py",
   "mimetype": "text/x-python",
   "name": "python",
   "nbconvert_exporter": "python",
   "pygments_lexer": "ipython3",
   "version": "3.10.9"
  },
  "toc": {
   "base_numbering": 1,
   "nav_menu": {},
   "number_sections": true,
   "sideBar": true,
   "skip_h1_title": true,
   "title_cell": "Table of Contents",
   "title_sidebar": "Contents",
   "toc_cell": false,
   "toc_position": {},
   "toc_section_display": true,
   "toc_window_display": false
  }
 },
 "nbformat": 4,
 "nbformat_minor": 2
}
