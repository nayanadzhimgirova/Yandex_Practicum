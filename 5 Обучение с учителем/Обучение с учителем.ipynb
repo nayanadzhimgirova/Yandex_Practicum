{
 "cells": [
  {
   "cell_type": "markdown",
   "metadata": {},
   "source": [
    "# Отток клиентов"
   ]
  },
  {
   "cell_type": "markdown",
   "metadata": {},
   "source": [
    "Из «Бета-Банка» стали уходить клиенты. Каждый месяц. Немного, но заметно. Банковские маркетологи посчитали: сохранять текущих клиентов дешевле, чем привлекать новых.\n",
    "\n",
    "Нужно спрогнозировать, уйдёт клиент из банка в ближайшее время или нет. Вам предоставлены исторические данные о поведении клиентов и расторжении договоров с банком. \n",
    "\n",
    "Постройте модель с предельно большим значением *F1*-меры. Чтобы сдать проект успешно, нужно довести метрику до 0.59. Проверьте *F1*-меру на тестовой выборке самостоятельно.\n",
    "\n",
    "Дополнительно измеряйте *AUC-ROC*, сравнивайте её значение с *F1*-мерой."
   ]
  },
  {
   "cell_type": "markdown",
   "metadata": {},
   "source": [
    "**Цель исследования:**\n",
    "- спрогнозировать, уйдёт ли клиент из банка в ближайшее время или нет\n",
    "\n",
    "**Задачи исследования:**\n",
    "- загрузить и подготовить данные, поясняя порядок действий\n",
    "- исследовать баланс классов\n",
    "- обучить модель БЕЗ учёта дисбаланса, кратко описать выводы\n",
    "- улучшить качество модели, учитывая дисбаланс классов\n",
    "- обучить разные модели и найти лучшую, кратко описать выводы\n",
    "- провести финальное тестирование"
   ]
  },
  {
   "cell_type": "markdown",
   "metadata": {},
   "source": [
    "## Подготовка данных"
   ]
  },
  {
   "cell_type": "markdown",
   "metadata": {},
   "source": [
    "1. Импортируем все нужные в работе библиотеки."
   ]
  },
  {
   "cell_type": "code",
   "execution_count": 1,
   "metadata": {},
   "outputs": [],
   "source": [
    "import pandas as pd\n",
    "from sklearn.model_selection import train_test_split\n",
    "from sklearn.linear_model import LogisticRegression\n",
    "from sklearn.metrics import f1_score\n",
    "from sklearn.metrics import roc_auc_score\n",
    "from sklearn.tree import DecisionTreeClassifier\n",
    "from sklearn.ensemble import RandomForestClassifier\n",
    "from sklearn.preprocessing import StandardScaler\n",
    "from sklearn.utils import shuffle\n",
    "from sklearn.preprocessing import OneHotEncoder"
   ]
  },
  {
   "cell_type": "markdown",
   "metadata": {},
   "source": [
    "2. Подготовим данные и изучим их."
   ]
  },
  {
   "cell_type": "code",
   "execution_count": 2,
   "metadata": {},
   "outputs": [],
   "source": [
    "data = pd.read_csv('/datasets/Churn.csv')"
   ]
  },
  {
   "cell_type": "markdown",
   "metadata": {},
   "source": [
    "2.1. В данных 10000 строк и 14 столбцов."
   ]
  },
  {
   "cell_type": "code",
   "execution_count": 3,
   "metadata": {},
   "outputs": [
    {
     "data": {
      "text/plain": [
       "(10000, 14)"
      ]
     },
     "execution_count": 3,
     "metadata": {},
     "output_type": "execute_result"
    }
   ],
   "source": [
    "data.shape"
   ]
  },
  {
   "cell_type": "markdown",
   "metadata": {},
   "source": [
    "2.2. Рассмотрим информацию о данных:\n",
    "\n",
    "- В столбце 'Tenure' можно заметить пропуски\n",
    "- Данные в столбцах 'RowNumber', 'CustomerId', 'CreditScore', 'Age', 'Tenure', 'Balance', 'NumOfProducts', 'HasCrCard', 'IsActiveMember', 'EstimatedSalary', 'Exited' - численные\n",
    "- Данные в столбцах - 'Surname', 'Geography', 'Gender' - категориальные"
   ]
  },
  {
   "cell_type": "code",
   "execution_count": 4,
   "metadata": {
    "scrolled": false
   },
   "outputs": [
    {
     "name": "stdout",
     "output_type": "stream",
     "text": [
      "<class 'pandas.core.frame.DataFrame'>\n",
      "RangeIndex: 10000 entries, 0 to 9999\n",
      "Data columns (total 14 columns):\n",
      " #   Column           Non-Null Count  Dtype  \n",
      "---  ------           --------------  -----  \n",
      " 0   RowNumber        10000 non-null  int64  \n",
      " 1   CustomerId       10000 non-null  int64  \n",
      " 2   Surname          10000 non-null  object \n",
      " 3   CreditScore      10000 non-null  int64  \n",
      " 4   Geography        10000 non-null  object \n",
      " 5   Gender           10000 non-null  object \n",
      " 6   Age              10000 non-null  int64  \n",
      " 7   Tenure           9091 non-null   float64\n",
      " 8   Balance          10000 non-null  float64\n",
      " 9   NumOfProducts    10000 non-null  int64  \n",
      " 10  HasCrCard        10000 non-null  int64  \n",
      " 11  IsActiveMember   10000 non-null  int64  \n",
      " 12  EstimatedSalary  10000 non-null  float64\n",
      " 13  Exited           10000 non-null  int64  \n",
      "dtypes: float64(3), int64(8), object(3)\n",
      "memory usage: 1.1+ MB\n"
     ]
    }
   ],
   "source": [
    "data.info()"
   ]
  },
  {
   "cell_type": "markdown",
   "metadata": {},
   "source": [
    "2.3. Изучим данные - рассмотрим первые строки"
   ]
  },
  {
   "cell_type": "code",
   "execution_count": 5,
   "metadata": {
    "scrolled": true
   },
   "outputs": [
    {
     "data": {
      "text/html": [
       "<div>\n",
       "<style scoped>\n",
       "    .dataframe tbody tr th:only-of-type {\n",
       "        vertical-align: middle;\n",
       "    }\n",
       "\n",
       "    .dataframe tbody tr th {\n",
       "        vertical-align: top;\n",
       "    }\n",
       "\n",
       "    .dataframe thead th {\n",
       "        text-align: right;\n",
       "    }\n",
       "</style>\n",
       "<table border=\"1\" class=\"dataframe\">\n",
       "  <thead>\n",
       "    <tr style=\"text-align: right;\">\n",
       "      <th></th>\n",
       "      <th>RowNumber</th>\n",
       "      <th>CustomerId</th>\n",
       "      <th>Surname</th>\n",
       "      <th>CreditScore</th>\n",
       "      <th>Geography</th>\n",
       "      <th>Gender</th>\n",
       "      <th>Age</th>\n",
       "      <th>Tenure</th>\n",
       "      <th>Balance</th>\n",
       "      <th>NumOfProducts</th>\n",
       "      <th>HasCrCard</th>\n",
       "      <th>IsActiveMember</th>\n",
       "      <th>EstimatedSalary</th>\n",
       "      <th>Exited</th>\n",
       "    </tr>\n",
       "  </thead>\n",
       "  <tbody>\n",
       "    <tr>\n",
       "      <th>0</th>\n",
       "      <td>1</td>\n",
       "      <td>15634602</td>\n",
       "      <td>Hargrave</td>\n",
       "      <td>619</td>\n",
       "      <td>France</td>\n",
       "      <td>Female</td>\n",
       "      <td>42</td>\n",
       "      <td>2.0</td>\n",
       "      <td>0.00</td>\n",
       "      <td>1</td>\n",
       "      <td>1</td>\n",
       "      <td>1</td>\n",
       "      <td>101348.88</td>\n",
       "      <td>1</td>\n",
       "    </tr>\n",
       "    <tr>\n",
       "      <th>1</th>\n",
       "      <td>2</td>\n",
       "      <td>15647311</td>\n",
       "      <td>Hill</td>\n",
       "      <td>608</td>\n",
       "      <td>Spain</td>\n",
       "      <td>Female</td>\n",
       "      <td>41</td>\n",
       "      <td>1.0</td>\n",
       "      <td>83807.86</td>\n",
       "      <td>1</td>\n",
       "      <td>0</td>\n",
       "      <td>1</td>\n",
       "      <td>112542.58</td>\n",
       "      <td>0</td>\n",
       "    </tr>\n",
       "    <tr>\n",
       "      <th>2</th>\n",
       "      <td>3</td>\n",
       "      <td>15619304</td>\n",
       "      <td>Onio</td>\n",
       "      <td>502</td>\n",
       "      <td>France</td>\n",
       "      <td>Female</td>\n",
       "      <td>42</td>\n",
       "      <td>8.0</td>\n",
       "      <td>159660.80</td>\n",
       "      <td>3</td>\n",
       "      <td>1</td>\n",
       "      <td>0</td>\n",
       "      <td>113931.57</td>\n",
       "      <td>1</td>\n",
       "    </tr>\n",
       "    <tr>\n",
       "      <th>3</th>\n",
       "      <td>4</td>\n",
       "      <td>15701354</td>\n",
       "      <td>Boni</td>\n",
       "      <td>699</td>\n",
       "      <td>France</td>\n",
       "      <td>Female</td>\n",
       "      <td>39</td>\n",
       "      <td>1.0</td>\n",
       "      <td>0.00</td>\n",
       "      <td>2</td>\n",
       "      <td>0</td>\n",
       "      <td>0</td>\n",
       "      <td>93826.63</td>\n",
       "      <td>0</td>\n",
       "    </tr>\n",
       "    <tr>\n",
       "      <th>4</th>\n",
       "      <td>5</td>\n",
       "      <td>15737888</td>\n",
       "      <td>Mitchell</td>\n",
       "      <td>850</td>\n",
       "      <td>Spain</td>\n",
       "      <td>Female</td>\n",
       "      <td>43</td>\n",
       "      <td>2.0</td>\n",
       "      <td>125510.82</td>\n",
       "      <td>1</td>\n",
       "      <td>1</td>\n",
       "      <td>1</td>\n",
       "      <td>79084.10</td>\n",
       "      <td>0</td>\n",
       "    </tr>\n",
       "  </tbody>\n",
       "</table>\n",
       "</div>"
      ],
      "text/plain": [
       "   RowNumber  CustomerId   Surname  CreditScore Geography  Gender  Age  \\\n",
       "0          1    15634602  Hargrave          619    France  Female   42   \n",
       "1          2    15647311      Hill          608     Spain  Female   41   \n",
       "2          3    15619304      Onio          502    France  Female   42   \n",
       "3          4    15701354      Boni          699    France  Female   39   \n",
       "4          5    15737888  Mitchell          850     Spain  Female   43   \n",
       "\n",
       "   Tenure    Balance  NumOfProducts  HasCrCard  IsActiveMember  \\\n",
       "0     2.0       0.00              1          1               1   \n",
       "1     1.0   83807.86              1          0               1   \n",
       "2     8.0  159660.80              3          1               0   \n",
       "3     1.0       0.00              2          0               0   \n",
       "4     2.0  125510.82              1          1               1   \n",
       "\n",
       "   EstimatedSalary  Exited  \n",
       "0        101348.88       1  \n",
       "1        112542.58       0  \n",
       "2        113931.57       1  \n",
       "3         93826.63       0  \n",
       "4         79084.10       0  "
      ]
     },
     "execution_count": 5,
     "metadata": {},
     "output_type": "execute_result"
    }
   ],
   "source": [
    "data.head()"
   ]
  },
  {
   "cell_type": "markdown",
   "metadata": {},
   "source": [
    "3. Рассмотрим столбец 'Tenure' - количество лет, в течение которых человек является клиентом банка. Нам неизвестны эти значения. Т.к. пропущенные значения составляют больше 9%, то удалять их - не лучший вариант. Получается, можно \"предсказать\" эти значения по принципу, схожему с алгоритмом работы модели. Создавать новую модель для предсказания количества лет займёт много времени, поэтому можно выделить один \"признак feature\" для вычисления \"целевого признака target\" \"вручную\"."
   ]
  },
  {
   "cell_type": "code",
   "execution_count": 6,
   "metadata": {},
   "outputs": [
    {
     "data": {
      "text/plain": [
       "9.09"
      ]
     },
     "execution_count": 6,
     "metadata": {},
     "output_type": "execute_result"
    }
   ],
   "source": [
    "data['Tenure'].isna().sum() / 10000 * 100"
   ]
  },
  {
   "cell_type": "markdown",
   "metadata": {},
   "source": [
    "3.1. Проведём мини-исследование. За feature возьмём признак возраста, за target - количество лет. Так как мы не будем обучать модель, лучший вариант - найти констатную модель. Есть два варианта определения константной модели - по среднему значению, как когда мы определяем константу для RMSE, или по медианному значению, как для определения константы для МАЕ.\n",
    "Мы знаем, что MSE больше зависит от разброса значений, чем МАЕ, и не знаем, насколько сильный разброс у значений. Исходя из этого, вычислим медианные значения 'Tenure' по каждой группе возраста и заполним ими пропущенные значения."
   ]
  },
  {
   "cell_type": "code",
   "execution_count": 7,
   "metadata": {},
   "outputs": [],
   "source": [
    "for age in data['Age'].unique():\n",
    "    median = data.loc[data['Age'] == age, 'Tenure'].median()\n",
    "    data.loc[(data['Tenure'].isna()) & (data['Age'] == age), 'Tenure'] = median"
   ]
  },
  {
   "cell_type": "code",
   "execution_count": 8,
   "metadata": {},
   "outputs": [
    {
     "name": "stdout",
     "output_type": "stream",
     "text": [
      "<class 'pandas.core.frame.DataFrame'>\n",
      "RangeIndex: 10000 entries, 0 to 9999\n",
      "Data columns (total 14 columns):\n",
      " #   Column           Non-Null Count  Dtype  \n",
      "---  ------           --------------  -----  \n",
      " 0   RowNumber        10000 non-null  int64  \n",
      " 1   CustomerId       10000 non-null  int64  \n",
      " 2   Surname          10000 non-null  object \n",
      " 3   CreditScore      10000 non-null  int64  \n",
      " 4   Geography        10000 non-null  object \n",
      " 5   Gender           10000 non-null  object \n",
      " 6   Age              10000 non-null  int64  \n",
      " 7   Tenure           10000 non-null  float64\n",
      " 8   Balance          10000 non-null  float64\n",
      " 9   NumOfProducts    10000 non-null  int64  \n",
      " 10  HasCrCard        10000 non-null  int64  \n",
      " 11  IsActiveMember   10000 non-null  int64  \n",
      " 12  EstimatedSalary  10000 non-null  float64\n",
      " 13  Exited           10000 non-null  int64  \n",
      "dtypes: float64(3), int64(8), object(3)\n",
      "memory usage: 1.1+ MB\n"
     ]
    }
   ],
   "source": [
    "data.info()"
   ]
  },
  {
   "cell_type": "markdown",
   "metadata": {},
   "source": [
    "Проверим данные - в столбце 'Tenure' больше нет пропусков."
   ]
  },
  {
   "cell_type": "markdown",
   "metadata": {},
   "source": [
    "4. Удалим из данных столбцы:\n",
    "- 'RowNumber' - номер строки в данных нам не нужен, т.к. они полностью повторяют индексы\n",
    "- 'CustomerId' и 'Surname' - личные данные пользователей не нужны в исследовании, т.к. они никаким образом не помогут модели обучаться более эффективно"
   ]
  },
  {
   "cell_type": "code",
   "execution_count": 9,
   "metadata": {},
   "outputs": [],
   "source": [
    "data = data.drop(['RowNumber', 'CustomerId', 'Surname'], axis=1)"
   ]
  },
  {
   "cell_type": "markdown",
   "metadata": {},
   "source": [
    "5. Объявим переменную numeric, убрав из списка исключённые столбцы и целевой признак 'Exited' т.к. это пригодится в исследовании."
   ]
  },
  {
   "cell_type": "code",
   "execution_count": 10,
   "metadata": {},
   "outputs": [],
   "source": [
    "numeric = ['CreditScore', 'Age', 'Tenure', 'Balance', 'NumOfProducts', 'HasCrCard',\\\n",
    "           'IsActiveMember', 'EstimatedSalary']"
   ]
  },
  {
   "cell_type": "markdown",
   "metadata": {},
   "source": [
    "6. Преобразуем столбцы с категориальными данными с помощью техники OHE."
   ]
  },
  {
   "cell_type": "code",
   "execution_count": 11,
   "metadata": {},
   "outputs": [],
   "source": [
    "data = pd.get_dummies(data, drop_first=True)"
   ]
  },
  {
   "cell_type": "code",
   "execution_count": 13,
   "metadata": {
    "scrolled": true
   },
   "outputs": [
    {
     "data": {
      "text/html": [
       "<div>\n",
       "<style scoped>\n",
       "    .dataframe tbody tr th:only-of-type {\n",
       "        vertical-align: middle;\n",
       "    }\n",
       "\n",
       "    .dataframe tbody tr th {\n",
       "        vertical-align: top;\n",
       "    }\n",
       "\n",
       "    .dataframe thead th {\n",
       "        text-align: right;\n",
       "    }\n",
       "</style>\n",
       "<table border=\"1\" class=\"dataframe\">\n",
       "  <thead>\n",
       "    <tr style=\"text-align: right;\">\n",
       "      <th></th>\n",
       "      <th>CreditScore</th>\n",
       "      <th>Age</th>\n",
       "      <th>Tenure</th>\n",
       "      <th>Balance</th>\n",
       "      <th>NumOfProducts</th>\n",
       "      <th>HasCrCard</th>\n",
       "      <th>IsActiveMember</th>\n",
       "      <th>EstimatedSalary</th>\n",
       "      <th>Exited</th>\n",
       "      <th>Geography_Germany</th>\n",
       "      <th>Geography_Spain</th>\n",
       "      <th>Gender_Male</th>\n",
       "    </tr>\n",
       "  </thead>\n",
       "  <tbody>\n",
       "    <tr>\n",
       "      <th>0</th>\n",
       "      <td>619</td>\n",
       "      <td>42</td>\n",
       "      <td>2.0</td>\n",
       "      <td>0.00</td>\n",
       "      <td>1</td>\n",
       "      <td>1</td>\n",
       "      <td>1</td>\n",
       "      <td>101348.88</td>\n",
       "      <td>1</td>\n",
       "      <td>0</td>\n",
       "      <td>0</td>\n",
       "      <td>0</td>\n",
       "    </tr>\n",
       "    <tr>\n",
       "      <th>1</th>\n",
       "      <td>608</td>\n",
       "      <td>41</td>\n",
       "      <td>1.0</td>\n",
       "      <td>83807.86</td>\n",
       "      <td>1</td>\n",
       "      <td>0</td>\n",
       "      <td>1</td>\n",
       "      <td>112542.58</td>\n",
       "      <td>0</td>\n",
       "      <td>0</td>\n",
       "      <td>1</td>\n",
       "      <td>0</td>\n",
       "    </tr>\n",
       "    <tr>\n",
       "      <th>2</th>\n",
       "      <td>502</td>\n",
       "      <td>42</td>\n",
       "      <td>8.0</td>\n",
       "      <td>159660.80</td>\n",
       "      <td>3</td>\n",
       "      <td>1</td>\n",
       "      <td>0</td>\n",
       "      <td>113931.57</td>\n",
       "      <td>1</td>\n",
       "      <td>0</td>\n",
       "      <td>0</td>\n",
       "      <td>0</td>\n",
       "    </tr>\n",
       "    <tr>\n",
       "      <th>3</th>\n",
       "      <td>699</td>\n",
       "      <td>39</td>\n",
       "      <td>1.0</td>\n",
       "      <td>0.00</td>\n",
       "      <td>2</td>\n",
       "      <td>0</td>\n",
       "      <td>0</td>\n",
       "      <td>93826.63</td>\n",
       "      <td>0</td>\n",
       "      <td>0</td>\n",
       "      <td>0</td>\n",
       "      <td>0</td>\n",
       "    </tr>\n",
       "    <tr>\n",
       "      <th>4</th>\n",
       "      <td>850</td>\n",
       "      <td>43</td>\n",
       "      <td>2.0</td>\n",
       "      <td>125510.82</td>\n",
       "      <td>1</td>\n",
       "      <td>1</td>\n",
       "      <td>1</td>\n",
       "      <td>79084.10</td>\n",
       "      <td>0</td>\n",
       "      <td>0</td>\n",
       "      <td>1</td>\n",
       "      <td>0</td>\n",
       "    </tr>\n",
       "  </tbody>\n",
       "</table>\n",
       "</div>"
      ],
      "text/plain": [
       "   CreditScore  Age  Tenure    Balance  NumOfProducts  HasCrCard  \\\n",
       "0          619   42     2.0       0.00              1          1   \n",
       "1          608   41     1.0   83807.86              1          0   \n",
       "2          502   42     8.0  159660.80              3          1   \n",
       "3          699   39     1.0       0.00              2          0   \n",
       "4          850   43     2.0  125510.82              1          1   \n",
       "\n",
       "   IsActiveMember  EstimatedSalary  Exited  Geography_Germany  \\\n",
       "0               1        101348.88       1                  0   \n",
       "1               1        112542.58       0                  0   \n",
       "2               0        113931.57       1                  0   \n",
       "3               0         93826.63       0                  0   \n",
       "4               1         79084.10       0                  0   \n",
       "\n",
       "   Geography_Spain  Gender_Male  \n",
       "0                0            0  \n",
       "1                1            0  \n",
       "2                0            0  \n",
       "3                0            0  \n",
       "4                1            0  "
      ]
     },
     "execution_count": 13,
     "metadata": {},
     "output_type": "execute_result"
    }
   ],
   "source": [
    "data.head()"
   ]
  },
  {
   "cell_type": "markdown",
   "metadata": {},
   "source": [
    "7. Выделим features и target, разделим данные на тренировочную, валидационную и тестовую выборки. Тренировочная выборка составит 60% от всех данных, валидационная - 20%, тестовая - 20%."
   ]
  },
  {
   "cell_type": "code",
   "execution_count": 14,
   "metadata": {},
   "outputs": [],
   "source": [
    "features = data.drop('Exited', axis=1)\n",
    "target = data['Exited']"
   ]
  },
  {
   "cell_type": "code",
   "execution_count": 15,
   "metadata": {},
   "outputs": [],
   "source": [
    "features_train_valid, features_test, target_train_valid, target_test = \\\n",
    "train_test_split(features, target, test_size=0.2, random_state=12345)\n",
    "features_train, features_valid, target_train, target_valid = \\\n",
    "train_test_split(features_train_valid, target_train_valid, test_size=0.25, random_state=12345)\n",
    "#тестовая часть содержит 25% от оставшихся данных"
   ]
  },
  {
   "cell_type": "markdown",
   "metadata": {},
   "source": [
    "7.1. Проверим размеры выборок"
   ]
  },
  {
   "cell_type": "code",
   "execution_count": 16,
   "metadata": {},
   "outputs": [
    {
     "data": {
      "text/plain": [
       "(6000, 11)"
      ]
     },
     "metadata": {},
     "output_type": "display_data"
    },
    {
     "data": {
      "text/plain": [
       "(6000,)"
      ]
     },
     "metadata": {},
     "output_type": "display_data"
    },
    {
     "data": {
      "text/plain": [
       "(2000, 11)"
      ]
     },
     "metadata": {},
     "output_type": "display_data"
    },
    {
     "data": {
      "text/plain": [
       "(2000,)"
      ]
     },
     "metadata": {},
     "output_type": "display_data"
    },
    {
     "data": {
      "text/plain": [
       "((2000, 11), (2000,))"
      ]
     },
     "execution_count": 16,
     "metadata": {},
     "output_type": "execute_result"
    }
   ],
   "source": [
    "display(features_train.shape, target_train.shape)\n",
    "display(features_valid.shape, target_valid.shape)\n",
    "features_test.shape, target_test.shape"
   ]
  },
  {
   "cell_type": "markdown",
   "metadata": {},
   "source": [
    "8. Масштабируем численные признаки"
   ]
  },
  {
   "cell_type": "code",
   "execution_count": 18,
   "metadata": {},
   "outputs": [],
   "source": [
    "pd.options.mode.chained_assignment = None\n",
    "\n",
    "scaler = StandardScaler()\n",
    "scaler.fit(features_train[numeric])\n",
    "\n",
    "features_train[numeric] = scaler.transform(features_train[numeric])\n",
    "features_valid[numeric] = scaler.transform(features_valid[numeric])\n",
    "features_test[numeric] = scaler.transform(features_test[numeric])\n",
    "\n"
   ]
  },
  {
   "cell_type": "markdown",
   "metadata": {},
   "source": [
    "## Исследование задачи"
   ]
  },
  {
   "cell_type": "markdown",
   "metadata": {},
   "source": [
    "1. Вычислим количества строк, имеющих положительные и отрицательные значения"
   ]
  },
  {
   "cell_type": "code",
   "execution_count": 19,
   "metadata": {},
   "outputs": [
    {
     "data": {
      "text/plain": [
       "0    4781\n",
       "1    1219\n",
       "Name: Exited, dtype: int64"
      ]
     },
     "execution_count": 19,
     "metadata": {},
     "output_type": "execute_result"
    }
   ],
   "source": [
    "target_train.value_counts()"
   ]
  },
  {
   "cell_type": "code",
   "execution_count": 20,
   "metadata": {},
   "outputs": [
    {
     "data": {
      "text/plain": [
       "3.922067268252666"
      ]
     },
     "execution_count": 20,
     "metadata": {},
     "output_type": "execute_result"
    }
   ],
   "source": [
    "4781 / 1219"
   ]
  },
  {
   "cell_type": "markdown",
   "metadata": {},
   "source": [
    "Количество значений с отрицательным классом почти в 4 раза больше количества значений с положительным классом. Из этого следует:\n",
    "вес класса «0» = 1.0\n",
    "вес класса «1» = 3.9"
   ]
  },
  {
   "cell_type": "markdown",
   "metadata": {},
   "source": [
    "2. Для исследования баланса классов построим модели без учёта дисбаланса классов и оценим их с помощью метрик F1 и AUC_ROC. Рассмотрим три вида моделей: логистическая регрессия, дерево решений и случайный лес."
   ]
  },
  {
   "cell_type": "markdown",
   "metadata": {},
   "source": [
    "1) Логистическая регрессия"
   ]
  },
  {
   "cell_type": "code",
   "execution_count": 21,
   "metadata": {},
   "outputs": [
    {
     "name": "stdout",
     "output_type": "stream",
     "text": [
      "F1: 0.30131826741996237\n",
      "AUC-ROC: 0.7702914710889355\n"
     ]
    }
   ],
   "source": [
    "model = LogisticRegression(solver='liblinear', random_state=12345)\n",
    "model.fit(features_train, target_train)\n",
    "predicted_valid = model.predict(features_valid) #обучим модель\n",
    "\n",
    "f1_valid = f1_score(target_valid, predicted_valid) #вычислим f1-меру\n",
    "\n",
    "proba_valid = model.predict_proba(features_valid) #вычислим вероятности получения того или иного класса\n",
    "proba_one_valid = proba_valid[:, 1] #вычислим вероятность получения положительного класса\n",
    "auc_roc_valid = roc_auc_score(target_valid, proba_one_valid) #вычислим AUC-ROC\n",
    "\n",
    "print('F1:', f1_valid)\n",
    "print('AUC-ROC:', auc_roc_valid)"
   ]
  },
  {
   "cell_type": "markdown",
   "metadata": {},
   "source": [
    "F1-score составила 0.3 - низкое значение.\\\n",
    "AUC-ROC составила 0.77, что больше 0.5, как у константной модели.\n",
    "\n",
    "F1-мера показала низкий результат, в то время как AUC-ROC показала значение выше среднего. Т.е. одна метрика показала низкое качество модели, в то время как другая метрика показала результат выше среднего. Из этого следует, что качество модели всегда нужно измерять разными метриками."
   ]
  },
  {
   "cell_type": "markdown",
   "metadata": {},
   "source": [
    "2) Дерево решений"
   ]
  },
  {
   "cell_type": "code",
   "execution_count": 22,
   "metadata": {},
   "outputs": [
    {
     "name": "stdout",
     "output_type": "stream",
     "text": [
      "Глубина: 7\n",
      "F1: 0.5583596214511041\n"
     ]
    }
   ],
   "source": [
    "#найдём глубину модели дерева решений, при которой F1-мера достигает своего максимума\n",
    "best_depth = 0\n",
    "best_f1 = 0\n",
    "for depth in range(1, 16, 1):\n",
    "        model = DecisionTreeClassifier(max_depth=depth, random_state=12345) \n",
    "        model.fit(features_train, target_train)\n",
    "        predicted_valid = model.predict(features_valid)\n",
    "        f1 = f1_score(target_valid, predicted_valid)\n",
    "        if f1 > best_f1:\n",
    "            best_f1 = f1\n",
    "            best_depth = depth\n",
    "print('Глубина:', best_depth)\n",
    "print('F1:', best_f1)"
   ]
  },
  {
   "cell_type": "markdown",
   "metadata": {},
   "source": [
    "При глубине max_depth=7 F1-мера достигает своего максимума."
   ]
  },
  {
   "cell_type": "code",
   "execution_count": 23,
   "metadata": {},
   "outputs": [
    {
     "name": "stdout",
     "output_type": "stream",
     "text": [
      "F1: 0.5583596214511041\n",
      "AUC-ROC: 0.8231010349393358\n"
     ]
    }
   ],
   "source": [
    "#вычислим F1-меру и AUC-ROC модели с глубиной 7, которая показала лучший результат\n",
    "model = DecisionTreeClassifier(max_depth=7, random_state=12345)\n",
    "model.fit(features_train, target_train)\n",
    "predicted_valid = model.predict(features_valid) #найдём предсказания модели на валидационной выборке\n",
    "proba_valid = model.predict_proba(features_valid) #найдём вероятности положительного и отрицательного классов\n",
    "proba_one_valid = proba_valid[:, 1] #найдём вероятность положительного класса для расчёта AUC-ROC\n",
    "\n",
    "print('F1:', f1_score(target_valid, predicted_valid))\n",
    "print('AUC-ROC:', roc_auc_score(target_valid, proba_one_valid))"
   ]
  },
  {
   "cell_type": "markdown",
   "metadata": {},
   "source": [
    "F1-мера составила 0.56 - на 0.2 больше, чем у модели логистической регрессии\\\n",
    "AUC-ROC составила 0.82 - на 0.05 больше, чем у модели логистической регрессии\n",
    "\n",
    "Модель дерева решений показала результаты лучше, чем у модели логистической регрессии по обеим метрикам."
   ]
  },
  {
   "cell_type": "markdown",
   "metadata": {},
   "source": [
    "3) Случайный лес"
   ]
  },
  {
   "cell_type": "code",
   "execution_count": 24,
   "metadata": {},
   "outputs": [
    {
     "name": "stdout",
     "output_type": "stream",
     "text": [
      "Глубина: 13\n",
      "Количество деревьев: 80\n",
      "F1: 0.565008025682183\n",
      "CPU times: user 40.1 s, sys: 209 ms, total: 40.3 s\n",
      "Wall time: 40.3 s\n"
     ]
    }
   ],
   "source": [
    "%%time\n",
    "\n",
    "#найдём глубину и количество деревьев модели случайного леса, при которой достигается максимальное значение F1-меры\n",
    "best_est = 0\n",
    "best_f1 = 0\n",
    "\n",
    "for depth in range(1, 16, 1):\n",
    "    for est in range(10, 101, 10):\n",
    "        model = RandomForestClassifier(n_estimators=est, max_depth=depth, random_state=12345)\n",
    "        model.fit(features_train, target_train)\n",
    "        predicted_valid = model.predict(features_valid)\n",
    "        f1 = f1_score(target_valid, predicted_valid)\n",
    "        if f1 > best_f1:\n",
    "            best_depth = depth\n",
    "            best_f1 = f1\n",
    "            best_est = est\n",
    "print('Глубина:', best_depth)\n",
    "print('Количество деревьев:', best_est)\n",
    "print('F1:', best_f1)"
   ]
  },
  {
   "cell_type": "markdown",
   "metadata": {},
   "source": [
    "Лучший результат метрики F1 дала модель с гиперпараметрами глубины 15 и количеством деревьев 20. Рассмотрим эту модель."
   ]
  },
  {
   "cell_type": "code",
   "execution_count": 25,
   "metadata": {},
   "outputs": [
    {
     "name": "stdout",
     "output_type": "stream",
     "text": [
      "F1: 0.5624012638230647\n",
      "AUC-ROC: 0.8293017696175128\n"
     ]
    }
   ],
   "source": [
    "#вычислим F1-меру и AUC-ROC модели с глубиной 7, которая показала лучший результат\n",
    "model = RandomForestClassifier(max_depth=15, n_estimators=20, random_state=12345)\n",
    "model.fit(features_train, target_train)\n",
    "predicted_valid = model.predict(features_valid) #найдём предсказания модели на валидационной выборке\n",
    "proba_valid = model.predict_proba(features_valid) #найдём вероятности положительного и отрицательного классов\n",
    "proba_one_valid = proba_valid[:, 1] #найдём вероятность положительного класса для расчёта AUC-ROC\n",
    "\n",
    "print('F1:', f1_score(target_valid, predicted_valid))\n",
    "print('AUC-ROC:', roc_auc_score(target_valid, proba_one_valid))"
   ]
  },
  {
   "cell_type": "markdown",
   "metadata": {},
   "source": [
    "F1-мера составила 0.56 - почти такой же результат, как у модели дерева решений, но немного выше (больше на 0.004)\\\n",
    "AUC-ROC составила 0.82 - почти такой же результат, как у модели дерева решений, но немного выше (больше на 0.006)\n",
    "\n",
    "Модель случайного леса показала почти такие же результаты, как модель дерева решений, но немного выше по обеим метрикам."
   ]
  },
  {
   "cell_type": "markdown",
   "metadata": {},
   "source": [
    "**Выводы:**\n",
    "- Наименьший результат по метрикам F1 и AUC-ROC показала модель логистической регрессии. Значения метрик моделей дерева решений и случайного леса выше, чем у модели логистической регрессии, и они находятся примерно на одном уровне друг с другом. Лучший результаты по метрикам показала модель случайного леса.\n",
    "- Стоит заметить, что значение F1 сильно изменилось при переходе от модели логистической регрессии к моделям дерева решений и случайного леса. Значения AUC-ROC оставались на примерно одном уровне на всех моделях."
   ]
  },
  {
   "cell_type": "markdown",
   "metadata": {},
   "source": [
    "## Борьба с дисбалансом"
   ]
  },
  {
   "cell_type": "markdown",
   "metadata": {},
   "source": [
    "Есть два способа борьбы с дисбалансом: увеличение выборки (upsampling) и уменьшение выборки(downsampling). Рассмотрим оба."
   ]
  },
  {
   "cell_type": "markdown",
   "metadata": {},
   "source": [
    "1) Увеличение выборки"
   ]
  },
  {
   "cell_type": "code",
   "execution_count": 26,
   "metadata": {},
   "outputs": [],
   "source": [
    "#разделим features и target на положительные и отрицательные по целевому признаку \n",
    "#и сохраним их в переменные features_zeros, features_ones, target_zeros, target_ones\n",
    "\n",
    "features_zeros = features_train[target_train == 0]\n",
    "features_ones = features_train[target_train == 1]\n",
    "target_zeros = target_train[target_train == 0]\n",
    "target_ones = target_train[target_train == 1]\n",
    "\n",
    "#мы выяснили ранее, что отрицательных признаков в почти 4 раза больше, чем положительных\n",
    "#объявим переменную repeat, в которой сохраним это значение\n",
    "repeat = 4\n",
    "\n",
    "features_upsampled = pd.concat([features_zeros] + [features_ones] * repeat) #соединим таблицы, увеличив количество\n",
    "target_upsampled = pd.concat([target_zeros] + [target_ones] * repeat) #выборки с положительным целевым признаком\n",
    "\n",
    "features_upsampled, target_upsampled = shuffle(features_upsampled, target_upsampled, random_state=12345)\n",
    "#перемешаем данные"
   ]
  },
  {
   "cell_type": "code",
   "execution_count": 27,
   "metadata": {},
   "outputs": [
    {
     "data": {
      "text/plain": [
       "1    4876\n",
       "0    4781\n",
       "Name: Exited, dtype: int64"
      ]
     },
     "execution_count": 27,
     "metadata": {},
     "output_type": "execute_result"
    }
   ],
   "source": [
    "target_upsampled.value_counts()"
   ]
  },
  {
   "cell_type": "markdown",
   "metadata": {},
   "source": [
    "Рассмотрим модели на обновлённых данных. Изучим модели точно так же, как до увеличения выборки и проанализируем результаты."
   ]
  },
  {
   "cell_type": "markdown",
   "metadata": {},
   "source": [
    "1.1) Логистическая регрессия"
   ]
  },
  {
   "cell_type": "code",
   "execution_count": 28,
   "metadata": {},
   "outputs": [
    {
     "name": "stdout",
     "output_type": "stream",
     "text": [
      "F1: 0.476693051890941\n",
      "AUC-ROC: 0.7725629014542559\n"
     ]
    }
   ],
   "source": [
    "model = LogisticRegression(solver='liblinear', random_state=12345)\n",
    "model.fit(features_upsampled, target_upsampled) #обучим модель на обновлённых данных\n",
    "\n",
    "#вычислим F1 и AUC-ROC\n",
    "predicted_valid = model.predict(features_valid)\n",
    "proba_valid = model.predict_proba(features_valid)\n",
    "proba_one_valid = proba_valid[:, 1]\n",
    "\n",
    "print('F1:', f1_score(target_valid, predicted_valid))\n",
    "print('AUC-ROC:', roc_auc_score(target_valid, proba_one_valid))"
   ]
  },
  {
   "cell_type": "markdown",
   "metadata": {},
   "source": [
    "Сравним значения метрик модели логистической регрессии до и после увеличения выборки:\n",
    "\n",
    "- F1 модели логистической регрессии до увеличения выборки - 0.3, значение увеличилось на 0.17\n",
    "- AUC-ROC модели логистической регрессии до увеличения выборки - 0.770, значение увеличилось на 0.002\n",
    "\n",
    "Вывод: после увеличения выборки модель логистической регрессии даёт более высокие результаты"
   ]
  },
  {
   "cell_type": "markdown",
   "metadata": {},
   "source": [
    "1.2) Дерево решений"
   ]
  },
  {
   "cell_type": "code",
   "execution_count": 29,
   "metadata": {},
   "outputs": [
    {
     "name": "stdout",
     "output_type": "stream",
     "text": [
      "Глубина: 6\n",
      "F1: 0.5587044534412956\n"
     ]
    }
   ],
   "source": [
    "best_depth = 0\n",
    "best_f1 = 0\n",
    "\n",
    "for depth in range(1, 16, 1):\n",
    "    model = DecisionTreeClassifier(max_depth=depth, random_state=12345)\n",
    "    model.fit(features_upsampled, target_upsampled)\n",
    "    predicted_valid = model.predict(features_valid)\n",
    "    f1 = f1_score(target_valid, predicted_valid)\n",
    "    if f1 > best_f1:\n",
    "        best_f1 = f1\n",
    "        best_depth = depth\n",
    "print('Глубина:', best_depth)\n",
    "print('F1:', best_f1)"
   ]
  },
  {
   "cell_type": "markdown",
   "metadata": {},
   "source": [
    "Лучший результат метрики F1 дала модель со значением max_depth=6. Рассмотрим её."
   ]
  },
  {
   "cell_type": "code",
   "execution_count": 30,
   "metadata": {
    "scrolled": true
   },
   "outputs": [
    {
     "name": "stdout",
     "output_type": "stream",
     "text": [
      "F1: 0.5587044534412956\n",
      "AUC-ROC: 0.809054407830633\n"
     ]
    }
   ],
   "source": [
    "model = DecisionTreeClassifier(max_depth=6, random_state=12345)\n",
    "model.fit(features_upsampled, target_upsampled)\n",
    "\n",
    "predicted_valid = model.predict(features_valid)\n",
    "proba_valid = model.predict_proba(features_valid)\n",
    "proba_one_valid = proba_valid[:, 1]\n",
    "\n",
    "print('F1:', f1_score(target_valid, predicted_valid))\n",
    "print('AUC-ROC:', roc_auc_score(target_valid, proba_one_valid))"
   ]
  },
  {
   "cell_type": "markdown",
   "metadata": {},
   "source": [
    "Сравним значения метрик модели дерева решений до и после увеличения выборки:\n",
    "\n",
    "F1 модели дерева решений до увеличения выборки - 0.56, значение увеличилось на 0.0004\\\n",
    "AUC-ROC модели дерева решений до увеличения выборки - 0.82, значение уменьшилось на 0.02\n",
    "\n",
    "Вывод: после увеличения выборки модель дерева решений даёт более высокие результаты по метрике F1 и менее высокие по метрике AUC-ROC, но новые результаты очень близки к прежним."
   ]
  },
  {
   "cell_type": "markdown",
   "metadata": {},
   "source": [
    "1.3) Случайный лес"
   ]
  },
  {
   "cell_type": "code",
   "execution_count": 31,
   "metadata": {},
   "outputs": [
    {
     "name": "stdout",
     "output_type": "stream",
     "text": [
      "Глубина: 13\n",
      "Количество деревьев: 40\n",
      "F1: 0.6032540675844806\n"
     ]
    }
   ],
   "source": [
    "best_depth = 0\n",
    "best_est = 0\n",
    "best_f1 = 0\n",
    "\n",
    "for depth in range(1, 16, 1):\n",
    "    for est in range(10, 101, 10):\n",
    "        model = RandomForestClassifier(max_depth=depth, n_estimators=est, random_state=12345)\n",
    "        model.fit(features_upsampled, target_upsampled)\n",
    "        predicted_valid = model.predict(features_valid)\n",
    "        f1 = f1_score(target_valid, predicted_valid)\n",
    "        if f1 > best_f1:\n",
    "            best_f1 = f1\n",
    "            best_est = est\n",
    "            best_depth = depth\n",
    "print('Глубина:', best_depth)\n",
    "print('Количество деревьев:', best_est)\n",
    "print('F1:', best_f1)"
   ]
  },
  {
   "cell_type": "markdown",
   "metadata": {},
   "source": [
    "Лучший результат метрики F1 дала модель случайного леса с гиперпараметрами: глубиной max_depth=15 и количеством деревьев n_estimators=80. Рассмотрим её."
   ]
  },
  {
   "cell_type": "code",
   "execution_count": 32,
   "metadata": {},
   "outputs": [
    {
     "name": "stdout",
     "output_type": "stream",
     "text": [
      "F1: 0.5970548862115127\n",
      "AUC-ROC: 0.8475630206685858\n"
     ]
    }
   ],
   "source": [
    "#обучим модель с глубиной max_depth=15 и количеством деревьев n_estimators=80 на обновлённых данных\n",
    "\n",
    "model = RandomForestClassifier(max_depth=15, n_estimators=80, random_state=12345)\n",
    "model.fit(features_upsampled, target_upsampled)\n",
    "\n",
    "predicted_valid = model.predict(features_valid)\n",
    "proba_valid = model.predict_proba(features_valid)\n",
    "proba_valid_one = proba_valid[:, 1]\n",
    "\n",
    "print('F1:', f1_score(target_valid, predicted_valid))\n",
    "print('AUC-ROC:', roc_auc_score(target_valid, proba_valid_one))"
   ]
  },
  {
   "cell_type": "markdown",
   "metadata": {},
   "source": [
    "Сравним значения метрик модели случайного леса до и после увеличения выборки:\n",
    "\n",
    "- F1 модели случайного леса до увеличения выборки - 0.56, значение увеличилось на 0.3\n",
    "- AUC-ROC модели случайного леса до увеличения выборки - 0.82, значение увеличилось на 0.02\n",
    "\n",
    "Вывод: значения метрик случайного леса улучшились после увеличения выборки.\n",
    "\n",
    "**Значение F1 больше 0.59 достигнуто.**"
   ]
  },
  {
   "cell_type": "markdown",
   "metadata": {},
   "source": [
    "2) Уменьшение выборки"
   ]
  },
  {
   "cell_type": "markdown",
   "metadata": {},
   "source": [
    "Т.к. отрицательных значений почти в 4 раза больше, нужно уменьшить их количество в 4 раза, т.е. новая выборка будет составлять 0.25 часть от старой выборки."
   ]
  },
  {
   "cell_type": "code",
   "execution_count": 33,
   "metadata": {},
   "outputs": [],
   "source": [
    "#мы уже объявили нужные нам переменные features_zeros, features_ones, target_zeros, target_ones\n",
    "\n",
    "#случайным образом отбросим значения отрицательного класса и оставим 0.25 часть от старой выборки\n",
    "features_sample = features_zeros.sample(frac=0.25, random_state=12345)\n",
    "target_sample = target_zeros.sample(frac=0.25, random_state=12345)\n",
    "\n",
    "#соединим значения отрицательного и положительного классов\n",
    "features_downsampled = pd.concat([features_sample] + [features_ones])\n",
    "target_downsampled = pd.concat([target_sample] + [target_ones])\n",
    "\n",
    "#перемешаем значения\n",
    "features_downsampled, target_downsampled = shuffle(features_downsampled, target_downsampled, random_state=12345)"
   ]
  },
  {
   "cell_type": "code",
   "execution_count": 34,
   "metadata": {},
   "outputs": [
    {
     "data": {
      "text/plain": [
       "1    1219\n",
       "0    1195\n",
       "Name: Exited, dtype: int64"
      ]
     },
     "execution_count": 34,
     "metadata": {},
     "output_type": "execute_result"
    }
   ],
   "source": [
    "target_downsampled.value_counts()"
   ]
  },
  {
   "cell_type": "markdown",
   "metadata": {},
   "source": [
    "Рассмотрим модели на обновлённых данных."
   ]
  },
  {
   "cell_type": "markdown",
   "metadata": {},
   "source": [
    "2.1) Логистическая регрессия"
   ]
  },
  {
   "cell_type": "code",
   "execution_count": 35,
   "metadata": {},
   "outputs": [
    {
     "name": "stdout",
     "output_type": "stream",
     "text": [
      "F1: 0.4750219106047327\n",
      "AUC-ROC: 0.7737407390334738\n"
     ]
    }
   ],
   "source": [
    "#обучим модель логистической регрессии на обновлённых данных\n",
    "model = LogisticRegression(solver='liblinear', random_state=12345)\n",
    "model.fit(features_downsampled, target_downsampled)\n",
    "\n",
    "#рассчитаем F1 и AUC-ROC\n",
    "predicted_valid = model.predict(features_valid)\n",
    "proba_valid = model.predict_proba(features_valid)\n",
    "proba_valid_one = proba_valid[:, 1]\n",
    "\n",
    "print('F1:', f1_score(target_valid, predicted_valid))\n",
    "print('AUC-ROC:', roc_auc_score(target_valid, proba_valid_one))"
   ]
  },
  {
   "cell_type": "markdown",
   "metadata": {},
   "source": [
    "F1 логистической регрессии без учёта дисбаланса - 0.30131826741996237\\\n",
    "F1 логистической регрессии после увеличения выборки - 0.476693051890941\\\n",
    "F1 логистической регрессии после уменьшения выборки - 0.4750219106047327\n",
    "\n",
    "AUC-ROC логистической регрессии без учёта дисбаланса - 0.7702914710889355\\\n",
    "AUC-ROC логистической регрессии после увеличения выборки - 0.7725629014542559\\\n",
    "AUC-ROC логистической регрессии после уменьшения выборки - 0.7737407390334738\n",
    "\n",
    "Наибольшее значение F1 модели логистической регрессии достигается при её обучении на увеличенной выборке, значение AUC-ROC - на уменьшенной. При этом значение F1 заметно увеличивается после балансировки классов. Значение AUC-ROC тоже увеличивается, но в меньшей степени."
   ]
  },
  {
   "cell_type": "markdown",
   "metadata": {},
   "source": [
    "2.2) Дерево решений"
   ]
  },
  {
   "cell_type": "code",
   "execution_count": 36,
   "metadata": {},
   "outputs": [
    {
     "name": "stdout",
     "output_type": "stream",
     "text": [
      "Глубина: 7\n",
      "F1: 0.5493482309124766\n"
     ]
    }
   ],
   "source": [
    "best_f1 = 0\n",
    "best_depth = 0\n",
    "#обучим модель на обновлённых данных и найдём значение глубины, при котором достигается наибольшее значение F1\n",
    "for depth in range(1, 16, 1):\n",
    "    model = DecisionTreeClassifier(max_depth=depth, random_state=12345)\n",
    "    model.fit(features_downsampled, target_downsampled)\n",
    "    predicted_valid = model.predict(features_valid)\n",
    "    f1 = f1_score(target_valid, predicted_valid)\n",
    "    if f1 > best_f1:\n",
    "        best_f1 = f1\n",
    "        best_depth = depth\n",
    "print('Глубина:', best_depth)\n",
    "print('F1:', best_f1)"
   ]
  },
  {
   "cell_type": "markdown",
   "metadata": {},
   "source": [
    "Лучшее значение F1-меры даёт модель дерева решений при значении максимальной глубины 7. Рассмотрим её."
   ]
  },
  {
   "cell_type": "code",
   "execution_count": 37,
   "metadata": {},
   "outputs": [
    {
     "name": "stdout",
     "output_type": "stream",
     "text": [
      "F1: 0.5493482309124766\n",
      "AUC-ROC: 0.8143546769371137\n"
     ]
    }
   ],
   "source": [
    "#обучим модель дерева решений с глубиной 7 на обновлённых данных\n",
    "model = DecisionTreeClassifier(max_depth=7, random_state=12345)\n",
    "model.fit(features_downsampled, target_downsampled)\n",
    "predicted_valid = model.predict(features_valid)\n",
    "proba_valid = model.predict_proba(features_valid)\n",
    "proba_one_valid = proba_valid[:, 1]\n",
    "\n",
    "print('F1:', f1_score(target_valid, predicted_valid))\n",
    "print('AUC-ROC:', roc_auc_score(target_valid, proba_one_valid))"
   ]
  },
  {
   "cell_type": "markdown",
   "metadata": {},
   "source": [
    "F1 дерева решений без учёта дисбаланса - 0.5583596214511041\\\n",
    "F1 дерева решений после увеличения выборки - 0.5587044534412956\\\n",
    "F1 дерева решений после уменьшения выборки - 0.5493482309124766\n",
    "\n",
    "AUC-ROC дерева решений без учёта дисбаланса - 0.8231010349393358\\\n",
    "AUC-ROC дерева решений после увеличения выборки - 0.809054407830633\\\n",
    "AUC-ROC дерева решений после уменьшения выборки - 0.8143546769371137\n",
    "\n",
    "Наибольшее значение метрики F1 модели дерева решений достигается после увеличения выборки, наибольшее значение AUC-ROC достигается без учёта дисбаланса."
   ]
  },
  {
   "cell_type": "markdown",
   "metadata": {},
   "source": [
    "2.3) Случайный лес"
   ]
  },
  {
   "cell_type": "code",
   "execution_count": 38,
   "metadata": {
    "scrolled": true
   },
   "outputs": [
    {
     "name": "stdout",
     "output_type": "stream",
     "text": [
      "Глубина: 9\n",
      "Количество деревьев: 100\n",
      "F1: 0.5700293829578844\n"
     ]
    }
   ],
   "source": [
    "best_f1 = 0\n",
    "best_depth = 0\n",
    "best_est = 0\n",
    "#найдём значения гиперпараметров, при котором достигается наибольшее значение F1\n",
    "for depth in range(1, 16, 1):\n",
    "    for est in range(10, 101, 10):\n",
    "        model = RandomForestClassifier(max_depth=depth, n_estimators=est, random_state=12345)\n",
    "        model.fit(features_downsampled, target_downsampled)\n",
    "        predicted_valid = model.predict(features_valid)\n",
    "        f1 = f1_score(target_valid, predicted_valid)\n",
    "        if f1 > best_f1:\n",
    "            best_f1 = f1\n",
    "            best_depth = depth\n",
    "            best_est = est\n",
    "print('Глубина:', best_depth)\n",
    "print('Количество деревьев:', best_est)\n",
    "print('F1:', best_f1)"
   ]
  },
  {
   "cell_type": "markdown",
   "metadata": {},
   "source": [
    "Наибольшее значение F1 модели случайного леса достигается при максимальной глубине 9 и количестве деревьев 100. Рассмотрим эту модель."
   ]
  },
  {
   "cell_type": "code",
   "execution_count": 39,
   "metadata": {},
   "outputs": [
    {
     "name": "stdout",
     "output_type": "stream",
     "text": [
      "F1: 0.5700293829578844\n",
      "AUC-ROC: 0.8485167353076286\n"
     ]
    }
   ],
   "source": [
    "#обучим модель случайного леса с глубиной 9 и количеством деревьев 100 на обновлённых данных\n",
    "model = RandomForestClassifier(max_depth=9, n_estimators=100, random_state=12345)\n",
    "model.fit(features_downsampled, target_downsampled)\n",
    "predicted_valid = model.predict(features_valid)\n",
    "proba_valid = model.predict_proba(features_valid)\n",
    "proba_one_valid = proba_valid[:, 1]\n",
    "\n",
    "print('F1:', f1_score(target_valid, predicted_valid))\n",
    "print('AUC-ROC:', roc_auc_score(target_valid, proba_one_valid))"
   ]
  },
  {
   "cell_type": "markdown",
   "metadata": {},
   "source": [
    "F1 случайного леса без учёта дисбаланса - 0.5624012638230647\\\n",
    "F1 случайного леса после увеличения выборки - 0.5986577181208055\\\n",
    "F1 случайного леса после уменьшения выборки - 0.5700293829578844\n",
    "\n",
    "AUC-ROC случайного леса без учёта дисбаланса - 0.8293017696175128\\\n",
    "AUC-ROC случайного леса после увеличения выборки - 0.8475630206685858\\\n",
    "AUC-ROC случайного леса после уменьшения выборки - 0.8485167353076286\n",
    "\n",
    "Наибольшее значение F1 модели случайного леса достигается после увеличения выборки, наибольшее значение AUC-ROC - после уменьшения выборки."
   ]
  },
  {
   "cell_type": "markdown",
   "metadata": {},
   "source": [
    "**Вывод:** таким образом, значение F1 больше 0.59 достигается только моделью случайного леса с гиперпараметрами max_depth=15 и количеством деревьев n_estimators=80 после увеличения выборки."
   ]
  },
  {
   "cell_type": "markdown",
   "metadata": {},
   "source": [
    "## Тестирование модели"
   ]
  },
  {
   "cell_type": "markdown",
   "metadata": {},
   "source": [
    "Протестируем модель, которая дала лучший результат метрики F1."
   ]
  },
  {
   "cell_type": "code",
   "execution_count": 40,
   "metadata": {},
   "outputs": [
    {
     "name": "stdout",
     "output_type": "stream",
     "text": [
      "F1: 0.6133004926108374\n",
      "AUC-ROC: 0.8560009290262643\n"
     ]
    }
   ],
   "source": [
    "#перезапишем в переменные модель с лучшими результатами\n",
    "model = RandomForestClassifier(max_depth=15, n_estimators=80, random_state=12345)\n",
    "model.fit(features_upsampled, target_upsampled)\n",
    "\n",
    "#вычислим метрики F1 и AUC-ROC на тестовой выборке\n",
    "predicted_test = model.predict(features_test)\n",
    "proba_test = model.predict_proba(features_test)\n",
    "proba_one_test = proba_test[:, 1]\n",
    "\n",
    "print('F1:', f1_score(target_test, predicted_test))\n",
    "print('AUC-ROC:', roc_auc_score(target_test, proba_one_test))"
   ]
  },
  {
   "cell_type": "markdown",
   "metadata": {},
   "source": [
    "Значение F1 на тестовой выборке составило 0.61 - больше, чем на валидационной на 0.02\\\n",
    "Значение AUC-ROC на тестовой выборке составило 0.85 - больше, чем на валидационной на 0.009"
   ]
  },
  {
   "cell_type": "markdown",
   "metadata": {},
   "source": [
    "**ИТОГОВЫЙ ВЫВОД:**\n",
    "\n",
    "В исследовании были рассмотрены модели логистической регрессии, дерева решений и случайного леса в трёх случаях: без учёта дисбаланса, после увеличения выборки, после уменьшения выборки. В моделях дерева решений и случайного леса были выявлены модели с гиперпараметрами, дающими наибольшие значения метрик F1 и AUC-ROC.\n",
    "\n",
    "Стоит отметить, что при изменении гиперпараметров метрики F1 и AUC-ROC не всегда увеличивались или уменьшались синхронно - при изменении некоторых условий одна метрика увеличивалась, другая уменьшалась.\n",
    "\n",
    "Наибольшие значения метрик дала модель случайного леса с глубиной 15 и количеством деревьев 80. Это единственная модель, значение F1-меры которой превысило 0.59. На тестовой проверке модель дала значения метрик ещё выше, чем на валидационной проверке."
   ]
  }
 ],
 "metadata": {
  "ExecuteTimeLog": [
   {
    "duration": 421,
    "start_time": "2023-02-14T11:17:51.993Z"
   },
   {
    "duration": 82,
    "start_time": "2023-02-14T11:18:47.458Z"
   },
   {
    "duration": 175,
    "start_time": "2023-02-14T11:18:57.012Z"
   },
   {
    "duration": 29,
    "start_time": "2023-02-14T11:21:59.165Z"
   },
   {
    "duration": 23,
    "start_time": "2023-02-14T11:22:18.701Z"
   },
   {
    "duration": 3,
    "start_time": "2023-02-14T11:23:32.365Z"
   },
   {
    "duration": 15,
    "start_time": "2023-02-14T11:25:19.832Z"
   },
   {
    "duration": 20,
    "start_time": "2023-02-14T11:25:24.310Z"
   },
   {
    "duration": 4,
    "start_time": "2023-02-14T11:54:22.658Z"
   },
   {
    "duration": 3,
    "start_time": "2023-02-14T11:58:14.633Z"
   },
   {
    "duration": 3,
    "start_time": "2023-02-14T11:58:28.991Z"
   },
   {
    "duration": 1319,
    "start_time": "2023-02-14T12:06:22.847Z"
   },
   {
    "duration": 15,
    "start_time": "2023-02-14T12:06:41.628Z"
   },
   {
    "duration": 5,
    "start_time": "2023-02-14T12:15:27.094Z"
   },
   {
    "duration": 5,
    "start_time": "2023-02-14T12:16:08.610Z"
   },
   {
    "duration": 4,
    "start_time": "2023-02-14T12:16:51.532Z"
   },
   {
    "duration": 4,
    "start_time": "2023-02-14T12:16:52.068Z"
   },
   {
    "duration": 6,
    "start_time": "2023-02-14T12:47:16.627Z"
   },
   {
    "duration": 11,
    "start_time": "2023-02-14T13:03:22.780Z"
   },
   {
    "duration": 11,
    "start_time": "2023-02-14T13:03:45.268Z"
   },
   {
    "duration": 411,
    "start_time": "2023-02-14T13:03:53.497Z"
   },
   {
    "duration": 41,
    "start_time": "2023-02-14T13:03:53.909Z"
   },
   {
    "duration": 9,
    "start_time": "2023-02-14T13:03:53.952Z"
   },
   {
    "duration": 21,
    "start_time": "2023-02-14T13:03:53.962Z"
   },
   {
    "duration": 15,
    "start_time": "2023-02-14T13:03:53.985Z"
   },
   {
    "duration": 4,
    "start_time": "2023-02-14T13:03:54.002Z"
   },
   {
    "duration": 9,
    "start_time": "2023-02-14T13:03:54.007Z"
   },
   {
    "duration": 11,
    "start_time": "2023-02-14T13:03:54.017Z"
   },
   {
    "duration": 13,
    "start_time": "2023-02-14T13:03:54.030Z"
   },
   {
    "duration": 6,
    "start_time": "2023-02-14T13:03:54.044Z"
   },
   {
    "duration": 83,
    "start_time": "2023-02-14T13:03:54.052Z"
   },
   {
    "duration": 96,
    "start_time": "2023-02-14T13:04:14.882Z"
   },
   {
    "duration": 11,
    "start_time": "2023-02-14T13:04:38.281Z"
   },
   {
    "duration": 422,
    "start_time": "2023-02-14T13:04:55.475Z"
   },
   {
    "duration": 38,
    "start_time": "2023-02-14T13:04:55.899Z"
   },
   {
    "duration": 7,
    "start_time": "2023-02-14T13:04:55.939Z"
   },
   {
    "duration": 17,
    "start_time": "2023-02-14T13:04:55.948Z"
   },
   {
    "duration": 14,
    "start_time": "2023-02-14T13:04:55.967Z"
   },
   {
    "duration": 4,
    "start_time": "2023-02-14T13:04:55.982Z"
   },
   {
    "duration": 3,
    "start_time": "2023-02-14T13:04:55.991Z"
   },
   {
    "duration": 7,
    "start_time": "2023-02-14T13:04:55.996Z"
   },
   {
    "duration": 11,
    "start_time": "2023-02-14T13:04:56.004Z"
   },
   {
    "duration": 9,
    "start_time": "2023-02-14T13:04:56.017Z"
   },
   {
    "duration": 101,
    "start_time": "2023-02-14T13:04:56.028Z"
   },
   {
    "duration": 10,
    "start_time": "2023-02-14T13:04:56.131Z"
   },
   {
    "duration": 8,
    "start_time": "2023-02-14T14:27:08.319Z"
   },
   {
    "duration": 82,
    "start_time": "2023-02-14T14:28:30.480Z"
   },
   {
    "duration": 425,
    "start_time": "2023-02-14T14:33:52.373Z"
   },
   {
    "duration": 161,
    "start_time": "2023-02-14T14:33:52.800Z"
   },
   {
    "duration": 8,
    "start_time": "2023-02-14T14:33:52.965Z"
   },
   {
    "duration": 15,
    "start_time": "2023-02-14T14:33:52.975Z"
   },
   {
    "duration": 15,
    "start_time": "2023-02-14T14:33:52.992Z"
   },
   {
    "duration": 5,
    "start_time": "2023-02-14T14:33:53.008Z"
   },
   {
    "duration": 13,
    "start_time": "2023-02-14T14:33:53.014Z"
   },
   {
    "duration": 14,
    "start_time": "2023-02-14T14:33:53.029Z"
   },
   {
    "duration": 8,
    "start_time": "2023-02-14T14:33:53.046Z"
   },
   {
    "duration": 6,
    "start_time": "2023-02-14T14:33:53.055Z"
   },
   {
    "duration": 118,
    "start_time": "2023-02-14T14:33:53.063Z"
   },
   {
    "duration": 14,
    "start_time": "2023-02-14T14:33:53.183Z"
   },
   {
    "duration": 6,
    "start_time": "2023-02-14T14:38:09.350Z"
   },
   {
    "duration": 65,
    "start_time": "2023-02-14T14:51:11.745Z"
   },
   {
    "duration": 689,
    "start_time": "2023-02-14T14:52:05.017Z"
   },
   {
    "duration": 1104,
    "start_time": "2023-02-14T14:52:13.884Z"
   },
   {
    "duration": 42,
    "start_time": "2023-02-14T14:52:14.991Z"
   },
   {
    "duration": 32,
    "start_time": "2023-02-14T14:52:15.035Z"
   },
   {
    "duration": 58,
    "start_time": "2023-02-14T14:52:15.069Z"
   },
   {
    "duration": 42,
    "start_time": "2023-02-14T14:52:15.130Z"
   },
   {
    "duration": 61,
    "start_time": "2023-02-14T14:52:15.174Z"
   },
   {
    "duration": 18,
    "start_time": "2023-02-14T14:52:15.237Z"
   },
   {
    "duration": 13,
    "start_time": "2023-02-14T14:52:15.257Z"
   },
   {
    "duration": 18,
    "start_time": "2023-02-14T14:52:15.272Z"
   },
   {
    "duration": 11,
    "start_time": "2023-02-14T14:52:15.292Z"
   },
   {
    "duration": 109,
    "start_time": "2023-02-14T14:52:15.304Z"
   },
   {
    "duration": 10,
    "start_time": "2023-02-14T14:52:15.416Z"
   },
   {
    "duration": 9,
    "start_time": "2023-02-14T14:52:15.428Z"
   },
   {
    "duration": 12,
    "start_time": "2023-02-14T14:52:15.440Z"
   },
   {
    "duration": 5,
    "start_time": "2023-02-14T14:54:13.218Z"
   },
   {
    "duration": 49,
    "start_time": "2023-02-14T20:36:54.469Z"
   },
   {
    "duration": 1070,
    "start_time": "2023-02-14T20:36:59.266Z"
   },
   {
    "duration": 81,
    "start_time": "2023-02-14T20:37:00.338Z"
   },
   {
    "duration": 10,
    "start_time": "2023-02-14T20:37:00.421Z"
   },
   {
    "duration": 25,
    "start_time": "2023-02-14T20:37:00.433Z"
   },
   {
    "duration": 17,
    "start_time": "2023-02-14T20:37:00.460Z"
   },
   {
    "duration": 4,
    "start_time": "2023-02-14T20:37:00.479Z"
   },
   {
    "duration": 9,
    "start_time": "2023-02-14T20:37:00.485Z"
   },
   {
    "duration": 13,
    "start_time": "2023-02-14T20:37:00.496Z"
   },
   {
    "duration": 11,
    "start_time": "2023-02-14T20:37:00.510Z"
   },
   {
    "duration": 5,
    "start_time": "2023-02-14T20:37:00.524Z"
   },
   {
    "duration": 104,
    "start_time": "2023-02-14T20:37:00.531Z"
   },
   {
    "duration": 10,
    "start_time": "2023-02-14T20:37:00.637Z"
   },
   {
    "duration": 14,
    "start_time": "2023-02-14T20:37:00.649Z"
   },
   {
    "duration": 24,
    "start_time": "2023-02-14T20:37:00.665Z"
   },
   {
    "duration": 22,
    "start_time": "2023-02-14T20:37:00.691Z"
   },
   {
    "duration": 76,
    "start_time": "2023-02-14T20:51:05.300Z"
   },
   {
    "duration": 46,
    "start_time": "2023-02-15T08:47:21.920Z"
   },
   {
    "duration": 1091,
    "start_time": "2023-02-15T08:47:28.190Z"
   },
   {
    "duration": 164,
    "start_time": "2023-02-15T08:47:29.283Z"
   },
   {
    "duration": 7,
    "start_time": "2023-02-15T08:47:29.449Z"
   },
   {
    "duration": 13,
    "start_time": "2023-02-15T08:47:29.458Z"
   },
   {
    "duration": 13,
    "start_time": "2023-02-15T08:47:29.473Z"
   },
   {
    "duration": 3,
    "start_time": "2023-02-15T08:47:29.488Z"
   },
   {
    "duration": 7,
    "start_time": "2023-02-15T08:47:29.493Z"
   },
   {
    "duration": 8,
    "start_time": "2023-02-15T08:47:29.501Z"
   },
   {
    "duration": 11,
    "start_time": "2023-02-15T08:47:29.510Z"
   },
   {
    "duration": 10,
    "start_time": "2023-02-15T08:47:29.523Z"
   },
   {
    "duration": 91,
    "start_time": "2023-02-15T08:47:29.534Z"
   },
   {
    "duration": 9,
    "start_time": "2023-02-15T08:47:29.627Z"
   },
   {
    "duration": 3,
    "start_time": "2023-02-15T08:47:29.638Z"
   },
   {
    "duration": 12,
    "start_time": "2023-02-15T08:47:29.643Z"
   },
   {
    "duration": 12,
    "start_time": "2023-02-15T08:47:29.656Z"
   },
   {
    "duration": 48,
    "start_time": "2023-02-15T08:47:29.669Z"
   },
   {
    "duration": 94,
    "start_time": "2023-02-15T08:50:29.210Z"
   },
   {
    "duration": 94,
    "start_time": "2023-02-15T08:50:47.311Z"
   },
   {
    "duration": 38,
    "start_time": "2023-02-15T08:55:15.480Z"
   },
   {
    "duration": 34,
    "start_time": "2023-02-15T08:55:39.169Z"
   },
   {
    "duration": 93,
    "start_time": "2023-02-15T09:18:44.910Z"
   },
   {
    "duration": 97,
    "start_time": "2023-02-15T09:23:32.033Z"
   },
   {
    "duration": 1209,
    "start_time": "2023-02-15T09:23:41.469Z"
   },
   {
    "duration": 0,
    "start_time": "2023-02-15T09:23:42.680Z"
   },
   {
    "duration": 0,
    "start_time": "2023-02-15T09:23:42.682Z"
   },
   {
    "duration": 0,
    "start_time": "2023-02-15T09:23:42.682Z"
   },
   {
    "duration": 0,
    "start_time": "2023-02-15T09:23:42.684Z"
   },
   {
    "duration": 0,
    "start_time": "2023-02-15T09:23:42.685Z"
   },
   {
    "duration": 0,
    "start_time": "2023-02-15T09:23:42.686Z"
   },
   {
    "duration": 0,
    "start_time": "2023-02-15T09:23:42.687Z"
   },
   {
    "duration": 0,
    "start_time": "2023-02-15T09:23:42.688Z"
   },
   {
    "duration": 0,
    "start_time": "2023-02-15T09:23:42.689Z"
   },
   {
    "duration": 0,
    "start_time": "2023-02-15T09:23:42.690Z"
   },
   {
    "duration": 0,
    "start_time": "2023-02-15T09:23:42.691Z"
   },
   {
    "duration": 0,
    "start_time": "2023-02-15T09:23:42.703Z"
   },
   {
    "duration": 0,
    "start_time": "2023-02-15T09:23:42.704Z"
   },
   {
    "duration": 0,
    "start_time": "2023-02-15T09:23:42.705Z"
   },
   {
    "duration": 0,
    "start_time": "2023-02-15T09:23:42.706Z"
   },
   {
    "duration": 0,
    "start_time": "2023-02-15T09:23:42.707Z"
   },
   {
    "duration": 0,
    "start_time": "2023-02-15T09:23:42.708Z"
   },
   {
    "duration": 9,
    "start_time": "2023-02-15T09:24:16.816Z"
   },
   {
    "duration": 8,
    "start_time": "2023-02-15T09:24:20.155Z"
   },
   {
    "duration": 9,
    "start_time": "2023-02-15T09:24:37.840Z"
   },
   {
    "duration": 3,
    "start_time": "2023-02-15T09:25:06.843Z"
   },
   {
    "duration": 9,
    "start_time": "2023-02-15T09:25:54.676Z"
   },
   {
    "duration": 8,
    "start_time": "2023-02-15T09:27:39.860Z"
   },
   {
    "duration": 8,
    "start_time": "2023-02-15T09:28:00.400Z"
   },
   {
    "duration": 1063,
    "start_time": "2023-02-15T09:29:40.830Z"
   },
   {
    "duration": 39,
    "start_time": "2023-02-15T09:29:41.895Z"
   },
   {
    "duration": 9,
    "start_time": "2023-02-15T09:29:41.936Z"
   },
   {
    "duration": 15,
    "start_time": "2023-02-15T09:29:41.946Z"
   },
   {
    "duration": 12,
    "start_time": "2023-02-15T09:29:41.963Z"
   },
   {
    "duration": 3,
    "start_time": "2023-02-15T09:29:41.977Z"
   },
   {
    "duration": 6,
    "start_time": "2023-02-15T09:29:41.981Z"
   },
   {
    "duration": 7,
    "start_time": "2023-02-15T09:29:41.988Z"
   },
   {
    "duration": 9,
    "start_time": "2023-02-15T09:29:41.996Z"
   },
   {
    "duration": 4,
    "start_time": "2023-02-15T09:29:42.007Z"
   },
   {
    "duration": 11,
    "start_time": "2023-02-15T09:29:42.013Z"
   },
   {
    "duration": 11,
    "start_time": "2023-02-15T09:29:42.025Z"
   },
   {
    "duration": 4,
    "start_time": "2023-02-15T09:29:42.038Z"
   },
   {
    "duration": 122,
    "start_time": "2023-02-15T09:29:42.044Z"
   },
   {
    "duration": 0,
    "start_time": "2023-02-15T09:29:42.168Z"
   },
   {
    "duration": 0,
    "start_time": "2023-02-15T09:29:42.169Z"
   },
   {
    "duration": 0,
    "start_time": "2023-02-15T09:29:42.170Z"
   },
   {
    "duration": 0,
    "start_time": "2023-02-15T09:29:42.171Z"
   },
   {
    "duration": 3,
    "start_time": "2023-02-15T09:34:48.425Z"
   },
   {
    "duration": 3,
    "start_time": "2023-02-15T09:34:52.317Z"
   },
   {
    "duration": 1271,
    "start_time": "2023-02-15T09:35:05.892Z"
   },
   {
    "duration": 41,
    "start_time": "2023-02-15T09:35:07.165Z"
   },
   {
    "duration": 7,
    "start_time": "2023-02-15T09:35:07.208Z"
   },
   {
    "duration": 14,
    "start_time": "2023-02-15T09:35:07.217Z"
   },
   {
    "duration": 19,
    "start_time": "2023-02-15T09:35:07.233Z"
   },
   {
    "duration": 4,
    "start_time": "2023-02-15T09:35:07.253Z"
   },
   {
    "duration": 7,
    "start_time": "2023-02-15T09:35:07.258Z"
   },
   {
    "duration": 15,
    "start_time": "2023-02-15T09:35:07.267Z"
   },
   {
    "duration": 5,
    "start_time": "2023-02-15T09:35:07.284Z"
   },
   {
    "duration": 15,
    "start_time": "2023-02-15T09:35:07.291Z"
   },
   {
    "duration": 11,
    "start_time": "2023-02-15T09:35:07.309Z"
   },
   {
    "duration": 8,
    "start_time": "2023-02-15T09:35:07.322Z"
   },
   {
    "duration": 4,
    "start_time": "2023-02-15T09:35:07.332Z"
   },
   {
    "duration": 23,
    "start_time": "2023-02-15T09:35:07.338Z"
   },
   {
    "duration": 117,
    "start_time": "2023-02-15T09:35:07.362Z"
   },
   {
    "duration": 10,
    "start_time": "2023-02-15T09:35:07.480Z"
   },
   {
    "duration": 107,
    "start_time": "2023-02-15T09:35:07.503Z"
   },
   {
    "duration": 0,
    "start_time": "2023-02-15T09:35:07.612Z"
   },
   {
    "duration": 13,
    "start_time": "2023-02-15T09:37:51.292Z"
   },
   {
    "duration": 2,
    "start_time": "2023-02-15T09:39:36.633Z"
   },
   {
    "duration": 1116,
    "start_time": "2023-02-15T09:39:42.536Z"
   },
   {
    "duration": 46,
    "start_time": "2023-02-15T09:39:43.654Z"
   },
   {
    "duration": 9,
    "start_time": "2023-02-15T09:39:43.702Z"
   },
   {
    "duration": 16,
    "start_time": "2023-02-15T09:39:43.713Z"
   },
   {
    "duration": 15,
    "start_time": "2023-02-15T09:39:43.731Z"
   },
   {
    "duration": 4,
    "start_time": "2023-02-15T09:39:43.747Z"
   },
   {
    "duration": 4,
    "start_time": "2023-02-15T09:39:43.753Z"
   },
   {
    "duration": 9,
    "start_time": "2023-02-15T09:39:43.758Z"
   },
   {
    "duration": 18,
    "start_time": "2023-02-15T09:39:43.768Z"
   },
   {
    "duration": 6,
    "start_time": "2023-02-15T09:39:43.788Z"
   },
   {
    "duration": 17,
    "start_time": "2023-02-15T09:39:43.796Z"
   },
   {
    "duration": 9,
    "start_time": "2023-02-15T09:39:43.815Z"
   },
   {
    "duration": 5,
    "start_time": "2023-02-15T09:39:43.826Z"
   },
   {
    "duration": 3,
    "start_time": "2023-02-15T09:39:43.833Z"
   },
   {
    "duration": 126,
    "start_time": "2023-02-15T09:39:43.837Z"
   },
   {
    "duration": 12,
    "start_time": "2023-02-15T09:39:43.965Z"
   },
   {
    "duration": 121,
    "start_time": "2023-02-15T09:39:43.978Z"
   },
   {
    "duration": 0,
    "start_time": "2023-02-15T09:39:44.103Z"
   },
   {
    "duration": 1128,
    "start_time": "2023-02-15T09:39:53.943Z"
   },
   {
    "duration": 48,
    "start_time": "2023-02-15T09:39:55.073Z"
   },
   {
    "duration": 10,
    "start_time": "2023-02-15T09:39:55.123Z"
   },
   {
    "duration": 16,
    "start_time": "2023-02-15T09:39:55.136Z"
   },
   {
    "duration": 14,
    "start_time": "2023-02-15T09:39:55.154Z"
   },
   {
    "duration": 3,
    "start_time": "2023-02-15T09:39:55.170Z"
   },
   {
    "duration": 7,
    "start_time": "2023-02-15T09:39:55.175Z"
   },
   {
    "duration": 24,
    "start_time": "2023-02-15T09:39:55.183Z"
   },
   {
    "duration": 7,
    "start_time": "2023-02-15T09:39:55.209Z"
   },
   {
    "duration": 10,
    "start_time": "2023-02-15T09:39:55.219Z"
   },
   {
    "duration": 12,
    "start_time": "2023-02-15T09:39:55.231Z"
   },
   {
    "duration": 10,
    "start_time": "2023-02-15T09:39:55.246Z"
   },
   {
    "duration": 5,
    "start_time": "2023-02-15T09:39:55.258Z"
   },
   {
    "duration": 7,
    "start_time": "2023-02-15T09:39:55.265Z"
   },
   {
    "duration": 119,
    "start_time": "2023-02-15T09:39:55.303Z"
   },
   {
    "duration": 12,
    "start_time": "2023-02-15T09:39:55.424Z"
   },
   {
    "duration": 120,
    "start_time": "2023-02-15T09:39:55.437Z"
   },
   {
    "duration": 0,
    "start_time": "2023-02-15T09:39:55.559Z"
   },
   {
    "duration": 24,
    "start_time": "2023-02-15T09:40:05.884Z"
   },
   {
    "duration": 21,
    "start_time": "2023-02-15T09:42:25.228Z"
   },
   {
    "duration": 5,
    "start_time": "2023-02-15T09:42:35.308Z"
   },
   {
    "duration": 1191,
    "start_time": "2023-02-15T09:42:44.007Z"
   },
   {
    "duration": 40,
    "start_time": "2023-02-15T09:42:45.200Z"
   },
   {
    "duration": 9,
    "start_time": "2023-02-15T09:42:45.241Z"
   },
   {
    "duration": 14,
    "start_time": "2023-02-15T09:42:45.252Z"
   },
   {
    "duration": 15,
    "start_time": "2023-02-15T09:42:45.268Z"
   },
   {
    "duration": 4,
    "start_time": "2023-02-15T09:42:45.284Z"
   },
   {
    "duration": 5,
    "start_time": "2023-02-15T09:42:45.289Z"
   },
   {
    "duration": 11,
    "start_time": "2023-02-15T09:42:45.295Z"
   },
   {
    "duration": 6,
    "start_time": "2023-02-15T09:42:45.308Z"
   },
   {
    "duration": 5,
    "start_time": "2023-02-15T09:42:45.316Z"
   },
   {
    "duration": 19,
    "start_time": "2023-02-15T09:42:45.322Z"
   },
   {
    "duration": 9,
    "start_time": "2023-02-15T09:42:45.342Z"
   },
   {
    "duration": 23,
    "start_time": "2023-02-15T09:42:45.353Z"
   },
   {
    "duration": 29,
    "start_time": "2023-02-15T09:42:45.378Z"
   },
   {
    "duration": 104,
    "start_time": "2023-02-15T09:42:45.409Z"
   },
   {
    "duration": 14,
    "start_time": "2023-02-15T09:42:45.514Z"
   },
   {
    "duration": 123,
    "start_time": "2023-02-15T09:42:45.529Z"
   },
   {
    "duration": 0,
    "start_time": "2023-02-15T09:42:45.654Z"
   },
   {
    "duration": 5,
    "start_time": "2023-02-15T09:43:43.563Z"
   },
   {
    "duration": 4,
    "start_time": "2023-02-15T09:43:52.949Z"
   },
   {
    "duration": 1188,
    "start_time": "2023-02-15T09:44:11.257Z"
   },
   {
    "duration": 42,
    "start_time": "2023-02-15T09:44:12.447Z"
   },
   {
    "duration": 11,
    "start_time": "2023-02-15T09:44:12.491Z"
   },
   {
    "duration": 20,
    "start_time": "2023-02-15T09:44:12.503Z"
   },
   {
    "duration": 15,
    "start_time": "2023-02-15T09:44:12.525Z"
   },
   {
    "duration": 4,
    "start_time": "2023-02-15T09:44:12.542Z"
   },
   {
    "duration": 8,
    "start_time": "2023-02-15T09:44:12.548Z"
   },
   {
    "duration": 11,
    "start_time": "2023-02-15T09:44:12.558Z"
   },
   {
    "duration": 23,
    "start_time": "2023-02-15T09:44:12.571Z"
   },
   {
    "duration": 15,
    "start_time": "2023-02-15T09:44:12.595Z"
   },
   {
    "duration": 17,
    "start_time": "2023-02-15T09:44:12.611Z"
   },
   {
    "duration": 9,
    "start_time": "2023-02-15T09:44:12.629Z"
   },
   {
    "duration": 33,
    "start_time": "2023-02-15T09:44:12.640Z"
   },
   {
    "duration": 5,
    "start_time": "2023-02-15T09:44:12.677Z"
   },
   {
    "duration": 134,
    "start_time": "2023-02-15T09:44:12.683Z"
   },
   {
    "duration": 11,
    "start_time": "2023-02-15T09:44:12.819Z"
   },
   {
    "duration": 129,
    "start_time": "2023-02-15T09:44:12.832Z"
   },
   {
    "duration": 0,
    "start_time": "2023-02-15T09:44:12.964Z"
   },
   {
    "duration": 58,
    "start_time": "2023-02-15T11:11:55.730Z"
   },
   {
    "duration": 1005,
    "start_time": "2023-02-15T11:12:01.491Z"
   },
   {
    "duration": 88,
    "start_time": "2023-02-15T11:12:02.499Z"
   },
   {
    "duration": 8,
    "start_time": "2023-02-15T11:12:02.589Z"
   },
   {
    "duration": 21,
    "start_time": "2023-02-15T11:12:02.600Z"
   },
   {
    "duration": 17,
    "start_time": "2023-02-15T11:12:02.623Z"
   },
   {
    "duration": 5,
    "start_time": "2023-02-15T11:12:02.642Z"
   },
   {
    "duration": 10,
    "start_time": "2023-02-15T11:12:02.649Z"
   },
   {
    "duration": 10,
    "start_time": "2023-02-15T11:12:02.661Z"
   },
   {
    "duration": 18,
    "start_time": "2023-02-15T11:12:02.673Z"
   },
   {
    "duration": 8,
    "start_time": "2023-02-15T11:12:02.693Z"
   },
   {
    "duration": 6,
    "start_time": "2023-02-15T11:12:02.702Z"
   },
   {
    "duration": 6,
    "start_time": "2023-02-15T11:12:02.709Z"
   },
   {
    "duration": 113,
    "start_time": "2023-02-15T11:12:02.716Z"
   },
   {
    "duration": 0,
    "start_time": "2023-02-15T11:12:02.837Z"
   },
   {
    "duration": 0,
    "start_time": "2023-02-15T11:12:02.839Z"
   },
   {
    "duration": 0,
    "start_time": "2023-02-15T11:12:02.840Z"
   },
   {
    "duration": 0,
    "start_time": "2023-02-15T11:12:02.841Z"
   },
   {
    "duration": 0,
    "start_time": "2023-02-15T11:12:02.843Z"
   },
   {
    "duration": 0,
    "start_time": "2023-02-15T11:12:02.844Z"
   },
   {
    "duration": 10,
    "start_time": "2023-02-15T11:12:40.235Z"
   },
   {
    "duration": 4,
    "start_time": "2023-02-15T11:12:57.522Z"
   },
   {
    "duration": 972,
    "start_time": "2023-02-15T11:18:47.294Z"
   },
   {
    "duration": 33,
    "start_time": "2023-02-15T11:18:48.268Z"
   },
   {
    "duration": 7,
    "start_time": "2023-02-15T11:18:48.303Z"
   },
   {
    "duration": 15,
    "start_time": "2023-02-15T11:18:48.311Z"
   },
   {
    "duration": 15,
    "start_time": "2023-02-15T11:18:48.328Z"
   },
   {
    "duration": 3,
    "start_time": "2023-02-15T11:18:48.344Z"
   },
   {
    "duration": 6,
    "start_time": "2023-02-15T11:18:48.349Z"
   },
   {
    "duration": 7,
    "start_time": "2023-02-15T11:18:48.356Z"
   },
   {
    "duration": 11,
    "start_time": "2023-02-15T11:18:48.364Z"
   },
   {
    "duration": 10,
    "start_time": "2023-02-15T11:18:48.376Z"
   },
   {
    "duration": 9,
    "start_time": "2023-02-15T11:18:48.388Z"
   },
   {
    "duration": 8,
    "start_time": "2023-02-15T11:18:48.398Z"
   },
   {
    "duration": 37,
    "start_time": "2023-02-15T11:18:48.408Z"
   },
   {
    "duration": 22,
    "start_time": "2023-02-15T11:18:48.447Z"
   },
   {
    "duration": 4,
    "start_time": "2023-02-15T11:18:48.471Z"
   },
   {
    "duration": 110,
    "start_time": "2023-02-15T11:18:48.476Z"
   },
   {
    "duration": 11,
    "start_time": "2023-02-15T11:18:48.588Z"
   },
   {
    "duration": 111,
    "start_time": "2023-02-15T11:18:48.600Z"
   },
   {
    "duration": 0,
    "start_time": "2023-02-15T11:18:48.712Z"
   },
   {
    "duration": 11,
    "start_time": "2023-02-15T11:20:18.399Z"
   },
   {
    "duration": 7,
    "start_time": "2023-02-15T11:20:24.003Z"
   },
   {
    "duration": 12,
    "start_time": "2023-02-15T11:20:26.138Z"
   },
   {
    "duration": 1065,
    "start_time": "2023-02-15T11:20:55.196Z"
   },
   {
    "duration": 37,
    "start_time": "2023-02-15T11:20:56.262Z"
   },
   {
    "duration": 10,
    "start_time": "2023-02-15T11:20:56.300Z"
   },
   {
    "duration": 14,
    "start_time": "2023-02-15T11:20:56.312Z"
   },
   {
    "duration": 18,
    "start_time": "2023-02-15T11:20:56.329Z"
   },
   {
    "duration": 4,
    "start_time": "2023-02-15T11:20:56.348Z"
   },
   {
    "duration": 6,
    "start_time": "2023-02-15T11:20:56.354Z"
   },
   {
    "duration": 7,
    "start_time": "2023-02-15T11:20:56.362Z"
   },
   {
    "duration": 11,
    "start_time": "2023-02-15T11:20:56.371Z"
   },
   {
    "duration": 8,
    "start_time": "2023-02-15T11:20:56.384Z"
   },
   {
    "duration": 10,
    "start_time": "2023-02-15T11:20:56.394Z"
   },
   {
    "duration": 34,
    "start_time": "2023-02-15T11:20:56.405Z"
   },
   {
    "duration": 22,
    "start_time": "2023-02-15T11:20:56.441Z"
   },
   {
    "duration": 4,
    "start_time": "2023-02-15T11:20:56.466Z"
   },
   {
    "duration": 116,
    "start_time": "2023-02-15T11:20:56.471Z"
   },
   {
    "duration": 11,
    "start_time": "2023-02-15T11:20:56.589Z"
   },
   {
    "duration": 123,
    "start_time": "2023-02-15T11:20:56.601Z"
   },
   {
    "duration": 0,
    "start_time": "2023-02-15T11:20:56.725Z"
   },
   {
    "duration": 19,
    "start_time": "2023-02-15T11:21:37.267Z"
   },
   {
    "duration": 1102,
    "start_time": "2023-02-15T11:22:04.433Z"
   },
   {
    "duration": 38,
    "start_time": "2023-02-15T11:22:05.537Z"
   },
   {
    "duration": 9,
    "start_time": "2023-02-15T11:22:05.576Z"
   },
   {
    "duration": 18,
    "start_time": "2023-02-15T11:22:05.587Z"
   },
   {
    "duration": 17,
    "start_time": "2023-02-15T11:22:05.608Z"
   },
   {
    "duration": 4,
    "start_time": "2023-02-15T11:22:05.627Z"
   },
   {
    "duration": 9,
    "start_time": "2023-02-15T11:22:05.637Z"
   },
   {
    "duration": 7,
    "start_time": "2023-02-15T11:22:05.648Z"
   },
   {
    "duration": 13,
    "start_time": "2023-02-15T11:22:05.656Z"
   },
   {
    "duration": 13,
    "start_time": "2023-02-15T11:22:05.671Z"
   },
   {
    "duration": 14,
    "start_time": "2023-02-15T11:22:05.685Z"
   },
   {
    "duration": 14,
    "start_time": "2023-02-15T11:22:05.701Z"
   },
   {
    "duration": 41,
    "start_time": "2023-02-15T11:22:05.717Z"
   },
   {
    "duration": 4,
    "start_time": "2023-02-15T11:22:05.761Z"
   },
   {
    "duration": 114,
    "start_time": "2023-02-15T11:22:05.767Z"
   },
   {
    "duration": 11,
    "start_time": "2023-02-15T11:22:05.882Z"
   },
   {
    "duration": 130,
    "start_time": "2023-02-15T11:22:05.895Z"
   },
   {
    "duration": 0,
    "start_time": "2023-02-15T11:22:06.036Z"
   },
   {
    "duration": 13,
    "start_time": "2023-02-15T11:24:25.482Z"
   },
   {
    "duration": 1017,
    "start_time": "2023-02-15T11:24:43.548Z"
   },
   {
    "duration": 35,
    "start_time": "2023-02-15T11:24:44.567Z"
   },
   {
    "duration": 8,
    "start_time": "2023-02-15T11:24:44.603Z"
   },
   {
    "duration": 14,
    "start_time": "2023-02-15T11:24:44.613Z"
   },
   {
    "duration": 14,
    "start_time": "2023-02-15T11:24:44.629Z"
   },
   {
    "duration": 6,
    "start_time": "2023-02-15T11:24:44.644Z"
   },
   {
    "duration": 24,
    "start_time": "2023-02-15T11:24:44.651Z"
   },
   {
    "duration": 7,
    "start_time": "2023-02-15T11:24:44.676Z"
   },
   {
    "duration": 12,
    "start_time": "2023-02-15T11:24:44.685Z"
   },
   {
    "duration": 7,
    "start_time": "2023-02-15T11:24:44.698Z"
   },
   {
    "duration": 10,
    "start_time": "2023-02-15T11:24:44.706Z"
   },
   {
    "duration": 10,
    "start_time": "2023-02-15T11:24:44.717Z"
   },
   {
    "duration": 25,
    "start_time": "2023-02-15T11:24:44.728Z"
   },
   {
    "duration": 4,
    "start_time": "2023-02-15T11:24:44.755Z"
   },
   {
    "duration": 101,
    "start_time": "2023-02-15T11:24:44.761Z"
   },
   {
    "duration": 10,
    "start_time": "2023-02-15T11:24:44.864Z"
   },
   {
    "duration": 115,
    "start_time": "2023-02-15T11:24:44.875Z"
   },
   {
    "duration": 0,
    "start_time": "2023-02-15T11:24:44.992Z"
   },
   {
    "duration": 14,
    "start_time": "2023-02-15T11:24:59.515Z"
   },
   {
    "duration": 11,
    "start_time": "2023-02-15T11:25:14.071Z"
   },
   {
    "duration": 12,
    "start_time": "2023-02-15T11:25:16.628Z"
   },
   {
    "duration": 3,
    "start_time": "2023-02-15T11:25:38.516Z"
   },
   {
    "duration": 24,
    "start_time": "2023-02-15T11:27:55.635Z"
   },
   {
    "duration": 4,
    "start_time": "2023-02-15T11:29:05.830Z"
   },
   {
    "duration": 7,
    "start_time": "2023-02-15T11:29:14.948Z"
   },
   {
    "duration": 9,
    "start_time": "2023-02-15T11:29:55.928Z"
   },
   {
    "duration": 1072,
    "start_time": "2023-02-15T11:30:43.386Z"
   },
   {
    "duration": 38,
    "start_time": "2023-02-15T11:30:44.460Z"
   },
   {
    "duration": 8,
    "start_time": "2023-02-15T11:30:44.500Z"
   },
   {
    "duration": 15,
    "start_time": "2023-02-15T11:30:44.509Z"
   },
   {
    "duration": 14,
    "start_time": "2023-02-15T11:30:44.526Z"
   },
   {
    "duration": 4,
    "start_time": "2023-02-15T11:30:44.542Z"
   },
   {
    "duration": 8,
    "start_time": "2023-02-15T11:30:44.548Z"
   },
   {
    "duration": 12,
    "start_time": "2023-02-15T11:30:44.557Z"
   },
   {
    "duration": 17,
    "start_time": "2023-02-15T11:30:44.571Z"
   },
   {
    "duration": 109,
    "start_time": "2023-02-15T11:30:44.590Z"
   },
   {
    "duration": 0,
    "start_time": "2023-02-15T11:30:44.700Z"
   },
   {
    "duration": 0,
    "start_time": "2023-02-15T11:30:44.701Z"
   },
   {
    "duration": 0,
    "start_time": "2023-02-15T11:30:44.702Z"
   },
   {
    "duration": 0,
    "start_time": "2023-02-15T11:30:44.703Z"
   },
   {
    "duration": 0,
    "start_time": "2023-02-15T11:30:44.704Z"
   },
   {
    "duration": 0,
    "start_time": "2023-02-15T11:30:44.705Z"
   },
   {
    "duration": 0,
    "start_time": "2023-02-15T11:30:44.706Z"
   },
   {
    "duration": 0,
    "start_time": "2023-02-15T11:30:44.707Z"
   },
   {
    "duration": 11,
    "start_time": "2023-02-15T11:32:38.767Z"
   },
   {
    "duration": 1001,
    "start_time": "2023-02-15T11:33:03.884Z"
   },
   {
    "duration": 37,
    "start_time": "2023-02-15T11:33:04.887Z"
   },
   {
    "duration": 8,
    "start_time": "2023-02-15T11:33:04.925Z"
   },
   {
    "duration": 14,
    "start_time": "2023-02-15T11:33:04.935Z"
   },
   {
    "duration": 13,
    "start_time": "2023-02-15T11:33:04.951Z"
   },
   {
    "duration": 4,
    "start_time": "2023-02-15T11:33:04.965Z"
   },
   {
    "duration": 6,
    "start_time": "2023-02-15T11:33:04.971Z"
   },
   {
    "duration": 14,
    "start_time": "2023-02-15T11:33:04.979Z"
   },
   {
    "duration": 11,
    "start_time": "2023-02-15T11:33:04.994Z"
   },
   {
    "duration": 29,
    "start_time": "2023-02-15T11:33:05.008Z"
   },
   {
    "duration": 9,
    "start_time": "2023-02-15T11:33:05.039Z"
   },
   {
    "duration": 8,
    "start_time": "2023-02-15T11:33:05.050Z"
   },
   {
    "duration": 20,
    "start_time": "2023-02-15T11:33:05.059Z"
   },
   {
    "duration": 4,
    "start_time": "2023-02-15T11:33:05.081Z"
   },
   {
    "duration": 119,
    "start_time": "2023-02-15T11:33:05.086Z"
   },
   {
    "duration": 13,
    "start_time": "2023-02-15T11:33:05.207Z"
   },
   {
    "duration": 126,
    "start_time": "2023-02-15T11:33:05.222Z"
   },
   {
    "duration": 0,
    "start_time": "2023-02-15T11:33:05.350Z"
   },
   {
    "duration": 16,
    "start_time": "2023-02-15T11:33:46.464Z"
   },
   {
    "duration": 8,
    "start_time": "2023-02-15T11:44:51.082Z"
   },
   {
    "duration": 7,
    "start_time": "2023-02-15T11:45:53.712Z"
   },
   {
    "duration": 997,
    "start_time": "2023-02-15T11:46:30.288Z"
   },
   {
    "duration": 35,
    "start_time": "2023-02-15T11:46:31.287Z"
   },
   {
    "duration": 29,
    "start_time": "2023-02-15T11:46:31.324Z"
   },
   {
    "duration": 40,
    "start_time": "2023-02-15T11:46:31.354Z"
   },
   {
    "duration": 17,
    "start_time": "2023-02-15T11:46:31.396Z"
   },
   {
    "duration": 10,
    "start_time": "2023-02-15T11:46:31.414Z"
   },
   {
    "duration": 15,
    "start_time": "2023-02-15T11:46:31.425Z"
   },
   {
    "duration": 14,
    "start_time": "2023-02-15T11:46:31.442Z"
   },
   {
    "duration": 12,
    "start_time": "2023-02-15T11:46:31.457Z"
   },
   {
    "duration": 7,
    "start_time": "2023-02-15T11:46:31.471Z"
   },
   {
    "duration": 8,
    "start_time": "2023-02-15T11:46:31.479Z"
   },
   {
    "duration": 19,
    "start_time": "2023-02-15T11:46:31.488Z"
   },
   {
    "duration": 30,
    "start_time": "2023-02-15T11:46:31.508Z"
   },
   {
    "duration": 4,
    "start_time": "2023-02-15T11:46:31.541Z"
   },
   {
    "duration": 101,
    "start_time": "2023-02-15T11:46:31.546Z"
   },
   {
    "duration": 10,
    "start_time": "2023-02-15T11:46:31.649Z"
   },
   {
    "duration": 6,
    "start_time": "2023-02-15T11:46:31.661Z"
   },
   {
    "duration": 112,
    "start_time": "2023-02-15T11:46:31.669Z"
   },
   {
    "duration": 0,
    "start_time": "2023-02-15T11:46:31.783Z"
   },
   {
    "duration": 6,
    "start_time": "2023-02-15T11:47:10.060Z"
   },
   {
    "duration": 5,
    "start_time": "2023-02-15T11:47:16.042Z"
   },
   {
    "duration": 6,
    "start_time": "2023-02-15T11:47:24.104Z"
   },
   {
    "duration": 1058,
    "start_time": "2023-02-15T11:47:35.105Z"
   },
   {
    "duration": 34,
    "start_time": "2023-02-15T11:47:36.165Z"
   },
   {
    "duration": 8,
    "start_time": "2023-02-15T11:47:36.200Z"
   },
   {
    "duration": 14,
    "start_time": "2023-02-15T11:47:36.210Z"
   },
   {
    "duration": 13,
    "start_time": "2023-02-15T11:47:36.226Z"
   },
   {
    "duration": 3,
    "start_time": "2023-02-15T11:47:36.241Z"
   },
   {
    "duration": 5,
    "start_time": "2023-02-15T11:47:36.245Z"
   },
   {
    "duration": 31,
    "start_time": "2023-02-15T11:47:36.252Z"
   },
   {
    "duration": 18,
    "start_time": "2023-02-15T11:47:36.285Z"
   },
   {
    "duration": 6,
    "start_time": "2023-02-15T11:47:36.305Z"
   },
   {
    "duration": 11,
    "start_time": "2023-02-15T11:47:36.312Z"
   },
   {
    "duration": 8,
    "start_time": "2023-02-15T11:47:36.324Z"
   },
   {
    "duration": 21,
    "start_time": "2023-02-15T11:47:36.337Z"
   },
   {
    "duration": 5,
    "start_time": "2023-02-15T11:47:36.360Z"
   },
   {
    "duration": 112,
    "start_time": "2023-02-15T11:47:36.367Z"
   },
   {
    "duration": 10,
    "start_time": "2023-02-15T11:47:36.481Z"
   },
   {
    "duration": 6,
    "start_time": "2023-02-15T11:47:36.493Z"
   },
   {
    "duration": 8,
    "start_time": "2023-02-15T11:47:36.501Z"
   },
   {
    "duration": 126,
    "start_time": "2023-02-15T11:47:36.511Z"
   },
   {
    "duration": 0,
    "start_time": "2023-02-15T11:47:36.639Z"
   },
   {
    "duration": 14,
    "start_time": "2023-02-15T11:48:26.966Z"
   },
   {
    "duration": 15,
    "start_time": "2023-02-15T11:48:47.536Z"
   },
   {
    "duration": 12,
    "start_time": "2023-02-15T11:49:40.245Z"
   },
   {
    "duration": 11,
    "start_time": "2023-02-15T11:50:15.445Z"
   },
   {
    "duration": 1027,
    "start_time": "2023-02-15T11:51:02.361Z"
   },
   {
    "duration": 35,
    "start_time": "2023-02-15T11:51:03.390Z"
   },
   {
    "duration": 7,
    "start_time": "2023-02-15T11:51:03.426Z"
   },
   {
    "duration": 17,
    "start_time": "2023-02-15T11:51:03.435Z"
   },
   {
    "duration": 14,
    "start_time": "2023-02-15T11:51:03.455Z"
   },
   {
    "duration": 12,
    "start_time": "2023-02-15T11:51:03.471Z"
   },
   {
    "duration": 15,
    "start_time": "2023-02-15T11:51:03.484Z"
   },
   {
    "duration": 18,
    "start_time": "2023-02-15T11:51:03.501Z"
   },
   {
    "duration": 20,
    "start_time": "2023-02-15T11:51:03.520Z"
   },
   {
    "duration": 8,
    "start_time": "2023-02-15T11:51:03.541Z"
   },
   {
    "duration": 9,
    "start_time": "2023-02-15T11:51:03.550Z"
   },
   {
    "duration": 7,
    "start_time": "2023-02-15T11:51:03.561Z"
   },
   {
    "duration": 21,
    "start_time": "2023-02-15T11:51:03.570Z"
   },
   {
    "duration": 4,
    "start_time": "2023-02-15T11:51:03.594Z"
   },
   {
    "duration": 117,
    "start_time": "2023-02-15T11:51:03.599Z"
   },
   {
    "duration": 10,
    "start_time": "2023-02-15T11:51:03.717Z"
   },
   {
    "duration": 16,
    "start_time": "2023-02-15T11:51:03.728Z"
   },
   {
    "duration": 102,
    "start_time": "2023-02-15T11:51:03.745Z"
   },
   {
    "duration": 0,
    "start_time": "2023-02-15T11:51:03.849Z"
   },
   {
    "duration": 5,
    "start_time": "2023-02-15T11:57:15.224Z"
   },
   {
    "duration": 1043,
    "start_time": "2023-02-15T11:58:37.641Z"
   },
   {
    "duration": 36,
    "start_time": "2023-02-15T11:58:38.686Z"
   },
   {
    "duration": 8,
    "start_time": "2023-02-15T11:58:38.723Z"
   },
   {
    "duration": 15,
    "start_time": "2023-02-15T11:58:38.732Z"
   },
   {
    "duration": 14,
    "start_time": "2023-02-15T11:58:38.749Z"
   },
   {
    "duration": 4,
    "start_time": "2023-02-15T11:58:38.764Z"
   },
   {
    "duration": 104,
    "start_time": "2023-02-15T11:58:38.769Z"
   },
   {
    "duration": 9,
    "start_time": "2023-02-15T11:58:38.875Z"
   },
   {
    "duration": 6,
    "start_time": "2023-02-15T11:58:38.886Z"
   },
   {
    "duration": 5,
    "start_time": "2023-02-15T11:58:38.893Z"
   },
   {
    "duration": 15,
    "start_time": "2023-02-15T11:58:38.899Z"
   },
   {
    "duration": 25,
    "start_time": "2023-02-15T11:58:38.915Z"
   },
   {
    "duration": 7,
    "start_time": "2023-02-15T11:58:38.941Z"
   },
   {
    "duration": 8,
    "start_time": "2023-02-15T11:58:38.950Z"
   },
   {
    "duration": 8,
    "start_time": "2023-02-15T11:58:38.959Z"
   },
   {
    "duration": 21,
    "start_time": "2023-02-15T11:58:38.969Z"
   },
   {
    "duration": 12,
    "start_time": "2023-02-15T11:58:38.992Z"
   },
   {
    "duration": 133,
    "start_time": "2023-02-15T11:58:39.005Z"
   },
   {
    "duration": 4,
    "start_time": "2023-02-15T11:58:39.139Z"
   },
   {
    "duration": 1026,
    "start_time": "2023-02-15T12:01:19.954Z"
   },
   {
    "duration": 35,
    "start_time": "2023-02-15T12:01:20.981Z"
   },
   {
    "duration": 8,
    "start_time": "2023-02-15T12:01:21.017Z"
   },
   {
    "duration": 22,
    "start_time": "2023-02-15T12:01:21.027Z"
   },
   {
    "duration": 14,
    "start_time": "2023-02-15T12:01:21.051Z"
   },
   {
    "duration": 4,
    "start_time": "2023-02-15T12:01:21.066Z"
   },
   {
    "duration": 102,
    "start_time": "2023-02-15T12:01:21.071Z"
   },
   {
    "duration": 12,
    "start_time": "2023-02-15T12:01:21.174Z"
   },
   {
    "duration": 10,
    "start_time": "2023-02-15T12:01:21.187Z"
   },
   {
    "duration": 6,
    "start_time": "2023-02-15T12:01:21.199Z"
   },
   {
    "duration": 29,
    "start_time": "2023-02-15T12:01:21.207Z"
   },
   {
    "duration": 17,
    "start_time": "2023-02-15T12:01:21.237Z"
   },
   {
    "duration": 7,
    "start_time": "2023-02-15T12:01:21.255Z"
   },
   {
    "duration": 8,
    "start_time": "2023-02-15T12:01:21.264Z"
   },
   {
    "duration": 8,
    "start_time": "2023-02-15T12:01:21.273Z"
   },
   {
    "duration": 20,
    "start_time": "2023-02-15T12:01:21.283Z"
   },
   {
    "duration": 32,
    "start_time": "2023-02-15T12:01:21.305Z"
   },
   {
    "duration": 198,
    "start_time": "2023-02-15T12:01:21.339Z"
   },
   {
    "duration": 3,
    "start_time": "2023-02-15T12:01:21.539Z"
   },
   {
    "duration": 12,
    "start_time": "2023-02-15T12:05:49.224Z"
   },
   {
    "duration": 110,
    "start_time": "2023-02-15T12:19:11.120Z"
   },
   {
    "duration": 15,
    "start_time": "2023-02-15T12:19:39.091Z"
   },
   {
    "duration": 14,
    "start_time": "2023-02-15T12:19:45.257Z"
   },
   {
    "duration": 9,
    "start_time": "2023-02-15T12:20:07.556Z"
   },
   {
    "duration": 8,
    "start_time": "2023-02-15T12:20:31.698Z"
   },
   {
    "duration": 7,
    "start_time": "2023-02-15T12:20:51.776Z"
   },
   {
    "duration": 7,
    "start_time": "2023-02-15T12:23:18.094Z"
   },
   {
    "duration": 3,
    "start_time": "2023-02-15T12:26:59.926Z"
   },
   {
    "duration": 6,
    "start_time": "2023-02-15T12:28:21.262Z"
   },
   {
    "duration": 29,
    "start_time": "2023-02-15T12:28:25.826Z"
   },
   {
    "duration": 687,
    "start_time": "2023-02-15T12:29:02.910Z"
   },
   {
    "duration": 11,
    "start_time": "2023-02-15T12:29:19.117Z"
   },
   {
    "duration": 10,
    "start_time": "2023-02-15T12:29:42.303Z"
   },
   {
    "duration": 5,
    "start_time": "2023-02-15T12:30:09.396Z"
   },
   {
    "duration": 11,
    "start_time": "2023-02-15T12:32:31.174Z"
   },
   {
    "duration": 6,
    "start_time": "2023-02-15T12:33:24.677Z"
   },
   {
    "duration": 4,
    "start_time": "2023-02-15T12:33:54.766Z"
   },
   {
    "duration": 5,
    "start_time": "2023-02-15T12:37:02.728Z"
   },
   {
    "duration": 47,
    "start_time": "2023-02-15T13:13:42.838Z"
   },
   {
    "duration": 291,
    "start_time": "2023-02-15T13:20:15.504Z"
   },
   {
    "duration": 28,
    "start_time": "2023-02-15T13:23:06.741Z"
   },
   {
    "duration": 26,
    "start_time": "2023-02-15T13:23:13.251Z"
   },
   {
    "duration": 25,
    "start_time": "2023-02-15T13:23:43.569Z"
   },
   {
    "duration": 26,
    "start_time": "2023-02-15T13:24:51.105Z"
   },
   {
    "duration": 27,
    "start_time": "2023-02-15T13:30:22.041Z"
   },
   {
    "duration": 27,
    "start_time": "2023-02-15T13:31:00.560Z"
   },
   {
    "duration": 31668,
    "start_time": "2023-02-15T14:09:56.529Z"
   },
   {
    "duration": 31327,
    "start_time": "2023-02-15T14:10:34.773Z"
   },
   {
    "duration": 1129,
    "start_time": "2023-02-15T16:04:01.429Z"
   },
   {
    "duration": 40,
    "start_time": "2023-02-15T16:04:02.561Z"
   },
   {
    "duration": 10,
    "start_time": "2023-02-15T16:04:02.603Z"
   },
   {
    "duration": 26,
    "start_time": "2023-02-15T16:04:02.616Z"
   },
   {
    "duration": 29,
    "start_time": "2023-02-15T16:04:02.645Z"
   },
   {
    "duration": 6,
    "start_time": "2023-02-15T16:04:02.677Z"
   },
   {
    "duration": 106,
    "start_time": "2023-02-15T16:04:02.685Z"
   },
   {
    "duration": 11,
    "start_time": "2023-02-15T16:04:02.793Z"
   },
   {
    "duration": 9,
    "start_time": "2023-02-15T16:04:02.805Z"
   },
   {
    "duration": 5,
    "start_time": "2023-02-15T16:04:02.816Z"
   },
   {
    "duration": 20,
    "start_time": "2023-02-15T16:04:02.823Z"
   },
   {
    "duration": 11,
    "start_time": "2023-02-15T16:04:02.844Z"
   },
   {
    "duration": 16,
    "start_time": "2023-02-15T16:04:02.857Z"
   },
   {
    "duration": 8,
    "start_time": "2023-02-15T16:04:02.876Z"
   },
   {
    "duration": 8,
    "start_time": "2023-02-15T16:04:02.885Z"
   },
   {
    "duration": 45,
    "start_time": "2023-02-15T16:04:02.894Z"
   },
   {
    "duration": 5,
    "start_time": "2023-02-15T16:04:02.941Z"
   },
   {
    "duration": 6,
    "start_time": "2023-02-15T16:04:02.947Z"
   },
   {
    "duration": 85,
    "start_time": "2023-02-15T16:04:02.954Z"
   },
   {
    "duration": 375,
    "start_time": "2023-02-15T16:04:03.041Z"
   },
   {
    "duration": 34,
    "start_time": "2023-02-15T16:04:03.418Z"
   },
   {
    "duration": 37154,
    "start_time": "2023-02-15T16:04:03.454Z"
   },
   {
    "duration": 3759,
    "start_time": "2023-02-15T16:06:08.270Z"
   },
   {
    "duration": 2354,
    "start_time": "2023-02-15T16:09:59.261Z"
   },
   {
    "duration": 47,
    "start_time": "2023-02-15T16:10:49.440Z"
   },
   {
    "duration": 431,
    "start_time": "2023-02-15T16:10:54.787Z"
   },
   {
    "duration": 436,
    "start_time": "2023-02-15T16:11:00.579Z"
   },
   {
    "duration": 2403,
    "start_time": "2023-02-15T16:11:39.639Z"
   },
   {
    "duration": 2387,
    "start_time": "2023-02-15T16:13:12.938Z"
   },
   {
    "duration": 1081,
    "start_time": "2023-02-15T16:13:27.011Z"
   },
   {
    "duration": 37,
    "start_time": "2023-02-15T16:13:28.093Z"
   },
   {
    "duration": 9,
    "start_time": "2023-02-15T16:13:28.131Z"
   },
   {
    "duration": 14,
    "start_time": "2023-02-15T16:13:28.141Z"
   },
   {
    "duration": 13,
    "start_time": "2023-02-15T16:13:28.157Z"
   },
   {
    "duration": 5,
    "start_time": "2023-02-15T16:13:28.172Z"
   },
   {
    "duration": 116,
    "start_time": "2023-02-15T16:13:28.179Z"
   },
   {
    "duration": 10,
    "start_time": "2023-02-15T16:13:28.297Z"
   },
   {
    "duration": 9,
    "start_time": "2023-02-15T16:13:28.309Z"
   },
   {
    "duration": 28,
    "start_time": "2023-02-15T16:13:28.319Z"
   },
   {
    "duration": 12,
    "start_time": "2023-02-15T16:13:28.349Z"
   },
   {
    "duration": 10,
    "start_time": "2023-02-15T16:13:28.363Z"
   },
   {
    "duration": 7,
    "start_time": "2023-02-15T16:13:28.375Z"
   },
   {
    "duration": 7,
    "start_time": "2023-02-15T16:13:28.385Z"
   },
   {
    "duration": 7,
    "start_time": "2023-02-15T16:13:28.393Z"
   },
   {
    "duration": 40,
    "start_time": "2023-02-15T16:13:28.401Z"
   },
   {
    "duration": 5,
    "start_time": "2023-02-15T16:13:28.443Z"
   },
   {
    "duration": 5,
    "start_time": "2023-02-15T16:13:28.450Z"
   },
   {
    "duration": 84,
    "start_time": "2023-02-15T16:13:28.457Z"
   },
   {
    "duration": 394,
    "start_time": "2023-02-15T16:13:28.542Z"
   },
   {
    "duration": 26,
    "start_time": "2023-02-15T16:13:28.937Z"
   },
   {
    "duration": 2408,
    "start_time": "2023-02-15T16:13:28.965Z"
   },
   {
    "duration": 439,
    "start_time": "2023-02-15T16:13:31.374Z"
   },
   {
    "duration": 2426,
    "start_time": "2023-02-15T16:13:51.336Z"
   },
   {
    "duration": 35829,
    "start_time": "2023-02-15T16:15:17.233Z"
   },
   {
    "duration": 37681,
    "start_time": "2023-02-15T16:16:23.019Z"
   },
   {
    "duration": 150,
    "start_time": "2023-02-15T16:24:38.657Z"
   },
   {
    "duration": 253,
    "start_time": "2023-02-15T16:26:31.612Z"
   },
   {
    "duration": 150,
    "start_time": "2023-02-15T16:26:40.337Z"
   },
   {
    "duration": 169,
    "start_time": "2023-02-15T16:27:15.830Z"
   },
   {
    "duration": 4,
    "start_time": "2023-02-15T16:57:37.772Z"
   },
   {
    "duration": 6,
    "start_time": "2023-02-15T17:15:45.691Z"
   },
   {
    "duration": 8,
    "start_time": "2023-02-15T17:19:38.732Z"
   },
   {
    "duration": 14,
    "start_time": "2023-02-15T17:28:05.000Z"
   },
   {
    "duration": 14,
    "start_time": "2023-02-15T17:29:39.473Z"
   },
   {
    "duration": 18,
    "start_time": "2023-02-15T17:34:00.574Z"
   },
   {
    "duration": 1005,
    "start_time": "2023-02-15T17:34:07.686Z"
   },
   {
    "duration": 36,
    "start_time": "2023-02-15T17:34:08.693Z"
   },
   {
    "duration": 7,
    "start_time": "2023-02-15T17:34:08.731Z"
   },
   {
    "duration": 15,
    "start_time": "2023-02-15T17:34:08.740Z"
   },
   {
    "duration": 14,
    "start_time": "2023-02-15T17:34:08.757Z"
   },
   {
    "duration": 4,
    "start_time": "2023-02-15T17:34:08.772Z"
   },
   {
    "duration": 105,
    "start_time": "2023-02-15T17:34:08.777Z"
   },
   {
    "duration": 10,
    "start_time": "2023-02-15T17:34:08.883Z"
   },
   {
    "duration": 3,
    "start_time": "2023-02-15T17:34:08.895Z"
   },
   {
    "duration": 6,
    "start_time": "2023-02-15T17:34:08.899Z"
   },
   {
    "duration": 12,
    "start_time": "2023-02-15T17:34:08.907Z"
   },
   {
    "duration": 12,
    "start_time": "2023-02-15T17:34:08.936Z"
   },
   {
    "duration": 7,
    "start_time": "2023-02-15T17:34:08.949Z"
   },
   {
    "duration": 9,
    "start_time": "2023-02-15T17:34:08.959Z"
   },
   {
    "duration": 9,
    "start_time": "2023-02-15T17:34:08.969Z"
   },
   {
    "duration": 22,
    "start_time": "2023-02-15T17:34:08.979Z"
   },
   {
    "duration": 36,
    "start_time": "2023-02-15T17:34:09.002Z"
   },
   {
    "duration": 5,
    "start_time": "2023-02-15T17:34:09.040Z"
   },
   {
    "duration": 93,
    "start_time": "2023-02-15T17:34:09.047Z"
   },
   {
    "duration": 388,
    "start_time": "2023-02-15T17:34:09.142Z"
   },
   {
    "duration": 30,
    "start_time": "2023-02-15T17:34:09.532Z"
   },
   {
    "duration": 37108,
    "start_time": "2023-02-15T17:34:09.564Z"
   },
   {
    "duration": 150,
    "start_time": "2023-02-15T17:34:46.674Z"
   },
   {
    "duration": 17,
    "start_time": "2023-02-15T17:34:46.825Z"
   },
   {
    "duration": 12,
    "start_time": "2023-02-15T17:34:56.203Z"
   },
   {
    "duration": 12,
    "start_time": "2023-02-15T17:35:29.838Z"
   },
   {
    "duration": 1021,
    "start_time": "2023-02-15T17:37:07.497Z"
   },
   {
    "duration": 35,
    "start_time": "2023-02-15T17:37:08.520Z"
   },
   {
    "duration": 7,
    "start_time": "2023-02-15T17:37:08.557Z"
   },
   {
    "duration": 13,
    "start_time": "2023-02-15T17:37:08.566Z"
   },
   {
    "duration": 13,
    "start_time": "2023-02-15T17:37:08.581Z"
   },
   {
    "duration": 5,
    "start_time": "2023-02-15T17:37:08.595Z"
   },
   {
    "duration": 107,
    "start_time": "2023-02-15T17:37:08.601Z"
   },
   {
    "duration": 11,
    "start_time": "2023-02-15T17:37:08.710Z"
   },
   {
    "duration": 4,
    "start_time": "2023-02-15T17:37:08.722Z"
   },
   {
    "duration": 2,
    "start_time": "2023-02-15T17:37:08.738Z"
   },
   {
    "duration": 14,
    "start_time": "2023-02-15T17:37:08.742Z"
   },
   {
    "duration": 10,
    "start_time": "2023-02-15T17:37:08.757Z"
   },
   {
    "duration": 6,
    "start_time": "2023-02-15T17:37:08.769Z"
   },
   {
    "duration": 8,
    "start_time": "2023-02-15T17:37:08.778Z"
   },
   {
    "duration": 8,
    "start_time": "2023-02-15T17:37:08.787Z"
   },
   {
    "duration": 47,
    "start_time": "2023-02-15T17:37:08.797Z"
   },
   {
    "duration": 4,
    "start_time": "2023-02-15T17:37:08.846Z"
   },
   {
    "duration": 6,
    "start_time": "2023-02-15T17:37:08.852Z"
   },
   {
    "duration": 82,
    "start_time": "2023-02-15T17:37:08.860Z"
   },
   {
    "duration": 390,
    "start_time": "2023-02-15T17:37:08.948Z"
   },
   {
    "duration": 31,
    "start_time": "2023-02-15T17:37:09.340Z"
   },
   {
    "duration": 37384,
    "start_time": "2023-02-15T17:37:09.373Z"
   },
   {
    "duration": 154,
    "start_time": "2023-02-15T17:37:46.759Z"
   },
   {
    "duration": 12,
    "start_time": "2023-02-15T17:37:46.914Z"
   },
   {
    "duration": 49,
    "start_time": "2023-02-15T17:38:55.697Z"
   },
   {
    "duration": 54,
    "start_time": "2023-02-15T17:47:59.413Z"
   },
   {
    "duration": 92,
    "start_time": "2023-02-15T18:04:48.848Z"
   },
   {
    "duration": 347,
    "start_time": "2023-02-15T18:05:24.272Z"
   },
   {
    "duration": 34,
    "start_time": "2023-02-15T18:11:38.790Z"
   },
   {
    "duration": 30,
    "start_time": "2023-02-15T18:11:53.413Z"
   },
   {
    "duration": 15,
    "start_time": "2023-02-15T18:19:22.348Z"
   },
   {
    "duration": 31,
    "start_time": "2023-02-15T18:19:45.356Z"
   },
   {
    "duration": 53594,
    "start_time": "2023-02-15T19:02:11.976Z"
   },
   {
    "duration": 161,
    "start_time": "2023-02-15T19:04:13.736Z"
   },
   {
    "duration": 11,
    "start_time": "2023-02-15T19:13:20.507Z"
   },
   {
    "duration": 694,
    "start_time": "2023-02-15T19:13:33.767Z"
   },
   {
    "duration": 741,
    "start_time": "2023-02-15T19:13:41.415Z"
   },
   {
    "duration": 751,
    "start_time": "2023-02-15T19:13:56.335Z"
   },
   {
    "duration": 13,
    "start_time": "2023-02-15T19:36:52.974Z"
   },
   {
    "duration": 16,
    "start_time": "2023-02-15T19:42:03.474Z"
   },
   {
    "duration": 16,
    "start_time": "2023-02-15T19:59:17.776Z"
   },
   {
    "duration": 12,
    "start_time": "2023-02-15T20:02:37.499Z"
   },
   {
    "duration": 11,
    "start_time": "2023-02-15T20:03:28.979Z"
   },
   {
    "duration": 25,
    "start_time": "2023-02-15T20:03:31.238Z"
   },
   {
    "duration": 18,
    "start_time": "2023-02-15T20:09:07.425Z"
   },
   {
    "duration": 23,
    "start_time": "2023-02-15T20:10:48.925Z"
   },
   {
    "duration": 74,
    "start_time": "2023-02-15T20:13:54.674Z"
   },
   {
    "duration": 310,
    "start_time": "2023-02-15T20:24:11.342Z"
   },
   {
    "duration": 356,
    "start_time": "2023-02-15T20:24:26.313Z"
   },
   {
    "duration": 361,
    "start_time": "2023-02-15T20:24:32.972Z"
   },
   {
    "duration": 51302,
    "start_time": "2023-02-15T20:24:48.780Z"
   },
   {
    "duration": 3,
    "start_time": "2023-02-15T20:25:40.083Z"
   },
   {
    "duration": 16,
    "start_time": "2023-02-15T20:29:06.728Z"
   },
   {
    "duration": 150,
    "start_time": "2023-02-15T20:29:50.037Z"
   },
   {
    "duration": 18,
    "start_time": "2023-02-15T21:08:46.604Z"
   },
   {
    "duration": 41,
    "start_time": "2023-02-15T21:13:21.523Z"
   },
   {
    "duration": 1077,
    "start_time": "2023-02-15T21:14:00.212Z"
   },
   {
    "duration": 36,
    "start_time": "2023-02-15T21:14:01.291Z"
   },
   {
    "duration": 9,
    "start_time": "2023-02-15T21:14:01.328Z"
   },
   {
    "duration": 21,
    "start_time": "2023-02-15T21:14:01.338Z"
   },
   {
    "duration": 30,
    "start_time": "2023-02-15T21:14:01.361Z"
   },
   {
    "duration": 15,
    "start_time": "2023-02-15T21:14:01.393Z"
   },
   {
    "duration": 99,
    "start_time": "2023-02-15T21:14:01.410Z"
   },
   {
    "duration": 11,
    "start_time": "2023-02-15T21:14:01.511Z"
   },
   {
    "duration": 14,
    "start_time": "2023-02-15T21:14:01.524Z"
   },
   {
    "duration": 21,
    "start_time": "2023-02-15T21:14:01.539Z"
   },
   {
    "duration": 26,
    "start_time": "2023-02-15T21:14:01.562Z"
   },
   {
    "duration": 40,
    "start_time": "2023-02-15T21:14:01.590Z"
   },
   {
    "duration": 21,
    "start_time": "2023-02-15T21:14:01.632Z"
   },
   {
    "duration": 14,
    "start_time": "2023-02-15T21:14:01.656Z"
   },
   {
    "duration": 25,
    "start_time": "2023-02-15T21:14:01.672Z"
   },
   {
    "duration": 29,
    "start_time": "2023-02-15T21:14:01.698Z"
   },
   {
    "duration": 25,
    "start_time": "2023-02-15T21:14:01.730Z"
   },
   {
    "duration": 18,
    "start_time": "2023-02-15T21:14:01.757Z"
   },
   {
    "duration": 63,
    "start_time": "2023-02-15T21:14:01.777Z"
   },
   {
    "duration": 470,
    "start_time": "2023-02-15T21:14:01.842Z"
   },
   {
    "duration": 34,
    "start_time": "2023-02-15T21:14:02.313Z"
   },
   {
    "duration": 36996,
    "start_time": "2023-02-15T21:14:02.349Z"
   },
   {
    "duration": 153,
    "start_time": "2023-02-15T21:14:39.346Z"
   },
   {
    "duration": 12,
    "start_time": "2023-02-15T21:14:39.501Z"
   },
   {
    "duration": 124,
    "start_time": "2023-02-15T21:14:39.515Z"
   },
   {
    "duration": 445,
    "start_time": "2023-02-15T21:14:39.640Z"
   },
   {
    "duration": 32,
    "start_time": "2023-02-15T21:14:40.086Z"
   },
   {
    "duration": 49335,
    "start_time": "2023-02-15T21:14:40.120Z"
   },
   {
    "duration": 710,
    "start_time": "2023-02-15T21:15:29.456Z"
   },
   {
    "duration": 8,
    "start_time": "2023-02-15T21:15:30.167Z"
   },
   {
    "duration": 161,
    "start_time": "2023-02-15T21:15:30.177Z"
   },
   {
    "duration": 242,
    "start_time": "2023-02-15T21:15:30.340Z"
   },
   {
    "duration": 20,
    "start_time": "2023-02-15T21:15:30.583Z"
   },
   {
    "duration": 27,
    "start_time": "2023-02-15T21:16:16.730Z"
   },
   {
    "duration": 17807,
    "start_time": "2023-02-15T21:24:43.705Z"
   },
   {
    "duration": 17549,
    "start_time": "2023-02-15T21:25:31.320Z"
   },
   {
    "duration": 21851,
    "start_time": "2023-02-15T21:26:05.416Z"
   },
   {
    "duration": 319,
    "start_time": "2023-02-15T21:34:23.940Z"
   },
   {
    "duration": 634,
    "start_time": "2023-02-15T21:45:17.216Z"
   },
   {
    "duration": 720,
    "start_time": "2023-02-15T21:49:38.638Z"
   },
   {
    "duration": 1007,
    "start_time": "2023-02-15T22:05:57.872Z"
   },
   {
    "duration": 36,
    "start_time": "2023-02-15T22:05:58.881Z"
   },
   {
    "duration": 7,
    "start_time": "2023-02-15T22:05:58.919Z"
   },
   {
    "duration": 16,
    "start_time": "2023-02-15T22:05:58.928Z"
   },
   {
    "duration": 13,
    "start_time": "2023-02-15T22:05:58.946Z"
   },
   {
    "duration": 5,
    "start_time": "2023-02-15T22:05:58.960Z"
   },
   {
    "duration": 102,
    "start_time": "2023-02-15T22:05:58.966Z"
   },
   {
    "duration": 10,
    "start_time": "2023-02-15T22:05:59.070Z"
   },
   {
    "duration": 8,
    "start_time": "2023-02-15T22:05:59.081Z"
   },
   {
    "duration": 21,
    "start_time": "2023-02-15T22:05:59.091Z"
   },
   {
    "duration": 15,
    "start_time": "2023-02-15T22:05:59.113Z"
   },
   {
    "duration": 12,
    "start_time": "2023-02-15T22:05:59.129Z"
   },
   {
    "duration": 5,
    "start_time": "2023-02-15T22:05:59.143Z"
   },
   {
    "duration": 7,
    "start_time": "2023-02-15T22:05:59.151Z"
   },
   {
    "duration": 11,
    "start_time": "2023-02-15T22:05:59.159Z"
   },
   {
    "duration": 23,
    "start_time": "2023-02-15T22:05:59.171Z"
   },
   {
    "duration": 4,
    "start_time": "2023-02-15T22:05:59.196Z"
   },
   {
    "duration": 35,
    "start_time": "2023-02-15T22:05:59.202Z"
   },
   {
    "duration": 101,
    "start_time": "2023-02-15T22:05:59.239Z"
   },
   {
    "duration": 366,
    "start_time": "2023-02-15T22:05:59.341Z"
   },
   {
    "duration": 31,
    "start_time": "2023-02-15T22:05:59.708Z"
   },
   {
    "duration": 36867,
    "start_time": "2023-02-15T22:05:59.741Z"
   },
   {
    "duration": 151,
    "start_time": "2023-02-15T22:06:36.609Z"
   },
   {
    "duration": 11,
    "start_time": "2023-02-15T22:06:36.762Z"
   },
   {
    "duration": 70,
    "start_time": "2023-02-15T22:06:36.774Z"
   },
   {
    "duration": 516,
    "start_time": "2023-02-15T22:06:36.846Z"
   },
   {
    "duration": 30,
    "start_time": "2023-02-15T22:06:37.363Z"
   },
   {
    "duration": 49153,
    "start_time": "2023-02-15T22:06:37.395Z"
   },
   {
    "duration": 702,
    "start_time": "2023-02-15T22:07:26.550Z"
   },
   {
    "duration": 8,
    "start_time": "2023-02-15T22:07:27.254Z"
   },
   {
    "duration": 76,
    "start_time": "2023-02-15T22:07:27.263Z"
   },
   {
    "duration": 242,
    "start_time": "2023-02-15T22:07:27.341Z"
   },
   {
    "duration": 17,
    "start_time": "2023-02-15T22:07:27.584Z"
   },
   {
    "duration": 21392,
    "start_time": "2023-02-15T22:07:27.603Z"
   },
   {
    "duration": 325,
    "start_time": "2023-02-15T22:07:48.997Z"
   },
   {
    "duration": 690,
    "start_time": "2023-02-15T22:07:49.323Z"
   },
   {
    "duration": 58,
    "start_time": "2023-02-16T14:29:07.974Z"
   },
   {
    "duration": 1162,
    "start_time": "2023-02-16T14:29:13.501Z"
   },
   {
    "duration": 181,
    "start_time": "2023-02-16T14:29:14.665Z"
   },
   {
    "duration": 9,
    "start_time": "2023-02-16T14:29:14.848Z"
   },
   {
    "duration": 14,
    "start_time": "2023-02-16T14:29:14.860Z"
   },
   {
    "duration": 15,
    "start_time": "2023-02-16T14:29:14.876Z"
   },
   {
    "duration": 7,
    "start_time": "2023-02-16T14:29:14.903Z"
   },
   {
    "duration": 108,
    "start_time": "2023-02-16T14:29:14.914Z"
   },
   {
    "duration": 13,
    "start_time": "2023-02-16T14:29:15.024Z"
   },
   {
    "duration": 5,
    "start_time": "2023-02-16T14:29:15.038Z"
   },
   {
    "duration": 5,
    "start_time": "2023-02-16T14:29:15.046Z"
   },
   {
    "duration": 15,
    "start_time": "2023-02-16T14:29:15.052Z"
   },
   {
    "duration": 28,
    "start_time": "2023-02-16T14:29:15.069Z"
   },
   {
    "duration": 16,
    "start_time": "2023-02-16T14:29:15.099Z"
   },
   {
    "duration": 9,
    "start_time": "2023-02-16T14:29:15.117Z"
   },
   {
    "duration": 9,
    "start_time": "2023-02-16T14:29:15.128Z"
   },
   {
    "duration": 24,
    "start_time": "2023-02-16T14:29:15.138Z"
   },
   {
    "duration": 41,
    "start_time": "2023-02-16T14:29:15.164Z"
   },
   {
    "duration": 20,
    "start_time": "2023-02-16T14:29:15.207Z"
   },
   {
    "duration": 70,
    "start_time": "2023-02-16T14:29:15.229Z"
   },
   {
    "duration": 447,
    "start_time": "2023-02-16T14:29:15.301Z"
   },
   {
    "duration": 31,
    "start_time": "2023-02-16T14:29:15.750Z"
   },
   {
    "duration": 42018,
    "start_time": "2023-02-16T14:29:15.783Z"
   },
   {
    "duration": 157,
    "start_time": "2023-02-16T14:29:57.805Z"
   },
   {
    "duration": 12,
    "start_time": "2023-02-16T14:29:57.964Z"
   },
   {
    "duration": 117,
    "start_time": "2023-02-16T14:29:57.977Z"
   },
   {
    "duration": 477,
    "start_time": "2023-02-16T14:29:58.097Z"
   },
   {
    "duration": 42,
    "start_time": "2023-02-16T14:29:58.576Z"
   },
   {
    "duration": 56243,
    "start_time": "2023-02-16T14:29:58.621Z"
   },
   {
    "duration": 856,
    "start_time": "2023-02-16T14:30:54.865Z"
   },
   {
    "duration": 9,
    "start_time": "2023-02-16T14:30:55.723Z"
   },
   {
    "duration": 71,
    "start_time": "2023-02-16T14:30:55.733Z"
   },
   {
    "duration": 319,
    "start_time": "2023-02-16T14:30:55.807Z"
   },
   {
    "duration": 22,
    "start_time": "2023-02-16T14:30:56.128Z"
   },
   {
    "duration": 25357,
    "start_time": "2023-02-16T14:30:56.152Z"
   },
   {
    "duration": 399,
    "start_time": "2023-02-16T14:31:21.511Z"
   },
   {
    "duration": 833,
    "start_time": "2023-02-16T14:31:21.912Z"
   },
   {
    "duration": 9,
    "start_time": "2023-02-16T21:26:37.314Z"
   },
   {
    "duration": 32,
    "start_time": "2023-02-16T21:30:37.600Z"
   },
   {
    "duration": 31,
    "start_time": "2023-02-16T21:30:55.379Z"
   },
   {
    "duration": 29,
    "start_time": "2023-02-16T21:31:01.789Z"
   },
   {
    "duration": 29,
    "start_time": "2023-02-16T21:31:04.986Z"
   },
   {
    "duration": 1129,
    "start_time": "2023-02-16T21:31:20.965Z"
   },
   {
    "duration": 101,
    "start_time": "2023-02-16T21:31:22.096Z"
   },
   {
    "duration": 10,
    "start_time": "2023-02-16T21:31:22.199Z"
   },
   {
    "duration": 19,
    "start_time": "2023-02-16T21:31:22.211Z"
   },
   {
    "duration": 14,
    "start_time": "2023-02-16T21:31:22.232Z"
   },
   {
    "duration": 4,
    "start_time": "2023-02-16T21:31:22.248Z"
   },
   {
    "duration": 116,
    "start_time": "2023-02-16T21:31:22.254Z"
   },
   {
    "duration": 11,
    "start_time": "2023-02-16T21:31:22.371Z"
   },
   {
    "duration": 4,
    "start_time": "2023-02-16T21:31:22.392Z"
   },
   {
    "duration": 7,
    "start_time": "2023-02-16T21:31:22.399Z"
   },
   {
    "duration": 19,
    "start_time": "2023-02-16T21:31:22.407Z"
   },
   {
    "duration": 19,
    "start_time": "2023-02-16T21:31:22.428Z"
   },
   {
    "duration": 13,
    "start_time": "2023-02-16T21:31:22.449Z"
   },
   {
    "duration": 15,
    "start_time": "2023-02-16T21:31:22.463Z"
   },
   {
    "duration": 34,
    "start_time": "2023-02-16T21:31:22.479Z"
   },
   {
    "duration": 20,
    "start_time": "2023-02-16T21:31:22.514Z"
   },
   {
    "duration": 39,
    "start_time": "2023-02-16T21:31:22.536Z"
   },
   {
    "duration": 5,
    "start_time": "2023-02-16T21:31:22.577Z"
   },
   {
    "duration": 12,
    "start_time": "2023-02-16T21:31:22.583Z"
   },
   {
    "duration": 102,
    "start_time": "2023-02-16T21:31:22.597Z"
   },
   {
    "duration": 394,
    "start_time": "2023-02-16T21:31:22.701Z"
   },
   {
    "duration": 30,
    "start_time": "2023-02-16T21:31:23.097Z"
   },
   {
    "duration": 40220,
    "start_time": "2023-02-16T21:31:23.129Z"
   },
   {
    "duration": 178,
    "start_time": "2023-02-16T21:32:03.352Z"
   },
   {
    "duration": 12,
    "start_time": "2023-02-16T21:32:03.532Z"
   },
   {
    "duration": 52,
    "start_time": "2023-02-16T21:32:03.546Z"
   },
   {
    "duration": 571,
    "start_time": "2023-02-16T21:32:03.601Z"
   },
   {
    "duration": 39,
    "start_time": "2023-02-16T21:32:04.175Z"
   },
   {
    "duration": 54693,
    "start_time": "2023-02-16T21:32:04.215Z"
   },
   {
    "duration": 805,
    "start_time": "2023-02-16T21:32:58.910Z"
   },
   {
    "duration": 8,
    "start_time": "2023-02-16T21:32:59.717Z"
   },
   {
    "duration": 73,
    "start_time": "2023-02-16T21:32:59.726Z"
   },
   {
    "duration": 270,
    "start_time": "2023-02-16T21:32:59.892Z"
   },
   {
    "duration": 20,
    "start_time": "2023-02-16T21:33:00.163Z"
   },
   {
    "duration": 23976,
    "start_time": "2023-02-16T21:33:00.192Z"
   },
   {
    "duration": 353,
    "start_time": "2023-02-16T21:33:24.170Z"
   },
   {
    "duration": 793,
    "start_time": "2023-02-16T21:33:24.525Z"
   },
   {
    "duration": 45,
    "start_time": "2023-02-16T21:33:25.351Z"
   },
   {
    "duration": 27,
    "start_time": "2023-02-16T21:34:09.433Z"
   },
   {
    "duration": 1194,
    "start_time": "2023-02-16T22:00:25.190Z"
   },
   {
    "duration": 41,
    "start_time": "2023-02-16T22:00:26.386Z"
   },
   {
    "duration": 9,
    "start_time": "2023-02-16T22:00:26.429Z"
   },
   {
    "duration": 20,
    "start_time": "2023-02-16T22:00:26.440Z"
   },
   {
    "duration": 19,
    "start_time": "2023-02-16T22:00:26.461Z"
   },
   {
    "duration": 10,
    "start_time": "2023-02-16T22:00:26.481Z"
   },
   {
    "duration": 99,
    "start_time": "2023-02-16T22:00:26.493Z"
   },
   {
    "duration": 11,
    "start_time": "2023-02-16T22:00:26.593Z"
   },
   {
    "duration": 3,
    "start_time": "2023-02-16T22:00:26.606Z"
   },
   {
    "duration": 4,
    "start_time": "2023-02-16T22:00:26.612Z"
   },
   {
    "duration": 15,
    "start_time": "2023-02-16T22:00:26.617Z"
   },
   {
    "duration": 11,
    "start_time": "2023-02-16T22:00:26.634Z"
   },
   {
    "duration": 19,
    "start_time": "2023-02-16T22:00:26.646Z"
   },
   {
    "duration": 26,
    "start_time": "2023-02-16T22:00:26.666Z"
   },
   {
    "duration": 9,
    "start_time": "2023-02-16T22:00:26.693Z"
   },
   {
    "duration": 2,
    "start_time": "2023-02-16T22:00:26.704Z"
   },
   {
    "duration": 39,
    "start_time": "2023-02-16T22:00:26.708Z"
   },
   {
    "duration": 5,
    "start_time": "2023-02-16T22:00:26.749Z"
   },
   {
    "duration": 15,
    "start_time": "2023-02-16T22:00:26.755Z"
   },
   {
    "duration": 121,
    "start_time": "2023-02-16T22:00:26.772Z"
   },
   {
    "duration": 414,
    "start_time": "2023-02-16T22:00:26.894Z"
   },
   {
    "duration": 29,
    "start_time": "2023-02-16T22:00:27.310Z"
   },
   {
    "duration": 1222,
    "start_time": "2023-02-16T22:00:44.969Z"
   },
   {
    "duration": 44,
    "start_time": "2023-02-16T22:00:46.196Z"
   },
   {
    "duration": 11,
    "start_time": "2023-02-16T22:00:46.242Z"
   },
   {
    "duration": 20,
    "start_time": "2023-02-16T22:00:46.256Z"
   },
   {
    "duration": 17,
    "start_time": "2023-02-16T22:00:46.278Z"
   },
   {
    "duration": 5,
    "start_time": "2023-02-16T22:00:46.296Z"
   },
   {
    "duration": 108,
    "start_time": "2023-02-16T22:00:46.303Z"
   },
   {
    "duration": 14,
    "start_time": "2023-02-16T22:00:46.412Z"
   },
   {
    "duration": 5,
    "start_time": "2023-02-16T22:00:46.429Z"
   },
   {
    "duration": 13,
    "start_time": "2023-02-16T22:00:46.438Z"
   },
   {
    "duration": 14,
    "start_time": "2023-02-16T22:00:46.453Z"
   },
   {
    "duration": 32,
    "start_time": "2023-02-16T22:00:46.469Z"
   },
   {
    "duration": 6,
    "start_time": "2023-02-16T22:00:46.503Z"
   },
   {
    "duration": 14,
    "start_time": "2023-02-16T22:00:46.510Z"
   },
   {
    "duration": 9,
    "start_time": "2023-02-16T22:00:46.525Z"
   },
   {
    "duration": 3,
    "start_time": "2023-02-16T22:00:46.536Z"
   },
   {
    "duration": 62,
    "start_time": "2023-02-16T22:00:46.540Z"
   },
   {
    "duration": 5,
    "start_time": "2023-02-16T22:00:46.604Z"
   },
   {
    "duration": 15,
    "start_time": "2023-02-16T22:00:46.610Z"
   },
   {
    "duration": 67,
    "start_time": "2023-02-16T22:00:46.627Z"
   },
   {
    "duration": 409,
    "start_time": "2023-02-16T22:00:46.696Z"
   },
   {
    "duration": 29,
    "start_time": "2023-02-16T22:00:47.108Z"
   },
   {
    "duration": 40346,
    "start_time": "2023-02-16T22:00:47.138Z"
   },
   {
    "duration": 166,
    "start_time": "2023-02-16T22:01:27.491Z"
   },
   {
    "duration": 10,
    "start_time": "2023-02-16T22:01:27.659Z"
   },
   {
    "duration": 120,
    "start_time": "2023-02-16T22:01:27.671Z"
   },
   {
    "duration": 476,
    "start_time": "2023-02-16T22:01:27.794Z"
   },
   {
    "duration": 36,
    "start_time": "2023-02-16T22:01:28.273Z"
   },
   {
    "duration": 55402,
    "start_time": "2023-02-16T22:01:28.311Z"
   },
   {
    "duration": 779,
    "start_time": "2023-02-16T22:02:23.715Z"
   },
   {
    "duration": 8,
    "start_time": "2023-02-16T22:02:24.495Z"
   },
   {
    "duration": 93,
    "start_time": "2023-02-16T22:02:24.505Z"
   },
   {
    "duration": 252,
    "start_time": "2023-02-16T22:02:24.600Z"
   },
   {
    "duration": 17,
    "start_time": "2023-02-16T22:02:24.853Z"
   },
   {
    "duration": 24572,
    "start_time": "2023-02-16T22:02:24.872Z"
   },
   {
    "duration": 384,
    "start_time": "2023-02-16T22:02:49.446Z"
   },
   {
    "duration": 806,
    "start_time": "2023-02-16T22:02:49.832Z"
   },
   {
    "duration": 113,
    "start_time": "2023-02-16T22:10:03.712Z"
   },
   {
    "duration": 4,
    "start_time": "2023-02-16T22:10:35.709Z"
   },
   {
    "duration": 10,
    "start_time": "2023-02-16T22:13:47.201Z"
   },
   {
    "duration": 30,
    "start_time": "2023-02-16T22:14:15.886Z"
   },
   {
    "duration": 39,
    "start_time": "2023-02-16T22:14:24.149Z"
   },
   {
    "duration": 88,
    "start_time": "2023-02-16T22:14:32.585Z"
   },
   {
    "duration": 194,
    "start_time": "2023-02-16T22:14:37.957Z"
   },
   {
    "duration": 1129,
    "start_time": "2023-02-16T22:15:17.000Z"
   },
   {
    "duration": 41,
    "start_time": "2023-02-16T22:15:18.131Z"
   },
   {
    "duration": 8,
    "start_time": "2023-02-16T22:15:18.174Z"
   },
   {
    "duration": 18,
    "start_time": "2023-02-16T22:15:18.184Z"
   },
   {
    "duration": 15,
    "start_time": "2023-02-16T22:15:18.204Z"
   },
   {
    "duration": 4,
    "start_time": "2023-02-16T22:15:18.221Z"
   },
   {
    "duration": 125,
    "start_time": "2023-02-16T22:15:18.226Z"
   },
   {
    "duration": 12,
    "start_time": "2023-02-16T22:15:18.353Z"
   },
   {
    "duration": 4,
    "start_time": "2023-02-16T22:15:18.367Z"
   },
   {
    "duration": 19,
    "start_time": "2023-02-16T22:15:18.373Z"
   },
   {
    "duration": 5,
    "start_time": "2023-02-16T22:15:18.393Z"
   },
   {
    "duration": 32,
    "start_time": "2023-02-16T22:15:18.399Z"
   },
   {
    "duration": 107,
    "start_time": "2023-02-16T22:15:18.433Z"
   },
   {
    "duration": 0,
    "start_time": "2023-02-16T22:15:18.542Z"
   },
   {
    "duration": 0,
    "start_time": "2023-02-16T22:15:18.543Z"
   },
   {
    "duration": 0,
    "start_time": "2023-02-16T22:15:18.544Z"
   },
   {
    "duration": 0,
    "start_time": "2023-02-16T22:15:18.545Z"
   },
   {
    "duration": 0,
    "start_time": "2023-02-16T22:15:18.547Z"
   },
   {
    "duration": 0,
    "start_time": "2023-02-16T22:15:18.547Z"
   },
   {
    "duration": 0,
    "start_time": "2023-02-16T22:15:18.549Z"
   },
   {
    "duration": 0,
    "start_time": "2023-02-16T22:15:18.549Z"
   },
   {
    "duration": 0,
    "start_time": "2023-02-16T22:15:18.551Z"
   },
   {
    "duration": 0,
    "start_time": "2023-02-16T22:15:18.552Z"
   },
   {
    "duration": 1,
    "start_time": "2023-02-16T22:15:18.552Z"
   },
   {
    "duration": 0,
    "start_time": "2023-02-16T22:15:18.554Z"
   },
   {
    "duration": 0,
    "start_time": "2023-02-16T22:15:18.555Z"
   },
   {
    "duration": 0,
    "start_time": "2023-02-16T22:15:18.556Z"
   },
   {
    "duration": 0,
    "start_time": "2023-02-16T22:15:18.557Z"
   },
   {
    "duration": 0,
    "start_time": "2023-02-16T22:15:18.558Z"
   },
   {
    "duration": 0,
    "start_time": "2023-02-16T22:15:18.559Z"
   },
   {
    "duration": 0,
    "start_time": "2023-02-16T22:15:18.560Z"
   },
   {
    "duration": 0,
    "start_time": "2023-02-16T22:15:18.592Z"
   },
   {
    "duration": 0,
    "start_time": "2023-02-16T22:15:18.594Z"
   },
   {
    "duration": 0,
    "start_time": "2023-02-16T22:15:18.595Z"
   },
   {
    "duration": 0,
    "start_time": "2023-02-16T22:15:18.596Z"
   },
   {
    "duration": 0,
    "start_time": "2023-02-16T22:15:18.597Z"
   },
   {
    "duration": 0,
    "start_time": "2023-02-16T22:15:18.598Z"
   },
   {
    "duration": 0,
    "start_time": "2023-02-16T22:15:18.599Z"
   },
   {
    "duration": 3,
    "start_time": "2023-02-16T22:16:19.844Z"
   },
   {
    "duration": 8,
    "start_time": "2023-02-16T22:16:22.568Z"
   },
   {
    "duration": 1081,
    "start_time": "2023-02-16T22:16:33.211Z"
   },
   {
    "duration": 40,
    "start_time": "2023-02-16T22:16:34.294Z"
   },
   {
    "duration": 7,
    "start_time": "2023-02-16T22:16:34.336Z"
   },
   {
    "duration": 15,
    "start_time": "2023-02-16T22:16:34.345Z"
   },
   {
    "duration": 17,
    "start_time": "2023-02-16T22:16:34.361Z"
   },
   {
    "duration": 18,
    "start_time": "2023-02-16T22:16:34.379Z"
   },
   {
    "duration": 106,
    "start_time": "2023-02-16T22:16:34.399Z"
   },
   {
    "duration": 12,
    "start_time": "2023-02-16T22:16:34.507Z"
   },
   {
    "duration": 33,
    "start_time": "2023-02-16T22:16:34.520Z"
   },
   {
    "duration": 32,
    "start_time": "2023-02-16T22:16:34.557Z"
   },
   {
    "duration": 40,
    "start_time": "2023-02-16T22:16:34.591Z"
   },
   {
    "duration": 6,
    "start_time": "2023-02-16T22:16:34.633Z"
   },
   {
    "duration": 25,
    "start_time": "2023-02-16T22:16:34.641Z"
   },
   {
    "duration": 20,
    "start_time": "2023-02-16T22:16:34.668Z"
   },
   {
    "duration": 18,
    "start_time": "2023-02-16T22:16:34.690Z"
   },
   {
    "duration": 14,
    "start_time": "2023-02-16T22:16:34.709Z"
   },
   {
    "duration": 11,
    "start_time": "2023-02-16T22:16:34.725Z"
   },
   {
    "duration": 59,
    "start_time": "2023-02-16T22:16:34.738Z"
   },
   {
    "duration": 5,
    "start_time": "2023-02-16T22:16:34.801Z"
   },
   {
    "duration": 31,
    "start_time": "2023-02-16T22:16:34.807Z"
   },
   {
    "duration": 56,
    "start_time": "2023-02-16T22:16:34.840Z"
   },
   {
    "duration": 495,
    "start_time": "2023-02-16T22:16:34.897Z"
   },
   {
    "duration": 29,
    "start_time": "2023-02-16T22:16:35.394Z"
   },
   {
    "duration": 39886,
    "start_time": "2023-02-16T22:16:35.425Z"
   },
   {
    "duration": 184,
    "start_time": "2023-02-16T22:17:15.313Z"
   },
   {
    "duration": 10,
    "start_time": "2023-02-16T22:17:15.499Z"
   },
   {
    "duration": 84,
    "start_time": "2023-02-16T22:17:15.511Z"
   },
   {
    "duration": 518,
    "start_time": "2023-02-16T22:17:15.599Z"
   },
   {
    "duration": 43,
    "start_time": "2023-02-16T22:17:16.120Z"
   },
   {
    "duration": 53745,
    "start_time": "2023-02-16T22:17:16.165Z"
   },
   {
    "duration": 798,
    "start_time": "2023-02-16T22:18:09.912Z"
   },
   {
    "duration": 8,
    "start_time": "2023-02-16T22:18:10.713Z"
   },
   {
    "duration": 72,
    "start_time": "2023-02-16T22:18:10.723Z"
   },
   {
    "duration": 258,
    "start_time": "2023-02-16T22:18:10.796Z"
   },
   {
    "duration": 22,
    "start_time": "2023-02-16T22:18:11.056Z"
   },
   {
    "duration": 23742,
    "start_time": "2023-02-16T22:18:11.079Z"
   },
   {
    "duration": 383,
    "start_time": "2023-02-16T22:18:34.823Z"
   },
   {
    "duration": 825,
    "start_time": "2023-02-16T22:18:35.208Z"
   },
   {
    "duration": 3,
    "start_time": "2023-02-16T22:27:41.972Z"
   },
   {
    "duration": 26,
    "start_time": "2023-02-16T22:28:39.625Z"
   },
   {
    "duration": 5,
    "start_time": "2023-02-16T22:30:06.957Z"
   },
   {
    "duration": 7,
    "start_time": "2023-02-16T22:30:45.418Z"
   },
   {
    "duration": 6,
    "start_time": "2023-02-16T22:31:08.817Z"
   },
   {
    "duration": 71,
    "start_time": "2023-02-16T22:33:03.823Z"
   },
   {
    "duration": 1144,
    "start_time": "2023-02-16T22:41:05.133Z"
   },
   {
    "duration": 44,
    "start_time": "2023-02-16T22:41:06.279Z"
   },
   {
    "duration": 8,
    "start_time": "2023-02-16T22:41:06.325Z"
   },
   {
    "duration": 15,
    "start_time": "2023-02-16T22:41:06.335Z"
   },
   {
    "duration": 15,
    "start_time": "2023-02-16T22:41:06.351Z"
   },
   {
    "duration": 7,
    "start_time": "2023-02-16T22:41:06.368Z"
   },
   {
    "duration": 122,
    "start_time": "2023-02-16T22:41:06.377Z"
   },
   {
    "duration": 13,
    "start_time": "2023-02-16T22:41:06.503Z"
   },
   {
    "duration": 5,
    "start_time": "2023-02-16T22:41:06.518Z"
   },
   {
    "duration": 28,
    "start_time": "2023-02-16T22:41:06.525Z"
   },
   {
    "duration": 13,
    "start_time": "2023-02-16T22:41:06.555Z"
   },
   {
    "duration": 19,
    "start_time": "2023-02-16T22:41:06.570Z"
   },
   {
    "duration": 24,
    "start_time": "2023-02-16T22:41:06.591Z"
   },
   {
    "duration": 16,
    "start_time": "2023-02-16T22:41:06.617Z"
   },
   {
    "duration": 9,
    "start_time": "2023-02-16T22:41:06.635Z"
   },
   {
    "duration": 11,
    "start_time": "2023-02-16T22:41:06.646Z"
   },
   {
    "duration": 3,
    "start_time": "2023-02-16T22:41:06.658Z"
   },
   {
    "duration": 52,
    "start_time": "2023-02-16T22:41:06.662Z"
   },
   {
    "duration": 5,
    "start_time": "2023-02-16T22:41:06.715Z"
   },
   {
    "duration": 6,
    "start_time": "2023-02-16T22:41:06.722Z"
   },
   {
    "duration": 67,
    "start_time": "2023-02-16T22:41:06.730Z"
   },
   {
    "duration": 480,
    "start_time": "2023-02-16T22:41:06.798Z"
   },
   {
    "duration": 36,
    "start_time": "2023-02-16T22:41:07.280Z"
   },
   {
    "duration": 1090,
    "start_time": "2023-02-16T22:41:23.032Z"
   },
   {
    "duration": 40,
    "start_time": "2023-02-16T22:41:24.124Z"
   },
   {
    "duration": 8,
    "start_time": "2023-02-16T22:41:24.165Z"
   },
   {
    "duration": 19,
    "start_time": "2023-02-16T22:41:24.176Z"
   },
   {
    "duration": 15,
    "start_time": "2023-02-16T22:41:24.197Z"
   },
   {
    "duration": 6,
    "start_time": "2023-02-16T22:41:24.213Z"
   },
   {
    "duration": 110,
    "start_time": "2023-02-16T22:41:24.221Z"
   },
   {
    "duration": 12,
    "start_time": "2023-02-16T22:41:24.333Z"
   },
   {
    "duration": 9,
    "start_time": "2023-02-16T22:41:24.346Z"
   },
   {
    "duration": 31,
    "start_time": "2023-02-16T22:41:24.358Z"
   },
   {
    "duration": 31,
    "start_time": "2023-02-16T22:41:24.391Z"
   },
   {
    "duration": 3,
    "start_time": "2023-02-16T22:41:24.423Z"
   },
   {
    "duration": 15,
    "start_time": "2023-02-16T22:41:24.427Z"
   },
   {
    "duration": 15,
    "start_time": "2023-02-16T22:41:24.444Z"
   },
   {
    "duration": 25,
    "start_time": "2023-02-16T22:41:24.461Z"
   },
   {
    "duration": 14,
    "start_time": "2023-02-16T22:41:24.488Z"
   },
   {
    "duration": 10,
    "start_time": "2023-02-16T22:41:24.503Z"
   },
   {
    "duration": 42,
    "start_time": "2023-02-16T22:41:24.515Z"
   },
   {
    "duration": 5,
    "start_time": "2023-02-16T22:41:24.558Z"
   },
   {
    "duration": 7,
    "start_time": "2023-02-16T22:41:24.565Z"
   },
   {
    "duration": 117,
    "start_time": "2023-02-16T22:41:24.574Z"
   },
   {
    "duration": 398,
    "start_time": "2023-02-16T22:41:24.696Z"
   },
   {
    "duration": 31,
    "start_time": "2023-02-16T22:41:25.096Z"
   },
   {
    "duration": 40804,
    "start_time": "2023-02-16T22:41:25.129Z"
   },
   {
    "duration": 202,
    "start_time": "2023-02-16T22:42:05.935Z"
   },
   {
    "duration": 12,
    "start_time": "2023-02-16T22:42:06.139Z"
   },
   {
    "duration": 5,
    "start_time": "2023-02-16T22:42:06.153Z"
   },
   {
    "duration": 40,
    "start_time": "2023-02-16T22:42:06.161Z"
   },
   {
    "duration": 762,
    "start_time": "2023-02-16T22:42:06.203Z"
   },
   {
    "duration": 43,
    "start_time": "2023-02-16T22:42:06.967Z"
   },
   {
    "duration": 55073,
    "start_time": "2023-02-16T22:42:07.012Z"
   },
   {
    "duration": 796,
    "start_time": "2023-02-16T22:43:02.087Z"
   },
   {
    "duration": 12,
    "start_time": "2023-02-16T22:43:02.884Z"
   },
   {
    "duration": 5,
    "start_time": "2023-02-16T22:43:02.897Z"
   },
   {
    "duration": 89,
    "start_time": "2023-02-16T22:43:02.904Z"
   },
   {
    "duration": 260,
    "start_time": "2023-02-16T22:43:02.995Z"
   },
   {
    "duration": 21,
    "start_time": "2023-02-16T22:43:03.256Z"
   },
   {
    "duration": 24002,
    "start_time": "2023-02-16T22:43:03.279Z"
   },
   {
    "duration": 367,
    "start_time": "2023-02-16T22:43:27.283Z"
   },
   {
    "duration": 794,
    "start_time": "2023-02-16T22:43:27.651Z"
   },
   {
    "duration": 1133,
    "start_time": "2023-02-16T22:49:07.459Z"
   },
   {
    "duration": 42,
    "start_time": "2023-02-16T22:49:08.595Z"
   },
   {
    "duration": 10,
    "start_time": "2023-02-16T22:49:08.639Z"
   },
   {
    "duration": 14,
    "start_time": "2023-02-16T22:49:08.652Z"
   },
   {
    "duration": 27,
    "start_time": "2023-02-16T22:49:08.668Z"
   },
   {
    "duration": 5,
    "start_time": "2023-02-16T22:49:08.697Z"
   },
   {
    "duration": 111,
    "start_time": "2023-02-16T22:49:08.703Z"
   },
   {
    "duration": 13,
    "start_time": "2023-02-16T22:49:08.815Z"
   },
   {
    "duration": 6,
    "start_time": "2023-02-16T22:49:08.830Z"
   },
   {
    "duration": 4,
    "start_time": "2023-02-16T22:49:08.838Z"
   },
   {
    "duration": 15,
    "start_time": "2023-02-16T22:49:08.843Z"
   },
   {
    "duration": 2,
    "start_time": "2023-02-16T22:49:08.860Z"
   },
   {
    "duration": 38,
    "start_time": "2023-02-16T22:49:08.864Z"
   },
   {
    "duration": 13,
    "start_time": "2023-02-16T22:49:08.904Z"
   },
   {
    "duration": 8,
    "start_time": "2023-02-16T22:49:08.919Z"
   },
   {
    "duration": 9,
    "start_time": "2023-02-16T22:49:08.929Z"
   },
   {
    "duration": 2,
    "start_time": "2023-02-16T22:49:08.940Z"
   },
   {
    "duration": 53,
    "start_time": "2023-02-16T22:49:08.944Z"
   },
   {
    "duration": 5,
    "start_time": "2023-02-16T22:49:08.999Z"
   },
   {
    "duration": 5,
    "start_time": "2023-02-16T22:49:09.005Z"
   },
   {
    "duration": 82,
    "start_time": "2023-02-16T22:49:09.012Z"
   },
   {
    "duration": 418,
    "start_time": "2023-02-16T22:49:09.096Z"
   },
   {
    "duration": 28,
    "start_time": "2023-02-16T22:49:09.515Z"
   },
   {
    "duration": 40344,
    "start_time": "2023-02-16T22:49:09.545Z"
   },
   {
    "duration": 167,
    "start_time": "2023-02-16T22:49:49.890Z"
   },
   {
    "duration": 11,
    "start_time": "2023-02-16T22:49:50.059Z"
   },
   {
    "duration": 21,
    "start_time": "2023-02-16T22:49:50.072Z"
   },
   {
    "duration": 96,
    "start_time": "2023-02-16T22:49:50.097Z"
   },
   {
    "duration": 479,
    "start_time": "2023-02-16T22:49:50.195Z"
   },
   {
    "duration": 39,
    "start_time": "2023-02-16T22:49:50.676Z"
   },
   {
    "duration": 55485,
    "start_time": "2023-02-16T22:49:50.717Z"
   },
   {
    "duration": 797,
    "start_time": "2023-02-16T22:50:46.204Z"
   },
   {
    "duration": 8,
    "start_time": "2023-02-16T22:50:47.003Z"
   },
   {
    "duration": 10,
    "start_time": "2023-02-16T22:50:47.012Z"
   },
   {
    "duration": 169,
    "start_time": "2023-02-16T22:50:47.023Z"
   },
   {
    "duration": 271,
    "start_time": "2023-02-16T22:50:47.194Z"
   },
   {
    "duration": 38,
    "start_time": "2023-02-16T22:50:47.467Z"
   },
   {
    "duration": 24153,
    "start_time": "2023-02-16T22:50:47.508Z"
   },
   {
    "duration": 357,
    "start_time": "2023-02-16T22:51:11.663Z"
   },
   {
    "duration": 802,
    "start_time": "2023-02-16T22:51:12.022Z"
   },
   {
    "duration": 1479,
    "start_time": "2023-02-17T06:20:20.345Z"
   },
   {
    "duration": 94,
    "start_time": "2023-02-17T06:20:21.826Z"
   },
   {
    "duration": 12,
    "start_time": "2023-02-17T06:20:21.923Z"
   },
   {
    "duration": 30,
    "start_time": "2023-02-17T06:20:21.937Z"
   },
   {
    "duration": 46,
    "start_time": "2023-02-17T06:20:21.969Z"
   },
   {
    "duration": 5,
    "start_time": "2023-02-17T06:20:22.017Z"
   },
   {
    "duration": 121,
    "start_time": "2023-02-17T06:20:22.023Z"
   },
   {
    "duration": 16,
    "start_time": "2023-02-17T06:20:22.146Z"
   },
   {
    "duration": 24,
    "start_time": "2023-02-17T06:20:22.167Z"
   },
   {
    "duration": 10,
    "start_time": "2023-02-17T06:20:22.194Z"
   },
   {
    "duration": 19,
    "start_time": "2023-02-17T06:20:22.206Z"
   },
   {
    "duration": 6,
    "start_time": "2023-02-17T06:20:22.228Z"
   },
   {
    "duration": 23,
    "start_time": "2023-02-17T06:20:22.236Z"
   },
   {
    "duration": 36,
    "start_time": "2023-02-17T06:20:22.262Z"
   },
   {
    "duration": 28,
    "start_time": "2023-02-17T06:20:22.300Z"
   },
   {
    "duration": 11,
    "start_time": "2023-02-17T06:20:22.330Z"
   },
   {
    "duration": 6,
    "start_time": "2023-02-17T06:20:22.344Z"
   },
   {
    "duration": 79,
    "start_time": "2023-02-17T06:20:22.358Z"
   }
  ],
  "kernelspec": {
   "display_name": "Python 3 (ipykernel)",
   "language": "python",
   "name": "python3"
  },
  "language_info": {
   "codemirror_mode": {
    "name": "ipython",
    "version": 3
   },
   "file_extension": ".py",
   "mimetype": "text/x-python",
   "name": "python",
   "nbconvert_exporter": "python",
   "pygments_lexer": "ipython3",
   "version": "3.10.9"
  },
  "toc": {
   "base_numbering": 1,
   "nav_menu": {},
   "number_sections": true,
   "sideBar": true,
   "skip_h1_title": true,
   "title_cell": "Содержание",
   "title_sidebar": "Contents",
   "toc_cell": true,
   "toc_position": {
    "height": "calc(100% - 180px)",
    "left": "10px",
    "top": "150px",
    "width": "165px"
   },
   "toc_section_display": true,
   "toc_window_display": true
  }
 },
 "nbformat": 4,
 "nbformat_minor": 2
}
