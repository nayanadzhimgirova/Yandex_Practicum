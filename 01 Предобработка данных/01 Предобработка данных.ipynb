{
 "cells": [
  {
   "cell_type": "markdown",
   "id": "03c2e4f1",
   "metadata": {
    "deletable": false,
    "editable": false,
    "id": "c81daeeb"
   },
   "source": [
    "# Исследование надежности заемщиков\n"
   ]
  },
  {
   "cell_type": "markdown",
   "id": "2d85276d",
   "metadata": {
    "deletable": false,
    "editable": false,
    "id": "827c20bf"
   },
   "source": [
    "Во второй части проекта вы выполните шаги 3 и 4. Их вручную проверит ревьюер.\n",
    "Чтобы вам не пришлось писать код заново для шагов 1 и 2, мы добавили авторские решения в ячейки с кодом. \n",
    "\n"
   ]
  },
  {
   "cell_type": "markdown",
   "id": "105b7fd8",
   "metadata": {
    "deletable": false,
    "editable": false,
    "id": "744d7639"
   },
   "source": [
    "## Откройте таблицу и изучите общую информацию о данных"
   ]
  },
  {
   "cell_type": "markdown",
   "id": "de28b1b8",
   "metadata": {
    "deletable": false,
    "editable": false,
    "id": "e7a14c31"
   },
   "source": [
    "**Задание 1. Импортируйте библиотеку pandas. Считайте данные из csv-файла в датафрейм и сохраните в переменную `data`. Путь к файлу:**\n",
    "\n",
    "`/datasets/data.csv`"
   ]
  },
  {
   "cell_type": "code",
   "execution_count": 1,
   "id": "1ac73110",
   "metadata": {
    "deletable": false,
    "id": "7bcf75c9"
   },
   "outputs": [],
   "source": [
    "import pandas as pd\n",
    "\n",
    "try:\n",
    "    data = pd.read_csv('/datasets/data.csv')\n",
    "except:\n",
    "    data = pd.read_csv('https://code.s3.yandex.net/datasets/data.csv')"
   ]
  },
  {
   "cell_type": "markdown",
   "id": "60417e39",
   "metadata": {
    "deletable": false,
    "editable": false,
    "id": "b8038fe3"
   },
   "source": [
    "**Задание 2. Выведите первые 20 строчек датафрейма `data` на экран.**"
   ]
  },
  {
   "cell_type": "code",
   "execution_count": 2,
   "id": "126b4c4f",
   "metadata": {
    "deletable": false,
    "id": "2a7cab99",
    "outputId": "1a8f3ef2-d323-4ec2-ddf7-89670b5944c4"
   },
   "outputs": [
    {
     "data": {
      "text/html": [
       "<div>\n",
       "<style scoped>\n",
       "    .dataframe tbody tr th:only-of-type {\n",
       "        vertical-align: middle;\n",
       "    }\n",
       "\n",
       "    .dataframe tbody tr th {\n",
       "        vertical-align: top;\n",
       "    }\n",
       "\n",
       "    .dataframe thead th {\n",
       "        text-align: right;\n",
       "    }\n",
       "</style>\n",
       "<table border=\"1\" class=\"dataframe\">\n",
       "  <thead>\n",
       "    <tr style=\"text-align: right;\">\n",
       "      <th></th>\n",
       "      <th>children</th>\n",
       "      <th>days_employed</th>\n",
       "      <th>dob_years</th>\n",
       "      <th>education</th>\n",
       "      <th>education_id</th>\n",
       "      <th>family_status</th>\n",
       "      <th>family_status_id</th>\n",
       "      <th>gender</th>\n",
       "      <th>income_type</th>\n",
       "      <th>debt</th>\n",
       "      <th>total_income</th>\n",
       "      <th>purpose</th>\n",
       "    </tr>\n",
       "  </thead>\n",
       "  <tbody>\n",
       "    <tr>\n",
       "      <th>0</th>\n",
       "      <td>1</td>\n",
       "      <td>-8437.673028</td>\n",
       "      <td>42</td>\n",
       "      <td>высшее</td>\n",
       "      <td>0</td>\n",
       "      <td>женат / замужем</td>\n",
       "      <td>0</td>\n",
       "      <td>F</td>\n",
       "      <td>сотрудник</td>\n",
       "      <td>0</td>\n",
       "      <td>253875.639453</td>\n",
       "      <td>покупка жилья</td>\n",
       "    </tr>\n",
       "    <tr>\n",
       "      <th>1</th>\n",
       "      <td>1</td>\n",
       "      <td>-4024.803754</td>\n",
       "      <td>36</td>\n",
       "      <td>среднее</td>\n",
       "      <td>1</td>\n",
       "      <td>женат / замужем</td>\n",
       "      <td>0</td>\n",
       "      <td>F</td>\n",
       "      <td>сотрудник</td>\n",
       "      <td>0</td>\n",
       "      <td>112080.014102</td>\n",
       "      <td>приобретение автомобиля</td>\n",
       "    </tr>\n",
       "    <tr>\n",
       "      <th>2</th>\n",
       "      <td>0</td>\n",
       "      <td>-5623.422610</td>\n",
       "      <td>33</td>\n",
       "      <td>Среднее</td>\n",
       "      <td>1</td>\n",
       "      <td>женат / замужем</td>\n",
       "      <td>0</td>\n",
       "      <td>M</td>\n",
       "      <td>сотрудник</td>\n",
       "      <td>0</td>\n",
       "      <td>145885.952297</td>\n",
       "      <td>покупка жилья</td>\n",
       "    </tr>\n",
       "    <tr>\n",
       "      <th>3</th>\n",
       "      <td>3</td>\n",
       "      <td>-4124.747207</td>\n",
       "      <td>32</td>\n",
       "      <td>среднее</td>\n",
       "      <td>1</td>\n",
       "      <td>женат / замужем</td>\n",
       "      <td>0</td>\n",
       "      <td>M</td>\n",
       "      <td>сотрудник</td>\n",
       "      <td>0</td>\n",
       "      <td>267628.550329</td>\n",
       "      <td>дополнительное образование</td>\n",
       "    </tr>\n",
       "    <tr>\n",
       "      <th>4</th>\n",
       "      <td>0</td>\n",
       "      <td>340266.072047</td>\n",
       "      <td>53</td>\n",
       "      <td>среднее</td>\n",
       "      <td>1</td>\n",
       "      <td>гражданский брак</td>\n",
       "      <td>1</td>\n",
       "      <td>F</td>\n",
       "      <td>пенсионер</td>\n",
       "      <td>0</td>\n",
       "      <td>158616.077870</td>\n",
       "      <td>сыграть свадьбу</td>\n",
       "    </tr>\n",
       "    <tr>\n",
       "      <th>5</th>\n",
       "      <td>0</td>\n",
       "      <td>-926.185831</td>\n",
       "      <td>27</td>\n",
       "      <td>высшее</td>\n",
       "      <td>0</td>\n",
       "      <td>гражданский брак</td>\n",
       "      <td>1</td>\n",
       "      <td>M</td>\n",
       "      <td>компаньон</td>\n",
       "      <td>0</td>\n",
       "      <td>255763.565419</td>\n",
       "      <td>покупка жилья</td>\n",
       "    </tr>\n",
       "    <tr>\n",
       "      <th>6</th>\n",
       "      <td>0</td>\n",
       "      <td>-2879.202052</td>\n",
       "      <td>43</td>\n",
       "      <td>высшее</td>\n",
       "      <td>0</td>\n",
       "      <td>женат / замужем</td>\n",
       "      <td>0</td>\n",
       "      <td>F</td>\n",
       "      <td>компаньон</td>\n",
       "      <td>0</td>\n",
       "      <td>240525.971920</td>\n",
       "      <td>операции с жильем</td>\n",
       "    </tr>\n",
       "    <tr>\n",
       "      <th>7</th>\n",
       "      <td>0</td>\n",
       "      <td>-152.779569</td>\n",
       "      <td>50</td>\n",
       "      <td>СРЕДНЕЕ</td>\n",
       "      <td>1</td>\n",
       "      <td>женат / замужем</td>\n",
       "      <td>0</td>\n",
       "      <td>M</td>\n",
       "      <td>сотрудник</td>\n",
       "      <td>0</td>\n",
       "      <td>135823.934197</td>\n",
       "      <td>образование</td>\n",
       "    </tr>\n",
       "    <tr>\n",
       "      <th>8</th>\n",
       "      <td>2</td>\n",
       "      <td>-6929.865299</td>\n",
       "      <td>35</td>\n",
       "      <td>ВЫСШЕЕ</td>\n",
       "      <td>0</td>\n",
       "      <td>гражданский брак</td>\n",
       "      <td>1</td>\n",
       "      <td>F</td>\n",
       "      <td>сотрудник</td>\n",
       "      <td>0</td>\n",
       "      <td>95856.832424</td>\n",
       "      <td>на проведение свадьбы</td>\n",
       "    </tr>\n",
       "    <tr>\n",
       "      <th>9</th>\n",
       "      <td>0</td>\n",
       "      <td>-2188.756445</td>\n",
       "      <td>41</td>\n",
       "      <td>среднее</td>\n",
       "      <td>1</td>\n",
       "      <td>женат / замужем</td>\n",
       "      <td>0</td>\n",
       "      <td>M</td>\n",
       "      <td>сотрудник</td>\n",
       "      <td>0</td>\n",
       "      <td>144425.938277</td>\n",
       "      <td>покупка жилья для семьи</td>\n",
       "    </tr>\n",
       "    <tr>\n",
       "      <th>10</th>\n",
       "      <td>2</td>\n",
       "      <td>-4171.483647</td>\n",
       "      <td>36</td>\n",
       "      <td>высшее</td>\n",
       "      <td>0</td>\n",
       "      <td>женат / замужем</td>\n",
       "      <td>0</td>\n",
       "      <td>M</td>\n",
       "      <td>компаньон</td>\n",
       "      <td>0</td>\n",
       "      <td>113943.491460</td>\n",
       "      <td>покупка недвижимости</td>\n",
       "    </tr>\n",
       "    <tr>\n",
       "      <th>11</th>\n",
       "      <td>0</td>\n",
       "      <td>-792.701887</td>\n",
       "      <td>40</td>\n",
       "      <td>среднее</td>\n",
       "      <td>1</td>\n",
       "      <td>женат / замужем</td>\n",
       "      <td>0</td>\n",
       "      <td>F</td>\n",
       "      <td>сотрудник</td>\n",
       "      <td>0</td>\n",
       "      <td>77069.234271</td>\n",
       "      <td>покупка коммерческой недвижимости</td>\n",
       "    </tr>\n",
       "    <tr>\n",
       "      <th>12</th>\n",
       "      <td>0</td>\n",
       "      <td>NaN</td>\n",
       "      <td>65</td>\n",
       "      <td>среднее</td>\n",
       "      <td>1</td>\n",
       "      <td>гражданский брак</td>\n",
       "      <td>1</td>\n",
       "      <td>M</td>\n",
       "      <td>пенсионер</td>\n",
       "      <td>0</td>\n",
       "      <td>NaN</td>\n",
       "      <td>сыграть свадьбу</td>\n",
       "    </tr>\n",
       "    <tr>\n",
       "      <th>13</th>\n",
       "      <td>0</td>\n",
       "      <td>-1846.641941</td>\n",
       "      <td>54</td>\n",
       "      <td>неоконченное высшее</td>\n",
       "      <td>2</td>\n",
       "      <td>женат / замужем</td>\n",
       "      <td>0</td>\n",
       "      <td>F</td>\n",
       "      <td>сотрудник</td>\n",
       "      <td>0</td>\n",
       "      <td>130458.228857</td>\n",
       "      <td>приобретение автомобиля</td>\n",
       "    </tr>\n",
       "    <tr>\n",
       "      <th>14</th>\n",
       "      <td>0</td>\n",
       "      <td>-1844.956182</td>\n",
       "      <td>56</td>\n",
       "      <td>высшее</td>\n",
       "      <td>0</td>\n",
       "      <td>гражданский брак</td>\n",
       "      <td>1</td>\n",
       "      <td>F</td>\n",
       "      <td>компаньон</td>\n",
       "      <td>1</td>\n",
       "      <td>165127.911772</td>\n",
       "      <td>покупка жилой недвижимости</td>\n",
       "    </tr>\n",
       "    <tr>\n",
       "      <th>15</th>\n",
       "      <td>1</td>\n",
       "      <td>-972.364419</td>\n",
       "      <td>26</td>\n",
       "      <td>среднее</td>\n",
       "      <td>1</td>\n",
       "      <td>женат / замужем</td>\n",
       "      <td>0</td>\n",
       "      <td>F</td>\n",
       "      <td>сотрудник</td>\n",
       "      <td>0</td>\n",
       "      <td>116820.904450</td>\n",
       "      <td>строительство собственной недвижимости</td>\n",
       "    </tr>\n",
       "    <tr>\n",
       "      <th>16</th>\n",
       "      <td>0</td>\n",
       "      <td>-1719.934226</td>\n",
       "      <td>35</td>\n",
       "      <td>среднее</td>\n",
       "      <td>1</td>\n",
       "      <td>женат / замужем</td>\n",
       "      <td>0</td>\n",
       "      <td>F</td>\n",
       "      <td>сотрудник</td>\n",
       "      <td>0</td>\n",
       "      <td>289202.704229</td>\n",
       "      <td>недвижимость</td>\n",
       "    </tr>\n",
       "    <tr>\n",
       "      <th>17</th>\n",
       "      <td>0</td>\n",
       "      <td>-2369.999720</td>\n",
       "      <td>33</td>\n",
       "      <td>высшее</td>\n",
       "      <td>0</td>\n",
       "      <td>гражданский брак</td>\n",
       "      <td>1</td>\n",
       "      <td>M</td>\n",
       "      <td>сотрудник</td>\n",
       "      <td>0</td>\n",
       "      <td>90410.586745</td>\n",
       "      <td>строительство недвижимости</td>\n",
       "    </tr>\n",
       "    <tr>\n",
       "      <th>18</th>\n",
       "      <td>0</td>\n",
       "      <td>400281.136913</td>\n",
       "      <td>53</td>\n",
       "      <td>среднее</td>\n",
       "      <td>1</td>\n",
       "      <td>вдовец / вдова</td>\n",
       "      <td>2</td>\n",
       "      <td>F</td>\n",
       "      <td>пенсионер</td>\n",
       "      <td>0</td>\n",
       "      <td>56823.777243</td>\n",
       "      <td>на покупку подержанного автомобиля</td>\n",
       "    </tr>\n",
       "    <tr>\n",
       "      <th>19</th>\n",
       "      <td>0</td>\n",
       "      <td>-10038.818549</td>\n",
       "      <td>48</td>\n",
       "      <td>СРЕДНЕЕ</td>\n",
       "      <td>1</td>\n",
       "      <td>в разводе</td>\n",
       "      <td>3</td>\n",
       "      <td>F</td>\n",
       "      <td>сотрудник</td>\n",
       "      <td>0</td>\n",
       "      <td>242831.107982</td>\n",
       "      <td>на покупку своего автомобиля</td>\n",
       "    </tr>\n",
       "  </tbody>\n",
       "</table>\n",
       "</div>"
      ],
      "text/plain": [
       "    children  days_employed  dob_years            education  education_id  \\\n",
       "0          1   -8437.673028         42               высшее             0   \n",
       "1          1   -4024.803754         36              среднее             1   \n",
       "2          0   -5623.422610         33              Среднее             1   \n",
       "3          3   -4124.747207         32              среднее             1   \n",
       "4          0  340266.072047         53              среднее             1   \n",
       "5          0    -926.185831         27               высшее             0   \n",
       "6          0   -2879.202052         43               высшее             0   \n",
       "7          0    -152.779569         50              СРЕДНЕЕ             1   \n",
       "8          2   -6929.865299         35               ВЫСШЕЕ             0   \n",
       "9          0   -2188.756445         41              среднее             1   \n",
       "10         2   -4171.483647         36               высшее             0   \n",
       "11         0    -792.701887         40              среднее             1   \n",
       "12         0            NaN         65              среднее             1   \n",
       "13         0   -1846.641941         54  неоконченное высшее             2   \n",
       "14         0   -1844.956182         56               высшее             0   \n",
       "15         1    -972.364419         26              среднее             1   \n",
       "16         0   -1719.934226         35              среднее             1   \n",
       "17         0   -2369.999720         33               высшее             0   \n",
       "18         0  400281.136913         53              среднее             1   \n",
       "19         0  -10038.818549         48              СРЕДНЕЕ             1   \n",
       "\n",
       "       family_status  family_status_id gender income_type  debt  \\\n",
       "0    женат / замужем                 0      F   сотрудник     0   \n",
       "1    женат / замужем                 0      F   сотрудник     0   \n",
       "2    женат / замужем                 0      M   сотрудник     0   \n",
       "3    женат / замужем                 0      M   сотрудник     0   \n",
       "4   гражданский брак                 1      F   пенсионер     0   \n",
       "5   гражданский брак                 1      M   компаньон     0   \n",
       "6    женат / замужем                 0      F   компаньон     0   \n",
       "7    женат / замужем                 0      M   сотрудник     0   \n",
       "8   гражданский брак                 1      F   сотрудник     0   \n",
       "9    женат / замужем                 0      M   сотрудник     0   \n",
       "10   женат / замужем                 0      M   компаньон     0   \n",
       "11   женат / замужем                 0      F   сотрудник     0   \n",
       "12  гражданский брак                 1      M   пенсионер     0   \n",
       "13   женат / замужем                 0      F   сотрудник     0   \n",
       "14  гражданский брак                 1      F   компаньон     1   \n",
       "15   женат / замужем                 0      F   сотрудник     0   \n",
       "16   женат / замужем                 0      F   сотрудник     0   \n",
       "17  гражданский брак                 1      M   сотрудник     0   \n",
       "18    вдовец / вдова                 2      F   пенсионер     0   \n",
       "19         в разводе                 3      F   сотрудник     0   \n",
       "\n",
       "     total_income                                 purpose  \n",
       "0   253875.639453                           покупка жилья  \n",
       "1   112080.014102                 приобретение автомобиля  \n",
       "2   145885.952297                           покупка жилья  \n",
       "3   267628.550329              дополнительное образование  \n",
       "4   158616.077870                         сыграть свадьбу  \n",
       "5   255763.565419                           покупка жилья  \n",
       "6   240525.971920                       операции с жильем  \n",
       "7   135823.934197                             образование  \n",
       "8    95856.832424                   на проведение свадьбы  \n",
       "9   144425.938277                 покупка жилья для семьи  \n",
       "10  113943.491460                    покупка недвижимости  \n",
       "11   77069.234271       покупка коммерческой недвижимости  \n",
       "12            NaN                         сыграть свадьбу  \n",
       "13  130458.228857                 приобретение автомобиля  \n",
       "14  165127.911772              покупка жилой недвижимости  \n",
       "15  116820.904450  строительство собственной недвижимости  \n",
       "16  289202.704229                            недвижимость  \n",
       "17   90410.586745              строительство недвижимости  \n",
       "18   56823.777243      на покупку подержанного автомобиля  \n",
       "19  242831.107982            на покупку своего автомобиля  "
      ]
     },
     "execution_count": 2,
     "metadata": {},
     "output_type": "execute_result"
    }
   ],
   "source": [
    "data.head(20)"
   ]
  },
  {
   "cell_type": "markdown",
   "id": "f7385b7f",
   "metadata": {
    "deletable": false,
    "editable": false,
    "id": "1c12e233"
   },
   "source": [
    "**Задание 3. Выведите основную информацию о датафрейме с помощью метода `info()`.**"
   ]
  },
  {
   "cell_type": "code",
   "execution_count": 3,
   "id": "f4884acc",
   "metadata": {
    "deletable": false,
    "id": "2b757bca",
    "outputId": "15376089-8dad-46c9-b520-c05248d43158"
   },
   "outputs": [
    {
     "name": "stdout",
     "output_type": "stream",
     "text": [
      "<class 'pandas.core.frame.DataFrame'>\n",
      "RangeIndex: 21525 entries, 0 to 21524\n",
      "Data columns (total 12 columns):\n",
      " #   Column            Non-Null Count  Dtype  \n",
      "---  ------            --------------  -----  \n",
      " 0   children          21525 non-null  int64  \n",
      " 1   days_employed     19351 non-null  float64\n",
      " 2   dob_years         21525 non-null  int64  \n",
      " 3   education         21525 non-null  object \n",
      " 4   education_id      21525 non-null  int64  \n",
      " 5   family_status     21525 non-null  object \n",
      " 6   family_status_id  21525 non-null  int64  \n",
      " 7   gender            21525 non-null  object \n",
      " 8   income_type       21525 non-null  object \n",
      " 9   debt              21525 non-null  int64  \n",
      " 10  total_income      19351 non-null  float64\n",
      " 11  purpose           21525 non-null  object \n",
      "dtypes: float64(2), int64(5), object(5)\n",
      "memory usage: 2.0+ MB\n"
     ]
    }
   ],
   "source": [
    "data.info()"
   ]
  },
  {
   "cell_type": "markdown",
   "id": "1d1f1fd4",
   "metadata": {
    "deletable": false,
    "editable": false,
    "id": "333ec665"
   },
   "source": [
    "## Предобработка данных"
   ]
  },
  {
   "cell_type": "markdown",
   "id": "3c6048b5",
   "metadata": {
    "deletable": false,
    "editable": false,
    "id": "02d92d53"
   },
   "source": [
    "### Удаление пропусков"
   ]
  },
  {
   "cell_type": "markdown",
   "id": "b20dd7c1",
   "metadata": {
    "deletable": false,
    "editable": false,
    "id": "cd84967c"
   },
   "source": [
    "**Задание 4. Выведите количество пропущенных значений для каждого столбца. Используйте комбинацию двух методов.**"
   ]
  },
  {
   "cell_type": "code",
   "execution_count": 4,
   "id": "28fdeddf",
   "metadata": {
    "deletable": false,
    "id": "7f9b2309",
    "outputId": "81f4d817-781c-465c-ed15-91ce4446810d"
   },
   "outputs": [
    {
     "data": {
      "text/plain": [
       "children               0\n",
       "days_employed       2174\n",
       "dob_years              0\n",
       "education              0\n",
       "education_id           0\n",
       "family_status          0\n",
       "family_status_id       0\n",
       "gender                 0\n",
       "income_type            0\n",
       "debt                   0\n",
       "total_income        2174\n",
       "purpose                0\n",
       "dtype: int64"
      ]
     },
     "execution_count": 4,
     "metadata": {},
     "output_type": "execute_result"
    }
   ],
   "source": [
    "data.isna().sum()"
   ]
  },
  {
   "cell_type": "markdown",
   "id": "76ba7d3d",
   "metadata": {
    "deletable": false,
    "editable": false,
    "id": "db86e27b"
   },
   "source": [
    "**Задание 5. В двух столбцах есть пропущенные значения. Один из них — `days_employed`. Пропуски в этом столбце вы обработаете на следующем этапе. Другой столбец с пропущенными значениями — `total_income` — хранит данные о доходах. На сумму дохода сильнее всего влияет тип занятости, поэтому заполнить пропуски в этом столбце нужно медианным значением по каждому типу из столбца `income_type`. Например, у человека с типом занятости `сотрудник` пропуск в столбце `total_income` должен быть заполнен медианным доходом среди всех записей с тем же типом.**"
   ]
  },
  {
   "cell_type": "code",
   "execution_count": 5,
   "id": "27474bb6",
   "metadata": {
    "deletable": false,
    "id": "42006a93"
   },
   "outputs": [],
   "source": [
    "for t in data['income_type'].unique():\n",
    "    data.loc[(data['income_type'] == t) & (data['total_income'].isna()), 'total_income'] = \\\n",
    "    data.loc[(data['income_type'] == t), 'total_income'].median()"
   ]
  },
  {
   "cell_type": "markdown",
   "id": "fb345be7",
   "metadata": {
    "deletable": false,
    "editable": false,
    "id": "89da5ece"
   },
   "source": [
    "### Обработка аномальных значений"
   ]
  },
  {
   "cell_type": "markdown",
   "id": "83baa56b",
   "metadata": {
    "deletable": false,
    "editable": false,
    "id": "57964554"
   },
   "source": [
    "**Задание 6. В данных могут встречаться артефакты (аномалии) — значения, которые не отражают действительность и появились по какой-то ошибке. таким артефактом будет отрицательное количество дней трудового стажа в столбце `days_employed`. Для реальных данных это нормально. Обработайте значения в этом столбце: замените все отрицательные значения положительными с помощью метода `abs()`.**"
   ]
  },
  {
   "cell_type": "code",
   "execution_count": 6,
   "id": "dd14f663",
   "metadata": {
    "deletable": false,
    "id": "f6f055bf"
   },
   "outputs": [],
   "source": [
    "data['days_employed'] = data['days_employed'].abs()"
   ]
  },
  {
   "cell_type": "markdown",
   "id": "31ff9d7f",
   "metadata": {
    "deletable": false,
    "editable": false,
    "id": "6107dd2f"
   },
   "source": [
    "**Задание 7. Для каждого типа занятости выведите медианное значение трудового стажа `days_employed` в днях.**"
   ]
  },
  {
   "cell_type": "code",
   "execution_count": 7,
   "id": "33beb33f",
   "metadata": {
    "deletable": false,
    "id": "85a5faf6",
    "outputId": "801ef80e-522b-4668-f34e-565af7432bcf"
   },
   "outputs": [
    {
     "data": {
      "text/plain": [
       "income_type\n",
       "безработный        366413.652744\n",
       "в декрете            3296.759962\n",
       "госслужащий          2689.368353\n",
       "компаньон            1547.382223\n",
       "пенсионер          365213.306266\n",
       "предприниматель       520.848083\n",
       "сотрудник            1574.202821\n",
       "студент               578.751554\n",
       "Name: days_employed, dtype: float64"
      ]
     },
     "execution_count": 7,
     "metadata": {},
     "output_type": "execute_result"
    }
   ],
   "source": [
    "data.groupby('income_type')['days_employed'].agg('median')"
   ]
  },
  {
   "cell_type": "markdown",
   "id": "4d2bcd54",
   "metadata": {
    "deletable": false,
    "editable": false,
    "id": "38d1a030"
   },
   "source": [
    "У двух типов (безработные и пенсионеры) получатся аномально большие значения. Исправить такие значения сложно, поэтому оставьте их как есть. Тем более этот столбец не понадобится вам для исследования."
   ]
  },
  {
   "cell_type": "markdown",
   "id": "4a37fccb",
   "metadata": {
    "deletable": false,
    "editable": false,
    "id": "d8a9f147"
   },
   "source": [
    "**Задание 8. Выведите перечень уникальных значений столбца `children`.**"
   ]
  },
  {
   "cell_type": "code",
   "execution_count": 8,
   "id": "2ac00d47",
   "metadata": {
    "deletable": false,
    "id": "ef5056eb",
    "outputId": "6975b15c-7f95-4697-d16d-a0c79b657b03"
   },
   "outputs": [
    {
     "data": {
      "text/plain": [
       "array([ 1,  0,  3,  2, -1,  4, 20,  5])"
      ]
     },
     "execution_count": 8,
     "metadata": {},
     "output_type": "execute_result"
    }
   ],
   "source": [
    "data['children'].unique()"
   ]
  },
  {
   "cell_type": "markdown",
   "id": "a5b1ecdb",
   "metadata": {
    "deletable": false,
    "editable": false,
    "id": "40b9ebf2"
   },
   "source": [
    "**Задание 9. В столбце `children` есть два аномальных значения. Удалите строки, в которых встречаются такие аномальные значения из датафрейма `data`.**"
   ]
  },
  {
   "cell_type": "code",
   "execution_count": 9,
   "id": "6d9586e3",
   "metadata": {
    "deletable": false,
    "id": "3ff9801d"
   },
   "outputs": [],
   "source": [
    "data = data[(data['children'] != -1) & (data['children'] != 20)]"
   ]
  },
  {
   "cell_type": "markdown",
   "id": "721e16a9",
   "metadata": {
    "deletable": false,
    "editable": false,
    "id": "bbc4d0ce"
   },
   "source": [
    "**Задание 10. Ещё раз выведите перечень уникальных значений столбца `children`, чтобы убедиться, что артефакты удалены.**"
   ]
  },
  {
   "cell_type": "code",
   "execution_count": 10,
   "id": "683575c9",
   "metadata": {
    "deletable": false,
    "id": "ad4fa8b7",
    "outputId": "b2097101-d49d-44d9-901b-32a65c9463d1"
   },
   "outputs": [
    {
     "data": {
      "text/plain": [
       "array([1, 0, 3, 2, 4, 5])"
      ]
     },
     "execution_count": 10,
     "metadata": {},
     "output_type": "execute_result"
    }
   ],
   "source": [
    "data['children'].unique()"
   ]
  },
  {
   "cell_type": "markdown",
   "id": "a654a1d7",
   "metadata": {
    "deletable": false,
    "editable": false,
    "id": "75440b63"
   },
   "source": [
    "### Удаление пропусков (продолжение)"
   ]
  },
  {
   "cell_type": "markdown",
   "id": "83e2a393",
   "metadata": {
    "deletable": false,
    "editable": false,
    "id": "f4ea573f"
   },
   "source": [
    "**Задание 11. Заполните пропуски в столбце `days_employed` медианными значениями по каждого типа занятости `income_type`.**"
   ]
  },
  {
   "cell_type": "code",
   "execution_count": 11,
   "id": "f3d45a98",
   "metadata": {
    "deletable": false,
    "id": "af6b1a7e"
   },
   "outputs": [],
   "source": [
    "for t in data['income_type'].unique():\n",
    "    data.loc[(data['income_type'] == t) & (data['days_employed'].isna()), 'days_employed'] = \\\n",
    "    data.loc[(data['income_type'] == t), 'days_employed'].median()"
   ]
  },
  {
   "cell_type": "markdown",
   "id": "fc0eb1fd",
   "metadata": {
    "deletable": false,
    "editable": false,
    "id": "2753f40d"
   },
   "source": [
    "**Задание 12. Убедитесь, что все пропуски заполнены. Проверьте себя и ещё раз выведите количество пропущенных значений для каждого столбца с помощью двух методов.**"
   ]
  },
  {
   "cell_type": "code",
   "execution_count": 12,
   "id": "6f0a96f3",
   "metadata": {
    "deletable": false,
    "id": "55f78bc2",
    "outputId": "8da1e4e1-358e-4e87-98c9-f261bce0a7b2"
   },
   "outputs": [
    {
     "data": {
      "text/plain": [
       "children            0\n",
       "days_employed       0\n",
       "dob_years           0\n",
       "education           0\n",
       "education_id        0\n",
       "family_status       0\n",
       "family_status_id    0\n",
       "gender              0\n",
       "income_type         0\n",
       "debt                0\n",
       "total_income        0\n",
       "purpose             0\n",
       "dtype: int64"
      ]
     },
     "execution_count": 12,
     "metadata": {},
     "output_type": "execute_result"
    }
   ],
   "source": [
    "data.isna().sum()"
   ]
  },
  {
   "cell_type": "markdown",
   "id": "a3236fe9",
   "metadata": {
    "deletable": false,
    "editable": false,
    "id": "ddc81e43"
   },
   "source": [
    "### Изменение типов данных"
   ]
  },
  {
   "cell_type": "markdown",
   "id": "735acb78",
   "metadata": {
    "deletable": false,
    "editable": false,
    "id": "42d19d24"
   },
   "source": [
    "**Задание 13. Замените вещественный тип данных в столбце `total_income` на целочисленный с помощью метода `astype()`.**"
   ]
  },
  {
   "cell_type": "code",
   "execution_count": 13,
   "id": "661fb10e",
   "metadata": {
    "deletable": false,
    "id": "920b65ad"
   },
   "outputs": [],
   "source": [
    "data['total_income'] = data['total_income'].astype(int)"
   ]
  },
  {
   "cell_type": "markdown",
   "id": "8a401705",
   "metadata": {
    "deletable": false,
    "editable": false,
    "id": "80c420ba"
   },
   "source": [
    "### Обработка дубликатов"
   ]
  },
  {
   "cell_type": "markdown",
   "id": "583d332b",
   "metadata": {
    "deletable": false,
    "editable": false
   },
   "source": [
    "**Задание 14. Обработайте неявные дубликаты в столбце `education`. В этом столбце есть одни и те же значения, но записанные по-разному: с использованием заглавных и строчных букв. Приведите их к нижнему регистру. Проверьте остальные столбцы.**"
   ]
  },
  {
   "cell_type": "code",
   "execution_count": 14,
   "id": "f61212b4",
   "metadata": {
    "deletable": false
   },
   "outputs": [],
   "source": [
    "data['education'] = data['education'].str.lower()"
   ]
  },
  {
   "cell_type": "markdown",
   "id": "6e043a87",
   "metadata": {
    "deletable": false,
    "editable": false,
    "id": "dc587695"
   },
   "source": [
    "**Задание 15. Выведите на экран количество строк-дубликатов в данных. Если такие строки присутствуют, удалите их.**"
   ]
  },
  {
   "cell_type": "code",
   "execution_count": 15,
   "id": "84dfd031",
   "metadata": {
    "deletable": false,
    "id": "3ee445e4",
    "outputId": "9684deba-1934-42d1-99e1-cda61740f822"
   },
   "outputs": [
    {
     "data": {
      "text/plain": [
       "71"
      ]
     },
     "execution_count": 15,
     "metadata": {},
     "output_type": "execute_result"
    }
   ],
   "source": [
    "data.duplicated().sum()"
   ]
  },
  {
   "cell_type": "code",
   "execution_count": 16,
   "id": "b152722c",
   "metadata": {
    "deletable": false,
    "id": "8575fe05"
   },
   "outputs": [],
   "source": [
    "data = data.drop_duplicates()"
   ]
  },
  {
   "cell_type": "markdown",
   "id": "b9e2fb42",
   "metadata": {
    "deletable": false,
    "editable": false,
    "id": "9904cf55"
   },
   "source": [
    "### Категоризация данных"
   ]
  },
  {
   "cell_type": "markdown",
   "id": "5febdc51",
   "metadata": {
    "deletable": false,
    "editable": false,
    "id": "72fcc8a2"
   },
   "source": [
    "**Задание 16. На основании диапазонов, указанных ниже, создайте в датафрейме `data` столбец `total_income_category` с категориями:**\n",
    "\n",
    "- 0–30000 — `'E'`;\n",
    "- 30001–50000 — `'D'`;\n",
    "- 50001–200000 — `'C'`;\n",
    "- 200001–1000000 — `'B'`;\n",
    "- 1000001 и выше — `'A'`.\n",
    "\n",
    "\n",
    "**Например, кредитополучателю с доходом 25000 нужно назначить категорию `'E'`, а клиенту, получающему 235000, — `'B'`. Используйте собственную функцию с именем `categorize_income()` и метод `apply()`.**"
   ]
  },
  {
   "cell_type": "code",
   "execution_count": 17,
   "id": "42f22d4d",
   "metadata": {
    "deletable": false,
    "id": "e1771346"
   },
   "outputs": [],
   "source": [
    "def categorize_income(income):\n",
    "    try:\n",
    "        if 0 <= income <= 30000:\n",
    "            return 'E'\n",
    "        elif 30001 <= income <= 50000:\n",
    "            return 'D'\n",
    "        elif 50001 <= income <= 200000:\n",
    "            return 'C'\n",
    "        elif 200001 <= income <= 1000000:\n",
    "            return 'B'\n",
    "        elif income >= 1000001:\n",
    "            return 'A'\n",
    "    except:\n",
    "        pass"
   ]
  },
  {
   "cell_type": "code",
   "execution_count": 18,
   "id": "a2e73e43",
   "metadata": {
    "deletable": false,
    "id": "d5f3586d"
   },
   "outputs": [
    {
     "data": {
      "text/html": [
       "<div>\n",
       "<style scoped>\n",
       "    .dataframe tbody tr th:only-of-type {\n",
       "        vertical-align: middle;\n",
       "    }\n",
       "\n",
       "    .dataframe tbody tr th {\n",
       "        vertical-align: top;\n",
       "    }\n",
       "\n",
       "    .dataframe thead th {\n",
       "        text-align: right;\n",
       "    }\n",
       "</style>\n",
       "<table border=\"1\" class=\"dataframe\">\n",
       "  <thead>\n",
       "    <tr style=\"text-align: right;\">\n",
       "      <th></th>\n",
       "      <th>children</th>\n",
       "      <th>days_employed</th>\n",
       "      <th>dob_years</th>\n",
       "      <th>education</th>\n",
       "      <th>education_id</th>\n",
       "      <th>family_status</th>\n",
       "      <th>family_status_id</th>\n",
       "      <th>gender</th>\n",
       "      <th>income_type</th>\n",
       "      <th>debt</th>\n",
       "      <th>total_income</th>\n",
       "      <th>purpose</th>\n",
       "      <th>total_income_category</th>\n",
       "    </tr>\n",
       "  </thead>\n",
       "  <tbody>\n",
       "    <tr>\n",
       "      <th>0</th>\n",
       "      <td>1</td>\n",
       "      <td>8437.673028</td>\n",
       "      <td>42</td>\n",
       "      <td>высшее</td>\n",
       "      <td>0</td>\n",
       "      <td>женат / замужем</td>\n",
       "      <td>0</td>\n",
       "      <td>F</td>\n",
       "      <td>сотрудник</td>\n",
       "      <td>0</td>\n",
       "      <td>253875</td>\n",
       "      <td>покупка жилья</td>\n",
       "      <td>B</td>\n",
       "    </tr>\n",
       "    <tr>\n",
       "      <th>1</th>\n",
       "      <td>1</td>\n",
       "      <td>4024.803754</td>\n",
       "      <td>36</td>\n",
       "      <td>среднее</td>\n",
       "      <td>1</td>\n",
       "      <td>женат / замужем</td>\n",
       "      <td>0</td>\n",
       "      <td>F</td>\n",
       "      <td>сотрудник</td>\n",
       "      <td>0</td>\n",
       "      <td>112080</td>\n",
       "      <td>приобретение автомобиля</td>\n",
       "      <td>C</td>\n",
       "    </tr>\n",
       "    <tr>\n",
       "      <th>2</th>\n",
       "      <td>0</td>\n",
       "      <td>5623.422610</td>\n",
       "      <td>33</td>\n",
       "      <td>среднее</td>\n",
       "      <td>1</td>\n",
       "      <td>женат / замужем</td>\n",
       "      <td>0</td>\n",
       "      <td>M</td>\n",
       "      <td>сотрудник</td>\n",
       "      <td>0</td>\n",
       "      <td>145885</td>\n",
       "      <td>покупка жилья</td>\n",
       "      <td>C</td>\n",
       "    </tr>\n",
       "    <tr>\n",
       "      <th>3</th>\n",
       "      <td>3</td>\n",
       "      <td>4124.747207</td>\n",
       "      <td>32</td>\n",
       "      <td>среднее</td>\n",
       "      <td>1</td>\n",
       "      <td>женат / замужем</td>\n",
       "      <td>0</td>\n",
       "      <td>M</td>\n",
       "      <td>сотрудник</td>\n",
       "      <td>0</td>\n",
       "      <td>267628</td>\n",
       "      <td>дополнительное образование</td>\n",
       "      <td>B</td>\n",
       "    </tr>\n",
       "    <tr>\n",
       "      <th>4</th>\n",
       "      <td>0</td>\n",
       "      <td>340266.072047</td>\n",
       "      <td>53</td>\n",
       "      <td>среднее</td>\n",
       "      <td>1</td>\n",
       "      <td>гражданский брак</td>\n",
       "      <td>1</td>\n",
       "      <td>F</td>\n",
       "      <td>пенсионер</td>\n",
       "      <td>0</td>\n",
       "      <td>158616</td>\n",
       "      <td>сыграть свадьбу</td>\n",
       "      <td>C</td>\n",
       "    </tr>\n",
       "    <tr>\n",
       "      <th>5</th>\n",
       "      <td>0</td>\n",
       "      <td>926.185831</td>\n",
       "      <td>27</td>\n",
       "      <td>высшее</td>\n",
       "      <td>0</td>\n",
       "      <td>гражданский брак</td>\n",
       "      <td>1</td>\n",
       "      <td>M</td>\n",
       "      <td>компаньон</td>\n",
       "      <td>0</td>\n",
       "      <td>255763</td>\n",
       "      <td>покупка жилья</td>\n",
       "      <td>B</td>\n",
       "    </tr>\n",
       "    <tr>\n",
       "      <th>6</th>\n",
       "      <td>0</td>\n",
       "      <td>2879.202052</td>\n",
       "      <td>43</td>\n",
       "      <td>высшее</td>\n",
       "      <td>0</td>\n",
       "      <td>женат / замужем</td>\n",
       "      <td>0</td>\n",
       "      <td>F</td>\n",
       "      <td>компаньон</td>\n",
       "      <td>0</td>\n",
       "      <td>240525</td>\n",
       "      <td>операции с жильем</td>\n",
       "      <td>B</td>\n",
       "    </tr>\n",
       "    <tr>\n",
       "      <th>7</th>\n",
       "      <td>0</td>\n",
       "      <td>152.779569</td>\n",
       "      <td>50</td>\n",
       "      <td>среднее</td>\n",
       "      <td>1</td>\n",
       "      <td>женат / замужем</td>\n",
       "      <td>0</td>\n",
       "      <td>M</td>\n",
       "      <td>сотрудник</td>\n",
       "      <td>0</td>\n",
       "      <td>135823</td>\n",
       "      <td>образование</td>\n",
       "      <td>C</td>\n",
       "    </tr>\n",
       "    <tr>\n",
       "      <th>8</th>\n",
       "      <td>2</td>\n",
       "      <td>6929.865299</td>\n",
       "      <td>35</td>\n",
       "      <td>высшее</td>\n",
       "      <td>0</td>\n",
       "      <td>гражданский брак</td>\n",
       "      <td>1</td>\n",
       "      <td>F</td>\n",
       "      <td>сотрудник</td>\n",
       "      <td>0</td>\n",
       "      <td>95856</td>\n",
       "      <td>на проведение свадьбы</td>\n",
       "      <td>C</td>\n",
       "    </tr>\n",
       "    <tr>\n",
       "      <th>9</th>\n",
       "      <td>0</td>\n",
       "      <td>2188.756445</td>\n",
       "      <td>41</td>\n",
       "      <td>среднее</td>\n",
       "      <td>1</td>\n",
       "      <td>женат / замужем</td>\n",
       "      <td>0</td>\n",
       "      <td>M</td>\n",
       "      <td>сотрудник</td>\n",
       "      <td>0</td>\n",
       "      <td>144425</td>\n",
       "      <td>покупка жилья для семьи</td>\n",
       "      <td>C</td>\n",
       "    </tr>\n",
       "    <tr>\n",
       "      <th>10</th>\n",
       "      <td>2</td>\n",
       "      <td>4171.483647</td>\n",
       "      <td>36</td>\n",
       "      <td>высшее</td>\n",
       "      <td>0</td>\n",
       "      <td>женат / замужем</td>\n",
       "      <td>0</td>\n",
       "      <td>M</td>\n",
       "      <td>компаньон</td>\n",
       "      <td>0</td>\n",
       "      <td>113943</td>\n",
       "      <td>покупка недвижимости</td>\n",
       "      <td>C</td>\n",
       "    </tr>\n",
       "    <tr>\n",
       "      <th>11</th>\n",
       "      <td>0</td>\n",
       "      <td>792.701887</td>\n",
       "      <td>40</td>\n",
       "      <td>среднее</td>\n",
       "      <td>1</td>\n",
       "      <td>женат / замужем</td>\n",
       "      <td>0</td>\n",
       "      <td>F</td>\n",
       "      <td>сотрудник</td>\n",
       "      <td>0</td>\n",
       "      <td>77069</td>\n",
       "      <td>покупка коммерческой недвижимости</td>\n",
       "      <td>C</td>\n",
       "    </tr>\n",
       "    <tr>\n",
       "      <th>12</th>\n",
       "      <td>0</td>\n",
       "      <td>365286.622650</td>\n",
       "      <td>65</td>\n",
       "      <td>среднее</td>\n",
       "      <td>1</td>\n",
       "      <td>гражданский брак</td>\n",
       "      <td>1</td>\n",
       "      <td>M</td>\n",
       "      <td>пенсионер</td>\n",
       "      <td>0</td>\n",
       "      <td>118514</td>\n",
       "      <td>сыграть свадьбу</td>\n",
       "      <td>C</td>\n",
       "    </tr>\n",
       "    <tr>\n",
       "      <th>13</th>\n",
       "      <td>0</td>\n",
       "      <td>1846.641941</td>\n",
       "      <td>54</td>\n",
       "      <td>неоконченное высшее</td>\n",
       "      <td>2</td>\n",
       "      <td>женат / замужем</td>\n",
       "      <td>0</td>\n",
       "      <td>F</td>\n",
       "      <td>сотрудник</td>\n",
       "      <td>0</td>\n",
       "      <td>130458</td>\n",
       "      <td>приобретение автомобиля</td>\n",
       "      <td>C</td>\n",
       "    </tr>\n",
       "    <tr>\n",
       "      <th>14</th>\n",
       "      <td>0</td>\n",
       "      <td>1844.956182</td>\n",
       "      <td>56</td>\n",
       "      <td>высшее</td>\n",
       "      <td>0</td>\n",
       "      <td>гражданский брак</td>\n",
       "      <td>1</td>\n",
       "      <td>F</td>\n",
       "      <td>компаньон</td>\n",
       "      <td>1</td>\n",
       "      <td>165127</td>\n",
       "      <td>покупка жилой недвижимости</td>\n",
       "      <td>C</td>\n",
       "    </tr>\n",
       "    <tr>\n",
       "      <th>15</th>\n",
       "      <td>1</td>\n",
       "      <td>972.364419</td>\n",
       "      <td>26</td>\n",
       "      <td>среднее</td>\n",
       "      <td>1</td>\n",
       "      <td>женат / замужем</td>\n",
       "      <td>0</td>\n",
       "      <td>F</td>\n",
       "      <td>сотрудник</td>\n",
       "      <td>0</td>\n",
       "      <td>116820</td>\n",
       "      <td>строительство собственной недвижимости</td>\n",
       "      <td>C</td>\n",
       "    </tr>\n",
       "    <tr>\n",
       "      <th>16</th>\n",
       "      <td>0</td>\n",
       "      <td>1719.934226</td>\n",
       "      <td>35</td>\n",
       "      <td>среднее</td>\n",
       "      <td>1</td>\n",
       "      <td>женат / замужем</td>\n",
       "      <td>0</td>\n",
       "      <td>F</td>\n",
       "      <td>сотрудник</td>\n",
       "      <td>0</td>\n",
       "      <td>289202</td>\n",
       "      <td>недвижимость</td>\n",
       "      <td>B</td>\n",
       "    </tr>\n",
       "    <tr>\n",
       "      <th>17</th>\n",
       "      <td>0</td>\n",
       "      <td>2369.999720</td>\n",
       "      <td>33</td>\n",
       "      <td>высшее</td>\n",
       "      <td>0</td>\n",
       "      <td>гражданский брак</td>\n",
       "      <td>1</td>\n",
       "      <td>M</td>\n",
       "      <td>сотрудник</td>\n",
       "      <td>0</td>\n",
       "      <td>90410</td>\n",
       "      <td>строительство недвижимости</td>\n",
       "      <td>C</td>\n",
       "    </tr>\n",
       "    <tr>\n",
       "      <th>18</th>\n",
       "      <td>0</td>\n",
       "      <td>400281.136913</td>\n",
       "      <td>53</td>\n",
       "      <td>среднее</td>\n",
       "      <td>1</td>\n",
       "      <td>вдовец / вдова</td>\n",
       "      <td>2</td>\n",
       "      <td>F</td>\n",
       "      <td>пенсионер</td>\n",
       "      <td>0</td>\n",
       "      <td>56823</td>\n",
       "      <td>на покупку подержанного автомобиля</td>\n",
       "      <td>C</td>\n",
       "    </tr>\n",
       "    <tr>\n",
       "      <th>19</th>\n",
       "      <td>0</td>\n",
       "      <td>10038.818549</td>\n",
       "      <td>48</td>\n",
       "      <td>среднее</td>\n",
       "      <td>1</td>\n",
       "      <td>в разводе</td>\n",
       "      <td>3</td>\n",
       "      <td>F</td>\n",
       "      <td>сотрудник</td>\n",
       "      <td>0</td>\n",
       "      <td>242831</td>\n",
       "      <td>на покупку своего автомобиля</td>\n",
       "      <td>B</td>\n",
       "    </tr>\n",
       "  </tbody>\n",
       "</table>\n",
       "</div>"
      ],
      "text/plain": [
       "    children  days_employed  dob_years            education  education_id  \\\n",
       "0          1    8437.673028         42               высшее             0   \n",
       "1          1    4024.803754         36              среднее             1   \n",
       "2          0    5623.422610         33              среднее             1   \n",
       "3          3    4124.747207         32              среднее             1   \n",
       "4          0  340266.072047         53              среднее             1   \n",
       "5          0     926.185831         27               высшее             0   \n",
       "6          0    2879.202052         43               высшее             0   \n",
       "7          0     152.779569         50              среднее             1   \n",
       "8          2    6929.865299         35               высшее             0   \n",
       "9          0    2188.756445         41              среднее             1   \n",
       "10         2    4171.483647         36               высшее             0   \n",
       "11         0     792.701887         40              среднее             1   \n",
       "12         0  365286.622650         65              среднее             1   \n",
       "13         0    1846.641941         54  неоконченное высшее             2   \n",
       "14         0    1844.956182         56               высшее             0   \n",
       "15         1     972.364419         26              среднее             1   \n",
       "16         0    1719.934226         35              среднее             1   \n",
       "17         0    2369.999720         33               высшее             0   \n",
       "18         0  400281.136913         53              среднее             1   \n",
       "19         0   10038.818549         48              среднее             1   \n",
       "\n",
       "       family_status  family_status_id gender income_type  debt  total_income  \\\n",
       "0    женат / замужем                 0      F   сотрудник     0        253875   \n",
       "1    женат / замужем                 0      F   сотрудник     0        112080   \n",
       "2    женат / замужем                 0      M   сотрудник     0        145885   \n",
       "3    женат / замужем                 0      M   сотрудник     0        267628   \n",
       "4   гражданский брак                 1      F   пенсионер     0        158616   \n",
       "5   гражданский брак                 1      M   компаньон     0        255763   \n",
       "6    женат / замужем                 0      F   компаньон     0        240525   \n",
       "7    женат / замужем                 0      M   сотрудник     0        135823   \n",
       "8   гражданский брак                 1      F   сотрудник     0         95856   \n",
       "9    женат / замужем                 0      M   сотрудник     0        144425   \n",
       "10   женат / замужем                 0      M   компаньон     0        113943   \n",
       "11   женат / замужем                 0      F   сотрудник     0         77069   \n",
       "12  гражданский брак                 1      M   пенсионер     0        118514   \n",
       "13   женат / замужем                 0      F   сотрудник     0        130458   \n",
       "14  гражданский брак                 1      F   компаньон     1        165127   \n",
       "15   женат / замужем                 0      F   сотрудник     0        116820   \n",
       "16   женат / замужем                 0      F   сотрудник     0        289202   \n",
       "17  гражданский брак                 1      M   сотрудник     0         90410   \n",
       "18    вдовец / вдова                 2      F   пенсионер     0         56823   \n",
       "19         в разводе                 3      F   сотрудник     0        242831   \n",
       "\n",
       "                                   purpose total_income_category  \n",
       "0                            покупка жилья                     B  \n",
       "1                  приобретение автомобиля                     C  \n",
       "2                            покупка жилья                     C  \n",
       "3               дополнительное образование                     B  \n",
       "4                          сыграть свадьбу                     C  \n",
       "5                            покупка жилья                     B  \n",
       "6                        операции с жильем                     B  \n",
       "7                              образование                     C  \n",
       "8                    на проведение свадьбы                     C  \n",
       "9                  покупка жилья для семьи                     C  \n",
       "10                    покупка недвижимости                     C  \n",
       "11       покупка коммерческой недвижимости                     C  \n",
       "12                         сыграть свадьбу                     C  \n",
       "13                 приобретение автомобиля                     C  \n",
       "14              покупка жилой недвижимости                     C  \n",
       "15  строительство собственной недвижимости                     C  \n",
       "16                            недвижимость                     B  \n",
       "17              строительство недвижимости                     C  \n",
       "18      на покупку подержанного автомобиля                     C  \n",
       "19            на покупку своего автомобиля                     B  "
      ]
     },
     "execution_count": 18,
     "metadata": {},
     "output_type": "execute_result"
    }
   ],
   "source": [
    "data['total_income_category'] = data['total_income'].apply(categorize_income)\n",
    "data.head(20)"
   ]
  },
  {
   "cell_type": "markdown",
   "id": "6d81f4b4",
   "metadata": {
    "deletable": false,
    "editable": false,
    "id": "dde49b5c"
   },
   "source": [
    "**Задание 17. Выведите на экран перечень уникальных целей взятия кредита из столбца `purpose`.**"
   ]
  },
  {
   "cell_type": "code",
   "execution_count": 19,
   "id": "8dfc4c23",
   "metadata": {
    "deletable": false,
    "id": "f67ce9b3",
    "outputId": "673c12d9-7d7e-4ae0-9812-c622c89dd244"
   },
   "outputs": [
    {
     "data": {
      "text/plain": [
       "array(['покупка жилья', 'приобретение автомобиля',\n",
       "       'дополнительное образование', 'сыграть свадьбу',\n",
       "       'операции с жильем', 'образование', 'на проведение свадьбы',\n",
       "       'покупка жилья для семьи', 'покупка недвижимости',\n",
       "       'покупка коммерческой недвижимости', 'покупка жилой недвижимости',\n",
       "       'строительство собственной недвижимости', 'недвижимость',\n",
       "       'строительство недвижимости', 'на покупку подержанного автомобиля',\n",
       "       'на покупку своего автомобиля',\n",
       "       'операции с коммерческой недвижимостью',\n",
       "       'строительство жилой недвижимости', 'жилье',\n",
       "       'операции со своей недвижимостью', 'автомобили',\n",
       "       'заняться образованием', 'сделка с подержанным автомобилем',\n",
       "       'получение образования', 'автомобиль', 'свадьба',\n",
       "       'получение дополнительного образования', 'покупка своего жилья',\n",
       "       'операции с недвижимостью', 'получение высшего образования',\n",
       "       'свой автомобиль', 'сделка с автомобилем',\n",
       "       'профильное образование', 'высшее образование',\n",
       "       'покупка жилья для сдачи', 'на покупку автомобиля', 'ремонт жилью',\n",
       "       'заняться высшим образованием'], dtype=object)"
      ]
     },
     "execution_count": 19,
     "metadata": {},
     "output_type": "execute_result"
    }
   ],
   "source": [
    "data['purpose'].unique()"
   ]
  },
  {
   "cell_type": "markdown",
   "id": "6cf7ac89",
   "metadata": {
    "deletable": false,
    "editable": false,
    "id": "85d0aef0"
   },
   "source": [
    "**Задание 18. Создайте функцию, которая на основании данных из столбца `purpose` сформирует новый столбец `purpose_category`, в который войдут следующие категории:**\n",
    "\n",
    "- `'операции с автомобилем'`,\n",
    "- `'операции с недвижимостью'`,\n",
    "- `'проведение свадьбы'`,\n",
    "- `'получение образования'`.\n",
    "\n",
    "**Например, если в столбце `purpose` находится подстрока `'на покупку автомобиля'`, то в столбце `purpose_category` должна появиться строка `'операции с автомобилем'`.**\n",
    "\n",
    "**Используйте собственную функцию с именем `categorize_purpose()` и метод `apply()`. Изучите данные в столбце `purpose` и определите, какие подстроки помогут вам правильно определить категорию.**"
   ]
  },
  {
   "cell_type": "code",
   "execution_count": 20,
   "id": "5991f5ed",
   "metadata": {
    "deletable": false,
    "id": "e149fab4"
   },
   "outputs": [],
   "source": [
    "def categorize_purpose(row):\n",
    "    try:\n",
    "        if 'автом' in row:\n",
    "            return 'операции с автомобилем'\n",
    "        elif 'жил' in row or 'недвиж' in row:\n",
    "            return 'операции с недвижимостью'\n",
    "        elif 'свад' in row:\n",
    "            return 'проведение свадьбы'\n",
    "        elif 'образов' in row:\n",
    "            return 'получение образования'\n",
    "    except:\n",
    "        return 'нет категории'"
   ]
  },
  {
   "cell_type": "code",
   "execution_count": 21,
   "id": "e803f189",
   "metadata": {
    "deletable": false,
    "id": "bf36e69b"
   },
   "outputs": [],
   "source": [
    "data['purpose_category'] = data['purpose'].apply(categorize_purpose)"
   ]
  },
  {
   "cell_type": "markdown",
   "id": "19b7371f",
   "metadata": {
    "deletable": false,
    "editable": false,
    "id": "09b242bf"
   },
   "source": [
    "### Шаг 3. Исследуйте данные и ответьте на вопросы"
   ]
  },
  {
   "cell_type": "markdown",
   "id": "15de6f51",
   "metadata": {
    "deletable": false,
    "editable": false,
    "id": "c5d66278"
   },
   "source": [
    "#### 3.1 Есть ли зависимость между количеством детей и возвратом кредита в срок?"
   ]
  },
  {
   "cell_type": "code",
   "execution_count": 22,
   "id": "afdcbecb",
   "metadata": {
    "deletable": false,
    "id": "2cacfc4a"
   },
   "outputs": [
    {
     "data": {
      "text/html": [
       "<div>\n",
       "<style scoped>\n",
       "    .dataframe tbody tr th:only-of-type {\n",
       "        vertical-align: middle;\n",
       "    }\n",
       "\n",
       "    .dataframe tbody tr th {\n",
       "        vertical-align: top;\n",
       "    }\n",
       "\n",
       "    .dataframe thead th {\n",
       "        text-align: right;\n",
       "    }\n",
       "</style>\n",
       "<table border=\"1\" class=\"dataframe\">\n",
       "  <thead>\n",
       "    <tr style=\"text-align: right;\">\n",
       "      <th></th>\n",
       "      <th>debt</th>\n",
       "      <th>percent</th>\n",
       "    </tr>\n",
       "    <tr>\n",
       "      <th>children</th>\n",
       "      <th></th>\n",
       "      <th></th>\n",
       "    </tr>\n",
       "  </thead>\n",
       "  <tbody>\n",
       "    <tr>\n",
       "      <th>4</th>\n",
       "      <td>0.097561</td>\n",
       "      <td>9.76%</td>\n",
       "    </tr>\n",
       "    <tr>\n",
       "      <th>2</th>\n",
       "      <td>0.094542</td>\n",
       "      <td>9.45%</td>\n",
       "    </tr>\n",
       "    <tr>\n",
       "      <th>1</th>\n",
       "      <td>0.092346</td>\n",
       "      <td>9.23%</td>\n",
       "    </tr>\n",
       "    <tr>\n",
       "      <th>3</th>\n",
       "      <td>0.081818</td>\n",
       "      <td>8.18%</td>\n",
       "    </tr>\n",
       "    <tr>\n",
       "      <th>0</th>\n",
       "      <td>0.075438</td>\n",
       "      <td>7.54%</td>\n",
       "    </tr>\n",
       "    <tr>\n",
       "      <th>5</th>\n",
       "      <td>0.000000</td>\n",
       "      <td>0.0%</td>\n",
       "    </tr>\n",
       "  </tbody>\n",
       "</table>\n",
       "</div>"
      ],
      "text/plain": [
       "              debt percent\n",
       "children                  \n",
       "4         0.097561   9.76%\n",
       "2         0.094542   9.45%\n",
       "1         0.092346   9.23%\n",
       "3         0.081818   8.18%\n",
       "0         0.075438   7.54%\n",
       "5         0.000000    0.0%"
      ]
     },
     "execution_count": 22,
     "metadata": {},
     "output_type": "execute_result"
    }
   ],
   "source": [
    "children_table = data.pivot_table(index='children', values='debt', aggfunc='mean')\n",
    "#1 - #создаём сводную таблицу по медианному значению колонки задолженности с сортировкой по количеству детей\n",
    "#в итоге получается сводная таблица с дробями\n",
    "\n",
    "def percent(value):\n",
    "    value *= 100\n",
    "    return f'{value:.3}%'\n",
    "#2 - для понятного вывода значений на экран в виде процентов создаём функцию\n",
    "\n",
    "children_table['percent'] = children_table['debt'].apply(percent)\n",
    "#3 - добавляем колонку с процентами в сводную таблицу\n",
    "\n",
    "children_table = children_table.sort_values(by='percent', ascending=False)\n",
    "#4 - располагаем значения по убыванию\n",
    "\n",
    "children_table\n",
    "#выводим на экран\n",
    "\n",
    "# Ваш код будет здесь. Вы можете создавать новые ячейки."
   ]
  },
  {
   "cell_type": "markdown",
   "id": "e50d2f68",
   "metadata": {
    "deletable": false,
    "id": "3a6b99ec"
   },
   "source": [
    "<div class=\"alert alert-info\" style=\"border:solid purple 2px; padding: 20px; background-color: #e6d2f2; color: #4b0082;\">\n",
    "\n",
    "**Вывод:** \n",
    "1-3 место - наибольший процент задолженности по кредитам у семей с 4-мя, 2-мя и 1 ребёнком. Это возможно по двум причинам:\n",
    "1) слишком большие расходы и низкие доходы => нехватка денег для выплат в срок - это более возможно в семьях с 4-мя детьми, так как в них наиболее вероятны большие расходы\n",
    "2) безответственный подход к своей кредитной истории - это более возможно в семьях с 1-м и 2-мя детьми, так как они, возможно, берут кредиты на разовые большие покупки\n",
    "\n",
    "4 место - семьи с 3-мя детьми. Значение их задолженности на 1,05%-1,58% меньше, чем в первой тройке. Возможные причины:\n",
    "1)в семьях с тремя детьми расходы меньше, чем в семьях с 4-мя детьми => процент задолженности меньше,\n",
    "но расходы всё ещё большие => процент задолженности всё ещё большой\n",
    "2)более ответственный подход к своей кредитной истории, чем у семей с 1-м и 2-мя детьми, так как в отличие от них кредиты берутся не только на разовые большие покупки\n",
    "\n",
    "5 место - люди без детей. Значение задолженности отличается от 4-го места на 0,64%. Возможные причины:\n",
    "1)слишком большие расходы и низкий доход => отсутствие возможности выплаты кредита в срок\n",
    "2)безответственное отношение к кредитной истории\n",
    "\n",
    "6 место - семьи с 5-ю детьми. Значение задолженности отличается от 5-го места на 7,54%. Самый низкий показатель в рейтинге. Возможные причины:\n",
    "1) большие доходы => возможность выплаты кредита в срок\n",
    "2) ответственное отношение к кредитной истории, так как она влияет на вероятность выдачи кредитов в будущем. Снижение этой вероятности влечёт слишком большой риск.\n",
    "\n",
    "ВЫВОД: Значение задолженности меняется от категории к категории на 0,64%-7,54%. Разница между наибольшим и наименьшим значениями составляет 9,76%. Из этого можно сделать вывод, что количество детей сильно влияет на возврат кредита в срок."
   ]
  },
  {
   "cell_type": "markdown",
   "id": "d54363ba",
   "metadata": {
    "deletable": false,
    "editable": false,
    "id": "97be82ca"
   },
   "source": [
    "#### 3.2 Есть ли зависимость между семейным положением и возвратом кредита в срок?"
   ]
  },
  {
   "cell_type": "code",
   "execution_count": 23,
   "id": "2a8b760c",
   "metadata": {
    "deletable": false,
    "id": "dc3f7ee8"
   },
   "outputs": [
    {
     "data": {
      "text/html": [
       "<div>\n",
       "<style scoped>\n",
       "    .dataframe tbody tr th:only-of-type {\n",
       "        vertical-align: middle;\n",
       "    }\n",
       "\n",
       "    .dataframe tbody tr th {\n",
       "        vertical-align: top;\n",
       "    }\n",
       "\n",
       "    .dataframe thead th {\n",
       "        text-align: right;\n",
       "    }\n",
       "</style>\n",
       "<table border=\"1\" class=\"dataframe\">\n",
       "  <thead>\n",
       "    <tr style=\"text-align: right;\">\n",
       "      <th></th>\n",
       "      <th>debt</th>\n",
       "      <th>percent</th>\n",
       "    </tr>\n",
       "    <tr>\n",
       "      <th>family_status</th>\n",
       "      <th></th>\n",
       "      <th></th>\n",
       "    </tr>\n",
       "  </thead>\n",
       "  <tbody>\n",
       "    <tr>\n",
       "      <th>Не женат / не замужем</th>\n",
       "      <td>0.097639</td>\n",
       "      <td>9.76%</td>\n",
       "    </tr>\n",
       "    <tr>\n",
       "      <th>гражданский брак</th>\n",
       "      <td>0.093130</td>\n",
       "      <td>9.31%</td>\n",
       "    </tr>\n",
       "    <tr>\n",
       "      <th>женат / замужем</th>\n",
       "      <td>0.075606</td>\n",
       "      <td>7.56%</td>\n",
       "    </tr>\n",
       "    <tr>\n",
       "      <th>в разводе</th>\n",
       "      <td>0.070648</td>\n",
       "      <td>7.06%</td>\n",
       "    </tr>\n",
       "    <tr>\n",
       "      <th>вдовец / вдова</th>\n",
       "      <td>0.066246</td>\n",
       "      <td>6.62%</td>\n",
       "    </tr>\n",
       "  </tbody>\n",
       "</table>\n",
       "</div>"
      ],
      "text/plain": [
       "                           debt percent\n",
       "family_status                          \n",
       "Не женат / не замужем  0.097639   9.76%\n",
       "гражданский брак       0.093130   9.31%\n",
       "женат / замужем        0.075606   7.56%\n",
       "в разводе              0.070648   7.06%\n",
       "вдовец / вдова         0.066246   6.62%"
      ]
     },
     "execution_count": 23,
     "metadata": {},
     "output_type": "execute_result"
    }
   ],
   "source": [
    "family_table = data.pivot_table(index='family_status', values='debt', aggfunc='mean')\n",
    "#1 - #создаём сводную таблицу по медианному значению колонки задолженности с сортировкой по семейному положению\n",
    "#в итоге получается сводная таблица с дробями\n",
    "\n",
    "family_table['percent'] = family_table['debt'].apply(percent)\n",
    "#2 - добавляем колонку с процентами в сводную таблицу\n",
    "\n",
    "family_table = family_table.sort_values(by='percent', ascending=False)\n",
    "#3 - располагаем значения по убыванию\n",
    "\n",
    "family_table\n",
    "#выводим на экран\n",
    "\n",
    "# Ваш код будет здесь. Вы можете создавать новые ячейки. "
   ]
  },
  {
   "cell_type": "markdown",
   "id": "f0f82a1d",
   "metadata": {
    "deletable": false,
    "id": "1cef7837"
   },
   "source": [
    "<div class=\"alert alert-info\" style=\"border:solid purple 2px; padding: 20px; background-color: #e6d2f2; color: #4b0082;\">\n",
    "\n",
    "**Вывод:** \n",
    "1-2 места - не женат/не замужем и гражданский брак, показатель - выше 9%\n",
    "3-4 места - женат/замужем и в разводе, показатель - выше 7%\n",
    "5 место - вдовец/вдова, показатель - выше 6%\n",
    "\n",
    "ВЫВОД: Значение задолженности - от 0,44% до 1,75%. Разница между наибольшим и наименьшим значениями - 3,14%. Из этого можно сделать вывод, что семейное положение влияет на возврат кредита в срок.\n",
    "Можно заметить закономерность - категория людей, состоящих или состоявших в официальном браке, имеет заметно меньший процент задолженности по сравнению с категорией не состоящих."
   ]
  },
  {
   "cell_type": "markdown",
   "id": "1f8c1b3c",
   "metadata": {
    "deletable": false,
    "editable": false,
    "id": "1e8b2fca"
   },
   "source": [
    "#### 3.3 Есть ли зависимость между уровнем дохода и возвратом кредита в срок?"
   ]
  },
  {
   "cell_type": "code",
   "execution_count": 24,
   "id": "45b55461",
   "metadata": {
    "deletable": false,
    "id": "cd7e3720"
   },
   "outputs": [
    {
     "data": {
      "text/html": [
       "<div>\n",
       "<style scoped>\n",
       "    .dataframe tbody tr th:only-of-type {\n",
       "        vertical-align: middle;\n",
       "    }\n",
       "\n",
       "    .dataframe tbody tr th {\n",
       "        vertical-align: top;\n",
       "    }\n",
       "\n",
       "    .dataframe thead th {\n",
       "        text-align: right;\n",
       "    }\n",
       "</style>\n",
       "<table border=\"1\" class=\"dataframe\">\n",
       "  <thead>\n",
       "    <tr style=\"text-align: right;\">\n",
       "      <th></th>\n",
       "      <th>debt</th>\n",
       "      <th>percent</th>\n",
       "    </tr>\n",
       "    <tr>\n",
       "      <th>total_income_category</th>\n",
       "      <th></th>\n",
       "      <th></th>\n",
       "    </tr>\n",
       "  </thead>\n",
       "  <tbody>\n",
       "    <tr>\n",
       "      <th>E</th>\n",
       "      <td>0.090909</td>\n",
       "      <td>9.09%</td>\n",
       "    </tr>\n",
       "    <tr>\n",
       "      <th>C</th>\n",
       "      <td>0.084982</td>\n",
       "      <td>8.5%</td>\n",
       "    </tr>\n",
       "    <tr>\n",
       "      <th>A</th>\n",
       "      <td>0.080000</td>\n",
       "      <td>8.0%</td>\n",
       "    </tr>\n",
       "    <tr>\n",
       "      <th>B</th>\n",
       "      <td>0.070602</td>\n",
       "      <td>7.06%</td>\n",
       "    </tr>\n",
       "    <tr>\n",
       "      <th>D</th>\n",
       "      <td>0.060172</td>\n",
       "      <td>6.02%</td>\n",
       "    </tr>\n",
       "  </tbody>\n",
       "</table>\n",
       "</div>"
      ],
      "text/plain": [
       "                           debt percent\n",
       "total_income_category                  \n",
       "E                      0.090909   9.09%\n",
       "C                      0.084982    8.5%\n",
       "A                      0.080000    8.0%\n",
       "B                      0.070602   7.06%\n",
       "D                      0.060172   6.02%"
      ]
     },
     "execution_count": 24,
     "metadata": {},
     "output_type": "execute_result"
    }
   ],
   "source": [
    "income_table = data.pivot_table(index='total_income_category', values='debt', aggfunc='mean')\n",
    "#1 - #создаём сводную таблицу по медианному значению колонки задолженности с сортировкой по уровню дохода\n",
    "#в итоге получается сводная таблица с дробями\n",
    "\n",
    "income_table['percent'] = income_table['debt'].apply(percent)\n",
    "#2 - добавляем колонку с процентами в сводную таблицу\n",
    "\n",
    "income_table = income_table.sort_values(by='percent', ascending=False)\n",
    "#3 - располагаем значения по убыванию\n",
    "\n",
    "income_table\n",
    "#выводим на экран\n",
    "\n",
    "# Ваш код будет здесь. Вы можете создавать новые ячейки.# Ваш код будет здесь. Вы можете создавать новые ячейки."
   ]
  },
  {
   "cell_type": "markdown",
   "id": "e0a821d6",
   "metadata": {
    "deletable": false,
    "id": "e8593def"
   },
   "source": [
    "<div class=\"alert alert-info\" style=\"border:solid purple 2px; padding: 20px; background-color: #e6d2f2; color: #4b0082;\">\n",
    "\n",
    "**Вывод:** \n",
    "1) наибольший процент задолженности имеет категория 'E' с самым низким доходом. Возможная причина - отсутствие средств для своевременных выплат кредита\n",
    "2) 2, 3, 4 места - категории 'C','A','B' - категория людей, имеющих от среднего до высокого заработка.\n",
    "3) наименьший процент задолженность имеет категория 'D' с низким доходом. Возможная причина - ответственный подход к кредитной истории для большей вероятности получения новых кредитов.\n",
    "\n",
    "ВЫВОД: Разница показателей задолженности между категориями - от 0,5% до 1,04%. Разница между наибольшим и наименьшим показателями - 3,07%. Из этого можно сделать вывод о том, что уровень дохода влияет на возврат кредита в срок."
   ]
  },
  {
   "cell_type": "markdown",
   "id": "77835d11",
   "metadata": {
    "deletable": false,
    "editable": false,
    "id": "99ecbd1f"
   },
   "source": [
    "#### 3.4 Как разные цели кредита влияют на его возврат в срок?"
   ]
  },
  {
   "cell_type": "code",
   "execution_count": 25,
   "id": "416c34d7",
   "metadata": {
    "deletable": false,
    "id": "2b687290"
   },
   "outputs": [
    {
     "data": {
      "text/html": [
       "<div>\n",
       "<style scoped>\n",
       "    .dataframe tbody tr th:only-of-type {\n",
       "        vertical-align: middle;\n",
       "    }\n",
       "\n",
       "    .dataframe tbody tr th {\n",
       "        vertical-align: top;\n",
       "    }\n",
       "\n",
       "    .dataframe thead th {\n",
       "        text-align: right;\n",
       "    }\n",
       "</style>\n",
       "<table border=\"1\" class=\"dataframe\">\n",
       "  <thead>\n",
       "    <tr style=\"text-align: right;\">\n",
       "      <th></th>\n",
       "      <th>debt</th>\n",
       "      <th>percent</th>\n",
       "    </tr>\n",
       "    <tr>\n",
       "      <th>purpose_category</th>\n",
       "      <th></th>\n",
       "      <th></th>\n",
       "    </tr>\n",
       "  </thead>\n",
       "  <tbody>\n",
       "    <tr>\n",
       "      <th>операции с автомобилем</th>\n",
       "      <td>0.093480</td>\n",
       "      <td>9.35%</td>\n",
       "    </tr>\n",
       "    <tr>\n",
       "      <th>получение образования</th>\n",
       "      <td>0.092528</td>\n",
       "      <td>9.25%</td>\n",
       "    </tr>\n",
       "    <tr>\n",
       "      <th>проведение свадьбы</th>\n",
       "      <td>0.079118</td>\n",
       "      <td>7.91%</td>\n",
       "    </tr>\n",
       "    <tr>\n",
       "      <th>операции с недвижимостью</th>\n",
       "      <td>0.072551</td>\n",
       "      <td>7.26%</td>\n",
       "    </tr>\n",
       "  </tbody>\n",
       "</table>\n",
       "</div>"
      ],
      "text/plain": [
       "                              debt percent\n",
       "purpose_category                          \n",
       "операции с автомобилем    0.093480   9.35%\n",
       "получение образования     0.092528   9.25%\n",
       "проведение свадьбы        0.079118   7.91%\n",
       "операции с недвижимостью  0.072551   7.26%"
      ]
     },
     "execution_count": 25,
     "metadata": {},
     "output_type": "execute_result"
    }
   ],
   "source": [
    "purpose_table = data.pivot_table(index=['purpose_category'], values='debt', aggfunc='mean')\n",
    "#1 - #создаём сводную таблицу по медианному значению колонки задолженности с сортировкой по цели кредита\n",
    "#в итоге получается сводная таблица с дробями\n",
    "\n",
    "purpose_table['percent'] = purpose_table['debt'].apply(percent)\n",
    "#2 - добавляем колонку с процентами в сводную таблицу\n",
    "\n",
    "purpose_table = purpose_table.sort_values(by='percent', ascending=False)\n",
    "#3 - располагаем значения по убыванию\n",
    "\n",
    "purpose_table\n",
    "#выводим на экран# Ваш код будет здесь. Вы можете создавать новые ячейки."
   ]
  },
  {
   "cell_type": "markdown",
   "id": "7aba16dd",
   "metadata": {
    "deletable": false,
    "id": "b4bb2ce6"
   },
   "source": [
    "<div class=\"alert alert-info\" style=\"border:solid purple 2px; padding: 20px; background-color: #e6d2f2; color: #4b0082;\">\n",
    "\n",
    "**Вывод:** \n",
    "1 и 2 места - операции с автомобилем и получение образования, показатель - больше 9%\n",
    "3 и 4 места - проведение свадьбы и операции с недвижимостью, показатель - больше 7%\n",
    "\n",
    "ВЫВОД: Разница между категориями - от 0,1% до 1,34%. Разница между наибольшим и наименьшим показателями - 2,09%. Из этого можно сделать вывод о том, что цели кредита влияют на возврат кредита в срок."
   ]
  },
  {
   "cell_type": "markdown",
   "id": "05af1891",
   "metadata": {
    "deletable": false,
    "editable": false,
    "id": "09c3ac4c"
   },
   "source": [
    "#### 3.5 Приведите возможные причины появления пропусков в исходных данных."
   ]
  },
  {
   "cell_type": "markdown",
   "id": "a2a448a7",
   "metadata": {
    "deletable": false,
    "id": "9da2ceda"
   },
   "source": [
    "<div class=\"alert alert-info\" style=\"border:solid purple 2px; padding: 20px; background-color: #e6d2f2; color: #4b0082;\">\n",
    "\n",
    "*Ответ:* В соответствии с данными, полученными в Задании 4, пропуски были в столбцах 'общий трудовой стаж в днях' и 'ежемесячный доход', причём количество пропущенных значений в обоих столбцах совпадает. Возможные причины:\n",
    "\n",
    "- искажение данных. При выгрузке данных информация о занятости определённой категории людей удалилась.\n",
    "\n",
    "- среди заёмщиков присутствует категория людей, которые не работали и, соответственно, не получали зарплату в определённый промежуток времени. Н-р, люди на больничном или женщины в декрете.\n",
    "\n",
    "- среди заёмщиков присутствует категория безработных людей, не имеющих официальный доход."
   ]
  },
  {
   "cell_type": "markdown",
   "id": "faa67573",
   "metadata": {
    "deletable": false,
    "editable": false,
    "id": "7b0487d6"
   },
   "source": [
    "#### 3.6 Объясните, почему заполнить пропуски медианным значением — лучшее решение для количественных переменных."
   ]
  },
  {
   "cell_type": "markdown",
   "id": "6f4c0cfc",
   "metadata": {
    "deletable": false,
    "id": "7ecf2b8e"
   },
   "source": [
    "<div class=\"alert alert-info\" style=\"border:solid purple 2px; padding: 20px; background-color: #e6d2f2; color: #4b0082;\">\n",
    "\n",
    "*Ответ:* Медианное значение помогает получить более достоверные данные, так как в данных могут присутствовать аномальные данные, сильно смещающие итоговый результат."
   ]
  },
  {
   "cell_type": "markdown",
   "id": "cc9b54ba",
   "metadata": {
    "deletable": false,
    "editable": false,
    "id": "6db5255a"
   },
   "source": [
    "### Шаг 4: общий вывод."
   ]
  },
  {
   "cell_type": "code",
   "execution_count": 26,
   "id": "6578b971",
   "metadata": {},
   "outputs": [
    {
     "data": {
      "text/html": [
       "<div>\n",
       "<style scoped>\n",
       "    .dataframe tbody tr th:only-of-type {\n",
       "        vertical-align: middle;\n",
       "    }\n",
       "\n",
       "    .dataframe tbody tr th {\n",
       "        vertical-align: top;\n",
       "    }\n",
       "\n",
       "    .dataframe thead th {\n",
       "        text-align: right;\n",
       "    }\n",
       "</style>\n",
       "<table border=\"1\" class=\"dataframe\">\n",
       "  <thead>\n",
       "    <tr style=\"text-align: right;\">\n",
       "      <th></th>\n",
       "      <th>column</th>\n",
       "      <th>min</th>\n",
       "      <th>max</th>\n",
       "      <th>min_max</th>\n",
       "    </tr>\n",
       "  </thead>\n",
       "  <tbody>\n",
       "    <tr>\n",
       "      <th>0</th>\n",
       "      <td>количество детей</td>\n",
       "      <td>0.64</td>\n",
       "      <td>7.54</td>\n",
       "      <td>9.76</td>\n",
       "    </tr>\n",
       "    <tr>\n",
       "      <th>2</th>\n",
       "      <td>уровень дохода</td>\n",
       "      <td>0.50</td>\n",
       "      <td>1.04</td>\n",
       "      <td>3.07</td>\n",
       "    </tr>\n",
       "    <tr>\n",
       "      <th>1</th>\n",
       "      <td>семейное положение</td>\n",
       "      <td>0.44</td>\n",
       "      <td>1.75</td>\n",
       "      <td>3.14</td>\n",
       "    </tr>\n",
       "    <tr>\n",
       "      <th>3</th>\n",
       "      <td>цель кредита</td>\n",
       "      <td>0.10</td>\n",
       "      <td>1.34</td>\n",
       "      <td>2.09</td>\n",
       "    </tr>\n",
       "  </tbody>\n",
       "</table>\n",
       "</div>"
      ],
      "text/plain": [
       "               column   min   max  min_max\n",
       "0    количество детей  0.64  7.54     9.76\n",
       "2      уровень дохода  0.50  1.04     3.07\n",
       "1  семейное положение  0.44  1.75     3.14\n",
       "3        цель кредита  0.10  1.34     2.09"
      ]
     },
     "metadata": {},
     "output_type": "display_data"
    },
    {
     "data": {
      "text/html": [
       "<div>\n",
       "<style scoped>\n",
       "    .dataframe tbody tr th:only-of-type {\n",
       "        vertical-align: middle;\n",
       "    }\n",
       "\n",
       "    .dataframe tbody tr th {\n",
       "        vertical-align: top;\n",
       "    }\n",
       "\n",
       "    .dataframe thead th {\n",
       "        text-align: right;\n",
       "    }\n",
       "</style>\n",
       "<table border=\"1\" class=\"dataframe\">\n",
       "  <thead>\n",
       "    <tr style=\"text-align: right;\">\n",
       "      <th></th>\n",
       "      <th>column</th>\n",
       "      <th>min</th>\n",
       "      <th>max</th>\n",
       "      <th>min_max</th>\n",
       "    </tr>\n",
       "  </thead>\n",
       "  <tbody>\n",
       "    <tr>\n",
       "      <th>0</th>\n",
       "      <td>количество детей</td>\n",
       "      <td>0.64</td>\n",
       "      <td>7.54</td>\n",
       "      <td>9.76</td>\n",
       "    </tr>\n",
       "    <tr>\n",
       "      <th>1</th>\n",
       "      <td>семейное положение</td>\n",
       "      <td>0.44</td>\n",
       "      <td>1.75</td>\n",
       "      <td>3.14</td>\n",
       "    </tr>\n",
       "    <tr>\n",
       "      <th>3</th>\n",
       "      <td>цель кредита</td>\n",
       "      <td>0.10</td>\n",
       "      <td>1.34</td>\n",
       "      <td>2.09</td>\n",
       "    </tr>\n",
       "    <tr>\n",
       "      <th>2</th>\n",
       "      <td>уровень дохода</td>\n",
       "      <td>0.50</td>\n",
       "      <td>1.04</td>\n",
       "      <td>3.07</td>\n",
       "    </tr>\n",
       "  </tbody>\n",
       "</table>\n",
       "</div>"
      ],
      "text/plain": [
       "               column   min   max  min_max\n",
       "0    количество детей  0.64  7.54     9.76\n",
       "1  семейное положение  0.44  1.75     3.14\n",
       "3        цель кредита  0.10  1.34     2.09\n",
       "2      уровень дохода  0.50  1.04     3.07"
      ]
     },
     "metadata": {},
     "output_type": "display_data"
    },
    {
     "data": {
      "text/html": [
       "<div>\n",
       "<style scoped>\n",
       "    .dataframe tbody tr th:only-of-type {\n",
       "        vertical-align: middle;\n",
       "    }\n",
       "\n",
       "    .dataframe tbody tr th {\n",
       "        vertical-align: top;\n",
       "    }\n",
       "\n",
       "    .dataframe thead th {\n",
       "        text-align: right;\n",
       "    }\n",
       "</style>\n",
       "<table border=\"1\" class=\"dataframe\">\n",
       "  <thead>\n",
       "    <tr style=\"text-align: right;\">\n",
       "      <th></th>\n",
       "      <th>column</th>\n",
       "      <th>min</th>\n",
       "      <th>max</th>\n",
       "      <th>min_max</th>\n",
       "    </tr>\n",
       "  </thead>\n",
       "  <tbody>\n",
       "    <tr>\n",
       "      <th>0</th>\n",
       "      <td>количество детей</td>\n",
       "      <td>0.64</td>\n",
       "      <td>7.54</td>\n",
       "      <td>9.76</td>\n",
       "    </tr>\n",
       "    <tr>\n",
       "      <th>1</th>\n",
       "      <td>семейное положение</td>\n",
       "      <td>0.44</td>\n",
       "      <td>1.75</td>\n",
       "      <td>3.14</td>\n",
       "    </tr>\n",
       "    <tr>\n",
       "      <th>2</th>\n",
       "      <td>уровень дохода</td>\n",
       "      <td>0.50</td>\n",
       "      <td>1.04</td>\n",
       "      <td>3.07</td>\n",
       "    </tr>\n",
       "    <tr>\n",
       "      <th>3</th>\n",
       "      <td>цель кредита</td>\n",
       "      <td>0.10</td>\n",
       "      <td>1.34</td>\n",
       "      <td>2.09</td>\n",
       "    </tr>\n",
       "  </tbody>\n",
       "</table>\n",
       "</div>"
      ],
      "text/plain": [
       "               column   min   max  min_max\n",
       "0    количество детей  0.64  7.54     9.76\n",
       "1  семейное положение  0.44  1.75     3.14\n",
       "2      уровень дохода  0.50  1.04     3.07\n",
       "3        цель кредита  0.10  1.34     2.09"
      ]
     },
     "execution_count": 26,
     "metadata": {},
     "output_type": "execute_result"
    }
   ],
   "source": [
    "category = ['column', 'min', 'max', 'min_max']\n",
    "info = [\n",
    "    ['количество детей', 0.64, 7.54, 9.76],\n",
    "    ['семейное положение', 0.44, 1.75, 3.14],\n",
    "    ['уровень дохода', 0.5, 1.04, 3.07],\n",
    "    ['цель кредита', 0.1, 1.34, 2.09]\n",
    "]\n",
    "conclusion = pd.DataFrame(data=info , columns=category)\n",
    "display(conclusion.sort_values('min', ascending=False))\n",
    "display(conclusion.sort_values('max', ascending=False))\n",
    "conclusion.sort_values('min_max', ascending=False)"
   ]
  },
  {
   "cell_type": "markdown",
   "id": "8d2d8281",
   "metadata": {
    "deletable": false,
    "id": "bad65432"
   },
   "source": [
    "<div class=\"alert alert-info\" style=\"border:solid purple 2px; padding: 20px; background-color: #e6d2f2; color: #4b0082;\">\n",
    "\n",
    "**Общий вывод**\n",
    "\n",
    "Для подведения общего итога сделаю предположение о том, что чем больше разница показателей задолженности между категориями, тем сильнее влияет на эти показатели критерий, по которому были выделены эти категории. Для этого я рассчитала разницу между категориями в процентах и представили критерии в порядке убывания по величине разницы.\n",
    "\n",
    "Критерий 'количество детей' во всех рейтингах стоит на первом месте, из чего можно сделать вывод о том, что количество детей очень сильно влияет на возврат кредита в срок.\n",
    "\n",
    "Критерий 'семейное положение' занимает 2 или 3 места, из этого следует, что семейное положение сильно влияет на возврат кредита в срок.\n",
    "\n",
    "Критерий 'уровень дохода' занимает 2, 3 или 4 места, из этого следует, что уровень дохода средне влияет на возврат кредита в срок.\n",
    "\n",
    "Критерий 'цель кредита' занимает 3 или 4 места, из этого следует, что цель кредита слабее всех влияет на возврат кредита в срок."
   ]
  }
 ],
 "metadata": {
  "ExecuteTimeLog": [
   {
    "duration": 47,
    "start_time": "2022-10-03T02:40:10.294Z"
   },
   {
    "duration": 759,
    "start_time": "2022-10-03T02:40:24.040Z"
   },
   {
    "duration": 26,
    "start_time": "2022-10-03T02:40:24.801Z"
   },
   {
    "duration": 15,
    "start_time": "2022-10-03T02:40:24.828Z"
   },
   {
    "duration": 12,
    "start_time": "2022-10-03T02:40:24.845Z"
   },
   {
    "duration": 32,
    "start_time": "2022-10-03T02:40:24.859Z"
   },
   {
    "duration": 4,
    "start_time": "2022-10-03T02:40:24.893Z"
   },
   {
    "duration": 10,
    "start_time": "2022-10-03T02:40:24.898Z"
   },
   {
    "duration": 4,
    "start_time": "2022-10-03T02:40:24.909Z"
   },
   {
    "duration": 44,
    "start_time": "2022-10-03T02:40:24.915Z"
   },
   {
    "duration": 4,
    "start_time": "2022-10-03T02:40:24.962Z"
   },
   {
    "duration": 40,
    "start_time": "2022-10-03T02:40:24.967Z"
   },
   {
    "duration": 10,
    "start_time": "2022-10-03T02:40:25.009Z"
   },
   {
    "duration": 34,
    "start_time": "2022-10-03T02:40:25.020Z"
   },
   {
    "duration": 12,
    "start_time": "2022-10-03T02:40:25.056Z"
   },
   {
    "duration": 27,
    "start_time": "2022-10-03T02:40:25.069Z"
   },
   {
    "duration": 19,
    "start_time": "2022-10-03T02:40:25.098Z"
   },
   {
    "duration": 4,
    "start_time": "2022-10-03T02:40:25.119Z"
   },
   {
    "duration": 37,
    "start_time": "2022-10-03T02:40:25.125Z"
   },
   {
    "duration": 9,
    "start_time": "2022-10-03T02:40:25.164Z"
   },
   {
    "duration": 3,
    "start_time": "2022-10-03T02:40:25.175Z"
   },
   {
    "duration": 15,
    "start_time": "2022-10-03T02:40:25.180Z"
   },
   {
    "duration": 11,
    "start_time": "2022-10-03T02:40:25.197Z"
   },
   {
    "duration": 11,
    "start_time": "2022-10-03T02:40:25.210Z"
   },
   {
    "duration": 12,
    "start_time": "2022-10-03T02:40:25.223Z"
   },
   {
    "duration": 23,
    "start_time": "2022-10-03T02:40:25.237Z"
   },
   {
    "duration": 3,
    "start_time": "2022-10-03T02:40:30.842Z"
   },
   {
    "duration": 19,
    "start_time": "2022-10-03T02:41:59.104Z"
   },
   {
    "duration": 16,
    "start_time": "2022-10-03T02:42:12.446Z"
   },
   {
    "duration": 18,
    "start_time": "2022-10-03T02:42:19.421Z"
   },
   {
    "duration": 13,
    "start_time": "2022-10-03T02:42:33.342Z"
   },
   {
    "duration": 13,
    "start_time": "2022-10-03T02:42:46.900Z"
   },
   {
    "duration": 9,
    "start_time": "2022-10-03T02:44:39.970Z"
   },
   {
    "duration": 11,
    "start_time": "2022-10-03T02:45:01.674Z"
   },
   {
    "duration": 3,
    "start_time": "2022-10-03T02:57:38.098Z"
   },
   {
    "duration": 4,
    "start_time": "2022-10-03T02:57:42.149Z"
   },
   {
    "duration": 67,
    "start_time": "2022-10-03T02:59:03.007Z"
   },
   {
    "duration": 3,
    "start_time": "2022-10-03T02:59:16.892Z"
   },
   {
    "duration": 45,
    "start_time": "2022-10-03T05:14:59.286Z"
   },
   {
    "duration": 731,
    "start_time": "2022-10-03T05:15:13.041Z"
   },
   {
    "duration": 31,
    "start_time": "2022-10-03T05:15:13.774Z"
   },
   {
    "duration": 21,
    "start_time": "2022-10-03T05:15:13.807Z"
   },
   {
    "duration": 10,
    "start_time": "2022-10-03T05:15:13.831Z"
   },
   {
    "duration": 49,
    "start_time": "2022-10-03T05:15:13.842Z"
   },
   {
    "duration": 3,
    "start_time": "2022-10-03T05:15:13.893Z"
   },
   {
    "duration": 16,
    "start_time": "2022-10-03T05:15:13.898Z"
   },
   {
    "duration": 18,
    "start_time": "2022-10-03T05:15:13.916Z"
   },
   {
    "duration": 10,
    "start_time": "2022-10-03T05:15:13.937Z"
   },
   {
    "duration": 6,
    "start_time": "2022-10-03T05:15:13.950Z"
   },
   {
    "duration": 48,
    "start_time": "2022-10-03T05:15:13.957Z"
   },
   {
    "duration": 12,
    "start_time": "2022-10-03T05:15:14.007Z"
   },
   {
    "duration": 12,
    "start_time": "2022-10-03T05:15:14.021Z"
   },
   {
    "duration": 26,
    "start_time": "2022-10-03T05:15:14.035Z"
   },
   {
    "duration": 30,
    "start_time": "2022-10-03T05:15:14.062Z"
   },
   {
    "duration": 19,
    "start_time": "2022-10-03T05:15:14.093Z"
   },
   {
    "duration": 10,
    "start_time": "2022-10-03T05:15:14.114Z"
   },
   {
    "duration": 33,
    "start_time": "2022-10-03T05:15:14.126Z"
   },
   {
    "duration": 22,
    "start_time": "2022-10-03T05:15:14.161Z"
   },
   {
    "duration": 15,
    "start_time": "2022-10-03T05:15:14.185Z"
   },
   {
    "duration": 22,
    "start_time": "2022-10-03T05:15:14.202Z"
   },
   {
    "duration": 90,
    "start_time": "2022-10-03T05:15:14.225Z"
   },
   {
    "duration": 0,
    "start_time": "2022-10-03T05:15:14.317Z"
   },
   {
    "duration": 0,
    "start_time": "2022-10-03T05:15:14.317Z"
   },
   {
    "duration": 0,
    "start_time": "2022-10-03T05:15:14.319Z"
   },
   {
    "duration": 16,
    "start_time": "2022-10-03T05:16:21.617Z"
   },
   {
    "duration": 16,
    "start_time": "2022-10-03T05:17:04.886Z"
   },
   {
    "duration": 217,
    "start_time": "2022-10-03T05:17:38.220Z"
   },
   {
    "duration": 12,
    "start_time": "2022-10-03T05:17:53.933Z"
   },
   {
    "duration": 65,
    "start_time": "2022-10-03T05:19:25.246Z"
   },
   {
    "duration": 51,
    "start_time": "2022-10-03T05:20:32.698Z"
   },
   {
    "duration": 513,
    "start_time": "2022-10-03T05:20:50.037Z"
   },
   {
    "duration": 26,
    "start_time": "2022-10-03T05:20:50.552Z"
   },
   {
    "duration": 20,
    "start_time": "2022-10-03T05:20:50.580Z"
   },
   {
    "duration": 10,
    "start_time": "2022-10-03T05:20:50.602Z"
   },
   {
    "duration": 58,
    "start_time": "2022-10-03T05:20:50.613Z"
   },
   {
    "duration": 3,
    "start_time": "2022-10-03T05:20:50.672Z"
   },
   {
    "duration": 13,
    "start_time": "2022-10-03T05:20:50.677Z"
   },
   {
    "duration": 13,
    "start_time": "2022-10-03T05:20:50.692Z"
   },
   {
    "duration": 12,
    "start_time": "2022-10-03T05:20:50.706Z"
   },
   {
    "duration": 24,
    "start_time": "2022-10-03T05:20:50.720Z"
   },
   {
    "duration": 31,
    "start_time": "2022-10-03T05:20:50.746Z"
   },
   {
    "duration": 9,
    "start_time": "2022-10-03T05:20:50.779Z"
   },
   {
    "duration": 4,
    "start_time": "2022-10-03T05:20:50.789Z"
   },
   {
    "duration": 17,
    "start_time": "2022-10-03T05:20:50.794Z"
   },
   {
    "duration": 38,
    "start_time": "2022-10-03T05:20:50.813Z"
   },
   {
    "duration": 17,
    "start_time": "2022-10-03T05:20:50.852Z"
   },
   {
    "duration": 4,
    "start_time": "2022-10-03T05:20:50.871Z"
   },
   {
    "duration": 12,
    "start_time": "2022-10-03T05:20:50.877Z"
   },
   {
    "duration": 15,
    "start_time": "2022-10-03T05:20:50.890Z"
   },
   {
    "duration": 5,
    "start_time": "2022-10-03T05:20:50.906Z"
   },
   {
    "duration": 38,
    "start_time": "2022-10-03T05:20:50.912Z"
   },
   {
    "duration": 48,
    "start_time": "2022-10-03T05:20:50.952Z"
   },
   {
    "duration": 3,
    "start_time": "2022-10-03T05:20:51.002Z"
   },
   {
    "duration": 7,
    "start_time": "2022-10-03T05:20:51.007Z"
   },
   {
    "duration": 16,
    "start_time": "2022-10-03T05:20:51.015Z"
   },
   {
    "duration": 69,
    "start_time": "2022-10-03T05:22:10.272Z"
   },
   {
    "duration": 15,
    "start_time": "2022-10-03T05:22:39.408Z"
   },
   {
    "duration": 13,
    "start_time": "2022-10-03T05:29:21.555Z"
   },
   {
    "duration": 458,
    "start_time": "2022-10-03T05:35:52.252Z"
   },
   {
    "duration": 20,
    "start_time": "2022-10-03T05:35:52.711Z"
   },
   {
    "duration": 14,
    "start_time": "2022-10-03T05:35:52.733Z"
   },
   {
    "duration": 8,
    "start_time": "2022-10-03T05:35:52.749Z"
   },
   {
    "duration": 33,
    "start_time": "2022-10-03T05:35:52.758Z"
   },
   {
    "duration": 3,
    "start_time": "2022-10-03T05:35:52.792Z"
   },
   {
    "duration": 10,
    "start_time": "2022-10-03T05:35:52.796Z"
   },
   {
    "duration": 4,
    "start_time": "2022-10-03T05:35:52.807Z"
   },
   {
    "duration": 6,
    "start_time": "2022-10-03T05:35:52.834Z"
   },
   {
    "duration": 4,
    "start_time": "2022-10-03T05:35:52.842Z"
   },
   {
    "duration": 34,
    "start_time": "2022-10-03T05:35:52.847Z"
   },
   {
    "duration": 8,
    "start_time": "2022-10-03T05:35:52.882Z"
   },
   {
    "duration": 5,
    "start_time": "2022-10-03T05:35:52.892Z"
   },
   {
    "duration": 38,
    "start_time": "2022-10-03T05:35:52.898Z"
   },
   {
    "duration": 20,
    "start_time": "2022-10-03T05:35:52.938Z"
   },
   {
    "duration": 15,
    "start_time": "2022-10-03T05:35:52.959Z"
   },
   {
    "duration": 4,
    "start_time": "2022-10-03T05:35:52.975Z"
   },
   {
    "duration": 12,
    "start_time": "2022-10-03T05:35:52.980Z"
   },
   {
    "duration": 6,
    "start_time": "2022-10-03T05:35:52.993Z"
   },
   {
    "duration": 6,
    "start_time": "2022-10-03T05:35:53.000Z"
   },
   {
    "duration": 27,
    "start_time": "2022-10-03T05:35:53.007Z"
   },
   {
    "duration": 72,
    "start_time": "2022-10-03T05:35:53.036Z"
   },
   {
    "duration": 0,
    "start_time": "2022-10-03T05:35:53.110Z"
   },
   {
    "duration": 0,
    "start_time": "2022-10-03T05:35:53.111Z"
   },
   {
    "duration": 0,
    "start_time": "2022-10-03T05:35:53.112Z"
   },
   {
    "duration": 13,
    "start_time": "2022-10-03T05:36:36.743Z"
   },
   {
    "duration": 16,
    "start_time": "2022-10-03T05:36:57.074Z"
   },
   {
    "duration": 11,
    "start_time": "2022-10-03T05:48:32.498Z"
   },
   {
    "duration": 12,
    "start_time": "2022-10-03T05:48:38.461Z"
   },
   {
    "duration": 16,
    "start_time": "2022-10-03T05:49:24.578Z"
   },
   {
    "duration": 12,
    "start_time": "2022-10-03T05:50:25.699Z"
   },
   {
    "duration": 18,
    "start_time": "2022-10-03T05:54:17.673Z"
   },
   {
    "duration": 15,
    "start_time": "2022-10-03T05:55:56.980Z"
   },
   {
    "duration": 8,
    "start_time": "2022-10-03T08:33:25.702Z"
   },
   {
    "duration": 14,
    "start_time": "2022-10-03T08:33:56.508Z"
   },
   {
    "duration": 4,
    "start_time": "2022-10-03T08:34:37.549Z"
   },
   {
    "duration": 4,
    "start_time": "2022-10-03T08:34:40.454Z"
   },
   {
    "duration": 14,
    "start_time": "2022-10-03T08:34:45.190Z"
   },
   {
    "duration": 82,
    "start_time": "2022-10-03T08:35:43.693Z"
   },
   {
    "duration": 100,
    "start_time": "2022-10-03T08:35:56.293Z"
   },
   {
    "duration": 16,
    "start_time": "2022-10-03T08:40:44.104Z"
   },
   {
    "duration": 15,
    "start_time": "2022-10-03T08:41:20.903Z"
   },
   {
    "duration": 11,
    "start_time": "2022-10-03T08:52:16.010Z"
   },
   {
    "duration": 12,
    "start_time": "2022-10-03T08:52:34.509Z"
   },
   {
    "duration": 71,
    "start_time": "2022-10-03T08:55:43.901Z"
   },
   {
    "duration": 92,
    "start_time": "2022-10-03T08:56:07.104Z"
   },
   {
    "duration": 10,
    "start_time": "2022-10-03T08:56:17.559Z"
   },
   {
    "duration": 10,
    "start_time": "2022-10-03T08:56:19.876Z"
   },
   {
    "duration": 15,
    "start_time": "2022-10-03T08:56:35.984Z"
   },
   {
    "duration": 16,
    "start_time": "2022-10-03T09:01:11.319Z"
   },
   {
    "duration": 16,
    "start_time": "2022-10-03T09:01:35.597Z"
   },
   {
    "duration": 14,
    "start_time": "2022-10-03T09:05:05.360Z"
   },
   {
    "duration": 15,
    "start_time": "2022-10-03T09:05:25.060Z"
   },
   {
    "duration": 356,
    "start_time": "2022-10-03T09:05:35.231Z"
   },
   {
    "duration": 19,
    "start_time": "2022-10-03T09:06:08.143Z"
   },
   {
    "duration": 15,
    "start_time": "2022-10-03T09:06:11.155Z"
   },
   {
    "duration": 16,
    "start_time": "2022-10-03T09:06:51.117Z"
   },
   {
    "duration": 15,
    "start_time": "2022-10-03T09:07:21.560Z"
   },
   {
    "duration": 15,
    "start_time": "2022-10-03T09:07:51.173Z"
   },
   {
    "duration": 20,
    "start_time": "2022-10-03T09:58:34.051Z"
   },
   {
    "duration": 24,
    "start_time": "2022-10-03T11:44:48.310Z"
   },
   {
    "duration": 17,
    "start_time": "2022-10-03T11:46:52.481Z"
   },
   {
    "duration": 15,
    "start_time": "2022-10-03T11:48:07.226Z"
   },
   {
    "duration": 20,
    "start_time": "2022-10-03T12:05:26.550Z"
   },
   {
    "duration": 22,
    "start_time": "2022-10-03T12:05:39.533Z"
   },
   {
    "duration": 460,
    "start_time": "2022-10-03T12:05:47.954Z"
   },
   {
    "duration": 22,
    "start_time": "2022-10-03T12:05:48.416Z"
   },
   {
    "duration": 16,
    "start_time": "2022-10-03T12:05:48.439Z"
   },
   {
    "duration": 11,
    "start_time": "2022-10-03T12:05:48.457Z"
   },
   {
    "duration": 38,
    "start_time": "2022-10-03T12:05:48.470Z"
   },
   {
    "duration": 24,
    "start_time": "2022-10-03T12:05:48.509Z"
   },
   {
    "duration": 12,
    "start_time": "2022-10-03T12:05:48.535Z"
   },
   {
    "duration": 5,
    "start_time": "2022-10-03T12:05:48.548Z"
   },
   {
    "duration": 11,
    "start_time": "2022-10-03T12:05:48.554Z"
   },
   {
    "duration": 3,
    "start_time": "2022-10-03T12:05:48.568Z"
   },
   {
    "duration": 32,
    "start_time": "2022-10-03T12:05:48.573Z"
   },
   {
    "duration": 30,
    "start_time": "2022-10-03T12:05:48.607Z"
   },
   {
    "duration": 4,
    "start_time": "2022-10-03T12:05:48.638Z"
   },
   {
    "duration": 18,
    "start_time": "2022-10-03T12:05:48.644Z"
   },
   {
    "duration": 18,
    "start_time": "2022-10-03T12:05:48.664Z"
   },
   {
    "duration": 16,
    "start_time": "2022-10-03T12:05:48.683Z"
   },
   {
    "duration": 4,
    "start_time": "2022-10-03T12:05:48.701Z"
   },
   {
    "duration": 45,
    "start_time": "2022-10-03T12:05:48.706Z"
   },
   {
    "duration": 10,
    "start_time": "2022-10-03T12:05:48.753Z"
   },
   {
    "duration": 7,
    "start_time": "2022-10-03T12:05:48.765Z"
   },
   {
    "duration": 21,
    "start_time": "2022-10-03T12:05:48.774Z"
   },
   {
    "duration": 22,
    "start_time": "2022-10-03T12:05:48.797Z"
   },
   {
    "duration": 26,
    "start_time": "2022-10-03T12:05:48.820Z"
   },
   {
    "duration": 16,
    "start_time": "2022-10-03T12:05:48.847Z"
   },
   {
    "duration": 24,
    "start_time": "2022-10-03T12:05:48.864Z"
   },
   {
    "duration": 24,
    "start_time": "2022-10-03T12:06:28.824Z"
   },
   {
    "duration": 18,
    "start_time": "2022-10-03T12:06:59.375Z"
   },
   {
    "duration": 65,
    "start_time": "2022-10-03T13:12:03.661Z"
   },
   {
    "duration": 503,
    "start_time": "2022-10-03T13:12:16.306Z"
   },
   {
    "duration": 21,
    "start_time": "2022-10-03T13:12:16.810Z"
   },
   {
    "duration": 21,
    "start_time": "2022-10-03T13:12:16.832Z"
   },
   {
    "duration": 16,
    "start_time": "2022-10-03T13:12:16.855Z"
   },
   {
    "duration": 44,
    "start_time": "2022-10-03T13:12:16.873Z"
   },
   {
    "duration": 3,
    "start_time": "2022-10-03T13:12:16.918Z"
   },
   {
    "duration": 27,
    "start_time": "2022-10-03T13:12:16.922Z"
   },
   {
    "duration": 18,
    "start_time": "2022-10-03T13:12:16.950Z"
   },
   {
    "duration": 25,
    "start_time": "2022-10-03T13:12:16.970Z"
   },
   {
    "duration": 25,
    "start_time": "2022-10-03T13:12:16.999Z"
   },
   {
    "duration": 40,
    "start_time": "2022-10-03T13:12:17.026Z"
   },
   {
    "duration": 9,
    "start_time": "2022-10-03T13:12:17.067Z"
   },
   {
    "duration": 27,
    "start_time": "2022-10-03T13:12:17.077Z"
   },
   {
    "duration": 21,
    "start_time": "2022-10-03T13:12:17.106Z"
   },
   {
    "duration": 29,
    "start_time": "2022-10-03T13:12:17.129Z"
   },
   {
    "duration": 16,
    "start_time": "2022-10-03T13:12:17.160Z"
   },
   {
    "duration": 4,
    "start_time": "2022-10-03T13:12:17.178Z"
   },
   {
    "duration": 35,
    "start_time": "2022-10-03T13:12:17.184Z"
   },
   {
    "duration": 13,
    "start_time": "2022-10-03T13:12:17.221Z"
   },
   {
    "duration": 14,
    "start_time": "2022-10-03T13:12:17.236Z"
   },
   {
    "duration": 21,
    "start_time": "2022-10-03T13:12:17.251Z"
   },
   {
    "duration": 25,
    "start_time": "2022-10-03T13:12:17.274Z"
   },
   {
    "duration": 19,
    "start_time": "2022-10-03T13:12:17.300Z"
   },
   {
    "duration": 21,
    "start_time": "2022-10-03T13:12:17.320Z"
   },
   {
    "duration": 16,
    "start_time": "2022-10-03T13:12:17.342Z"
   },
   {
    "duration": 89,
    "start_time": "2022-10-03T13:12:17.360Z"
   },
   {
    "duration": 51,
    "start_time": "2022-10-03T13:13:03.838Z"
   },
   {
    "duration": 80,
    "start_time": "2022-10-03T13:13:09.545Z"
   },
   {
    "duration": 62,
    "start_time": "2022-10-03T13:14:03.513Z"
   },
   {
    "duration": 85,
    "start_time": "2022-10-03T13:14:09.768Z"
   },
   {
    "duration": 83,
    "start_time": "2022-10-03T13:15:30.449Z"
   },
   {
    "duration": 5,
    "start_time": "2022-10-03T13:15:55.742Z"
   },
   {
    "duration": 11,
    "start_time": "2022-10-03T13:16:01.990Z"
   },
   {
    "duration": 13,
    "start_time": "2022-10-03T13:16:42.207Z"
   },
   {
    "duration": 18,
    "start_time": "2022-10-03T13:17:00.362Z"
   },
   {
    "duration": 17,
    "start_time": "2022-10-03T13:18:03.582Z"
   },
   {
    "duration": 24,
    "start_time": "2022-10-03T13:20:33.268Z"
   },
   {
    "duration": 519,
    "start_time": "2022-10-03T14:29:43.000Z"
   },
   {
    "duration": 23,
    "start_time": "2022-10-03T14:29:43.522Z"
   },
   {
    "duration": 16,
    "start_time": "2022-10-03T14:29:43.547Z"
   },
   {
    "duration": 26,
    "start_time": "2022-10-03T14:29:43.565Z"
   },
   {
    "duration": 36,
    "start_time": "2022-10-03T14:29:43.598Z"
   },
   {
    "duration": 3,
    "start_time": "2022-10-03T14:29:43.636Z"
   },
   {
    "duration": 11,
    "start_time": "2022-10-03T14:29:43.641Z"
   },
   {
    "duration": 5,
    "start_time": "2022-10-03T14:29:43.653Z"
   },
   {
    "duration": 37,
    "start_time": "2022-10-03T14:29:43.659Z"
   },
   {
    "duration": 4,
    "start_time": "2022-10-03T14:29:43.700Z"
   },
   {
    "duration": 36,
    "start_time": "2022-10-03T14:29:43.706Z"
   },
   {
    "duration": 10,
    "start_time": "2022-10-03T14:29:43.744Z"
   },
   {
    "duration": 4,
    "start_time": "2022-10-03T14:29:43.756Z"
   },
   {
    "duration": 44,
    "start_time": "2022-10-03T14:29:43.762Z"
   },
   {
    "duration": 21,
    "start_time": "2022-10-03T14:29:43.808Z"
   },
   {
    "duration": 18,
    "start_time": "2022-10-03T14:29:43.830Z"
   },
   {
    "duration": 3,
    "start_time": "2022-10-03T14:29:43.850Z"
   },
   {
    "duration": 53,
    "start_time": "2022-10-03T14:29:43.855Z"
   },
   {
    "duration": 6,
    "start_time": "2022-10-03T14:29:43.910Z"
   },
   {
    "duration": 4,
    "start_time": "2022-10-03T14:29:43.917Z"
   },
   {
    "duration": 11,
    "start_time": "2022-10-03T14:29:43.922Z"
   },
   {
    "duration": 20,
    "start_time": "2022-10-03T14:29:43.935Z"
   },
   {
    "duration": 47,
    "start_time": "2022-10-03T14:29:43.957Z"
   },
   {
    "duration": 19,
    "start_time": "2022-10-03T14:29:44.006Z"
   },
   {
    "duration": 18,
    "start_time": "2022-10-03T14:29:44.027Z"
   },
   {
    "duration": 57,
    "start_time": "2022-10-03T14:29:44.046Z"
   }
  ],
  "colab": {
   "name": "dpp_template_part2.ipynb",
   "provenance": []
  },
  "kernelspec": {
   "display_name": "Python 3 (ipykernel)",
   "language": "python",
   "name": "python3"
  },
  "language_info": {
   "codemirror_mode": {
    "name": "ipython",
    "version": 3
   },
   "file_extension": ".py",
   "mimetype": "text/x-python",
   "name": "python",
   "nbconvert_exporter": "python",
   "pygments_lexer": "ipython3",
   "version": "3.10.9"
  },
  "toc": {
   "base_numbering": 1,
   "nav_menu": {},
   "number_sections": true,
   "sideBar": true,
   "skip_h1_title": true,
   "title_cell": "Table of Contents",
   "title_sidebar": "Contents",
   "toc_cell": false,
   "toc_position": {},
   "toc_section_display": true,
   "toc_window_display": true
  }
 },
 "nbformat": 4,
 "nbformat_minor": 5
}
