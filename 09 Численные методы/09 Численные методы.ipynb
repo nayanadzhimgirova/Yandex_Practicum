{
 "cells": [
  {
   "cell_type": "markdown",
   "metadata": {},
   "source": [
    "# Определение стоимости автомобилей"
   ]
  },
  {
   "cell_type": "markdown",
   "metadata": {},
   "source": [
    "<div class=\"alert alert-info\" style=\"border:solid purple 2px; padding: 20px; background-color: #e6d2f2; color: #4b0082;\">\n",
    "\n",
    "**Цель исследования**: построить модель, которая будет определять рыночную стоимость автомобилей.\n",
    "\n",
    "**Задачи исследования**:\n",
    "- изучить данные\n",
    "- проверить данные на пропуски, выбросы и аномалии\n",
    "- обучить модели\n",
    "- подобрать гиперпараметры для моделей\n",
    "- найти модель, которая будет соответствовать критериям заказчика"
   ]
  },
  {
   "cell_type": "markdown",
   "metadata": {},
   "source": [
    "## Подготовка данных"
   ]
  },
  {
   "cell_type": "markdown",
   "metadata": {},
   "source": [
    "**1. Импортирую все нужные в работе библиотеки**"
   ]
  },
  {
   "cell_type": "code",
   "execution_count": 1,
   "metadata": {},
   "outputs": [],
   "source": [
    "import pandas as pd\n",
    "from sklearn.preprocessing import OrdinalEncoder\n",
    "import matplotlib.pyplot as plt\n",
    "import numpy as np\n",
    "from sklearn.model_selection import train_test_split\n",
    "from sklearn.preprocessing import StandardScaler\n",
    "from sklearn.preprocessing import OneHotEncoder\n",
    "from sklearn.linear_model import LinearRegression\n",
    "from sklearn.tree import DecisionTreeRegressor\n",
    "from sklearn.ensemble import RandomForestRegressor\n",
    "from sklearn.metrics import mean_squared_error\n",
    "from sklearn.model_selection import cross_val_score\n",
    "from sklearn.metrics import make_scorer\n",
    "import lightgbm as lgb\n",
    "from sklearn.model_selection import GridSearchCV"
   ]
  },
  {
   "cell_type": "markdown",
   "metadata": {},
   "source": [
    "**2. Открою файл с данными**"
   ]
  },
  {
   "cell_type": "code",
   "execution_count": 2,
   "metadata": {},
   "outputs": [],
   "source": [
    "path_to_file = 'C:/Users/Naiana/Desktop/DS projects/autos.csv'\n",
    "data = pd.read_csv(path_to_file)"
   ]
  },
  {
   "cell_type": "markdown",
   "metadata": {},
   "source": [
    "**3. Изучу данные**"
   ]
  },
  {
   "cell_type": "code",
   "execution_count": 3,
   "metadata": {},
   "outputs": [
    {
     "data": {
      "text/plain": [
       "count                           354369\n",
       "mean     2016-03-21 12:58:10.450648320\n",
       "min                2016-03-05 14:06:22\n",
       "25%                2016-03-13 11:52:33\n",
       "50%                2016-03-21 17:50:55\n",
       "75%                2016-03-29 14:37:20\n",
       "max                2016-04-07 14:36:58\n",
       "Name: DateCrawled, dtype: object"
      ]
     },
     "execution_count": 3,
     "metadata": {},
     "output_type": "execute_result"
    }
   ],
   "source": [
    "#посмотрим дату скачивания анкеты из базы\n",
    "data['DateCrawled'] = pd.to_datetime(data['DateCrawled'], format='%Y-%m-%d %H:%M:%S')\n",
    "data['DateCrawled'].describe(datetime_is_numeric=True)"
   ]
  },
  {
   "cell_type": "markdown",
   "metadata": {},
   "source": [
    "<div class=\"alert alert-info\" style=\"border:solid purple 2px; padding: 20px; background-color: #e6d2f2; color: #4b0082;\">\n",
    "\n",
    "Данные выгружены в 2016 году."
   ]
  },
  {
   "cell_type": "markdown",
   "metadata": {},
   "source": [
    "**3.1.** info"
   ]
  },
  {
   "cell_type": "code",
   "execution_count": 4,
   "metadata": {
    "scrolled": false
   },
   "outputs": [
    {
     "name": "stdout",
     "output_type": "stream",
     "text": [
      "<class 'pandas.core.frame.DataFrame'>\n",
      "RangeIndex: 354369 entries, 0 to 354368\n",
      "Data columns (total 16 columns):\n",
      " #   Column             Non-Null Count   Dtype         \n",
      "---  ------             --------------   -----         \n",
      " 0   DateCrawled        354369 non-null  datetime64[ns]\n",
      " 1   Price              354369 non-null  int64         \n",
      " 2   VehicleType        316879 non-null  object        \n",
      " 3   RegistrationYear   354369 non-null  int64         \n",
      " 4   Gearbox            334536 non-null  object        \n",
      " 5   Power              354369 non-null  int64         \n",
      " 6   Model              334664 non-null  object        \n",
      " 7   Kilometer          354369 non-null  int64         \n",
      " 8   RegistrationMonth  354369 non-null  int64         \n",
      " 9   FuelType           321474 non-null  object        \n",
      " 10  Brand              354369 non-null  object        \n",
      " 11  Repaired           283215 non-null  object        \n",
      " 12  DateCreated        354369 non-null  object        \n",
      " 13  NumberOfPictures   354369 non-null  int64         \n",
      " 14  PostalCode         354369 non-null  int64         \n",
      " 15  LastSeen           354369 non-null  object        \n",
      "dtypes: datetime64[ns](1), int64(7), object(8)\n",
      "memory usage: 43.3+ MB\n"
     ]
    }
   ],
   "source": [
    "data.info()"
   ]
  },
  {
   "cell_type": "markdown",
   "metadata": {},
   "source": [
    "<div class=\"alert alert-info\" style=\"border:solid purple 2px; padding: 20px; background-color: #e6d2f2; color: #4b0082;\">\n",
    "\n",
    "- В данных есть признаки формата object и int64. \n",
    "- Присутствуют пропуски \n",
    "- Присутствуют неинформативные признаки. Т.к. признак либо влияет на рыночную стоимость, либо нет, смысла проверять данные на корреляцию с целевым признаком нет. Выделю неинформативные признаки и удалю их."
   ]
  },
  {
   "cell_type": "code",
   "execution_count": 5,
   "metadata": {},
   "outputs": [],
   "source": [
    "#создадим переменную, в которую сохраним неинформативные признаки\n",
    "data_drop = ['DateCrawled', 'RegistrationMonth', 'DateCreated', 'NumberOfPictures', 'PostalCode', 'LastSeen']\n",
    "\n",
    "#удалим их\n",
    "data = data.drop(data_drop, axis=1)"
   ]
  },
  {
   "cell_type": "markdown",
   "metadata": {},
   "source": [
    "**3.2.** head"
   ]
  },
  {
   "cell_type": "code",
   "execution_count": 6,
   "metadata": {
    "scrolled": true
   },
   "outputs": [
    {
     "data": {
      "text/html": [
       "<div>\n",
       "<style scoped>\n",
       "    .dataframe tbody tr th:only-of-type {\n",
       "        vertical-align: middle;\n",
       "    }\n",
       "\n",
       "    .dataframe tbody tr th {\n",
       "        vertical-align: top;\n",
       "    }\n",
       "\n",
       "    .dataframe thead th {\n",
       "        text-align: right;\n",
       "    }\n",
       "</style>\n",
       "<table border=\"1\" class=\"dataframe\">\n",
       "  <thead>\n",
       "    <tr style=\"text-align: right;\">\n",
       "      <th></th>\n",
       "      <th>Price</th>\n",
       "      <th>VehicleType</th>\n",
       "      <th>RegistrationYear</th>\n",
       "      <th>Gearbox</th>\n",
       "      <th>Power</th>\n",
       "      <th>Model</th>\n",
       "      <th>Kilometer</th>\n",
       "      <th>FuelType</th>\n",
       "      <th>Brand</th>\n",
       "      <th>Repaired</th>\n",
       "    </tr>\n",
       "  </thead>\n",
       "  <tbody>\n",
       "    <tr>\n",
       "      <th>0</th>\n",
       "      <td>480</td>\n",
       "      <td>NaN</td>\n",
       "      <td>1993</td>\n",
       "      <td>manual</td>\n",
       "      <td>0</td>\n",
       "      <td>golf</td>\n",
       "      <td>150000</td>\n",
       "      <td>petrol</td>\n",
       "      <td>volkswagen</td>\n",
       "      <td>NaN</td>\n",
       "    </tr>\n",
       "    <tr>\n",
       "      <th>1</th>\n",
       "      <td>18300</td>\n",
       "      <td>coupe</td>\n",
       "      <td>2011</td>\n",
       "      <td>manual</td>\n",
       "      <td>190</td>\n",
       "      <td>NaN</td>\n",
       "      <td>125000</td>\n",
       "      <td>gasoline</td>\n",
       "      <td>audi</td>\n",
       "      <td>yes</td>\n",
       "    </tr>\n",
       "    <tr>\n",
       "      <th>2</th>\n",
       "      <td>9800</td>\n",
       "      <td>suv</td>\n",
       "      <td>2004</td>\n",
       "      <td>auto</td>\n",
       "      <td>163</td>\n",
       "      <td>grand</td>\n",
       "      <td>125000</td>\n",
       "      <td>gasoline</td>\n",
       "      <td>jeep</td>\n",
       "      <td>NaN</td>\n",
       "    </tr>\n",
       "    <tr>\n",
       "      <th>3</th>\n",
       "      <td>1500</td>\n",
       "      <td>small</td>\n",
       "      <td>2001</td>\n",
       "      <td>manual</td>\n",
       "      <td>75</td>\n",
       "      <td>golf</td>\n",
       "      <td>150000</td>\n",
       "      <td>petrol</td>\n",
       "      <td>volkswagen</td>\n",
       "      <td>no</td>\n",
       "    </tr>\n",
       "    <tr>\n",
       "      <th>4</th>\n",
       "      <td>3600</td>\n",
       "      <td>small</td>\n",
       "      <td>2008</td>\n",
       "      <td>manual</td>\n",
       "      <td>69</td>\n",
       "      <td>fabia</td>\n",
       "      <td>90000</td>\n",
       "      <td>gasoline</td>\n",
       "      <td>skoda</td>\n",
       "      <td>no</td>\n",
       "    </tr>\n",
       "  </tbody>\n",
       "</table>\n",
       "</div>"
      ],
      "text/plain": [
       "   Price VehicleType  RegistrationYear Gearbox  Power  Model  Kilometer  \\\n",
       "0    480         NaN              1993  manual      0   golf     150000   \n",
       "1  18300       coupe              2011  manual    190    NaN     125000   \n",
       "2   9800         suv              2004    auto    163  grand     125000   \n",
       "3   1500       small              2001  manual     75   golf     150000   \n",
       "4   3600       small              2008  manual     69  fabia      90000   \n",
       "\n",
       "   FuelType       Brand Repaired  \n",
       "0    petrol  volkswagen      NaN  \n",
       "1  gasoline        audi      yes  \n",
       "2  gasoline        jeep      NaN  \n",
       "3    petrol  volkswagen       no  \n",
       "4  gasoline       skoda       no  "
      ]
     },
     "execution_count": 6,
     "metadata": {},
     "output_type": "execute_result"
    }
   ],
   "source": [
    "data.head()"
   ]
  },
  {
   "cell_type": "markdown",
   "metadata": {},
   "source": [
    "**3.3.** Дубликаты"
   ]
  },
  {
   "cell_type": "code",
   "execution_count": 7,
   "metadata": {
    "scrolled": true
   },
   "outputs": [
    {
     "data": {
      "text/plain": [
       "45040"
      ]
     },
     "execution_count": 7,
     "metadata": {},
     "output_type": "execute_result"
    }
   ],
   "source": [
    "data.duplicated().sum()"
   ]
  },
  {
   "cell_type": "code",
   "execution_count": 8,
   "metadata": {},
   "outputs": [
    {
     "data": {
      "text/plain": [
       "0"
      ]
     },
     "execution_count": 8,
     "metadata": {},
     "output_type": "execute_result"
    }
   ],
   "source": [
    "#удалим дубликаты\n",
    "data = data.drop_duplicates()\n",
    "\n",
    "data.duplicated().sum()"
   ]
  },
  {
   "cell_type": "markdown",
   "metadata": {},
   "source": [
    "**3.4.** Корреляция"
   ]
  },
  {
   "cell_type": "markdown",
   "metadata": {},
   "source": [
    "<div class=\"alert alert-info\" style=\"border:solid purple 2px; padding: 20px; background-color: #e6d2f2; color: #4b0082;\">\n",
    "\n",
    "Рассмотрю корреляцию признаков с целевым признаком."
   ]
  },
  {
   "cell_type": "code",
   "execution_count": 9,
   "metadata": {},
   "outputs": [],
   "source": [
    "data_ordinal = data.fillna('None')\n",
    "\n",
    "encoder = OrdinalEncoder()\n",
    "encoder.fit(data_ordinal)\n",
    "data_ordinal = pd.DataFrame(data=encoder.transform(data_ordinal), columns=data.columns)"
   ]
  },
  {
   "cell_type": "code",
   "execution_count": 10,
   "metadata": {},
   "outputs": [
    {
     "data": {
      "text/html": [
       "<style type=\"text/css\">\n",
       "#T_487f8_row0_col0 {\n",
       "  background-color: #b40426;\n",
       "  color: #f1f1f1;\n",
       "}\n",
       "#T_487f8_row1_col0 {\n",
       "  background-color: #f0cdbb;\n",
       "  color: #000000;\n",
       "}\n",
       "#T_487f8_row2_col0 {\n",
       "  background-color: #dedcdb;\n",
       "  color: #000000;\n",
       "}\n",
       "#T_487f8_row3_col0 {\n",
       "  background-color: #8caffe;\n",
       "  color: #000000;\n",
       "}\n",
       "#T_487f8_row4_col0 {\n",
       "  background-color: #8badfd;\n",
       "  color: #000000;\n",
       "}\n",
       "#T_487f8_row5_col0 {\n",
       "  background-color: #80a3fa;\n",
       "  color: #f1f1f1;\n",
       "}\n",
       "#T_487f8_row6_col0 {\n",
       "  background-color: #7093f3;\n",
       "  color: #f1f1f1;\n",
       "}\n",
       "#T_487f8_row7_col0 {\n",
       "  background-color: #6b8df0;\n",
       "  color: #f1f1f1;\n",
       "}\n",
       "#T_487f8_row8_col0 {\n",
       "  background-color: #6687ed;\n",
       "  color: #f1f1f1;\n",
       "}\n",
       "#T_487f8_row9_col0 {\n",
       "  background-color: #3b4cc0;\n",
       "  color: #f1f1f1;\n",
       "}\n",
       "</style>\n",
       "<table id=\"T_487f8\">\n",
       "  <thead>\n",
       "    <tr>\n",
       "      <th class=\"blank level0\" >&nbsp;</th>\n",
       "      <th id=\"T_487f8_level0_col0\" class=\"col_heading level0 col0\" >0</th>\n",
       "    </tr>\n",
       "  </thead>\n",
       "  <tbody>\n",
       "    <tr>\n",
       "      <th id=\"T_487f8_level0_row0\" class=\"row_heading level0 row0\" >Price</th>\n",
       "      <td id=\"T_487f8_row0_col0\" class=\"data row0 col0\" >1.000000</td>\n",
       "    </tr>\n",
       "    <tr>\n",
       "      <th id=\"T_487f8_level0_row1\" class=\"row_heading level0 row1\" >Power</th>\n",
       "      <td id=\"T_487f8_row1_col0\" class=\"data row1 col0\" >0.475060</td>\n",
       "    </tr>\n",
       "    <tr>\n",
       "      <th id=\"T_487f8_level0_row2\" class=\"row_heading level0 row2\" >RegistrationYear</th>\n",
       "      <td id=\"T_487f8_row2_col0\" class=\"data row2 col0\" >0.369839</td>\n",
       "    </tr>\n",
       "    <tr>\n",
       "      <th id=\"T_487f8_level0_row3\" class=\"row_heading level0 row3\" >VehicleType</th>\n",
       "      <td id=\"T_487f8_row3_col0\" class=\"data row3 col0\" >0.042679</td>\n",
       "    </tr>\n",
       "    <tr>\n",
       "      <th id=\"T_487f8_level0_row4\" class=\"row_heading level0 row4\" >Repaired</th>\n",
       "      <td id=\"T_487f8_row4_col0\" class=\"data row4 col0\" >0.042124</td>\n",
       "    </tr>\n",
       "    <tr>\n",
       "      <th id=\"T_487f8_level0_row5\" class=\"row_heading level0 row5\" >Model</th>\n",
       "      <td id=\"T_487f8_row5_col0\" class=\"data row5 col0\" >0.000426</td>\n",
       "    </tr>\n",
       "    <tr>\n",
       "      <th id=\"T_487f8_level0_row6\" class=\"row_heading level0 row6\" >Gearbox</th>\n",
       "      <td id=\"T_487f8_row6_col0\" class=\"data row6 col0\" >-0.055023</td>\n",
       "    </tr>\n",
       "    <tr>\n",
       "      <th id=\"T_487f8_level0_row7\" class=\"row_heading level0 row7\" >FuelType</th>\n",
       "      <td id=\"T_487f8_row7_col0\" class=\"data row7 col0\" >-0.075369</td>\n",
       "    </tr>\n",
       "    <tr>\n",
       "      <th id=\"T_487f8_level0_row8\" class=\"row_heading level0 row8\" >Brand</th>\n",
       "      <td id=\"T_487f8_row8_col0\" class=\"data row8 col0\" >-0.095194</td>\n",
       "    </tr>\n",
       "    <tr>\n",
       "      <th id=\"T_487f8_level0_row9\" class=\"row_heading level0 row9\" >Kilometer</th>\n",
       "      <td id=\"T_487f8_row9_col0\" class=\"data row9 col0\" >-0.270317</td>\n",
       "    </tr>\n",
       "  </tbody>\n",
       "</table>\n"
      ],
      "text/plain": [
       "<pandas.io.formats.style.Styler at 0x261ca099de0>"
      ]
     },
     "execution_count": 10,
     "metadata": {},
     "output_type": "execute_result"
    }
   ],
   "source": [
    "corr_list = []\n",
    "for i in data_ordinal.columns:\n",
    "    x = data_ordinal['Price'].corr(data_ordinal[i])\n",
    "    corr_list.append(x)\n",
    "\n",
    "features_corr = pd.DataFrame(data=corr_list, index=data.columns)\\\n",
    ".sort_values(by=0, ascending=False).style.background_gradient('coolwarm')\n",
    "\n",
    "features_corr"
   ]
  },
  {
   "cell_type": "markdown",
   "metadata": {},
   "source": [
    "<div class=\"alert alert-info\" style=\"border:solid purple 2px; padding: 20px; background-color: #e6d2f2; color: #4b0082;\">\n",
    "\n",
    "- Наибольшую корреляцию с целевым признаком имеют признаки 'Power', 'RegistrationYear', 'Kilometer'. В этих столбцах отсутствуют пропуски. Получается, у всех объектов указаны данные, имеющие наибольшее влияние на цену. \n",
    "- Остальные признаки имеют примерно одинаковый уровень корреляции с целевым признаком, кроме признака 'Model' - он имеет наименьшую корреляцию."
   ]
  },
  {
   "cell_type": "markdown",
   "metadata": {},
   "source": [
    "**3.5.** Пропуски"
   ]
  },
  {
   "cell_type": "code",
   "execution_count": 11,
   "metadata": {},
   "outputs": [
    {
     "data": {
      "text/html": [
       "<style type=\"text/css\">\n",
       "#T_d0589_row0_col0, #T_d0589_row2_col0, #T_d0589_row4_col0, #T_d0589_row6_col0, #T_d0589_row8_col0 {\n",
       "  background-color: #3b4cc0;\n",
       "  color: #f1f1f1;\n",
       "}\n",
       "#T_d0589_row1_col0 {\n",
       "  background-color: #e6d7cf;\n",
       "  color: #000000;\n",
       "}\n",
       "#T_d0589_row3_col0 {\n",
       "  background-color: #93b5fe;\n",
       "  color: #000000;\n",
       "}\n",
       "#T_d0589_row5_col0 {\n",
       "  background-color: #98b9ff;\n",
       "  color: #000000;\n",
       "}\n",
       "#T_d0589_row7_col0 {\n",
       "  background-color: #d6dce4;\n",
       "  color: #000000;\n",
       "}\n",
       "#T_d0589_row9_col0 {\n",
       "  background-color: #b40426;\n",
       "  color: #f1f1f1;\n",
       "}\n",
       "</style>\n",
       "<table id=\"T_d0589\">\n",
       "  <thead>\n",
       "    <tr>\n",
       "      <th class=\"blank level0\" >&nbsp;</th>\n",
       "      <th id=\"T_d0589_level0_col0\" class=\"col_heading level0 col0\" >0</th>\n",
       "    </tr>\n",
       "  </thead>\n",
       "  <tbody>\n",
       "    <tr>\n",
       "      <th id=\"T_d0589_level0_row0\" class=\"row_heading level0 row0\" >Price</th>\n",
       "      <td id=\"T_d0589_row0_col0\" class=\"data row0 col0\" >0</td>\n",
       "    </tr>\n",
       "    <tr>\n",
       "      <th id=\"T_d0589_level0_row1\" class=\"row_heading level0 row1\" >VehicleType</th>\n",
       "      <td id=\"T_d0589_row1_col0\" class=\"data row1 col0\" >34559</td>\n",
       "    </tr>\n",
       "    <tr>\n",
       "      <th id=\"T_d0589_level0_row2\" class=\"row_heading level0 row2\" >RegistrationYear</th>\n",
       "      <td id=\"T_d0589_row2_col0\" class=\"data row2 col0\" >0</td>\n",
       "    </tr>\n",
       "    <tr>\n",
       "      <th id=\"T_d0589_level0_row3\" class=\"row_heading level0 row3\" >Gearbox</th>\n",
       "      <td id=\"T_d0589_row3_col0\" class=\"data row3 col0\" >17207</td>\n",
       "    </tr>\n",
       "    <tr>\n",
       "      <th id=\"T_d0589_level0_row4\" class=\"row_heading level0 row4\" >Power</th>\n",
       "      <td id=\"T_d0589_row4_col0\" class=\"data row4 col0\" >0</td>\n",
       "    </tr>\n",
       "    <tr>\n",
       "      <th id=\"T_d0589_level0_row5\" class=\"row_heading level0 row5\" >Model</th>\n",
       "      <td id=\"T_d0589_row5_col0\" class=\"data row5 col0\" >18361</td>\n",
       "    </tr>\n",
       "    <tr>\n",
       "      <th id=\"T_d0589_level0_row6\" class=\"row_heading level0 row6\" >Kilometer</th>\n",
       "      <td id=\"T_d0589_row6_col0\" class=\"data row6 col0\" >0</td>\n",
       "    </tr>\n",
       "    <tr>\n",
       "      <th id=\"T_d0589_level0_row7\" class=\"row_heading level0 row7\" >FuelType</th>\n",
       "      <td id=\"T_d0589_row7_col0\" class=\"data row7 col0\" >30764</td>\n",
       "    </tr>\n",
       "    <tr>\n",
       "      <th id=\"T_d0589_level0_row8\" class=\"row_heading level0 row8\" >Brand</th>\n",
       "      <td id=\"T_d0589_row8_col0\" class=\"data row8 col0\" >0</td>\n",
       "    </tr>\n",
       "    <tr>\n",
       "      <th id=\"T_d0589_level0_row9\" class=\"row_heading level0 row9\" >Repaired</th>\n",
       "      <td id=\"T_d0589_row9_col0\" class=\"data row9 col0\" >64558</td>\n",
       "    </tr>\n",
       "  </tbody>\n",
       "</table>\n"
      ],
      "text/plain": [
       "<pandas.io.formats.style.Styler at 0x261ca09a950>"
      ]
     },
     "execution_count": 11,
     "metadata": {},
     "output_type": "execute_result"
    }
   ],
   "source": [
    "pd.DataFrame(data.isna().sum()).style.background_gradient('coolwarm')"
   ]
  },
  {
   "cell_type": "markdown",
   "metadata": {},
   "source": [
    "<div class=\"alert alert-info\" style=\"border:solid purple 2px; padding: 20px; background-color: #e6d2f2; color: #4b0082;\">\n",
    "\n",
    "- Всего данных - 354369 объектов.\n",
    "- В столбцах \"VehicleType\", \"Gearbox\", \"Model\", \"FuelType\", \"Repaired\" есть значительное количество пропусков.\n",
    "- Наибольшее количество пропусков в \"Repaired\"."
   ]
  },
  {
   "cell_type": "markdown",
   "metadata": {},
   "source": [
    "<div class=\"alert alert-info\" style=\"border:solid purple 2px; padding: 20px; background-color: #e6d2f2; color: #4b0082;\">\n",
    "\n",
    "Рассмотрю пропуски более подробно."
   ]
  },
  {
   "cell_type": "code",
   "execution_count": 12,
   "metadata": {
    "scrolled": true
   },
   "outputs": [
    {
     "data": {
      "text/html": [
       "<style type=\"text/css\">\n",
       "#T_b9e1a_row0_col0, #T_b9e1a_row2_col0, #T_b9e1a_row4_col0, #T_b9e1a_row6_col0, #T_b9e1a_row8_col0 {\n",
       "  background-color: #3b4cc0;\n",
       "  color: #f1f1f1;\n",
       "}\n",
       "#T_b9e1a_row1_col0 {\n",
       "  background-color: #e6d7cf;\n",
       "  color: #000000;\n",
       "}\n",
       "#T_b9e1a_row3_col0 {\n",
       "  background-color: #93b5fe;\n",
       "  color: #000000;\n",
       "}\n",
       "#T_b9e1a_row5_col0 {\n",
       "  background-color: #98b9ff;\n",
       "  color: #000000;\n",
       "}\n",
       "#T_b9e1a_row7_col0 {\n",
       "  background-color: #d6dce4;\n",
       "  color: #000000;\n",
       "}\n",
       "#T_b9e1a_row9_col0 {\n",
       "  background-color: #b40426;\n",
       "  color: #f1f1f1;\n",
       "}\n",
       "</style>\n",
       "<table id=\"T_b9e1a\">\n",
       "  <thead>\n",
       "    <tr>\n",
       "      <th class=\"blank level0\" >&nbsp;</th>\n",
       "      <th id=\"T_b9e1a_level0_col0\" class=\"col_heading level0 col0\" >0</th>\n",
       "    </tr>\n",
       "  </thead>\n",
       "  <tbody>\n",
       "    <tr>\n",
       "      <th id=\"T_b9e1a_level0_row0\" class=\"row_heading level0 row0\" >Price</th>\n",
       "      <td id=\"T_b9e1a_row0_col0\" class=\"data row0 col0\" >0</td>\n",
       "    </tr>\n",
       "    <tr>\n",
       "      <th id=\"T_b9e1a_level0_row1\" class=\"row_heading level0 row1\" >VehicleType</th>\n",
       "      <td id=\"T_b9e1a_row1_col0\" class=\"data row1 col0\" >34559</td>\n",
       "    </tr>\n",
       "    <tr>\n",
       "      <th id=\"T_b9e1a_level0_row2\" class=\"row_heading level0 row2\" >RegistrationYear</th>\n",
       "      <td id=\"T_b9e1a_row2_col0\" class=\"data row2 col0\" >0</td>\n",
       "    </tr>\n",
       "    <tr>\n",
       "      <th id=\"T_b9e1a_level0_row3\" class=\"row_heading level0 row3\" >Gearbox</th>\n",
       "      <td id=\"T_b9e1a_row3_col0\" class=\"data row3 col0\" >17207</td>\n",
       "    </tr>\n",
       "    <tr>\n",
       "      <th id=\"T_b9e1a_level0_row4\" class=\"row_heading level0 row4\" >Power</th>\n",
       "      <td id=\"T_b9e1a_row4_col0\" class=\"data row4 col0\" >0</td>\n",
       "    </tr>\n",
       "    <tr>\n",
       "      <th id=\"T_b9e1a_level0_row5\" class=\"row_heading level0 row5\" >Model</th>\n",
       "      <td id=\"T_b9e1a_row5_col0\" class=\"data row5 col0\" >18361</td>\n",
       "    </tr>\n",
       "    <tr>\n",
       "      <th id=\"T_b9e1a_level0_row6\" class=\"row_heading level0 row6\" >Kilometer</th>\n",
       "      <td id=\"T_b9e1a_row6_col0\" class=\"data row6 col0\" >0</td>\n",
       "    </tr>\n",
       "    <tr>\n",
       "      <th id=\"T_b9e1a_level0_row7\" class=\"row_heading level0 row7\" >FuelType</th>\n",
       "      <td id=\"T_b9e1a_row7_col0\" class=\"data row7 col0\" >30764</td>\n",
       "    </tr>\n",
       "    <tr>\n",
       "      <th id=\"T_b9e1a_level0_row8\" class=\"row_heading level0 row8\" >Brand</th>\n",
       "      <td id=\"T_b9e1a_row8_col0\" class=\"data row8 col0\" >0</td>\n",
       "    </tr>\n",
       "    <tr>\n",
       "      <th id=\"T_b9e1a_level0_row9\" class=\"row_heading level0 row9\" >Repaired</th>\n",
       "      <td id=\"T_b9e1a_row9_col0\" class=\"data row9 col0\" >64558</td>\n",
       "    </tr>\n",
       "  </tbody>\n",
       "</table>\n"
      ],
      "text/plain": [
       "<pandas.io.formats.style.Styler at 0x261ca098f40>"
      ]
     },
     "execution_count": 12,
     "metadata": {},
     "output_type": "execute_result"
    }
   ],
   "source": [
    "pd.DataFrame(data.isna().sum()).style.background_gradient('coolwarm')"
   ]
  },
  {
   "cell_type": "markdown",
   "metadata": {},
   "source": [
    "**а)** VehicleType"
   ]
  },
  {
   "cell_type": "code",
   "execution_count": 13,
   "metadata": {},
   "outputs": [
    {
     "data": {
      "text/plain": [
       "sedan          78206\n",
       "small          67548\n",
       "wagon          56367\n",
       "NaN            34559\n",
       "bus            25830\n",
       "convertible    18195\n",
       "coupe          14690\n",
       "suv            10776\n",
       "other           3158\n",
       "Name: VehicleType, dtype: int64"
      ]
     },
     "execution_count": 13,
     "metadata": {},
     "output_type": "execute_result"
    }
   ],
   "source": [
    "data['VehicleType'].value_counts(dropna=False)"
   ]
  },
  {
   "cell_type": "markdown",
   "metadata": {},
   "source": [
    "<div class=\"alert alert-info\" style=\"border:solid purple 2px; padding: 20px; background-color: #e6d2f2; color: #4b0082;\">\n",
    "\n",
    "В столбце VehicleType — тип автомобильного кузова - есть категория 'other'. Заполню пропуски этим значением."
   ]
  },
  {
   "cell_type": "code",
   "execution_count": 14,
   "metadata": {},
   "outputs": [],
   "source": [
    "data['VehicleType'] = data['VehicleType'].fillna('other')"
   ]
  },
  {
   "cell_type": "markdown",
   "metadata": {},
   "source": [
    "**б)** Gearbox"
   ]
  },
  {
   "cell_type": "code",
   "execution_count": 15,
   "metadata": {},
   "outputs": [
    {
     "data": {
      "text/plain": [
       "manual    232774\n",
       "auto       59348\n",
       "NaN        17207\n",
       "Name: Gearbox, dtype: int64"
      ]
     },
     "execution_count": 15,
     "metadata": {},
     "output_type": "execute_result"
    }
   ],
   "source": [
    "data['Gearbox'].value_counts(dropna=False)"
   ]
  },
  {
   "cell_type": "markdown",
   "metadata": {},
   "source": [
    "<div class=\"alert alert-info\" style=\"border:solid purple 2px; padding: 20px; background-color: #e6d2f2; color: #4b0082;\">\n",
    "\n",
    "Невозможно узнать пропущенные значения. Заменю на 'unknown'."
   ]
  },
  {
   "cell_type": "code",
   "execution_count": 16,
   "metadata": {},
   "outputs": [],
   "source": [
    "data['Gearbox'] = data['Gearbox'].fillna('unknown')"
   ]
  },
  {
   "cell_type": "markdown",
   "metadata": {},
   "source": [
    "**в)** Model"
   ]
  },
  {
   "cell_type": "code",
   "execution_count": 17,
   "metadata": {},
   "outputs": [
    {
     "data": {
      "text/plain": [
       "golf                  23639\n",
       "other                 22934\n",
       "NaN                   18361\n",
       "3er                   16700\n",
       "polo                  10494\n",
       "                      ...  \n",
       "kalina                    7\n",
       "rangerover                4\n",
       "serie_3                   4\n",
       "serie_1                   2\n",
       "range_rover_evoque        1\n",
       "Name: Model, Length: 251, dtype: int64"
      ]
     },
     "execution_count": 17,
     "metadata": {},
     "output_type": "execute_result"
    }
   ],
   "source": [
    "data['Model'].value_counts(dropna=False)"
   ]
  },
  {
   "cell_type": "markdown",
   "metadata": {},
   "source": [
    "<div class=\"alert alert-info\" style=\"border:solid purple 2px; padding: 20px; background-color: #e6d2f2; color: #4b0082;\">\n",
    "\n",
    "Заменю пропущенные значения на 'other'."
   ]
  },
  {
   "cell_type": "code",
   "execution_count": 18,
   "metadata": {},
   "outputs": [],
   "source": [
    "data['Model'] = data['Model'].fillna('other')"
   ]
  },
  {
   "cell_type": "markdown",
   "metadata": {},
   "source": [
    "**г)** FuelType"
   ]
  },
  {
   "cell_type": "code",
   "execution_count": 19,
   "metadata": {},
   "outputs": [
    {
     "data": {
      "text/plain": [
       "petrol      187848\n",
       "gasoline     84794\n",
       "NaN          30764\n",
       "lpg           4888\n",
       "cng            524\n",
       "hybrid         222\n",
       "other          200\n",
       "electric        89\n",
       "Name: FuelType, dtype: int64"
      ]
     },
     "execution_count": 19,
     "metadata": {},
     "output_type": "execute_result"
    }
   ],
   "source": [
    "data['FuelType'].value_counts(dropna=False)"
   ]
  },
  {
   "cell_type": "markdown",
   "metadata": {},
   "source": [
    "<div class=\"alert alert-info\" style=\"border:solid purple 2px; padding: 20px; background-color: #e6d2f2; color: #4b0082;\">\n",
    "\n",
    "Заменю пропущенные значения на 'other'."
   ]
  },
  {
   "cell_type": "code",
   "execution_count": 20,
   "metadata": {},
   "outputs": [],
   "source": [
    "data['FuelType'] = data['FuelType'].fillna('other')"
   ]
  },
  {
   "cell_type": "markdown",
   "metadata": {},
   "source": [
    "**д)** Repaired"
   ]
  },
  {
   "cell_type": "code",
   "execution_count": 21,
   "metadata": {},
   "outputs": [
    {
     "data": {
      "text/plain": [
       "no     211328\n",
       "NaN     64558\n",
       "yes     33443\n",
       "Name: Repaired, dtype: int64"
      ]
     },
     "execution_count": 21,
     "metadata": {},
     "output_type": "execute_result"
    }
   ],
   "source": [
    "data['Repaired'].value_counts(dropna=False)"
   ]
  },
  {
   "cell_type": "markdown",
   "metadata": {},
   "source": [
    "<div class=\"alert alert-info\" style=\"border:solid purple 2px; padding: 20px; background-color: #e6d2f2; color: #4b0082;\">\n",
    "\n",
    "Заменю пропущенные значения на 'other'."
   ]
  },
  {
   "cell_type": "code",
   "execution_count": 22,
   "metadata": {},
   "outputs": [],
   "source": [
    "data['Repaired'] = data['Repaired'].fillna('unknown')"
   ]
  },
  {
   "cell_type": "code",
   "execution_count": 23,
   "metadata": {},
   "outputs": [
    {
     "data": {
      "text/html": [
       "<style type=\"text/css\">\n",
       "#T_2327d_row0_col0, #T_2327d_row1_col0, #T_2327d_row2_col0, #T_2327d_row3_col0, #T_2327d_row4_col0, #T_2327d_row5_col0, #T_2327d_row6_col0, #T_2327d_row7_col0, #T_2327d_row8_col0, #T_2327d_row9_col0 {\n",
       "  background-color: #3b4cc0;\n",
       "  color: #f1f1f1;\n",
       "}\n",
       "</style>\n",
       "<table id=\"T_2327d\">\n",
       "  <thead>\n",
       "    <tr>\n",
       "      <th class=\"blank level0\" >&nbsp;</th>\n",
       "      <th id=\"T_2327d_level0_col0\" class=\"col_heading level0 col0\" >0</th>\n",
       "    </tr>\n",
       "  </thead>\n",
       "  <tbody>\n",
       "    <tr>\n",
       "      <th id=\"T_2327d_level0_row0\" class=\"row_heading level0 row0\" >Price</th>\n",
       "      <td id=\"T_2327d_row0_col0\" class=\"data row0 col0\" >0</td>\n",
       "    </tr>\n",
       "    <tr>\n",
       "      <th id=\"T_2327d_level0_row1\" class=\"row_heading level0 row1\" >VehicleType</th>\n",
       "      <td id=\"T_2327d_row1_col0\" class=\"data row1 col0\" >0</td>\n",
       "    </tr>\n",
       "    <tr>\n",
       "      <th id=\"T_2327d_level0_row2\" class=\"row_heading level0 row2\" >RegistrationYear</th>\n",
       "      <td id=\"T_2327d_row2_col0\" class=\"data row2 col0\" >0</td>\n",
       "    </tr>\n",
       "    <tr>\n",
       "      <th id=\"T_2327d_level0_row3\" class=\"row_heading level0 row3\" >Gearbox</th>\n",
       "      <td id=\"T_2327d_row3_col0\" class=\"data row3 col0\" >0</td>\n",
       "    </tr>\n",
       "    <tr>\n",
       "      <th id=\"T_2327d_level0_row4\" class=\"row_heading level0 row4\" >Power</th>\n",
       "      <td id=\"T_2327d_row4_col0\" class=\"data row4 col0\" >0</td>\n",
       "    </tr>\n",
       "    <tr>\n",
       "      <th id=\"T_2327d_level0_row5\" class=\"row_heading level0 row5\" >Model</th>\n",
       "      <td id=\"T_2327d_row5_col0\" class=\"data row5 col0\" >0</td>\n",
       "    </tr>\n",
       "    <tr>\n",
       "      <th id=\"T_2327d_level0_row6\" class=\"row_heading level0 row6\" >Kilometer</th>\n",
       "      <td id=\"T_2327d_row6_col0\" class=\"data row6 col0\" >0</td>\n",
       "    </tr>\n",
       "    <tr>\n",
       "      <th id=\"T_2327d_level0_row7\" class=\"row_heading level0 row7\" >FuelType</th>\n",
       "      <td id=\"T_2327d_row7_col0\" class=\"data row7 col0\" >0</td>\n",
       "    </tr>\n",
       "    <tr>\n",
       "      <th id=\"T_2327d_level0_row8\" class=\"row_heading level0 row8\" >Brand</th>\n",
       "      <td id=\"T_2327d_row8_col0\" class=\"data row8 col0\" >0</td>\n",
       "    </tr>\n",
       "    <tr>\n",
       "      <th id=\"T_2327d_level0_row9\" class=\"row_heading level0 row9\" >Repaired</th>\n",
       "      <td id=\"T_2327d_row9_col0\" class=\"data row9 col0\" >0</td>\n",
       "    </tr>\n",
       "  </tbody>\n",
       "</table>\n"
      ],
      "text/plain": [
       "<pandas.io.formats.style.Styler at 0x261ca0b5060>"
      ]
     },
     "execution_count": 23,
     "metadata": {},
     "output_type": "execute_result"
    }
   ],
   "source": [
    "pd.DataFrame(data.isna().sum()).style.background_gradient('coolwarm')"
   ]
  },
  {
   "cell_type": "markdown",
   "metadata": {},
   "source": [
    "<div class=\"alert alert-info\" style=\"border:solid purple 2px; padding: 20px; background-color: #e6d2f2; color: #4b0082;\">\n",
    "\n",
    "Пропуски отсутствуют."
   ]
  },
  {
   "cell_type": "markdown",
   "metadata": {},
   "source": [
    "**3.6.** Выбросы"
   ]
  },
  {
   "cell_type": "code",
   "execution_count": 24,
   "metadata": {},
   "outputs": [],
   "source": [
    "data_num = ['Price', 'RegistrationYear', 'Power', 'Kilometer']"
   ]
  },
  {
   "cell_type": "markdown",
   "metadata": {},
   "source": [
    "**a)** Price"
   ]
  },
  {
   "cell_type": "code",
   "execution_count": 25,
   "metadata": {},
   "outputs": [
    {
     "data": {
      "image/png": "[encoded data removed]",
      "text/plain": [
       "<Figure size 640x480 with 1 Axes>"
      ]
     },
     "metadata": {},
     "output_type": "display_data"
    }
   ],
   "source": [
    "plt.title('Значения и выбросы \"Price\"')\n",
    "pd.DataFrame(data=data['Price']).boxplot();"
   ]
  },
  {
   "cell_type": "markdown",
   "metadata": {},
   "source": [
    "<div class=\"alert alert-info\" style=\"border:solid purple 2px; padding: 20px; background-color: #e6d2f2; color: #4b0082;\">\n",
    "\n",
    "У значений цены нет нижних выбросов, есть только верхние. Удалю их."
   ]
  },
  {
   "cell_type": "code",
   "execution_count": 26,
   "metadata": {
    "scrolled": true
   },
   "outputs": [
    {
     "data": {
      "text/plain": [
       "count    309329.000000\n",
       "mean       4486.937196\n",
       "std        4564.852796\n",
       "min           0.000000\n",
       "25%        1100.000000\n",
       "50%        2800.000000\n",
       "75%        6500.000000\n",
       "max       20000.000000\n",
       "Name: Price, dtype: float64"
      ]
     },
     "execution_count": 26,
     "metadata": {},
     "output_type": "execute_result"
    }
   ],
   "source": [
    "data['Price'].describe()"
   ]
  },
  {
   "cell_type": "markdown",
   "metadata": {},
   "source": [
    "<div class=\"alert alert-info\" style=\"border:solid purple 2px; padding: 20px; background-color: #e6d2f2; color: #4b0082;\">\n",
    "\n",
    "Найду значение 100%.\n",
    "\n",
    "1) (75% - 25%) * 1.5 = (6500 - 1100) * 1.5 = 8100\n",
    "2) 75% + 8100 = 6500 + 8100 = 14600"
   ]
  },
  {
   "cell_type": "markdown",
   "metadata": {},
   "source": [
    "<div class=\"alert alert-info\" style=\"border:solid purple 2px; padding: 20px; background-color: #e6d2f2; color: #4b0082;\">\n",
    "\n",
    "На графике видно, что диапазон значений включает в себя область около нуля. Рассмотрю её подробнее."
   ]
  },
  {
   "cell_type": "code",
   "execution_count": 27,
   "metadata": {},
   "outputs": [
    {
     "data": {
      "image/png": "[encoded data removed]",
      "text/plain": [
       "<Figure size 640x480 with 1 Axes>"
      ]
     },
     "metadata": {},
     "output_type": "display_data"
    }
   ],
   "source": [
    "data['Price'].hist(range = (0, 100), bins = 100);"
   ]
  },
  {
   "cell_type": "markdown",
   "metadata": {},
   "source": [
    "<div class=\"alert alert-info\" style=\"border:solid purple 2px; padding: 20px; background-color: #e6d2f2; color: #4b0082;\">\n",
    "\n",
    "Можно заметить большой пик нулевых значений. Цена не может быть нулевой, поэтому удалю эти значения."
   ]
  },
  {
   "cell_type": "code",
   "execution_count": 28,
   "metadata": {},
   "outputs": [],
   "source": [
    "data = data.query('Price <= 14600 and Price > 100')"
   ]
  },
  {
   "cell_type": "code",
   "execution_count": 29,
   "metadata": {},
   "outputs": [
    {
     "data": {
      "text/plain": [
       "(280957, 10)"
      ]
     },
     "execution_count": 29,
     "metadata": {},
     "output_type": "execute_result"
    }
   ],
   "source": [
    "data.shape"
   ]
  },
  {
   "cell_type": "markdown",
   "metadata": {},
   "source": [
    "**б)** RegistrationYear"
   ]
  },
  {
   "cell_type": "code",
   "execution_count": 30,
   "metadata": {},
   "outputs": [
    {
     "data": {
      "image/png": "[encoded data removed]",
      "text/plain": [
       "<Figure size 640x480 with 1 Axes>"
      ]
     },
     "metadata": {},
     "output_type": "display_data"
    }
   ],
   "source": [
    "plt.title('Значения и выбросы \"RegistrationYear\"')\n",
    "pd.DataFrame(data=data['RegistrationYear']).boxplot();"
   ]
  },
  {
   "cell_type": "markdown",
   "metadata": {},
   "source": [
    "<div class=\"alert alert-info\" style=\"border:solid purple 2px; padding: 20px; background-color: #e6d2f2; color: #4b0082;\">\n",
    "\n",
    "В данных присутствует небольшое количество выбросов. Рассмотрю уникальные значения."
   ]
  },
  {
   "cell_type": "code",
   "execution_count": 31,
   "metadata": {},
   "outputs": [
    {
     "data": {
      "text/plain": [
       "array([9999, 9450, 9000, 8888, 8500, 8200, 7800, 7100, 7000, 6000, 5911,\n",
       "       5900, 5600, 5555, 5300, 5000, 4800, 4500, 4100, 4000, 3800, 3700,\n",
       "       3200, 3000, 2900, 2800, 2500, 2290, 2200, 2066, 2019, 2018, 2017,\n",
       "       2016, 2015, 2014, 2013, 2012, 2011, 2010, 2009, 2008, 2007, 2006,\n",
       "       2005, 2004, 2003, 2002, 2001, 2000, 1999, 1998, 1997, 1996, 1995,\n",
       "       1994, 1993, 1992, 1991, 1990, 1989, 1988, 1987, 1986, 1985, 1984,\n",
       "       1983, 1982, 1981, 1980, 1979, 1978, 1977, 1976, 1975, 1974, 1973,\n",
       "       1972, 1971, 1970, 1969, 1968, 1967, 1966, 1965, 1964, 1963, 1962,\n",
       "       1961, 1960, 1959, 1958, 1957, 1956, 1955, 1954, 1953, 1952, 1951,\n",
       "       1950, 1949, 1948, 1946, 1945, 1944, 1943, 1942, 1941, 1940, 1938,\n",
       "       1937, 1936, 1935, 1934, 1932, 1931, 1930, 1929, 1928, 1925, 1923,\n",
       "       1910, 1800, 1602, 1600, 1500, 1400, 1300, 1234, 1111, 1039, 1001,\n",
       "       1000], dtype=int64)"
      ]
     },
     "execution_count": 31,
     "metadata": {},
     "output_type": "execute_result"
    }
   ],
   "source": [
    "data['RegistrationYear'].sort_values(ascending=False).unique()"
   ]
  },
  {
   "cell_type": "markdown",
   "metadata": {},
   "source": [
    "<div class=\"alert alert-info\" style=\"border:solid purple 2px; padding: 20px; background-color: #e6d2f2; color: #4b0082;\">\n",
    "\n",
    "Данные меньше 1910 и больше 2016 - очевидно, выбросы. Удалю их, т.к. их небольшое количество и этот признак сильно влияет на цену."
   ]
  },
  {
   "cell_type": "code",
   "execution_count": 32,
   "metadata": {},
   "outputs": [],
   "source": [
    "data = data.query('RegistrationYear <= 2016 & RegistrationYear > 1922')"
   ]
  },
  {
   "cell_type": "markdown",
   "metadata": {},
   "source": [
    "**в)** Power"
   ]
  },
  {
   "cell_type": "code",
   "execution_count": 33,
   "metadata": {},
   "outputs": [
    {
     "data": {
      "image/png": "[encoded data removed]",
      "text/plain": [
       "<Figure size 640x480 with 1 Axes>"
      ]
     },
     "metadata": {},
     "output_type": "display_data"
    }
   ],
   "source": [
    "plt.title('Значения и выбросы \"Power\"')\n",
    "pd.DataFrame(data=data['Power']).boxplot();"
   ]
  },
  {
   "cell_type": "code",
   "execution_count": 34,
   "metadata": {},
   "outputs": [
    {
     "data": {
      "text/plain": [
       "count    268345.000000\n",
       "mean        109.484164\n",
       "std         197.958455\n",
       "min           0.000000\n",
       "25%          69.000000\n",
       "50%         103.000000\n",
       "75%         140.000000\n",
       "max       20000.000000\n",
       "Name: Power, dtype: float64"
      ]
     },
     "execution_count": 34,
     "metadata": {},
     "output_type": "execute_result"
    }
   ],
   "source": [
    "data['Power'].describe()"
   ]
  },
  {
   "cell_type": "markdown",
   "metadata": {},
   "source": [
    "<div class=\"alert alert-info\" style=\"border:solid purple 2px; padding: 20px; background-color: #e6d2f2; color: #4b0082;\">\n",
    "\n",
    "1) найду межквартильный размах: (75% - 25%) * 1,5 = (143 - 73) * 1,5 = 105\n",
    "\n",
    "2) найду значение 100%: 75% + 111 = 143 + 105 = 248 - граница нормального размаха. Значения выше её - выбросы. Рассмотрю область нормальных значений"
   ]
  },
  {
   "cell_type": "code",
   "execution_count": 35,
   "metadata": {},
   "outputs": [
    {
     "data": {
      "image/png": "[encoded data removed]",
      "text/plain": [
       "<Figure size 640x480 with 1 Axes>"
      ]
     },
     "metadata": {},
     "output_type": "display_data"
    }
   ],
   "source": [
    "data['Power'].hist(range=(0, 248), bins=100);"
   ]
  },
  {
   "cell_type": "markdown",
   "metadata": {},
   "source": [
    "<div class=\"alert alert-info\" style=\"border:solid purple 2px; padding: 20px; background-color: #e6d2f2; color: #4b0082;\">\n",
    "\n",
    "На графике видно большое количество нулей и то, что большее количество значений находится в диапазоне от 50 до 150. Предположу, что значения от 500 до 1500 имеют ошибку в один 0, значения от 5000 до 15000 имеют ошибку в два 0. Исправлю эти ошибки."
   ]
  },
  {
   "cell_type": "code",
   "execution_count": 36,
   "metadata": {},
   "outputs": [],
   "source": [
    "data.loc[(data['Power'] >= 500) & (data['Power'] <= 1500), 'Power'] *= 0.1\n",
    "data.loc[(data['Power'] >= 5000) & (data['Power'] <= 15000), 'Power'] *= 0.01"
   ]
  },
  {
   "cell_type": "code",
   "execution_count": 37,
   "metadata": {},
   "outputs": [],
   "source": [
    "#удалим выбросы\n",
    "data = data.query('Power <= 251')"
   ]
  },
  {
   "cell_type": "markdown",
   "metadata": {},
   "source": [
    "<div class=\"alert alert-info\" style=\"border:solid purple 2px; padding: 20px; background-color: #e6d2f2; color: #4b0082;\">\n",
    "\n",
    "Заменю нулевые значения медианными по соответствующим заводским характеристикам - бренду, модели, типу коробки передач и типу топлива."
   ]
  },
  {
   "cell_type": "code",
   "execution_count": 38,
   "metadata": {},
   "outputs": [],
   "source": [
    "data['Factory'] = data['Brand'] + ' ' + data['Model'] + ' ' + data['Gearbox'] + ' ' + data['FuelType']"
   ]
  },
  {
   "cell_type": "code",
   "execution_count": 39,
   "metadata": {},
   "outputs": [],
   "source": [
    "for i in data['Factory'].unique():\n",
    "    median = data.loc[data['Factory'] == i, 'Power'].median()\n",
    "    data.loc[(data['Factory'] == i) & (data['Power'] == 0), 'Power'] = median"
   ]
  },
  {
   "cell_type": "code",
   "execution_count": 40,
   "metadata": {},
   "outputs": [
    {
     "data": {
      "text/html": [
       "<div>\n",
       "<style scoped>\n",
       "    .dataframe tbody tr th:only-of-type {\n",
       "        vertical-align: middle;\n",
       "    }\n",
       "\n",
       "    .dataframe tbody tr th {\n",
       "        vertical-align: top;\n",
       "    }\n",
       "\n",
       "    .dataframe thead th {\n",
       "        text-align: right;\n",
       "    }\n",
       "</style>\n",
       "<table border=\"1\" class=\"dataframe\">\n",
       "  <thead>\n",
       "    <tr style=\"text-align: right;\">\n",
       "      <th></th>\n",
       "      <th>Price</th>\n",
       "      <th>VehicleType</th>\n",
       "      <th>RegistrationYear</th>\n",
       "      <th>Gearbox</th>\n",
       "      <th>Power</th>\n",
       "      <th>Model</th>\n",
       "      <th>Kilometer</th>\n",
       "      <th>FuelType</th>\n",
       "      <th>Brand</th>\n",
       "      <th>Repaired</th>\n",
       "      <th>Factory</th>\n",
       "    </tr>\n",
       "  </thead>\n",
       "  <tbody>\n",
       "    <tr>\n",
       "      <th>0</th>\n",
       "      <td>480</td>\n",
       "      <td>other</td>\n",
       "      <td>1993</td>\n",
       "      <td>manual</td>\n",
       "      <td>90.0</td>\n",
       "      <td>golf</td>\n",
       "      <td>150000</td>\n",
       "      <td>petrol</td>\n",
       "      <td>volkswagen</td>\n",
       "      <td>unknown</td>\n",
       "      <td>volkswagen golf manual petrol</td>\n",
       "    </tr>\n",
       "    <tr>\n",
       "      <th>2</th>\n",
       "      <td>9800</td>\n",
       "      <td>suv</td>\n",
       "      <td>2004</td>\n",
       "      <td>auto</td>\n",
       "      <td>163.0</td>\n",
       "      <td>grand</td>\n",
       "      <td>125000</td>\n",
       "      <td>gasoline</td>\n",
       "      <td>jeep</td>\n",
       "      <td>unknown</td>\n",
       "      <td>jeep grand auto gasoline</td>\n",
       "    </tr>\n",
       "    <tr>\n",
       "      <th>3</th>\n",
       "      <td>1500</td>\n",
       "      <td>small</td>\n",
       "      <td>2001</td>\n",
       "      <td>manual</td>\n",
       "      <td>75.0</td>\n",
       "      <td>golf</td>\n",
       "      <td>150000</td>\n",
       "      <td>petrol</td>\n",
       "      <td>volkswagen</td>\n",
       "      <td>no</td>\n",
       "      <td>volkswagen golf manual petrol</td>\n",
       "    </tr>\n",
       "    <tr>\n",
       "      <th>4</th>\n",
       "      <td>3600</td>\n",
       "      <td>small</td>\n",
       "      <td>2008</td>\n",
       "      <td>manual</td>\n",
       "      <td>69.0</td>\n",
       "      <td>fabia</td>\n",
       "      <td>90000</td>\n",
       "      <td>gasoline</td>\n",
       "      <td>skoda</td>\n",
       "      <td>no</td>\n",
       "      <td>skoda fabia manual gasoline</td>\n",
       "    </tr>\n",
       "    <tr>\n",
       "      <th>5</th>\n",
       "      <td>650</td>\n",
       "      <td>sedan</td>\n",
       "      <td>1995</td>\n",
       "      <td>manual</td>\n",
       "      <td>102.0</td>\n",
       "      <td>3er</td>\n",
       "      <td>150000</td>\n",
       "      <td>petrol</td>\n",
       "      <td>bmw</td>\n",
       "      <td>yes</td>\n",
       "      <td>bmw 3er manual petrol</td>\n",
       "    </tr>\n",
       "  </tbody>\n",
       "</table>\n",
       "</div>"
      ],
      "text/plain": [
       "   Price VehicleType  RegistrationYear Gearbox  Power  Model  Kilometer  \\\n",
       "0    480       other              1993  manual   90.0   golf     150000   \n",
       "2   9800         suv              2004    auto  163.0  grand     125000   \n",
       "3   1500       small              2001  manual   75.0   golf     150000   \n",
       "4   3600       small              2008  manual   69.0  fabia      90000   \n",
       "5    650       sedan              1995  manual  102.0    3er     150000   \n",
       "\n",
       "   FuelType       Brand Repaired                        Factory  \n",
       "0    petrol  volkswagen  unknown  volkswagen golf manual petrol  \n",
       "2  gasoline        jeep  unknown       jeep grand auto gasoline  \n",
       "3    petrol  volkswagen       no  volkswagen golf manual petrol  \n",
       "4  gasoline       skoda       no    skoda fabia manual gasoline  \n",
       "5    petrol         bmw      yes          bmw 3er manual petrol  "
      ]
     },
     "execution_count": 40,
     "metadata": {},
     "output_type": "execute_result"
    }
   ],
   "source": [
    "data.head()"
   ]
  },
  {
   "cell_type": "code",
   "execution_count": 41,
   "metadata": {},
   "outputs": [],
   "source": [
    "data = data.query('Power >= 4.2')"
   ]
  },
  {
   "cell_type": "markdown",
   "metadata": {},
   "source": [
    "<div class=\"alert alert-info\" style=\"border:solid purple 2px; padding: 20px; background-color: #e6d2f2; color: #4b0082;\">\n",
    "\n",
    "Узнаю самую маленькую мощность машины - 4.2 л.с. Ограничу данные этим значением."
   ]
  },
  {
   "cell_type": "code",
   "execution_count": 42,
   "metadata": {},
   "outputs": [
    {
     "data": {
      "text/plain": [
       "(257821, 11)"
      ]
     },
     "execution_count": 42,
     "metadata": {},
     "output_type": "execute_result"
    }
   ],
   "source": [
    "data.shape"
   ]
  },
  {
   "cell_type": "code",
   "execution_count": 43,
   "metadata": {},
   "outputs": [],
   "source": [
    "data = data.drop('Factory', axis=1)"
   ]
  },
  {
   "cell_type": "markdown",
   "metadata": {},
   "source": [
    "**г)** Kilometer"
   ]
  },
  {
   "cell_type": "code",
   "execution_count": 44,
   "metadata": {},
   "outputs": [
    {
     "data": {
      "image/png": "[encoded data removed]",
      "text/plain": [
       "<Figure size 640x480 with 1 Axes>"
      ]
     },
     "metadata": {},
     "output_type": "display_data"
    }
   ],
   "source": [
    "plt.title('Значения и выбросы \"Kilometer\"')\n",
    "pd.DataFrame(data=data['Kilometer']).boxplot();"
   ]
  },
  {
   "cell_type": "code",
   "execution_count": 45,
   "metadata": {},
   "outputs": [
    {
     "data": {
      "text/plain": [
       "count    257821.000000\n",
       "mean     129472.696173\n",
       "std       35937.746936\n",
       "min        5000.000000\n",
       "25%      125000.000000\n",
       "50%      150000.000000\n",
       "75%      150000.000000\n",
       "max      150000.000000\n",
       "Name: Kilometer, dtype: float64"
      ]
     },
     "execution_count": 45,
     "metadata": {},
     "output_type": "execute_result"
    }
   ],
   "source": [
    "data['Kilometer'].describe()"
   ]
  },
  {
   "cell_type": "markdown",
   "metadata": {},
   "source": [
    "<div class=\"alert alert-info\" style=\"border:solid purple 2px; padding: 20px; background-color: #e6d2f2; color: #4b0082;\">\n",
    "\n",
    "1) найду межквартильный размах: (75% - 25%) * 1,5 = (150000 - 125000) * 1,5 = 37500\n",
    "\n",
    "2) найду значение 0%: 25% - 37500 = 125000 - 37500 = 87500 - граница нормального размаха. Значения выше её - выбросы, но подозрительными являются только слишком большие значения, поэтому оставлю данные без изменений."
   ]
  },
  {
   "cell_type": "code",
   "execution_count": 46,
   "metadata": {},
   "outputs": [
    {
     "data": {
      "text/plain": [
       "(257821, 10)"
      ]
     },
     "execution_count": 46,
     "metadata": {},
     "output_type": "execute_result"
    }
   ],
   "source": [
    "data.shape"
   ]
  },
  {
   "cell_type": "code",
   "execution_count": 47,
   "metadata": {},
   "outputs": [
    {
     "name": "stdout",
     "output_type": "stream",
     "text": [
      "<class 'pandas.core.frame.DataFrame'>\n",
      "Int64Index: 257821 entries, 0 to 354368\n",
      "Data columns (total 10 columns):\n",
      " #   Column            Non-Null Count   Dtype  \n",
      "---  ------            --------------   -----  \n",
      " 0   Price             257821 non-null  int64  \n",
      " 1   VehicleType       257821 non-null  object \n",
      " 2   RegistrationYear  257821 non-null  int64  \n",
      " 3   Gearbox           257821 non-null  object \n",
      " 4   Power             257821 non-null  float64\n",
      " 5   Model             257821 non-null  object \n",
      " 6   Kilometer         257821 non-null  int64  \n",
      " 7   FuelType          257821 non-null  object \n",
      " 8   Brand             257821 non-null  object \n",
      " 9   Repaired          257821 non-null  object \n",
      "dtypes: float64(1), int64(3), object(6)\n",
      "memory usage: 21.6+ MB\n"
     ]
    }
   ],
   "source": [
    "data.info()"
   ]
  },
  {
   "cell_type": "markdown",
   "metadata": {},
   "source": [
    "<div class=\"alert alert-info\" style=\"border:solid purple 2px; padding: 20px; background-color: #e6d2f2; color: #4b0082;\">\n",
    "\n",
    "**Вывод:** я произвела предобработку данных. До предобработки было 354369 строк и 16 столбцов. В предобработке я:\n",
    "- удалила неинформативные данные\n",
    "- проверила данные на дубликаты и удалила их\n",
    "- проверила признаки на корреляцию с целевым признаком\n",
    "- изучила и устранила пропуски\n",
    "- изучила и устранила аномалии\n",
    "\n",
    "После предобработки осталось 257821 строк и 10 столбцов."
   ]
  },
  {
   "cell_type": "markdown",
   "metadata": {},
   "source": [
    "## Обучение моделей"
   ]
  },
  {
   "cell_type": "markdown",
   "metadata": {},
   "source": [
    "**1. Подготовлю выборки для обучения моделей.**"
   ]
  },
  {
   "cell_type": "code",
   "execution_count": 48,
   "metadata": {},
   "outputs": [],
   "source": [
    "#выделим количественные и категориальные признаки\n",
    "\n",
    "numeric = ['RegistrationYear', 'Power', 'Kilometer']\n",
    "categoric = ['VehicleType', 'Gearbox', 'Model', 'FuelType', 'Brand', 'Repaired']"
   ]
  },
  {
   "cell_type": "code",
   "execution_count": 49,
   "metadata": {},
   "outputs": [],
   "source": [
    "#т.к. дальше в коде появляется ошибка из-за того, что три объекта со значением Model = \"serie_3\" есть только в тестовой выборке,\n",
    "#удалим их, т.к. их всего три\n",
    "\n",
    "data = data.query('Model != \"serie_3\"')"
   ]
  },
  {
   "cell_type": "code",
   "execution_count": 50,
   "metadata": {},
   "outputs": [],
   "source": [
    "#разделим данные на признаки и целевой признак\n",
    "features = data.drop('Price', axis=1)\n",
    "target = data['Price']\n",
    "\n",
    "#выделим тестовую выборку\n",
    "features_train, features_test, target_train, target_test = \\\n",
    "train_test_split(features, target, test_size=0.25, random_state=12345)"
   ]
  },
  {
   "cell_type": "code",
   "execution_count": 51,
   "metadata": {},
   "outputs": [],
   "source": [
    "#выделим тестовую и валидационную выборки для линейной регрессии\n",
    "features_train_linear, features_test_linear, target_train_linear, target_test_linear = \\\n",
    "train_test_split(features, target, test_size=0.2, random_state=12345)\n",
    "\n",
    "features_train_linear, features_valid_linear, target_train_linear, target_valid_linear = \\\n",
    "train_test_split(features_train_linear, target_train_linear, test_size=0.25, random_state=12345)"
   ]
  },
  {
   "cell_type": "markdown",
   "metadata": {},
   "source": [
    "**2. Преобразую категориальные данные двумя способами для линейной регрессии и остальных моделей.**"
   ]
  },
  {
   "cell_type": "markdown",
   "metadata": {},
   "source": [
    "**2.1.** OHE"
   ]
  },
  {
   "cell_type": "code",
   "execution_count": 53,
   "metadata": {},
   "outputs": [],
   "source": [
    "ohe_variable = OneHotEncoder(sparse_output=False, handle_unknown='ignore', drop='first')\n",
    "ohe_variable.fit(features_train[categoric])\n",
    "\n",
    "features_train_ohe = pd.DataFrame(\n",
    "    data=ohe_variable.transform(features_train[categoric]), \n",
    "    index=features_train.index,\n",
    "    columns=ohe_variable.get_feature_names_out()\n",
    ")\n",
    "\n",
    "features_train_ohe = features_train_ohe.merge(features_train[numeric], left_index=True, right_index=True)\n",
    "\n",
    "features_test_ohe = pd.DataFrame(\n",
    "    data=ohe_variable.transform(features_test[categoric]),\n",
    "    index=features_test.index,\n",
    "    columns=ohe_variable.get_feature_names_out()\n",
    ")\n",
    "\n",
    "features_test_ohe = features_test_ohe.merge(features_test[numeric], left_index=True, right_index=True)"
   ]
  },
  {
   "cell_type": "markdown",
   "metadata": {},
   "source": [
    "<div class=\"alert alert-info\" style=\"border:solid purple 2px; padding: 20px; background-color: #e6d2f2; color: #4b0082;\">\n",
    "\n",
    "Преобразую выборки для линейной регрессии."
   ]
  },
  {
   "cell_type": "code",
   "execution_count": 54,
   "metadata": {},
   "outputs": [
    {
     "name": "stderr",
     "output_type": "stream",
     "text": [
      "C:\\Users\\Naiana\\anaconda3\\lib\\site-packages\\sklearn\\preprocessing\\_encoders.py:202: UserWarning: Found unknown categories in columns [2] during transform. These unknown categories will be encoded as all zeros\n",
      "  warnings.warn(\n",
      "C:\\Users\\Naiana\\anaconda3\\lib\\site-packages\\sklearn\\preprocessing\\_encoders.py:202: UserWarning: Found unknown categories in columns [2] during transform. These unknown categories will be encoded as all zeros\n",
      "  warnings.warn(\n"
     ]
    }
   ],
   "source": [
    "ohe_variable = OneHotEncoder(sparse_output=False, handle_unknown='ignore', drop='first')\n",
    "ohe_variable.fit(features_train_linear[categoric])\n",
    "\n",
    "#тренировочная выборка\n",
    "features_train_linear_ohe = pd.DataFrame(\n",
    "    data=ohe_variable.transform(features_train_linear[categoric]), \n",
    "    index=features_train_linear.index,\n",
    "    columns=ohe_variable.get_feature_names_out()\n",
    ")\n",
    "\n",
    "features_train_linear_ohe = features_train_linear_ohe.merge(features_train_linear[numeric], left_index=True, right_index=True)\n",
    "\n",
    "#валидационная выборка\n",
    "features_valid_linear_ohe = pd.DataFrame(\n",
    "    data=ohe_variable.transform(features_valid_linear[categoric]), \n",
    "    index=features_valid_linear.index,\n",
    "    columns=ohe_variable.get_feature_names_out()\n",
    ")\n",
    "\n",
    "features_valid_linear_ohe = features_valid_linear_ohe.merge(features_valid_linear[numeric], left_index=True, right_index=True)\n",
    "\n",
    "#тестовая выборка\n",
    "features_test_linear_ohe = pd.DataFrame(\n",
    "    data=ohe_variable.transform(features_test_linear[categoric]), \n",
    "    index=features_test_linear.index,\n",
    "    columns=ohe_variable.get_feature_names_out()\n",
    ")\n",
    "\n",
    "features_test_linear_ohe = features_test_linear_ohe.merge(features_test_linear[numeric], left_index=True, right_index=True)"
   ]
  },
  {
   "cell_type": "code",
   "execution_count": 55,
   "metadata": {},
   "outputs": [
    {
     "data": {
      "text/html": [
       "<div>\n",
       "<style scoped>\n",
       "    .dataframe tbody tr th:only-of-type {\n",
       "        vertical-align: middle;\n",
       "    }\n",
       "\n",
       "    .dataframe tbody tr th {\n",
       "        vertical-align: top;\n",
       "    }\n",
       "\n",
       "    .dataframe thead th {\n",
       "        text-align: right;\n",
       "    }\n",
       "</style>\n",
       "<table border=\"1\" class=\"dataframe\">\n",
       "  <thead>\n",
       "    <tr style=\"text-align: right;\">\n",
       "      <th></th>\n",
       "      <th>VehicleType_convertible</th>\n",
       "      <th>VehicleType_coupe</th>\n",
       "      <th>VehicleType_other</th>\n",
       "      <th>VehicleType_sedan</th>\n",
       "      <th>VehicleType_small</th>\n",
       "      <th>VehicleType_suv</th>\n",
       "      <th>VehicleType_wagon</th>\n",
       "      <th>Gearbox_manual</th>\n",
       "      <th>Gearbox_unknown</th>\n",
       "      <th>Model_145</th>\n",
       "      <th>...</th>\n",
       "      <th>Brand_suzuki</th>\n",
       "      <th>Brand_toyota</th>\n",
       "      <th>Brand_trabant</th>\n",
       "      <th>Brand_volkswagen</th>\n",
       "      <th>Brand_volvo</th>\n",
       "      <th>Repaired_unknown</th>\n",
       "      <th>Repaired_yes</th>\n",
       "      <th>RegistrationYear</th>\n",
       "      <th>Power</th>\n",
       "      <th>Kilometer</th>\n",
       "    </tr>\n",
       "  </thead>\n",
       "  <tbody>\n",
       "    <tr>\n",
       "      <th>78984</th>\n",
       "      <td>0.0</td>\n",
       "      <td>0.0</td>\n",
       "      <td>0.0</td>\n",
       "      <td>0.0</td>\n",
       "      <td>0.0</td>\n",
       "      <td>0.0</td>\n",
       "      <td>1.0</td>\n",
       "      <td>1.0</td>\n",
       "      <td>0.0</td>\n",
       "      <td>0.0</td>\n",
       "      <td>...</td>\n",
       "      <td>0.0</td>\n",
       "      <td>0.0</td>\n",
       "      <td>0.0</td>\n",
       "      <td>0.0</td>\n",
       "      <td>0.0</td>\n",
       "      <td>0.0</td>\n",
       "      <td>1.0</td>\n",
       "      <td>1999</td>\n",
       "      <td>136.0</td>\n",
       "      <td>150000</td>\n",
       "    </tr>\n",
       "    <tr>\n",
       "      <th>115789</th>\n",
       "      <td>0.0</td>\n",
       "      <td>0.0</td>\n",
       "      <td>0.0</td>\n",
       "      <td>0.0</td>\n",
       "      <td>1.0</td>\n",
       "      <td>0.0</td>\n",
       "      <td>0.0</td>\n",
       "      <td>0.0</td>\n",
       "      <td>1.0</td>\n",
       "      <td>0.0</td>\n",
       "      <td>...</td>\n",
       "      <td>0.0</td>\n",
       "      <td>0.0</td>\n",
       "      <td>0.0</td>\n",
       "      <td>1.0</td>\n",
       "      <td>0.0</td>\n",
       "      <td>0.0</td>\n",
       "      <td>0.0</td>\n",
       "      <td>1992</td>\n",
       "      <td>54.0</td>\n",
       "      <td>150000</td>\n",
       "    </tr>\n",
       "    <tr>\n",
       "      <th>281031</th>\n",
       "      <td>0.0</td>\n",
       "      <td>0.0</td>\n",
       "      <td>0.0</td>\n",
       "      <td>0.0</td>\n",
       "      <td>0.0</td>\n",
       "      <td>0.0</td>\n",
       "      <td>1.0</td>\n",
       "      <td>0.0</td>\n",
       "      <td>0.0</td>\n",
       "      <td>0.0</td>\n",
       "      <td>...</td>\n",
       "      <td>0.0</td>\n",
       "      <td>0.0</td>\n",
       "      <td>0.0</td>\n",
       "      <td>0.0</td>\n",
       "      <td>1.0</td>\n",
       "      <td>0.0</td>\n",
       "      <td>0.0</td>\n",
       "      <td>1999</td>\n",
       "      <td>140.0</td>\n",
       "      <td>150000</td>\n",
       "    </tr>\n",
       "    <tr>\n",
       "      <th>345244</th>\n",
       "      <td>0.0</td>\n",
       "      <td>0.0</td>\n",
       "      <td>0.0</td>\n",
       "      <td>0.0</td>\n",
       "      <td>0.0</td>\n",
       "      <td>0.0</td>\n",
       "      <td>1.0</td>\n",
       "      <td>1.0</td>\n",
       "      <td>0.0</td>\n",
       "      <td>0.0</td>\n",
       "      <td>...</td>\n",
       "      <td>0.0</td>\n",
       "      <td>1.0</td>\n",
       "      <td>0.0</td>\n",
       "      <td>0.0</td>\n",
       "      <td>0.0</td>\n",
       "      <td>0.0</td>\n",
       "      <td>1.0</td>\n",
       "      <td>2006</td>\n",
       "      <td>177.0</td>\n",
       "      <td>150000</td>\n",
       "    </tr>\n",
       "    <tr>\n",
       "      <th>109470</th>\n",
       "      <td>0.0</td>\n",
       "      <td>0.0</td>\n",
       "      <td>0.0</td>\n",
       "      <td>0.0</td>\n",
       "      <td>0.0</td>\n",
       "      <td>0.0</td>\n",
       "      <td>1.0</td>\n",
       "      <td>1.0</td>\n",
       "      <td>0.0</td>\n",
       "      <td>0.0</td>\n",
       "      <td>...</td>\n",
       "      <td>0.0</td>\n",
       "      <td>0.0</td>\n",
       "      <td>0.0</td>\n",
       "      <td>1.0</td>\n",
       "      <td>0.0</td>\n",
       "      <td>1.0</td>\n",
       "      <td>0.0</td>\n",
       "      <td>2007</td>\n",
       "      <td>140.0</td>\n",
       "      <td>150000</td>\n",
       "    </tr>\n",
       "  </tbody>\n",
       "</table>\n",
       "<p>5 rows × 305 columns</p>\n",
       "</div>"
      ],
      "text/plain": [
       "        VehicleType_convertible  VehicleType_coupe  VehicleType_other  \\\n",
       "78984                       0.0                0.0                0.0   \n",
       "115789                      0.0                0.0                0.0   \n",
       "281031                      0.0                0.0                0.0   \n",
       "345244                      0.0                0.0                0.0   \n",
       "109470                      0.0                0.0                0.0   \n",
       "\n",
       "        VehicleType_sedan  VehicleType_small  VehicleType_suv  \\\n",
       "78984                 0.0                0.0              0.0   \n",
       "115789                0.0                1.0              0.0   \n",
       "281031                0.0                0.0              0.0   \n",
       "345244                0.0                0.0              0.0   \n",
       "109470                0.0                0.0              0.0   \n",
       "\n",
       "        VehicleType_wagon  Gearbox_manual  Gearbox_unknown  Model_145  ...  \\\n",
       "78984                 1.0             1.0              0.0        0.0  ...   \n",
       "115789                0.0             0.0              1.0        0.0  ...   \n",
       "281031                1.0             0.0              0.0        0.0  ...   \n",
       "345244                1.0             1.0              0.0        0.0  ...   \n",
       "109470                1.0             1.0              0.0        0.0  ...   \n",
       "\n",
       "        Brand_suzuki  Brand_toyota  Brand_trabant  Brand_volkswagen  \\\n",
       "78984            0.0           0.0            0.0               0.0   \n",
       "115789           0.0           0.0            0.0               1.0   \n",
       "281031           0.0           0.0            0.0               0.0   \n",
       "345244           0.0           1.0            0.0               0.0   \n",
       "109470           0.0           0.0            0.0               1.0   \n",
       "\n",
       "        Brand_volvo  Repaired_unknown  Repaired_yes  RegistrationYear  Power  \\\n",
       "78984           0.0               0.0           1.0              1999  136.0   \n",
       "115789          0.0               0.0           0.0              1992   54.0   \n",
       "281031          1.0               0.0           0.0              1999  140.0   \n",
       "345244          0.0               0.0           1.0              2006  177.0   \n",
       "109470          0.0               1.0           0.0              2007  140.0   \n",
       "\n",
       "        Kilometer  \n",
       "78984      150000  \n",
       "115789     150000  \n",
       "281031     150000  \n",
       "345244     150000  \n",
       "109470     150000  \n",
       "\n",
       "[5 rows x 305 columns]"
      ]
     },
     "execution_count": 55,
     "metadata": {},
     "output_type": "execute_result"
    }
   ],
   "source": [
    "features_train_ohe.head()"
   ]
  },
  {
   "cell_type": "code",
   "execution_count": 56,
   "metadata": {},
   "outputs": [],
   "source": [
    "pd.options.mode.chained_assignment = None\n",
    "\n",
    "scaler = StandardScaler()\n",
    "scaler.fit(features_train_ohe)\n",
    "\n",
    "features_train_ohe = scaler.transform(features_train_ohe)\n",
    "features_test_ohe = scaler.transform(features_test_ohe)"
   ]
  },
  {
   "cell_type": "markdown",
   "metadata": {},
   "source": [
    "**2.2.** Ordinal Encoder"
   ]
  },
  {
   "cell_type": "code",
   "execution_count": 57,
   "metadata": {
    "scrolled": true
   },
   "outputs": [],
   "source": [
    "encoder = OrdinalEncoder()\n",
    "features_train_ordinal = pd.DataFrame(encoder.fit_transform(features_train[categoric]), \\\n",
    "                                      index=features_train.index,\\\n",
    "                                      columns=categoric)\n",
    "\n",
    "features_train_ordinal = features_train_ordinal.merge(features_train[numeric], left_index=True, right_index=True)\n",
    "\n",
    "features_test_ordinal = pd.DataFrame(encoder.fit_transform(features_test[categoric]),\\\n",
    "                                     index=features_test.index,\\\n",
    "                                     columns=categoric)\n",
    "\n",
    "features_test_ordinal = features_test_ordinal.merge(features_test[numeric], left_index=True, right_index=True)"
   ]
  },
  {
   "cell_type": "code",
   "execution_count": 58,
   "metadata": {},
   "outputs": [
    {
     "data": {
      "text/html": [
       "<div>\n",
       "<style scoped>\n",
       "    .dataframe tbody tr th:only-of-type {\n",
       "        vertical-align: middle;\n",
       "    }\n",
       "\n",
       "    .dataframe tbody tr th {\n",
       "        vertical-align: top;\n",
       "    }\n",
       "\n",
       "    .dataframe thead th {\n",
       "        text-align: right;\n",
       "    }\n",
       "</style>\n",
       "<table border=\"1\" class=\"dataframe\">\n",
       "  <thead>\n",
       "    <tr style=\"text-align: right;\">\n",
       "      <th></th>\n",
       "      <th>VehicleType</th>\n",
       "      <th>Gearbox</th>\n",
       "      <th>Model</th>\n",
       "      <th>FuelType</th>\n",
       "      <th>Brand</th>\n",
       "      <th>Repaired</th>\n",
       "      <th>RegistrationYear</th>\n",
       "      <th>Power</th>\n",
       "      <th>Kilometer</th>\n",
       "    </tr>\n",
       "  </thead>\n",
       "  <tbody>\n",
       "    <tr>\n",
       "      <th>78984</th>\n",
       "      <td>7.0</td>\n",
       "      <td>1.0</td>\n",
       "      <td>164.0</td>\n",
       "      <td>6.0</td>\n",
       "      <td>24.0</td>\n",
       "      <td>2.0</td>\n",
       "      <td>1999</td>\n",
       "      <td>136.0</td>\n",
       "      <td>150000</td>\n",
       "    </tr>\n",
       "    <tr>\n",
       "      <th>115789</th>\n",
       "      <td>5.0</td>\n",
       "      <td>2.0</td>\n",
       "      <td>173.0</td>\n",
       "      <td>6.0</td>\n",
       "      <td>38.0</td>\n",
       "      <td>0.0</td>\n",
       "      <td>1992</td>\n",
       "      <td>54.0</td>\n",
       "      <td>150000</td>\n",
       "    </tr>\n",
       "    <tr>\n",
       "      <th>281031</th>\n",
       "      <td>7.0</td>\n",
       "      <td>0.0</td>\n",
       "      <td>229.0</td>\n",
       "      <td>6.0</td>\n",
       "      <td>39.0</td>\n",
       "      <td>0.0</td>\n",
       "      <td>1999</td>\n",
       "      <td>140.0</td>\n",
       "      <td>150000</td>\n",
       "    </tr>\n",
       "    <tr>\n",
       "      <th>345244</th>\n",
       "      <td>7.0</td>\n",
       "      <td>1.0</td>\n",
       "      <td>44.0</td>\n",
       "      <td>2.0</td>\n",
       "      <td>36.0</td>\n",
       "      <td>2.0</td>\n",
       "      <td>2006</td>\n",
       "      <td>177.0</td>\n",
       "      <td>150000</td>\n",
       "    </tr>\n",
       "    <tr>\n",
       "      <th>109470</th>\n",
       "      <td>7.0</td>\n",
       "      <td>1.0</td>\n",
       "      <td>170.0</td>\n",
       "      <td>2.0</td>\n",
       "      <td>38.0</td>\n",
       "      <td>1.0</td>\n",
       "      <td>2007</td>\n",
       "      <td>140.0</td>\n",
       "      <td>150000</td>\n",
       "    </tr>\n",
       "  </tbody>\n",
       "</table>\n",
       "</div>"
      ],
      "text/plain": [
       "        VehicleType  Gearbox  Model  FuelType  Brand  Repaired  \\\n",
       "78984           7.0      1.0  164.0       6.0   24.0       2.0   \n",
       "115789          5.0      2.0  173.0       6.0   38.0       0.0   \n",
       "281031          7.0      0.0  229.0       6.0   39.0       0.0   \n",
       "345244          7.0      1.0   44.0       2.0   36.0       2.0   \n",
       "109470          7.0      1.0  170.0       2.0   38.0       1.0   \n",
       "\n",
       "        RegistrationYear  Power  Kilometer  \n",
       "78984               1999  136.0     150000  \n",
       "115789              1992   54.0     150000  \n",
       "281031              1999  140.0     150000  \n",
       "345244              2006  177.0     150000  \n",
       "109470              2007  140.0     150000  "
      ]
     },
     "execution_count": 58,
     "metadata": {},
     "output_type": "execute_result"
    }
   ],
   "source": [
    "features_train_ordinal.head()"
   ]
  },
  {
   "cell_type": "code",
   "execution_count": 59,
   "metadata": {},
   "outputs": [],
   "source": [
    "pd.options.mode.chained_assignment = None\n",
    "\n",
    "scaler = StandardScaler()\n",
    "scaler.fit(features_train_ordinal)\n",
    "\n",
    "features_train_ordinal = scaler.transform(features_train_ordinal)\n",
    "features_test_ordinal = scaler.transform(features_test_ordinal)"
   ]
  },
  {
   "cell_type": "markdown",
   "metadata": {},
   "source": [
    "**3. Обучу модели**"
   ]
  },
  {
   "cell_type": "markdown",
   "metadata": {},
   "source": [
    "**3.1.** Дерево решений"
   ]
  },
  {
   "cell_type": "code",
   "execution_count": 60,
   "metadata": {},
   "outputs": [],
   "source": [
    "scorer = make_scorer(mean_squared_error)"
   ]
  },
  {
   "cell_type": "markdown",
   "metadata": {},
   "source": [
    "<div class=\"alert alert-info\" style=\"border:solid purple 2px; padding: 20px; background-color: #e6d2f2; color: #4b0082;\">\n",
    "\n",
    "С помощью GridSearchCV найду лучшее значение максимальной глубины."
   ]
  },
  {
   "cell_type": "code",
   "execution_count": 61,
   "metadata": {},
   "outputs": [],
   "source": [
    "#decision_tree_parameters = {'max_depth': range(1, 15, 1)}\n",
    "#model = DecisionTreeRegressor(random_state=12345)\n",
    "\n",
    "#grid = GridSearchCV(model, decision_tree_parameters, cv=5)\n",
    "#grid.fit(features_train_ordinal, target_train)\n",
    "#grid.best_params_"
   ]
  },
  {
   "attachments": {
    "%D0%A1%D0%BD%D0%B8%D0%BC%D0%BE%D0%BA%20%D1%8D%D0%BA%D1%80%D0%B0%D0%BD%D0%B0%202023-04-04%20144534.png": {
     "image/png": "[encoded data removed]"
    }
   },
   "cell_type": "markdown",
   "metadata": {},
   "source": [
    "![%D0%A1%D0%BD%D0%B8%D0%BC%D0%BE%D0%BA%20%D1%8D%D0%BA%D1%80%D0%B0%D0%BD%D0%B0%202023-04-04%20144534.png](attachment:%D0%A1%D0%BD%D0%B8%D0%BC%D0%BE%D0%BA%20%D1%8D%D0%BA%D1%80%D0%B0%D0%BD%D0%B0%202023-04-04%20144534.png)"
   ]
  },
  {
   "cell_type": "markdown",
   "metadata": {},
   "source": [
    "<div class=\"alert alert-info\" style=\"border:solid purple 2px; padding: 20px; background-color: #e6d2f2; color: #4b0082;\">\n",
    "\n",
    "Лучшее значение максимальной глубины для модели дерева решений - 13."
   ]
  },
  {
   "cell_type": "markdown",
   "metadata": {},
   "source": [
    "**3.2.** Случайный лес"
   ]
  },
  {
   "cell_type": "markdown",
   "metadata": {},
   "source": [
    "<div class=\"alert alert-info\" style=\"border:solid purple 2px; padding: 20px; background-color: #e6d2f2; color: #4b0082;\">\n",
    "\n",
    "С помощью GridSearchCV найду лучшее значение количества деревьев."
   ]
  },
  {
   "cell_type": "code",
   "execution_count": 62,
   "metadata": {},
   "outputs": [],
   "source": [
    "#random_forest_parameters = {'n_estimators': range(10, 101, 10)}\n",
    "#model = RandomForestRegressor(random_state=12345)\n",
    "\n",
    "#grid = GridSearchCV(model, random_forest_parameters, cv=3)\n",
    "#grid.fit(features_train_ordinal, target_train)\n",
    "#grid.best_params_"
   ]
  },
  {
   "attachments": {
    "%D0%A1%D0%BD%D0%B8%D0%BC%D0%BE%D0%BA%20%D1%8D%D0%BA%D1%80%D0%B0%D0%BD%D0%B0%202023-04-04%20200417.png": {
     "image/png": "[encoded data removed]"
    }
   },
   "cell_type": "markdown",
   "metadata": {},
   "source": [
    "![%D0%A1%D0%BD%D0%B8%D0%BC%D0%BE%D0%BA%20%D1%8D%D0%BA%D1%80%D0%B0%D0%BD%D0%B0%202023-04-04%20200417.png](attachment:%D0%A1%D0%BD%D0%B8%D0%BC%D0%BE%D0%BA%20%D1%8D%D0%BA%D1%80%D0%B0%D0%BD%D0%B0%202023-04-04%20200417.png)"
   ]
  },
  {
   "cell_type": "markdown",
   "metadata": {},
   "source": [
    "<div class=\"alert alert-info\" style=\"border:solid purple 2px; padding: 20px; background-color: #e6d2f2; color: #4b0082;\">\n",
    "\n",
    "Лучшее значение количества деревьев для модели случайного леса - 100."
   ]
  },
  {
   "cell_type": "markdown",
   "metadata": {},
   "source": [
    "**3.3.** Линейная регрессия"
   ]
  },
  {
   "cell_type": "code",
   "execution_count": 63,
   "metadata": {},
   "outputs": [],
   "source": [
    "#model = LinearRegression()\n",
    "#rmse = (cross_val_score(model, features_train_ordinal, target_train, scoring=scorer) ** 0.5).mean()\n",
    "#print(rmse)"
   ]
  },
  {
   "cell_type": "markdown",
   "metadata": {},
   "source": [
    "<div class=\"alert alert-info\" style=\"border:solid purple 2px; padding: 20px; background-color: #e6d2f2; color: #4b0082;\">\n",
    "\n",
    "RMSE модели линейной регрессии превышает порог 2500. RMSE линейной регрессии значительно превышает RMSE дерева решений и случайного леса."
   ]
  },
  {
   "cell_type": "markdown",
   "metadata": {},
   "source": [
    "**3.4.** LightGBM"
   ]
  },
  {
   "cell_type": "markdown",
   "metadata": {},
   "source": [
    "<div class=\"alert alert-info\" style=\"border:solid purple 2px; padding: 20px; background-color: #e6d2f2; color: #4b0082;\">\n",
    "\n",
    "Установлю LightGBM"
   ]
  },
  {
   "cell_type": "code",
   "execution_count": 64,
   "metadata": {
    "scrolled": true
   },
   "outputs": [
    {
     "name": "stdout",
     "output_type": "stream",
     "text": [
      "Requirement already satisfied: lightgbm in c:\\users\\naiana\\anaconda3\\lib\\site-packages (3.3.5)\n",
      "Requirement already satisfied: numpy in c:\\users\\naiana\\anaconda3\\lib\\site-packages (from lightgbm) (1.23.5)\n",
      "Requirement already satisfied: scikit-learn!=0.22.0 in c:\\users\\naiana\\anaconda3\\lib\\site-packages (from lightgbm) (1.2.1)\n",
      "Requirement already satisfied: wheel in c:\\users\\naiana\\anaconda3\\lib\\site-packages (from lightgbm) (0.38.4)\n",
      "Requirement already satisfied: scipy in c:\\users\\naiana\\anaconda3\\lib\\site-packages (from lightgbm) (1.10.0)\n",
      "Requirement already satisfied: joblib>=1.1.1 in c:\\users\\naiana\\anaconda3\\lib\\site-packages (from scikit-learn!=0.22.0->lightgbm) (1.1.1)\n",
      "Requirement already satisfied: threadpoolctl>=2.0.0 in c:\\users\\naiana\\anaconda3\\lib\\site-packages (from scikit-learn!=0.22.0->lightgbm) (2.2.0)\n"
     ]
    }
   ],
   "source": [
    "!pip install lightgbm"
   ]
  },
  {
   "cell_type": "code",
   "execution_count": 65,
   "metadata": {},
   "outputs": [],
   "source": [
    "model = lgb.LGBMRegressor(random_state=12345)"
   ]
  },
  {
   "cell_type": "markdown",
   "metadata": {},
   "source": [
    "<div class=\"alert alert-info\" style=\"border:solid purple 2px; padding: 20px; background-color: #e6d2f2; color: #4b0082;\">\n",
    "\n",
    "Подберу для модели лучшие гиперпараметры с помощью GridSearchCV."
   ]
  },
  {
   "cell_type": "code",
   "execution_count": 66,
   "metadata": {},
   "outputs": [],
   "source": [
    "lightgbm_parameters = {\n",
    "    'n_estimators': range(10, 101, 10),\n",
    "    'max_depth': range(1, 15, 1)\n",
    "}"
   ]
  },
  {
   "cell_type": "code",
   "execution_count": 67,
   "metadata": {},
   "outputs": [],
   "source": [
    "#grid = GridSearchCV(model, lightgbm_parameters, cv=5)\n",
    "#grid.fit(features_train_ordinal, target_train)\n",
    "#grid.best_params_"
   ]
  },
  {
   "attachments": {
    "%D0%A1%D0%BD%D0%B8%D0%BC%D0%BE%D0%BA%20%D1%8D%D0%BA%D1%80%D0%B0%D0%BD%D0%B0%202023-04-03%20225249.png": {
     "image/png": "[encoded data removed]"
    }
   },
   "cell_type": "markdown",
   "metadata": {},
   "source": [
    "![%D0%A1%D0%BD%D0%B8%D0%BC%D0%BE%D0%BA%20%D1%8D%D0%BA%D1%80%D0%B0%D0%BD%D0%B0%202023-04-03%20225249.png](attachment:%D0%A1%D0%BD%D0%B8%D0%BC%D0%BE%D0%BA%20%D1%8D%D0%BA%D1%80%D0%B0%D0%BD%D0%B0%202023-04-03%20225249.png)"
   ]
  },
  {
   "cell_type": "markdown",
   "metadata": {},
   "source": [
    "<div class=\"alert alert-info\" style=\"border:solid purple 2px; padding: 20px; background-color: #e6d2f2; color: #4b0082;\">\n",
    "\n",
    "Лучшие значения максимальной глубины - 12, количества деревьев - 100 для модели LightGBM."
   ]
  },
  {
   "cell_type": "markdown",
   "metadata": {},
   "source": [
    "## Анализ моделей"
   ]
  },
  {
   "cell_type": "markdown",
   "metadata": {},
   "source": [
    "<div class=\"alert alert-info\" style=\"border:solid purple 2px; padding: 20px; background-color: #e6d2f2; color: #4b0082;\">\n",
    "\n",
    "Проанализирую модели."
   ]
  },
  {
   "cell_type": "markdown",
   "metadata": {},
   "source": [
    "**1. Дерево решений**"
   ]
  },
  {
   "cell_type": "markdown",
   "metadata": {},
   "source": [
    "<div class=\"alert alert-info\" style=\"border:solid purple 2px; padding: 20px; background-color: #e6d2f2; color: #4b0082;\">\n",
    "\n",
    "Я выбрала модель дерева решений с глубиной 13."
   ]
  },
  {
   "cell_type": "code",
   "execution_count": 68,
   "metadata": {},
   "outputs": [
    {
     "name": "stdout",
     "output_type": "stream",
     "text": [
      "RMSE дерева решений: 1581.2458497061666\n"
     ]
    }
   ],
   "source": [
    "model = DecisionTreeRegressor(max_depth=13, random_state=12345)\n",
    "rmse = (cross_val_score(model, features_train_ordinal, target_train, scoring=scorer) ** 0.5).mean()\n",
    "print('RMSE дерева решений:', rmse)"
   ]
  },
  {
   "cell_type": "code",
   "execution_count": 69,
   "metadata": {},
   "outputs": [
    {
     "name": "stdout",
     "output_type": "stream",
     "text": [
      "CPU times: total: 438 ms\n",
      "Wall time: 419 ms\n"
     ]
    },
    {
     "data": {
      "text/html": [
       "<style>#sk-container-id-1 {color: black;background-color: white;}#sk-container-id-1 pre{padding: 0;}#sk-container-id-1 div.sk-toggleable {background-color: white;}#sk-container-id-1 label.sk-toggleable__label {cursor: pointer;display: block;width: 100%;margin-bottom: 0;padding: 0.3em;box-sizing: border-box;text-align: center;}#sk-container-id-1 label.sk-toggleable__label-arrow:before {content: \"▸\";float: left;margin-right: 0.25em;color: #696969;}#sk-container-id-1 label.sk-toggleable__label-arrow:hover:before {color: black;}#sk-container-id-1 div.sk-estimator:hover label.sk-toggleable__label-arrow:before {color: black;}#sk-container-id-1 div.sk-toggleable__content {max-height: 0;max-width: 0;overflow: hidden;text-align: left;background-color: #f0f8ff;}#sk-container-id-1 div.sk-toggleable__content pre {margin: 0.2em;color: black;border-radius: 0.25em;background-color: #f0f8ff;}#sk-container-id-1 input.sk-toggleable__control:checked~div.sk-toggleable__content {max-height: 200px;max-width: 100%;overflow: auto;}#sk-container-id-1 input.sk-toggleable__control:checked~label.sk-toggleable__label-arrow:before {content: \"▾\";}#sk-container-id-1 div.sk-estimator input.sk-toggleable__control:checked~label.sk-toggleable__label {background-color: #d4ebff;}#sk-container-id-1 div.sk-label input.sk-toggleable__control:checked~label.sk-toggleable__label {background-color: #d4ebff;}#sk-container-id-1 input.sk-hidden--visually {border: 0;clip: rect(1px 1px 1px 1px);clip: rect(1px, 1px, 1px, 1px);height: 1px;margin: -1px;overflow: hidden;padding: 0;position: absolute;width: 1px;}#sk-container-id-1 div.sk-estimator {font-family: monospace;background-color: #f0f8ff;border: 1px dotted black;border-radius: 0.25em;box-sizing: border-box;margin-bottom: 0.5em;}#sk-container-id-1 div.sk-estimator:hover {background-color: #d4ebff;}#sk-container-id-1 div.sk-parallel-item::after {content: \"\";width: 100%;border-bottom: 1px solid gray;flex-grow: 1;}#sk-container-id-1 div.sk-label:hover label.sk-toggleable__label {background-color: #d4ebff;}#sk-container-id-1 div.sk-serial::before {content: \"\";position: absolute;border-left: 1px solid gray;box-sizing: border-box;top: 0;bottom: 0;left: 50%;z-index: 0;}#sk-container-id-1 div.sk-serial {display: flex;flex-direction: column;align-items: center;background-color: white;padding-right: 0.2em;padding-left: 0.2em;position: relative;}#sk-container-id-1 div.sk-item {position: relative;z-index: 1;}#sk-container-id-1 div.sk-parallel {display: flex;align-items: stretch;justify-content: center;background-color: white;position: relative;}#sk-container-id-1 div.sk-item::before, #sk-container-id-1 div.sk-parallel-item::before {content: \"\";position: absolute;border-left: 1px solid gray;box-sizing: border-box;top: 0;bottom: 0;left: 50%;z-index: -1;}#sk-container-id-1 div.sk-parallel-item {display: flex;flex-direction: column;z-index: 1;position: relative;background-color: white;}#sk-container-id-1 div.sk-parallel-item:first-child::after {align-self: flex-end;width: 50%;}#sk-container-id-1 div.sk-parallel-item:last-child::after {align-self: flex-start;width: 50%;}#sk-container-id-1 div.sk-parallel-item:only-child::after {width: 0;}#sk-container-id-1 div.sk-dashed-wrapped {border: 1px dashed gray;margin: 0 0.4em 0.5em 0.4em;box-sizing: border-box;padding-bottom: 0.4em;background-color: white;}#sk-container-id-1 div.sk-label label {font-family: monospace;font-weight: bold;display: inline-block;line-height: 1.2em;}#sk-container-id-1 div.sk-label-container {text-align: center;}#sk-container-id-1 div.sk-container {/* jupyter's `normalize.less` sets `[hidden] { display: none; }` but bootstrap.min.css set `[hidden] { display: none !important; }` so we also need the `!important` here to be able to override the default hidden behavior on the sphinx rendered scikit-learn.org. See: https://github.com/scikit-learn/scikit-learn/issues/21755 */display: inline-block !important;position: relative;}#sk-container-id-1 div.sk-text-repr-fallback {display: none;}</style><div id=\"sk-container-id-1\" class=\"sk-top-container\"><div class=\"sk-text-repr-fallback\"><pre>DecisionTreeRegressor(max_depth=13, random_state=12345)</pre><b>In a Jupyter environment, please rerun this cell to show the HTML representation or trust the notebook. <br />On GitHub, the HTML representation is unable to render, please try loading this page with nbviewer.org.</b></div><div class=\"sk-container\" hidden><div class=\"sk-item\"><div class=\"sk-estimator sk-toggleable\"><input class=\"sk-toggleable__control sk-hidden--visually\" id=\"sk-estimator-id-1\" type=\"checkbox\" checked><label for=\"sk-estimator-id-1\" class=\"sk-toggleable__label sk-toggleable__label-arrow\">DecisionTreeRegressor</label><div class=\"sk-toggleable__content\"><pre>DecisionTreeRegressor(max_depth=13, random_state=12345)</pre></div></div></div></div></div>"
      ],
      "text/plain": [
       "DecisionTreeRegressor(max_depth=13, random_state=12345)"
      ]
     },
     "execution_count": 69,
     "metadata": {},
     "output_type": "execute_result"
    }
   ],
   "source": [
    "%%time\n",
    "\n",
    "#время обучения\n",
    "model.fit(features_train_ordinal, target_train)"
   ]
  },
  {
   "cell_type": "code",
   "execution_count": 70,
   "metadata": {},
   "outputs": [
    {
     "name": "stdout",
     "output_type": "stream",
     "text": [
      "CPU times: total: 31.2 ms\n",
      "Wall time: 31.8 ms\n"
     ]
    }
   ],
   "source": [
    "%%time\n",
    "\n",
    "#время предсказания\n",
    "predicted_train_ordinal = model.predict(features_train_ordinal)"
   ]
  },
  {
   "cell_type": "code",
   "execution_count": 71,
   "metadata": {},
   "outputs": [],
   "source": [
    "decision_tree_list = [1.14, 0.109, 1.249, 1581.25]"
   ]
  },
  {
   "cell_type": "markdown",
   "metadata": {},
   "source": [
    "**2. Случайный лес**"
   ]
  },
  {
   "cell_type": "markdown",
   "metadata": {},
   "source": [
    "<div class=\"alert alert-info\" style=\"border:solid purple 2px; padding: 20px; background-color: #e6d2f2; color: #4b0082;\">\n",
    "\n",
    "Я выбрала модель дерева решений с глубиной 13 и количеством деревьев 100."
   ]
  },
  {
   "cell_type": "code",
   "execution_count": 72,
   "metadata": {},
   "outputs": [
    {
     "name": "stdout",
     "output_type": "stream",
     "text": [
      "RMSE случайного леса: 1433.1174580425452\n"
     ]
    }
   ],
   "source": [
    "model = RandomForestRegressor(max_depth=13, n_estimators=100, random_state=12345)\n",
    "rmse = (cross_val_score(model, features_train_ordinal, target_train, scoring=scorer) ** 0.5).mean()\n",
    "print('RMSE случайного леса:', rmse)"
   ]
  },
  {
   "cell_type": "code",
   "execution_count": 73,
   "metadata": {},
   "outputs": [
    {
     "name": "stdout",
     "output_type": "stream",
     "text": [
      "CPU times: total: 24.1 s\n",
      "Wall time: 24.1 s\n"
     ]
    },
    {
     "data": {
      "text/html": [
       "<style>#sk-container-id-2 {color: black;background-color: white;}#sk-container-id-2 pre{padding: 0;}#sk-container-id-2 div.sk-toggleable {background-color: white;}#sk-container-id-2 label.sk-toggleable__label {cursor: pointer;display: block;width: 100%;margin-bottom: 0;padding: 0.3em;box-sizing: border-box;text-align: center;}#sk-container-id-2 label.sk-toggleable__label-arrow:before {content: \"▸\";float: left;margin-right: 0.25em;color: #696969;}#sk-container-id-2 label.sk-toggleable__label-arrow:hover:before {color: black;}#sk-container-id-2 div.sk-estimator:hover label.sk-toggleable__label-arrow:before {color: black;}#sk-container-id-2 div.sk-toggleable__content {max-height: 0;max-width: 0;overflow: hidden;text-align: left;background-color: #f0f8ff;}#sk-container-id-2 div.sk-toggleable__content pre {margin: 0.2em;color: black;border-radius: 0.25em;background-color: #f0f8ff;}#sk-container-id-2 input.sk-toggleable__control:checked~div.sk-toggleable__content {max-height: 200px;max-width: 100%;overflow: auto;}#sk-container-id-2 input.sk-toggleable__control:checked~label.sk-toggleable__label-arrow:before {content: \"▾\";}#sk-container-id-2 div.sk-estimator input.sk-toggleable__control:checked~label.sk-toggleable__label {background-color: #d4ebff;}#sk-container-id-2 div.sk-label input.sk-toggleable__control:checked~label.sk-toggleable__label {background-color: #d4ebff;}#sk-container-id-2 input.sk-hidden--visually {border: 0;clip: rect(1px 1px 1px 1px);clip: rect(1px, 1px, 1px, 1px);height: 1px;margin: -1px;overflow: hidden;padding: 0;position: absolute;width: 1px;}#sk-container-id-2 div.sk-estimator {font-family: monospace;background-color: #f0f8ff;border: 1px dotted black;border-radius: 0.25em;box-sizing: border-box;margin-bottom: 0.5em;}#sk-container-id-2 div.sk-estimator:hover {background-color: #d4ebff;}#sk-container-id-2 div.sk-parallel-item::after {content: \"\";width: 100%;border-bottom: 1px solid gray;flex-grow: 1;}#sk-container-id-2 div.sk-label:hover label.sk-toggleable__label {background-color: #d4ebff;}#sk-container-id-2 div.sk-serial::before {content: \"\";position: absolute;border-left: 1px solid gray;box-sizing: border-box;top: 0;bottom: 0;left: 50%;z-index: 0;}#sk-container-id-2 div.sk-serial {display: flex;flex-direction: column;align-items: center;background-color: white;padding-right: 0.2em;padding-left: 0.2em;position: relative;}#sk-container-id-2 div.sk-item {position: relative;z-index: 1;}#sk-container-id-2 div.sk-parallel {display: flex;align-items: stretch;justify-content: center;background-color: white;position: relative;}#sk-container-id-2 div.sk-item::before, #sk-container-id-2 div.sk-parallel-item::before {content: \"\";position: absolute;border-left: 1px solid gray;box-sizing: border-box;top: 0;bottom: 0;left: 50%;z-index: -1;}#sk-container-id-2 div.sk-parallel-item {display: flex;flex-direction: column;z-index: 1;position: relative;background-color: white;}#sk-container-id-2 div.sk-parallel-item:first-child::after {align-self: flex-end;width: 50%;}#sk-container-id-2 div.sk-parallel-item:last-child::after {align-self: flex-start;width: 50%;}#sk-container-id-2 div.sk-parallel-item:only-child::after {width: 0;}#sk-container-id-2 div.sk-dashed-wrapped {border: 1px dashed gray;margin: 0 0.4em 0.5em 0.4em;box-sizing: border-box;padding-bottom: 0.4em;background-color: white;}#sk-container-id-2 div.sk-label label {font-family: monospace;font-weight: bold;display: inline-block;line-height: 1.2em;}#sk-container-id-2 div.sk-label-container {text-align: center;}#sk-container-id-2 div.sk-container {/* jupyter's `normalize.less` sets `[hidden] { display: none; }` but bootstrap.min.css set `[hidden] { display: none !important; }` so we also need the `!important` here to be able to override the default hidden behavior on the sphinx rendered scikit-learn.org. See: https://github.com/scikit-learn/scikit-learn/issues/21755 */display: inline-block !important;position: relative;}#sk-container-id-2 div.sk-text-repr-fallback {display: none;}</style><div id=\"sk-container-id-2\" class=\"sk-top-container\"><div class=\"sk-text-repr-fallback\"><pre>RandomForestRegressor(max_depth=13, random_state=12345)</pre><b>In a Jupyter environment, please rerun this cell to show the HTML representation or trust the notebook. <br />On GitHub, the HTML representation is unable to render, please try loading this page with nbviewer.org.</b></div><div class=\"sk-container\" hidden><div class=\"sk-item\"><div class=\"sk-estimator sk-toggleable\"><input class=\"sk-toggleable__control sk-hidden--visually\" id=\"sk-estimator-id-2\" type=\"checkbox\" checked><label for=\"sk-estimator-id-2\" class=\"sk-toggleable__label sk-toggleable__label-arrow\">RandomForestRegressor</label><div class=\"sk-toggleable__content\"><pre>RandomForestRegressor(max_depth=13, random_state=12345)</pre></div></div></div></div></div>"
      ],
      "text/plain": [
       "RandomForestRegressor(max_depth=13, random_state=12345)"
      ]
     },
     "execution_count": 73,
     "metadata": {},
     "output_type": "execute_result"
    }
   ],
   "source": [
    "%%time\n",
    "\n",
    "#время обучения\n",
    "model.fit(features_train_ordinal, target_train)"
   ]
  },
  {
   "cell_type": "code",
   "execution_count": 74,
   "metadata": {},
   "outputs": [
    {
     "name": "stdout",
     "output_type": "stream",
     "text": [
      "CPU times: total: 1.98 s\n",
      "Wall time: 1.99 s\n"
     ]
    }
   ],
   "source": [
    "%%time\n",
    "\n",
    "#время предсказания\n",
    "predicted_train_ordinal = model.predict(features_train_ordinal)"
   ]
  },
  {
   "cell_type": "code",
   "execution_count": 75,
   "metadata": {},
   "outputs": [],
   "source": [
    "random_forest_list = [28.2, 2.05, 30.25, 1433.12]"
   ]
  },
  {
   "cell_type": "markdown",
   "metadata": {},
   "source": [
    "**3. Линейная регрессия**"
   ]
  },
  {
   "cell_type": "code",
   "execution_count": 76,
   "metadata": {},
   "outputs": [],
   "source": [
    "#model = LinearRegression()\n",
    "#rmse = cross_val_score(model, features_train_ohe, target_train, scoring=scorer) ** 0.5\n",
    "#rmse"
   ]
  },
  {
   "attachments": {
    "%D0%A1%D0%BD%D0%B8%D0%BC%D0%BE%D0%BA%20%D1%8D%D0%BA%D1%80%D0%B0%D0%BD%D0%B0%202023-04-08%20154639.png": {
     "image/png": "[encoded data removed]"
    }
   },
   "cell_type": "markdown",
   "metadata": {},
   "source": [
    "![%D0%A1%D0%BD%D0%B8%D0%BC%D0%BE%D0%BA%20%D1%8D%D0%BA%D1%80%D0%B0%D0%BD%D0%B0%202023-04-08%20154639.png](attachment:%D0%A1%D0%BD%D0%B8%D0%BC%D0%BE%D0%BA%20%D1%8D%D0%BA%D1%80%D0%B0%D0%BD%D0%B0%202023-04-08%20154639.png)"
   ]
  },
  {
   "cell_type": "code",
   "execution_count": 77,
   "metadata": {},
   "outputs": [
    {
     "name": "stdout",
     "output_type": "stream",
     "text": [
      "RMSE линейной регрессии: 2135.3890606795567\n"
     ]
    }
   ],
   "source": [
    "model = LinearRegression()\n",
    "model.fit(features_train_linear_ohe, target_train_linear)\n",
    "predicted_valid_linear_ohe = model.predict(features_valid_linear_ohe)\n",
    "\n",
    "rmse = mean_squared_error(predicted_valid_linear_ohe, target_valid_linear) ** 0.5\n",
    "print('RMSE линейной регрессии:', rmse)"
   ]
  },
  {
   "cell_type": "code",
   "execution_count": 78,
   "metadata": {},
   "outputs": [
    {
     "name": "stdout",
     "output_type": "stream",
     "text": [
      "CPU times: total: 18.1 s\n",
      "Wall time: 6.28 s\n"
     ]
    },
    {
     "data": {
      "text/html": [
       "<style>#sk-container-id-3 {color: black;background-color: white;}#sk-container-id-3 pre{padding: 0;}#sk-container-id-3 div.sk-toggleable {background-color: white;}#sk-container-id-3 label.sk-toggleable__label {cursor: pointer;display: block;width: 100%;margin-bottom: 0;padding: 0.3em;box-sizing: border-box;text-align: center;}#sk-container-id-3 label.sk-toggleable__label-arrow:before {content: \"▸\";float: left;margin-right: 0.25em;color: #696969;}#sk-container-id-3 label.sk-toggleable__label-arrow:hover:before {color: black;}#sk-container-id-3 div.sk-estimator:hover label.sk-toggleable__label-arrow:before {color: black;}#sk-container-id-3 div.sk-toggleable__content {max-height: 0;max-width: 0;overflow: hidden;text-align: left;background-color: #f0f8ff;}#sk-container-id-3 div.sk-toggleable__content pre {margin: 0.2em;color: black;border-radius: 0.25em;background-color: #f0f8ff;}#sk-container-id-3 input.sk-toggleable__control:checked~div.sk-toggleable__content {max-height: 200px;max-width: 100%;overflow: auto;}#sk-container-id-3 input.sk-toggleable__control:checked~label.sk-toggleable__label-arrow:before {content: \"▾\";}#sk-container-id-3 div.sk-estimator input.sk-toggleable__control:checked~label.sk-toggleable__label {background-color: #d4ebff;}#sk-container-id-3 div.sk-label input.sk-toggleable__control:checked~label.sk-toggleable__label {background-color: #d4ebff;}#sk-container-id-3 input.sk-hidden--visually {border: 0;clip: rect(1px 1px 1px 1px);clip: rect(1px, 1px, 1px, 1px);height: 1px;margin: -1px;overflow: hidden;padding: 0;position: absolute;width: 1px;}#sk-container-id-3 div.sk-estimator {font-family: monospace;background-color: #f0f8ff;border: 1px dotted black;border-radius: 0.25em;box-sizing: border-box;margin-bottom: 0.5em;}#sk-container-id-3 div.sk-estimator:hover {background-color: #d4ebff;}#sk-container-id-3 div.sk-parallel-item::after {content: \"\";width: 100%;border-bottom: 1px solid gray;flex-grow: 1;}#sk-container-id-3 div.sk-label:hover label.sk-toggleable__label {background-color: #d4ebff;}#sk-container-id-3 div.sk-serial::before {content: \"\";position: absolute;border-left: 1px solid gray;box-sizing: border-box;top: 0;bottom: 0;left: 50%;z-index: 0;}#sk-container-id-3 div.sk-serial {display: flex;flex-direction: column;align-items: center;background-color: white;padding-right: 0.2em;padding-left: 0.2em;position: relative;}#sk-container-id-3 div.sk-item {position: relative;z-index: 1;}#sk-container-id-3 div.sk-parallel {display: flex;align-items: stretch;justify-content: center;background-color: white;position: relative;}#sk-container-id-3 div.sk-item::before, #sk-container-id-3 div.sk-parallel-item::before {content: \"\";position: absolute;border-left: 1px solid gray;box-sizing: border-box;top: 0;bottom: 0;left: 50%;z-index: -1;}#sk-container-id-3 div.sk-parallel-item {display: flex;flex-direction: column;z-index: 1;position: relative;background-color: white;}#sk-container-id-3 div.sk-parallel-item:first-child::after {align-self: flex-end;width: 50%;}#sk-container-id-3 div.sk-parallel-item:last-child::after {align-self: flex-start;width: 50%;}#sk-container-id-3 div.sk-parallel-item:only-child::after {width: 0;}#sk-container-id-3 div.sk-dashed-wrapped {border: 1px dashed gray;margin: 0 0.4em 0.5em 0.4em;box-sizing: border-box;padding-bottom: 0.4em;background-color: white;}#sk-container-id-3 div.sk-label label {font-family: monospace;font-weight: bold;display: inline-block;line-height: 1.2em;}#sk-container-id-3 div.sk-label-container {text-align: center;}#sk-container-id-3 div.sk-container {/* jupyter's `normalize.less` sets `[hidden] { display: none; }` but bootstrap.min.css set `[hidden] { display: none !important; }` so we also need the `!important` here to be able to override the default hidden behavior on the sphinx rendered scikit-learn.org. See: https://github.com/scikit-learn/scikit-learn/issues/21755 */display: inline-block !important;position: relative;}#sk-container-id-3 div.sk-text-repr-fallback {display: none;}</style><div id=\"sk-container-id-3\" class=\"sk-top-container\"><div class=\"sk-text-repr-fallback\"><pre>LinearRegression()</pre><b>In a Jupyter environment, please rerun this cell to show the HTML representation or trust the notebook. <br />On GitHub, the HTML representation is unable to render, please try loading this page with nbviewer.org.</b></div><div class=\"sk-container\" hidden><div class=\"sk-item\"><div class=\"sk-estimator sk-toggleable\"><input class=\"sk-toggleable__control sk-hidden--visually\" id=\"sk-estimator-id-3\" type=\"checkbox\" checked><label for=\"sk-estimator-id-3\" class=\"sk-toggleable__label sk-toggleable__label-arrow\">LinearRegression</label><div class=\"sk-toggleable__content\"><pre>LinearRegression()</pre></div></div></div></div></div>"
      ],
      "text/plain": [
       "LinearRegression()"
      ]
     },
     "execution_count": 78,
     "metadata": {},
     "output_type": "execute_result"
    }
   ],
   "source": [
    "%%time\n",
    "\n",
    "#время обучения\n",
    "model.fit(features_train_ohe, target_train)"
   ]
  },
  {
   "cell_type": "code",
   "execution_count": 79,
   "metadata": {},
   "outputs": [
    {
     "name": "stdout",
     "output_type": "stream",
     "text": [
      "CPU times: total: 625 ms\n",
      "Wall time: 165 ms\n"
     ]
    }
   ],
   "source": [
    "%%time\n",
    "\n",
    "#время предсказания\n",
    "predicted_train_ohe = model.predict(features_train_ohe)"
   ]
  },
  {
   "cell_type": "code",
   "execution_count": 80,
   "metadata": {},
   "outputs": [],
   "source": [
    "linear_regression_list = [19.7, 0.203, 19.903, 2135.39]"
   ]
  },
  {
   "cell_type": "markdown",
   "metadata": {},
   "source": [
    "**4. LightGBM**"
   ]
  },
  {
   "cell_type": "markdown",
   "metadata": {},
   "source": [
    "<div class=\"alert alert-info\" style=\"border:solid purple 2px; padding: 20px; background-color: #e6d2f2; color: #4b0082;\">\n",
    "\n",
    "Я выбрала модель LightGBM с глубиной 12 и количеством деревьев 100."
   ]
  },
  {
   "cell_type": "code",
   "execution_count": 81,
   "metadata": {},
   "outputs": [
    {
     "name": "stdout",
     "output_type": "stream",
     "text": [
      "RMSE LightGBM: 1402.5141072489073\n"
     ]
    }
   ],
   "source": [
    "model = lgb.LGBMRegressor(max_depth=12, n_estimators=100, random_state=12345)\n",
    "rmse = (cross_val_score(model, features_train_ordinal, target_train, scoring=scorer) ** 0.5).mean()\n",
    "print('RMSE LightGBM:', rmse)"
   ]
  },
  {
   "cell_type": "code",
   "execution_count": 82,
   "metadata": {},
   "outputs": [
    {
     "name": "stdout",
     "output_type": "stream",
     "text": [
      "CPU times: total: 4.03 s\n",
      "Wall time: 573 ms\n"
     ]
    },
    {
     "data": {
      "text/html": [
       "<style>#sk-container-id-4 {color: black;background-color: white;}#sk-container-id-4 pre{padding: 0;}#sk-container-id-4 div.sk-toggleable {background-color: white;}#sk-container-id-4 label.sk-toggleable__label {cursor: pointer;display: block;width: 100%;margin-bottom: 0;padding: 0.3em;box-sizing: border-box;text-align: center;}#sk-container-id-4 label.sk-toggleable__label-arrow:before {content: \"▸\";float: left;margin-right: 0.25em;color: #696969;}#sk-container-id-4 label.sk-toggleable__label-arrow:hover:before {color: black;}#sk-container-id-4 div.sk-estimator:hover label.sk-toggleable__label-arrow:before {color: black;}#sk-container-id-4 div.sk-toggleable__content {max-height: 0;max-width: 0;overflow: hidden;text-align: left;background-color: #f0f8ff;}#sk-container-id-4 div.sk-toggleable__content pre {margin: 0.2em;color: black;border-radius: 0.25em;background-color: #f0f8ff;}#sk-container-id-4 input.sk-toggleable__control:checked~div.sk-toggleable__content {max-height: 200px;max-width: 100%;overflow: auto;}#sk-container-id-4 input.sk-toggleable__control:checked~label.sk-toggleable__label-arrow:before {content: \"▾\";}#sk-container-id-4 div.sk-estimator input.sk-toggleable__control:checked~label.sk-toggleable__label {background-color: #d4ebff;}#sk-container-id-4 div.sk-label input.sk-toggleable__control:checked~label.sk-toggleable__label {background-color: #d4ebff;}#sk-container-id-4 input.sk-hidden--visually {border: 0;clip: rect(1px 1px 1px 1px);clip: rect(1px, 1px, 1px, 1px);height: 1px;margin: -1px;overflow: hidden;padding: 0;position: absolute;width: 1px;}#sk-container-id-4 div.sk-estimator {font-family: monospace;background-color: #f0f8ff;border: 1px dotted black;border-radius: 0.25em;box-sizing: border-box;margin-bottom: 0.5em;}#sk-container-id-4 div.sk-estimator:hover {background-color: #d4ebff;}#sk-container-id-4 div.sk-parallel-item::after {content: \"\";width: 100%;border-bottom: 1px solid gray;flex-grow: 1;}#sk-container-id-4 div.sk-label:hover label.sk-toggleable__label {background-color: #d4ebff;}#sk-container-id-4 div.sk-serial::before {content: \"\";position: absolute;border-left: 1px solid gray;box-sizing: border-box;top: 0;bottom: 0;left: 50%;z-index: 0;}#sk-container-id-4 div.sk-serial {display: flex;flex-direction: column;align-items: center;background-color: white;padding-right: 0.2em;padding-left: 0.2em;position: relative;}#sk-container-id-4 div.sk-item {position: relative;z-index: 1;}#sk-container-id-4 div.sk-parallel {display: flex;align-items: stretch;justify-content: center;background-color: white;position: relative;}#sk-container-id-4 div.sk-item::before, #sk-container-id-4 div.sk-parallel-item::before {content: \"\";position: absolute;border-left: 1px solid gray;box-sizing: border-box;top: 0;bottom: 0;left: 50%;z-index: -1;}#sk-container-id-4 div.sk-parallel-item {display: flex;flex-direction: column;z-index: 1;position: relative;background-color: white;}#sk-container-id-4 div.sk-parallel-item:first-child::after {align-self: flex-end;width: 50%;}#sk-container-id-4 div.sk-parallel-item:last-child::after {align-self: flex-start;width: 50%;}#sk-container-id-4 div.sk-parallel-item:only-child::after {width: 0;}#sk-container-id-4 div.sk-dashed-wrapped {border: 1px dashed gray;margin: 0 0.4em 0.5em 0.4em;box-sizing: border-box;padding-bottom: 0.4em;background-color: white;}#sk-container-id-4 div.sk-label label {font-family: monospace;font-weight: bold;display: inline-block;line-height: 1.2em;}#sk-container-id-4 div.sk-label-container {text-align: center;}#sk-container-id-4 div.sk-container {/* jupyter's `normalize.less` sets `[hidden] { display: none; }` but bootstrap.min.css set `[hidden] { display: none !important; }` so we also need the `!important` here to be able to override the default hidden behavior on the sphinx rendered scikit-learn.org. See: https://github.com/scikit-learn/scikit-learn/issues/21755 */display: inline-block !important;position: relative;}#sk-container-id-4 div.sk-text-repr-fallback {display: none;}</style><div id=\"sk-container-id-4\" class=\"sk-top-container\"><div class=\"sk-text-repr-fallback\"><pre>LGBMRegressor(max_depth=12, random_state=12345)</pre><b>In a Jupyter environment, please rerun this cell to show the HTML representation or trust the notebook. <br />On GitHub, the HTML representation is unable to render, please try loading this page with nbviewer.org.</b></div><div class=\"sk-container\" hidden><div class=\"sk-item\"><div class=\"sk-estimator sk-toggleable\"><input class=\"sk-toggleable__control sk-hidden--visually\" id=\"sk-estimator-id-4\" type=\"checkbox\" checked><label for=\"sk-estimator-id-4\" class=\"sk-toggleable__label sk-toggleable__label-arrow\">LGBMRegressor</label><div class=\"sk-toggleable__content\"><pre>LGBMRegressor(max_depth=12, random_state=12345)</pre></div></div></div></div></div>"
      ],
      "text/plain": [
       "LGBMRegressor(max_depth=12, random_state=12345)"
      ]
     },
     "execution_count": 82,
     "metadata": {},
     "output_type": "execute_result"
    }
   ],
   "source": [
    "%%time\n",
    "\n",
    "#время обучения\n",
    "model.fit(features_train_ordinal, target_train)"
   ]
  },
  {
   "cell_type": "code",
   "execution_count": 83,
   "metadata": {},
   "outputs": [
    {
     "name": "stdout",
     "output_type": "stream",
     "text": [
      "CPU times: total: 1.52 s\n",
      "Wall time: 209 ms\n"
     ]
    }
   ],
   "source": [
    "%%time\n",
    "\n",
    "#время предсказания\n",
    "predicted_train_ordinal = model.predict(features_train_ordinal)"
   ]
  },
  {
   "cell_type": "code",
   "execution_count": 84,
   "metadata": {},
   "outputs": [],
   "source": [
    "light_gbm_list = [3.36, 1.31, 4.67, 1402.51]"
   ]
  },
  {
   "cell_type": "markdown",
   "metadata": {},
   "source": [
    "**5. Подведу итоги**"
   ]
  },
  {
   "cell_type": "code",
   "execution_count": 85,
   "metadata": {},
   "outputs": [
    {
     "data": {
      "text/html": [
       "<div>\n",
       "<style scoped>\n",
       "    .dataframe tbody tr th:only-of-type {\n",
       "        vertical-align: middle;\n",
       "    }\n",
       "\n",
       "    .dataframe tbody tr th {\n",
       "        vertical-align: top;\n",
       "    }\n",
       "\n",
       "    .dataframe thead th {\n",
       "        text-align: right;\n",
       "    }\n",
       "</style>\n",
       "<table border=\"1\" class=\"dataframe\">\n",
       "  <thead>\n",
       "    <tr style=\"text-align: right;\">\n",
       "      <th></th>\n",
       "      <th>Decision Tree</th>\n",
       "      <th>Random Forest</th>\n",
       "      <th>Linear Regression</th>\n",
       "      <th>LightGBM</th>\n",
       "    </tr>\n",
       "  </thead>\n",
       "  <tbody>\n",
       "    <tr>\n",
       "      <th>Время обучения</th>\n",
       "      <td>1.140</td>\n",
       "      <td>28.20</td>\n",
       "      <td>19.700</td>\n",
       "      <td>3.36</td>\n",
       "    </tr>\n",
       "    <tr>\n",
       "      <th>Время предсказания</th>\n",
       "      <td>0.109</td>\n",
       "      <td>2.05</td>\n",
       "      <td>0.203</td>\n",
       "      <td>1.31</td>\n",
       "    </tr>\n",
       "    <tr>\n",
       "      <th>Общее время</th>\n",
       "      <td>1.249</td>\n",
       "      <td>30.25</td>\n",
       "      <td>19.903</td>\n",
       "      <td>4.67</td>\n",
       "    </tr>\n",
       "    <tr>\n",
       "      <th>RMSE</th>\n",
       "      <td>1581.250</td>\n",
       "      <td>1433.12</td>\n",
       "      <td>2135.390</td>\n",
       "      <td>1402.51</td>\n",
       "    </tr>\n",
       "  </tbody>\n",
       "</table>\n",
       "</div>"
      ],
      "text/plain": [
       "                    Decision Tree  Random Forest  Linear Regression  LightGBM\n",
       "Время обучения              1.140          28.20             19.700      3.36\n",
       "Время предсказания          0.109           2.05              0.203      1.31\n",
       "Общее время                 1.249          30.25             19.903      4.67\n",
       "RMSE                     1581.250        1433.12           2135.390   1402.51"
      ]
     },
     "execution_count": 85,
     "metadata": {},
     "output_type": "execute_result"
    }
   ],
   "source": [
    "pd.DataFrame(data = {\n",
    "    'Decision Tree': decision_tree_list,\n",
    "    'Random Forest': random_forest_list,\n",
    "    'Linear Regression': linear_regression_list,\n",
    "    'LightGBM': light_gbm_list,\n",
    "},\n",
    "            index=['Время обучения', 'Время предсказания', 'Общее время', 'RMSE'])"
   ]
  },
  {
   "cell_type": "code",
   "execution_count": 86,
   "metadata": {
    "scrolled": true
   },
   "outputs": [
    {
     "data": {
      "text/html": [
       "<div>\n",
       "<style scoped>\n",
       "    .dataframe tbody tr th:only-of-type {\n",
       "        vertical-align: middle;\n",
       "    }\n",
       "\n",
       "    .dataframe tbody tr th {\n",
       "        vertical-align: top;\n",
       "    }\n",
       "\n",
       "    .dataframe thead th {\n",
       "        text-align: right;\n",
       "    }\n",
       "</style>\n",
       "<table border=\"1\" class=\"dataframe\">\n",
       "  <thead>\n",
       "    <tr style=\"text-align: right;\">\n",
       "      <th></th>\n",
       "      <th>Decision Tree</th>\n",
       "      <th>Random Forest</th>\n",
       "      <th>Linear Regression</th>\n",
       "      <th>LightGBM</th>\n",
       "    </tr>\n",
       "  </thead>\n",
       "  <tbody>\n",
       "    <tr>\n",
       "      <th>Скорость обучения</th>\n",
       "      <td>очень высокая</td>\n",
       "      <td>низкая</td>\n",
       "      <td>низкая</td>\n",
       "      <td>высокая</td>\n",
       "    </tr>\n",
       "    <tr>\n",
       "      <th>Скорость предсказания</th>\n",
       "      <td>очень высокая</td>\n",
       "      <td>очень высокая</td>\n",
       "      <td>очень высокая</td>\n",
       "      <td>очень высокая</td>\n",
       "    </tr>\n",
       "    <tr>\n",
       "      <th>Общая скорость</th>\n",
       "      <td>очень высокая</td>\n",
       "      <td>низкая</td>\n",
       "      <td>низкая</td>\n",
       "      <td>высокое</td>\n",
       "    </tr>\n",
       "    <tr>\n",
       "      <th>Качество</th>\n",
       "      <td>высокое</td>\n",
       "      <td>среднее</td>\n",
       "      <td>низкая</td>\n",
       "      <td>очень высокое</td>\n",
       "    </tr>\n",
       "  </tbody>\n",
       "</table>\n",
       "</div>"
      ],
      "text/plain": [
       "                       Decision Tree  Random Forest Linear Regression  \\\n",
       "Скорость обучения      очень высокая         низкая            низкая   \n",
       "Скорость предсказания  очень высокая  очень высокая     очень высокая   \n",
       "Общая скорость         очень высокая         низкая            низкая   \n",
       "Качество                     высокое        среднее            низкая   \n",
       "\n",
       "                            LightGBM  \n",
       "Скорость обучения            высокая  \n",
       "Скорость предсказания  очень высокая  \n",
       "Общая скорость               высокое  \n",
       "Качество               очень высокое  "
      ]
     },
     "execution_count": 86,
     "metadata": {},
     "output_type": "execute_result"
    }
   ],
   "source": [
    "pd.DataFrame(data = {\n",
    "    'Decision Tree': ['очень высокая', 'очень высокая', 'очень высокая', 'высокое'],\n",
    "    'Random Forest': ['низкая', 'очень высокая', 'низкая', 'среднее'],\n",
    "    'Linear Regression': ['низкая', 'очень высокая', 'низкая', 'низкая'],\n",
    "    'LightGBM': ['высокая', 'очень высокая', 'высокое', 'очень высокое'],\n",
    "},\n",
    "            index=['Скорость обучения', 'Скорость предсказания', 'Общая скорость', 'Качество'])"
   ]
  },
  {
   "cell_type": "markdown",
   "metadata": {},
   "source": [
    "<div class=\"alert alert-info\" style=\"border:solid purple 2px; padding: 20px; background-color: #e6d2f2; color: #4b0082;\">\n",
    "\n",
    "Заказчику можно предложить модель **LightGBM с максимальной глубиной 12 и количеством деревьев 100**, т.к. скорость работы у неё высокая, а качество очень высокое."
   ]
  },
  {
   "cell_type": "markdown",
   "metadata": {},
   "source": [
    "<div class=\"alert alert-info\" style=\"border:solid purple 2px; padding: 20px; background-color: #e6d2f2; color: #4b0082;\">\n",
    "\n",
    "Вывод: в этом разделе я подобрала гиперпараметры для моделей дерева решений, случайного леса и LightGBM с помощью GridSearchCV. Лучшими оказались:\n",
    "- Дерево решений: максимальная глубина - 13\n",
    "- Случайный лес: количество деревьев - 100\n",
    "- LightGBM: максимальная глубина - 12, количество деревьев - 100\n",
    "\n",
    "Я нашла и проанализировала время обучения, время предсказания и качество модели. Модели дерева решений и случайного леса дали высокие и средние результаты соответственно, худший результат дала модель линейной регрессии, лучший - модель LightGBM."
   ]
  },
  {
   "cell_type": "markdown",
   "metadata": {},
   "source": [
    "## Тестирование лучшей модели"
   ]
  },
  {
   "cell_type": "code",
   "execution_count": 87,
   "metadata": {},
   "outputs": [
    {
     "name": "stdout",
     "output_type": "stream",
     "text": [
      "CPU times: total: 2.75 s\n",
      "Wall time: 405 ms\n"
     ]
    },
    {
     "data": {
      "text/html": [
       "<style>#sk-container-id-5 {color: black;background-color: white;}#sk-container-id-5 pre{padding: 0;}#sk-container-id-5 div.sk-toggleable {background-color: white;}#sk-container-id-5 label.sk-toggleable__label {cursor: pointer;display: block;width: 100%;margin-bottom: 0;padding: 0.3em;box-sizing: border-box;text-align: center;}#sk-container-id-5 label.sk-toggleable__label-arrow:before {content: \"▸\";float: left;margin-right: 0.25em;color: #696969;}#sk-container-id-5 label.sk-toggleable__label-arrow:hover:before {color: black;}#sk-container-id-5 div.sk-estimator:hover label.sk-toggleable__label-arrow:before {color: black;}#sk-container-id-5 div.sk-toggleable__content {max-height: 0;max-width: 0;overflow: hidden;text-align: left;background-color: #f0f8ff;}#sk-container-id-5 div.sk-toggleable__content pre {margin: 0.2em;color: black;border-radius: 0.25em;background-color: #f0f8ff;}#sk-container-id-5 input.sk-toggleable__control:checked~div.sk-toggleable__content {max-height: 200px;max-width: 100%;overflow: auto;}#sk-container-id-5 input.sk-toggleable__control:checked~label.sk-toggleable__label-arrow:before {content: \"▾\";}#sk-container-id-5 div.sk-estimator input.sk-toggleable__control:checked~label.sk-toggleable__label {background-color: #d4ebff;}#sk-container-id-5 div.sk-label input.sk-toggleable__control:checked~label.sk-toggleable__label {background-color: #d4ebff;}#sk-container-id-5 input.sk-hidden--visually {border: 0;clip: rect(1px 1px 1px 1px);clip: rect(1px, 1px, 1px, 1px);height: 1px;margin: -1px;overflow: hidden;padding: 0;position: absolute;width: 1px;}#sk-container-id-5 div.sk-estimator {font-family: monospace;background-color: #f0f8ff;border: 1px dotted black;border-radius: 0.25em;box-sizing: border-box;margin-bottom: 0.5em;}#sk-container-id-5 div.sk-estimator:hover {background-color: #d4ebff;}#sk-container-id-5 div.sk-parallel-item::after {content: \"\";width: 100%;border-bottom: 1px solid gray;flex-grow: 1;}#sk-container-id-5 div.sk-label:hover label.sk-toggleable__label {background-color: #d4ebff;}#sk-container-id-5 div.sk-serial::before {content: \"\";position: absolute;border-left: 1px solid gray;box-sizing: border-box;top: 0;bottom: 0;left: 50%;z-index: 0;}#sk-container-id-5 div.sk-serial {display: flex;flex-direction: column;align-items: center;background-color: white;padding-right: 0.2em;padding-left: 0.2em;position: relative;}#sk-container-id-5 div.sk-item {position: relative;z-index: 1;}#sk-container-id-5 div.sk-parallel {display: flex;align-items: stretch;justify-content: center;background-color: white;position: relative;}#sk-container-id-5 div.sk-item::before, #sk-container-id-5 div.sk-parallel-item::before {content: \"\";position: absolute;border-left: 1px solid gray;box-sizing: border-box;top: 0;bottom: 0;left: 50%;z-index: -1;}#sk-container-id-5 div.sk-parallel-item {display: flex;flex-direction: column;z-index: 1;position: relative;background-color: white;}#sk-container-id-5 div.sk-parallel-item:first-child::after {align-self: flex-end;width: 50%;}#sk-container-id-5 div.sk-parallel-item:last-child::after {align-self: flex-start;width: 50%;}#sk-container-id-5 div.sk-parallel-item:only-child::after {width: 0;}#sk-container-id-5 div.sk-dashed-wrapped {border: 1px dashed gray;margin: 0 0.4em 0.5em 0.4em;box-sizing: border-box;padding-bottom: 0.4em;background-color: white;}#sk-container-id-5 div.sk-label label {font-family: monospace;font-weight: bold;display: inline-block;line-height: 1.2em;}#sk-container-id-5 div.sk-label-container {text-align: center;}#sk-container-id-5 div.sk-container {/* jupyter's `normalize.less` sets `[hidden] { display: none; }` but bootstrap.min.css set `[hidden] { display: none !important; }` so we also need the `!important` here to be able to override the default hidden behavior on the sphinx rendered scikit-learn.org. See: https://github.com/scikit-learn/scikit-learn/issues/21755 */display: inline-block !important;position: relative;}#sk-container-id-5 div.sk-text-repr-fallback {display: none;}</style><div id=\"sk-container-id-5\" class=\"sk-top-container\"><div class=\"sk-text-repr-fallback\"><pre>LGBMRegressor(max_depth=12, random_state=12345)</pre><b>In a Jupyter environment, please rerun this cell to show the HTML representation or trust the notebook. <br />On GitHub, the HTML representation is unable to render, please try loading this page with nbviewer.org.</b></div><div class=\"sk-container\" hidden><div class=\"sk-item\"><div class=\"sk-estimator sk-toggleable\"><input class=\"sk-toggleable__control sk-hidden--visually\" id=\"sk-estimator-id-5\" type=\"checkbox\" checked><label for=\"sk-estimator-id-5\" class=\"sk-toggleable__label sk-toggleable__label-arrow\">LGBMRegressor</label><div class=\"sk-toggleable__content\"><pre>LGBMRegressor(max_depth=12, random_state=12345)</pre></div></div></div></div></div>"
      ],
      "text/plain": [
       "LGBMRegressor(max_depth=12, random_state=12345)"
      ]
     },
     "execution_count": 87,
     "metadata": {},
     "output_type": "execute_result"
    }
   ],
   "source": [
    "%%time\n",
    "\n",
    "model = lgb.LGBMRegressor(max_depth=12, n_estimators=100, random_state=12345)\n",
    "model.fit(features_train_ordinal, target_train)"
   ]
  },
  {
   "cell_type": "code",
   "execution_count": 88,
   "metadata": {},
   "outputs": [
    {
     "name": "stdout",
     "output_type": "stream",
     "text": [
      "CPU times: total: 500 ms\n",
      "Wall time: 92.6 ms\n"
     ]
    }
   ],
   "source": [
    "%%time\n",
    "\n",
    "predicted_test_ordinal = model.predict(features_test_ordinal)"
   ]
  },
  {
   "cell_type": "code",
   "execution_count": 89,
   "metadata": {},
   "outputs": [
    {
     "name": "stdout",
     "output_type": "stream",
     "text": [
      "RMSE на тестовой выборке: 1421.8535298681409\n"
     ]
    }
   ],
   "source": [
    "rmse = mean_squared_error(target_test, predicted_test_ordinal) ** 0.5\n",
    "print('RMSE на тестовой выборке:', rmse)"
   ]
  },
  {
   "cell_type": "markdown",
   "metadata": {},
   "source": [
    "<div class=\"alert alert-info\" style=\"border:solid purple 2px; padding: 20px; background-color: #e6d2f2; color: #4b0082;\">\n",
    "\n",
    "RMSE лучшей модели на тестовой выборке составило 1421.85, время обучения - 7.94 секунды, время предсказания - 1.28 секунды, общее время работы - 9.22 секунды."
   ]
  },
  {
   "cell_type": "markdown",
   "metadata": {},
   "source": [
    "<div class=\"alert alert-info\" style=\"border:solid purple 2px; padding: 20px; background-color: #e6d2f2; color: #4b0082;\">\n",
    "\n",
    "**ОБЩИЙ ВЫВОД**\n",
    "\n",
    "В проекте я:\n",
    "1) произвела предобработку данных\n",
    "- удалила неинформативные данные\n",
    "- проверила данные на дубликаты и удалила их\n",
    "- проверила признаки на корреляцию с целевым признаком\n",
    "- изучила и устранила пропуски\n",
    "- изучила и устранила аномалии\n",
    "\n",
    "До предобработки было 354369 строк и 16 столбцов. После предобработки осталось 257821 строк и 10 столбцов.\n",
    "\n",
    "2) изучила модели\n",
    "- подобрала гиперпараметры для моделей дерева решений, случайного леса и LightGBM с помощью GridSearchCV\n",
    "- нашла и проанализировала время обучения, время предсказания и качество модели\n",
    "\n",
    "3) сделала выводы\n",
    "\n",
    "- лучший результат дала модель LightGBM с максимальной глубиной 12 и количеством деревьев 100\n",
    "\n",
    "- модель дерева решений дала высокий результат\n",
    "\n",
    "- модель случайного леса дала средний результат\n",
    "\n",
    "- я предложила заказчику модель LightGBM с максимальной глубиной 12 и количеством деревьев 100, т.к. скорость работы у неё высокая, а качество очень высокое. **RMSE лучшей модели на тестовой выборке составило 1421.85, время обучения - 7.94 секунды, время предсказания - 1.28 секунды, общее время работы - 9.22 секунды.**"
   ]
  }
 ],
 "metadata": {
  "ExecuteTimeLog": [
   {
    "duration": 68,
    "start_time": "2023-03-28T16:30:20.604Z"
   },
   {
    "duration": 410,
    "start_time": "2023-03-28T16:30:24.081Z"
   },
   {
    "duration": 3043,
    "start_time": "2023-03-28T16:30:24.747Z"
   },
   {
    "duration": 162,
    "start_time": "2023-03-28T16:32:24.832Z"
   },
   {
    "duration": 30,
    "start_time": "2023-03-28T16:35:45.447Z"
   },
   {
    "duration": 427,
    "start_time": "2023-03-28T16:39:27.899Z"
   },
   {
    "duration": 786,
    "start_time": "2023-03-28T16:39:28.328Z"
   },
   {
    "duration": 144,
    "start_time": "2023-03-28T16:39:29.116Z"
   },
   {
    "duration": 18,
    "start_time": "2023-03-28T16:39:29.262Z"
   },
   {
    "duration": 454,
    "start_time": "2023-03-28T16:40:21.208Z"
   },
   {
    "duration": 996,
    "start_time": "2023-03-28T16:40:21.664Z"
   },
   {
    "duration": 190,
    "start_time": "2023-03-28T16:40:22.663Z"
   },
   {
    "duration": 21,
    "start_time": "2023-03-28T16:40:22.856Z"
   },
   {
    "duration": 224,
    "start_time": "2023-03-28T16:40:22.880Z"
   },
   {
    "duration": 214,
    "start_time": "2023-03-28T16:40:40.408Z"
   },
   {
    "duration": 54,
    "start_time": "2023-03-28T17:11:40.519Z"
   },
   {
    "duration": 502,
    "start_time": "2023-03-28T17:11:45.600Z"
   },
   {
    "duration": 3199,
    "start_time": "2023-03-28T17:11:46.104Z"
   },
   {
    "duration": 179,
    "start_time": "2023-03-28T17:11:49.306Z"
   },
   {
    "duration": 30,
    "start_time": "2023-03-28T17:11:49.487Z"
   },
   {
    "duration": 534,
    "start_time": "2023-03-28T17:11:49.520Z"
   },
   {
    "duration": 477,
    "start_time": "2023-03-28T18:06:56.181Z"
   },
   {
    "duration": 548,
    "start_time": "2023-03-28T18:07:38.742Z"
   },
   {
    "duration": 991,
    "start_time": "2023-03-28T18:07:45.114Z"
   },
   {
    "duration": 1037,
    "start_time": "2023-03-28T18:07:49.965Z"
   },
   {
    "duration": 59763,
    "start_time": "2023-03-28T18:09:03.343Z"
   },
   {
    "duration": 228,
    "start_time": "2023-03-28T18:10:14.078Z"
   },
   {
    "duration": 4,
    "start_time": "2023-03-28T18:15:35.831Z"
   },
   {
    "duration": 177,
    "start_time": "2023-03-28T18:16:49.380Z"
   },
   {
    "duration": 3,
    "start_time": "2023-03-28T18:37:43.432Z"
   },
   {
    "duration": 10,
    "start_time": "2023-03-28T18:47:46.650Z"
   },
   {
    "duration": 1051,
    "start_time": "2023-03-28T18:48:50.611Z"
   },
   {
    "duration": 47,
    "start_time": "2023-03-28T18:48:55.382Z"
   },
   {
    "duration": 4,
    "start_time": "2023-03-28T18:49:01.221Z"
   },
   {
    "duration": 87,
    "start_time": "2023-03-28T18:49:04.163Z"
   },
   {
    "duration": 1438,
    "start_time": "2023-03-28T18:49:24.695Z"
   },
   {
    "duration": 1110,
    "start_time": "2023-03-28T18:49:26.136Z"
   },
   {
    "duration": 158,
    "start_time": "2023-03-28T18:49:27.248Z"
   },
   {
    "duration": 9,
    "start_time": "2023-03-28T18:49:27.408Z"
   },
   {
    "duration": 47,
    "start_time": "2023-03-28T18:49:27.420Z"
   },
   {
    "duration": 489,
    "start_time": "2023-03-28T18:49:27.469Z"
   },
   {
    "duration": 542,
    "start_time": "2023-03-28T18:49:27.960Z"
   },
   {
    "duration": 1230,
    "start_time": "2023-03-28T18:49:28.504Z"
   },
   {
    "duration": 4,
    "start_time": "2023-03-28T18:49:29.736Z"
   },
   {
    "duration": 205,
    "start_time": "2023-03-28T18:49:29.742Z"
   },
   {
    "duration": 0,
    "start_time": "2023-03-28T18:49:29.949Z"
   },
   {
    "duration": 30,
    "start_time": "2023-03-28T18:50:09.094Z"
   },
   {
    "duration": 1741,
    "start_time": "2023-03-28T18:51:09.436Z"
   },
   {
    "duration": 2179,
    "start_time": "2023-03-28T18:52:55.856Z"
   },
   {
    "duration": 2062,
    "start_time": "2023-03-28T18:53:46.301Z"
   },
   {
    "duration": 1739,
    "start_time": "2023-03-28T18:54:08.856Z"
   },
   {
    "duration": 4903,
    "start_time": "2023-03-28T18:54:20.542Z"
   },
   {
    "duration": 4830,
    "start_time": "2023-03-28T18:54:34.834Z"
   },
   {
    "duration": 4944,
    "start_time": "2023-03-28T18:54:47.687Z"
   },
   {
    "duration": 1155,
    "start_time": "2023-03-28T21:17:13.534Z"
   },
   {
    "duration": 1008,
    "start_time": "2023-03-28T21:17:14.691Z"
   },
   {
    "duration": 192,
    "start_time": "2023-03-28T21:17:15.702Z"
   },
   {
    "duration": 4,
    "start_time": "2023-03-28T21:17:15.896Z"
   },
   {
    "duration": 66,
    "start_time": "2023-03-28T21:17:15.903Z"
   },
   {
    "duration": 581,
    "start_time": "2023-03-28T21:17:15.971Z"
   },
   {
    "duration": 627,
    "start_time": "2023-03-28T21:17:16.554Z"
   },
   {
    "duration": 1302,
    "start_time": "2023-03-28T21:17:17.184Z"
   },
   {
    "duration": 4,
    "start_time": "2023-03-28T21:17:18.488Z"
   },
   {
    "duration": 77,
    "start_time": "2023-03-28T21:17:18.494Z"
   },
   {
    "duration": 5454,
    "start_time": "2023-03-28T21:17:18.574Z"
   },
   {
    "duration": 21,
    "start_time": "2023-03-28T21:17:24.030Z"
   },
   {
    "duration": 233,
    "start_time": "2023-03-28T21:17:24.057Z"
   },
   {
    "duration": 3,
    "start_time": "2023-03-28T21:17:40.037Z"
   },
   {
    "duration": 64,
    "start_time": "2023-03-28T21:17:45.504Z"
   },
   {
    "duration": 412,
    "start_time": "2023-03-28T21:17:53.940Z"
   },
   {
    "duration": 43,
    "start_time": "2023-03-28T21:18:06.763Z"
   },
   {
    "duration": 14,
    "start_time": "2023-03-28T21:18:11.706Z"
   },
   {
    "duration": 1192,
    "start_time": "2023-03-28T21:18:19.364Z"
   },
   {
    "duration": 1106,
    "start_time": "2023-03-28T21:18:20.560Z"
   },
   {
    "duration": 172,
    "start_time": "2023-03-28T21:18:21.668Z"
   },
   {
    "duration": 39,
    "start_time": "2023-03-28T21:18:21.845Z"
   },
   {
    "duration": 104,
    "start_time": "2023-03-28T21:18:21.887Z"
   },
   {
    "duration": 578,
    "start_time": "2023-03-28T21:18:21.995Z"
   },
   {
    "duration": 778,
    "start_time": "2023-03-28T21:18:22.576Z"
   },
   {
    "duration": 1234,
    "start_time": "2023-03-28T21:18:23.356Z"
   },
   {
    "duration": 5,
    "start_time": "2023-03-28T21:18:24.592Z"
   },
   {
    "duration": 53,
    "start_time": "2023-03-28T21:18:24.601Z"
   },
   {
    "duration": 5556,
    "start_time": "2023-03-28T21:18:24.657Z"
   },
   {
    "duration": 35,
    "start_time": "2023-03-28T21:18:30.215Z"
   },
   {
    "duration": 558,
    "start_time": "2023-03-28T21:18:30.252Z"
   },
   {
    "duration": 7,
    "start_time": "2023-03-28T21:19:56.597Z"
   },
   {
    "duration": 5375,
    "start_time": "2023-03-28T21:20:38.617Z"
   },
   {
    "duration": 41,
    "start_time": "2023-03-28T21:20:43.994Z"
   },
   {
    "duration": 357,
    "start_time": "2023-03-28T21:20:44.038Z"
   },
   {
    "duration": 1053,
    "start_time": "2023-03-29T14:03:33.806Z"
   },
   {
    "duration": 1068,
    "start_time": "2023-03-29T14:03:34.862Z"
   },
   {
    "duration": 114,
    "start_time": "2023-03-29T14:03:35.932Z"
   },
   {
    "duration": 3,
    "start_time": "2023-03-29T14:03:36.048Z"
   },
   {
    "duration": 21,
    "start_time": "2023-03-29T14:03:36.053Z"
   },
   {
    "duration": 581,
    "start_time": "2023-03-29T14:03:36.076Z"
   },
   {
    "duration": 475,
    "start_time": "2023-03-29T14:03:36.659Z"
   },
   {
    "duration": 1031,
    "start_time": "2023-03-29T14:03:37.136Z"
   },
   {
    "duration": 3,
    "start_time": "2023-03-29T14:03:38.169Z"
   },
   {
    "duration": 36,
    "start_time": "2023-03-29T14:03:38.174Z"
   },
   {
    "duration": 5741,
    "start_time": "2023-03-29T14:03:38.212Z"
   },
   {
    "duration": 461,
    "start_time": "2023-03-29T14:03:43.955Z"
   },
   {
    "duration": 19,
    "start_time": "2023-03-29T14:04:08.334Z"
   },
   {
    "duration": 85,
    "start_time": "2023-03-29T18:35:46.066Z"
   },
   {
    "duration": 2,
    "start_time": "2023-03-29T18:35:54.743Z"
   },
   {
    "duration": 1081,
    "start_time": "2023-03-29T18:35:58.566Z"
   },
   {
    "duration": 3336,
    "start_time": "2023-03-29T18:35:59.649Z"
   },
   {
    "duration": 121,
    "start_time": "2023-03-29T18:36:02.987Z"
   },
   {
    "duration": 3,
    "start_time": "2023-03-29T18:36:03.110Z"
   },
   {
    "duration": 33,
    "start_time": "2023-03-29T18:36:03.115Z"
   },
   {
    "duration": 661,
    "start_time": "2023-03-29T18:36:03.150Z"
   },
   {
    "duration": 578,
    "start_time": "2023-03-29T18:36:03.814Z"
   },
   {
    "duration": 1136,
    "start_time": "2023-03-29T18:36:04.394Z"
   },
   {
    "duration": 9,
    "start_time": "2023-03-29T18:36:05.532Z"
   },
   {
    "duration": 30,
    "start_time": "2023-03-29T18:36:05.543Z"
   },
   {
    "duration": 7389,
    "start_time": "2023-03-29T18:36:05.574Z"
   },
   {
    "duration": 18,
    "start_time": "2023-03-29T18:36:12.965Z"
   },
   {
    "duration": 2479,
    "start_time": "2023-03-29T18:36:12.985Z"
   },
   {
    "duration": 0,
    "start_time": "2023-03-29T18:36:15.465Z"
   },
   {
    "duration": 22,
    "start_time": "2023-03-29T18:36:31.279Z"
   },
   {
    "duration": 30,
    "start_time": "2023-03-29T18:37:04.006Z"
   },
   {
    "duration": 3,
    "start_time": "2023-03-29T18:37:31.769Z"
   },
   {
    "duration": 22,
    "start_time": "2023-03-29T18:37:38.521Z"
   },
   {
    "duration": 19,
    "start_time": "2023-03-29T18:37:57.437Z"
   },
   {
    "duration": 23,
    "start_time": "2023-03-29T18:38:03.494Z"
   },
   {
    "duration": 37,
    "start_time": "2023-03-29T18:38:45.158Z"
   },
   {
    "duration": 44,
    "start_time": "2023-03-29T18:52:18.810Z"
   },
   {
    "duration": 69,
    "start_time": "2023-03-29T18:52:26.171Z"
   },
   {
    "duration": 15,
    "start_time": "2023-03-29T18:54:17.921Z"
   },
   {
    "duration": 75,
    "start_time": "2023-03-29T18:54:27.577Z"
   },
   {
    "duration": 15,
    "start_time": "2023-03-29T18:54:28.660Z"
   },
   {
    "duration": 1067,
    "start_time": "2023-03-29T18:54:38.355Z"
   },
   {
    "duration": 920,
    "start_time": "2023-03-29T18:54:39.424Z"
   },
   {
    "duration": 114,
    "start_time": "2023-03-29T18:54:40.345Z"
   },
   {
    "duration": 47,
    "start_time": "2023-03-29T18:54:40.461Z"
   },
   {
    "duration": 42,
    "start_time": "2023-03-29T18:54:40.510Z"
   },
   {
    "duration": 384,
    "start_time": "2023-03-29T18:54:40.554Z"
   },
   {
    "duration": 195,
    "start_time": "2023-03-29T18:54:40.940Z"
   },
   {
    "duration": 343,
    "start_time": "2023-03-29T18:54:41.141Z"
   },
   {
    "duration": 1117,
    "start_time": "2023-03-29T18:56:10.544Z"
   },
   {
    "duration": 954,
    "start_time": "2023-03-29T18:56:11.664Z"
   },
   {
    "duration": 150,
    "start_time": "2023-03-29T18:56:12.620Z"
   },
   {
    "duration": 53,
    "start_time": "2023-03-29T18:56:12.772Z"
   },
   {
    "duration": 41,
    "start_time": "2023-03-29T18:56:12.827Z"
   },
   {
    "duration": 455,
    "start_time": "2023-03-29T18:56:12.870Z"
   },
   {
    "duration": 207,
    "start_time": "2023-03-29T18:56:13.327Z"
   },
   {
    "duration": 381,
    "start_time": "2023-03-29T18:56:13.540Z"
   },
   {
    "duration": 149,
    "start_time": "2023-03-29T18:57:18.840Z"
   },
   {
    "duration": 327,
    "start_time": "2023-03-29T18:57:25.698Z"
   },
   {
    "duration": 1191,
    "start_time": "2023-03-29T18:57:35.613Z"
   },
   {
    "duration": 937,
    "start_time": "2023-03-29T18:57:36.806Z"
   },
   {
    "duration": 129,
    "start_time": "2023-03-29T18:57:37.745Z"
   },
   {
    "duration": 80,
    "start_time": "2023-03-29T18:57:37.876Z"
   },
   {
    "duration": 40,
    "start_time": "2023-03-29T18:57:37.958Z"
   },
   {
    "duration": 213,
    "start_time": "2023-03-29T18:57:38.000Z"
   },
   {
    "duration": 362,
    "start_time": "2023-03-29T18:57:38.215Z"
   },
   {
    "duration": 409,
    "start_time": "2023-03-29T18:57:38.579Z"
   },
   {
    "duration": 110,
    "start_time": "2023-03-29T19:12:52.127Z"
   },
   {
    "duration": 139,
    "start_time": "2023-03-29T19:13:07.626Z"
   },
   {
    "duration": 1058,
    "start_time": "2023-03-29T19:13:13.386Z"
   },
   {
    "duration": 877,
    "start_time": "2023-03-29T19:13:14.446Z"
   },
   {
    "duration": 134,
    "start_time": "2023-03-29T19:13:15.325Z"
   },
   {
    "duration": 53,
    "start_time": "2023-03-29T19:13:15.461Z"
   },
   {
    "duration": 34,
    "start_time": "2023-03-29T19:13:15.517Z"
   },
   {
    "duration": 198,
    "start_time": "2023-03-29T19:13:15.553Z"
   },
   {
    "duration": 399,
    "start_time": "2023-03-29T19:13:15.752Z"
   },
   {
    "duration": 480,
    "start_time": "2023-03-29T19:13:16.154Z"
   },
   {
    "duration": 157,
    "start_time": "2023-03-29T19:13:16.635Z"
   },
   {
    "duration": 12554,
    "start_time": "2023-03-29T19:23:26.693Z"
   },
   {
    "duration": 1048,
    "start_time": "2023-03-29T19:24:22.697Z"
   },
   {
    "duration": 875,
    "start_time": "2023-03-29T19:24:23.747Z"
   },
   {
    "duration": 123,
    "start_time": "2023-03-29T19:24:24.624Z"
   },
   {
    "duration": 49,
    "start_time": "2023-03-29T19:24:24.749Z"
   },
   {
    "duration": 21,
    "start_time": "2023-03-29T19:24:24.800Z"
   },
   {
    "duration": 195,
    "start_time": "2023-03-29T19:24:24.823Z"
   },
   {
    "duration": 322,
    "start_time": "2023-03-29T19:24:25.019Z"
   },
   {
    "duration": 401,
    "start_time": "2023-03-29T19:24:25.343Z"
   },
   {
    "duration": 146,
    "start_time": "2023-03-29T19:24:25.746Z"
   },
   {
    "duration": 12921,
    "start_time": "2023-03-29T19:24:25.894Z"
   },
   {
    "duration": 12,
    "start_time": "2023-03-29T19:24:50.282Z"
   },
   {
    "duration": 11403,
    "start_time": "2023-03-29T19:28:55.786Z"
   },
   {
    "duration": 3,
    "start_time": "2023-03-29T19:32:13.704Z"
   },
   {
    "duration": 27,
    "start_time": "2023-03-29T19:33:57.910Z"
   },
   {
    "duration": 703,
    "start_time": "2023-03-29T19:35:16.225Z"
   },
   {
    "duration": 10777,
    "start_time": "2023-03-29T19:35:22.601Z"
   },
   {
    "duration": 229,
    "start_time": "2023-03-29T19:35:35.539Z"
   },
   {
    "duration": 142,
    "start_time": "2023-03-29T19:36:04.025Z"
   },
   {
    "duration": 140,
    "start_time": "2023-03-29T19:38:13.195Z"
   },
   {
    "duration": 113,
    "start_time": "2023-03-29T19:39:13.051Z"
   },
   {
    "duration": 80,
    "start_time": "2023-03-29T19:39:27.778Z"
   },
   {
    "duration": 135,
    "start_time": "2023-03-29T19:39:30.817Z"
   },
   {
    "duration": 136,
    "start_time": "2023-03-29T19:39:41.862Z"
   },
   {
    "duration": 160,
    "start_time": "2023-03-29T19:39:58.495Z"
   },
   {
    "duration": 112,
    "start_time": "2023-03-29T19:40:05.705Z"
   },
   {
    "duration": 114,
    "start_time": "2023-03-29T19:40:20.700Z"
   },
   {
    "duration": 163,
    "start_time": "2023-03-29T19:40:30.800Z"
   }
  ],
  "kernelspec": {
   "display_name": "Python 3 (ipykernel)",
   "language": "python",
   "name": "python3"
  },
  "language_info": {
   "codemirror_mode": {
    "name": "ipython",
    "version": 3
   },
   "file_extension": ".py",
   "mimetype": "text/x-python",
   "name": "python",
   "nbconvert_exporter": "python",
   "pygments_lexer": "ipython3",
   "version": "3.10.9"
  },
  "toc": {
   "base_numbering": 1,
   "nav_menu": {},
   "number_sections": true,
   "sideBar": true,
   "skip_h1_title": true,
   "title_cell": "Table of Contents",
   "title_sidebar": "Contents",
   "toc_cell": false,
   "toc_position": {},
   "toc_section_display": true,
   "toc_window_display": false
  }
 },
 "nbformat": 4,
 "nbformat_minor": 2
}
