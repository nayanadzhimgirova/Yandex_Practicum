{
 "cells": [
  {
   "cell_type": "markdown",
   "metadata": {},
   "source": [
    "#  Прогнозирование заказов такси"
   ]
  },
  {
   "cell_type": "markdown",
   "metadata": {},
   "source": [
    "Компания «Чётенькое такси» собрала исторические данные о заказах такси в аэропортах. Чтобы привлекать больше водителей в период пиковой нагрузки, нужно спрогнозировать количество заказов такси на следующий час. Постройте модель для такого предсказания.\n",
    "\n",
    "Значение метрики *RMSE* на тестовой выборке должно быть не больше 48.\n",
    "\n",
    "Вам нужно:\n",
    "\n",
    "1. Загрузить данные и выполнить их ресемплирование по одному часу.\n",
    "2. Проанализировать данные.\n",
    "3. Обучить разные модели с различными гиперпараметрами. Сделать тестовую выборку размером 10% от исходных данных.\n",
    "4. Проверить данные на тестовой выборке и сделать выводы.\n",
    "\n",
    "\n",
    "Данные лежат в файле `taxi.csv`. Количество заказов находится в столбце `num_orders` (от англ. *number of orders*, «число заказов»)."
   ]
  },
  {
   "cell_type": "markdown",
   "metadata": {},
   "source": [
    "**Задача исследования:** построить модель для предсказания количества заказов такси на следующий час.\n",
    "\n",
    "**План исследования:**\n",
    "- изучить данные\n",
    "- проверить данные на монотонность\n",
    "- создать признаки\n",
    "- подготовить данные для обучения\n",
    "- подобрать гиперпараметры для разных моделей\n",
    "- обучить разные модели\n",
    "- испытать модели на тестовой выборке"
   ]
  },
  {
   "cell_type": "markdown",
   "metadata": {},
   "source": [
    "## Подготовка"
   ]
  },
  {
   "cell_type": "markdown",
   "metadata": {},
   "source": [
    "1. Импортируем все нужные в работе библиотеки"
   ]
  },
  {
   "cell_type": "code",
   "execution_count": 1,
   "metadata": {},
   "outputs": [],
   "source": [
    "import pandas as pd\n",
    "from statsmodels.tsa.seasonal import seasonal_decompose\n",
    "from sklearn.model_selection import train_test_split\n",
    "from sklearn.linear_model import LinearRegression\n",
    "from sklearn.tree import DecisionTreeRegressor\n",
    "from sklearn.ensemble import RandomForestRegressor\n",
    "from sklearn.model_selection import cross_val_score\n",
    "from sklearn.metrics import make_scorer, mean_squared_error\n",
    "from sklearn.model_selection import TimeSeriesSplit\n",
    "import lightgbm as lgb\n",
    "from sklearn.model_selection import GridSearchCV\n",
    "import matplotlib.pyplot as plt"
   ]
  },
  {
   "cell_type": "markdown",
   "metadata": {},
   "source": [
    "2. Откроем файл с данными"
   ]
  },
  {
   "cell_type": "code",
   "execution_count": 2,
   "metadata": {},
   "outputs": [],
   "source": [
    "data = pd.read_csv('/datasets/taxi.csv', index_col=[0], parse_dates=[0])"
   ]
  },
  {
   "cell_type": "markdown",
   "metadata": {},
   "source": [
    "3. info"
   ]
  },
  {
   "cell_type": "code",
   "execution_count": 3,
   "metadata": {},
   "outputs": [
    {
     "name": "stdout",
     "output_type": "stream",
     "text": [
      "<class 'pandas.core.frame.DataFrame'>\n",
      "DatetimeIndex: 26496 entries, 2018-03-01 00:00:00 to 2018-08-31 23:50:00\n",
      "Data columns (total 1 columns):\n",
      " #   Column      Non-Null Count  Dtype\n",
      "---  ------      --------------  -----\n",
      " 0   num_orders  26496 non-null  int64\n",
      "dtypes: int64(1)\n",
      "memory usage: 414.0 KB\n"
     ]
    }
   ],
   "source": [
    "data.info()"
   ]
  },
  {
   "cell_type": "markdown",
   "metadata": {},
   "source": [
    "- всего 26496 объектов, пропусков нет\n",
    "- столбец num_orders имеет формат int64"
   ]
  },
  {
   "cell_type": "markdown",
   "metadata": {},
   "source": [
    "4. head"
   ]
  },
  {
   "cell_type": "code",
   "execution_count": 4,
   "metadata": {
    "scrolled": true
   },
   "outputs": [
    {
     "data": {
      "text/html": [
       "<div>\n",
       "<style scoped>\n",
       "    .dataframe tbody tr th:only-of-type {\n",
       "        vertical-align: middle;\n",
       "    }\n",
       "\n",
       "    .dataframe tbody tr th {\n",
       "        vertical-align: top;\n",
       "    }\n",
       "\n",
       "    .dataframe thead th {\n",
       "        text-align: right;\n",
       "    }\n",
       "</style>\n",
       "<table border=\"1\" class=\"dataframe\">\n",
       "  <thead>\n",
       "    <tr style=\"text-align: right;\">\n",
       "      <th></th>\n",
       "      <th>num_orders</th>\n",
       "    </tr>\n",
       "    <tr>\n",
       "      <th>datetime</th>\n",
       "      <th></th>\n",
       "    </tr>\n",
       "  </thead>\n",
       "  <tbody>\n",
       "    <tr>\n",
       "      <th>2018-03-01 00:00:00</th>\n",
       "      <td>9</td>\n",
       "    </tr>\n",
       "    <tr>\n",
       "      <th>2018-03-01 00:10:00</th>\n",
       "      <td>14</td>\n",
       "    </tr>\n",
       "    <tr>\n",
       "      <th>2018-03-01 00:20:00</th>\n",
       "      <td>28</td>\n",
       "    </tr>\n",
       "    <tr>\n",
       "      <th>2018-03-01 00:30:00</th>\n",
       "      <td>20</td>\n",
       "    </tr>\n",
       "    <tr>\n",
       "      <th>2018-03-01 00:40:00</th>\n",
       "      <td>32</td>\n",
       "    </tr>\n",
       "  </tbody>\n",
       "</table>\n",
       "</div>"
      ],
      "text/plain": [
       "                     num_orders\n",
       "datetime                       \n",
       "2018-03-01 00:00:00           9\n",
       "2018-03-01 00:10:00          14\n",
       "2018-03-01 00:20:00          28\n",
       "2018-03-01 00:30:00          20\n",
       "2018-03-01 00:40:00          32"
      ]
     },
     "execution_count": 4,
     "metadata": {},
     "output_type": "execute_result"
    }
   ],
   "source": [
    "data.head()"
   ]
  },
  {
   "cell_type": "markdown",
   "metadata": {},
   "source": [
    "Данные обновляются каждые 10 минут."
   ]
  },
  {
   "cell_type": "markdown",
   "metadata": {},
   "source": [
    "5. Проверим монотонность"
   ]
  },
  {
   "cell_type": "code",
   "execution_count": 5,
   "metadata": {},
   "outputs": [
    {
     "data": {
      "text/plain": [
       "True"
      ]
     },
     "execution_count": 5,
     "metadata": {},
     "output_type": "execute_result"
    }
   ],
   "source": [
    "data.index.is_monotonic"
   ]
  },
  {
   "cell_type": "markdown",
   "metadata": {},
   "source": [
    "Данные монотонны."
   ]
  },
  {
   "cell_type": "markdown",
   "metadata": {},
   "source": [
    "6. Ресемплируем данные"
   ]
  },
  {
   "cell_type": "code",
   "execution_count": 6,
   "metadata": {},
   "outputs": [
    {
     "data": {
      "text/html": [
       "<div>\n",
       "<style scoped>\n",
       "    .dataframe tbody tr th:only-of-type {\n",
       "        vertical-align: middle;\n",
       "    }\n",
       "\n",
       "    .dataframe tbody tr th {\n",
       "        vertical-align: top;\n",
       "    }\n",
       "\n",
       "    .dataframe thead th {\n",
       "        text-align: right;\n",
       "    }\n",
       "</style>\n",
       "<table border=\"1\" class=\"dataframe\">\n",
       "  <thead>\n",
       "    <tr style=\"text-align: right;\">\n",
       "      <th></th>\n",
       "      <th>num_orders</th>\n",
       "    </tr>\n",
       "    <tr>\n",
       "      <th>datetime</th>\n",
       "      <th></th>\n",
       "    </tr>\n",
       "  </thead>\n",
       "  <tbody>\n",
       "    <tr>\n",
       "      <th>2018-03-01 00:00:00</th>\n",
       "      <td>124</td>\n",
       "    </tr>\n",
       "    <tr>\n",
       "      <th>2018-03-01 01:00:00</th>\n",
       "      <td>85</td>\n",
       "    </tr>\n",
       "    <tr>\n",
       "      <th>2018-03-01 02:00:00</th>\n",
       "      <td>71</td>\n",
       "    </tr>\n",
       "    <tr>\n",
       "      <th>2018-03-01 03:00:00</th>\n",
       "      <td>66</td>\n",
       "    </tr>\n",
       "    <tr>\n",
       "      <th>2018-03-01 04:00:00</th>\n",
       "      <td>43</td>\n",
       "    </tr>\n",
       "  </tbody>\n",
       "</table>\n",
       "</div>"
      ],
      "text/plain": [
       "                     num_orders\n",
       "datetime                       \n",
       "2018-03-01 00:00:00         124\n",
       "2018-03-01 01:00:00          85\n",
       "2018-03-01 02:00:00          71\n",
       "2018-03-01 03:00:00          66\n",
       "2018-03-01 04:00:00          43"
      ]
     },
     "execution_count": 6,
     "metadata": {},
     "output_type": "execute_result"
    }
   ],
   "source": [
    "data = data.resample('1H').sum()\n",
    "data.head()"
   ]
  },
  {
   "cell_type": "code",
   "execution_count": 7,
   "metadata": {},
   "outputs": [
    {
     "name": "stdout",
     "output_type": "stream",
     "text": [
      "<class 'pandas.core.frame.DataFrame'>\n",
      "DatetimeIndex: 4416 entries, 2018-03-01 00:00:00 to 2018-08-31 23:00:00\n",
      "Freq: H\n",
      "Data columns (total 1 columns):\n",
      " #   Column      Non-Null Count  Dtype\n",
      "---  ------      --------------  -----\n",
      " 0   num_orders  4416 non-null   int64\n",
      "dtypes: int64(1)\n",
      "memory usage: 69.0 KB\n"
     ]
    }
   ],
   "source": [
    "data.info()"
   ]
  },
  {
   "cell_type": "markdown",
   "metadata": {},
   "source": [
    "После ресемплирования осталось 4416 объектов. Мы имеем данные с 1 марта 2018 по 31 августа 2018."
   ]
  },
  {
   "cell_type": "markdown",
   "metadata": {},
   "source": [
    "**Вывод** \n",
    "1. В этом разделе мы:\n",
    "- изучили данные \n",
    "- проверили на монотонность\n",
    "- ресемплировали на нужные отрезки времени - по 1 часу\n",
    "\n",
    "2. Заметили:\n",
    "- всего в данных 26496 объектов, данные обновляются каждые 10 минут\n",
    "- данные монотонны\n",
    "- после ресемплирования осталось 4416 объектов\n",
    "- данные включают в себя наблюдения с 1 марта 2018 по 31 августа 2018."
   ]
  },
  {
   "cell_type": "markdown",
   "metadata": {},
   "source": [
    "## Анализ"
   ]
  },
  {
   "cell_type": "markdown",
   "metadata": {},
   "source": [
    "Проанализируем данные."
   ]
  },
  {
   "cell_type": "markdown",
   "metadata": {},
   "source": [
    "1. Скользящее среднее"
   ]
  },
  {
   "cell_type": "code",
   "execution_count": 8,
   "metadata": {},
   "outputs": [],
   "source": [
    "data['rolling_mean'] = data.rolling(24).mean()"
   ]
  },
  {
   "cell_type": "markdown",
   "metadata": {},
   "source": [
    "Зададим размер окна 24 часа."
   ]
  },
  {
   "cell_type": "code",
   "execution_count": 9,
   "metadata": {},
   "outputs": [
    {
     "data": {
      "image/png": "[encoded data removed]",
      "text/plain": [
       "<Figure size 432x288 with 1 Axes>"
      ]
     },
     "metadata": {
      "needs_background": "light"
     },
     "output_type": "display_data"
    }
   ],
   "source": [
    "#построим график\n",
    "data.plot(title='Скользящее среднее');\n",
    "plt.xlabel('Месяцы');\n",
    "plt.ylabel('Количество заказов');"
   ]
  },
  {
   "cell_type": "markdown",
   "metadata": {},
   "source": [
    "На графике видно, что спрос на такси постепенно повышается, в марте наименьшее количество заказов, в августе - наибольшее. Из-за большего спроса в августе можно увидеть более частые изменения спроса с большей амплитудой."
   ]
  },
  {
   "cell_type": "code",
   "execution_count": 10,
   "metadata": {},
   "outputs": [
    {
     "data": {
      "image/png": "[encoded data removed]",
      "text/plain": [
       "<Figure size 432x288 with 1 Axes>"
      ]
     },
     "metadata": {
      "needs_background": "light"
     },
     "output_type": "display_data"
    }
   ],
   "source": [
    "data['2018-03-02 00:00:00':'2018-03-03 00:00:00'].plot(title='Изменение спроса в течение суток');\n",
    "plt.xlabel('Время');\n",
    "plt.ylabel('Количество заказов');"
   ]
  },
  {
   "cell_type": "markdown",
   "metadata": {},
   "source": [
    "Рассмотрим суточное изменение спроса 2 марта 2018. На графике видно, что наименьший спрос бывает в предутреннее время, затем, ближе к началу рабочего дня, спрос резко возрастает, преодолевает пик, снижается, и после этого держится в среднем на одном и том же уровне, увеличиваясь только в вечернее время, когда люди возвращаются с работы, и после."
   ]
  },
  {
   "cell_type": "code",
   "execution_count": 11,
   "metadata": {},
   "outputs": [
    {
     "data": {
      "image/png": "[encoded data removed]",
      "text/plain": [
       "<Figure size 432x288 with 1 Axes>"
      ]
     },
     "metadata": {
      "needs_background": "light"
     },
     "output_type": "display_data"
    }
   ],
   "source": [
    "data['2018-03-02 00:00:00':'2018-04-02 00:00:00'].plot(title='Изменение спроса в течение месяца');\n",
    "plt.xlabel('Дни');\n",
    "plt.ylabel('Количество заказов');"
   ]
  },
  {
   "cell_type": "markdown",
   "metadata": {},
   "source": [
    "Рассмотрим изменение спроса в течение месяца. Можно заметить, что в некоторые дни спрос высокий, а в другие низкий, но это не зависит от дней недели, т.к. нельзя заметить цикличность, зависяющую от дней недели."
   ]
  },
  {
   "cell_type": "markdown",
   "metadata": {},
   "source": [
    "2. Тренд и сезонность"
   ]
  },
  {
   "cell_type": "code",
   "execution_count": 12,
   "metadata": {},
   "outputs": [
    {
     "data": {
      "image/png": "[encoded data removed]",
      "text/plain": [
       "<Figure size 432x288 with 1 Axes>"
      ]
     },
     "metadata": {
      "needs_background": "light"
     },
     "output_type": "display_data"
    }
   ],
   "source": [
    "#декомпозируем данные\n",
    "decomposed = seasonal_decompose(data['num_orders'], period=24)\n",
    "\n",
    "#рассмотрим тренд\n",
    "decomposed.trend.plot(title='Тренд');\n",
    "plt.xlabel('Месяцы');\n",
    "plt.ylabel('Количество заказов');"
   ]
  },
  {
   "cell_type": "markdown",
   "metadata": {},
   "source": [
    "Из графика тренда видно, что количество заказов значительно увеличилось с марта по август."
   ]
  },
  {
   "cell_type": "code",
   "execution_count": 13,
   "metadata": {},
   "outputs": [
    {
     "data": {
      "image/png": "[encoded data removed]",
      "text/plain": [
       "<Figure size 576x576 with 1 Axes>"
      ]
     },
     "metadata": {
      "needs_background": "light"
     },
     "output_type": "display_data"
    }
   ],
   "source": [
    "#рассмотрим сезонность\n",
    "decomposed.seasonal['2018-03-02 00:00:00': '2018-03-04 00:00:00'].plot(title='Сезонность', figsize=(8, 8));\n",
    "plt.xlabel('Время');\n",
    "plt.ylabel('Количество заказов');"
   ]
  },
  {
   "cell_type": "markdown",
   "metadata": {},
   "source": [
    "Рассмотрим график сезонности. На графике видно, что наименьший спрос бывает в примерно 6 часов утра, пики значений - наибольший спрос - приходятся на примерно 10 часов утра, послеобеденное время и 12 часов ночи."
   ]
  },
  {
   "cell_type": "code",
   "execution_count": 14,
   "metadata": {},
   "outputs": [
    {
     "data": {
      "image/png": "[encoded data removed]",
      "text/plain": [
       "<Figure size 432x288 with 1 Axes>"
      ]
     },
     "metadata": {
      "needs_background": "light"
     },
     "output_type": "display_data"
    }
   ],
   "source": [
    "#рассмотрим остатки\n",
    "decomposed.resid.plot(title='Остатки');\n",
    "plt.xlabel('Месяцы');\n",
    "plt.ylabel('Количество заказов');"
   ]
  },
  {
   "cell_type": "markdown",
   "metadata": {},
   "source": [
    "На графике остатков виден примерный диапазон значений, можно заметить, что в августе появились большие выбивающиеся значения."
   ]
  },
  {
   "cell_type": "markdown",
   "metadata": {},
   "source": [
    "3. Создадим признаки"
   ]
  },
  {
   "cell_type": "code",
   "execution_count": 15,
   "metadata": {},
   "outputs": [],
   "source": [
    "def make_features(data):\n",
    "    data['year'] = data.index.year\n",
    "    data['month'] = data.index.month\n",
    "    data['day'] = data.index.day\n",
    "    data['dayofweek'] = data.index.dayofweek\n",
    "    data['hour'] = data.index.hour\n",
    "    #data['shift'] = data['num_orders'].shift(fill_value=0)\n",
    "    data['shift'] = data['num_orders'].shift()\n",
    "    #data['shift_24'] = data['num_orders'].shift(24)\n",
    "    max_lag = 24\n",
    "    for n_lag in range(1, max_lag + 1):\n",
    "        data[f\"lag_{n_lag}\"] = data['num_orders'].shift(n_lag)\n",
    "    \n",
    "make_features(data)\n",
    "data = data.dropna()"
   ]
  },
  {
   "cell_type": "code",
   "execution_count": 16,
   "metadata": {
    "scrolled": false
   },
   "outputs": [
    {
     "data": {
      "text/html": [
       "<div>\n",
       "<style scoped>\n",
       "    .dataframe tbody tr th:only-of-type {\n",
       "        vertical-align: middle;\n",
       "    }\n",
       "\n",
       "    .dataframe tbody tr th {\n",
       "        vertical-align: top;\n",
       "    }\n",
       "\n",
       "    .dataframe thead th {\n",
       "        text-align: right;\n",
       "    }\n",
       "</style>\n",
       "<table border=\"1\" class=\"dataframe\">\n",
       "  <thead>\n",
       "    <tr style=\"text-align: right;\">\n",
       "      <th></th>\n",
       "      <th>num_orders</th>\n",
       "      <th>rolling_mean</th>\n",
       "      <th>year</th>\n",
       "      <th>month</th>\n",
       "      <th>day</th>\n",
       "      <th>dayofweek</th>\n",
       "      <th>hour</th>\n",
       "      <th>shift</th>\n",
       "      <th>lag_1</th>\n",
       "      <th>lag_2</th>\n",
       "      <th>...</th>\n",
       "      <th>lag_15</th>\n",
       "      <th>lag_16</th>\n",
       "      <th>lag_17</th>\n",
       "      <th>lag_18</th>\n",
       "      <th>lag_19</th>\n",
       "      <th>lag_20</th>\n",
       "      <th>lag_21</th>\n",
       "      <th>lag_22</th>\n",
       "      <th>lag_23</th>\n",
       "      <th>lag_24</th>\n",
       "    </tr>\n",
       "    <tr>\n",
       "      <th>datetime</th>\n",
       "      <th></th>\n",
       "      <th></th>\n",
       "      <th></th>\n",
       "      <th></th>\n",
       "      <th></th>\n",
       "      <th></th>\n",
       "      <th></th>\n",
       "      <th></th>\n",
       "      <th></th>\n",
       "      <th></th>\n",
       "      <th></th>\n",
       "      <th></th>\n",
       "      <th></th>\n",
       "      <th></th>\n",
       "      <th></th>\n",
       "      <th></th>\n",
       "      <th></th>\n",
       "      <th></th>\n",
       "      <th></th>\n",
       "      <th></th>\n",
       "      <th></th>\n",
       "    </tr>\n",
       "  </thead>\n",
       "  <tbody>\n",
       "    <tr>\n",
       "      <th>2018-03-02 00:00:00</th>\n",
       "      <td>90</td>\n",
       "      <td>55.416667</td>\n",
       "      <td>2018</td>\n",
       "      <td>3</td>\n",
       "      <td>2</td>\n",
       "      <td>4</td>\n",
       "      <td>0</td>\n",
       "      <td>58.0</td>\n",
       "      <td>58.0</td>\n",
       "      <td>113.0</td>\n",
       "      <td>...</td>\n",
       "      <td>69.0</td>\n",
       "      <td>34.0</td>\n",
       "      <td>15.0</td>\n",
       "      <td>12.0</td>\n",
       "      <td>6.0</td>\n",
       "      <td>43.0</td>\n",
       "      <td>66.0</td>\n",
       "      <td>71.0</td>\n",
       "      <td>85.0</td>\n",
       "      <td>124.0</td>\n",
       "    </tr>\n",
       "    <tr>\n",
       "      <th>2018-03-02 01:00:00</th>\n",
       "      <td>120</td>\n",
       "      <td>56.875000</td>\n",
       "      <td>2018</td>\n",
       "      <td>3</td>\n",
       "      <td>2</td>\n",
       "      <td>4</td>\n",
       "      <td>1</td>\n",
       "      <td>90.0</td>\n",
       "      <td>90.0</td>\n",
       "      <td>58.0</td>\n",
       "      <td>...</td>\n",
       "      <td>64.0</td>\n",
       "      <td>69.0</td>\n",
       "      <td>34.0</td>\n",
       "      <td>15.0</td>\n",
       "      <td>12.0</td>\n",
       "      <td>6.0</td>\n",
       "      <td>43.0</td>\n",
       "      <td>66.0</td>\n",
       "      <td>71.0</td>\n",
       "      <td>85.0</td>\n",
       "    </tr>\n",
       "    <tr>\n",
       "      <th>2018-03-02 02:00:00</th>\n",
       "      <td>75</td>\n",
       "      <td>57.041667</td>\n",
       "      <td>2018</td>\n",
       "      <td>3</td>\n",
       "      <td>2</td>\n",
       "      <td>4</td>\n",
       "      <td>2</td>\n",
       "      <td>120.0</td>\n",
       "      <td>120.0</td>\n",
       "      <td>90.0</td>\n",
       "      <td>...</td>\n",
       "      <td>96.0</td>\n",
       "      <td>64.0</td>\n",
       "      <td>69.0</td>\n",
       "      <td>34.0</td>\n",
       "      <td>15.0</td>\n",
       "      <td>12.0</td>\n",
       "      <td>6.0</td>\n",
       "      <td>43.0</td>\n",
       "      <td>66.0</td>\n",
       "      <td>71.0</td>\n",
       "    </tr>\n",
       "    <tr>\n",
       "      <th>2018-03-02 03:00:00</th>\n",
       "      <td>64</td>\n",
       "      <td>56.958333</td>\n",
       "      <td>2018</td>\n",
       "      <td>3</td>\n",
       "      <td>2</td>\n",
       "      <td>4</td>\n",
       "      <td>3</td>\n",
       "      <td>75.0</td>\n",
       "      <td>75.0</td>\n",
       "      <td>120.0</td>\n",
       "      <td>...</td>\n",
       "      <td>30.0</td>\n",
       "      <td>96.0</td>\n",
       "      <td>64.0</td>\n",
       "      <td>69.0</td>\n",
       "      <td>34.0</td>\n",
       "      <td>15.0</td>\n",
       "      <td>12.0</td>\n",
       "      <td>6.0</td>\n",
       "      <td>43.0</td>\n",
       "      <td>66.0</td>\n",
       "    </tr>\n",
       "    <tr>\n",
       "      <th>2018-03-02 04:00:00</th>\n",
       "      <td>20</td>\n",
       "      <td>56.000000</td>\n",
       "      <td>2018</td>\n",
       "      <td>3</td>\n",
       "      <td>2</td>\n",
       "      <td>4</td>\n",
       "      <td>4</td>\n",
       "      <td>64.0</td>\n",
       "      <td>64.0</td>\n",
       "      <td>75.0</td>\n",
       "      <td>...</td>\n",
       "      <td>32.0</td>\n",
       "      <td>30.0</td>\n",
       "      <td>96.0</td>\n",
       "      <td>64.0</td>\n",
       "      <td>69.0</td>\n",
       "      <td>34.0</td>\n",
       "      <td>15.0</td>\n",
       "      <td>12.0</td>\n",
       "      <td>6.0</td>\n",
       "      <td>43.0</td>\n",
       "    </tr>\n",
       "  </tbody>\n",
       "</table>\n",
       "<p>5 rows × 32 columns</p>\n",
       "</div>"
      ],
      "text/plain": [
       "                     num_orders  rolling_mean  year  month  day  dayofweek  \\\n",
       "datetime                                                                     \n",
       "2018-03-02 00:00:00          90     55.416667  2018      3    2          4   \n",
       "2018-03-02 01:00:00         120     56.875000  2018      3    2          4   \n",
       "2018-03-02 02:00:00          75     57.041667  2018      3    2          4   \n",
       "2018-03-02 03:00:00          64     56.958333  2018      3    2          4   \n",
       "2018-03-02 04:00:00          20     56.000000  2018      3    2          4   \n",
       "\n",
       "                     hour  shift  lag_1  lag_2  ...  lag_15  lag_16  lag_17  \\\n",
       "datetime                                        ...                           \n",
       "2018-03-02 00:00:00     0   58.0   58.0  113.0  ...    69.0    34.0    15.0   \n",
       "2018-03-02 01:00:00     1   90.0   90.0   58.0  ...    64.0    69.0    34.0   \n",
       "2018-03-02 02:00:00     2  120.0  120.0   90.0  ...    96.0    64.0    69.0   \n",
       "2018-03-02 03:00:00     3   75.0   75.0  120.0  ...    30.0    96.0    64.0   \n",
       "2018-03-02 04:00:00     4   64.0   64.0   75.0  ...    32.0    30.0    96.0   \n",
       "\n",
       "                     lag_18  lag_19  lag_20  lag_21  lag_22  lag_23  lag_24  \n",
       "datetime                                                                     \n",
       "2018-03-02 00:00:00    12.0     6.0    43.0    66.0    71.0    85.0   124.0  \n",
       "2018-03-02 01:00:00    15.0    12.0     6.0    43.0    66.0    71.0    85.0  \n",
       "2018-03-02 02:00:00    34.0    15.0    12.0     6.0    43.0    66.0    71.0  \n",
       "2018-03-02 03:00:00    69.0    34.0    15.0    12.0     6.0    43.0    66.0  \n",
       "2018-03-02 04:00:00    64.0    69.0    34.0    15.0    12.0     6.0    43.0  \n",
       "\n",
       "[5 rows x 32 columns]"
      ]
     },
     "execution_count": 16,
     "metadata": {},
     "output_type": "execute_result"
    }
   ],
   "source": [
    "data.head()"
   ]
  },
  {
   "cell_type": "markdown",
   "metadata": {},
   "source": [
    "4. Подготовим нужные выборки"
   ]
  },
  {
   "cell_type": "code",
   "execution_count": 17,
   "metadata": {},
   "outputs": [],
   "source": [
    "data = data.drop('rolling_mean', axis=1)"
   ]
  },
  {
   "cell_type": "code",
   "execution_count": 18,
   "metadata": {},
   "outputs": [],
   "source": [
    "#выделим признаки и целевой признак\n",
    "features = data.drop('num_orders', axis=1)\n",
    "target = data['num_orders']"
   ]
  },
  {
   "cell_type": "code",
   "execution_count": 19,
   "metadata": {},
   "outputs": [],
   "source": [
    "features_train, features_test, target_train, target_test = \\\n",
    "train_test_split(features, target, test_size=0.1, shuffle=False)"
   ]
  },
  {
   "cell_type": "code",
   "execution_count": 20,
   "metadata": {
    "scrolled": true
   },
   "outputs": [
    {
     "name": "stdout",
     "output_type": "stream",
     "text": [
      "True (3952, 30)\n",
      "True (440, 30)\n",
      "True (3952,)\n",
      "True (440,)\n"
     ]
    }
   ],
   "source": [
    "#проверим выборки на монотонность и размер\n",
    "print(features_train.index.is_monotonic, features_train.shape)\n",
    "print(features_test.index.is_monotonic, features_test.shape)\n",
    "print(target_train.index.is_monotonic, target_train.shape)\n",
    "print(target_test.index.is_monotonic, target_test.shape)"
   ]
  },
  {
   "cell_type": "markdown",
   "metadata": {},
   "source": [
    "Данные в выборках монотонны - даты и время расположены в хронологическом порядке."
   ]
  },
  {
   "cell_type": "markdown",
   "metadata": {},
   "source": [
    "**Вывод**\n",
    "1. В этом разделе мы:\n",
    "- рассмотрели скользящее среднее\n",
    "- рассмотрели тренд, сезонность и остатки\n",
    "- создали признаки\n",
    "- подготовили выборки для обучения моделей\n",
    "\n",
    "2. Заметили:\n",
    "- спрос на такси постепенно повышается, в марте наименьшее количество заказов, в августе - наибольшее\n",
    "- наименьший спрос бывает в примерно 6 часов утра\n",
    "- наибольший спрос приходится на примерно 10 часов утра, послеобеденное время и 12 часов ночи\n",
    "- в остальное время дня держится в среднем на одном уровне\n",
    "- количество заказов значительно увеличилось с марта по август."
   ]
  },
  {
   "cell_type": "markdown",
   "metadata": {},
   "source": [
    "## Обучение"
   ]
  },
  {
   "cell_type": "markdown",
   "metadata": {},
   "source": [
    "Рассмотрим модели линейной регрессии, дерева решений, случайного леса, LightGBM."
   ]
  },
  {
   "cell_type": "markdown",
   "metadata": {},
   "source": [
    "1. Линейная регрессия"
   ]
  },
  {
   "cell_type": "code",
   "execution_count": 21,
   "metadata": {},
   "outputs": [],
   "source": [
    "scorer = make_scorer(mean_squared_error)\n",
    "split = TimeSeriesSplit(n_splits=3)"
   ]
  },
  {
   "cell_type": "code",
   "execution_count": 22,
   "metadata": {},
   "outputs": [
    {
     "name": "stdout",
     "output_type": "stream",
     "text": [
      "Средний RMSE на кросс-валидации модели линейной регрессии составил 27.563673403442618\n"
     ]
    }
   ],
   "source": [
    "model = LinearRegression()\n",
    "\n",
    "rmse = ((cross_val_score(model, features_train, target_train, cv=split, \\\n",
    "                      n_jobs=-1, scoring=scorer)) ** 0.5).mean()\n",
    "\n",
    "print('Средний RMSE на кросс-валидации модели линейной регрессии составил', rmse)"
   ]
  },
  {
   "cell_type": "markdown",
   "metadata": {},
   "source": [
    "2. Дерево решений"
   ]
  },
  {
   "cell_type": "code",
   "execution_count": 23,
   "metadata": {},
   "outputs": [
    {
     "data": {
      "text/plain": [
       "{'max_depth': 6}"
      ]
     },
     "execution_count": 23,
     "metadata": {},
     "output_type": "execute_result"
    }
   ],
   "source": [
    "#Подберём лучшие гиперпараметры для модели дерева решений.\n",
    "\n",
    "decision_tree_params = {\n",
    "    'max_depth': range(1, 15, 1)\n",
    "}\n",
    "\n",
    "model = DecisionTreeRegressor()\n",
    "\n",
    "grid = GridSearchCV(model, decision_tree_params, cv=split)\n",
    "grid.fit(features_train, target_train)\n",
    "grid.best_params_"
   ]
  },
  {
   "cell_type": "markdown",
   "metadata": {},
   "source": [
    "Лучшая глубина для модели дерева решений - 5."
   ]
  },
  {
   "cell_type": "code",
   "execution_count": 24,
   "metadata": {},
   "outputs": [
    {
     "name": "stdout",
     "output_type": "stream",
     "text": [
      "Средний RMSE на кросс-валидации модели дерева решений составил 32.11451472848696\n"
     ]
    }
   ],
   "source": [
    "model = DecisionTreeRegressor(max_depth=5, random_state=12345)\n",
    "\n",
    "rmse = ((cross_val_score(model, features_train, target_train, cv=split, \\\n",
    "                      n_jobs=-1, scoring=scorer)) ** 0.5).mean()\n",
    "print('Средний RMSE на кросс-валидации модели дерева решений составил', rmse)"
   ]
  },
  {
   "cell_type": "markdown",
   "metadata": {},
   "source": [
    "3. Случайный лес"
   ]
  },
  {
   "cell_type": "code",
   "execution_count": 25,
   "metadata": {},
   "outputs": [
    {
     "data": {
      "text/plain": [
       "{'max_depth': 13, 'n_estimators': 51}"
      ]
     },
     "execution_count": 25,
     "metadata": {},
     "output_type": "execute_result"
    }
   ],
   "source": [
    "decision_tree_params = {\n",
    "    'max_depth': range(1, 15, 1),\n",
    "    'n_estimators': range(1, 101, 10)\n",
    "}\n",
    "\n",
    "model = RandomForestRegressor()\n",
    "grid = GridSearchCV(model, decision_tree_params, cv=split)\n",
    "grid.fit(features_train, target_train)\n",
    "grid.best_params_"
   ]
  },
  {
   "cell_type": "markdown",
   "metadata": {},
   "source": [
    "Лучшие гиперпараметры для модели случайного леса:\n",
    "- максимальная глубина - 13\n",
    "- количество деревьев - 71"
   ]
  },
  {
   "cell_type": "code",
   "execution_count": 26,
   "metadata": {},
   "outputs": [
    {
     "name": "stdout",
     "output_type": "stream",
     "text": [
      "Средний RMSE на кросс-валидации модели случайного леса составил 27.107804438063024\n"
     ]
    }
   ],
   "source": [
    "model = RandomForestRegressor(max_depth=14, n_estimators=91, random_state=12345)\n",
    "\n",
    "rmse = ((cross_val_score(model, features_train, target_train, cv=split, scoring=scorer) ** 0.5)).mean()\n",
    "\n",
    "print('Средний RMSE на кросс-валидации модели случайного леса составил', rmse)"
   ]
  },
  {
   "cell_type": "markdown",
   "metadata": {},
   "source": [
    "4. LightGBM"
   ]
  },
  {
   "cell_type": "markdown",
   "metadata": {},
   "source": [
    "Для модели LightGBM подберём лучшие гиперпараметры с помощью GridSearchCV."
   ]
  },
  {
   "cell_type": "code",
   "execution_count": 27,
   "metadata": {},
   "outputs": [],
   "source": [
    "#light_gbm_params = {\n",
    "#    'max_depth': range(1, 15, 1),\n",
    "#    'n_estimators': range(1, 101, 10)\n",
    "#}\n",
    "\n",
    "#model = lgb.LGBMRegressor()\n",
    "#grid = GridSearchCV(model, light_gbm_params, cv=split)\n",
    "#grid.fit(features_train, target_train)\n",
    "#grid.best_params_"
   ]
  },
  {
   "attachments": {
    "%D0%A1%D0%BD%D0%B8%D0%BC%D0%BE%D0%BA%20%D1%8D%D0%BA%D1%80%D0%B0%D0%BD%D0%B0%202023-04-18%20200127.png": {
     "image/png": "[encoded data removed]"
    }
   },
   "cell_type": "markdown",
   "metadata": {},
   "source": [
    "![%D0%A1%D0%BD%D0%B8%D0%BC%D0%BE%D0%BA%20%D1%8D%D0%BA%D1%80%D0%B0%D0%BD%D0%B0%202023-04-18%20200127.png](attachment:%D0%A1%D0%BD%D0%B8%D0%BC%D0%BE%D0%BA%20%D1%8D%D0%BA%D1%80%D0%B0%D0%BD%D0%B0%202023-04-18%20200127.png)"
   ]
  },
  {
   "cell_type": "markdown",
   "metadata": {},
   "source": [
    "Лучшие гиперпараметры для LightGBM: максимальная глубина - 5, количество деревьев - 91."
   ]
  },
  {
   "cell_type": "code",
   "execution_count": 28,
   "metadata": {},
   "outputs": [
    {
     "name": "stdout",
     "output_type": "stream",
     "text": [
      "Средний RMSE на кросс-валидации модели LightGBM составил 26.275544044950532\n"
     ]
    }
   ],
   "source": [
    "model = lgb.LGBMRegressor(max_depth=5, n_estimators=91, random_state=12345)\n",
    "\n",
    "rmse = ((cross_val_score(model, features_train, target_train, scoring=scorer, cv=split)) ** 0.5).mean()\n",
    "\n",
    "print('Средний RMSE на кросс-валидации модели LightGBM составил', rmse)"
   ]
  },
  {
   "cell_type": "markdown",
   "metadata": {},
   "source": [
    "**Вывод**\n",
    "1. В этом разделе мы:\n",
    "- подобрали для моделей лучшие гиперпараметры с помощью GridSearchCV\n",
    "- вычислили RMSE на валидационной выборке с помощью кросс-валидации\n",
    "\n",
    "2. Заметили:\n",
    "- лучший гиперпараметр для модели дерева решений: максимальная глубина - 8\n",
    "- лучшие гиперпараметры для модели случайного леса: максимальная глубина - 14, количество деревьев - 61\n",
    "- лучшие гиперпараметры для модели случайного леса: максимальная глубина - 4, количество деревьев - 91\n",
    "\n",
    "\n",
    "- среднее RMSE модели линейной регрессии составило 32.56 на кросс-валидации\n",
    "- среднее RMSE модели дерева решений составило 31.3 на кросс-валидации\n",
    "- среднее RMSE модели случайного леса составило 28.2 на кросс-валидации\n",
    "- среднее RMSE модели LightGBM составило 27.95 на кросс-валидации\n",
    "\n",
    "\n",
    "- наибольшее RMSE у модели линейной регрессии\n",
    "- наименьшее RMSE у модели LightGBM"
   ]
  },
  {
   "cell_type": "markdown",
   "metadata": {},
   "source": [
    "## Тестирование"
   ]
  },
  {
   "cell_type": "markdown",
   "metadata": {},
   "source": [
    "Протестируем LightGBM, т.к. она дала лучший результат на обучении."
   ]
  },
  {
   "cell_type": "code",
   "execution_count": 29,
   "metadata": {
    "scrolled": true
   },
   "outputs": [
    {
     "name": "stdout",
     "output_type": "stream",
     "text": [
      "RMSE модели LightGBM на тестовой выборке: 41.36372023008206\n"
     ]
    }
   ],
   "source": [
    "model = lgb.LGBMRegressor(max_depth=5, n_estimators=91, random_state=12345)\n",
    "\n",
    "model.fit(features_train, target_train)\n",
    "predicted_test = model.predict(features_test)\n",
    "\n",
    "rmse_lgbm = mean_squared_error(target_test, predicted_test) ** 0.5\n",
    "print('RMSE модели LightGBM на тестовой выборке:', rmse_lgbm)"
   ]
  },
  {
   "attachments": {
    "%D0%A1%D0%BD%D0%B8%D0%BC%D0%BE%D0%BA%20%D1%8D%D0%BA%D1%80%D0%B0%D0%BD%D0%B0%202023-04-16%20012619.png": {
     "image/png": "[encoded data removed]"
    }
   },
   "cell_type": "markdown",
   "metadata": {},
   "source": [
    "![%D0%A1%D0%BD%D0%B8%D0%BC%D0%BE%D0%BA%20%D1%8D%D0%BA%D1%80%D0%B0%D0%BD%D0%B0%202023-04-16%20012619.png](attachment:%D0%A1%D0%BD%D0%B8%D0%BC%D0%BE%D0%BA%20%D1%8D%D0%BA%D1%80%D0%B0%D0%BD%D0%B0%202023-04-16%20012619.png)"
   ]
  },
  {
   "cell_type": "code",
   "execution_count": 30,
   "metadata": {},
   "outputs": [
    {
     "data": {
      "image/png": "[encoded data removed]",
      "text/plain": [
       "<Figure size 1440x432 with 1 Axes>"
      ]
     },
     "metadata": {
      "needs_background": "light"
     },
     "output_type": "display_data"
    }
   ],
   "source": [
    "pd.DataFrame({\n",
    "    'Прогноз': predicted_test,\n",
    "    'Факт': target_test\n",
    "}).plot(title='Предсказания модели и реальные значения на тестовой выборке', figsize=(20, 6));\n",
    "plt.xlabel('Дни');\n",
    "plt.ylabel('Количество заказов');"
   ]
  },
  {
   "cell_type": "markdown",
   "metadata": {},
   "source": [
    "**Модель LightGBM преодолела порог RMSE 48.**"
   ]
  },
  {
   "cell_type": "markdown",
   "metadata": {},
   "source": [
    "**Вывод**\n",
    "1. В этом разделе мы:\n",
    "- вычислили RMSE на тестовой выборке\n",
    "\n",
    "2. Заметили:\n",
    "- модель LightGBM преодолела порог RMSE 48."
   ]
  },
  {
   "cell_type": "markdown",
   "metadata": {},
   "source": [
    "**ОБЩИЙ ВЫВОД**\n",
    "\n",
    "1. В этом проекте мы:\n",
    "- рассмотрели данные\n",
    "- подготовили их для обучения\n",
    "- рассмотрели модели линейной регрессии, дерева решений, случайного леса, LightGBM\n",
    "- подобрали для моделей лучшие гиперпараметры\n",
    "- рассчитали RMSE на валидационной выборке с помощью кросс-валидации\n",
    "- рассчитали RMSE на кросс-валидации\n",
    "\n",
    "2. Заметили:\n",
    "- данные включают в себя наблюдения с 1 марта 2018 по 31 августа 2018\n",
    "\n",
    "\n",
    "- спрос на такси постепенно повышается, в марте наименьшее количество заказов, в августе - наибольшее\n",
    "- наименьший спрос бывает в предутреннее время\n",
    "- ближе к началу рабочего дня спрос резко возрастает, преодолевает пик наибольшего значения\n",
    "- в остальное время дня держится в среднем на одном уровне\n",
    "\n",
    "\n",
    "- наибольшее RMSE у модели линейной регрессии\n",
    "- наименьшее RMSE у модели LightGBM\n",
    "\n",
    "\n",
    "- RMSE модели LightGBM на тестовой выборке: 40.67 => 41.36\n",
    "\n",
    "**Для прогноза количества заказов такси на следующий час подходит модель LightGBM с гиперпараметрами:**\n",
    "- **максимальная глубина - 4**\n",
    "- **количество деревьев - 91**\n",
    "\n",
    "**, т.к. она дала лучшее значение RMSE на тренировочной выборке.**"
   ]
  }
 ],
 "metadata": {
  "ExecuteTimeLog": [
   {
    "duration": 21,
    "start_time": "2023-04-10T10:48:16.312Z"
   },
   {
    "duration": 474,
    "start_time": "2023-04-11T08:50:30.204Z"
   },
   {
    "duration": 118,
    "start_time": "2023-04-11T08:51:09.020Z"
   },
   {
    "duration": 16,
    "start_time": "2023-04-11T08:51:37.453Z"
   },
   {
    "duration": 13,
    "start_time": "2023-04-11T08:53:55.276Z"
   },
   {
    "duration": 15,
    "start_time": "2023-04-11T10:19:55.681Z"
   },
   {
    "duration": 14,
    "start_time": "2023-04-11T10:23:00.241Z"
   },
   {
    "duration": 15,
    "start_time": "2023-04-11T10:23:07.916Z"
   },
   {
    "duration": 75,
    "start_time": "2023-04-11T10:23:29.372Z"
   },
   {
    "duration": 10,
    "start_time": "2023-04-11T10:25:31.993Z"
   },
   {
    "duration": 52,
    "start_time": "2023-04-11T10:26:36.767Z"
   },
   {
    "duration": 430,
    "start_time": "2023-04-11T10:26:51.044Z"
   },
   {
    "duration": 49,
    "start_time": "2023-04-11T10:26:51.476Z"
   },
   {
    "duration": 11,
    "start_time": "2023-04-11T10:26:51.527Z"
   },
   {
    "duration": 26,
    "start_time": "2023-04-11T10:26:51.540Z"
   },
   {
    "duration": 14,
    "start_time": "2023-04-11T10:26:51.568Z"
   },
   {
    "duration": 73,
    "start_time": "2023-04-11T10:28:45.435Z"
   },
   {
    "duration": 8,
    "start_time": "2023-04-11T10:29:05.568Z"
   },
   {
    "duration": 440,
    "start_time": "2023-04-11T10:29:10.209Z"
   },
   {
    "duration": 47,
    "start_time": "2023-04-11T10:29:10.652Z"
   },
   {
    "duration": 9,
    "start_time": "2023-04-11T10:29:10.701Z"
   },
   {
    "duration": 14,
    "start_time": "2023-04-11T10:29:10.712Z"
   },
   {
    "duration": 70,
    "start_time": "2023-04-11T10:29:10.728Z"
   },
   {
    "duration": 5,
    "start_time": "2023-04-11T10:29:46.890Z"
   },
   {
    "duration": 16,
    "start_time": "2023-04-11T10:30:37.954Z"
   },
   {
    "duration": 13,
    "start_time": "2023-04-11T10:30:55.517Z"
   },
   {
    "duration": 552,
    "start_time": "2023-04-11T10:35:44.213Z"
   },
   {
    "duration": 56,
    "start_time": "2023-04-11T10:36:23.374Z"
   },
   {
    "duration": 914,
    "start_time": "2023-04-11T10:36:54.421Z"
   },
   {
    "duration": 47,
    "start_time": "2023-04-11T10:36:55.337Z"
   },
   {
    "duration": 11,
    "start_time": "2023-04-11T10:36:55.385Z"
   },
   {
    "duration": 26,
    "start_time": "2023-04-11T10:36:55.397Z"
   },
   {
    "duration": 23,
    "start_time": "2023-04-11T10:36:55.425Z"
   },
   {
    "duration": 21,
    "start_time": "2023-04-11T10:36:55.450Z"
   },
   {
    "duration": 116,
    "start_time": "2023-04-11T10:36:55.473Z"
   },
   {
    "duration": 12,
    "start_time": "2023-04-11T10:48:44.982Z"
   },
   {
    "duration": 980,
    "start_time": "2023-04-11T10:48:52.634Z"
   },
   {
    "duration": 52,
    "start_time": "2023-04-11T10:48:53.616Z"
   },
   {
    "duration": 13,
    "start_time": "2023-04-11T10:48:53.669Z"
   },
   {
    "duration": 30,
    "start_time": "2023-04-11T10:48:53.684Z"
   },
   {
    "duration": 14,
    "start_time": "2023-04-11T10:48:53.716Z"
   },
   {
    "duration": 21,
    "start_time": "2023-04-11T10:48:53.732Z"
   },
   {
    "duration": 11,
    "start_time": "2023-04-11T10:48:53.755Z"
   },
   {
    "duration": 118,
    "start_time": "2023-04-11T10:48:53.768Z"
   },
   {
    "duration": 12,
    "start_time": "2023-04-11T10:49:12.200Z"
   },
   {
    "duration": 12,
    "start_time": "2023-04-11T10:49:15.117Z"
   },
   {
    "duration": 7,
    "start_time": "2023-04-11T10:52:10.283Z"
   },
   {
    "duration": 855,
    "start_time": "2023-04-11T10:52:19.098Z"
   },
   {
    "duration": 6,
    "start_time": "2023-04-11T10:52:33.841Z"
   },
   {
    "duration": 293,
    "start_time": "2023-04-11T10:52:47.255Z"
   },
   {
    "duration": 315,
    "start_time": "2023-04-11T10:52:51.438Z"
   },
   {
    "duration": 16,
    "start_time": "2023-04-11T11:00:02.126Z"
   },
   {
    "duration": 269,
    "start_time": "2023-04-11T11:00:16.206Z"
   },
   {
    "duration": 276,
    "start_time": "2023-04-11T11:00:32.469Z"
   },
   {
    "duration": 340,
    "start_time": "2023-04-11T11:02:12.565Z"
   },
   {
    "duration": 199,
    "start_time": "2023-04-11T11:05:15.771Z"
   },
   {
    "duration": 185,
    "start_time": "2023-04-11T11:05:42.419Z"
   },
   {
    "duration": 298,
    "start_time": "2023-04-11T11:10:36.727Z"
   },
   {
    "duration": 204,
    "start_time": "2023-04-11T11:11:20.034Z"
   },
   {
    "duration": 928,
    "start_time": "2023-04-13T11:40:54.297Z"
   },
   {
    "duration": 132,
    "start_time": "2023-04-13T11:40:55.227Z"
   },
   {
    "duration": 11,
    "start_time": "2023-04-13T11:40:55.361Z"
   },
   {
    "duration": 14,
    "start_time": "2023-04-13T11:40:55.375Z"
   },
   {
    "duration": 6,
    "start_time": "2023-04-13T11:40:55.391Z"
   },
   {
    "duration": 25,
    "start_time": "2023-04-13T11:40:55.399Z"
   },
   {
    "duration": 10,
    "start_time": "2023-04-13T11:40:55.426Z"
   },
   {
    "duration": 13,
    "start_time": "2023-04-13T11:40:55.438Z"
   },
   {
    "duration": 1026,
    "start_time": "2023-04-13T11:40:55.453Z"
   },
   {
    "duration": 186,
    "start_time": "2023-04-13T11:40:56.482Z"
   },
   {
    "duration": 186,
    "start_time": "2023-04-13T11:40:56.670Z"
   },
   {
    "duration": 199,
    "start_time": "2023-04-13T11:42:52.295Z"
   },
   {
    "duration": 278,
    "start_time": "2023-04-13T11:43:29.267Z"
   },
   {
    "duration": 117,
    "start_time": "2023-04-13T11:50:41.281Z"
   },
   {
    "duration": 11,
    "start_time": "2023-04-13T11:51:42.360Z"
   },
   {
    "duration": 12,
    "start_time": "2023-04-13T11:52:45.879Z"
   },
   {
    "duration": 8,
    "start_time": "2023-04-13T11:52:52.987Z"
   },
   {
    "duration": 236,
    "start_time": "2023-04-13T11:53:22.912Z"
   },
   {
    "duration": 287,
    "start_time": "2023-04-13T11:53:46.388Z"
   },
   {
    "duration": 8,
    "start_time": "2023-04-13T11:55:04.502Z"
   },
   {
    "duration": 10,
    "start_time": "2023-04-13T11:55:14.101Z"
   },
   {
    "duration": 220,
    "start_time": "2023-04-13T11:55:21.269Z"
   },
   {
    "duration": 221,
    "start_time": "2023-04-13T11:56:57.209Z"
   },
   {
    "duration": 207,
    "start_time": "2023-04-13T11:56:59.916Z"
   },
   {
    "duration": 243,
    "start_time": "2023-04-13T11:57:51.926Z"
   },
   {
    "duration": 9,
    "start_time": "2023-04-13T11:58:46.276Z"
   },
   {
    "duration": 229,
    "start_time": "2023-04-13T12:01:03.586Z"
   },
   {
    "duration": 293,
    "start_time": "2023-04-13T12:01:37.354Z"
   },
   {
    "duration": 241,
    "start_time": "2023-04-13T12:01:54.111Z"
   },
   {
    "duration": 2698,
    "start_time": "2023-04-13T12:02:09.926Z"
   },
   {
    "duration": 2129,
    "start_time": "2023-04-13T12:02:27.639Z"
   },
   {
    "duration": 909,
    "start_time": "2023-04-13T12:02:43.912Z"
   },
   {
    "duration": 392,
    "start_time": "2023-04-13T12:02:56.592Z"
   },
   {
    "duration": 230,
    "start_time": "2023-04-13T12:04:43.777Z"
   },
   {
    "duration": 305,
    "start_time": "2023-04-13T12:04:51.788Z"
   },
   {
    "duration": 206,
    "start_time": "2023-04-13T12:07:26.230Z"
   },
   {
    "duration": 202,
    "start_time": "2023-04-13T12:07:33.641Z"
   },
   {
    "duration": 5,
    "start_time": "2023-04-13T12:10:12.419Z"
   },
   {
    "duration": 404,
    "start_time": "2023-04-13T12:10:24.715Z"
   },
   {
    "duration": 745,
    "start_time": "2023-04-13T12:10:31.230Z"
   },
   {
    "duration": 301,
    "start_time": "2023-04-13T12:10:34.902Z"
   },
   {
    "duration": 988,
    "start_time": "2023-04-14T11:06:21.130Z"
   },
   {
    "duration": 168,
    "start_time": "2023-04-14T11:06:22.120Z"
   },
   {
    "duration": 15,
    "start_time": "2023-04-14T11:06:22.290Z"
   },
   {
    "duration": 30,
    "start_time": "2023-04-14T11:06:22.307Z"
   },
   {
    "duration": 30,
    "start_time": "2023-04-14T11:06:22.339Z"
   },
   {
    "duration": 22,
    "start_time": "2023-04-14T11:06:22.371Z"
   },
   {
    "duration": 13,
    "start_time": "2023-04-14T11:06:22.395Z"
   },
   {
    "duration": 13,
    "start_time": "2023-04-14T11:06:22.410Z"
   },
   {
    "duration": 849,
    "start_time": "2023-04-14T11:06:22.429Z"
   },
   {
    "duration": 211,
    "start_time": "2023-04-14T11:06:23.280Z"
   },
   {
    "duration": 269,
    "start_time": "2023-04-14T11:06:23.493Z"
   },
   {
    "duration": 207,
    "start_time": "2023-04-14T11:06:23.768Z"
   },
   {
    "duration": 339,
    "start_time": "2023-04-14T11:06:23.977Z"
   },
   {
    "duration": 239,
    "start_time": "2023-04-14T11:06:24.318Z"
   },
   {
    "duration": 345,
    "start_time": "2023-04-14T11:06:24.559Z"
   },
   {
    "duration": 978,
    "start_time": "2023-04-14T12:08:50.620Z"
   },
   {
    "duration": 64,
    "start_time": "2023-04-14T12:08:51.601Z"
   },
   {
    "duration": 14,
    "start_time": "2023-04-14T12:08:51.667Z"
   },
   {
    "duration": 31,
    "start_time": "2023-04-14T12:08:51.684Z"
   },
   {
    "duration": 30,
    "start_time": "2023-04-14T12:08:51.717Z"
   },
   {
    "duration": 58,
    "start_time": "2023-04-14T12:08:51.753Z"
   },
   {
    "duration": 27,
    "start_time": "2023-04-14T12:08:51.813Z"
   },
   {
    "duration": 63,
    "start_time": "2023-04-14T12:08:51.842Z"
   },
   {
    "duration": 782,
    "start_time": "2023-04-14T12:08:51.907Z"
   },
   {
    "duration": 225,
    "start_time": "2023-04-14T12:08:52.691Z"
   },
   {
    "duration": 373,
    "start_time": "2023-04-14T12:08:52.919Z"
   },
   {
    "duration": 318,
    "start_time": "2023-04-14T12:08:53.294Z"
   },
   {
    "duration": 387,
    "start_time": "2023-04-14T12:08:53.614Z"
   },
   {
    "duration": 393,
    "start_time": "2023-04-14T12:08:54.004Z"
   },
   {
    "duration": 411,
    "start_time": "2023-04-14T12:08:54.399Z"
   },
   {
    "duration": 36,
    "start_time": "2023-04-14T12:18:44.329Z"
   },
   {
    "duration": 6582,
    "start_time": "2023-04-14T12:19:31.713Z"
   },
   {
    "duration": 7563,
    "start_time": "2023-04-14T12:19:58.938Z"
   },
   {
    "duration": 6,
    "start_time": "2023-04-14T12:20:13.038Z"
   },
   {
    "duration": 7,
    "start_time": "2023-04-14T12:23:43.502Z"
   },
   {
    "duration": 519,
    "start_time": "2023-04-14T12:23:44.667Z"
   },
   {
    "duration": 10,
    "start_time": "2023-04-14T12:23:51.706Z"
   },
   {
    "duration": 458,
    "start_time": "2023-04-14T12:23:52.449Z"
   },
   {
    "duration": 24,
    "start_time": "2023-04-14T12:33:13.839Z"
   },
   {
    "duration": 834,
    "start_time": "2023-04-14T12:34:42.996Z"
   },
   {
    "duration": 57,
    "start_time": "2023-04-14T12:34:43.832Z"
   },
   {
    "duration": 13,
    "start_time": "2023-04-14T12:34:43.891Z"
   },
   {
    "duration": 22,
    "start_time": "2023-04-14T12:34:43.906Z"
   },
   {
    "duration": 33,
    "start_time": "2023-04-14T12:34:43.930Z"
   },
   {
    "duration": 14,
    "start_time": "2023-04-14T12:34:43.965Z"
   },
   {
    "duration": 10,
    "start_time": "2023-04-14T12:34:43.981Z"
   },
   {
    "duration": 6,
    "start_time": "2023-04-14T12:34:43.993Z"
   },
   {
    "duration": 564,
    "start_time": "2023-04-14T12:34:44.001Z"
   },
   {
    "duration": 198,
    "start_time": "2023-04-14T12:34:44.569Z"
   },
   {
    "duration": 245,
    "start_time": "2023-04-14T12:34:44.770Z"
   },
   {
    "duration": 204,
    "start_time": "2023-04-14T12:34:45.016Z"
   },
   {
    "duration": 324,
    "start_time": "2023-04-14T12:34:45.222Z"
   },
   {
    "duration": 197,
    "start_time": "2023-04-14T12:34:45.547Z"
   },
   {
    "duration": 13,
    "start_time": "2023-04-14T12:34:45.748Z"
   },
   {
    "duration": 4,
    "start_time": "2023-04-14T12:41:01.888Z"
   },
   {
    "duration": 183,
    "start_time": "2023-04-14T12:42:55.926Z"
   },
   {
    "duration": 928,
    "start_time": "2023-04-14T12:43:11.194Z"
   },
   {
    "duration": 69,
    "start_time": "2023-04-14T12:43:12.125Z"
   },
   {
    "duration": 13,
    "start_time": "2023-04-14T12:43:12.195Z"
   },
   {
    "duration": 26,
    "start_time": "2023-04-14T12:43:12.210Z"
   },
   {
    "duration": 10,
    "start_time": "2023-04-14T12:43:12.238Z"
   },
   {
    "duration": 45,
    "start_time": "2023-04-14T12:43:12.258Z"
   },
   {
    "duration": 14,
    "start_time": "2023-04-14T12:43:12.305Z"
   },
   {
    "duration": 14,
    "start_time": "2023-04-14T12:43:12.322Z"
   },
   {
    "duration": 653,
    "start_time": "2023-04-14T12:43:12.339Z"
   },
   {
    "duration": 201,
    "start_time": "2023-04-14T12:43:12.994Z"
   },
   {
    "duration": 274,
    "start_time": "2023-04-14T12:43:13.197Z"
   },
   {
    "duration": 298,
    "start_time": "2023-04-14T12:43:13.473Z"
   },
   {
    "duration": 351,
    "start_time": "2023-04-14T12:43:13.773Z"
   },
   {
    "duration": 229,
    "start_time": "2023-04-14T12:43:14.126Z"
   },
   {
    "duration": 151,
    "start_time": "2023-04-14T12:43:14.359Z"
   },
   {
    "duration": 293,
    "start_time": "2023-04-14T12:43:40.210Z"
   },
   {
    "duration": 38,
    "start_time": "2023-04-14T12:43:46.876Z"
   },
   {
    "duration": 1176,
    "start_time": "2023-04-14T12:43:57.083Z"
   },
   {
    "duration": 54,
    "start_time": "2023-04-14T12:43:58.260Z"
   },
   {
    "duration": 10,
    "start_time": "2023-04-14T12:43:58.315Z"
   },
   {
    "duration": 38,
    "start_time": "2023-04-14T12:43:58.327Z"
   },
   {
    "duration": 35,
    "start_time": "2023-04-14T12:43:58.367Z"
   },
   {
    "duration": 37,
    "start_time": "2023-04-14T12:43:58.404Z"
   },
   {
    "duration": 36,
    "start_time": "2023-04-14T12:43:58.443Z"
   },
   {
    "duration": 16,
    "start_time": "2023-04-14T12:43:58.481Z"
   },
   {
    "duration": 632,
    "start_time": "2023-04-14T12:43:58.499Z"
   },
   {
    "duration": 176,
    "start_time": "2023-04-14T12:43:59.133Z"
   },
   {
    "duration": 257,
    "start_time": "2023-04-14T12:43:59.311Z"
   },
   {
    "duration": 289,
    "start_time": "2023-04-14T12:43:59.570Z"
   },
   {
    "duration": 262,
    "start_time": "2023-04-14T12:43:59.860Z"
   },
   {
    "duration": 210,
    "start_time": "2023-04-14T12:44:00.125Z"
   },
   {
    "duration": 14,
    "start_time": "2023-04-14T12:44:00.337Z"
   },
   {
    "duration": 1282,
    "start_time": "2023-04-14T19:09:19.745Z"
   },
   {
    "duration": 12,
    "start_time": "2023-04-14T19:09:46.139Z"
   },
   {
    "duration": 4,
    "start_time": "2023-04-14T19:15:22.228Z"
   },
   {
    "duration": 9,
    "start_time": "2023-04-14T19:20:57.139Z"
   },
   {
    "duration": 8,
    "start_time": "2023-04-14T19:21:03.775Z"
   },
   {
    "duration": 8,
    "start_time": "2023-04-14T19:21:04.080Z"
   },
   {
    "duration": 1210,
    "start_time": "2023-04-14T19:21:08.491Z"
   },
   {
    "duration": 133,
    "start_time": "2023-04-14T19:21:09.703Z"
   },
   {
    "duration": 10,
    "start_time": "2023-04-14T19:21:09.838Z"
   },
   {
    "duration": 17,
    "start_time": "2023-04-14T19:21:09.850Z"
   },
   {
    "duration": 19,
    "start_time": "2023-04-14T19:21:09.868Z"
   },
   {
    "duration": 33,
    "start_time": "2023-04-14T19:21:09.889Z"
   },
   {
    "duration": 9,
    "start_time": "2023-04-14T19:21:09.923Z"
   },
   {
    "duration": 28,
    "start_time": "2023-04-14T19:21:09.934Z"
   },
   {
    "duration": 732,
    "start_time": "2023-04-14T19:21:09.963Z"
   },
   {
    "duration": 162,
    "start_time": "2023-04-14T19:21:10.697Z"
   },
   {
    "duration": 305,
    "start_time": "2023-04-14T19:21:10.860Z"
   },
   {
    "duration": 194,
    "start_time": "2023-04-14T19:21:11.166Z"
   },
   {
    "duration": 264,
    "start_time": "2023-04-14T19:21:11.361Z"
   },
   {
    "duration": 190,
    "start_time": "2023-04-14T19:21:11.627Z"
   },
   {
    "duration": 5,
    "start_time": "2023-04-14T19:21:11.818Z"
   },
   {
    "duration": 10,
    "start_time": "2023-04-14T19:21:11.824Z"
   },
   {
    "duration": 130,
    "start_time": "2023-04-14T19:21:11.836Z"
   },
   {
    "duration": 6,
    "start_time": "2023-04-14T19:24:43.727Z"
   },
   {
    "duration": 8,
    "start_time": "2023-04-14T19:24:51.280Z"
   },
   {
    "duration": 5,
    "start_time": "2023-04-14T19:28:26.169Z"
   },
   {
    "duration": 5,
    "start_time": "2023-04-14T19:28:51.061Z"
   },
   {
    "duration": 5,
    "start_time": "2023-04-14T19:30:28.401Z"
   },
   {
    "duration": 4,
    "start_time": "2023-04-14T19:31:27.813Z"
   },
   {
    "duration": 5,
    "start_time": "2023-04-14T19:31:37.653Z"
   },
   {
    "duration": 5,
    "start_time": "2023-04-14T19:31:44.571Z"
   },
   {
    "duration": 8,
    "start_time": "2023-04-14T19:32:09.343Z"
   },
   {
    "duration": 7,
    "start_time": "2023-04-14T19:32:53.677Z"
   },
   {
    "duration": 5,
    "start_time": "2023-04-14T19:33:17.821Z"
   },
   {
    "duration": 5,
    "start_time": "2023-04-14T19:33:26.645Z"
   },
   {
    "duration": 5,
    "start_time": "2023-04-14T19:33:27.070Z"
   },
   {
    "duration": 4,
    "start_time": "2023-04-14T19:33:41.509Z"
   },
   {
    "duration": 5,
    "start_time": "2023-04-14T19:33:53.042Z"
   },
   {
    "duration": 10,
    "start_time": "2023-04-14T19:34:14.096Z"
   },
   {
    "duration": 1115,
    "start_time": "2023-04-14T19:34:19.680Z"
   },
   {
    "duration": 49,
    "start_time": "2023-04-14T19:34:20.798Z"
   },
   {
    "duration": 11,
    "start_time": "2023-04-14T19:34:20.849Z"
   },
   {
    "duration": 18,
    "start_time": "2023-04-14T19:34:20.861Z"
   },
   {
    "duration": 7,
    "start_time": "2023-04-14T19:34:20.881Z"
   },
   {
    "duration": 18,
    "start_time": "2023-04-14T19:34:20.889Z"
   },
   {
    "duration": 9,
    "start_time": "2023-04-14T19:34:20.908Z"
   },
   {
    "duration": 23,
    "start_time": "2023-04-14T19:34:20.918Z"
   },
   {
    "duration": 510,
    "start_time": "2023-04-14T19:34:20.943Z"
   },
   {
    "duration": 164,
    "start_time": "2023-04-14T19:34:21.455Z"
   },
   {
    "duration": 232,
    "start_time": "2023-04-14T19:34:21.620Z"
   },
   {
    "duration": 248,
    "start_time": "2023-04-14T19:34:21.853Z"
   },
   {
    "duration": 250,
    "start_time": "2023-04-14T19:34:22.103Z"
   },
   {
    "duration": 199,
    "start_time": "2023-04-14T19:34:22.355Z"
   },
   {
    "duration": 6,
    "start_time": "2023-04-14T19:34:22.556Z"
   },
   {
    "duration": 10,
    "start_time": "2023-04-14T19:34:22.563Z"
   },
   {
    "duration": 5,
    "start_time": "2023-04-14T19:34:22.574Z"
   },
   {
    "duration": 4,
    "start_time": "2023-04-14T19:34:22.580Z"
   },
   {
    "duration": 5,
    "start_time": "2023-04-14T19:34:22.586Z"
   },
   {
    "duration": 12,
    "start_time": "2023-04-14T19:34:22.593Z"
   },
   {
    "duration": 8,
    "start_time": "2023-04-14T19:34:22.606Z"
   },
   {
    "duration": 36,
    "start_time": "2023-04-14T19:34:22.615Z"
   },
   {
    "duration": 127,
    "start_time": "2023-04-14T19:34:22.653Z"
   },
   {
    "duration": 20,
    "start_time": "2023-04-14T19:34:41.053Z"
   },
   {
    "duration": 9,
    "start_time": "2023-04-14T19:38:54.193Z"
   },
   {
    "duration": 3,
    "start_time": "2023-04-14T19:54:53.065Z"
   },
   {
    "duration": 2,
    "start_time": "2023-04-14T19:55:12.789Z"
   },
   {
    "duration": 4,
    "start_time": "2023-04-14T19:56:26.684Z"
   },
   {
    "duration": 2,
    "start_time": "2023-04-14T19:56:36.951Z"
   },
   {
    "duration": 9,
    "start_time": "2023-04-14T19:57:12.238Z"
   },
   {
    "duration": 9,
    "start_time": "2023-04-14T19:57:38.809Z"
   },
   {
    "duration": 4,
    "start_time": "2023-04-14T19:57:42.320Z"
   },
   {
    "duration": 15,
    "start_time": "2023-04-14T19:57:47.467Z"
   },
   {
    "duration": 11,
    "start_time": "2023-04-14T19:58:18.132Z"
   },
   {
    "duration": 15,
    "start_time": "2023-04-14T19:58:18.751Z"
   },
   {
    "duration": 3,
    "start_time": "2023-04-14T19:58:23.509Z"
   },
   {
    "duration": 20,
    "start_time": "2023-04-14T19:58:24.361Z"
   },
   {
    "duration": 16,
    "start_time": "2023-04-14T19:58:51.481Z"
   },
   {
    "duration": 70,
    "start_time": "2023-04-14T19:59:02.180Z"
   },
   {
    "duration": 15,
    "start_time": "2023-04-14T19:59:14.429Z"
   },
   {
    "duration": 5,
    "start_time": "2023-04-14T19:59:36.883Z"
   },
   {
    "duration": 1143,
    "start_time": "2023-04-14T20:00:10.142Z"
   },
   {
    "duration": 49,
    "start_time": "2023-04-14T20:00:11.287Z"
   },
   {
    "duration": 12,
    "start_time": "2023-04-14T20:00:11.337Z"
   },
   {
    "duration": 49,
    "start_time": "2023-04-14T20:00:11.350Z"
   },
   {
    "duration": 23,
    "start_time": "2023-04-14T20:00:11.401Z"
   },
   {
    "duration": 26,
    "start_time": "2023-04-14T20:00:11.425Z"
   },
   {
    "duration": 14,
    "start_time": "2023-04-14T20:00:11.453Z"
   },
   {
    "duration": 24,
    "start_time": "2023-04-14T20:00:11.469Z"
   },
   {
    "duration": 497,
    "start_time": "2023-04-14T20:00:11.494Z"
   },
   {
    "duration": 158,
    "start_time": "2023-04-14T20:00:11.992Z"
   },
   {
    "duration": 232,
    "start_time": "2023-04-14T20:00:12.152Z"
   },
   {
    "duration": 254,
    "start_time": "2023-04-14T20:00:12.386Z"
   },
   {
    "duration": 259,
    "start_time": "2023-04-14T20:00:12.642Z"
   },
   {
    "duration": 210,
    "start_time": "2023-04-14T20:00:12.903Z"
   },
   {
    "duration": 6,
    "start_time": "2023-04-14T20:00:13.115Z"
   },
   {
    "duration": 25,
    "start_time": "2023-04-14T20:00:13.123Z"
   },
   {
    "duration": 13,
    "start_time": "2023-04-14T20:00:13.150Z"
   },
   {
    "duration": 11,
    "start_time": "2023-04-14T20:00:13.164Z"
   },
   {
    "duration": 31,
    "start_time": "2023-04-14T20:00:13.176Z"
   },
   {
    "duration": 12,
    "start_time": "2023-04-14T20:00:13.209Z"
   },
   {
    "duration": 23,
    "start_time": "2023-04-14T20:00:13.222Z"
   },
   {
    "duration": 23,
    "start_time": "2023-04-14T20:00:13.247Z"
   },
   {
    "duration": 22,
    "start_time": "2023-04-14T20:00:13.272Z"
   },
   {
    "duration": 43,
    "start_time": "2023-04-14T20:00:13.295Z"
   },
   {
    "duration": 17,
    "start_time": "2023-04-14T20:00:38.760Z"
   },
   {
    "duration": 18,
    "start_time": "2023-04-14T20:00:58.141Z"
   },
   {
    "duration": 19,
    "start_time": "2023-04-14T20:01:02.695Z"
   },
   {
    "duration": 18,
    "start_time": "2023-04-14T20:01:20.717Z"
   },
   {
    "duration": 18,
    "start_time": "2023-04-14T20:01:35.889Z"
   },
   {
    "duration": 39,
    "start_time": "2023-04-14T21:47:49.042Z"
   },
   {
    "duration": 143,
    "start_time": "2023-04-14T21:48:18.375Z"
   },
   {
    "duration": 3,
    "start_time": "2023-04-14T21:48:25.622Z"
   },
   {
    "duration": 4,
    "start_time": "2023-04-14T21:49:54.566Z"
   },
   {
    "duration": 15,
    "start_time": "2023-04-14T21:55:01.087Z"
   },
   {
    "duration": 10,
    "start_time": "2023-04-14T21:55:52.998Z"
   },
   {
    "duration": 376,
    "start_time": "2023-04-14T21:56:09.689Z"
   },
   {
    "duration": 14,
    "start_time": "2023-04-14T21:57:59.547Z"
   },
   {
    "duration": 3,
    "start_time": "2023-04-14T21:58:02.443Z"
   },
   {
    "duration": 18,
    "start_time": "2023-04-14T21:58:02.804Z"
   },
   {
    "duration": 193,
    "start_time": "2023-04-14T21:58:10.448Z"
   },
   {
    "duration": 199,
    "start_time": "2023-04-14T21:59:53.499Z"
   },
   {
    "duration": 2,
    "start_time": "2023-04-14T22:00:18.174Z"
   },
   {
    "duration": 21,
    "start_time": "2023-04-14T22:00:34.489Z"
   },
   {
    "duration": 51,
    "start_time": "2023-04-15T18:13:23.591Z"
   },
   {
    "duration": 1428,
    "start_time": "2023-04-15T18:13:28.372Z"
   },
   {
    "duration": 128,
    "start_time": "2023-04-15T18:13:29.801Z"
   },
   {
    "duration": 13,
    "start_time": "2023-04-15T18:13:29.930Z"
   },
   {
    "duration": 15,
    "start_time": "2023-04-15T18:13:29.945Z"
   },
   {
    "duration": 5,
    "start_time": "2023-04-15T18:13:29.961Z"
   },
   {
    "duration": 16,
    "start_time": "2023-04-15T18:13:29.968Z"
   },
   {
    "duration": 11,
    "start_time": "2023-04-15T18:13:29.986Z"
   },
   {
    "duration": 26,
    "start_time": "2023-04-15T18:13:29.998Z"
   },
   {
    "duration": 661,
    "start_time": "2023-04-15T18:13:30.026Z"
   },
   {
    "duration": 307,
    "start_time": "2023-04-15T18:13:30.692Z"
   },
   {
    "duration": 295,
    "start_time": "2023-04-15T18:13:31.001Z"
   },
   {
    "duration": 235,
    "start_time": "2023-04-15T18:13:31.299Z"
   },
   {
    "duration": 328,
    "start_time": "2023-04-15T18:13:31.536Z"
   },
   {
    "duration": 258,
    "start_time": "2023-04-15T18:13:31.867Z"
   },
   {
    "duration": 16,
    "start_time": "2023-04-15T18:13:32.127Z"
   },
   {
    "duration": 20,
    "start_time": "2023-04-15T18:13:32.145Z"
   },
   {
    "duration": 21,
    "start_time": "2023-04-15T18:13:32.168Z"
   },
   {
    "duration": 27,
    "start_time": "2023-04-15T18:13:32.191Z"
   },
   {
    "duration": 23,
    "start_time": "2023-04-15T18:13:32.220Z"
   },
   {
    "duration": 21,
    "start_time": "2023-04-15T18:13:32.245Z"
   },
   {
    "duration": 37,
    "start_time": "2023-04-15T18:13:32.268Z"
   },
   {
    "duration": 13,
    "start_time": "2023-04-15T18:13:32.307Z"
   },
   {
    "duration": 36,
    "start_time": "2023-04-15T18:13:32.322Z"
   },
   {
    "duration": 246,
    "start_time": "2023-04-15T18:13:32.360Z"
   },
   {
    "duration": 33,
    "start_time": "2023-04-15T18:13:32.608Z"
   },
   {
    "duration": 3,
    "start_time": "2023-04-15T18:13:32.643Z"
   },
   {
    "duration": 27,
    "start_time": "2023-04-15T18:13:52.151Z"
   },
   {
    "duration": 23,
    "start_time": "2023-04-15T18:17:03.454Z"
   },
   {
    "duration": 242,
    "start_time": "2023-04-15T18:17:04.603Z"
   },
   {
    "duration": 31,
    "start_time": "2023-04-15T19:24:12.656Z"
   },
   {
    "duration": 5,
    "start_time": "2023-04-15T19:28:13.773Z"
   },
   {
    "duration": 9,
    "start_time": "2023-04-15T19:29:34.454Z"
   },
   {
    "duration": 12,
    "start_time": "2023-04-15T19:29:38.073Z"
   },
   {
    "duration": 11,
    "start_time": "2023-04-15T19:29:51.709Z"
   },
   {
    "duration": 11,
    "start_time": "2023-04-15T19:30:19.975Z"
   },
   {
    "duration": 11,
    "start_time": "2023-04-15T19:30:24.505Z"
   },
   {
    "duration": 32,
    "start_time": "2023-04-15T20:19:07.072Z"
   },
   {
    "duration": 40,
    "start_time": "2023-04-15T20:19:24.555Z"
   },
   {
    "duration": 32,
    "start_time": "2023-04-15T20:19:31.520Z"
   },
   {
    "duration": 20,
    "start_time": "2023-04-15T20:21:04.525Z"
   },
   {
    "duration": 7,
    "start_time": "2023-04-15T20:21:48.909Z"
   },
   {
    "duration": 10,
    "start_time": "2023-04-15T20:21:52.929Z"
   },
   {
    "duration": 1460,
    "start_time": "2023-04-15T20:22:02.769Z"
   },
   {
    "duration": 65,
    "start_time": "2023-04-15T20:22:04.231Z"
   },
   {
    "duration": 14,
    "start_time": "2023-04-15T20:22:04.298Z"
   },
   {
    "duration": 15,
    "start_time": "2023-04-15T20:22:04.314Z"
   },
   {
    "duration": 7,
    "start_time": "2023-04-15T20:22:04.332Z"
   },
   {
    "duration": 37,
    "start_time": "2023-04-15T20:22:04.341Z"
   },
   {
    "duration": 13,
    "start_time": "2023-04-15T20:22:04.379Z"
   },
   {
    "duration": 15,
    "start_time": "2023-04-15T20:22:04.394Z"
   },
   {
    "duration": 500,
    "start_time": "2023-04-15T20:22:04.411Z"
   },
   {
    "duration": 215,
    "start_time": "2023-04-15T20:22:04.913Z"
   },
   {
    "duration": 393,
    "start_time": "2023-04-15T20:22:05.131Z"
   },
   {
    "duration": 248,
    "start_time": "2023-04-15T20:22:05.527Z"
   },
   {
    "duration": 340,
    "start_time": "2023-04-15T20:22:05.778Z"
   },
   {
    "duration": 344,
    "start_time": "2023-04-15T20:22:06.122Z"
   },
   {
    "duration": 13,
    "start_time": "2023-04-15T20:22:06.469Z"
   },
   {
    "duration": 32,
    "start_time": "2023-04-15T20:22:06.485Z"
   },
   {
    "duration": 43,
    "start_time": "2023-04-15T20:22:06.519Z"
   },
   {
    "duration": 20,
    "start_time": "2023-04-15T20:22:06.564Z"
   },
   {
    "duration": 24,
    "start_time": "2023-04-15T20:22:06.587Z"
   },
   {
    "duration": 13,
    "start_time": "2023-04-15T20:22:06.613Z"
   },
   {
    "duration": 43,
    "start_time": "2023-04-15T20:22:06.628Z"
   },
   {
    "duration": 51,
    "start_time": "2023-04-15T20:22:06.674Z"
   },
   {
    "duration": 332,
    "start_time": "2023-04-15T20:22:06.727Z"
   },
   {
    "duration": 31,
    "start_time": "2023-04-15T20:22:07.061Z"
   },
   {
    "duration": 3,
    "start_time": "2023-04-15T20:22:07.094Z"
   },
   {
    "duration": 1463,
    "start_time": "2023-04-15T20:22:34.457Z"
   },
   {
    "duration": 63,
    "start_time": "2023-04-15T20:22:35.922Z"
   },
   {
    "duration": 16,
    "start_time": "2023-04-15T20:22:35.988Z"
   },
   {
    "duration": 25,
    "start_time": "2023-04-15T20:22:36.006Z"
   },
   {
    "duration": 9,
    "start_time": "2023-04-15T20:22:36.035Z"
   },
   {
    "duration": 46,
    "start_time": "2023-04-15T20:22:36.047Z"
   },
   {
    "duration": 38,
    "start_time": "2023-04-15T20:22:36.095Z"
   },
   {
    "duration": 10,
    "start_time": "2023-04-15T20:22:36.135Z"
   },
   {
    "duration": 531,
    "start_time": "2023-04-15T20:22:36.154Z"
   },
   {
    "duration": 219,
    "start_time": "2023-04-15T20:22:36.688Z"
   },
   {
    "duration": 389,
    "start_time": "2023-04-15T20:22:36.909Z"
   },
   {
    "duration": 234,
    "start_time": "2023-04-15T20:22:37.300Z"
   },
   {
    "duration": 310,
    "start_time": "2023-04-15T20:22:37.535Z"
   },
   {
    "duration": 241,
    "start_time": "2023-04-15T20:22:37.854Z"
   },
   {
    "duration": 17,
    "start_time": "2023-04-15T20:22:38.096Z"
   },
   {
    "duration": 36,
    "start_time": "2023-04-15T20:22:38.115Z"
   },
   {
    "duration": 22,
    "start_time": "2023-04-15T20:22:38.153Z"
   },
   {
    "duration": 7,
    "start_time": "2023-04-15T20:22:38.178Z"
   },
   {
    "duration": 12,
    "start_time": "2023-04-15T20:22:38.187Z"
   },
   {
    "duration": 10,
    "start_time": "2023-04-15T20:22:38.202Z"
   },
   {
    "duration": 8,
    "start_time": "2023-04-15T20:22:38.214Z"
   },
   {
    "duration": 55,
    "start_time": "2023-04-15T20:22:38.224Z"
   },
   {
    "duration": 290,
    "start_time": "2023-04-15T20:22:38.281Z"
   },
   {
    "duration": 25,
    "start_time": "2023-04-15T20:22:38.573Z"
   },
   {
    "duration": 4,
    "start_time": "2023-04-15T20:22:38.600Z"
   },
   {
    "duration": 8,
    "start_time": "2023-04-15T20:24:32.760Z"
   },
   {
    "duration": 12,
    "start_time": "2023-04-15T20:24:37.441Z"
   },
   {
    "duration": 11,
    "start_time": "2023-04-15T20:24:41.517Z"
   },
   {
    "duration": 1469,
    "start_time": "2023-04-15T20:25:54.229Z"
   },
   {
    "duration": 67,
    "start_time": "2023-04-15T20:25:55.700Z"
   },
   {
    "duration": 19,
    "start_time": "2023-04-15T20:25:55.769Z"
   },
   {
    "duration": 38,
    "start_time": "2023-04-15T20:25:55.790Z"
   },
   {
    "duration": 8,
    "start_time": "2023-04-15T20:25:55.832Z"
   },
   {
    "duration": 31,
    "start_time": "2023-04-15T20:25:55.848Z"
   },
   {
    "duration": 21,
    "start_time": "2023-04-15T20:25:55.881Z"
   },
   {
    "duration": 28,
    "start_time": "2023-04-15T20:25:55.905Z"
   },
   {
    "duration": 600,
    "start_time": "2023-04-15T20:25:55.936Z"
   },
   {
    "duration": 237,
    "start_time": "2023-04-15T20:25:56.541Z"
   },
   {
    "duration": 399,
    "start_time": "2023-04-15T20:25:56.781Z"
   },
   {
    "duration": 269,
    "start_time": "2023-04-15T20:25:57.182Z"
   },
   {
    "duration": 292,
    "start_time": "2023-04-15T20:25:57.453Z"
   },
   {
    "duration": 247,
    "start_time": "2023-04-15T20:25:57.749Z"
   },
   {
    "duration": 9,
    "start_time": "2023-04-15T20:25:57.998Z"
   },
   {
    "duration": 26,
    "start_time": "2023-04-15T20:25:58.009Z"
   },
   {
    "duration": 27,
    "start_time": "2023-04-15T20:25:58.041Z"
   },
   {
    "duration": 14,
    "start_time": "2023-04-15T20:25:58.070Z"
   },
   {
    "duration": 17,
    "start_time": "2023-04-15T20:25:58.086Z"
   },
   {
    "duration": 14,
    "start_time": "2023-04-15T20:25:58.105Z"
   },
   {
    "duration": 20,
    "start_time": "2023-04-15T20:25:58.120Z"
   },
   {
    "duration": 52,
    "start_time": "2023-04-15T20:25:58.143Z"
   },
   {
    "duration": 309,
    "start_time": "2023-04-15T20:25:58.197Z"
   },
   {
    "duration": 34,
    "start_time": "2023-04-15T20:25:58.508Z"
   },
   {
    "duration": 3,
    "start_time": "2023-04-15T20:25:58.553Z"
   },
   {
    "duration": 28,
    "start_time": "2023-04-15T20:26:21.660Z"
   },
   {
    "duration": 15,
    "start_time": "2023-04-15T20:39:57.532Z"
   },
   {
    "duration": 28,
    "start_time": "2023-04-15T20:41:08.971Z"
   },
   {
    "duration": 126,
    "start_time": "2023-04-15T20:45:19.771Z"
   },
   {
    "duration": 14,
    "start_time": "2023-04-15T20:48:53.285Z"
   },
   {
    "duration": 30,
    "start_time": "2023-04-15T20:49:14.981Z"
   },
   {
    "duration": 29,
    "start_time": "2023-04-15T20:50:03.195Z"
   },
   {
    "duration": 1554,
    "start_time": "2023-04-15T20:50:51.909Z"
   },
   {
    "duration": 53,
    "start_time": "2023-04-15T20:50:53.465Z"
   },
   {
    "duration": 13,
    "start_time": "2023-04-15T20:50:53.520Z"
   },
   {
    "duration": 24,
    "start_time": "2023-04-15T20:50:53.536Z"
   },
   {
    "duration": 13,
    "start_time": "2023-04-15T20:50:53.562Z"
   },
   {
    "duration": 33,
    "start_time": "2023-04-15T20:50:53.578Z"
   },
   {
    "duration": 16,
    "start_time": "2023-04-15T20:50:53.614Z"
   },
   {
    "duration": 14,
    "start_time": "2023-04-15T20:50:53.632Z"
   },
   {
    "duration": 465,
    "start_time": "2023-04-15T20:50:53.648Z"
   },
   {
    "duration": 228,
    "start_time": "2023-04-15T20:50:54.116Z"
   },
   {
    "duration": 382,
    "start_time": "2023-04-15T20:50:54.346Z"
   },
   {
    "duration": 255,
    "start_time": "2023-04-15T20:50:54.730Z"
   },
   {
    "duration": 325,
    "start_time": "2023-04-15T20:50:54.987Z"
   },
   {
    "duration": 259,
    "start_time": "2023-04-15T20:50:55.314Z"
   },
   {
    "duration": 11,
    "start_time": "2023-04-15T20:50:55.575Z"
   },
   {
    "duration": 32,
    "start_time": "2023-04-15T20:50:55.587Z"
   },
   {
    "duration": 13,
    "start_time": "2023-04-15T20:50:55.622Z"
   },
   {
    "duration": 21,
    "start_time": "2023-04-15T20:50:55.637Z"
   },
   {
    "duration": 12,
    "start_time": "2023-04-15T20:50:55.660Z"
   },
   {
    "duration": 39,
    "start_time": "2023-04-15T20:50:55.674Z"
   },
   {
    "duration": 14,
    "start_time": "2023-04-15T20:50:55.716Z"
   },
   {
    "duration": 35,
    "start_time": "2023-04-15T20:50:55.732Z"
   },
   {
    "duration": 338,
    "start_time": "2023-04-15T20:50:55.769Z"
   },
   {
    "duration": 49,
    "start_time": "2023-04-15T20:50:56.110Z"
   },
   {
    "duration": 50221,
    "start_time": "2023-04-15T20:50:56.164Z"
   },
   {
    "duration": 3,
    "start_time": "2023-04-15T20:51:46.387Z"
   },
   {
    "duration": 16,
    "start_time": "2023-04-15T20:51:46.392Z"
   },
   {
    "duration": 3,
    "start_time": "2023-04-15T20:53:26.391Z"
   },
   {
    "duration": 820,
    "start_time": "2023-04-15T20:57:12.981Z"
   },
   {
    "duration": 23,
    "start_time": "2023-04-15T21:01:11.817Z"
   },
   {
    "duration": 27,
    "start_time": "2023-04-15T21:01:39.953Z"
   },
   {
    "duration": 740,
    "start_time": "2023-04-15T21:02:01.216Z"
   },
   {
    "duration": 73,
    "start_time": "2023-04-15T21:02:14.459Z"
   },
   {
    "duration": 699,
    "start_time": "2023-04-15T21:02:19.825Z"
   },
   {
    "duration": 5,
    "start_time": "2023-04-15T21:03:18.756Z"
   },
   {
    "duration": 1482,
    "start_time": "2023-04-15T21:08:26.331Z"
   },
   {
    "duration": 86,
    "start_time": "2023-04-15T21:08:27.815Z"
   },
   {
    "duration": 15,
    "start_time": "2023-04-15T21:08:27.904Z"
   },
   {
    "duration": 52,
    "start_time": "2023-04-15T21:08:27.921Z"
   },
   {
    "duration": 19,
    "start_time": "2023-04-15T21:08:27.977Z"
   },
   {
    "duration": 34,
    "start_time": "2023-04-15T21:08:27.998Z"
   },
   {
    "duration": 34,
    "start_time": "2023-04-15T21:08:28.034Z"
   },
   {
    "duration": 54,
    "start_time": "2023-04-15T21:08:28.070Z"
   },
   {
    "duration": 488,
    "start_time": "2023-04-15T21:08:28.127Z"
   },
   {
    "duration": 220,
    "start_time": "2023-04-15T21:08:28.617Z"
   },
   {
    "duration": 391,
    "start_time": "2023-04-15T21:08:28.841Z"
   },
   {
    "duration": 254,
    "start_time": "2023-04-15T21:08:29.234Z"
   },
   {
    "duration": 316,
    "start_time": "2023-04-15T21:08:29.490Z"
   },
   {
    "duration": 267,
    "start_time": "2023-04-15T21:08:29.810Z"
   },
   {
    "duration": 10,
    "start_time": "2023-04-15T21:08:30.079Z"
   },
   {
    "duration": 24,
    "start_time": "2023-04-15T21:08:30.091Z"
   },
   {
    "duration": 40,
    "start_time": "2023-04-15T21:08:30.118Z"
   },
   {
    "duration": 17,
    "start_time": "2023-04-15T21:08:30.160Z"
   },
   {
    "duration": 42,
    "start_time": "2023-04-15T21:08:30.179Z"
   },
   {
    "duration": 35,
    "start_time": "2023-04-15T21:08:30.223Z"
   },
   {
    "duration": 27,
    "start_time": "2023-04-15T21:08:30.260Z"
   },
   {
    "duration": 69,
    "start_time": "2023-04-15T21:08:30.289Z"
   },
   {
    "duration": 317,
    "start_time": "2023-04-15T21:08:30.362Z"
   },
   {
    "duration": 36,
    "start_time": "2023-04-15T21:08:30.681Z"
   },
   {
    "duration": 42,
    "start_time": "2023-04-15T21:08:30.719Z"
   },
   {
    "duration": 794,
    "start_time": "2023-04-15T21:08:30.763Z"
   },
   {
    "duration": 1535,
    "start_time": "2023-04-15T21:33:28.066Z"
   },
   {
    "duration": 61,
    "start_time": "2023-04-15T21:33:29.603Z"
   },
   {
    "duration": 22,
    "start_time": "2023-04-15T21:33:29.671Z"
   },
   {
    "duration": 15,
    "start_time": "2023-04-15T21:33:29.695Z"
   },
   {
    "duration": 11,
    "start_time": "2023-04-15T21:33:29.712Z"
   },
   {
    "duration": 27,
    "start_time": "2023-04-15T21:33:29.724Z"
   },
   {
    "duration": 44,
    "start_time": "2023-04-15T21:33:29.754Z"
   },
   {
    "duration": 10,
    "start_time": "2023-04-15T21:33:29.801Z"
   },
   {
    "duration": 518,
    "start_time": "2023-04-15T21:33:29.814Z"
   },
   {
    "duration": 251,
    "start_time": "2023-04-15T21:33:30.334Z"
   },
   {
    "duration": 440,
    "start_time": "2023-04-15T21:33:30.595Z"
   },
   {
    "duration": 275,
    "start_time": "2023-04-15T21:33:31.042Z"
   },
   {
    "duration": 350,
    "start_time": "2023-04-15T21:33:31.319Z"
   },
   {
    "duration": 270,
    "start_time": "2023-04-15T21:33:31.680Z"
   },
   {
    "duration": 11,
    "start_time": "2023-04-15T21:33:31.951Z"
   },
   {
    "duration": 140,
    "start_time": "2023-04-15T21:33:31.964Z"
   },
   {
    "duration": 80,
    "start_time": "2023-04-15T21:33:32.105Z"
   },
   {
    "duration": 17,
    "start_time": "2023-04-15T21:33:32.187Z"
   },
   {
    "duration": 18,
    "start_time": "2023-04-15T21:33:32.206Z"
   },
   {
    "duration": 13,
    "start_time": "2023-04-15T21:33:32.226Z"
   },
   {
    "duration": 26,
    "start_time": "2023-04-15T21:33:32.254Z"
   },
   {
    "duration": 38,
    "start_time": "2023-04-15T21:33:32.286Z"
   },
   {
    "duration": 316,
    "start_time": "2023-04-15T21:33:32.326Z"
   },
   {
    "duration": 32,
    "start_time": "2023-04-15T21:33:32.643Z"
   },
   {
    "duration": 20,
    "start_time": "2023-04-15T21:33:32.679Z"
   },
   {
    "duration": 796,
    "start_time": "2023-04-15T21:33:32.701Z"
   },
   {
    "duration": 1604,
    "start_time": "2023-04-15T22:22:38.825Z"
   },
   {
    "duration": 74,
    "start_time": "2023-04-15T22:22:40.431Z"
   },
   {
    "duration": 13,
    "start_time": "2023-04-15T22:22:40.507Z"
   },
   {
    "duration": 42,
    "start_time": "2023-04-15T22:22:40.521Z"
   },
   {
    "duration": 23,
    "start_time": "2023-04-15T22:22:40.566Z"
   },
   {
    "duration": 30,
    "start_time": "2023-04-15T22:22:40.591Z"
   },
   {
    "duration": 12,
    "start_time": "2023-04-15T22:22:40.623Z"
   },
   {
    "duration": 47,
    "start_time": "2023-04-15T22:22:40.636Z"
   },
   {
    "duration": 506,
    "start_time": "2023-04-15T22:22:40.685Z"
   },
   {
    "duration": 242,
    "start_time": "2023-04-15T22:22:41.193Z"
   },
   {
    "duration": 418,
    "start_time": "2023-04-15T22:22:41.437Z"
   },
   {
    "duration": 271,
    "start_time": "2023-04-15T22:22:41.858Z"
   },
   {
    "duration": 347,
    "start_time": "2023-04-15T22:22:42.131Z"
   },
   {
    "duration": 299,
    "start_time": "2023-04-15T22:22:42.482Z"
   },
   {
    "duration": 11,
    "start_time": "2023-04-15T22:22:42.783Z"
   },
   {
    "duration": 14,
    "start_time": "2023-04-15T22:22:42.796Z"
   },
   {
    "duration": 11,
    "start_time": "2023-04-15T22:22:42.812Z"
   },
   {
    "duration": 56,
    "start_time": "2023-04-15T22:22:42.825Z"
   },
   {
    "duration": 14,
    "start_time": "2023-04-15T22:22:42.883Z"
   },
   {
    "duration": 19,
    "start_time": "2023-04-15T22:22:42.899Z"
   },
   {
    "duration": 65,
    "start_time": "2023-04-15T22:22:42.919Z"
   },
   {
    "duration": 39,
    "start_time": "2023-04-15T22:22:42.986Z"
   },
   {
    "duration": 376,
    "start_time": "2023-04-15T22:22:43.028Z"
   },
   {
    "duration": 37,
    "start_time": "2023-04-15T22:22:43.406Z"
   },
   {
    "duration": 5,
    "start_time": "2023-04-15T22:22:43.455Z"
   },
   {
    "duration": 796,
    "start_time": "2023-04-15T22:22:43.461Z"
   },
   {
    "duration": 96426,
    "start_time": "2023-04-15T22:22:44.264Z"
   },
   {
    "duration": 12,
    "start_time": "2023-04-15T22:24:20.696Z"
   },
   {
    "duration": 49,
    "start_time": "2023-04-15T22:24:20.710Z"
   },
   {
    "duration": 452,
    "start_time": "2023-04-15T22:24:20.765Z"
   },
   {
    "duration": 80874,
    "start_time": "2023-04-15T22:24:21.219Z"
   },
   {
    "duration": 14,
    "start_time": "2023-04-15T22:25:42.159Z"
   },
   {
    "duration": 3,
    "start_time": "2023-04-15T22:26:38.903Z"
   },
   {
    "duration": 1681,
    "start_time": "2023-04-15T22:51:25.536Z"
   },
   {
    "duration": 76,
    "start_time": "2023-04-15T22:51:27.220Z"
   },
   {
    "duration": 13,
    "start_time": "2023-04-15T22:51:27.299Z"
   },
   {
    "duration": 16,
    "start_time": "2023-04-15T22:51:27.314Z"
   },
   {
    "duration": 7,
    "start_time": "2023-04-15T22:51:27.332Z"
   },
   {
    "duration": 63,
    "start_time": "2023-04-15T22:51:27.340Z"
   },
   {
    "duration": 16,
    "start_time": "2023-04-15T22:51:27.405Z"
   },
   {
    "duration": 10,
    "start_time": "2023-04-15T22:51:27.423Z"
   },
   {
    "duration": 561,
    "start_time": "2023-04-15T22:51:27.435Z"
   },
   {
    "duration": 232,
    "start_time": "2023-04-15T22:51:27.998Z"
   },
   {
    "duration": 443,
    "start_time": "2023-04-15T22:51:28.232Z"
   },
   {
    "duration": 279,
    "start_time": "2023-04-15T22:51:28.677Z"
   },
   {
    "duration": 330,
    "start_time": "2023-04-15T22:51:28.958Z"
   },
   {
    "duration": 282,
    "start_time": "2023-04-15T22:51:29.291Z"
   },
   {
    "duration": 12,
    "start_time": "2023-04-15T22:51:29.575Z"
   },
   {
    "duration": 26,
    "start_time": "2023-04-15T22:51:29.589Z"
   },
   {
    "duration": 9,
    "start_time": "2023-04-15T22:51:29.617Z"
   },
   {
    "duration": 16,
    "start_time": "2023-04-15T22:51:29.629Z"
   },
   {
    "duration": 46,
    "start_time": "2023-04-15T22:51:29.647Z"
   },
   {
    "duration": 12,
    "start_time": "2023-04-15T22:51:29.695Z"
   },
   {
    "duration": 11,
    "start_time": "2023-04-15T22:51:29.708Z"
   },
   {
    "duration": 46,
    "start_time": "2023-04-15T22:51:29.720Z"
   },
   {
    "duration": 342,
    "start_time": "2023-04-15T22:51:29.775Z"
   },
   {
    "duration": 46,
    "start_time": "2023-04-15T22:51:30.119Z"
   },
   {
    "duration": 24,
    "start_time": "2023-04-15T22:51:30.167Z"
   },
   {
    "duration": 833,
    "start_time": "2023-04-15T22:51:30.193Z"
   },
   {
    "duration": 2,
    "start_time": "2023-04-15T22:51:31.028Z"
   },
   {
    "duration": 68,
    "start_time": "2023-04-15T22:51:31.045Z"
   },
   {
    "duration": 73,
    "start_time": "2023-04-15T22:51:31.115Z"
   },
   {
    "duration": 468,
    "start_time": "2023-04-15T22:51:31.191Z"
   },
   {
    "duration": 12,
    "start_time": "2023-04-15T22:51:31.670Z"
   },
   {
    "duration": 2,
    "start_time": "2023-04-15T22:52:47.936Z"
   },
   {
    "duration": 398,
    "start_time": "2023-04-15T22:52:51.486Z"
   },
   {
    "duration": 11,
    "start_time": "2023-04-15T22:52:54.425Z"
   },
   {
    "duration": 29,
    "start_time": "2023-04-15T22:53:00.985Z"
   },
   {
    "duration": 23,
    "start_time": "2023-04-15T22:53:03.886Z"
   },
   {
    "duration": 5,
    "start_time": "2023-04-15T22:53:08.002Z"
   },
   {
    "duration": 13,
    "start_time": "2023-04-15T22:53:08.468Z"
   },
   {
    "duration": 8,
    "start_time": "2023-04-15T22:53:10.273Z"
   },
   {
    "duration": 1567,
    "start_time": "2023-04-15T22:53:27.315Z"
   },
   {
    "duration": 61,
    "start_time": "2023-04-15T22:53:28.884Z"
   },
   {
    "duration": 18,
    "start_time": "2023-04-15T22:53:28.950Z"
   },
   {
    "duration": 41,
    "start_time": "2023-04-15T22:53:28.971Z"
   },
   {
    "duration": 22,
    "start_time": "2023-04-15T22:53:29.015Z"
   },
   {
    "duration": 64,
    "start_time": "2023-04-15T22:53:29.040Z"
   },
   {
    "duration": 12,
    "start_time": "2023-04-15T22:53:29.106Z"
   },
   {
    "duration": 10,
    "start_time": "2023-04-15T22:53:29.120Z"
   },
   {
    "duration": 531,
    "start_time": "2023-04-15T22:53:29.132Z"
   },
   {
    "duration": 240,
    "start_time": "2023-04-15T22:53:29.668Z"
   },
   {
    "duration": 458,
    "start_time": "2023-04-15T22:53:29.910Z"
   },
   {
    "duration": 312,
    "start_time": "2023-04-15T22:53:30.377Z"
   },
   {
    "duration": 332,
    "start_time": "2023-04-15T22:53:30.699Z"
   },
   {
    "duration": 304,
    "start_time": "2023-04-15T22:53:31.036Z"
   },
   {
    "duration": 13,
    "start_time": "2023-04-15T22:53:31.342Z"
   },
   {
    "duration": 58,
    "start_time": "2023-04-15T22:53:31.357Z"
   },
   {
    "duration": 14,
    "start_time": "2023-04-15T22:53:31.416Z"
   },
   {
    "duration": 65,
    "start_time": "2023-04-15T22:53:31.432Z"
   },
   {
    "duration": 27,
    "start_time": "2023-04-15T22:53:31.499Z"
   },
   {
    "duration": 60,
    "start_time": "2023-04-15T22:53:31.528Z"
   },
   {
    "duration": 23,
    "start_time": "2023-04-15T22:53:31.590Z"
   },
   {
    "duration": 59,
    "start_time": "2023-04-15T22:53:31.615Z"
   },
   {
    "duration": 347,
    "start_time": "2023-04-15T22:53:31.685Z"
   },
   {
    "duration": 54,
    "start_time": "2023-04-15T22:53:32.035Z"
   },
   {
    "duration": 12,
    "start_time": "2023-04-15T22:53:32.096Z"
   },
   {
    "duration": 813,
    "start_time": "2023-04-15T22:53:32.111Z"
   },
   {
    "duration": 2,
    "start_time": "2023-04-15T22:53:32.926Z"
   },
   {
    "duration": 35,
    "start_time": "2023-04-15T22:53:32.930Z"
   },
   {
    "duration": 40,
    "start_time": "2023-04-15T22:53:32.967Z"
   },
   {
    "duration": 422,
    "start_time": "2023-04-15T22:53:33.009Z"
   },
   {
    "duration": 15,
    "start_time": "2023-04-15T22:53:33.433Z"
   },
   {
    "duration": 2724,
    "start_time": "2023-04-16T04:12:29.290Z"
   },
   {
    "duration": 49,
    "start_time": "2023-04-16T04:12:32.071Z"
   },
   {
    "duration": 55,
    "start_time": "2023-04-16T04:12:32.121Z"
   },
   {
    "duration": 18,
    "start_time": "2023-04-16T04:12:32.179Z"
   },
   {
    "duration": 9,
    "start_time": "2023-04-16T04:12:32.199Z"
   },
   {
    "duration": 76,
    "start_time": "2023-04-16T04:12:32.211Z"
   },
   {
    "duration": 22,
    "start_time": "2023-04-16T04:12:32.290Z"
   },
   {
    "duration": 61,
    "start_time": "2023-04-16T04:12:32.314Z"
   },
   {
    "duration": 835,
    "start_time": "2023-04-16T04:12:32.376Z"
   },
   {
    "duration": 334,
    "start_time": "2023-04-16T04:12:33.271Z"
   },
   {
    "duration": 611,
    "start_time": "2023-04-16T04:12:33.607Z"
   },
   {
    "duration": 456,
    "start_time": "2023-04-16T04:12:34.219Z"
   },
   {
    "duration": 498,
    "start_time": "2023-04-16T04:12:34.676Z"
   },
   {
    "duration": 398,
    "start_time": "2023-04-16T04:12:35.176Z"
   },
   {
    "duration": 7,
    "start_time": "2023-04-16T04:12:35.576Z"
   },
   {
    "duration": 15,
    "start_time": "2023-04-16T04:12:35.585Z"
   },
   {
    "duration": 5,
    "start_time": "2023-04-16T04:12:35.602Z"
   },
   {
    "duration": 64,
    "start_time": "2023-04-16T04:12:35.609Z"
   },
   {
    "duration": 19,
    "start_time": "2023-04-16T04:12:35.675Z"
   },
   {
    "duration": 28,
    "start_time": "2023-04-16T04:12:35.696Z"
   },
   {
    "duration": 57,
    "start_time": "2023-04-16T04:12:35.727Z"
   },
   {
    "duration": 44,
    "start_time": "2023-04-16T04:12:35.786Z"
   },
   {
    "duration": 540,
    "start_time": "2023-04-16T04:12:35.873Z"
   },
   {
    "duration": 86,
    "start_time": "2023-04-16T04:12:36.415Z"
   },
   {
    "duration": 2,
    "start_time": "2023-04-16T04:12:36.503Z"
   },
   {
    "duration": 1465,
    "start_time": "2023-04-16T04:12:36.507Z"
   },
   {
    "duration": 3,
    "start_time": "2023-04-16T04:12:37.974Z"
   },
   {
    "duration": 18,
    "start_time": "2023-04-16T04:12:37.981Z"
   },
   {
    "duration": 71,
    "start_time": "2023-04-16T04:12:38.001Z"
   },
   {
    "duration": 715,
    "start_time": "2023-04-16T04:12:38.074Z"
   },
   {
    "duration": 2,
    "start_time": "2023-04-16T04:12:38.791Z"
   },
   {
    "duration": 785,
    "start_time": "2023-04-16T04:14:57.811Z"
   },
   {
    "duration": 2790,
    "start_time": "2023-04-16T04:15:06.611Z"
   },
   {
    "duration": 90,
    "start_time": "2023-04-16T04:15:09.403Z"
   },
   {
    "duration": 10,
    "start_time": "2023-04-16T04:15:09.495Z"
   },
   {
    "duration": 73,
    "start_time": "2023-04-16T04:15:09.507Z"
   },
   {
    "duration": 7,
    "start_time": "2023-04-16T04:15:09.582Z"
   },
   {
    "duration": 18,
    "start_time": "2023-04-16T04:15:09.591Z"
   },
   {
    "duration": 71,
    "start_time": "2023-04-16T04:15:09.611Z"
   },
   {
    "duration": 7,
    "start_time": "2023-04-16T04:15:09.684Z"
   },
   {
    "duration": 823,
    "start_time": "2023-04-16T04:15:09.692Z"
   },
   {
    "duration": 389,
    "start_time": "2023-04-16T04:15:10.518Z"
   },
   {
    "duration": 597,
    "start_time": "2023-04-16T04:15:10.908Z"
   },
   {
    "duration": 406,
    "start_time": "2023-04-16T04:15:11.506Z"
   },
   {
    "duration": 498,
    "start_time": "2023-04-16T04:15:11.914Z"
   },
   {
    "duration": 402,
    "start_time": "2023-04-16T04:15:12.413Z"
   },
   {
    "duration": 8,
    "start_time": "2023-04-16T04:15:12.872Z"
   },
   {
    "duration": 21,
    "start_time": "2023-04-16T04:15:12.882Z"
   },
   {
    "duration": 6,
    "start_time": "2023-04-16T04:15:12.905Z"
   },
   {
    "duration": 70,
    "start_time": "2023-04-16T04:15:12.913Z"
   },
   {
    "duration": 6,
    "start_time": "2023-04-16T04:15:12.985Z"
   },
   {
    "duration": 7,
    "start_time": "2023-04-16T04:15:12.993Z"
   },
   {
    "duration": 9,
    "start_time": "2023-04-16T04:15:13.002Z"
   },
   {
    "duration": 74,
    "start_time": "2023-04-16T04:15:13.012Z"
   },
   {
    "duration": 513,
    "start_time": "2023-04-16T04:15:13.088Z"
   },
   {
    "duration": 84,
    "start_time": "2023-04-16T04:15:13.603Z"
   },
   {
    "duration": 2,
    "start_time": "2023-04-16T04:15:13.689Z"
   },
   {
    "duration": 1388,
    "start_time": "2023-04-16T04:15:13.693Z"
   },
   {
    "duration": 2,
    "start_time": "2023-04-16T04:15:15.083Z"
   },
   {
    "duration": 19,
    "start_time": "2023-04-16T04:15:15.088Z"
   },
   {
    "duration": 65,
    "start_time": "2023-04-16T04:15:15.108Z"
   },
   {
    "duration": 716,
    "start_time": "2023-04-16T04:15:15.175Z"
   },
   {
    "duration": 5,
    "start_time": "2023-04-16T04:15:15.893Z"
   },
   {
    "duration": 301492,
    "start_time": "2023-04-16T04:30:44.095Z"
   },
   {
    "duration": 1657,
    "start_time": "2023-04-16T12:32:28.585Z"
   },
   {
    "duration": 120,
    "start_time": "2023-04-16T12:33:32.813Z"
   },
   {
    "duration": 1474,
    "start_time": "2023-04-16T12:33:38.120Z"
   },
   {
    "duration": 143,
    "start_time": "2023-04-16T12:33:39.596Z"
   },
   {
    "duration": 12,
    "start_time": "2023-04-16T12:33:39.741Z"
   },
   {
    "duration": 20,
    "start_time": "2023-04-16T12:33:39.755Z"
   },
   {
    "duration": 9,
    "start_time": "2023-04-16T12:33:39.777Z"
   },
   {
    "duration": 23,
    "start_time": "2023-04-16T12:33:39.788Z"
   },
   {
    "duration": 9,
    "start_time": "2023-04-16T12:33:39.813Z"
   },
   {
    "duration": 18,
    "start_time": "2023-04-16T12:33:39.824Z"
   },
   {
    "duration": 270,
    "start_time": "2023-04-16T12:33:39.844Z"
   },
   {
    "duration": 176,
    "start_time": "2023-04-16T12:33:40.115Z"
   },
   {
    "duration": 249,
    "start_time": "2023-04-16T12:33:40.293Z"
   },
   {
    "duration": 281,
    "start_time": "2023-04-16T12:33:40.544Z"
   },
   {
    "duration": 263,
    "start_time": "2023-04-16T12:33:40.827Z"
   },
   {
    "duration": 214,
    "start_time": "2023-04-16T12:33:41.092Z"
   },
   {
    "duration": 7,
    "start_time": "2023-04-16T12:33:41.311Z"
   },
   {
    "duration": 10,
    "start_time": "2023-04-16T12:33:41.320Z"
   },
   {
    "duration": 15,
    "start_time": "2023-04-16T12:33:41.331Z"
   },
   {
    "duration": 15,
    "start_time": "2023-04-16T12:33:41.348Z"
   },
   {
    "duration": 9,
    "start_time": "2023-04-16T12:33:41.365Z"
   },
   {
    "duration": 6,
    "start_time": "2023-04-16T12:33:41.376Z"
   },
   {
    "duration": 4,
    "start_time": "2023-04-16T12:33:41.383Z"
   },
   {
    "duration": 41,
    "start_time": "2023-04-16T12:33:41.389Z"
   },
   {
    "duration": 264,
    "start_time": "2023-04-16T12:33:41.433Z"
   },
   {
    "duration": 31,
    "start_time": "2023-04-16T12:33:41.698Z"
   },
   {
    "duration": 3,
    "start_time": "2023-04-16T12:33:41.730Z"
   },
   {
    "duration": 612,
    "start_time": "2023-04-16T12:33:41.734Z"
   },
   {
    "duration": 3,
    "start_time": "2023-04-16T12:33:42.348Z"
   },
   {
    "duration": 9,
    "start_time": "2023-04-16T12:33:42.352Z"
   },
   {
    "duration": 10,
    "start_time": "2023-04-16T12:33:42.363Z"
   },
   {
    "duration": 356,
    "start_time": "2023-04-16T12:33:42.374Z"
   },
   {
    "duration": 3,
    "start_time": "2023-04-16T12:33:42.732Z"
   },
   {
    "duration": 363,
    "start_time": "2023-04-16T12:34:14.021Z"
   },
   {
    "duration": 449,
    "start_time": "2023-04-16T12:34:20.253Z"
   },
   {
    "duration": 247,
    "start_time": "2023-04-16T12:35:30.818Z"
   },
   {
    "duration": 242,
    "start_time": "2023-04-16T12:35:45.005Z"
   },
   {
    "duration": 271,
    "start_time": "2023-04-16T12:36:02.343Z"
   },
   {
    "duration": 296,
    "start_time": "2023-04-16T12:36:44.199Z"
   },
   {
    "duration": 358,
    "start_time": "2023-04-16T12:36:58.033Z"
   },
   {
    "duration": 202,
    "start_time": "2023-04-16T12:37:12.421Z"
   },
   {
    "duration": 254,
    "start_time": "2023-04-16T12:37:20.092Z"
   },
   {
    "duration": 113,
    "start_time": "2023-04-16T12:38:08.232Z"
   },
   {
    "duration": 249,
    "start_time": "2023-04-16T12:38:14.081Z"
   },
   {
    "duration": 12,
    "start_time": "2023-04-16T12:38:48.519Z"
   },
   {
    "duration": 174,
    "start_time": "2023-04-16T12:39:24.025Z"
   },
   {
    "duration": 214,
    "start_time": "2023-04-16T12:40:01.813Z"
   },
   {
    "duration": 163,
    "start_time": "2023-04-16T12:40:12.344Z"
   },
   {
    "duration": 209,
    "start_time": "2023-04-16T12:40:48.125Z"
   },
   {
    "duration": 171,
    "start_time": "2023-04-16T12:43:14.075Z"
   },
   {
    "duration": 24,
    "start_time": "2023-04-16T12:48:30.744Z"
   },
   {
    "duration": 25,
    "start_time": "2023-04-16T12:48:35.540Z"
   },
   {
    "duration": 32,
    "start_time": "2023-04-16T12:48:41.749Z"
   },
   {
    "duration": 21,
    "start_time": "2023-04-16T12:49:17.298Z"
   },
   {
    "duration": 22,
    "start_time": "2023-04-16T12:49:23.498Z"
   },
   {
    "duration": 607,
    "start_time": "2023-04-16T12:49:40.895Z"
   },
   {
    "duration": 1413,
    "start_time": "2023-04-16T13:04:39.627Z"
   },
   {
    "duration": 45,
    "start_time": "2023-04-16T13:04:41.043Z"
   },
   {
    "duration": 12,
    "start_time": "2023-04-16T13:04:41.090Z"
   },
   {
    "duration": 37,
    "start_time": "2023-04-16T13:04:41.104Z"
   },
   {
    "duration": 20,
    "start_time": "2023-04-16T13:04:41.143Z"
   },
   {
    "duration": 43,
    "start_time": "2023-04-16T13:04:41.165Z"
   },
   {
    "duration": 10,
    "start_time": "2023-04-16T13:04:41.210Z"
   },
   {
    "duration": 18,
    "start_time": "2023-04-16T13:04:41.222Z"
   },
   {
    "duration": 292,
    "start_time": "2023-04-16T13:04:41.242Z"
   },
   {
    "duration": 207,
    "start_time": "2023-04-16T13:04:41.538Z"
   },
   {
    "duration": 268,
    "start_time": "2023-04-16T13:04:41.747Z"
   },
   {
    "duration": 312,
    "start_time": "2023-04-16T13:04:42.017Z"
   },
   {
    "duration": 199,
    "start_time": "2023-04-16T13:04:42.331Z"
   },
   {
    "duration": 249,
    "start_time": "2023-04-16T13:04:42.532Z"
   },
   {
    "duration": 10,
    "start_time": "2023-04-16T13:04:42.783Z"
   },
   {
    "duration": 25,
    "start_time": "2023-04-16T13:04:42.795Z"
   },
   {
    "duration": 5,
    "start_time": "2023-04-16T13:04:42.822Z"
   },
   {
    "duration": 11,
    "start_time": "2023-04-16T13:04:42.829Z"
   },
   {
    "duration": 24,
    "start_time": "2023-04-16T13:04:42.841Z"
   },
   {
    "duration": 11,
    "start_time": "2023-04-16T13:04:42.867Z"
   },
   {
    "duration": 4,
    "start_time": "2023-04-16T13:04:42.880Z"
   },
   {
    "duration": 34,
    "start_time": "2023-04-16T13:04:42.885Z"
   },
   {
    "duration": 269,
    "start_time": "2023-04-16T13:04:42.921Z"
   },
   {
    "duration": 35,
    "start_time": "2023-04-16T13:04:43.191Z"
   },
   {
    "duration": 2,
    "start_time": "2023-04-16T13:04:43.228Z"
   },
   {
    "duration": 674,
    "start_time": "2023-04-16T13:04:43.231Z"
   },
   {
    "duration": 3,
    "start_time": "2023-04-16T13:04:43.911Z"
   },
   {
    "duration": 13,
    "start_time": "2023-04-16T13:04:43.917Z"
   },
   {
    "duration": 12,
    "start_time": "2023-04-16T13:04:43.932Z"
   },
   {
    "duration": 379,
    "start_time": "2023-04-16T13:04:43.945Z"
   },
   {
    "duration": 3,
    "start_time": "2023-04-16T13:04:44.326Z"
   },
   {
    "duration": 184,
    "start_time": "2023-04-16T13:05:47.741Z"
   },
   {
    "duration": 8,
    "start_time": "2023-04-16T13:08:18.422Z"
   },
   {
    "duration": 197,
    "start_time": "2023-04-16T13:08:21.110Z"
   },
   {
    "duration": 1453,
    "start_time": "2023-04-16T13:08:33.147Z"
   },
   {
    "duration": 46,
    "start_time": "2023-04-16T13:08:34.602Z"
   },
   {
    "duration": 13,
    "start_time": "2023-04-16T13:08:34.650Z"
   },
   {
    "duration": 11,
    "start_time": "2023-04-16T13:08:34.671Z"
   },
   {
    "duration": 5,
    "start_time": "2023-04-16T13:08:34.684Z"
   },
   {
    "duration": 30,
    "start_time": "2023-04-16T13:08:34.692Z"
   },
   {
    "duration": 15,
    "start_time": "2023-04-16T13:08:34.724Z"
   },
   {
    "duration": 8,
    "start_time": "2023-04-16T13:08:34.741Z"
   },
   {
    "duration": 335,
    "start_time": "2023-04-16T13:08:34.751Z"
   },
   {
    "duration": 207,
    "start_time": "2023-04-16T13:08:35.088Z"
   },
   {
    "duration": 283,
    "start_time": "2023-04-16T13:08:35.296Z"
   },
   {
    "duration": 308,
    "start_time": "2023-04-16T13:08:35.581Z"
   },
   {
    "duration": 210,
    "start_time": "2023-04-16T13:08:35.894Z"
   },
   {
    "duration": 229,
    "start_time": "2023-04-16T13:08:36.106Z"
   },
   {
    "duration": 9,
    "start_time": "2023-04-16T13:08:36.337Z"
   },
   {
    "duration": 152,
    "start_time": "2023-04-16T13:08:36.348Z"
   },
   {
    "duration": 0,
    "start_time": "2023-04-16T13:08:36.502Z"
   },
   {
    "duration": 0,
    "start_time": "2023-04-16T13:08:36.503Z"
   },
   {
    "duration": 0,
    "start_time": "2023-04-16T13:08:36.504Z"
   },
   {
    "duration": 0,
    "start_time": "2023-04-16T13:08:36.505Z"
   },
   {
    "duration": 0,
    "start_time": "2023-04-16T13:08:36.512Z"
   },
   {
    "duration": 0,
    "start_time": "2023-04-16T13:08:36.513Z"
   },
   {
    "duration": 0,
    "start_time": "2023-04-16T13:08:36.515Z"
   },
   {
    "duration": 0,
    "start_time": "2023-04-16T13:08:36.516Z"
   },
   {
    "duration": 0,
    "start_time": "2023-04-16T13:08:36.517Z"
   },
   {
    "duration": 0,
    "start_time": "2023-04-16T13:08:36.518Z"
   },
   {
    "duration": 0,
    "start_time": "2023-04-16T13:08:36.518Z"
   },
   {
    "duration": 0,
    "start_time": "2023-04-16T13:08:36.520Z"
   },
   {
    "duration": 0,
    "start_time": "2023-04-16T13:08:36.521Z"
   },
   {
    "duration": 0,
    "start_time": "2023-04-16T13:08:36.523Z"
   },
   {
    "duration": 0,
    "start_time": "2023-04-16T13:08:36.524Z"
   },
   {
    "duration": 18,
    "start_time": "2023-04-16T13:08:47.013Z"
   },
   {
    "duration": 3,
    "start_time": "2023-04-16T13:09:00.032Z"
   },
   {
    "duration": 10,
    "start_time": "2023-04-16T13:09:05.610Z"
   },
   {
    "duration": 1382,
    "start_time": "2023-04-16T13:09:16.658Z"
   },
   {
    "duration": 46,
    "start_time": "2023-04-16T13:09:18.042Z"
   },
   {
    "duration": 11,
    "start_time": "2023-04-16T13:09:18.089Z"
   },
   {
    "duration": 13,
    "start_time": "2023-04-16T13:09:18.102Z"
   },
   {
    "duration": 4,
    "start_time": "2023-04-16T13:09:18.116Z"
   },
   {
    "duration": 14,
    "start_time": "2023-04-16T13:09:18.121Z"
   },
   {
    "duration": 10,
    "start_time": "2023-04-16T13:09:18.137Z"
   },
   {
    "duration": 8,
    "start_time": "2023-04-16T13:09:18.148Z"
   },
   {
    "duration": 303,
    "start_time": "2023-04-16T13:09:18.158Z"
   },
   {
    "duration": 205,
    "start_time": "2023-04-16T13:09:18.464Z"
   },
   {
    "duration": 360,
    "start_time": "2023-04-16T13:09:18.670Z"
   },
   {
    "duration": 320,
    "start_time": "2023-04-16T13:09:19.033Z"
   },
   {
    "duration": 263,
    "start_time": "2023-04-16T13:09:19.355Z"
   },
   {
    "duration": 231,
    "start_time": "2023-04-16T13:09:19.620Z"
   },
   {
    "duration": 8,
    "start_time": "2023-04-16T13:09:19.853Z"
   },
   {
    "duration": 9,
    "start_time": "2023-04-16T13:09:19.863Z"
   },
   {
    "duration": 9,
    "start_time": "2023-04-16T13:09:19.873Z"
   },
   {
    "duration": 6,
    "start_time": "2023-04-16T13:09:19.911Z"
   },
   {
    "duration": 8,
    "start_time": "2023-04-16T13:09:19.919Z"
   },
   {
    "duration": 8,
    "start_time": "2023-04-16T13:09:19.929Z"
   },
   {
    "duration": 6,
    "start_time": "2023-04-16T13:09:19.939Z"
   },
   {
    "duration": 5,
    "start_time": "2023-04-16T13:09:19.947Z"
   },
   {
    "duration": 26,
    "start_time": "2023-04-16T13:09:19.953Z"
   },
   {
    "duration": 288,
    "start_time": "2023-04-16T13:09:19.980Z"
   },
   {
    "duration": 24,
    "start_time": "2023-04-16T13:09:20.269Z"
   },
   {
    "duration": 3,
    "start_time": "2023-04-16T13:09:20.295Z"
   },
   {
    "duration": 660,
    "start_time": "2023-04-16T13:09:20.311Z"
   },
   {
    "duration": 3,
    "start_time": "2023-04-16T13:09:20.974Z"
   },
   {
    "duration": 33,
    "start_time": "2023-04-16T13:09:20.979Z"
   },
   {
    "duration": 27,
    "start_time": "2023-04-16T13:09:21.014Z"
   },
   {
    "duration": 354,
    "start_time": "2023-04-16T13:09:21.043Z"
   },
   {
    "duration": 3,
    "start_time": "2023-04-16T13:09:21.398Z"
   },
   {
    "duration": 8,
    "start_time": "2023-04-16T13:10:00.235Z"
   },
   {
    "duration": 124,
    "start_time": "2023-04-16T13:10:01.044Z"
   },
   {
    "duration": 15,
    "start_time": "2023-04-16T13:10:07.042Z"
   },
   {
    "duration": 1463,
    "start_time": "2023-04-16T13:10:21.281Z"
   },
   {
    "duration": 48,
    "start_time": "2023-04-16T13:10:22.746Z"
   },
   {
    "duration": 15,
    "start_time": "2023-04-16T13:10:22.797Z"
   },
   {
    "duration": 12,
    "start_time": "2023-04-16T13:10:22.816Z"
   },
   {
    "duration": 21,
    "start_time": "2023-04-16T13:10:22.830Z"
   },
   {
    "duration": 16,
    "start_time": "2023-04-16T13:10:22.853Z"
   },
   {
    "duration": 12,
    "start_time": "2023-04-16T13:10:22.871Z"
   },
   {
    "duration": 27,
    "start_time": "2023-04-16T13:10:22.885Z"
   },
   {
    "duration": 301,
    "start_time": "2023-04-16T13:10:22.913Z"
   },
   {
    "duration": 211,
    "start_time": "2023-04-16T13:10:23.217Z"
   },
   {
    "duration": 271,
    "start_time": "2023-04-16T13:10:23.430Z"
   },
   {
    "duration": 333,
    "start_time": "2023-04-16T13:10:23.702Z"
   },
   {
    "duration": 184,
    "start_time": "2023-04-16T13:10:24.036Z"
   },
   {
    "duration": 221,
    "start_time": "2023-04-16T13:10:24.222Z"
   },
   {
    "duration": 8,
    "start_time": "2023-04-16T13:10:24.444Z"
   },
   {
    "duration": 9,
    "start_time": "2023-04-16T13:10:24.454Z"
   },
   {
    "duration": 10,
    "start_time": "2023-04-16T13:10:24.465Z"
   },
   {
    "duration": 34,
    "start_time": "2023-04-16T13:10:24.478Z"
   },
   {
    "duration": 4,
    "start_time": "2023-04-16T13:10:24.514Z"
   },
   {
    "duration": 13,
    "start_time": "2023-04-16T13:10:24.520Z"
   },
   {
    "duration": 13,
    "start_time": "2023-04-16T13:10:24.535Z"
   },
   {
    "duration": 6,
    "start_time": "2023-04-16T13:10:24.550Z"
   },
   {
    "duration": 35,
    "start_time": "2023-04-16T13:10:24.557Z"
   },
   {
    "duration": 274,
    "start_time": "2023-04-16T13:10:24.594Z"
   },
   {
    "duration": 25,
    "start_time": "2023-04-16T13:10:24.870Z"
   },
   {
    "duration": 16,
    "start_time": "2023-04-16T13:10:24.897Z"
   },
   {
    "duration": 625,
    "start_time": "2023-04-16T13:10:24.915Z"
   },
   {
    "duration": 3,
    "start_time": "2023-04-16T13:10:25.544Z"
   },
   {
    "duration": 11,
    "start_time": "2023-04-16T13:10:25.549Z"
   },
   {
    "duration": 15,
    "start_time": "2023-04-16T13:10:25.562Z"
   },
   {
    "duration": 376,
    "start_time": "2023-04-16T13:10:25.579Z"
   },
   {
    "duration": 2,
    "start_time": "2023-04-16T13:10:25.957Z"
   },
   {
    "duration": 8,
    "start_time": "2023-04-16T13:14:52.108Z"
   },
   {
    "duration": 10,
    "start_time": "2023-04-16T13:14:52.708Z"
   },
   {
    "duration": 134,
    "start_time": "2023-04-16T13:23:39.403Z"
   },
   {
    "duration": 26,
    "start_time": "2023-04-16T13:23:51.499Z"
   },
   {
    "duration": 1547,
    "start_time": "2023-04-16T13:32:11.509Z"
   },
   {
    "duration": 44,
    "start_time": "2023-04-16T13:32:13.058Z"
   },
   {
    "duration": 27,
    "start_time": "2023-04-16T13:32:13.104Z"
   },
   {
    "duration": 13,
    "start_time": "2023-04-16T13:32:13.133Z"
   },
   {
    "duration": 5,
    "start_time": "2023-04-16T13:32:13.148Z"
   },
   {
    "duration": 35,
    "start_time": "2023-04-16T13:32:13.155Z"
   },
   {
    "duration": 11,
    "start_time": "2023-04-16T13:32:13.193Z"
   },
   {
    "duration": 13,
    "start_time": "2023-04-16T13:32:13.205Z"
   },
   {
    "duration": 296,
    "start_time": "2023-04-16T13:32:13.220Z"
   },
   {
    "duration": 223,
    "start_time": "2023-04-16T13:32:13.519Z"
   },
   {
    "duration": 299,
    "start_time": "2023-04-16T13:32:13.744Z"
   },
   {
    "duration": 333,
    "start_time": "2023-04-16T13:32:14.045Z"
   },
   {
    "duration": 212,
    "start_time": "2023-04-16T13:32:14.381Z"
   },
   {
    "duration": 233,
    "start_time": "2023-04-16T13:32:14.596Z"
   },
   {
    "duration": 12,
    "start_time": "2023-04-16T13:32:14.831Z"
   },
   {
    "duration": 10,
    "start_time": "2023-04-16T13:32:14.845Z"
   },
   {
    "duration": 6,
    "start_time": "2023-04-16T13:32:14.856Z"
   },
   {
    "duration": 5,
    "start_time": "2023-04-16T13:32:14.864Z"
   },
   {
    "duration": 39,
    "start_time": "2023-04-16T13:32:14.872Z"
   },
   {
    "duration": 6,
    "start_time": "2023-04-16T13:32:14.914Z"
   },
   {
    "duration": 11,
    "start_time": "2023-04-16T13:32:14.921Z"
   },
   {
    "duration": 31,
    "start_time": "2023-04-16T13:32:14.935Z"
   },
   {
    "duration": 314,
    "start_time": "2023-04-16T13:32:14.968Z"
   },
   {
    "duration": 41,
    "start_time": "2023-04-16T13:32:15.284Z"
   },
   {
    "duration": 3,
    "start_time": "2023-04-16T13:32:15.327Z"
   },
   {
    "duration": 806,
    "start_time": "2023-04-16T13:32:15.332Z"
   },
   {
    "duration": 208379,
    "start_time": "2023-04-16T13:32:16.139Z"
   },
   {
    "duration": 25106,
    "start_time": "2023-04-16T13:35:44.520Z"
   },
   {
    "duration": 233,
    "start_time": "2023-04-16T13:36:09.711Z"
   },
   {
    "duration": 359,
    "start_time": "2023-04-16T13:37:11.840Z"
   },
   {
    "duration": 313,
    "start_time": "2023-04-16T13:37:17.868Z"
   },
   {
    "duration": 297,
    "start_time": "2023-04-16T13:37:27.971Z"
   },
   {
    "duration": 326,
    "start_time": "2023-04-16T13:38:07.872Z"
   },
   {
    "duration": 1403,
    "start_time": "2023-04-16T14:25:20.145Z"
   },
   {
    "duration": 46,
    "start_time": "2023-04-16T14:25:21.550Z"
   },
   {
    "duration": 14,
    "start_time": "2023-04-16T14:25:21.599Z"
   },
   {
    "duration": 10,
    "start_time": "2023-04-16T14:25:21.616Z"
   },
   {
    "duration": 5,
    "start_time": "2023-04-16T14:25:21.628Z"
   },
   {
    "duration": 25,
    "start_time": "2023-04-16T14:25:21.634Z"
   },
   {
    "duration": 12,
    "start_time": "2023-04-16T14:25:21.661Z"
   },
   {
    "duration": 6,
    "start_time": "2023-04-16T14:25:21.675Z"
   },
   {
    "duration": 357,
    "start_time": "2023-04-16T14:25:21.683Z"
   },
   {
    "duration": 235,
    "start_time": "2023-04-16T14:25:22.043Z"
   },
   {
    "duration": 276,
    "start_time": "2023-04-16T14:25:22.280Z"
   },
   {
    "duration": 367,
    "start_time": "2023-04-16T14:25:22.558Z"
   },
   {
    "duration": 194,
    "start_time": "2023-04-16T14:25:22.927Z"
   },
   {
    "duration": 241,
    "start_time": "2023-04-16T14:25:23.123Z"
   },
   {
    "duration": 10,
    "start_time": "2023-04-16T14:25:23.367Z"
   },
   {
    "duration": 11,
    "start_time": "2023-04-16T14:25:23.378Z"
   },
   {
    "duration": 22,
    "start_time": "2023-04-16T14:25:23.391Z"
   },
   {
    "duration": 4,
    "start_time": "2023-04-16T14:25:23.415Z"
   },
   {
    "duration": 10,
    "start_time": "2023-04-16T14:25:23.421Z"
   },
   {
    "duration": 11,
    "start_time": "2023-04-16T14:25:23.433Z"
   },
   {
    "duration": 7,
    "start_time": "2023-04-16T14:25:23.446Z"
   },
   {
    "duration": 23,
    "start_time": "2023-04-16T14:25:23.454Z"
   },
   {
    "duration": 324,
    "start_time": "2023-04-16T14:25:23.479Z"
   },
   {
    "duration": 36,
    "start_time": "2023-04-16T14:25:23.804Z"
   },
   {
    "duration": 4,
    "start_time": "2023-04-16T14:25:23.842Z"
   },
   {
    "duration": 812,
    "start_time": "2023-04-16T14:25:23.848Z"
   },
   {
    "duration": 321853,
    "start_time": "2023-04-16T14:25:24.662Z"
   },
   {
    "duration": 109800,
    "start_time": "2023-04-16T14:30:46.519Z"
   },
   {
    "duration": 341,
    "start_time": "2023-04-16T14:32:36.320Z"
   },
   {
    "duration": 1294,
    "start_time": "2023-04-17T05:01:53.848Z"
   },
   {
    "duration": 49,
    "start_time": "2023-04-17T05:01:55.144Z"
   },
   {
    "duration": 11,
    "start_time": "2023-04-17T05:01:55.194Z"
   },
   {
    "duration": 26,
    "start_time": "2023-04-17T05:01:55.207Z"
   },
   {
    "duration": 27,
    "start_time": "2023-04-17T05:01:55.235Z"
   },
   {
    "duration": 34,
    "start_time": "2023-04-17T05:01:55.263Z"
   },
   {
    "duration": 18,
    "start_time": "2023-04-17T05:01:55.298Z"
   },
   {
    "duration": 42,
    "start_time": "2023-04-17T05:01:55.318Z"
   },
   {
    "duration": 268,
    "start_time": "2023-04-17T05:01:55.362Z"
   },
   {
    "duration": 187,
    "start_time": "2023-04-17T05:01:55.632Z"
   },
   {
    "duration": 245,
    "start_time": "2023-04-17T05:01:55.820Z"
   },
   {
    "duration": 259,
    "start_time": "2023-04-17T05:01:56.066Z"
   },
   {
    "duration": 183,
    "start_time": "2023-04-17T05:01:56.327Z"
   },
   {
    "duration": 206,
    "start_time": "2023-04-17T05:01:56.513Z"
   },
   {
    "duration": 8,
    "start_time": "2023-04-17T05:01:56.721Z"
   },
   {
    "duration": 20,
    "start_time": "2023-04-17T05:01:56.730Z"
   },
   {
    "duration": 24,
    "start_time": "2023-04-17T05:01:56.752Z"
   },
   {
    "duration": 21,
    "start_time": "2023-04-17T05:01:56.777Z"
   },
   {
    "duration": 12,
    "start_time": "2023-04-17T05:01:56.800Z"
   },
   {
    "duration": 21,
    "start_time": "2023-04-17T05:01:56.813Z"
   },
   {
    "duration": 9,
    "start_time": "2023-04-17T05:01:56.836Z"
   },
   {
    "duration": 27,
    "start_time": "2023-04-17T05:01:56.847Z"
   },
   {
    "duration": 303,
    "start_time": "2023-04-17T05:01:56.875Z"
   },
   {
    "duration": 26,
    "start_time": "2023-04-17T05:01:57.180Z"
   },
   {
    "duration": 4,
    "start_time": "2023-04-17T05:01:57.208Z"
   },
   {
    "duration": 829,
    "start_time": "2023-04-17T05:01:57.213Z"
   },
   {
    "duration": 219409,
    "start_time": "2023-04-17T05:01:58.048Z"
   },
   {
    "duration": 120800,
    "start_time": "2023-04-17T05:05:37.459Z"
   },
   {
    "duration": 404,
    "start_time": "2023-04-17T05:07:38.260Z"
   },
   {
    "duration": 49,
    "start_time": "2023-04-17T18:14:12.803Z"
   },
   {
    "duration": 7,
    "start_time": "2023-04-17T18:20:06.810Z"
   },
   {
    "duration": 1815,
    "start_time": "2023-04-17T18:20:13.087Z"
   },
   {
    "duration": 173,
    "start_time": "2023-04-17T18:20:14.905Z"
   },
   {
    "duration": 12,
    "start_time": "2023-04-17T18:20:15.081Z"
   },
   {
    "duration": 10,
    "start_time": "2023-04-17T18:20:15.095Z"
   },
   {
    "duration": 4,
    "start_time": "2023-04-17T18:20:15.107Z"
   },
   {
    "duration": 16,
    "start_time": "2023-04-17T18:20:15.113Z"
   },
   {
    "duration": 10,
    "start_time": "2023-04-17T18:20:15.130Z"
   },
   {
    "duration": 20,
    "start_time": "2023-04-17T18:20:15.142Z"
   },
   {
    "duration": 319,
    "start_time": "2023-04-17T18:20:15.165Z"
   },
   {
    "duration": 213,
    "start_time": "2023-04-17T18:20:15.486Z"
   },
   {
    "duration": 390,
    "start_time": "2023-04-17T18:20:15.701Z"
   },
   {
    "duration": 291,
    "start_time": "2023-04-17T18:20:16.093Z"
   },
   {
    "duration": 199,
    "start_time": "2023-04-17T18:20:16.386Z"
   },
   {
    "duration": 248,
    "start_time": "2023-04-17T18:20:16.588Z"
   },
   {
    "duration": 20,
    "start_time": "2023-04-17T18:20:16.837Z"
   },
   {
    "duration": 22,
    "start_time": "2023-04-17T18:20:16.860Z"
   },
   {
    "duration": 6,
    "start_time": "2023-04-17T18:20:16.884Z"
   },
   {
    "duration": 14,
    "start_time": "2023-04-17T18:20:16.891Z"
   },
   {
    "duration": 12,
    "start_time": "2023-04-17T18:20:16.906Z"
   },
   {
    "duration": 9,
    "start_time": "2023-04-17T18:20:16.920Z"
   },
   {
    "duration": 5,
    "start_time": "2023-04-17T18:20:16.931Z"
   },
   {
    "duration": 42,
    "start_time": "2023-04-17T18:20:16.937Z"
   },
   {
    "duration": 361,
    "start_time": "2023-04-17T18:20:16.982Z"
   },
   {
    "duration": 0,
    "start_time": "2023-04-17T18:20:17.345Z"
   },
   {
    "duration": 0,
    "start_time": "2023-04-17T18:20:17.346Z"
   },
   {
    "duration": 0,
    "start_time": "2023-04-17T18:20:17.348Z"
   },
   {
    "duration": 0,
    "start_time": "2023-04-17T18:20:17.361Z"
   },
   {
    "duration": 0,
    "start_time": "2023-04-17T18:20:17.362Z"
   },
   {
    "duration": 0,
    "start_time": "2023-04-17T18:20:17.364Z"
   },
   {
    "duration": 9,
    "start_time": "2023-04-17T18:21:54.317Z"
   },
   {
    "duration": 10,
    "start_time": "2023-04-17T18:22:05.991Z"
   },
   {
    "duration": 11,
    "start_time": "2023-04-17T18:22:07.015Z"
   },
   {
    "duration": 1576,
    "start_time": "2023-04-17T18:22:19.706Z"
   },
   {
    "duration": 55,
    "start_time": "2023-04-17T18:22:21.289Z"
   },
   {
    "duration": 18,
    "start_time": "2023-04-17T18:22:21.346Z"
   },
   {
    "duration": 30,
    "start_time": "2023-04-17T18:22:21.367Z"
   },
   {
    "duration": 5,
    "start_time": "2023-04-17T18:22:21.400Z"
   },
   {
    "duration": 16,
    "start_time": "2023-04-17T18:22:21.407Z"
   },
   {
    "duration": 17,
    "start_time": "2023-04-17T18:22:21.426Z"
   },
   {
    "duration": 34,
    "start_time": "2023-04-17T18:22:21.446Z"
   },
   {
    "duration": 330,
    "start_time": "2023-04-17T18:22:21.489Z"
   },
   {
    "duration": 262,
    "start_time": "2023-04-17T18:22:21.822Z"
   },
   {
    "duration": 342,
    "start_time": "2023-04-17T18:22:22.086Z"
   },
   {
    "duration": 357,
    "start_time": "2023-04-17T18:22:22.430Z"
   },
   {
    "duration": 201,
    "start_time": "2023-04-17T18:22:22.789Z"
   },
   {
    "duration": 236,
    "start_time": "2023-04-17T18:22:22.992Z"
   },
   {
    "duration": 15,
    "start_time": "2023-04-17T18:22:23.230Z"
   },
   {
    "duration": 16,
    "start_time": "2023-04-17T18:22:23.256Z"
   },
   {
    "duration": 9,
    "start_time": "2023-04-17T18:22:23.274Z"
   },
   {
    "duration": 8,
    "start_time": "2023-04-17T18:22:23.284Z"
   },
   {
    "duration": 7,
    "start_time": "2023-04-17T18:22:23.294Z"
   },
   {
    "duration": 11,
    "start_time": "2023-04-17T18:22:23.303Z"
   },
   {
    "duration": 3,
    "start_time": "2023-04-17T18:22:23.315Z"
   },
   {
    "duration": 50,
    "start_time": "2023-04-17T18:22:23.320Z"
   },
   {
    "duration": 404,
    "start_time": "2023-04-17T18:22:23.380Z"
   },
   {
    "duration": 27,
    "start_time": "2023-04-17T18:22:23.786Z"
   },
   {
    "duration": 2,
    "start_time": "2023-04-17T18:22:23.814Z"
   },
   {
    "duration": 979,
    "start_time": "2023-04-17T18:22:23.818Z"
   },
   {
    "duration": 48593,
    "start_time": "2023-04-17T18:22:24.799Z"
   },
   {
    "duration": 14768,
    "start_time": "2023-04-17T18:23:13.394Z"
   },
   {
    "duration": 346,
    "start_time": "2023-04-17T18:23:28.164Z"
   },
   {
    "duration": 1621,
    "start_time": "2023-04-17T18:25:21.586Z"
   },
   {
    "duration": 54,
    "start_time": "2023-04-17T18:25:23.209Z"
   },
   {
    "duration": 15,
    "start_time": "2023-04-17T18:25:23.265Z"
   },
   {
    "duration": 14,
    "start_time": "2023-04-17T18:25:23.282Z"
   },
   {
    "duration": 5,
    "start_time": "2023-04-17T18:25:23.298Z"
   },
   {
    "duration": 15,
    "start_time": "2023-04-17T18:25:23.304Z"
   },
   {
    "duration": 10,
    "start_time": "2023-04-17T18:25:23.320Z"
   },
   {
    "duration": 33,
    "start_time": "2023-04-17T18:25:23.331Z"
   },
   {
    "duration": 323,
    "start_time": "2023-04-17T18:25:23.366Z"
   },
   {
    "duration": 211,
    "start_time": "2023-04-17T18:25:23.690Z"
   },
   {
    "duration": 290,
    "start_time": "2023-04-17T18:25:23.903Z"
   },
   {
    "duration": 300,
    "start_time": "2023-04-17T18:25:24.195Z"
   },
   {
    "duration": 186,
    "start_time": "2023-04-17T18:25:24.497Z"
   },
   {
    "duration": 229,
    "start_time": "2023-04-17T18:25:24.686Z"
   },
   {
    "duration": 15,
    "start_time": "2023-04-17T18:25:24.917Z"
   },
   {
    "duration": 26,
    "start_time": "2023-04-17T18:25:24.934Z"
   },
   {
    "duration": 15,
    "start_time": "2023-04-17T18:25:24.969Z"
   },
   {
    "duration": 11,
    "start_time": "2023-04-17T18:25:24.985Z"
   },
   {
    "duration": 10,
    "start_time": "2023-04-17T18:25:24.998Z"
   },
   {
    "duration": 6,
    "start_time": "2023-04-17T18:25:25.010Z"
   },
   {
    "duration": 7,
    "start_time": "2023-04-17T18:25:25.018Z"
   },
   {
    "duration": 45,
    "start_time": "2023-04-17T18:25:25.027Z"
   },
   {
    "duration": 478,
    "start_time": "2023-04-17T18:25:25.074Z"
   },
   {
    "duration": 41,
    "start_time": "2023-04-17T18:25:25.553Z"
   },
   {
    "duration": 67233,
    "start_time": "2023-04-17T18:25:25.595Z"
   },
   {
    "duration": 946,
    "start_time": "2023-04-17T18:26:32.830Z"
   },
   {
    "duration": 5569386,
    "start_time": "2023-04-17T18:26:33.783Z"
   },
   {
    "duration": 10289,
    "start_time": "2023-04-17T19:59:23.171Z"
   },
   {
    "duration": 4019,
    "start_time": "2023-04-17T19:59:33.462Z"
   },
   {
    "duration": 336,
    "start_time": "2023-04-17T19:59:37.562Z"
   },
   {
    "duration": 2,
    "start_time": "2023-04-17T20:15:06.842Z"
   },
   {
    "duration": 1359,
    "start_time": "2023-04-17T20:17:50.284Z"
   },
   {
    "duration": 52,
    "start_time": "2023-04-17T20:17:51.645Z"
   },
   {
    "duration": 13,
    "start_time": "2023-04-17T20:17:51.699Z"
   },
   {
    "duration": 11,
    "start_time": "2023-04-17T20:17:51.715Z"
   },
   {
    "duration": 5,
    "start_time": "2023-04-17T20:17:51.728Z"
   },
   {
    "duration": 13,
    "start_time": "2023-04-17T20:17:51.735Z"
   },
   {
    "duration": 23,
    "start_time": "2023-04-17T20:17:51.756Z"
   },
   {
    "duration": 10,
    "start_time": "2023-04-17T20:17:51.781Z"
   },
   {
    "duration": 284,
    "start_time": "2023-04-17T20:17:51.793Z"
   },
   {
    "duration": 214,
    "start_time": "2023-04-17T20:17:52.079Z"
   },
   {
    "duration": 265,
    "start_time": "2023-04-17T20:17:52.295Z"
   },
   {
    "duration": 320,
    "start_time": "2023-04-17T20:17:52.562Z"
   },
   {
    "duration": 195,
    "start_time": "2023-04-17T20:17:52.883Z"
   },
   {
    "duration": 221,
    "start_time": "2023-04-17T20:17:53.080Z"
   },
   {
    "duration": 13,
    "start_time": "2023-04-17T20:17:53.303Z"
   },
   {
    "duration": 11,
    "start_time": "2023-04-17T20:17:53.318Z"
   },
   {
    "duration": 4,
    "start_time": "2023-04-17T20:17:53.331Z"
   },
   {
    "duration": 28,
    "start_time": "2023-04-17T20:17:53.337Z"
   },
   {
    "duration": 6,
    "start_time": "2023-04-17T20:17:53.370Z"
   },
   {
    "duration": 7,
    "start_time": "2023-04-17T20:17:53.378Z"
   },
   {
    "duration": 3,
    "start_time": "2023-04-17T20:17:53.386Z"
   },
   {
    "duration": 23,
    "start_time": "2023-04-17T20:17:53.391Z"
   },
   {
    "duration": 418,
    "start_time": "2023-04-17T20:17:53.416Z"
   },
   {
    "duration": 35,
    "start_time": "2023-04-17T20:17:53.835Z"
   },
   {
    "duration": 64064,
    "start_time": "2023-04-17T20:17:53.871Z"
   },
   {
    "duration": 1040,
    "start_time": "2023-04-17T20:18:57.937Z"
   },
   {
    "duration": 3,
    "start_time": "2023-04-17T20:18:58.979Z"
   },
   {
    "duration": 7973,
    "start_time": "2023-04-17T20:18:58.985Z"
   },
   {
    "duration": 1801,
    "start_time": "2023-04-17T20:19:06.960Z"
   },
   {
    "duration": 323,
    "start_time": "2023-04-17T20:19:08.763Z"
   },
   {
    "duration": 1339,
    "start_time": "2023-04-17T20:27:55.304Z"
   },
   {
    "duration": 56,
    "start_time": "2023-04-17T20:27:56.645Z"
   },
   {
    "duration": 10,
    "start_time": "2023-04-17T20:27:56.703Z"
   },
   {
    "duration": 9,
    "start_time": "2023-04-17T20:27:56.715Z"
   },
   {
    "duration": 4,
    "start_time": "2023-04-17T20:27:56.726Z"
   },
   {
    "duration": 14,
    "start_time": "2023-04-17T20:27:56.731Z"
   },
   {
    "duration": 10,
    "start_time": "2023-04-17T20:27:56.746Z"
   },
   {
    "duration": 9,
    "start_time": "2023-04-17T20:27:56.758Z"
   },
   {
    "duration": 264,
    "start_time": "2023-04-17T20:27:56.769Z"
   },
   {
    "duration": 193,
    "start_time": "2023-04-17T20:27:57.034Z"
   },
   {
    "duration": 293,
    "start_time": "2023-04-17T20:27:57.230Z"
   },
   {
    "duration": 327,
    "start_time": "2023-04-17T20:27:57.524Z"
   },
   {
    "duration": 217,
    "start_time": "2023-04-17T20:27:57.855Z"
   },
   {
    "duration": 244,
    "start_time": "2023-04-17T20:27:58.075Z"
   },
   {
    "duration": 14,
    "start_time": "2023-04-17T20:27:58.321Z"
   },
   {
    "duration": 30,
    "start_time": "2023-04-17T20:27:58.337Z"
   },
   {
    "duration": 4,
    "start_time": "2023-04-17T20:27:58.371Z"
   },
   {
    "duration": 5,
    "start_time": "2023-04-17T20:27:58.376Z"
   },
   {
    "duration": 7,
    "start_time": "2023-04-17T20:27:58.383Z"
   },
   {
    "duration": 6,
    "start_time": "2023-04-17T20:27:58.391Z"
   },
   {
    "duration": 5,
    "start_time": "2023-04-17T20:27:58.399Z"
   },
   {
    "duration": 58,
    "start_time": "2023-04-17T20:27:58.406Z"
   },
   {
    "duration": 440,
    "start_time": "2023-04-17T20:27:58.467Z"
   },
   {
    "duration": 28,
    "start_time": "2023-04-17T20:27:58.909Z"
   },
   {
    "duration": 64362,
    "start_time": "2023-04-17T20:27:58.939Z"
   },
   {
    "duration": 934,
    "start_time": "2023-04-17T20:29:03.303Z"
   },
   {
    "duration": 3,
    "start_time": "2023-04-17T20:29:04.240Z"
   },
   {
    "duration": 6122,
    "start_time": "2023-04-17T20:29:04.245Z"
   },
   {
    "duration": 5712,
    "start_time": "2023-04-17T20:29:10.369Z"
   },
   {
    "duration": 403,
    "start_time": "2023-04-17T20:29:16.083Z"
   },
   {
    "duration": 56,
    "start_time": "2023-04-18T11:36:35.043Z"
   },
   {
    "duration": 51,
    "start_time": "2023-04-18T11:36:58.476Z"
   },
   {
    "duration": 45,
    "start_time": "2023-04-18T11:37:10.576Z"
   },
   {
    "duration": 1587,
    "start_time": "2023-04-18T11:37:37.617Z"
   },
   {
    "duration": 144,
    "start_time": "2023-04-18T11:37:39.207Z"
   },
   {
    "duration": 14,
    "start_time": "2023-04-18T11:37:39.352Z"
   },
   {
    "duration": 22,
    "start_time": "2023-04-18T11:37:39.368Z"
   },
   {
    "duration": 7,
    "start_time": "2023-04-18T11:37:39.392Z"
   },
   {
    "duration": 19,
    "start_time": "2023-04-18T11:37:39.400Z"
   },
   {
    "duration": 10,
    "start_time": "2023-04-18T11:37:39.421Z"
   },
   {
    "duration": 11,
    "start_time": "2023-04-18T11:37:39.433Z"
   },
   {
    "duration": 292,
    "start_time": "2023-04-18T11:37:39.445Z"
   },
   {
    "duration": 203,
    "start_time": "2023-04-18T11:37:39.739Z"
   },
   {
    "duration": 347,
    "start_time": "2023-04-18T11:37:39.944Z"
   },
   {
    "duration": 222,
    "start_time": "2023-04-18T11:37:40.293Z"
   },
   {
    "duration": 173,
    "start_time": "2023-04-18T11:37:40.517Z"
   },
   {
    "duration": 222,
    "start_time": "2023-04-18T11:37:40.694Z"
   },
   {
    "duration": 138,
    "start_time": "2023-04-18T11:37:40.917Z"
   },
   {
    "duration": 0,
    "start_time": "2023-04-18T11:37:41.056Z"
   },
   {
    "duration": 0,
    "start_time": "2023-04-18T11:37:41.058Z"
   },
   {
    "duration": 0,
    "start_time": "2023-04-18T11:37:41.059Z"
   },
   {
    "duration": 0,
    "start_time": "2023-04-18T11:37:41.060Z"
   },
   {
    "duration": 0,
    "start_time": "2023-04-18T11:37:41.061Z"
   },
   {
    "duration": 0,
    "start_time": "2023-04-18T11:37:41.062Z"
   },
   {
    "duration": 0,
    "start_time": "2023-04-18T11:37:41.063Z"
   },
   {
    "duration": 0,
    "start_time": "2023-04-18T11:37:41.065Z"
   },
   {
    "duration": 0,
    "start_time": "2023-04-18T11:37:41.066Z"
   },
   {
    "duration": 0,
    "start_time": "2023-04-18T11:37:41.067Z"
   },
   {
    "duration": 0,
    "start_time": "2023-04-18T11:37:41.068Z"
   },
   {
    "duration": 0,
    "start_time": "2023-04-18T11:37:41.093Z"
   },
   {
    "duration": 0,
    "start_time": "2023-04-18T11:37:41.095Z"
   },
   {
    "duration": 0,
    "start_time": "2023-04-18T11:37:41.096Z"
   },
   {
    "duration": 0,
    "start_time": "2023-04-18T11:37:41.097Z"
   },
   {
    "duration": 1401,
    "start_time": "2023-04-18T11:39:15.729Z"
   },
   {
    "duration": 51,
    "start_time": "2023-04-18T11:39:17.132Z"
   },
   {
    "duration": 10,
    "start_time": "2023-04-18T11:39:17.185Z"
   },
   {
    "duration": 19,
    "start_time": "2023-04-18T11:39:17.197Z"
   },
   {
    "duration": 7,
    "start_time": "2023-04-18T11:39:17.218Z"
   },
   {
    "duration": 28,
    "start_time": "2023-04-18T11:39:17.227Z"
   },
   {
    "duration": 10,
    "start_time": "2023-04-18T11:39:17.257Z"
   },
   {
    "duration": 7,
    "start_time": "2023-04-18T11:39:17.269Z"
   },
   {
    "duration": 293,
    "start_time": "2023-04-18T11:39:17.278Z"
   },
   {
    "duration": 198,
    "start_time": "2023-04-18T11:39:17.572Z"
   },
   {
    "duration": 276,
    "start_time": "2023-04-18T11:39:17.772Z"
   },
   {
    "duration": 329,
    "start_time": "2023-04-18T11:39:18.050Z"
   },
   {
    "duration": 190,
    "start_time": "2023-04-18T11:39:18.380Z"
   },
   {
    "duration": 230,
    "start_time": "2023-04-18T11:39:18.573Z"
   },
   {
    "duration": 30,
    "start_time": "2023-04-18T11:39:18.805Z"
   },
   {
    "duration": 25,
    "start_time": "2023-04-18T11:39:18.837Z"
   },
   {
    "duration": 29,
    "start_time": "2023-04-18T11:39:18.864Z"
   },
   {
    "duration": 5,
    "start_time": "2023-04-18T11:39:18.895Z"
   },
   {
    "duration": 7,
    "start_time": "2023-04-18T11:39:18.902Z"
   },
   {
    "duration": 9,
    "start_time": "2023-04-18T11:39:18.910Z"
   },
   {
    "duration": 5,
    "start_time": "2023-04-18T11:39:18.921Z"
   },
   {
    "duration": 568,
    "start_time": "2023-04-18T11:39:18.928Z"
   },
   {
    "duration": 1250,
    "start_time": "2023-04-18T11:39:19.498Z"
   },
   {
    "duration": 68,
    "start_time": "2023-04-18T11:39:20.750Z"
   },
   {
    "duration": 273641,
    "start_time": "2023-04-18T11:39:20.819Z"
   },
   {
    "duration": 4578,
    "start_time": "2023-04-18T11:43:54.462Z"
   },
   {
    "duration": 3,
    "start_time": "2023-04-18T11:43:59.042Z"
   },
   {
    "duration": 3152,
    "start_time": "2023-04-18T11:43:59.047Z"
   },
   {
    "duration": 695,
    "start_time": "2023-04-18T11:44:02.201Z"
   },
   {
    "duration": 379,
    "start_time": "2023-04-18T11:44:02.898Z"
   },
   {
    "duration": 1365,
    "start_time": "2023-04-18T11:52:56.230Z"
   },
   {
    "duration": 50,
    "start_time": "2023-04-18T11:52:57.597Z"
   },
   {
    "duration": 11,
    "start_time": "2023-04-18T11:52:57.648Z"
   },
   {
    "duration": 12,
    "start_time": "2023-04-18T11:52:57.662Z"
   },
   {
    "duration": 14,
    "start_time": "2023-04-18T11:52:57.675Z"
   },
   {
    "duration": 32,
    "start_time": "2023-04-18T11:52:57.691Z"
   },
   {
    "duration": 11,
    "start_time": "2023-04-18T11:52:57.725Z"
   },
   {
    "duration": 17,
    "start_time": "2023-04-18T11:52:57.739Z"
   },
   {
    "duration": 288,
    "start_time": "2023-04-18T11:52:57.758Z"
   },
   {
    "duration": 240,
    "start_time": "2023-04-18T11:52:58.049Z"
   },
   {
    "duration": 283,
    "start_time": "2023-04-18T11:52:58.293Z"
   },
   {
    "duration": 315,
    "start_time": "2023-04-18T11:52:58.579Z"
   },
   {
    "duration": 190,
    "start_time": "2023-04-18T11:52:58.896Z"
   },
   {
    "duration": 231,
    "start_time": "2023-04-18T11:52:59.093Z"
   },
   {
    "duration": 32,
    "start_time": "2023-04-18T11:52:59.326Z"
   },
   {
    "duration": 42,
    "start_time": "2023-04-18T11:52:59.360Z"
   },
   {
    "duration": 9,
    "start_time": "2023-04-18T11:52:59.404Z"
   },
   {
    "duration": 24,
    "start_time": "2023-04-18T11:52:59.414Z"
   },
   {
    "duration": 39,
    "start_time": "2023-04-18T11:52:59.440Z"
   },
   {
    "duration": 40,
    "start_time": "2023-04-18T11:52:59.481Z"
   },
   {
    "duration": 13,
    "start_time": "2023-04-18T11:52:59.522Z"
   },
   {
    "duration": 265,
    "start_time": "2023-04-18T11:52:59.536Z"
   },
   {
    "duration": 1374,
    "start_time": "2023-04-18T11:52:59.803Z"
   },
   {
    "duration": 80,
    "start_time": "2023-04-18T11:53:01.179Z"
   },
   {
    "duration": 291956,
    "start_time": "2023-04-18T11:53:01.261Z"
   },
   {
    "duration": 4506,
    "start_time": "2023-04-18T11:57:53.218Z"
   },
   {
    "duration": 3,
    "start_time": "2023-04-18T11:57:57.725Z"
   },
   {
    "duration": 53466,
    "start_time": "2023-04-18T11:57:57.731Z"
   },
   {
    "duration": 6794,
    "start_time": "2023-04-18T11:58:51.199Z"
   },
   {
    "duration": 402,
    "start_time": "2023-04-18T11:58:57.995Z"
   },
   {
    "duration": 1368,
    "start_time": "2023-04-18T12:26:14.825Z"
   },
   {
    "duration": 50,
    "start_time": "2023-04-18T12:26:16.196Z"
   },
   {
    "duration": 11,
    "start_time": "2023-04-18T12:26:16.247Z"
   },
   {
    "duration": 10,
    "start_time": "2023-04-18T12:26:16.260Z"
   },
   {
    "duration": 7,
    "start_time": "2023-04-18T12:26:16.272Z"
   },
   {
    "duration": 17,
    "start_time": "2023-04-18T12:26:16.280Z"
   },
   {
    "duration": 12,
    "start_time": "2023-04-18T12:26:16.299Z"
   },
   {
    "duration": 6,
    "start_time": "2023-04-18T12:26:16.313Z"
   },
   {
    "duration": 297,
    "start_time": "2023-04-18T12:26:16.321Z"
   },
   {
    "duration": 199,
    "start_time": "2023-04-18T12:26:16.620Z"
   },
   {
    "duration": 263,
    "start_time": "2023-04-18T12:26:16.821Z"
   },
   {
    "duration": 302,
    "start_time": "2023-04-18T12:26:17.086Z"
   },
   {
    "duration": 187,
    "start_time": "2023-04-18T12:26:17.393Z"
   },
   {
    "duration": 234,
    "start_time": "2023-04-18T12:26:17.584Z"
   },
   {
    "duration": 31,
    "start_time": "2023-04-18T12:26:17.821Z"
   },
   {
    "duration": 40,
    "start_time": "2023-04-18T12:26:17.854Z"
   },
   {
    "duration": 5,
    "start_time": "2023-04-18T12:26:17.896Z"
   },
   {
    "duration": 6,
    "start_time": "2023-04-18T12:26:17.903Z"
   },
   {
    "duration": 6,
    "start_time": "2023-04-18T12:26:17.911Z"
   },
   {
    "duration": 5,
    "start_time": "2023-04-18T12:26:17.919Z"
   },
   {
    "duration": 4,
    "start_time": "2023-04-18T12:26:17.926Z"
   },
   {
    "duration": 370,
    "start_time": "2023-04-18T12:26:17.931Z"
   },
   {
    "duration": 1324,
    "start_time": "2023-04-18T12:26:18.303Z"
   },
   {
    "duration": 70,
    "start_time": "2023-04-18T12:26:19.629Z"
   },
   {
    "duration": 275356,
    "start_time": "2023-04-18T12:26:19.701Z"
   },
   {
    "duration": 4392,
    "start_time": "2023-04-18T12:30:55.059Z"
   },
   {
    "duration": 2,
    "start_time": "2023-04-18T12:30:59.453Z"
   },
   {
    "duration": 1348,
    "start_time": "2023-04-18T12:30:59.457Z"
   },
   {
    "duration": 495,
    "start_time": "2023-04-18T12:31:00.807Z"
   },
   {
    "duration": 389,
    "start_time": "2023-04-18T12:31:01.304Z"
   },
   {
    "duration": 1378,
    "start_time": "2023-04-18T12:42:58.934Z"
   },
   {
    "duration": 50,
    "start_time": "2023-04-18T12:43:00.314Z"
   },
   {
    "duration": 11,
    "start_time": "2023-04-18T12:43:00.366Z"
   },
   {
    "duration": 43,
    "start_time": "2023-04-18T12:43:00.379Z"
   },
   {
    "duration": 39,
    "start_time": "2023-04-18T12:43:00.423Z"
   },
   {
    "duration": 40,
    "start_time": "2023-04-18T12:43:00.463Z"
   },
   {
    "duration": 43,
    "start_time": "2023-04-18T12:43:00.505Z"
   },
   {
    "duration": 31,
    "start_time": "2023-04-18T12:43:00.550Z"
   },
   {
    "duration": 335,
    "start_time": "2023-04-18T12:43:00.583Z"
   },
   {
    "duration": 208,
    "start_time": "2023-04-18T12:43:00.921Z"
   },
   {
    "duration": 275,
    "start_time": "2023-04-18T12:43:01.131Z"
   },
   {
    "duration": 300,
    "start_time": "2023-04-18T12:43:01.408Z"
   },
   {
    "duration": 188,
    "start_time": "2023-04-18T12:43:01.710Z"
   },
   {
    "duration": 280,
    "start_time": "2023-04-18T12:43:01.899Z"
   },
   {
    "duration": 35,
    "start_time": "2023-04-18T12:43:02.181Z"
   },
   {
    "duration": 35,
    "start_time": "2023-04-18T12:43:02.218Z"
   },
   {
    "duration": 45,
    "start_time": "2023-04-18T12:43:02.255Z"
   },
   {
    "duration": 25,
    "start_time": "2023-04-18T12:43:02.302Z"
   },
   {
    "duration": 35,
    "start_time": "2023-04-18T12:43:02.329Z"
   },
   {
    "duration": 43,
    "start_time": "2023-04-18T12:43:02.366Z"
   },
   {
    "duration": 38,
    "start_time": "2023-04-18T12:43:02.411Z"
   },
   {
    "duration": 150,
    "start_time": "2023-04-18T12:43:02.450Z"
   },
   {
    "duration": 1303,
    "start_time": "2023-04-18T12:43:02.602Z"
   },
   {
    "duration": 62,
    "start_time": "2023-04-18T12:43:03.907Z"
   },
   {
    "duration": 279312,
    "start_time": "2023-04-18T12:43:03.971Z"
   },
   {
    "duration": 4469,
    "start_time": "2023-04-18T12:47:43.285Z"
   },
   {
    "duration": 3,
    "start_time": "2023-04-18T12:47:47.756Z"
   },
   {
    "duration": 9334,
    "start_time": "2023-04-18T12:47:47.762Z"
   },
   {
    "duration": 1500,
    "start_time": "2023-04-18T12:47:57.098Z"
   },
   {
    "duration": 361,
    "start_time": "2023-04-18T12:47:58.600Z"
   },
   {
    "duration": 1371,
    "start_time": "2023-04-18T12:52:23.927Z"
   },
   {
    "duration": 50,
    "start_time": "2023-04-18T12:52:25.300Z"
   },
   {
    "duration": 10,
    "start_time": "2023-04-18T12:52:25.352Z"
   },
   {
    "duration": 15,
    "start_time": "2023-04-18T12:52:25.364Z"
   },
   {
    "duration": 4,
    "start_time": "2023-04-18T12:52:25.381Z"
   },
   {
    "duration": 16,
    "start_time": "2023-04-18T12:52:25.387Z"
   },
   {
    "duration": 10,
    "start_time": "2023-04-18T12:52:25.404Z"
   },
   {
    "duration": 8,
    "start_time": "2023-04-18T12:52:25.415Z"
   },
   {
    "duration": 290,
    "start_time": "2023-04-18T12:52:25.424Z"
   },
   {
    "duration": 206,
    "start_time": "2023-04-18T12:52:25.716Z"
   },
   {
    "duration": 287,
    "start_time": "2023-04-18T12:52:25.924Z"
   },
   {
    "duration": 319,
    "start_time": "2023-04-18T12:52:26.213Z"
   },
   {
    "duration": 185,
    "start_time": "2023-04-18T12:52:26.534Z"
   },
   {
    "duration": 226,
    "start_time": "2023-04-18T12:52:26.721Z"
   },
   {
    "duration": 45,
    "start_time": "2023-04-18T12:52:26.948Z"
   },
   {
    "duration": 24,
    "start_time": "2023-04-18T12:52:26.995Z"
   },
   {
    "duration": 21,
    "start_time": "2023-04-18T12:52:27.021Z"
   },
   {
    "duration": 22,
    "start_time": "2023-04-18T12:52:27.043Z"
   },
   {
    "duration": 17,
    "start_time": "2023-04-18T12:52:27.067Z"
   },
   {
    "duration": 8,
    "start_time": "2023-04-18T12:52:27.085Z"
   },
   {
    "duration": 11,
    "start_time": "2023-04-18T12:52:27.095Z"
   },
   {
    "duration": 589,
    "start_time": "2023-04-18T12:52:27.107Z"
   },
   {
    "duration": 1274,
    "start_time": "2023-04-18T12:52:27.698Z"
   },
   {
    "duration": 68,
    "start_time": "2023-04-18T12:52:28.974Z"
   },
   {
    "duration": 282569,
    "start_time": "2023-04-18T12:52:29.044Z"
   },
   {
    "duration": 4536,
    "start_time": "2023-04-18T12:57:11.615Z"
   },
   {
    "duration": 14297752,
    "start_time": "2023-04-18T12:57:16.153Z"
   },
   {
    "duration": 280901,
    "start_time": "2023-04-18T16:55:33.907Z"
   },
   {
    "duration": 100989,
    "start_time": "2023-04-18T17:00:14.810Z"
   },
   {
    "duration": 364,
    "start_time": "2023-04-18T17:01:55.801Z"
   },
   {
    "duration": 1541,
    "start_time": "2023-04-18T17:10:10.874Z"
   },
   {
    "duration": 53,
    "start_time": "2023-04-18T17:10:12.418Z"
   },
   {
    "duration": 14,
    "start_time": "2023-04-18T17:10:12.473Z"
   },
   {
    "duration": 21,
    "start_time": "2023-04-18T17:10:12.489Z"
   },
   {
    "duration": 8,
    "start_time": "2023-04-18T17:10:12.512Z"
   },
   {
    "duration": 14,
    "start_time": "2023-04-18T17:10:12.522Z"
   },
   {
    "duration": 11,
    "start_time": "2023-04-18T17:10:12.538Z"
   },
   {
    "duration": 12,
    "start_time": "2023-04-18T17:10:12.551Z"
   },
   {
    "duration": 321,
    "start_time": "2023-04-18T17:10:12.565Z"
   },
   {
    "duration": 228,
    "start_time": "2023-04-18T17:10:12.889Z"
   },
   {
    "duration": 324,
    "start_time": "2023-04-18T17:10:13.119Z"
   },
   {
    "duration": 343,
    "start_time": "2023-04-18T17:10:13.445Z"
   },
   {
    "duration": 221,
    "start_time": "2023-04-18T17:10:13.790Z"
   },
   {
    "duration": 268,
    "start_time": "2023-04-18T17:10:14.013Z"
   },
   {
    "duration": 44,
    "start_time": "2023-04-18T17:10:14.283Z"
   },
   {
    "duration": 27,
    "start_time": "2023-04-18T17:10:14.328Z"
   },
   {
    "duration": 5,
    "start_time": "2023-04-18T17:10:14.357Z"
   },
   {
    "duration": 30,
    "start_time": "2023-04-18T17:10:14.364Z"
   },
   {
    "duration": 13,
    "start_time": "2023-04-18T17:10:14.400Z"
   },
   {
    "duration": 7,
    "start_time": "2023-04-18T17:10:14.415Z"
   },
   {
    "duration": 4,
    "start_time": "2023-04-18T17:10:14.424Z"
   },
   {
    "duration": 365,
    "start_time": "2023-04-18T17:10:14.430Z"
   },
   {
    "duration": 1286,
    "start_time": "2023-04-18T17:10:14.799Z"
   },
   {
    "duration": 72,
    "start_time": "2023-04-18T17:10:16.087Z"
   },
   {
    "duration": 294976,
    "start_time": "2023-04-18T17:10:16.160Z"
   },
   {
    "duration": 5909,
    "start_time": "2023-04-18T17:15:11.138Z"
   },
   {
    "duration": 3,
    "start_time": "2023-04-18T17:15:17.049Z"
   },
   {
    "duration": 261356,
    "start_time": "2023-04-18T17:15:17.057Z"
   },
   {
    "duration": 156307,
    "start_time": "2023-04-18T17:19:38.415Z"
   },
   {
    "duration": 440,
    "start_time": "2023-04-18T17:22:14.725Z"
   },
   {
    "duration": 1608,
    "start_time": "2023-04-18T17:35:27.025Z"
   },
   {
    "duration": 60,
    "start_time": "2023-04-18T17:35:28.636Z"
   },
   {
    "duration": 16,
    "start_time": "2023-04-18T17:35:28.699Z"
   },
   {
    "duration": 35,
    "start_time": "2023-04-18T17:35:28.717Z"
   },
   {
    "duration": 6,
    "start_time": "2023-04-18T17:35:28.755Z"
   },
   {
    "duration": 15,
    "start_time": "2023-04-18T17:35:28.763Z"
   },
   {
    "duration": 38,
    "start_time": "2023-04-18T17:35:28.781Z"
   },
   {
    "duration": 6,
    "start_time": "2023-04-18T17:35:28.825Z"
   },
   {
    "duration": 367,
    "start_time": "2023-04-18T17:35:28.833Z"
   },
   {
    "duration": 265,
    "start_time": "2023-04-18T17:35:29.202Z"
   },
   {
    "duration": 362,
    "start_time": "2023-04-18T17:35:29.469Z"
   },
   {
    "duration": 347,
    "start_time": "2023-04-18T17:35:29.833Z"
   },
   {
    "duration": 214,
    "start_time": "2023-04-18T17:35:30.182Z"
   },
   {
    "duration": 315,
    "start_time": "2023-04-18T17:35:30.399Z"
   },
   {
    "duration": 46,
    "start_time": "2023-04-18T17:35:30.716Z"
   },
   {
    "duration": 56,
    "start_time": "2023-04-18T17:35:30.767Z"
   },
   {
    "duration": 13,
    "start_time": "2023-04-18T17:35:30.825Z"
   },
   {
    "duration": 48,
    "start_time": "2023-04-18T17:35:30.841Z"
   },
   {
    "duration": 36,
    "start_time": "2023-04-18T17:35:30.891Z"
   },
   {
    "duration": 50,
    "start_time": "2023-04-18T17:35:30.929Z"
   },
   {
    "duration": 46,
    "start_time": "2023-04-18T17:35:30.982Z"
   },
   {
    "duration": 583,
    "start_time": "2023-04-18T17:35:31.031Z"
   },
   {
    "duration": 1483,
    "start_time": "2023-04-18T17:35:31.624Z"
   },
   {
    "duration": 108,
    "start_time": "2023-04-18T17:35:33.110Z"
   },
   {
    "duration": 294396,
    "start_time": "2023-04-18T17:35:33.221Z"
   },
   {
    "duration": 7302,
    "start_time": "2023-04-18T17:40:27.618Z"
   },
   {
    "duration": 10,
    "start_time": "2023-04-18T17:40:34.922Z"
   },
   {
    "duration": 1661,
    "start_time": "2023-04-18T17:40:50.126Z"
   },
   {
    "duration": 67,
    "start_time": "2023-04-18T17:40:51.789Z"
   },
   {
    "duration": 14,
    "start_time": "2023-04-18T17:40:51.858Z"
   },
   {
    "duration": 56,
    "start_time": "2023-04-18T17:40:51.874Z"
   },
   {
    "duration": 11,
    "start_time": "2023-04-18T17:40:51.933Z"
   },
   {
    "duration": 21,
    "start_time": "2023-04-18T17:40:51.946Z"
   },
   {
    "duration": 13,
    "start_time": "2023-04-18T17:40:51.969Z"
   },
   {
    "duration": 12,
    "start_time": "2023-04-18T17:40:51.984Z"
   },
   {
    "duration": 381,
    "start_time": "2023-04-18T17:40:51.998Z"
   },
   {
    "duration": 276,
    "start_time": "2023-04-18T17:40:52.385Z"
   },
   {
    "duration": 313,
    "start_time": "2023-04-18T17:40:52.663Z"
   },
   {
    "duration": 394,
    "start_time": "2023-04-18T17:40:52.978Z"
   },
   {
    "duration": 212,
    "start_time": "2023-04-18T17:40:53.374Z"
   },
   {
    "duration": 276,
    "start_time": "2023-04-18T17:40:53.589Z"
   },
   {
    "duration": 52,
    "start_time": "2023-04-18T17:40:53.867Z"
   },
   {
    "duration": 27,
    "start_time": "2023-04-18T17:40:53.923Z"
   },
   {
    "duration": 4,
    "start_time": "2023-04-18T17:40:53.952Z"
   },
   {
    "duration": 6,
    "start_time": "2023-04-18T17:40:53.958Z"
   },
   {
    "duration": 7,
    "start_time": "2023-04-18T17:40:53.966Z"
   },
   {
    "duration": 22,
    "start_time": "2023-04-18T17:40:53.975Z"
   },
   {
    "duration": 8,
    "start_time": "2023-04-18T17:40:53.999Z"
   },
   {
    "duration": 217,
    "start_time": "2023-04-18T17:40:54.011Z"
   },
   {
    "duration": 1318,
    "start_time": "2023-04-18T17:40:54.232Z"
   },
   {
    "duration": 83,
    "start_time": "2023-04-18T17:40:55.552Z"
   },
   {
    "duration": 290314,
    "start_time": "2023-04-18T17:40:55.637Z"
   },
   {
    "duration": 6552,
    "start_time": "2023-04-18T17:45:45.953Z"
   },
   {
    "duration": 3,
    "start_time": "2023-04-18T17:45:52.507Z"
   },
   {
    "duration": 403795,
    "start_time": "2023-04-18T17:45:52.512Z"
   },
   {
    "duration": 137695,
    "start_time": "2023-04-18T17:52:36.311Z"
   },
   {
    "duration": 409,
    "start_time": "2023-04-18T17:54:54.008Z"
   },
   {
    "duration": 1499,
    "start_time": "2023-04-18T18:01:30.411Z"
   },
   {
    "duration": 50,
    "start_time": "2023-04-18T18:01:31.912Z"
   },
   {
    "duration": 12,
    "start_time": "2023-04-18T18:01:31.964Z"
   },
   {
    "duration": 16,
    "start_time": "2023-04-18T18:01:31.978Z"
   },
   {
    "duration": 17,
    "start_time": "2023-04-18T18:01:31.996Z"
   },
   {
    "duration": 22,
    "start_time": "2023-04-18T18:01:32.015Z"
   },
   {
    "duration": 20,
    "start_time": "2023-04-18T18:01:32.039Z"
   },
   {
    "duration": 15,
    "start_time": "2023-04-18T18:01:32.061Z"
   },
   {
    "duration": 334,
    "start_time": "2023-04-18T18:01:32.078Z"
   },
   {
    "duration": 237,
    "start_time": "2023-04-18T18:01:32.413Z"
   },
   {
    "duration": 341,
    "start_time": "2023-04-18T18:01:32.652Z"
   },
   {
    "duration": 372,
    "start_time": "2023-04-18T18:01:32.994Z"
   },
   {
    "duration": 233,
    "start_time": "2023-04-18T18:01:33.368Z"
   },
   {
    "duration": 300,
    "start_time": "2023-04-18T18:01:33.605Z"
   },
   {
    "duration": 38,
    "start_time": "2023-04-18T18:01:33.907Z"
   },
   {
    "duration": 47,
    "start_time": "2023-04-18T18:01:33.947Z"
   },
   {
    "duration": 4,
    "start_time": "2023-04-18T18:01:33.996Z"
   },
   {
    "duration": 7,
    "start_time": "2023-04-18T18:01:34.001Z"
   },
   {
    "duration": 7,
    "start_time": "2023-04-18T18:01:34.009Z"
   },
   {
    "duration": 6,
    "start_time": "2023-04-18T18:01:34.018Z"
   },
   {
    "duration": 7,
    "start_time": "2023-04-18T18:01:34.026Z"
   },
   {
    "duration": 760,
    "start_time": "2023-04-18T18:01:34.035Z"
   },
   {
    "duration": 1220,
    "start_time": "2023-04-18T18:01:34.798Z"
   },
   {
    "duration": 64,
    "start_time": "2023-04-18T18:01:36.019Z"
   },
   {
    "duration": 276643,
    "start_time": "2023-04-18T18:01:36.085Z"
   },
   {
    "duration": 6375,
    "start_time": "2023-04-18T18:06:12.729Z"
   },
   {
    "duration": 3,
    "start_time": "2023-04-18T18:06:19.106Z"
   },
   {
    "duration": 1591,
    "start_time": "2023-04-18T18:06:19.111Z"
   },
   {
    "duration": 3096,
    "start_time": "2023-04-18T18:06:20.704Z"
   },
   {
    "duration": 395,
    "start_time": "2023-04-18T18:06:23.802Z"
   }
  ],
  "kernelspec": {
   "display_name": "Python 3 (ipykernel)",
   "language": "python",
   "name": "python3"
  },
  "language_info": {
   "codemirror_mode": {
    "name": "ipython",
    "version": 3
   },
   "file_extension": ".py",
   "mimetype": "text/x-python",
   "name": "python",
   "nbconvert_exporter": "python",
   "pygments_lexer": "ipython3",
   "version": "3.10.9"
  },
  "toc": {
   "base_numbering": 1,
   "nav_menu": {},
   "number_sections": true,
   "sideBar": true,
   "skip_h1_title": true,
   "title_cell": "Содержание",
   "title_sidebar": "Contents",
   "toc_cell": true,
   "toc_position": {
    "height": "calc(100% - 180px)",
    "left": "10px",
    "top": "150px",
    "width": "185.975px"
   },
   "toc_section_display": true,
   "toc_window_display": true
  }
 },
 "nbformat": 4,
 "nbformat_minor": 2
}
