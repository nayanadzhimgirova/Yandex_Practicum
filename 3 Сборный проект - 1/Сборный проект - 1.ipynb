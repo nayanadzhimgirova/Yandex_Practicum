{
 "cells": [
  {
   "cell_type": "markdown",
   "metadata": {},
   "source": [
    "# Исследование исторических данных о продаже игр\n",
    "\n",
    "Вы работаете в интернет-магазине «Стримчик», который продаёт по всему миру компьютерные игры. Из открытых источников доступны исторические данные о продажах игр, оценки пользователей и экспертов, жанры и платформы (например, Xbox или PlayStation). Вам нужно выявить определяющие успешность игры закономерности. Это позволит сделать ставку на потенциально популярный продукт и спланировать рекламные кампании.\n",
    "\n",
    "Перед вами данные до 2016 года. Представим, что сейчас декабрь 2016 г., и вы планируете кампанию на 2017-й. Нужно отработать принцип работы с данными. Неважно, прогнозируете ли вы продажи на 2017 год по данным 2016-го или же 2027-й — по данным 2026 года."
   ]
  },
  {
   "cell_type": "markdown",
   "metadata": {},
   "source": [
    "**Цель исследования:** выявить определяющие успешность игры закономерности."
   ]
  },
  {
   "cell_type": "markdown",
   "metadata": {},
   "source": [
    "### Откройте файл с данными и изучите общую информацию"
   ]
  },
  {
   "cell_type": "code",
   "execution_count": 1,
   "metadata": {},
   "outputs": [],
   "source": [
    "import pandas as pd\n",
    "import numpy as np\n",
    "import matplotlib.pyplot as plt\n",
    "from scipy import stats as st\n",
    "import seaborn as sns"
   ]
  },
  {
   "cell_type": "markdown",
   "metadata": {},
   "source": [
    "Загрузим нужные в ходе исследования библиотеки."
   ]
  },
  {
   "cell_type": "code",
   "execution_count": 2,
   "metadata": {},
   "outputs": [],
   "source": [
    "data = pd.read_csv('/datasets/games.csv')"
   ]
  },
  {
   "cell_type": "code",
   "execution_count": 3,
   "metadata": {
    "scrolled": false
   },
   "outputs": [
    {
     "data": {
      "text/html": [
       "<div>\n",
       "<style scoped>\n",
       "    .dataframe tbody tr th:only-of-type {\n",
       "        vertical-align: middle;\n",
       "    }\n",
       "\n",
       "    .dataframe tbody tr th {\n",
       "        vertical-align: top;\n",
       "    }\n",
       "\n",
       "    .dataframe thead th {\n",
       "        text-align: right;\n",
       "    }\n",
       "</style>\n",
       "<table border=\"1\" class=\"dataframe\">\n",
       "  <thead>\n",
       "    <tr style=\"text-align: right;\">\n",
       "      <th></th>\n",
       "      <th>Name</th>\n",
       "      <th>Platform</th>\n",
       "      <th>Year_of_Release</th>\n",
       "      <th>Genre</th>\n",
       "      <th>NA_sales</th>\n",
       "      <th>EU_sales</th>\n",
       "      <th>JP_sales</th>\n",
       "      <th>Other_sales</th>\n",
       "      <th>Critic_Score</th>\n",
       "      <th>User_Score</th>\n",
       "      <th>Rating</th>\n",
       "    </tr>\n",
       "  </thead>\n",
       "  <tbody>\n",
       "    <tr>\n",
       "      <th>0</th>\n",
       "      <td>Wii Sports</td>\n",
       "      <td>Wii</td>\n",
       "      <td>2006.0</td>\n",
       "      <td>Sports</td>\n",
       "      <td>41.36</td>\n",
       "      <td>28.96</td>\n",
       "      <td>3.77</td>\n",
       "      <td>8.45</td>\n",
       "      <td>76.0</td>\n",
       "      <td>8</td>\n",
       "      <td>E</td>\n",
       "    </tr>\n",
       "    <tr>\n",
       "      <th>1</th>\n",
       "      <td>Super Mario Bros.</td>\n",
       "      <td>NES</td>\n",
       "      <td>1985.0</td>\n",
       "      <td>Platform</td>\n",
       "      <td>29.08</td>\n",
       "      <td>3.58</td>\n",
       "      <td>6.81</td>\n",
       "      <td>0.77</td>\n",
       "      <td>NaN</td>\n",
       "      <td>NaN</td>\n",
       "      <td>NaN</td>\n",
       "    </tr>\n",
       "    <tr>\n",
       "      <th>2</th>\n",
       "      <td>Mario Kart Wii</td>\n",
       "      <td>Wii</td>\n",
       "      <td>2008.0</td>\n",
       "      <td>Racing</td>\n",
       "      <td>15.68</td>\n",
       "      <td>12.76</td>\n",
       "      <td>3.79</td>\n",
       "      <td>3.29</td>\n",
       "      <td>82.0</td>\n",
       "      <td>8.3</td>\n",
       "      <td>E</td>\n",
       "    </tr>\n",
       "    <tr>\n",
       "      <th>3</th>\n",
       "      <td>Wii Sports Resort</td>\n",
       "      <td>Wii</td>\n",
       "      <td>2009.0</td>\n",
       "      <td>Sports</td>\n",
       "      <td>15.61</td>\n",
       "      <td>10.93</td>\n",
       "      <td>3.28</td>\n",
       "      <td>2.95</td>\n",
       "      <td>80.0</td>\n",
       "      <td>8</td>\n",
       "      <td>E</td>\n",
       "    </tr>\n",
       "    <tr>\n",
       "      <th>4</th>\n",
       "      <td>Pokemon Red/Pokemon Blue</td>\n",
       "      <td>GB</td>\n",
       "      <td>1996.0</td>\n",
       "      <td>Role-Playing</td>\n",
       "      <td>11.27</td>\n",
       "      <td>8.89</td>\n",
       "      <td>10.22</td>\n",
       "      <td>1.00</td>\n",
       "      <td>NaN</td>\n",
       "      <td>NaN</td>\n",
       "      <td>NaN</td>\n",
       "    </tr>\n",
       "  </tbody>\n",
       "</table>\n",
       "</div>"
      ],
      "text/plain": [
       "                       Name Platform  Year_of_Release         Genre  NA_sales  \\\n",
       "0                Wii Sports      Wii           2006.0        Sports     41.36   \n",
       "1         Super Mario Bros.      NES           1985.0      Platform     29.08   \n",
       "2            Mario Kart Wii      Wii           2008.0        Racing     15.68   \n",
       "3         Wii Sports Resort      Wii           2009.0        Sports     15.61   \n",
       "4  Pokemon Red/Pokemon Blue       GB           1996.0  Role-Playing     11.27   \n",
       "\n",
       "   EU_sales  JP_sales  Other_sales  Critic_Score User_Score Rating  \n",
       "0     28.96      3.77         8.45          76.0          8      E  \n",
       "1      3.58      6.81         0.77           NaN        NaN    NaN  \n",
       "2     12.76      3.79         3.29          82.0        8.3      E  \n",
       "3     10.93      3.28         2.95          80.0          8      E  \n",
       "4      8.89     10.22         1.00           NaN        NaN    NaN  "
      ]
     },
     "execution_count": 3,
     "metadata": {},
     "output_type": "execute_result"
    }
   ],
   "source": [
    "data.head()"
   ]
  },
  {
   "cell_type": "code",
   "execution_count": 4,
   "metadata": {
    "scrolled": false
   },
   "outputs": [
    {
     "name": "stdout",
     "output_type": "stream",
     "text": [
      "<class 'pandas.core.frame.DataFrame'>\n",
      "RangeIndex: 16715 entries, 0 to 16714\n",
      "Data columns (total 11 columns):\n",
      " #   Column           Non-Null Count  Dtype  \n",
      "---  ------           --------------  -----  \n",
      " 0   Name             16713 non-null  object \n",
      " 1   Platform         16715 non-null  object \n",
      " 2   Year_of_Release  16446 non-null  float64\n",
      " 3   Genre            16713 non-null  object \n",
      " 4   NA_sales         16715 non-null  float64\n",
      " 5   EU_sales         16715 non-null  float64\n",
      " 6   JP_sales         16715 non-null  float64\n",
      " 7   Other_sales      16715 non-null  float64\n",
      " 8   Critic_Score     8137 non-null   float64\n",
      " 9   User_Score       10014 non-null  object \n",
      " 10  Rating           9949 non-null   object \n",
      "dtypes: float64(6), object(5)\n",
      "memory usage: 1.4+ MB\n"
     ]
    }
   ],
   "source": [
    "data.info()"
   ]
  },
  {
   "cell_type": "markdown",
   "metadata": {},
   "source": [
    "Изучим общую информацию о датафрейме:\n",
    "- Общий объём данных - 16715 строк.\n",
    "- У значений в столбце 'year_of_release' тип данных - float64.\n",
    "- У значений в столбце 'user_score' тип данных - object."
   ]
  },
  {
   "cell_type": "code",
   "execution_count": 5,
   "metadata": {
    "scrolled": false
   },
   "outputs": [
    {
     "data": {
      "text/html": [
       "<style  type=\"text/css\" >\n",
       "#T_4461e_row0_col0,#T_4461e_row1_col0,#T_4461e_row3_col0,#T_4461e_row4_col0,#T_4461e_row5_col0,#T_4461e_row6_col0,#T_4461e_row7_col0{\n",
       "            background-color:  #3b4cc0;\n",
       "            color:  #f1f1f1;\n",
       "        }#T_4461e_row2_col0{\n",
       "            background-color:  #465ecf;\n",
       "            color:  #f1f1f1;\n",
       "        }#T_4461e_row8_col0{\n",
       "            background-color:  #b40426;\n",
       "            color:  #f1f1f1;\n",
       "        }#T_4461e_row9_col0,#T_4461e_row10_col0{\n",
       "            background-color:  #f08b6e;\n",
       "            color:  #000000;\n",
       "        }</style><table id=\"T_4461e_\" ><thead>    <tr>        <th class=\"blank level0\" ></th>        <th class=\"col_heading level0 col0\" >0</th>    </tr></thead><tbody>\n",
       "                <tr>\n",
       "                        <th id=\"T_4461e_level0_row0\" class=\"row_heading level0 row0\" >Name</th>\n",
       "                        <td id=\"T_4461e_row0_col0\" class=\"data row0 col0\" >0.000000</td>\n",
       "            </tr>\n",
       "            <tr>\n",
       "                        <th id=\"T_4461e_level0_row1\" class=\"row_heading level0 row1\" >Platform</th>\n",
       "                        <td id=\"T_4461e_row1_col0\" class=\"data row1 col0\" >0.000000</td>\n",
       "            </tr>\n",
       "            <tr>\n",
       "                        <th id=\"T_4461e_level0_row2\" class=\"row_heading level0 row2\" >Year_of_Release</th>\n",
       "                        <td id=\"T_4461e_row2_col0\" class=\"data row2 col0\" >2.000000</td>\n",
       "            </tr>\n",
       "            <tr>\n",
       "                        <th id=\"T_4461e_level0_row3\" class=\"row_heading level0 row3\" >Genre</th>\n",
       "                        <td id=\"T_4461e_row3_col0\" class=\"data row3 col0\" >0.000000</td>\n",
       "            </tr>\n",
       "            <tr>\n",
       "                        <th id=\"T_4461e_level0_row4\" class=\"row_heading level0 row4\" >NA_sales</th>\n",
       "                        <td id=\"T_4461e_row4_col0\" class=\"data row4 col0\" >0.000000</td>\n",
       "            </tr>\n",
       "            <tr>\n",
       "                        <th id=\"T_4461e_level0_row5\" class=\"row_heading level0 row5\" >EU_sales</th>\n",
       "                        <td id=\"T_4461e_row5_col0\" class=\"data row5 col0\" >0.000000</td>\n",
       "            </tr>\n",
       "            <tr>\n",
       "                        <th id=\"T_4461e_level0_row6\" class=\"row_heading level0 row6\" >JP_sales</th>\n",
       "                        <td id=\"T_4461e_row6_col0\" class=\"data row6 col0\" >0.000000</td>\n",
       "            </tr>\n",
       "            <tr>\n",
       "                        <th id=\"T_4461e_level0_row7\" class=\"row_heading level0 row7\" >Other_sales</th>\n",
       "                        <td id=\"T_4461e_row7_col0\" class=\"data row7 col0\" >0.000000</td>\n",
       "            </tr>\n",
       "            <tr>\n",
       "                        <th id=\"T_4461e_level0_row8\" class=\"row_heading level0 row8\" >Critic_Score</th>\n",
       "                        <td id=\"T_4461e_row8_col0\" class=\"data row8 col0\" >51.000000</td>\n",
       "            </tr>\n",
       "            <tr>\n",
       "                        <th id=\"T_4461e_level0_row9\" class=\"row_heading level0 row9\" >User_Score</th>\n",
       "                        <td id=\"T_4461e_row9_col0\" class=\"data row9 col0\" >40.000000</td>\n",
       "            </tr>\n",
       "            <tr>\n",
       "                        <th id=\"T_4461e_level0_row10\" class=\"row_heading level0 row10\" >Rating</th>\n",
       "                        <td id=\"T_4461e_row10_col0\" class=\"data row10 col0\" >40.000000</td>\n",
       "            </tr>\n",
       "    </tbody></table>"
      ],
      "text/plain": [
       "<pandas.io.formats.style.Styler at 0x7fa891542fd0>"
      ]
     },
     "execution_count": 5,
     "metadata": {},
     "output_type": "execute_result"
    }
   ],
   "source": [
    "pd.DataFrame(round(data.isna().mean()*100,)).style.background_gradient('coolwarm')"
   ]
  },
  {
   "cell_type": "code",
   "execution_count": 6,
   "metadata": {},
   "outputs": [
    {
     "data": {
      "text/plain": [
       "Name                  2\n",
       "Platform              0\n",
       "Year_of_Release     269\n",
       "Genre                 2\n",
       "NA_sales              0\n",
       "EU_sales              0\n",
       "JP_sales              0\n",
       "Other_sales           0\n",
       "Critic_Score       8578\n",
       "User_Score         6701\n",
       "Rating             6766\n",
       "dtype: int64"
      ]
     },
     "execution_count": 6,
     "metadata": {},
     "output_type": "execute_result"
    }
   ],
   "source": [
    "data.isna().sum()"
   ]
  },
  {
   "cell_type": "markdown",
   "metadata": {},
   "source": [
    "Найдём количество пропусков в столбцах, чтобы определить наличие малого количества пропусков, которые не отображаются в процентных соотношениях. Можно заметить по 2 пропуска в столбцах 'Name' и 'Genre'."
   ]
  },
  {
   "cell_type": "markdown",
   "metadata": {},
   "source": [
    "Изучим количество пропусков в данных. В некоторых столбцах присутствуют пропуски. \\\n",
    "Большое количество пропусков можно увидеть в столбцах 'critic_score', 'user_score' и 'rating'. \\\n",
    "Небольшое количество пропусков в столбце 'year_of_release'."
   ]
  },
  {
   "cell_type": "markdown",
   "metadata": {},
   "source": [
    "**Таким образом, мы:**\n",
    "- изучили общую информацию о данных (объём, тип данных, количество пропусков)"
   ]
  },
  {
   "cell_type": "markdown",
   "metadata": {},
   "source": [
    "### Подготовьте данные"
   ]
  },
  {
   "cell_type": "markdown",
   "metadata": {},
   "source": [
    "**1) Приведём названия столбцов к нижнему регистру**"
   ]
  },
  {
   "cell_type": "code",
   "execution_count": 7,
   "metadata": {
    "scrolled": true
   },
   "outputs": [
    {
     "data": {
      "text/html": [
       "<div>\n",
       "<style scoped>\n",
       "    .dataframe tbody tr th:only-of-type {\n",
       "        vertical-align: middle;\n",
       "    }\n",
       "\n",
       "    .dataframe tbody tr th {\n",
       "        vertical-align: top;\n",
       "    }\n",
       "\n",
       "    .dataframe thead th {\n",
       "        text-align: right;\n",
       "    }\n",
       "</style>\n",
       "<table border=\"1\" class=\"dataframe\">\n",
       "  <thead>\n",
       "    <tr style=\"text-align: right;\">\n",
       "      <th></th>\n",
       "      <th>name</th>\n",
       "      <th>platform</th>\n",
       "      <th>year_of_release</th>\n",
       "      <th>genre</th>\n",
       "      <th>na_sales</th>\n",
       "      <th>eu_sales</th>\n",
       "      <th>jp_sales</th>\n",
       "      <th>other_sales</th>\n",
       "      <th>critic_score</th>\n",
       "      <th>user_score</th>\n",
       "      <th>rating</th>\n",
       "    </tr>\n",
       "  </thead>\n",
       "  <tbody>\n",
       "    <tr>\n",
       "      <th>0</th>\n",
       "      <td>Wii Sports</td>\n",
       "      <td>Wii</td>\n",
       "      <td>2006.0</td>\n",
       "      <td>Sports</td>\n",
       "      <td>41.36</td>\n",
       "      <td>28.96</td>\n",
       "      <td>3.77</td>\n",
       "      <td>8.45</td>\n",
       "      <td>76.0</td>\n",
       "      <td>8</td>\n",
       "      <td>E</td>\n",
       "    </tr>\n",
       "    <tr>\n",
       "      <th>1</th>\n",
       "      <td>Super Mario Bros.</td>\n",
       "      <td>NES</td>\n",
       "      <td>1985.0</td>\n",
       "      <td>Platform</td>\n",
       "      <td>29.08</td>\n",
       "      <td>3.58</td>\n",
       "      <td>6.81</td>\n",
       "      <td>0.77</td>\n",
       "      <td>NaN</td>\n",
       "      <td>NaN</td>\n",
       "      <td>NaN</td>\n",
       "    </tr>\n",
       "    <tr>\n",
       "      <th>2</th>\n",
       "      <td>Mario Kart Wii</td>\n",
       "      <td>Wii</td>\n",
       "      <td>2008.0</td>\n",
       "      <td>Racing</td>\n",
       "      <td>15.68</td>\n",
       "      <td>12.76</td>\n",
       "      <td>3.79</td>\n",
       "      <td>3.29</td>\n",
       "      <td>82.0</td>\n",
       "      <td>8.3</td>\n",
       "      <td>E</td>\n",
       "    </tr>\n",
       "    <tr>\n",
       "      <th>3</th>\n",
       "      <td>Wii Sports Resort</td>\n",
       "      <td>Wii</td>\n",
       "      <td>2009.0</td>\n",
       "      <td>Sports</td>\n",
       "      <td>15.61</td>\n",
       "      <td>10.93</td>\n",
       "      <td>3.28</td>\n",
       "      <td>2.95</td>\n",
       "      <td>80.0</td>\n",
       "      <td>8</td>\n",
       "      <td>E</td>\n",
       "    </tr>\n",
       "    <tr>\n",
       "      <th>4</th>\n",
       "      <td>Pokemon Red/Pokemon Blue</td>\n",
       "      <td>GB</td>\n",
       "      <td>1996.0</td>\n",
       "      <td>Role-Playing</td>\n",
       "      <td>11.27</td>\n",
       "      <td>8.89</td>\n",
       "      <td>10.22</td>\n",
       "      <td>1.00</td>\n",
       "      <td>NaN</td>\n",
       "      <td>NaN</td>\n",
       "      <td>NaN</td>\n",
       "    </tr>\n",
       "  </tbody>\n",
       "</table>\n",
       "</div>"
      ],
      "text/plain": [
       "                       name platform  year_of_release         genre  na_sales  \\\n",
       "0                Wii Sports      Wii           2006.0        Sports     41.36   \n",
       "1         Super Mario Bros.      NES           1985.0      Platform     29.08   \n",
       "2            Mario Kart Wii      Wii           2008.0        Racing     15.68   \n",
       "3         Wii Sports Resort      Wii           2009.0        Sports     15.61   \n",
       "4  Pokemon Red/Pokemon Blue       GB           1996.0  Role-Playing     11.27   \n",
       "\n",
       "   eu_sales  jp_sales  other_sales  critic_score user_score rating  \n",
       "0     28.96      3.77         8.45          76.0          8      E  \n",
       "1      3.58      6.81         0.77           NaN        NaN    NaN  \n",
       "2     12.76      3.79         3.29          82.0        8.3      E  \n",
       "3     10.93      3.28         2.95          80.0          8      E  \n",
       "4      8.89     10.22         1.00           NaN        NaN    NaN  "
      ]
     },
     "execution_count": 7,
     "metadata": {},
     "output_type": "execute_result"
    }
   ],
   "source": [
    "data.columns = data.columns.str.lower()\n",
    "data.head()"
   ]
  },
  {
   "cell_type": "markdown",
   "metadata": {},
   "source": [
    "**2) Преобразуем типы данных**"
   ]
  },
  {
   "cell_type": "markdown",
   "metadata": {},
   "source": [
    "Тип данных в столбце 'year_of_release' нужно преобразовать из вещественных чисел в целые, т.к. год - всегда целочисленное значение, но из-за пропусков это невозможно. Преобразуем тип данных после заполнения или удаления пропущенных значений"
   ]
  },
  {
   "cell_type": "markdown",
   "metadata": {},
   "source": [
    "Тип данных в столбце 'user_score' нужно преобразовать из строк в вещественные числа, т.к. оценки пользователей - это числа, но в столбце присутствуют строки, не содержащие в себе численные значения, поэтому преобразование возможно только после преобразования или удаления этих строк."
   ]
  },
  {
   "cell_type": "markdown",
   "metadata": {},
   "source": [
    "**3) Обработаем пропуски**"
   ]
  },
  {
   "cell_type": "code",
   "execution_count": 8,
   "metadata": {},
   "outputs": [],
   "source": [
    "data = data.dropna(subset=['name'])\n",
    "data = data.dropna(subset=['genre'])"
   ]
  },
  {
   "cell_type": "markdown",
   "metadata": {},
   "source": [
    "В столбцах 'name' и 'genre' есть небольшое количество пропусков. Заменить их логически невозможно. Удалим их, т.к. это не повлияет на исследование из-за их малого количества."
   ]
  },
  {
   "cell_type": "code",
   "execution_count": 9,
   "metadata": {},
   "outputs": [],
   "source": [
    "data = data.dropna(subset=['year_of_release'])"
   ]
  },
  {
   "cell_type": "markdown",
   "metadata": {},
   "source": [
    "В столбце 'year_of_release' есть небольшое количество пропусков - 2%. Заменить их логически невозможно. Удалим их, т.к. их не больше 5% от всех значений, и это не сильно повлияет на исследование."
   ]
  },
  {
   "cell_type": "code",
   "execution_count": 10,
   "metadata": {},
   "outputs": [],
   "source": [
    "data['year_of_release'] = data['year_of_release'].apply(int)"
   ]
  },
  {
   "cell_type": "markdown",
   "metadata": {},
   "source": [
    "Так как мы устранили пропуски в столбце 'year_of_release', мы можем преобразовать тип данных в этом столбце."
   ]
  },
  {
   "cell_type": "markdown",
   "metadata": {},
   "source": [
    "В столбцах 'critic_score', 'user_score' и 'rating' присутствует большое количество пропусков - 40%-51%. Удалить такое большое количество данных невозможно, логически заменить их нельзя.\\\n",
    "Оставим данные без изменений в столбцах 'critic_score' и 'user_score'. В столбце 'rating' заменим пропуски на 'unknown'."
   ]
  },
  {
   "cell_type": "code",
   "execution_count": 11,
   "metadata": {
    "scrolled": true
   },
   "outputs": [],
   "source": [
    "data['rating'] = data['rating'].fillna('unknown')"
   ]
  },
  {
   "cell_type": "code",
   "execution_count": 12,
   "metadata": {
    "scrolled": true
   },
   "outputs": [
    {
     "data": {
      "text/plain": [
       "array(['8', nan, '8.3', '8.5', '6.6', '8.4', '8.6', '7.7', '6.3', '7.4',\n",
       "       '8.2', '9', '7.9', '8.1', '8.7', '7.1', '3.4', '5.3', '4.8', '3.2',\n",
       "       '8.9', '6.4', '7.8', '7.5', '2.6', '7.2', '9.2', '7', '7.3', '4.3',\n",
       "       '7.6', '5.7', '5', '9.1', '6.5', 'tbd', '8.8', '6.9', '9.4', '6.8',\n",
       "       '6.1', '6.7', '5.4', '4', '4.9', '4.5', '9.3', '6.2', '4.2', '6',\n",
       "       '3.7', '4.1', '5.8', '5.6', '5.5', '4.4', '4.6', '5.9', '3.9',\n",
       "       '3.1', '2.9', '5.2', '3.3', '4.7', '5.1', '3.5', '2.5', '1.9', '3',\n",
       "       '2.7', '2.2', '2', '9.5', '2.1', '3.6', '2.8', '1.8', '3.8', '0',\n",
       "       '1.6', '9.6', '2.4', '1.7', '1.1', '0.3', '1.5', '0.7', '1.2',\n",
       "       '2.3', '0.5', '1.3', '0.2', '0.6', '1.4', '0.9', '1', '9.7'],\n",
       "      dtype=object)"
      ]
     },
     "execution_count": 12,
     "metadata": {},
     "output_type": "execute_result"
    }
   ],
   "source": [
    "data['user_score'].unique()"
   ]
  },
  {
   "cell_type": "markdown",
   "metadata": {},
   "source": [
    "Рассмотрим столбец 'user_score'."
   ]
  },
  {
   "cell_type": "code",
   "execution_count": 13,
   "metadata": {},
   "outputs": [
    {
     "data": {
      "text/html": [
       "<div>\n",
       "<style scoped>\n",
       "    .dataframe tbody tr th:only-of-type {\n",
       "        vertical-align: middle;\n",
       "    }\n",
       "\n",
       "    .dataframe tbody tr th {\n",
       "        vertical-align: top;\n",
       "    }\n",
       "\n",
       "    .dataframe thead th {\n",
       "        text-align: right;\n",
       "    }\n",
       "</style>\n",
       "<table border=\"1\" class=\"dataframe\">\n",
       "  <thead>\n",
       "    <tr style=\"text-align: right;\">\n",
       "      <th></th>\n",
       "      <th>name</th>\n",
       "      <th>platform</th>\n",
       "      <th>year_of_release</th>\n",
       "      <th>genre</th>\n",
       "      <th>na_sales</th>\n",
       "      <th>eu_sales</th>\n",
       "      <th>jp_sales</th>\n",
       "      <th>other_sales</th>\n",
       "      <th>critic_score</th>\n",
       "      <th>user_score</th>\n",
       "      <th>rating</th>\n",
       "    </tr>\n",
       "  </thead>\n",
       "  <tbody>\n",
       "    <tr>\n",
       "      <th>119</th>\n",
       "      <td>Zumba Fitness</td>\n",
       "      <td>Wii</td>\n",
       "      <td>2010</td>\n",
       "      <td>Sports</td>\n",
       "      <td>3.45</td>\n",
       "      <td>2.59</td>\n",
       "      <td>0.0</td>\n",
       "      <td>0.66</td>\n",
       "      <td>NaN</td>\n",
       "      <td>tbd</td>\n",
       "      <td>E</td>\n",
       "    </tr>\n",
       "    <tr>\n",
       "      <th>301</th>\n",
       "      <td>Namco Museum: 50th Anniversary</td>\n",
       "      <td>PS2</td>\n",
       "      <td>2005</td>\n",
       "      <td>Misc</td>\n",
       "      <td>2.08</td>\n",
       "      <td>1.35</td>\n",
       "      <td>0.0</td>\n",
       "      <td>0.54</td>\n",
       "      <td>61.0</td>\n",
       "      <td>tbd</td>\n",
       "      <td>E10+</td>\n",
       "    </tr>\n",
       "    <tr>\n",
       "      <th>520</th>\n",
       "      <td>Zumba Fitness 2</td>\n",
       "      <td>Wii</td>\n",
       "      <td>2011</td>\n",
       "      <td>Sports</td>\n",
       "      <td>1.51</td>\n",
       "      <td>1.03</td>\n",
       "      <td>0.0</td>\n",
       "      <td>0.27</td>\n",
       "      <td>NaN</td>\n",
       "      <td>tbd</td>\n",
       "      <td>T</td>\n",
       "    </tr>\n",
       "    <tr>\n",
       "      <th>645</th>\n",
       "      <td>uDraw Studio</td>\n",
       "      <td>Wii</td>\n",
       "      <td>2010</td>\n",
       "      <td>Misc</td>\n",
       "      <td>1.65</td>\n",
       "      <td>0.57</td>\n",
       "      <td>0.0</td>\n",
       "      <td>0.20</td>\n",
       "      <td>71.0</td>\n",
       "      <td>tbd</td>\n",
       "      <td>E</td>\n",
       "    </tr>\n",
       "    <tr>\n",
       "      <th>718</th>\n",
       "      <td>Just Dance Kids</td>\n",
       "      <td>Wii</td>\n",
       "      <td>2010</td>\n",
       "      <td>Misc</td>\n",
       "      <td>1.52</td>\n",
       "      <td>0.54</td>\n",
       "      <td>0.0</td>\n",
       "      <td>0.18</td>\n",
       "      <td>NaN</td>\n",
       "      <td>tbd</td>\n",
       "      <td>E</td>\n",
       "    </tr>\n",
       "  </tbody>\n",
       "</table>\n",
       "</div>"
      ],
      "text/plain": [
       "                               name platform  year_of_release   genre  \\\n",
       "119                   Zumba Fitness      Wii             2010  Sports   \n",
       "301  Namco Museum: 50th Anniversary      PS2             2005    Misc   \n",
       "520                 Zumba Fitness 2      Wii             2011  Sports   \n",
       "645                    uDraw Studio      Wii             2010    Misc   \n",
       "718                 Just Dance Kids      Wii             2010    Misc   \n",
       "\n",
       "     na_sales  eu_sales  jp_sales  other_sales  critic_score user_score rating  \n",
       "119      3.45      2.59       0.0         0.66           NaN        tbd      E  \n",
       "301      2.08      1.35       0.0         0.54          61.0        tbd   E10+  \n",
       "520      1.51      1.03       0.0         0.27           NaN        tbd      T  \n",
       "645      1.65      0.57       0.0         0.20          71.0        tbd      E  \n",
       "718      1.52      0.54       0.0         0.18           NaN        tbd      E  "
      ]
     },
     "execution_count": 13,
     "metadata": {},
     "output_type": "execute_result"
    }
   ],
   "source": [
    "data.query('user_score == \"tbd\"').head()"
   ]
  },
  {
   "cell_type": "code",
   "execution_count": 14,
   "metadata": {},
   "outputs": [],
   "source": [
    "data.loc[data['user_score'] == 'tbd', 'user_score'] = np.nan"
   ]
  },
  {
   "cell_type": "markdown",
   "metadata": {},
   "source": [
    "В столбц 'user_score' присутствуют значения 'tbd' - 'to be determined' - \"будет определено\". Это значение равнозначно пропуску, поэтому заменим эти значения на пропуски."
   ]
  },
  {
   "cell_type": "code",
   "execution_count": 15,
   "metadata": {},
   "outputs": [],
   "source": [
    "data['user_score'] = data['user_score'].apply('float64')"
   ]
  },
  {
   "cell_type": "markdown",
   "metadata": {},
   "source": [
    "Так как мы преобразовали строки в столбце 'user_score' в пропуски, оставшиеся значения мы можем перевести в тип данных 'float'."
   ]
  },
  {
   "cell_type": "code",
   "execution_count": 16,
   "metadata": {
    "scrolled": true
   },
   "outputs": [
    {
     "data": {
      "text/plain": [
       "0"
      ]
     },
     "execution_count": 16,
     "metadata": {},
     "output_type": "execute_result"
    }
   ],
   "source": [
    "data.duplicated().sum()"
   ]
  },
  {
   "cell_type": "markdown",
   "metadata": {},
   "source": [
    "Проверим данные на наличие дубликатов. Дубликаты отсутствуют."
   ]
  },
  {
   "cell_type": "markdown",
   "metadata": {},
   "source": [
    "**4) Посчитаем суммарные продажи во всех регионах и запишем их в отдельный столбец**"
   ]
  },
  {
   "cell_type": "code",
   "execution_count": 17,
   "metadata": {},
   "outputs": [],
   "source": [
    "data['na_sales_total'] = data['na_sales'].sum()"
   ]
  },
  {
   "cell_type": "markdown",
   "metadata": {},
   "source": [
    "Найдём общее количество продаж в Северной Америке."
   ]
  },
  {
   "cell_type": "code",
   "execution_count": 18,
   "metadata": {},
   "outputs": [],
   "source": [
    "data['eu_sales_total'] = data['eu_sales'].sum()"
   ]
  },
  {
   "cell_type": "markdown",
   "metadata": {},
   "source": [
    "Найдём общее количество продаж в Европе."
   ]
  },
  {
   "cell_type": "code",
   "execution_count": 19,
   "metadata": {},
   "outputs": [],
   "source": [
    "data['jp_sales_total'] = data['jp_sales'].sum()"
   ]
  },
  {
   "cell_type": "markdown",
   "metadata": {},
   "source": [
    "Найдём общее количество продаж в Японии."
   ]
  },
  {
   "cell_type": "code",
   "execution_count": 20,
   "metadata": {},
   "outputs": [],
   "source": [
    "data['total_sales'] = data['na_sales'] + data['eu_sales'] + data['jp_sales'] + data['other_sales']"
   ]
  },
  {
   "cell_type": "markdown",
   "metadata": {},
   "source": [
    "Добавим в data новый столбец 'total_sales' - количество общих продаж."
   ]
  },
  {
   "cell_type": "markdown",
   "metadata": {},
   "source": [
    "**Таким образом, мы:**\n",
    "- переименовали столбцы для более удобного пользования\n",
    "- преобразовали/удалили некорректные значения\n",
    "- преобразовали типы данных\n",
    "- обработали пропуски\n",
    "- создали столбец со значениями суммарных продаж во всех регионах для дальнейшего исследования"
   ]
  },
  {
   "cell_type": "markdown",
   "metadata": {},
   "source": [
    "### Проведите исследовательский анализ данных"
   ]
  },
  {
   "cell_type": "markdown",
   "metadata": {},
   "source": [
    "**1) Посмотрим, сколько игр выпускалось в разные годы**"
   ]
  },
  {
   "cell_type": "code",
   "execution_count": 21,
   "metadata": {
    "scrolled": false
   },
   "outputs": [
    {
     "data": {
      "image/png": "[encoded data removed]",
      "text/plain": [
       "<Figure size 720x360 with 1 Axes>"
      ]
     },
     "metadata": {
      "needs_background": "light"
     },
     "output_type": "display_data"
    }
   ],
   "source": [
    "plt.figure(figsize=(10,5))\n",
    "data['year_of_release'].hist(bins=35);\n",
    "plt.title('Количество игр, выпускаемых в разные годы', fontsize=13)\n",
    "plt.xlabel('Год выпуска', fontsize=10)\n",
    "plt.ylabel('Глобальные продажи',fontsize=10);"
   ]
  },
  {
   "cell_type": "code",
   "execution_count": 22,
   "metadata": {},
   "outputs": [
    {
     "data": {
      "text/plain": [
       "37"
      ]
     },
     "execution_count": 22,
     "metadata": {},
     "output_type": "execute_result"
    }
   ],
   "source": [
    "len(data['year_of_release'].unique())"
   ]
  },
  {
   "cell_type": "markdown",
   "metadata": {},
   "source": [
    "Найдём количество лет в периоде, за который у нас имеются данные."
   ]
  },
  {
   "cell_type": "code",
   "execution_count": 23,
   "metadata": {
    "scrolled": true
   },
   "outputs": [
    {
     "data": {
      "image/png": "[encoded data removed]",
      "text/plain": [
       "<Figure size 432x288 with 1 Axes>"
      ]
     },
     "metadata": {
      "needs_background": "light"
     },
     "output_type": "display_data"
    }
   ],
   "source": [
    "data_unique_name = data\n",
    "data_unique_name = data_unique_name.drop_duplicates(subset=['name'], keep='first')\n",
    "\n",
    "data_unique_name.pivot_table(index='name', values=['year_of_release']).hist(bins=25)\n",
    "plt.title('Количество игр, выпускаемых в разные годы', fontsize=13)\n",
    "plt.xlabel('Год выпуска', fontsize=10)\n",
    "plt.ylabel('Глобальные продажи',fontsize=10);"
   ]
  },
  {
   "cell_type": "markdown",
   "metadata": {},
   "source": [
    "В 90-е годы выпускалось относительно мало игр. Затем их количество начинает постепенно расти и в конце 00-х годов количество игр достигает пика. \\\n",
    "Пик значений приходится на 2007-2010 годы.\\\n",
    "После 2010 года количество игр снижается."
   ]
  },
  {
   "cell_type": "markdown",
   "metadata": {},
   "source": [
    "В 1980-1990 годы выпускалось относительно очень мало игр. Начиная с 1990 года их количество начинает постепенно расти. в 00-х годах количество игр растёт большими темпами. \\\n",
    "Пики значений приходится на 2007-2010 и 2015 годы. \\\n",
    "В 2015 году количество игр резко возросло по сравнению с предыдущими годами."
   ]
  },
  {
   "cell_type": "code",
   "execution_count": 24,
   "metadata": {
    "scrolled": true
   },
   "outputs": [
    {
     "data": {
      "image/png": "[encoded data removed]",
      "text/plain": [
       "<Figure size 432x288 with 1 Axes>"
      ]
     },
     "metadata": {
      "needs_background": "light"
     },
     "output_type": "display_data"
    }
   ],
   "source": [
    "plt.title('Значения и выбросы \"year_of_release\"', fontsize=13)\n",
    "plt.ylim(1979, 2016)\n",
    "plt.xlim(0, 2)\n",
    "data.pivot_table(index=data.index, values='year_of_release').boxplot();"
   ]
  },
  {
   "cell_type": "code",
   "execution_count": 25,
   "metadata": {},
   "outputs": [
    {
     "data": {
      "text/html": [
       "<div>\n",
       "<style scoped>\n",
       "    .dataframe tbody tr th:only-of-type {\n",
       "        vertical-align: middle;\n",
       "    }\n",
       "\n",
       "    .dataframe tbody tr th {\n",
       "        vertical-align: top;\n",
       "    }\n",
       "\n",
       "    .dataframe thead th {\n",
       "        text-align: right;\n",
       "    }\n",
       "</style>\n",
       "<table border=\"1\" class=\"dataframe\">\n",
       "  <thead>\n",
       "    <tr style=\"text-align: right;\">\n",
       "      <th></th>\n",
       "      <th>year_of_release</th>\n",
       "    </tr>\n",
       "  </thead>\n",
       "  <tbody>\n",
       "    <tr>\n",
       "      <th>count</th>\n",
       "      <td>16444.000000</td>\n",
       "    </tr>\n",
       "    <tr>\n",
       "      <th>mean</th>\n",
       "      <td>2006.486256</td>\n",
       "    </tr>\n",
       "    <tr>\n",
       "      <th>std</th>\n",
       "      <td>5.875525</td>\n",
       "    </tr>\n",
       "    <tr>\n",
       "      <th>min</th>\n",
       "      <td>1980.000000</td>\n",
       "    </tr>\n",
       "    <tr>\n",
       "      <th>25%</th>\n",
       "      <td>2003.000000</td>\n",
       "    </tr>\n",
       "    <tr>\n",
       "      <th>50%</th>\n",
       "      <td>2007.000000</td>\n",
       "    </tr>\n",
       "    <tr>\n",
       "      <th>75%</th>\n",
       "      <td>2010.000000</td>\n",
       "    </tr>\n",
       "    <tr>\n",
       "      <th>max</th>\n",
       "      <td>2016.000000</td>\n",
       "    </tr>\n",
       "  </tbody>\n",
       "</table>\n",
       "</div>"
      ],
      "text/plain": [
       "       year_of_release\n",
       "count     16444.000000\n",
       "mean       2006.486256\n",
       "std           5.875525\n",
       "min        1980.000000\n",
       "25%        2003.000000\n",
       "50%        2007.000000\n",
       "75%        2010.000000\n",
       "max        2016.000000"
      ]
     },
     "execution_count": 25,
     "metadata": {},
     "output_type": "execute_result"
    }
   ],
   "source": [
    "data.pivot_table(index=data.index, values='year_of_release').describe()"
   ]
  },
  {
   "cell_type": "markdown",
   "metadata": {},
   "source": [
    "Рассмотрим диаграмму размаха и список характерных значений столбца 'year_of_release'.\\\n",
    "\n",
    "1) найдем межквартильный размах: (75% - 25%) * 1,5 = (2010 - 2003) * 1,5 = 10,5\n",
    "2) Найдём значение 0%: 25% - 10,5 = 2003 - 10,5 = 1992,5 - граница нормального размаха. Значения ниже её - выбросы."
   ]
  },
  {
   "cell_type": "code",
   "execution_count": 26,
   "metadata": {},
   "outputs": [
    {
     "data": {
      "text/plain": [
       "262"
      ]
     },
     "execution_count": 26,
     "metadata": {},
     "output_type": "execute_result"
    }
   ],
   "source": [
    "data.loc[data['year_of_release'] < 1992, 'year_of_release'].count()"
   ]
  },
  {
   "cell_type": "markdown",
   "metadata": {},
   "source": [
    "Посчитаем количество игр, выпущенных до 1992 года - 262 игры за 11 лет - примерно 1,6% от всех данных."
   ]
  },
  {
   "cell_type": "code",
   "execution_count": 27,
   "metadata": {},
   "outputs": [],
   "source": [
    "data = data.query('year_of_release >= 1992')"
   ]
  },
  {
   "cell_type": "markdown",
   "metadata": {},
   "source": [
    "Удалим редкие значения количества игр, выпущенных до 1992 года. Данные за этот период не очень важны для исследования, т.к. данных слишком мало для того, чтобы можно было выявить какие-либо закономерности и сделать выводы."
   ]
  },
  {
   "cell_type": "markdown",
   "metadata": {},
   "source": [
    "**2) Посмотрим, как менялись продажи по платформам.**"
   ]
  },
  {
   "cell_type": "code",
   "execution_count": 29,
   "metadata": {},
   "outputs": [
    {
     "data": {
      "text/html": [
       "<div>\n",
       "<style scoped>\n",
       "    .dataframe tbody tr th:only-of-type {\n",
       "        vertical-align: middle;\n",
       "    }\n",
       "\n",
       "    .dataframe tbody tr th {\n",
       "        vertical-align: top;\n",
       "    }\n",
       "\n",
       "    .dataframe thead th {\n",
       "        text-align: right;\n",
       "    }\n",
       "</style>\n",
       "<table border=\"1\" class=\"dataframe\">\n",
       "  <thead>\n",
       "    <tr style=\"text-align: right;\">\n",
       "      <th></th>\n",
       "      <th>total_sales</th>\n",
       "    </tr>\n",
       "    <tr>\n",
       "      <th>platform</th>\n",
       "      <th></th>\n",
       "    </tr>\n",
       "  </thead>\n",
       "  <tbody>\n",
       "    <tr>\n",
       "      <th>PS2</th>\n",
       "      <td>1233.56</td>\n",
       "    </tr>\n",
       "    <tr>\n",
       "      <th>X360</th>\n",
       "      <td>961.24</td>\n",
       "    </tr>\n",
       "    <tr>\n",
       "      <th>PS3</th>\n",
       "      <td>931.34</td>\n",
       "    </tr>\n",
       "    <tr>\n",
       "      <th>Wii</th>\n",
       "      <td>891.18</td>\n",
       "    </tr>\n",
       "    <tr>\n",
       "      <th>DS</th>\n",
       "      <td>802.76</td>\n",
       "    </tr>\n",
       "    <tr>\n",
       "      <th>PS</th>\n",
       "      <td>727.58</td>\n",
       "    </tr>\n",
       "    <tr>\n",
       "      <th>PS4</th>\n",
       "      <td>314.14</td>\n",
       "    </tr>\n",
       "    <tr>\n",
       "      <th>GBA</th>\n",
       "      <td>312.88</td>\n",
       "    </tr>\n",
       "    <tr>\n",
       "      <th>PSP</th>\n",
       "      <td>289.53</td>\n",
       "    </tr>\n",
       "    <tr>\n",
       "      <th>3DS</th>\n",
       "      <td>257.81</td>\n",
       "    </tr>\n",
       "  </tbody>\n",
       "</table>\n",
       "</div>"
      ],
      "text/plain": [
       "          total_sales\n",
       "platform             \n",
       "PS2           1233.56\n",
       "X360           961.24\n",
       "PS3            931.34\n",
       "Wii            891.18\n",
       "DS             802.76\n",
       "PS             727.58\n",
       "PS4            314.14\n",
       "GBA            312.88\n",
       "PSP            289.53\n",
       "3DS            257.81"
      ]
     },
     "execution_count": 29,
     "metadata": {},
     "output_type": "execute_result"
    }
   ],
   "source": [
    "platforms = data.pivot_table(index='platform', values=['total_sales'], aggfunc='sum')\\\n",
    ".sort_values(by='total_sales', ascending=False).head(10)\n",
    "platforms"
   ]
  },
  {
   "cell_type": "markdown",
   "metadata": {},
   "source": [
    "Построим рейтинг общих продаж по платформам. Можно заметить, что первые шесть платформ в этом рейтинге заметно отрываются от остальных по общему количеству продаж. Рассмотрим их."
   ]
  },
  {
   "cell_type": "code",
   "execution_count": 30,
   "metadata": {},
   "outputs": [
    {
     "data": {
      "image/png": "[encoded data removed]",
      "text/plain": [
       "<Figure size 432x288 with 1 Axes>"
      ]
     },
     "metadata": {
      "needs_background": "light"
     },
     "output_type": "display_data"
    }
   ],
   "source": [
    "data.loc[data['platform'] == 'PS2', 'year_of_release'].hist(bins=30);\n",
    "plt.title('Платформа \"PS2\"', fontsize=13)\n",
    "plt.xlabel('Год выпуска', fontsize=10)\n",
    "plt.ylabel('Глобальные продажи',fontsize=10);"
   ]
  },
  {
   "cell_type": "markdown",
   "metadata": {},
   "source": [
    "Рост продаж: 2000-2002 (2 года)\\\n",
    "Пиковое значение: 2002-2006 (4 года)\\\n",
    "Снижение продаж: 2006-2010 (4 года)"
   ]
  },
  {
   "cell_type": "code",
   "execution_count": 31,
   "metadata": {},
   "outputs": [
    {
     "data": {
      "image/png": "[encoded data removed]",
      "text/plain": [
       "<Figure size 432x288 with 1 Axes>"
      ]
     },
     "metadata": {
      "needs_background": "light"
     },
     "output_type": "display_data"
    }
   ],
   "source": [
    "data.loc[data['platform'] == 'X360', 'year_of_release'].hist(bins=30);\n",
    "plt.title('Платформа \"X360\"', fontsize=13)\n",
    "plt.xlabel('Год выпуска', fontsize=10)\n",
    "plt.ylabel('Глобальные продажи',fontsize=10);"
   ]
  },
  {
   "cell_type": "markdown",
   "metadata": {},
   "source": [
    "Рост продаж: 2006-2011 (5 лет)\\\n",
    "Пиковое значение: 2011 (1 год)\\\n",
    "Снижение продаж: 2011-2016 (5 лет)"
   ]
  },
  {
   "cell_type": "code",
   "execution_count": 32,
   "metadata": {},
   "outputs": [
    {
     "data": {
      "image/png": "[encoded data removed]",
      "text/plain": [
       "<Figure size 432x288 with 1 Axes>"
      ]
     },
     "metadata": {
      "needs_background": "light"
     },
     "output_type": "display_data"
    }
   ],
   "source": [
    "data.loc[data['platform'] == 'Wii', 'year_of_release'].hist(bins=30);\n",
    "plt.title('Платформа \"Wii\"', fontsize=13)\n",
    "plt.xlabel('Год выпуска', fontsize=10)\n",
    "plt.ylabel('Глобальные продажи',fontsize=10);"
   ]
  },
  {
   "cell_type": "markdown",
   "metadata": {},
   "source": [
    "Рост продаж: 2006-2009 (3 года)\\\n",
    "Пиковое значение: 2009 (1 год)\\\n",
    "Снижение продаж: 2009-2012 (3 года)"
   ]
  },
  {
   "cell_type": "code",
   "execution_count": 33,
   "metadata": {},
   "outputs": [
    {
     "data": {
      "image/png": "[encoded data removed]",
      "text/plain": [
       "<Figure size 432x288 with 1 Axes>"
      ]
     },
     "metadata": {
      "needs_background": "light"
     },
     "output_type": "display_data"
    }
   ],
   "source": [
    "data.loc[data['platform'] == 'PS3', 'year_of_release'].hist(bins=30);\n",
    "plt.title('Платформа \"PS3\"', fontsize=13)\n",
    "plt.xlabel('Год выпуска', fontsize=10)\n",
    "plt.ylabel('Глобальные продажи',fontsize=10);"
   ]
  },
  {
   "cell_type": "markdown",
   "metadata": {},
   "source": [
    "Рост продаж: 2006-2011 (5 лет)\\\n",
    "Пиковое значение: 2011 (1 год)\\\n",
    "Снижение продаж: 2011-2016 (5 лет)"
   ]
  },
  {
   "cell_type": "code",
   "execution_count": 34,
   "metadata": {},
   "outputs": [
    {
     "data": {
      "image/png": "[encoded data removed]",
      "text/plain": [
       "<Figure size 432x288 with 1 Axes>"
      ]
     },
     "metadata": {
      "needs_background": "light"
     },
     "output_type": "display_data"
    }
   ],
   "source": [
    "data.loc[data['platform'] == 'DS', 'year_of_release'].hist(bins=30);\n",
    "plt.title('Платформа \"DS\"', fontsize=13)\n",
    "plt.xlabel('Год выпуска', fontsize=10)\n",
    "plt.ylabel('Глобальные продажи',fontsize=10);"
   ]
  },
  {
   "cell_type": "markdown",
   "metadata": {},
   "source": [
    "Рост продаж: 2004-2008 (4 года)\\\n",
    "Пиковое значение: 2008 (1 год)\\\n",
    "Снижение продаж: 2008-2012 (4 года)"
   ]
  },
  {
   "cell_type": "code",
   "execution_count": 35,
   "metadata": {},
   "outputs": [
    {
     "data": {
      "image/png": "[encoded data removed]",
      "text/plain": [
       "<Figure size 432x288 with 1 Axes>"
      ]
     },
     "metadata": {
      "needs_background": "light"
     },
     "output_type": "display_data"
    }
   ],
   "source": [
    "data.loc[data['platform'] == 'PS', 'year_of_release'].hist(bins=30);\n",
    "plt.title('Платформа \"PS\"', fontsize=13)\n",
    "plt.xlabel('Год выпуска', fontsize=10)\n",
    "plt.ylabel('Глобальные продажи',fontsize=10);"
   ]
  },
  {
   "cell_type": "markdown",
   "metadata": {},
   "source": [
    "Рост продаж: 1994-1998 (4 года)\\\n",
    "Пиковое значение: 1998 (1 год)\\\n",
    "Снижение продаж: 1998-2002 (4 года)"
   ]
  },
  {
   "cell_type": "markdown",
   "metadata": {},
   "source": [
    "На всех платформах можно выявить закономерность - количество выпущенных игр начинается с определённого значения, растёт, достигает своего пика, затем постепенно падает и приходит к минимуму или низким значениям. Такой цикл длится для всех платформ около 8-10 лет. Можно предположить, что за срок 8-10 лет появляются новые и исчезают старые платформы."
   ]
  },
  {
   "cell_type": "markdown",
   "metadata": {},
   "source": [
    "**3) Определим актуальный период**"
   ]
  },
  {
   "cell_type": "markdown",
   "metadata": {},
   "source": [
    "Рассмотрим гистограммы платформ с наибольшим количеством продаж. Платформы после начала роста продаж достигли своего пика через:\n",
    "- Платформа 'PS2' - 2 года\n",
    "- Платформа 'X360' - 5 лет\n",
    "- Платформа 'Wii' - 3 года\n",
    "- Платформа 'PS3' - 5 лет\n",
    "- Платформа 'DS' - 4 года\n",
    "- Платформа 'PS' - 4 года"
   ]
  },
  {
   "cell_type": "markdown",
   "metadata": {},
   "source": [
    "В среднем платформы достигали своего пика за 3.8 года, т.е. примерно за это время ситуация на рынке кардинально менялась. Из этого следует, что актуальный период составляет примерно 4 года.\\\n",
    "Т.е. для того, чтобы построить прогноз на 2017 год, нужно рассматривать данные за 3-4 предыдущих года - за 2013-2016 годы. Учитывая то, что данные за 2016 неполные, рассмотрим период с 2013 по 2015 годы."
   ]
  },
  {
   "cell_type": "code",
   "execution_count": 36,
   "metadata": {},
   "outputs": [],
   "source": [
    "data_actual = data.query('year_of_release >= 2013')"
   ]
  },
  {
   "cell_type": "markdown",
   "metadata": {},
   "source": [
    "Для рассмотрения данных только за актуальный период, выделим эту часть датафрейма."
   ]
  },
  {
   "cell_type": "markdown",
   "metadata": {},
   "source": [
    "**4) Определим лидирующие по продажам, растущие или падающие платформы.Выберем несколько потенциально прибыльных платформ.**"
   ]
  },
  {
   "cell_type": "code",
   "execution_count": 37,
   "metadata": {
    "scrolled": true
   },
   "outputs": [
    {
     "data": {
      "text/html": [
       "<div>\n",
       "<style scoped>\n",
       "    .dataframe tbody tr th:only-of-type {\n",
       "        vertical-align: middle;\n",
       "    }\n",
       "\n",
       "    .dataframe tbody tr th {\n",
       "        vertical-align: top;\n",
       "    }\n",
       "\n",
       "    .dataframe thead th {\n",
       "        text-align: right;\n",
       "    }\n",
       "</style>\n",
       "<table border=\"1\" class=\"dataframe\">\n",
       "  <thead>\n",
       "    <tr style=\"text-align: right;\">\n",
       "      <th></th>\n",
       "      <th>total_sales</th>\n",
       "    </tr>\n",
       "    <tr>\n",
       "      <th>platform</th>\n",
       "      <th></th>\n",
       "    </tr>\n",
       "  </thead>\n",
       "  <tbody>\n",
       "    <tr>\n",
       "      <th>PS4</th>\n",
       "      <td>314.14</td>\n",
       "    </tr>\n",
       "    <tr>\n",
       "      <th>PS3</th>\n",
       "      <td>181.43</td>\n",
       "    </tr>\n",
       "    <tr>\n",
       "      <th>XOne</th>\n",
       "      <td>159.32</td>\n",
       "    </tr>\n",
       "    <tr>\n",
       "      <th>3DS</th>\n",
       "      <td>143.25</td>\n",
       "    </tr>\n",
       "    <tr>\n",
       "      <th>X360</th>\n",
       "      <td>136.80</td>\n",
       "    </tr>\n",
       "    <tr>\n",
       "      <th>WiiU</th>\n",
       "      <td>64.63</td>\n",
       "    </tr>\n",
       "    <tr>\n",
       "      <th>PC</th>\n",
       "      <td>39.43</td>\n",
       "    </tr>\n",
       "    <tr>\n",
       "      <th>PSV</th>\n",
       "      <td>32.99</td>\n",
       "    </tr>\n",
       "    <tr>\n",
       "      <th>Wii</th>\n",
       "      <td>13.66</td>\n",
       "    </tr>\n",
       "    <tr>\n",
       "      <th>PSP</th>\n",
       "      <td>3.50</td>\n",
       "    </tr>\n",
       "    <tr>\n",
       "      <th>DS</th>\n",
       "      <td>1.54</td>\n",
       "    </tr>\n",
       "  </tbody>\n",
       "</table>\n",
       "</div>"
      ],
      "text/plain": [
       "          total_sales\n",
       "platform             \n",
       "PS4            314.14\n",
       "PS3            181.43\n",
       "XOne           159.32\n",
       "3DS            143.25\n",
       "X360           136.80\n",
       "WiiU            64.63\n",
       "PC              39.43\n",
       "PSV             32.99\n",
       "Wii             13.66\n",
       "PSP              3.50\n",
       "DS               1.54"
      ]
     },
     "execution_count": 37,
     "metadata": {},
     "output_type": "execute_result"
    }
   ],
   "source": [
    "data_actual.pivot_table(index='platform', values='total_sales', aggfunc='sum')\\\n",
    ".sort_values(by='total_sales', ascending=False)"
   ]
  },
  {
   "cell_type": "markdown",
   "metadata": {},
   "source": [
    "Рассмотрим общие продажи платформ в 2013-2015 годах. Можно разделить платформы на 4 сегмента в зависимости от их показателей.\n",
    "1) **Лидирующая платформа**: заметно отрывается от остальных платформ по общим продажам платформа 'PS4'.\\\n",
    "2) **Платформы с высокими показателями**: после неё идут платформы 'PS3', 'X360', '3DS', 'XOne' с высокими показателями.\\\n",
    "3) **Платформы со средними и низкими показателями**: платформы 'WiiU', 'PC', 'PSV'  отстают от лидирующих с заметным отрывом.\\\n",
    "4) **Платформы с низкими показателями**: 'Wii', 'PSP', 'DS'."
   ]
  },
  {
   "cell_type": "code",
   "execution_count": 38,
   "metadata": {
    "scrolled": true
   },
   "outputs": [
    {
     "data": {
      "text/html": [
       "<div>\n",
       "<style scoped>\n",
       "    .dataframe tbody tr th:only-of-type {\n",
       "        vertical-align: middle;\n",
       "    }\n",
       "\n",
       "    .dataframe tbody tr th {\n",
       "        vertical-align: top;\n",
       "    }\n",
       "\n",
       "    .dataframe thead th {\n",
       "        text-align: right;\n",
       "    }\n",
       "</style>\n",
       "<table border=\"1\" class=\"dataframe\">\n",
       "  <thead>\n",
       "    <tr style=\"text-align: right;\">\n",
       "      <th>platform</th>\n",
       "      <th>3DS</th>\n",
       "      <th>DS</th>\n",
       "      <th>PC</th>\n",
       "      <th>PS3</th>\n",
       "      <th>PS4</th>\n",
       "      <th>PSP</th>\n",
       "      <th>PSV</th>\n",
       "      <th>Wii</th>\n",
       "      <th>WiiU</th>\n",
       "      <th>X360</th>\n",
       "      <th>XOne</th>\n",
       "    </tr>\n",
       "    <tr>\n",
       "      <th>year_of_release</th>\n",
       "      <th></th>\n",
       "      <th></th>\n",
       "      <th></th>\n",
       "      <th></th>\n",
       "      <th></th>\n",
       "      <th></th>\n",
       "      <th></th>\n",
       "      <th></th>\n",
       "      <th></th>\n",
       "      <th></th>\n",
       "      <th></th>\n",
       "    </tr>\n",
       "  </thead>\n",
       "  <tbody>\n",
       "    <tr>\n",
       "      <th>2013</th>\n",
       "      <td>56.57</td>\n",
       "      <td>1.54</td>\n",
       "      <td>12.38</td>\n",
       "      <td>113.25</td>\n",
       "      <td>25.99</td>\n",
       "      <td>3.14</td>\n",
       "      <td>10.59</td>\n",
       "      <td>8.59</td>\n",
       "      <td>21.65</td>\n",
       "      <td>88.58</td>\n",
       "      <td>18.96</td>\n",
       "    </tr>\n",
       "    <tr>\n",
       "      <th>2014</th>\n",
       "      <td>43.76</td>\n",
       "      <td>NaN</td>\n",
       "      <td>13.28</td>\n",
       "      <td>47.76</td>\n",
       "      <td>100.00</td>\n",
       "      <td>0.24</td>\n",
       "      <td>11.90</td>\n",
       "      <td>3.75</td>\n",
       "      <td>22.03</td>\n",
       "      <td>34.74</td>\n",
       "      <td>54.07</td>\n",
       "    </tr>\n",
       "    <tr>\n",
       "      <th>2015</th>\n",
       "      <td>27.78</td>\n",
       "      <td>NaN</td>\n",
       "      <td>8.52</td>\n",
       "      <td>16.82</td>\n",
       "      <td>118.90</td>\n",
       "      <td>0.12</td>\n",
       "      <td>6.25</td>\n",
       "      <td>1.14</td>\n",
       "      <td>16.35</td>\n",
       "      <td>11.96</td>\n",
       "      <td>60.14</td>\n",
       "    </tr>\n",
       "  </tbody>\n",
       "</table>\n",
       "</div>"
      ],
      "text/plain": [
       "platform           3DS    DS     PC     PS3     PS4   PSP    PSV   Wii   WiiU  \\\n",
       "year_of_release                                                                 \n",
       "2013             56.57  1.54  12.38  113.25   25.99  3.14  10.59  8.59  21.65   \n",
       "2014             43.76   NaN  13.28   47.76  100.00  0.24  11.90  3.75  22.03   \n",
       "2015             27.78   NaN   8.52   16.82  118.90  0.12   6.25  1.14  16.35   \n",
       "\n",
       "platform          X360   XOne  \n",
       "year_of_release                \n",
       "2013             88.58  18.96  \n",
       "2014             34.74  54.07  \n",
       "2015             11.96  60.14  "
      ]
     },
     "execution_count": 38,
     "metadata": {},
     "output_type": "execute_result"
    }
   ],
   "source": [
    "platforms_2013_2015 = data_actual.query('year_of_release >= 2013 & year_of_release <= 2015')\\\n",
    ".pivot_table(index='year_of_release', columns='platform', values='total_sales', aggfunc='sum')\n",
    "platforms_2013_2015"
   ]
  },
  {
   "cell_type": "code",
   "execution_count": 39,
   "metadata": {
    "scrolled": false
   },
   "outputs": [
    {
     "data": {
      "image/png": "[encoded data removed]",
      "text/plain": [
       "<Figure size 864x1440 with 11 Axes>"
      ]
     },
     "metadata": {
      "needs_background": "light"
     },
     "output_type": "display_data"
    }
   ],
   "source": [
    "platforms_2013_2015.plot(y=['3DS', 'DS', 'PC', 'PS3', 'PS4', 'PSP', 'PSV', 'Wii', 'WiiU', 'X360', 'XOne'],\\\n",
    "                    kind='area', grid=True, figsize=(12, 20), title = 'Количество продаж платформ в 2013-2015 гг.',\\\n",
    "                         subplots=True);\n",
    "plt.xlabel('Год выпуска', fontsize=10);"
   ]
  },
  {
   "cell_type": "markdown",
   "metadata": {},
   "source": [
    "Рассмотрим графики общих продаж разных платформ по годам. Можно заметить, что некоторые платформы имеют отрицательную тенденцию, так как уже преодолели свой пик наивысших показателей общих продаж. Рассмотрим платформы по выделенным сегментам:\n",
    "\n",
    "1) **Продажи платформы 'PS4'** постепенно идут на повышение.\n",
    "\n",
    "2) **Платформы с высокими показателями**: 'PS3', 'XOne', '3DS', 'X360'.\n",
    "- платформа 'PS3' имеет очень низкие показатели продаж\n",
    "- платформа 'XOne' - продажи постепенно идут на повышение\n",
    "- платформа '3DS' - продажи медленно снижаются\n",
    "- платформа 'X360' имеет очень низкие показатели продаж\n",
    "\n",
    "3) **Платформы со средними показателями**: 'WiiU', 'PC', 'PSV'.\n",
    "- платформа 'WiiU' - продажи медленно снижаются\n",
    "- платформа 'PC' - продажи медленно снижаются\n",
    "- платформа 'PSV' - продажи медленно снижаются\n",
    "\n",
    "4) **Платформы с низкими показателями**: 'Wii', 'PSP', 'DS'.\n",
    "- платформа 'Wii' - показатели продаж, близкие к нулю\n",
    "- платформа 'PSP' - показатели продаж, близкие к нулю\n",
    "- платформа 'DS' - показатели продаж, близкие к нулю"
   ]
  },
  {
   "cell_type": "markdown",
   "metadata": {},
   "source": [
    "**Потенциально прибыльные платформы**:\n",
    "\n",
    "1) По причине возрастания показателей:\n",
    "- платформа 'PS4'\n",
    "- платформа 'XOne'\n",
    "\n",
    "2) По причине стабильности:\n",
    "- платформа '3DS' - т.к. продажи снижаются медленно, можно сказать, что платформа имеет относительно стабильные показатели продаж. Платформа имеет относительно среднюю стабильность и относительно высокие показатели\n",
    "- платформа 'PC' - имеет относительно среднюю стабильность и относительно средние показатели\n",
    "- платформа 'WiiU' - имеет относительно высокую стабильность, но относительно низкие показатели\n",
    "- платформа 'PSV' - имеет относительно высокую стабильность, но относительно низкие показатели"
   ]
  },
  {
   "cell_type": "markdown",
   "metadata": {},
   "source": [
    "**5) Построим график «ящик с усами» по глобальным продажам игр в разбивке по платформам.**"
   ]
  },
  {
   "cell_type": "code",
   "execution_count": 40,
   "metadata": {},
   "outputs": [],
   "source": [
    "data_top = data_actual.query('platform in [\"3DS\", \"DS\", \"PC\", \"PS3\", \"PS4\", \"PSP\", \"PSV\", \"Wii\", \"WiiU\", \"X360\", \"XOne\"]')"
   ]
  },
  {
   "cell_type": "code",
   "execution_count": 41,
   "metadata": {
    "scrolled": true
   },
   "outputs": [
    {
     "data": {
      "image/png": "[encoded data removed]",
      "text/plain": [
       "<Figure size 432x288 with 1 Axes>"
      ]
     },
     "metadata": {
      "needs_background": "light"
     },
     "output_type": "display_data"
    }
   ],
   "source": [
    "plt.ylim(0, 2)\n",
    "data_top.pivot_table(index=data_top.index, values='total_sales', columns='platform').boxplot();"
   ]
  },
  {
   "cell_type": "code",
   "execution_count": 42,
   "metadata": {
    "scrolled": false
   },
   "outputs": [
    {
     "data": {
      "text/plain": [
       "(0.0, 2.0)"
      ]
     },
     "execution_count": 42,
     "metadata": {},
     "output_type": "execute_result"
    },
    {
     "data": {
      "image/png": "[encoded data removed]",
      "text/plain": [
       "<Figure size 720x360 with 1 Axes>"
      ]
     },
     "metadata": {
      "needs_background": "light"
     },
     "output_type": "display_data"
    }
   ],
   "source": [
    "plt.figure(figsize=(10,5))\n",
    "sns.boxplot(data=data_actual, x='platform', y='total_sales')\n",
    "plt.title('\"Ящик с усами\" в разбивке по платформам', fontsize=15)\n",
    "plt.xlabel('Платформа', fontsize=10)\n",
    "plt.ylabel('Глобальные продажи',fontsize=10)\n",
    "plt.ylim(0,2)"
   ]
  },
  {
   "cell_type": "code",
   "execution_count": 43,
   "metadata": {},
   "outputs": [
    {
     "data": {
      "text/plain": [
       "0"
      ]
     },
     "execution_count": 43,
     "metadata": {},
     "output_type": "execute_result"
    }
   ],
   "source": [
    "data['total_sales'].isna().sum()"
   ]
  },
  {
   "cell_type": "markdown",
   "metadata": {},
   "source": [
    "Графики \"ящик с усами\" для разных платформ заметно отличаются. Можно заметить отличия в *размахе значений* и *количестве выбросов*.\\\n",
    "Размах значений - можно предположить, что чем больше размах нормальных значений, тем большее количество стабильных продаж имеет платформа.\\\n",
    "Количество выбросов - чем больше количество выбросов, тем более нестабильное количество продаж имеет платформа."
   ]
  },
  {
   "cell_type": "markdown",
   "metadata": {},
   "source": [
    "**6) Посмотрим, как влияют на продажи внутри одной популярной платформы отзывы пользователей и критиков. Построим диаграмму рассеяния и посчитаем корреляцию между отзывами и продажами. Сформулируем выводы.**"
   ]
  },
  {
   "cell_type": "markdown",
   "metadata": {},
   "source": [
    "Рассмотрим платформу 'XOne', т.к. она имеет относительно стабильный высокий доход."
   ]
  },
  {
   "cell_type": "code",
   "execution_count": 44,
   "metadata": {},
   "outputs": [],
   "source": [
    "user_critic_sales_xone = data_actual.query('platform == \"XOne\"')\\\n",
    ".pivot_table(index=data_actual.query('platform == \"XOne\"').index,\\\n",
    "                                   values=['user_score', 'critic_score', 'total_sales'])"
   ]
  },
  {
   "cell_type": "code",
   "execution_count": 45,
   "metadata": {},
   "outputs": [
    {
     "data": {
      "image/png": "[encoded data removed]",
      "text/plain": [
       "<Figure size 648x648 with 9 Axes>"
      ]
     },
     "metadata": {
      "needs_background": "light"
     },
     "output_type": "display_data"
    }
   ],
   "source": [
    "pd.plotting.scatter_matrix(user_critic_sales_xone, figsize=(9, 9));"
   ]
  },
  {
   "cell_type": "markdown",
   "metadata": {},
   "source": [
    "Рассмотрим зависимость общих продаж от оценок критиков и пользователей - рассмотрим средний ряд диаграммы рассеяния по горизонтали.\n",
    "1) В первой ячейке можно увидеть зависимость количества продаж от оценки критиков. До оценки 70 значения имеют вид постепенно расширяющейся полосы, после оценки 70 значения идут вразброс. Это значит, что до оценки 70 продажи напрямую зависят от оценки критиков - чем выше оценка, тем больше продаж. У игр с оценкой 70+ можно заметить выбивающиеся большие значения общих продаж, которые нельзя было заметить с у игр оценкой ниже.\n",
    "\n",
    "2) В третьей ячейке можно увидеть зависимость количества продаж от оценки пользователей. Аномально высокие значения продаж есть у игр с оценкой больше 3, их количество возрастает с увеличением оценки пользователей. Количество невыбивающихся значений тоже возрастает с увеличением оценки пользователей.\n",
    "\n",
    "Скорее всего, продажи игр и оценки критиков находятся в большей зависимости, чем оценки пользователей. Тем не менее, оценка пользователей тоже влияет на продажи."
   ]
  },
  {
   "cell_type": "code",
   "execution_count": 46,
   "metadata": {},
   "outputs": [
    {
     "data": {
      "text/html": [
       "<div>\n",
       "<style scoped>\n",
       "    .dataframe tbody tr th:only-of-type {\n",
       "        vertical-align: middle;\n",
       "    }\n",
       "\n",
       "    .dataframe tbody tr th {\n",
       "        vertical-align: top;\n",
       "    }\n",
       "\n",
       "    .dataframe thead th {\n",
       "        text-align: right;\n",
       "    }\n",
       "</style>\n",
       "<table border=\"1\" class=\"dataframe\">\n",
       "  <thead>\n",
       "    <tr style=\"text-align: right;\">\n",
       "      <th></th>\n",
       "      <th>critic_score</th>\n",
       "      <th>total_sales</th>\n",
       "      <th>user_score</th>\n",
       "    </tr>\n",
       "  </thead>\n",
       "  <tbody>\n",
       "    <tr>\n",
       "      <th>99</th>\n",
       "      <td>NaN</td>\n",
       "      <td>7.39</td>\n",
       "      <td>NaN</td>\n",
       "    </tr>\n",
       "    <tr>\n",
       "      <th>165</th>\n",
       "      <td>97.0</td>\n",
       "      <td>5.47</td>\n",
       "      <td>7.9</td>\n",
       "    </tr>\n",
       "    <tr>\n",
       "      <th>179</th>\n",
       "      <td>81.0</td>\n",
       "      <td>5.26</td>\n",
       "      <td>5.4</td>\n",
       "    </tr>\n",
       "    <tr>\n",
       "      <th>242</th>\n",
       "      <td>84.0</td>\n",
       "      <td>4.49</td>\n",
       "      <td>6.4</td>\n",
       "    </tr>\n",
       "    <tr>\n",
       "      <th>270</th>\n",
       "      <td>88.0</td>\n",
       "      <td>4.22</td>\n",
       "      <td>6.2</td>\n",
       "    </tr>\n",
       "    <tr>\n",
       "      <th>...</th>\n",
       "      <td>...</td>\n",
       "      <td>...</td>\n",
       "      <td>...</td>\n",
       "    </tr>\n",
       "    <tr>\n",
       "      <th>16630</th>\n",
       "      <td>63.0</td>\n",
       "      <td>0.01</td>\n",
       "      <td>8.2</td>\n",
       "    </tr>\n",
       "    <tr>\n",
       "      <th>16643</th>\n",
       "      <td>NaN</td>\n",
       "      <td>0.01</td>\n",
       "      <td>6.6</td>\n",
       "    </tr>\n",
       "    <tr>\n",
       "      <th>16645</th>\n",
       "      <td>NaN</td>\n",
       "      <td>0.01</td>\n",
       "      <td>NaN</td>\n",
       "    </tr>\n",
       "    <tr>\n",
       "      <th>16660</th>\n",
       "      <td>74.0</td>\n",
       "      <td>0.01</td>\n",
       "      <td>6.7</td>\n",
       "    </tr>\n",
       "    <tr>\n",
       "      <th>16672</th>\n",
       "      <td>NaN</td>\n",
       "      <td>0.01</td>\n",
       "      <td>NaN</td>\n",
       "    </tr>\n",
       "  </tbody>\n",
       "</table>\n",
       "<p>247 rows × 3 columns</p>\n",
       "</div>"
      ],
      "text/plain": [
       "       critic_score  total_sales  user_score\n",
       "99              NaN         7.39         NaN\n",
       "165            97.0         5.47         7.9\n",
       "179            81.0         5.26         5.4\n",
       "242            84.0         4.49         6.4\n",
       "270            88.0         4.22         6.2\n",
       "...             ...          ...         ...\n",
       "16630          63.0         0.01         8.2\n",
       "16643           NaN         0.01         6.6\n",
       "16645           NaN         0.01         NaN\n",
       "16660          74.0         0.01         6.7\n",
       "16672           NaN         0.01         NaN\n",
       "\n",
       "[247 rows x 3 columns]"
      ]
     },
     "execution_count": 46,
     "metadata": {},
     "output_type": "execute_result"
    }
   ],
   "source": [
    "user_critic_sales_xone"
   ]
  },
  {
   "cell_type": "code",
   "execution_count": 47,
   "metadata": {
    "scrolled": true
   },
   "outputs": [
    {
     "name": "stdout",
     "output_type": "stream",
     "text": [
      "Корреляция оценки критиков и продаж:  0.4169983280084017\n",
      "Корреляция оценки пользователей и продаж:  -0.06892505328279414\n"
     ]
    }
   ],
   "source": [
    "print('Корреляция оценки критиков и продаж: ', user_critic_sales_xone['critic_score']\\\n",
    "      .corr(user_critic_sales_xone['total_sales']))\n",
    "print('Корреляция оценки пользователей и продаж: ', user_critic_sales_xone['user_score']\\\n",
    "      .corr(user_critic_sales_xone['total_sales']))"
   ]
  },
  {
   "cell_type": "markdown",
   "metadata": {},
   "source": [
    "Рассчитаем корреляцию между оценкой критиков и общими продажами и оценкой пользователей и общими продажами.\\\n",
    "Корреляция между оценкой критиков и общими продажами: 0,42.\\\n",
    "Корреляция между оценкой пользователей и общими продажами: -0,06.\\\n",
    "Как и предполагалось, оценка критиков имеет гораздо большее влияние на продажи, чем оценка пользователей. Более того, оценка пользователей отрицательна и близка к нулю.\n",
    "\n",
    "Выводы:\n",
    "- Можно заметить, что с преодолением порога оценки критиков примерно 70 баллов, продажи перестают быть предсказуемыми. Исходя из этого, можно предположить, что игры с оценкой 70+ относятся к одной категории игр с высокой оценкой критиков. Игры, входящие в эту категорию, не имеют сильных различий и преимуществ за счёт оценки критиков, и на продажи начинают влиять другие факторы."
   ]
  },
  {
   "cell_type": "markdown",
   "metadata": {},
   "source": [
    "**7) Соотнесём выводы с продажами игр на других платформах.**"
   ]
  },
  {
   "cell_type": "code",
   "execution_count": 48,
   "metadata": {
    "scrolled": false
   },
   "outputs": [
    {
     "data": {
      "image/png": "[encoded data removed]",
      "text/plain": [
       "<Figure size 648x648 with 9 Axes>"
      ]
     },
     "metadata": {
      "needs_background": "light"
     },
     "output_type": "display_data"
    }
   ],
   "source": [
    "user_critic_sales = data_actual.query('platform != \"XOne\"')\\\n",
    ".pivot_table(index=data_actual.query('platform != \"XOne\"').index, values = ['user_score', 'critic_score', 'total_sales'])\n",
    "pd.plotting.scatter_matrix(user_critic_sales, figsize=(9, 9));"
   ]
  },
  {
   "cell_type": "code",
   "execution_count": 49,
   "metadata": {},
   "outputs": [
    {
     "name": "stdout",
     "output_type": "stream",
     "text": [
      "Корреляция оценки критиков и продаж:  0.30193777746503586\n",
      "Корреляция оценки пользователей и продаж:  0.0048989099197678755\n"
     ]
    }
   ],
   "source": [
    "print('Корреляция оценки критиков и продаж: ', user_critic_sales['total_sales'].corr(user_critic_sales['critic_score']))\n",
    "print('Корреляция оценки пользователей и продаж: ', user_critic_sales['total_sales'].corr(user_critic_sales['user_score']))"
   ]
  },
  {
   "cell_type": "markdown",
   "metadata": {},
   "source": [
    "Рассчитаем корреляцию между оценкой критиков и общими продажами и оценкой пользователей и общими продажами, исключив из расчёта платформу XOne.\\\n",
    "Корреляция между оценкой критиков и общими продажами: 0,31. На платформе 'X360' корреляция равна 0,42.\\\n",
    "Корреляция между оценкой пользователей и общими продажами: -0,003. На платформе 'X360' корреляция равна -0,06.\\\n",
    "Оценка критиков на всех платформах имеет ощутимое влияние на продажи."
   ]
  },
  {
   "cell_type": "code",
   "execution_count": 50,
   "metadata": {},
   "outputs": [
    {
     "data": {
      "image/png": "[encoded data removed]",
      "text/plain": [
       "<Figure size 648x648 with 9 Axes>"
      ]
     },
     "metadata": {
      "needs_background": "light"
     },
     "output_type": "display_data"
    }
   ],
   "source": [
    "user_critic_sales = data_actual.pivot_table(index=data_actual.index, values = ['user_score', 'critic_score', 'total_sales'])\n",
    "pd.plotting.scatter_matrix(user_critic_sales, figsize=(9, 9));"
   ]
  },
  {
   "cell_type": "markdown",
   "metadata": {},
   "source": [
    "Рассмотрим второй ряд ячеек по горизонтали в матрице рассеяния:\n",
    "1) Рассмотрим первую ячейку - зависимость количества продаж от оценки критиков. Выбивающиеся большие значения продаж начинаются с оценки 60 баллов, и их количество увеличивается с ростом оценки критиков. Начиная с оценки примерно 70 баллов, количество продаж становится непредсказуемым. Похожая схема присутствует в продажах платформы 'X360'. При этом корреляция зависимости продаж всех платформ от оценки критиков ниже, чем корреляция продаж и оценок игр платформы 'X360'.\n",
    "\n",
    "2) Рассмотрим третью ячейку - зависимость количества продаж от оценки пользователей. Количество продаж растёт с увеличением оценки пользователей, но корреляция очень низкая. Можно заметить, что выбивающиеся высокие значения продаж появляются с оценки 2,5 балла, почти так же, как у платформы 'X360'. Корреляция продаж и оценки пользователей по всем платформам немного ниже, чем у платформы 'X360', но примерно на том же уровне.\n",
    "\n",
    "**Вывод:**\n",
    "- Можно предположить, что так же, как у платформы 'X360', у других платформ тоже есть категория игр с высокими оценками критиков, на продажи которых сильнее действуют другие факторы."
   ]
  },
  {
   "cell_type": "markdown",
   "metadata": {},
   "source": [
    "**8) Посмотрим на общее распределение игр по жанрам. Рассмотрим самые прибыльные жанры. Выясним, выделяются ли жанры с высокими и низкими продажами.**"
   ]
  },
  {
   "cell_type": "code",
   "execution_count": 51,
   "metadata": {},
   "outputs": [
    {
     "data": {
      "text/plain": [
       "genre\n",
       "Action          766\n",
       "Role-Playing    292\n",
       "Adventure       245\n",
       "Sports          214\n",
       "Shooter         187\n",
       "Misc            155\n",
       "Racing           85\n",
       "Fighting         80\n",
       "Platform         74\n",
       "Simulation       62\n",
       "Strategy         56\n",
       "Puzzle           17\n",
       "Name: name, dtype: int64"
      ]
     },
     "execution_count": 51,
     "metadata": {},
     "output_type": "execute_result"
    }
   ],
   "source": [
    "data_actual.groupby('genre')['name'].count().sort_values(ascending=False)"
   ]
  },
  {
   "cell_type": "markdown",
   "metadata": {},
   "source": [
    "Рассмотрим распределение игр по жанрам - посчитаем их количество в каждом жанре:\n",
    "\n",
    "1) наибольшее количество игр в жанре 'Action' - больше 700\n",
    "\n",
    "2) среднее количество игр - от 100 до 300 - в жанрах: 'Role-Playing', 'Adventure', 'Sports', 'Shooter', 'Misc'\n",
    "\n",
    "3) наименьшее количество игр - меньше 100 - в жанрах: 'Racing', 'Fighting', 'Platform', 'Simulation', 'Strategy, 'Puzzle'\n"
   ]
  },
  {
   "cell_type": "code",
   "execution_count": 52,
   "metadata": {},
   "outputs": [
    {
     "data": {
      "text/plain": [
       "genre\n",
       "Shooter         0.450\n",
       "Sports          0.240\n",
       "Platform        0.225\n",
       "Role-Playing    0.125\n",
       "Fighting        0.125\n",
       "Racing          0.120\n",
       "Action          0.110\n",
       "Simulation      0.100\n",
       "Misc            0.100\n",
       "Strategy        0.080\n",
       "Puzzle          0.060\n",
       "Adventure       0.030\n",
       "Name: total_sales, dtype: float64"
      ]
     },
     "execution_count": 52,
     "metadata": {},
     "output_type": "execute_result"
    }
   ],
   "source": [
    "data_actual.groupby('genre')['total_sales'].median().sort_values(ascending=False)"
   ]
  },
  {
   "cell_type": "markdown",
   "metadata": {},
   "source": [
    "Рассмотрим прибыльность жанров. Для каждого жанра рассчитаем медианное значение продаж, т.к. оно показывает количество продаж в среднем без учёта аномальных значений, которых, как было видно из матрицы рассеяния, достаточно много. Можно выделить несколько групп.\n",
    "\n",
    "1) наиболее прибыльный жанр - 'Shooter'\n",
    "\n",
    "2) жанры со средней прибыльностью - 'Sports', 'Platform', 'Role-Playing', 'Fighting', 'Action', 'Racing'\n",
    "\n",
    "3) жанры с наименьшей прибыльностью - 'Simulation', 'Misc', 'Strategy', 'Puzzle', 'Adventure'"
   ]
  },
  {
   "cell_type": "markdown",
   "metadata": {},
   "source": [
    "**Таким образом, мы:**\n",
    "- определили актуальный период\n",
    "- определили потенциально прибыльные платформы\n",
    "- определили влияние оценки пользователей и оценки критиков на продажи\n",
    "- нашли наиболее прибыльные жанры"
   ]
  },
  {
   "cell_type": "markdown",
   "metadata": {},
   "source": [
    "### Составьте портрет пользователя каждого региона"
   ]
  },
  {
   "cell_type": "markdown",
   "metadata": {},
   "source": [
    "**1) Определим для пользователя каждого региона (NA, EU, JP) самые популярные платформы (топ-5). Опишем различия в долях продаж.**"
   ]
  },
  {
   "cell_type": "code",
   "execution_count": 53,
   "metadata": {},
   "outputs": [],
   "source": [
    "top_platforms_na = data_actual.pivot_table(index='platform', values='na_sales',\\\n",
    "                                 aggfunc='sum').sort_values(by='na_sales', ascending=False).head()\n",
    "\n",
    "top_platforms_na['part_na'] = top_platforms_na['na_sales'] / data_actual['na_sales'].sum() * 100\n",
    "top_platforms_na = top_platforms_na.drop(columns='na_sales')"
   ]
  },
  {
   "cell_type": "code",
   "execution_count": 54,
   "metadata": {},
   "outputs": [],
   "source": [
    "top_platforms_eu = data_actual.pivot_table(index='platform', values='eu_sales',\\\n",
    "                                 aggfunc='sum').sort_values(by='eu_sales', ascending=False).head()\n",
    "\n",
    "top_platforms_eu['part_eu'] = top_platforms_eu['eu_sales'] / data_actual['eu_sales'].sum() * 100\n",
    "top_platforms_eu = top_platforms_eu.drop(columns='eu_sales')"
   ]
  },
  {
   "cell_type": "code",
   "execution_count": 55,
   "metadata": {},
   "outputs": [],
   "source": [
    "top_platforms_jp = data_actual.pivot_table(index='platform', values='jp_sales',\\\n",
    "                                 aggfunc='sum').sort_values(by='jp_sales', ascending=False).head()\n",
    "\n",
    "top_platforms_jp['part_jp'] = top_platforms_jp['jp_sales'] / data_actual['jp_sales'].sum() * 100\n",
    "top_platforms_jp = top_platforms_jp.drop(columns='jp_sales')"
   ]
  },
  {
   "cell_type": "code",
   "execution_count": 56,
   "metadata": {},
   "outputs": [
    {
     "data": {
      "text/html": [
       "<style  type=\"text/css\" >\n",
       "#T_8c405_row0_col0,#T_8c405_row0_col1,#T_8c405_row4_col2{\n",
       "            background-color:  #b40426;\n",
       "            color:  #f1f1f1;\n",
       "        }#T_8c405_row0_col2{\n",
       "            background-color:  #5572df;\n",
       "            color:  #000000;\n",
       "        }#T_8c405_row1_col0{\n",
       "            background-color:  #f18d6f;\n",
       "            color:  #000000;\n",
       "        }#T_8c405_row1_col1{\n",
       "            background-color:  #7699f6;\n",
       "            color:  #000000;\n",
       "        }#T_8c405_row1_col2,#T_8c405_row2_col2,#T_8c405_row5_col0,#T_8c405_row5_col1,#T_8c405_row6_col0,#T_8c405_row6_col1{\n",
       "            background-color:  #000000;\n",
       "            color:  #f1f1f1;\n",
       "        }#T_8c405_row2_col0{\n",
       "            background-color:  #f3c7b1;\n",
       "            color:  #000000;\n",
       "        }#T_8c405_row2_col1{\n",
       "            background-color:  #5a78e4;\n",
       "            color:  #000000;\n",
       "        }#T_8c405_row3_col0{\n",
       "            background-color:  #b2ccfb;\n",
       "            color:  #000000;\n",
       "        }#T_8c405_row3_col1{\n",
       "            background-color:  #aac7fd;\n",
       "            color:  #000000;\n",
       "        }#T_8c405_row3_col2{\n",
       "            background-color:  #82a6fb;\n",
       "            color:  #000000;\n",
       "        }#T_8c405_row4_col0,#T_8c405_row4_col1,#T_8c405_row6_col2{\n",
       "            background-color:  #3b4cc0;\n",
       "            color:  #f1f1f1;\n",
       "        }#T_8c405_row5_col2{\n",
       "            background-color:  #6485ec;\n",
       "            color:  #000000;\n",
       "        }</style><table id=\"T_8c405_\" ><thead>    <tr>        <th class=\"blank level0\" ></th>        <th class=\"col_heading level0 col0\" >part_na</th>        <th class=\"col_heading level0 col1\" >part_eu</th>        <th class=\"col_heading level0 col2\" >part_jp</th>    </tr>    <tr>        <th class=\"index_name level0\" >platform</th>        <th class=\"blank\" ></th>        <th class=\"blank\" ></th>        <th class=\"blank\" ></th>    </tr></thead><tbody>\n",
       "                <tr>\n",
       "                        <th id=\"T_8c405_level0_row0\" class=\"row_heading level0 row0\" >PS4</th>\n",
       "                        <td id=\"T_8c405_row0_col0\" class=\"data row0 col0\" >24.842933</td>\n",
       "                        <td id=\"T_8c405_row0_col1\" class=\"data row0 col1\" >35.971241</td>\n",
       "                        <td id=\"T_8c405_row0_col2\" class=\"data row0 col2\" >11.336838</td>\n",
       "            </tr>\n",
       "            <tr>\n",
       "                        <th id=\"T_8c405_level0_row1\" class=\"row_heading level0 row1\" >XOne</th>\n",
       "                        <td id=\"T_8c405_row1_col0\" class=\"data row1 col0\" >21.274360</td>\n",
       "                        <td id=\"T_8c405_row1_col1\" class=\"data row1 col1\" >13.152997</td>\n",
       "                        <td id=\"T_8c405_row1_col2\" class=\"data row1 col2\" >nan</td>\n",
       "            </tr>\n",
       "            <tr>\n",
       "                        <th id=\"T_8c405_level0_row2\" class=\"row_heading level0 row2\" >X360</th>\n",
       "                        <td id=\"T_8c405_row2_col0\" class=\"data row2 col0\" >18.656188</td>\n",
       "                        <td id=\"T_8c405_row2_col1\" class=\"data row2 col1\" >10.840578</td>\n",
       "                        <td id=\"T_8c405_row2_col2\" class=\"data row2 col2\" >nan</td>\n",
       "            </tr>\n",
       "            <tr>\n",
       "                        <th id=\"T_8c405_level0_row3\" class=\"row_heading level0 row3\" >PS3</th>\n",
       "                        <td id=\"T_8c405_row3_col0\" class=\"data row3 col0\" >14.507322</td>\n",
       "                        <td id=\"T_8c405_row3_col1\" class=\"data row3 col1\" >17.288326</td>\n",
       "                        <td id=\"T_8c405_row3_col2\" class=\"data row3 col2\" >16.586163</td>\n",
       "            </tr>\n",
       "            <tr>\n",
       "                        <th id=\"T_8c405_level0_row4\" class=\"row_heading level0 row4\" >3DS</th>\n",
       "                        <td id=\"T_8c405_row4_col0\" class=\"data row4 col0\" >8.727239</td>\n",
       "                        <td id=\"T_8c405_row4_col1\" class=\"data row4 col1\" >7.893328</td>\n",
       "                        <td id=\"T_8c405_row4_col2\" class=\"data row4 col2\" >48.167353</td>\n",
       "            </tr>\n",
       "            <tr>\n",
       "                        <th id=\"T_8c405_level0_row5\" class=\"row_heading level0 row5\" >PSV</th>\n",
       "                        <td id=\"T_8c405_row5_col0\" class=\"data row5 col0\" >nan</td>\n",
       "                        <td id=\"T_8c405_row5_col1\" class=\"data row5 col1\" >nan</td>\n",
       "                        <td id=\"T_8c405_row5_col2\" class=\"data row5 col2\" >13.205001</td>\n",
       "            </tr>\n",
       "            <tr>\n",
       "                        <th id=\"T_8c405_level0_row6\" class=\"row_heading level0 row6\" >WiiU</th>\n",
       "                        <td id=\"T_8c405_row6_col0\" class=\"data row6 col0\" >nan</td>\n",
       "                        <td id=\"T_8c405_row6_col1\" class=\"data row6 col1\" >nan</td>\n",
       "                        <td id=\"T_8c405_row6_col2\" class=\"data row6 col2\" >7.728371</td>\n",
       "            </tr>\n",
       "    </tbody></table>"
      ],
      "text/plain": [
       "<pandas.io.formats.style.Styler at 0x7fa888de8460>"
      ]
     },
     "execution_count": 56,
     "metadata": {},
     "output_type": "execute_result"
    }
   ],
   "source": [
    "top_platforms_na.merge(top_platforms_eu, on='platform', how='outer').merge(top_platforms_jp, on='platform', how='outer')\\\n",
    ".style.background_gradient('coolwarm')"
   ]
  },
  {
   "cell_type": "markdown",
   "metadata": {},
   "source": [
    "Построим таблицу долей продаж платформ в разных регионах. Можно заметить, что в Северной Америке и Европе пользователи в предпочитают в основном похожие платформы. В Японии предпочитают совершенно другие платформы.\n",
    "\n",
    "1) **Северная Америка**: распределение долей продаж по платформам убывает постепенно, без сильных разрывов в значениях\\\n",
    "2) **Европа**: сильно отрывается от остальных платформа 'PS4', после неё на относительно одном уровне распределяются продажи других платформ\\\n",
    "3) **Япония**: очень сильно отрывается от остальных платформа '3DS', занимая почти половину всех продаж, после неё на относительно одном уровне распределяются продажи других платформ"
   ]
  },
  {
   "cell_type": "markdown",
   "metadata": {},
   "source": [
    "**2) Определим для пользователя каждого региона (NA, EU, JP) самые популярные жанры (топ-5) и поясним разницу.**"
   ]
  },
  {
   "cell_type": "code",
   "execution_count": 57,
   "metadata": {},
   "outputs": [],
   "source": [
    "top_genres_na = data_actual.pivot_table(index='genre', values='na_sales',\\\n",
    "                                 aggfunc='sum').sort_values(by='na_sales', ascending=False).head()\n",
    "\n",
    "top_genres_na['part_na'] = top_genres_na['na_sales'] / data_actual['na_sales'].sum() * 100\n",
    "top_genres_na = top_genres_na.drop(columns='na_sales')"
   ]
  },
  {
   "cell_type": "code",
   "execution_count": 58,
   "metadata": {},
   "outputs": [],
   "source": [
    "top_genres_eu = data_actual.pivot_table(index='genre', values='eu_sales',\\\n",
    "                                 aggfunc='sum').sort_values(by='eu_sales', ascending=False).head()\n",
    "\n",
    "top_genres_eu['part_eu'] = top_genres_eu['eu_sales'] / data_actual['eu_sales'].sum() * 100\n",
    "top_genres_eu = top_genres_eu.drop(columns='eu_sales')"
   ]
  },
  {
   "cell_type": "code",
   "execution_count": 59,
   "metadata": {},
   "outputs": [],
   "source": [
    "top_genres_jp = data_actual.pivot_table(index='genre', values='jp_sales',\\\n",
    "                                 aggfunc='sum').sort_values(by='jp_sales', ascending=False).head()\n",
    "\n",
    "top_genres_jp['part_jp'] = top_genres_jp['jp_sales'] / data_actual['jp_sales'].sum() * 100\n",
    "top_genres_jp = top_genres_jp.drop(columns='jp_sales')"
   ]
  },
  {
   "cell_type": "code",
   "execution_count": 60,
   "metadata": {},
   "outputs": [
    {
     "data": {
      "text/html": [
       "<style  type=\"text/css\" >\n",
       "#T_7729a_row0_col0,#T_7729a_row0_col1,#T_7729a_row3_col2{\n",
       "            background-color:  #b40426;\n",
       "            color:  #f1f1f1;\n",
       "        }#T_7729a_row0_col2{\n",
       "            background-color:  #f39475;\n",
       "            color:  #000000;\n",
       "        }#T_7729a_row1_col0{\n",
       "            background-color:  #e7745b;\n",
       "            color:  #000000;\n",
       "        }#T_7729a_row1_col1{\n",
       "            background-color:  #f7b093;\n",
       "            color:  #000000;\n",
       "        }#T_7729a_row1_col2,#T_7729a_row4_col0,#T_7729a_row5_col1{\n",
       "            background-color:  #3b4cc0;\n",
       "            color:  #f1f1f1;\n",
       "        }#T_7729a_row2_col0{\n",
       "            background-color:  #bbd1f8;\n",
       "            color:  #000000;\n",
       "        }#T_7729a_row2_col1{\n",
       "            background-color:  #c4d5f3;\n",
       "            color:  #000000;\n",
       "        }#T_7729a_row2_col2,#T_7729a_row4_col1,#T_7729a_row5_col0,#T_7729a_row5_col2,#T_7729a_row6_col0,#T_7729a_row6_col1{\n",
       "            background-color:  #000000;\n",
       "            color:  #f1f1f1;\n",
       "        }#T_7729a_row3_col0{\n",
       "            background-color:  #799cf8;\n",
       "            color:  #000000;\n",
       "        }#T_7729a_row3_col1{\n",
       "            background-color:  #7093f3;\n",
       "            color:  #000000;\n",
       "        }#T_7729a_row4_col2{\n",
       "            background-color:  #4b64d5;\n",
       "            color:  #f1f1f1;\n",
       "        }#T_7729a_row6_col2{\n",
       "            background-color:  #4055c8;\n",
       "            color:  #f1f1f1;\n",
       "        }</style><table id=\"T_7729a_\" ><thead>    <tr>        <th class=\"blank level0\" ></th>        <th class=\"col_heading level0 col0\" >part_na</th>        <th class=\"col_heading level0 col1\" >part_eu</th>        <th class=\"col_heading level0 col2\" >part_jp</th>    </tr>    <tr>        <th class=\"index_name level0\" >genre</th>        <th class=\"blank\" ></th>        <th class=\"blank\" ></th>        <th class=\"blank\" ></th>    </tr></thead><tbody>\n",
       "                <tr>\n",
       "                        <th id=\"T_7729a_level0_row0\" class=\"row_heading level0 row0\" >Action</th>\n",
       "                        <td id=\"T_7729a_row0_col0\" class=\"data row0 col0\" >28.797606</td>\n",
       "                        <td id=\"T_7729a_row0_col1\" class=\"data row0 col1\" >30.117533</td>\n",
       "                        <td id=\"T_7729a_row0_col2\" class=\"data row0 col2\" >28.761188</td>\n",
       "            </tr>\n",
       "            <tr>\n",
       "                        <th id=\"T_7729a_level0_row1\" class=\"row_heading level0 row1\" >Shooter</th>\n",
       "                        <td id=\"T_7729a_row1_col0\" class=\"data row1 col0\" >25.071394</td>\n",
       "                        <td id=\"T_7729a_row1_col1\" class=\"data row1 col1\" >22.400122</td>\n",
       "                        <td id=\"T_7729a_row1_col2\" class=\"data row1 col2\" >4.695269</td>\n",
       "            </tr>\n",
       "            <tr>\n",
       "                        <th id=\"T_7729a_level0_row2\" class=\"row_heading level0 row2\" >Sports</th>\n",
       "                        <td id=\"T_7729a_row2_col0\" class=\"data row2 col0\" >14.911700</td>\n",
       "                        <td id=\"T_7729a_row2_col1\" class=\"data row2 col1\" >15.429722</td>\n",
       "                        <td id=\"T_7729a_row2_col2\" class=\"data row2 col2\" >nan</td>\n",
       "            </tr>\n",
       "            <tr>\n",
       "                        <th id=\"T_7729a_level0_row3\" class=\"row_heading level0 row3\" >Role-Playing</th>\n",
       "                        <td id=\"T_7729a_row3_col0\" class=\"data row3 col0\" >10.600626</td>\n",
       "                        <td id=\"T_7729a_row3_col1\" class=\"data row3 col1\" >9.425592</td>\n",
       "                        <td id=\"T_7729a_row3_col2\" class=\"data row3 col2\" >36.255150</td>\n",
       "            </tr>\n",
       "            <tr>\n",
       "                        <th id=\"T_7729a_level0_row4\" class=\"row_heading level0 row4\" >Misc</th>\n",
       "                        <td id=\"T_7729a_row4_col0\" class=\"data row4 col0\" >6.280414</td>\n",
       "                        <td id=\"T_7729a_row4_col1\" class=\"data row4 col1\" >nan</td>\n",
       "                        <td id=\"T_7729a_row4_col2\" class=\"data row4 col2\" >6.535019</td>\n",
       "            </tr>\n",
       "            <tr>\n",
       "                        <th id=\"T_7729a_level0_row5\" class=\"row_heading level0 row5\" >Racing</th>\n",
       "                        <td id=\"T_7729a_row5_col0\" class=\"data row5 col0\" >nan</td>\n",
       "                        <td id=\"T_7729a_row5_col1\" class=\"data row5 col1\" >5.147490</td>\n",
       "                        <td id=\"T_7729a_row5_col2\" class=\"data row5 col2\" >nan</td>\n",
       "            </tr>\n",
       "            <tr>\n",
       "                        <th id=\"T_7729a_level0_row6\" class=\"row_heading level0 row6\" >Fighting</th>\n",
       "                        <td id=\"T_7729a_row6_col0\" class=\"data row6 col0\" >nan</td>\n",
       "                        <td id=\"T_7729a_row6_col1\" class=\"data row6 col1\" >nan</td>\n",
       "                        <td id=\"T_7729a_row6_col2\" class=\"data row6 col2\" >5.434011</td>\n",
       "            </tr>\n",
       "    </tbody></table>"
      ],
      "text/plain": [
       "<pandas.io.formats.style.Styler at 0x7fa888d938e0>"
      ]
     },
     "execution_count": 60,
     "metadata": {},
     "output_type": "execute_result"
    }
   ],
   "source": [
    "top_genres_na.merge(top_genres_eu, on='genre', how='outer').merge(top_genres_jp, on='genre', how='outer')\\\n",
    ".style.background_gradient('coolwarm')"
   ]
  },
  {
   "cell_type": "markdown",
   "metadata": {},
   "source": [
    "Построим таблицу долей продаж игр разных жанров. Можно заметить:\n",
    "- Самый популярный жанр в Северной Америке и Европе - 'Action'\n",
    "- Самый популярный жанр в Японии - 'Role-Playing'\n",
    "- Популярные жанры в Северной Америке и Европе - 'Sports' и 'Shooter'\n",
    "- Жанры, которые популярны во всех регионах - 'Action', 'Sports' и 'Misc'\n",
    "\n",
    "**Выводы:**\n",
    "В Японии с большим отрывом занимает большую долю продаж игры жанр 'Role-Playing'. В Северной Америке и Европе большую долю продаж занимает жанр 'Action', но не с таким большим отрывом, как 'Role-Playing' в Японии.\\\n",
    "В Северной Америке и Европе можно выделить скорее группу жанров, - 'Action', 'Sports', 'Shooter' - занимающих бОльшую часть продаж. Можно предположить, что в группе жанров, лидирующих в Северной Америке и Европе, есть общая характеристика, удовлетворяющая вкусы большинства пользователей. В Японии очевидно лидирует только один жанр, не имеющий аналогов и, скорее всего, обладающий характеристикой, отсутствующей в других жанрах. Возможно, эта характеристика - наличие сюжета."
   ]
  },
  {
   "cell_type": "markdown",
   "metadata": {},
   "source": [
    "**3) Определим, влияет ли рейтинг ESRB на продажи в отдельном регионе.**"
   ]
  },
  {
   "cell_type": "code",
   "execution_count": 61,
   "metadata": {},
   "outputs": [],
   "source": [
    "rating_na = data_actual.pivot_table(index='rating', values='na_sales',\\\n",
    "                                 aggfunc='sum').sort_values(by='na_sales', ascending=False)\n",
    "rating_na['part_na'] = rating_na['na_sales'] / data_actual['na_sales'].sum() * 100\n",
    "rating_na = rating_na.drop(columns='na_sales')"
   ]
  },
  {
   "cell_type": "code",
   "execution_count": 62,
   "metadata": {},
   "outputs": [],
   "source": [
    "rating_eu = data_actual.pivot_table(index='rating', values='eu_sales',\\\n",
    "                                 aggfunc='sum').sort_values(by='eu_sales', ascending=False)\n",
    "rating_eu['part_eu'] = rating_eu['eu_sales'] / data_actual['eu_sales'].sum() * 100\n",
    "rating_eu = rating_eu.drop(columns='eu_sales')"
   ]
  },
  {
   "cell_type": "code",
   "execution_count": 63,
   "metadata": {},
   "outputs": [],
   "source": [
    "rating_jp = data_actual.pivot_table(index='rating', values='jp_sales',\\\n",
    "                                 aggfunc='sum').sort_values(by='jp_sales', ascending=False)\n",
    "rating_jp['part_jp'] = rating_jp['jp_sales'] / data_actual['jp_sales'].sum() * 100\n",
    "rating_jp = rating_jp.drop(columns='jp_sales')"
   ]
  },
  {
   "cell_type": "code",
   "execution_count": 64,
   "metadata": {},
   "outputs": [
    {
     "data": {
      "text/html": [
       "<style  type=\"text/css\" >\n",
       "#T_4e7f2_row0_col0,#T_4e7f2_row0_col1,#T_4e7f2_row1_col2{\n",
       "            background-color:  #b40426;\n",
       "            color:  #f1f1f1;\n",
       "        }#T_4e7f2_row0_col2{\n",
       "            background-color:  #5a78e4;\n",
       "            color:  #000000;\n",
       "        }#T_4e7f2_row1_col0{\n",
       "            background-color:  #adc9fd;\n",
       "            color:  #000000;\n",
       "        }#T_4e7f2_row1_col1{\n",
       "            background-color:  #b2ccfb;\n",
       "            color:  #000000;\n",
       "        }#T_4e7f2_row2_col0{\n",
       "            background-color:  #8db0fe;\n",
       "            color:  #000000;\n",
       "        }#T_4e7f2_row2_col1{\n",
       "            background-color:  #c0d4f5;\n",
       "            color:  #000000;\n",
       "        }#T_4e7f2_row2_col2{\n",
       "            background-color:  #5e7de7;\n",
       "            color:  #000000;\n",
       "        }#T_4e7f2_row3_col0{\n",
       "            background-color:  #455cce;\n",
       "            color:  #f1f1f1;\n",
       "        }#T_4e7f2_row3_col1{\n",
       "            background-color:  #3c4ec2;\n",
       "            color:  #f1f1f1;\n",
       "        }#T_4e7f2_row3_col2,#T_4e7f2_row4_col0,#T_4e7f2_row4_col1{\n",
       "            background-color:  #3b4cc0;\n",
       "            color:  #f1f1f1;\n",
       "        }#T_4e7f2_row4_col2{\n",
       "            background-color:  #7699f6;\n",
       "            color:  #000000;\n",
       "        }</style><table id=\"T_4e7f2_\" ><thead>    <tr>        <th class=\"blank level0\" ></th>        <th class=\"col_heading level0 col0\" >part_na</th>        <th class=\"col_heading level0 col1\" >part_eu</th>        <th class=\"col_heading level0 col2\" >part_jp</th>    </tr>    <tr>        <th class=\"index_name level0\" >rating</th>        <th class=\"blank\" ></th>        <th class=\"blank\" ></th>        <th class=\"blank\" ></th>    </tr></thead><tbody>\n",
       "                <tr>\n",
       "                        <th id=\"T_4e7f2_level0_row0\" class=\"row_heading level0 row0\" >M</th>\n",
       "                        <td id=\"T_4e7f2_row0_col0\" class=\"data row0 col0\" >37.744169</td>\n",
       "                        <td id=\"T_4e7f2_row0_col1\" class=\"data row0 col1\" >37.049690</td>\n",
       "                        <td id=\"T_4e7f2_row0_col2\" class=\"data row0 col2\" >10.022731</td>\n",
       "            </tr>\n",
       "            <tr>\n",
       "                        <th id=\"T_4e7f2_level0_row1\" class=\"row_heading level0 row1\" >unknown</th>\n",
       "                        <td id=\"T_4e7f2_row1_col0\" class=\"data row1 col0\" >20.429051</td>\n",
       "                        <td id=\"T_4e7f2_row1_col1\" class=\"data row1 col1\" >20.118298</td>\n",
       "                        <td id=\"T_4e7f2_row1_col2\" class=\"data row1 col2\" >60.413411</td>\n",
       "            </tr>\n",
       "            <tr>\n",
       "                        <th id=\"T_4e7f2_level0_row2\" class=\"row_heading level0 row2\" >E</th>\n",
       "                        <td id=\"T_4e7f2_row2_col0\" class=\"data row2 col0\" >18.059903</td>\n",
       "                        <td id=\"T_4e7f2_row2_col1\" class=\"data row2 col1\" >21.252836</td>\n",
       "                        <td id=\"T_4e7f2_row2_col2\" class=\"data row2 col2\" >10.754369</td>\n",
       "            </tr>\n",
       "            <tr>\n",
       "                        <th id=\"T_4e7f2_level0_row3\" class=\"row_heading level0 row3\" >E10+</th>\n",
       "                        <td id=\"T_4e7f2_row3_col0\" class=\"data row3 col0\" >12.391766</td>\n",
       "                        <td id=\"T_4e7f2_row3_col1\" class=\"data row3 col1\" >10.883920</td>\n",
       "                        <td id=\"T_4e7f2_row3_col2\" class=\"data row3 col2\" >4.183833</td>\n",
       "            </tr>\n",
       "            <tr>\n",
       "                        <th id=\"T_4e7f2_level0_row4\" class=\"row_heading level0 row4\" >T</th>\n",
       "                        <td id=\"T_4e7f2_row4_col0\" class=\"data row4 col0\" >11.375111</td>\n",
       "                        <td id=\"T_4e7f2_row4_col1\" class=\"data row4 col1\" >10.695255</td>\n",
       "                        <td id=\"T_4e7f2_row4_col2\" class=\"data row4 col2\" >14.625657</td>\n",
       "            </tr>\n",
       "    </tbody></table>"
      ],
      "text/plain": [
       "<pandas.io.formats.style.Styler at 0x7fa888d42580>"
      ]
     },
     "execution_count": 64,
     "metadata": {},
     "output_type": "execute_result"
    }
   ],
   "source": [
    "rating_na.merge(rating_eu, on='rating', how='outer').merge(rating_jp, on='rating', how='outer')\\\n",
    ".style.background_gradient('coolwarm')"
   ]
  },
  {
   "cell_type": "markdown",
   "metadata": {},
   "source": [
    "Построим таблицу долей продаж игр по рейтингам. Распределение продаж игр по рейтингам примерно одинаково у Северной Америки и Европы. Самую большую долю продаж в Северной Америке и Европе занимает категория М, в Японии самую большую долю продаж занимают игры без рейтинга.\n",
    "\n",
    "Как мы выяснили, в Северной Америке и Европе больше всего предпочитают жанр Action, а в Японии - Role-Playing. Это может объяснять разницу в продажах игр в разных возрастных категориях, т.к. жанр Action предназначен в основном для взрослой аудитории, а в играх Role-Playing такой связи нет."
   ]
  },
  {
   "cell_type": "markdown",
   "metadata": {},
   "source": [
    "*Построим таблицу долей продаж игр по рейтингам. Распределение продаж игр по рейтингам примерно одинаково у всех регионов с относительно небольшими отличиями, кроме одной категории - рейтинга 'M'. В Северной Америке и Европе доля продаж игр с этим рейтингом примерно в 4-5 раз больше, чем в Японии. Количество продаж с рейтингом 'M', находящимся на третьем месте по величине, намного меньше, чем количество продаж с рейтингом 'T', находящимся на втором месте по величине, при этом в данных по продажам в Северной Америке и Европе такого разрыва нет.\\\n",
    "Самую большую долю занимают продажи игр с рейтингом 'E', далее по убывающей располагаются продажи игр с рейтингами 'T', 'M' и так далее.*\n",
    "\n",
    "**Вывод:**\n",
    "*Рейтинг ESRB влияет на продажи во всех регионах. В Японии сильнее, чем в Северной Америке и Европе, на продажи влияет рейтинг 'M'.*"
   ]
  },
  {
   "cell_type": "markdown",
   "metadata": {},
   "source": [
    "**Таким образом, мы:**\n",
    "- определили наиболее предпочтительные платформы для пользователя каждого региона\n",
    "- определили наиболее предпочтительные жанры для пользователя каждого региона\n",
    "- определили влияние возрастной категории игр на продажи"
   ]
  },
  {
   "cell_type": "markdown",
   "metadata": {},
   "source": [
    "### Проверьте гипотезы"
   ]
  },
  {
   "cell_type": "markdown",
   "metadata": {},
   "source": [
    "**1) Проверим гипотезу: средние пользовательские рейтинги платформ Xbox One и PC одинаковые**\n",
    "\n",
    "Сформулируем нулевую (H_0) и альтернативую (H_a) гипотезы:\n",
    "\n",
    "H_0: рейтинг 'Xbox One' = рейтинг 'PC'\\\n",
    "H_a: рейтинг 'Xbox One' != рейтинг 'PC'\n",
    "\n",
    "Для проверки гипотезы используем t-тест для двух независимых выборок и проверим равенство средних."
   ]
  },
  {
   "cell_type": "code",
   "execution_count": 65,
   "metadata": {},
   "outputs": [
    {
     "name": "stdout",
     "output_type": "stream",
     "text": [
      "0.14759594013430463\n",
      "Не получилось отвергнуть нулевую гипотезу\n"
     ]
    }
   ],
   "source": [
    "xone_platform = data_actual.query('platform == \"XOne\"')['user_score'].dropna()\n",
    "pc_platform = data_actual.query('platform == \"PC\"')['user_score'].dropna()\n",
    "\n",
    "results = st.ttest_ind(xone_platform, pc_platform, equal_var=False)\n",
    "\n",
    "alpha = 0.01\n",
    "\n",
    "print(results.pvalue)\n",
    "\n",
    "if results.pvalue < alpha:\n",
    "    print('Отвергаем нулевую гипотезу')\n",
    "else: print('Не получилось отвергнуть нулевую гипотезу')"
   ]
  },
  {
   "cell_type": "markdown",
   "metadata": {},
   "source": [
    "Т-тест показал, что отвергнуть нулевую гипотезу не получилось. Это значит, что мы можем допустить, что средние пользовательские рейтинги платформ Xbox One и PC одинаковы, т.е. гипотеза верна."
   ]
  },
  {
   "cell_type": "markdown",
   "metadata": {},
   "source": [
    "**2) Проверим гипотезу: средние пользовательские рейтинги жанров Action и Sports разные.**"
   ]
  },
  {
   "cell_type": "markdown",
   "metadata": {},
   "source": [
    "Сформулируем нулевую (H_0) и альтернативую (H_a) гипотезы:\n",
    "\n",
    "H_0: рейтинг 'Action' = рейтинг 'Sports'\\\n",
    "H_a: рейтинг 'Action' != рейтинг 'Sports'"
   ]
  },
  {
   "cell_type": "code",
   "execution_count": 66,
   "metadata": {
    "scrolled": true
   },
   "outputs": [
    {
     "name": "stdout",
     "output_type": "stream",
     "text": [
      "1.4460039700704315e-20\n",
      "Отвергаем нулевую гипотезу\n"
     ]
    }
   ],
   "source": [
    "xone_genre = data_actual.query('genre == \"Action\"')['user_score'].dropna()\n",
    "pc_genre = data_actual.query('genre == \"Sports\"')['user_score'].dropna()\n",
    "\n",
    "results = st.ttest_ind(xone_genre, pc_genre, equal_var=False)\n",
    "\n",
    "alpha = 0.01\n",
    "\n",
    "print(results.pvalue)\n",
    "\n",
    "if results.pvalue < alpha:\n",
    "    print('Отвергаем нулевую гипотезу')\n",
    "else: print('Не получилось отвергнуть нулевую гипотезу')"
   ]
  },
  {
   "cell_type": "markdown",
   "metadata": {},
   "source": [
    "Т-тест показал, что отвергнуть нулевую гипотезу получилось. Это значит, что мы можем допустить, что средние пользовательские рейтинги жанров Action и Sports разные, т.е. гипотеза верна."
   ]
  },
  {
   "cell_type": "markdown",
   "metadata": {},
   "source": [
    "**Таким образом, мы:**\n",
    "- определили, что можем допустить то, что средние пользовательские рейтинги платформ Xbox One и PC одинаковы\n",
    "- определили, что можем допустить то, что средние пользовательские рейтинги жанров Action и Sports разные"
   ]
  },
  {
   "cell_type": "markdown",
   "metadata": {},
   "source": [
    "### Напишите общий вывод"
   ]
  },
  {
   "cell_type": "markdown",
   "metadata": {},
   "source": [
    "**Выводы:**\n",
    "- Нужно обращать внимание на отзывы критиков, т.к. они влияют на продажи, отзывы пользователей не так важны\n",
    "- Наиболее предпочтительна для продаж в в Северной Америке и Европе платформа PS4, в Японии - 3DS\n",
    "- Намые популярные жанры в Северной Америке и Европе - Action, в Японии - Role-Playing\n",
    "\n",
    "**Предположения:**\n",
    "- В группе жанров, лидирующих в Северной Америке и Европе, есть общая характеристика, удовлетворяющая вкусы большинства пользователей\n",
    "- В Японии очевидно лидирует только один жанр, не имеющий аналогов и, скорее всего, обладающий характеристикой, отсутствующей в других жанрах. Возможно, эта характеристика - наличие сюжета."
   ]
  }
 ],
 "metadata": {
  "ExecuteTimeLog": [
   {
    "duration": 526,
    "start_time": "2022-11-06T15:08:34.704Z"
   },
   {
    "duration": 60,
    "start_time": "2022-11-06T15:08:41.461Z"
   },
   {
    "duration": 24,
    "start_time": "2022-11-06T15:08:52.351Z"
   },
   {
    "duration": 15,
    "start_time": "2022-11-06T15:09:03.949Z"
   },
   {
    "duration": 72,
    "start_time": "2022-11-06T15:32:18.097Z"
   },
   {
    "duration": 4,
    "start_time": "2022-11-06T15:32:27.001Z"
   },
   {
    "duration": 8,
    "start_time": "2022-11-06T15:33:16.617Z"
   },
   {
    "duration": 48,
    "start_time": "2022-11-06T15:37:29.801Z"
   },
   {
    "duration": 12,
    "start_time": "2022-11-06T15:37:35.966Z"
   },
   {
    "duration": 15,
    "start_time": "2022-11-06T15:37:44.699Z"
   },
   {
    "duration": 15,
    "start_time": "2022-11-06T15:41:04.001Z"
   },
   {
    "duration": 3,
    "start_time": "2022-11-06T16:55:25.385Z"
   },
   {
    "duration": 548,
    "start_time": "2022-11-06T17:01:04.804Z"
   },
   {
    "duration": 841,
    "start_time": "2022-11-06T17:16:41.969Z"
   },
   {
    "duration": 816,
    "start_time": "2022-11-06T17:16:49.498Z"
   },
   {
    "duration": 712,
    "start_time": "2022-11-06T17:17:15.483Z"
   },
   {
    "duration": 583,
    "start_time": "2022-11-06T17:17:28.159Z"
   },
   {
    "duration": 3,
    "start_time": "2022-11-06T17:26:26.826Z"
   },
   {
    "duration": 16,
    "start_time": "2022-11-06T17:26:32.909Z"
   },
   {
    "duration": 20,
    "start_time": "2022-11-06T17:28:12.400Z"
   },
   {
    "duration": 16,
    "start_time": "2022-11-06T17:28:32.923Z"
   },
   {
    "duration": 12,
    "start_time": "2022-11-06T17:28:46.582Z"
   },
   {
    "duration": 6,
    "start_time": "2022-11-06T17:31:53.569Z"
   },
   {
    "duration": 4,
    "start_time": "2022-11-06T17:37:21.011Z"
   },
   {
    "duration": 16,
    "start_time": "2022-11-06T18:13:37.746Z"
   },
   {
    "duration": 8,
    "start_time": "2022-11-06T18:13:58.084Z"
   },
   {
    "duration": 9,
    "start_time": "2022-11-06T18:27:30.543Z"
   },
   {
    "duration": 14,
    "start_time": "2022-11-06T18:27:46.245Z"
   },
   {
    "duration": 6,
    "start_time": "2022-11-06T18:31:00.012Z"
   },
   {
    "duration": 105,
    "start_time": "2022-11-06T18:34:20.655Z"
   },
   {
    "duration": 15,
    "start_time": "2022-11-06T18:34:29.616Z"
   },
   {
    "duration": 464,
    "start_time": "2022-11-06T18:34:45.184Z"
   },
   {
    "duration": 22,
    "start_time": "2022-11-06T18:34:45.650Z"
   },
   {
    "duration": 21,
    "start_time": "2022-11-06T18:34:45.674Z"
   },
   {
    "duration": 302,
    "start_time": "2022-11-06T18:34:45.698Z"
   },
   {
    "duration": 15,
    "start_time": "2022-11-06T18:34:46.002Z"
   },
   {
    "duration": 9,
    "start_time": "2022-11-06T18:34:46.018Z"
   },
   {
    "duration": 9,
    "start_time": "2022-11-06T18:34:46.029Z"
   },
   {
    "duration": 18,
    "start_time": "2022-11-06T18:34:46.040Z"
   },
   {
    "duration": 15,
    "start_time": "2022-11-06T18:34:46.060Z"
   },
   {
    "duration": 25,
    "start_time": "2022-11-06T18:34:46.078Z"
   },
   {
    "duration": 4,
    "start_time": "2022-11-06T18:54:21.944Z"
   },
   {
    "duration": 16,
    "start_time": "2022-11-06T18:54:31.935Z"
   },
   {
    "duration": 3,
    "start_time": "2022-11-06T18:54:59.766Z"
   },
   {
    "duration": 4,
    "start_time": "2022-11-06T18:55:27.985Z"
   },
   {
    "duration": 150,
    "start_time": "2022-11-06T19:03:27.783Z"
   },
   {
    "duration": 187,
    "start_time": "2022-11-06T19:03:43.919Z"
   },
   {
    "duration": 211,
    "start_time": "2022-11-06T19:20:19.698Z"
   },
   {
    "duration": 283,
    "start_time": "2022-11-06T19:20:30.552Z"
   },
   {
    "duration": 185,
    "start_time": "2022-11-06T19:20:40.044Z"
   },
   {
    "duration": 193,
    "start_time": "2022-11-06T19:23:26.208Z"
   },
   {
    "duration": 594,
    "start_time": "2022-11-06T19:23:41.512Z"
   },
   {
    "duration": 25,
    "start_time": "2022-11-06T19:23:42.108Z"
   },
   {
    "duration": 14,
    "start_time": "2022-11-06T19:23:42.134Z"
   },
   {
    "duration": 303,
    "start_time": "2022-11-06T19:23:42.151Z"
   },
   {
    "duration": 16,
    "start_time": "2022-11-06T19:23:42.455Z"
   },
   {
    "duration": 6,
    "start_time": "2022-11-06T19:23:42.473Z"
   },
   {
    "duration": 10,
    "start_time": "2022-11-06T19:23:42.480Z"
   },
   {
    "duration": 12,
    "start_time": "2022-11-06T19:23:42.492Z"
   },
   {
    "duration": 13,
    "start_time": "2022-11-06T19:23:42.506Z"
   },
   {
    "duration": 6,
    "start_time": "2022-11-06T19:23:42.522Z"
   },
   {
    "duration": 6,
    "start_time": "2022-11-06T19:23:42.530Z"
   },
   {
    "duration": 18,
    "start_time": "2022-11-06T19:23:42.538Z"
   },
   {
    "duration": 222,
    "start_time": "2022-11-06T19:23:42.558Z"
   },
   {
    "duration": 1171,
    "start_time": "2022-11-06T19:30:02.249Z"
   },
   {
    "duration": 160,
    "start_time": "2022-11-06T19:30:26.076Z"
   },
   {
    "duration": 188,
    "start_time": "2022-11-06T19:30:31.832Z"
   },
   {
    "duration": 6,
    "start_time": "2022-11-06T19:31:03.581Z"
   },
   {
    "duration": 6,
    "start_time": "2022-11-06T19:32:44.065Z"
   },
   {
    "duration": 111,
    "start_time": "2022-11-06T19:37:28.535Z"
   },
   {
    "duration": 152,
    "start_time": "2022-11-06T19:37:51.949Z"
   },
   {
    "duration": 22,
    "start_time": "2022-11-06T19:39:30.811Z"
   },
   {
    "duration": 6,
    "start_time": "2022-11-06T20:41:37.611Z"
   },
   {
    "duration": 7,
    "start_time": "2022-11-06T20:42:07.037Z"
   },
   {
    "duration": 6,
    "start_time": "2022-11-06T20:42:50.095Z"
   },
   {
    "duration": 136,
    "start_time": "2022-11-06T20:43:27.337Z"
   },
   {
    "duration": 14,
    "start_time": "2022-11-06T20:46:58.793Z"
   },
   {
    "duration": 88,
    "start_time": "2022-11-06T20:54:45.558Z"
   },
   {
    "duration": 14,
    "start_time": "2022-11-06T20:55:19.477Z"
   },
   {
    "duration": 10,
    "start_time": "2022-11-06T20:58:49.164Z"
   },
   {
    "duration": 23,
    "start_time": "2022-11-06T20:59:09.894Z"
   },
   {
    "duration": 10,
    "start_time": "2022-11-06T21:01:06.674Z"
   },
   {
    "duration": 10,
    "start_time": "2022-11-06T21:01:14.982Z"
   },
   {
    "duration": 8,
    "start_time": "2022-11-06T21:01:34.193Z"
   },
   {
    "duration": 21,
    "start_time": "2022-11-06T21:01:51.153Z"
   },
   {
    "duration": 22,
    "start_time": "2022-11-06T21:05:43.443Z"
   },
   {
    "duration": 11,
    "start_time": "2022-11-06T21:05:57.285Z"
   },
   {
    "duration": 19,
    "start_time": "2022-11-06T21:08:12.959Z"
   },
   {
    "duration": 15,
    "start_time": "2022-11-06T21:08:26.621Z"
   },
   {
    "duration": 19,
    "start_time": "2022-11-06T21:08:38.376Z"
   },
   {
    "duration": 16,
    "start_time": "2022-11-06T21:10:11.999Z"
   },
   {
    "duration": 14,
    "start_time": "2022-11-06T21:10:38.987Z"
   },
   {
    "duration": 1012,
    "start_time": "2022-11-06T21:17:26.010Z"
   },
   {
    "duration": 942,
    "start_time": "2022-11-06T21:17:29.387Z"
   },
   {
    "duration": 6,
    "start_time": "2022-11-06T21:19:01.548Z"
   },
   {
    "duration": 765,
    "start_time": "2022-11-06T21:20:00.167Z"
   },
   {
    "duration": 17,
    "start_time": "2022-11-06T21:20:20.811Z"
   },
   {
    "duration": 11,
    "start_time": "2022-11-06T21:20:47.616Z"
   },
   {
    "duration": 12,
    "start_time": "2022-11-06T21:20:50.801Z"
   },
   {
    "duration": 16,
    "start_time": "2022-11-06T21:21:15.372Z"
   },
   {
    "duration": 18,
    "start_time": "2022-11-06T21:21:31.603Z"
   },
   {
    "duration": 325,
    "start_time": "2022-11-06T21:21:54.473Z"
   },
   {
    "duration": 47,
    "start_time": "2022-11-07T08:52:39.519Z"
   },
   {
    "duration": 520,
    "start_time": "2022-11-07T08:52:48.135Z"
   },
   {
    "duration": 26,
    "start_time": "2022-11-07T08:52:48.657Z"
   },
   {
    "duration": 20,
    "start_time": "2022-11-07T08:52:48.685Z"
   },
   {
    "duration": 571,
    "start_time": "2022-11-07T08:52:48.708Z"
   },
   {
    "duration": 17,
    "start_time": "2022-11-07T08:52:49.281Z"
   },
   {
    "duration": 6,
    "start_time": "2022-11-07T08:52:49.300Z"
   },
   {
    "duration": 21,
    "start_time": "2022-11-07T08:52:49.308Z"
   },
   {
    "duration": 16,
    "start_time": "2022-11-07T08:52:49.331Z"
   },
   {
    "duration": 6,
    "start_time": "2022-11-07T08:52:49.349Z"
   },
   {
    "duration": 6,
    "start_time": "2022-11-07T08:52:49.358Z"
   },
   {
    "duration": 5,
    "start_time": "2022-11-07T08:52:49.366Z"
   },
   {
    "duration": 7,
    "start_time": "2022-11-07T08:52:49.373Z"
   },
   {
    "duration": 195,
    "start_time": "2022-11-07T08:52:49.382Z"
   },
   {
    "duration": 131,
    "start_time": "2022-11-07T08:52:49.579Z"
   },
   {
    "duration": 25,
    "start_time": "2022-11-07T08:52:49.712Z"
   },
   {
    "duration": 6,
    "start_time": "2022-11-07T08:52:49.739Z"
   },
   {
    "duration": 53,
    "start_time": "2022-11-07T08:52:49.747Z"
   },
   {
    "duration": 5,
    "start_time": "2022-11-07T08:52:49.821Z"
   },
   {
    "duration": 18,
    "start_time": "2022-11-07T08:52:49.828Z"
   },
   {
    "duration": 210,
    "start_time": "2022-11-07T08:52:49.848Z"
   },
   {
    "duration": 174,
    "start_time": "2022-11-07T08:53:08.384Z"
   },
   {
    "duration": 154,
    "start_time": "2022-11-07T08:53:30.455Z"
   },
   {
    "duration": 151,
    "start_time": "2022-11-07T08:53:42.923Z"
   },
   {
    "duration": 201,
    "start_time": "2022-11-07T08:53:49.536Z"
   },
   {
    "duration": 157,
    "start_time": "2022-11-07T08:53:52.534Z"
   },
   {
    "duration": 175,
    "start_time": "2022-11-07T08:53:55.268Z"
   },
   {
    "duration": 135,
    "start_time": "2022-11-07T08:54:46.589Z"
   },
   {
    "duration": 161,
    "start_time": "2022-11-07T08:54:47.353Z"
   },
   {
    "duration": 139,
    "start_time": "2022-11-07T08:54:48.016Z"
   },
   {
    "duration": 126,
    "start_time": "2022-11-07T08:54:48.691Z"
   },
   {
    "duration": 212,
    "start_time": "2022-11-07T08:54:49.348Z"
   },
   {
    "duration": 133,
    "start_time": "2022-11-07T08:54:50.851Z"
   },
   {
    "duration": 2598,
    "start_time": "2022-11-07T09:59:59.937Z"
   },
   {
    "duration": 7666,
    "start_time": "2022-11-07T10:00:14.040Z"
   },
   {
    "duration": 46,
    "start_time": "2022-11-08T06:13:42.215Z"
   },
   {
    "duration": 5,
    "start_time": "2022-11-08T06:14:00.186Z"
   },
   {
    "duration": 5,
    "start_time": "2022-11-08T06:35:08.386Z"
   },
   {
    "duration": 566,
    "start_time": "2022-11-08T06:35:14.993Z"
   },
   {
    "duration": 23,
    "start_time": "2022-11-08T06:35:15.561Z"
   },
   {
    "duration": 18,
    "start_time": "2022-11-08T06:35:15.586Z"
   },
   {
    "duration": 451,
    "start_time": "2022-11-08T06:35:15.606Z"
   },
   {
    "duration": 14,
    "start_time": "2022-11-08T06:35:16.059Z"
   },
   {
    "duration": 13,
    "start_time": "2022-11-08T06:35:16.075Z"
   },
   {
    "duration": 42,
    "start_time": "2022-11-08T06:35:16.090Z"
   },
   {
    "duration": 18,
    "start_time": "2022-11-08T06:35:16.134Z"
   },
   {
    "duration": 35,
    "start_time": "2022-11-08T06:35:16.154Z"
   },
   {
    "duration": 28,
    "start_time": "2022-11-08T06:35:16.193Z"
   },
   {
    "duration": 17,
    "start_time": "2022-11-08T06:35:16.223Z"
   },
   {
    "duration": 23,
    "start_time": "2022-11-08T06:35:16.242Z"
   },
   {
    "duration": 12,
    "start_time": "2022-11-08T06:35:16.267Z"
   },
   {
    "duration": 225,
    "start_time": "2022-11-08T06:35:16.280Z"
   },
   {
    "duration": 137,
    "start_time": "2022-11-08T06:35:16.508Z"
   },
   {
    "duration": 18,
    "start_time": "2022-11-08T06:35:16.647Z"
   },
   {
    "duration": 6,
    "start_time": "2022-11-08T06:35:16.666Z"
   },
   {
    "duration": 19,
    "start_time": "2022-11-08T06:35:16.674Z"
   },
   {
    "duration": 30,
    "start_time": "2022-11-08T06:35:16.695Z"
   },
   {
    "duration": 38,
    "start_time": "2022-11-08T06:35:16.726Z"
   },
   {
    "duration": 163,
    "start_time": "2022-11-08T06:35:16.767Z"
   },
   {
    "duration": 223,
    "start_time": "2022-11-08T06:35:16.931Z"
   },
   {
    "duration": 166,
    "start_time": "2022-11-08T06:35:17.155Z"
   },
   {
    "duration": 164,
    "start_time": "2022-11-08T06:35:17.322Z"
   },
   {
    "duration": 152,
    "start_time": "2022-11-08T06:35:17.488Z"
   },
   {
    "duration": 157,
    "start_time": "2022-11-08T06:35:17.646Z"
   },
   {
    "duration": 1448,
    "start_time": "2022-11-08T09:05:15.266Z"
   },
   {
    "duration": 7678,
    "start_time": "2022-11-08T09:05:28.372Z"
   },
   {
    "duration": 3803,
    "start_time": "2022-11-08T09:05:59.590Z"
   },
   {
    "duration": 3853,
    "start_time": "2022-11-08T09:06:04.005Z"
   },
   {
    "duration": 10,
    "start_time": "2022-11-08T09:06:15.713Z"
   },
   {
    "duration": 4121,
    "start_time": "2022-11-08T09:06:29.241Z"
   },
   {
    "duration": 8003,
    "start_time": "2022-11-08T09:09:53.787Z"
   },
   {
    "duration": 16,
    "start_time": "2022-11-08T09:11:06.608Z"
   },
   {
    "duration": 15,
    "start_time": "2022-11-08T09:11:17.575Z"
   },
   {
    "duration": 19,
    "start_time": "2022-11-08T09:12:21.515Z"
   },
   {
    "duration": 15,
    "start_time": "2022-11-08T09:23:04.756Z"
   },
   {
    "duration": 168,
    "start_time": "2022-11-08T09:24:06.890Z"
   },
   {
    "duration": 159,
    "start_time": "2022-11-08T09:24:27.832Z"
   },
   {
    "duration": 8,
    "start_time": "2022-11-08T09:26:59.262Z"
   },
   {
    "duration": 15,
    "start_time": "2022-11-08T09:27:14.251Z"
   },
   {
    "duration": 970,
    "start_time": "2022-11-08T09:27:54.360Z"
   },
   {
    "duration": 811,
    "start_time": "2022-11-08T09:28:16.392Z"
   },
   {
    "duration": 205,
    "start_time": "2022-11-08T09:29:44.410Z"
   },
   {
    "duration": 157,
    "start_time": "2022-11-08T09:29:54.823Z"
   },
   {
    "duration": 46,
    "start_time": "2022-11-08T11:19:46.244Z"
   },
   {
    "duration": 463,
    "start_time": "2022-11-08T11:19:53.975Z"
   },
   {
    "duration": 20,
    "start_time": "2022-11-08T11:19:54.440Z"
   },
   {
    "duration": 13,
    "start_time": "2022-11-08T11:19:54.461Z"
   },
   {
    "duration": 453,
    "start_time": "2022-11-08T11:19:54.476Z"
   },
   {
    "duration": 14,
    "start_time": "2022-11-08T11:19:54.930Z"
   },
   {
    "duration": 7,
    "start_time": "2022-11-08T11:19:54.945Z"
   },
   {
    "duration": 7,
    "start_time": "2022-11-08T11:19:54.954Z"
   },
   {
    "duration": 9,
    "start_time": "2022-11-08T11:19:54.963Z"
   },
   {
    "duration": 7,
    "start_time": "2022-11-08T11:19:54.974Z"
   },
   {
    "duration": 5,
    "start_time": "2022-11-08T11:19:54.983Z"
   },
   {
    "duration": 5,
    "start_time": "2022-11-08T11:19:54.990Z"
   },
   {
    "duration": 6,
    "start_time": "2022-11-08T11:19:54.997Z"
   },
   {
    "duration": 28,
    "start_time": "2022-11-08T11:19:55.004Z"
   },
   {
    "duration": 194,
    "start_time": "2022-11-08T11:19:55.034Z"
   },
   {
    "duration": 123,
    "start_time": "2022-11-08T11:19:55.229Z"
   },
   {
    "duration": 19,
    "start_time": "2022-11-08T11:19:55.354Z"
   },
   {
    "duration": 6,
    "start_time": "2022-11-08T11:19:55.374Z"
   },
   {
    "duration": 10,
    "start_time": "2022-11-08T11:19:55.382Z"
   },
   {
    "duration": 5,
    "start_time": "2022-11-08T11:19:55.393Z"
   },
   {
    "duration": 48,
    "start_time": "2022-11-08T11:19:55.400Z"
   },
   {
    "duration": 154,
    "start_time": "2022-11-08T11:19:55.450Z"
   },
   {
    "duration": 204,
    "start_time": "2022-11-08T11:19:55.605Z"
   },
   {
    "duration": 169,
    "start_time": "2022-11-08T11:19:55.811Z"
   },
   {
    "duration": 135,
    "start_time": "2022-11-08T11:19:55.981Z"
   },
   {
    "duration": 141,
    "start_time": "2022-11-08T11:19:56.118Z"
   },
   {
    "duration": 149,
    "start_time": "2022-11-08T11:19:56.261Z"
   },
   {
    "duration": 200,
    "start_time": "2022-11-08T11:19:56.411Z"
   },
   {
    "duration": 348,
    "start_time": "2022-11-08T11:31:25.600Z"
   },
   {
    "duration": 82,
    "start_time": "2022-11-08T11:31:51.722Z"
   },
   {
    "duration": 73,
    "start_time": "2022-11-08T11:46:01.655Z"
   },
   {
    "duration": 58,
    "start_time": "2022-11-08T11:46:09.697Z"
   },
   {
    "duration": 1546,
    "start_time": "2022-11-08T11:47:23.149Z"
   },
   {
    "duration": 1162,
    "start_time": "2022-11-08T11:49:28.004Z"
   },
   {
    "duration": 60,
    "start_time": "2022-11-08T11:50:20.903Z"
   },
   {
    "duration": 5,
    "start_time": "2022-11-08T12:51:11.997Z"
   },
   {
    "duration": 10,
    "start_time": "2022-11-08T12:55:45.578Z"
   },
   {
    "duration": 9,
    "start_time": "2022-11-08T12:56:37.400Z"
   },
   {
    "duration": 91,
    "start_time": "2022-11-08T13:05:43.453Z"
   },
   {
    "duration": 76,
    "start_time": "2022-11-08T13:05:52.956Z"
   },
   {
    "duration": 9,
    "start_time": "2022-11-08T13:06:51.095Z"
   },
   {
    "duration": 7,
    "start_time": "2022-11-08T13:06:59.167Z"
   },
   {
    "duration": 10,
    "start_time": "2022-11-08T13:07:14.327Z"
   },
   {
    "duration": 76,
    "start_time": "2022-11-08T13:07:37.658Z"
   },
   {
    "duration": 3095,
    "start_time": "2022-11-08T13:16:27.281Z"
   },
   {
    "duration": 41,
    "start_time": "2022-11-08T13:17:03.289Z"
   },
   {
    "duration": 26,
    "start_time": "2022-11-08T13:22:10.508Z"
   },
   {
    "duration": 183,
    "start_time": "2022-11-08T13:23:58.761Z"
   },
   {
    "duration": 195,
    "start_time": "2022-11-08T13:24:49.380Z"
   },
   {
    "duration": 420,
    "start_time": "2022-11-08T13:25:20.463Z"
   },
   {
    "duration": 28,
    "start_time": "2022-11-08T13:25:20.885Z"
   },
   {
    "duration": 16,
    "start_time": "2022-11-08T13:25:20.915Z"
   },
   {
    "duration": 287,
    "start_time": "2022-11-08T13:25:20.934Z"
   },
   {
    "duration": 21,
    "start_time": "2022-11-08T13:25:21.223Z"
   },
   {
    "duration": 7,
    "start_time": "2022-11-08T13:25:21.246Z"
   },
   {
    "duration": 6,
    "start_time": "2022-11-08T13:25:21.255Z"
   },
   {
    "duration": 12,
    "start_time": "2022-11-08T13:25:21.262Z"
   },
   {
    "duration": 15,
    "start_time": "2022-11-08T13:25:21.276Z"
   },
   {
    "duration": 21,
    "start_time": "2022-11-08T13:25:21.295Z"
   },
   {
    "duration": 32,
    "start_time": "2022-11-08T13:25:21.318Z"
   },
   {
    "duration": 13,
    "start_time": "2022-11-08T13:25:21.353Z"
   },
   {
    "duration": 8,
    "start_time": "2022-11-08T13:25:21.369Z"
   },
   {
    "duration": 222,
    "start_time": "2022-11-08T13:25:21.379Z"
   },
   {
    "duration": 134,
    "start_time": "2022-11-08T13:25:21.603Z"
   },
   {
    "duration": 20,
    "start_time": "2022-11-08T13:25:21.738Z"
   },
   {
    "duration": 6,
    "start_time": "2022-11-08T13:25:21.759Z"
   },
   {
    "duration": 10,
    "start_time": "2022-11-08T13:25:21.766Z"
   },
   {
    "duration": 6,
    "start_time": "2022-11-08T13:25:21.778Z"
   },
   {
    "duration": 48,
    "start_time": "2022-11-08T13:25:21.786Z"
   },
   {
    "duration": 184,
    "start_time": "2022-11-08T13:25:21.836Z"
   },
   {
    "duration": 221,
    "start_time": "2022-11-08T13:25:22.021Z"
   },
   {
    "duration": 172,
    "start_time": "2022-11-08T13:25:22.243Z"
   },
   {
    "duration": 170,
    "start_time": "2022-11-08T13:25:22.417Z"
   },
   {
    "duration": 151,
    "start_time": "2022-11-08T13:25:22.589Z"
   },
   {
    "duration": 156,
    "start_time": "2022-11-08T13:25:22.742Z"
   },
   {
    "duration": 11,
    "start_time": "2022-11-08T13:25:22.900Z"
   },
   {
    "duration": 215,
    "start_time": "2022-11-08T13:25:22.914Z"
   },
   {
    "duration": 28,
    "start_time": "2022-11-08T13:26:53.032Z"
   },
   {
    "duration": 1222,
    "start_time": "2022-11-08T13:27:49.683Z"
   },
   {
    "duration": 203,
    "start_time": "2022-11-08T13:28:00.933Z"
   },
   {
    "duration": 164,
    "start_time": "2022-11-08T13:29:52.383Z"
   },
   {
    "duration": 18,
    "start_time": "2022-11-08T13:30:37.873Z"
   },
   {
    "duration": 202,
    "start_time": "2022-11-08T13:31:32.315Z"
   },
   {
    "duration": 203,
    "start_time": "2022-11-08T13:32:01.914Z"
   },
   {
    "duration": 3,
    "start_time": "2022-11-08T13:40:01.382Z"
   },
   {
    "duration": 8,
    "start_time": "2022-11-08T13:42:56.285Z"
   },
   {
    "duration": 464,
    "start_time": "2022-11-08T13:43:08.925Z"
   },
   {
    "duration": 26,
    "start_time": "2022-11-08T13:43:09.391Z"
   },
   {
    "duration": 26,
    "start_time": "2022-11-08T13:43:09.419Z"
   },
   {
    "duration": 314,
    "start_time": "2022-11-08T13:43:09.448Z"
   },
   {
    "duration": 22,
    "start_time": "2022-11-08T13:43:09.764Z"
   },
   {
    "duration": 18,
    "start_time": "2022-11-08T13:43:09.787Z"
   },
   {
    "duration": 16,
    "start_time": "2022-11-08T13:43:09.807Z"
   },
   {
    "duration": 29,
    "start_time": "2022-11-08T13:43:09.825Z"
   },
   {
    "duration": 25,
    "start_time": "2022-11-08T13:43:09.856Z"
   },
   {
    "duration": 25,
    "start_time": "2022-11-08T13:43:09.885Z"
   },
   {
    "duration": 33,
    "start_time": "2022-11-08T13:43:09.912Z"
   },
   {
    "duration": 29,
    "start_time": "2022-11-08T13:43:09.947Z"
   },
   {
    "duration": 35,
    "start_time": "2022-11-08T13:43:09.978Z"
   },
   {
    "duration": 212,
    "start_time": "2022-11-08T13:43:10.015Z"
   },
   {
    "duration": 133,
    "start_time": "2022-11-08T13:43:10.228Z"
   },
   {
    "duration": 20,
    "start_time": "2022-11-08T13:43:10.363Z"
   },
   {
    "duration": 8,
    "start_time": "2022-11-08T13:43:10.385Z"
   },
   {
    "duration": 31,
    "start_time": "2022-11-08T13:43:10.395Z"
   },
   {
    "duration": 8,
    "start_time": "2022-11-08T13:43:10.428Z"
   },
   {
    "duration": 41,
    "start_time": "2022-11-08T13:43:10.437Z"
   },
   {
    "duration": 183,
    "start_time": "2022-11-08T13:43:10.479Z"
   },
   {
    "duration": 216,
    "start_time": "2022-11-08T13:43:10.664Z"
   },
   {
    "duration": 172,
    "start_time": "2022-11-08T13:43:10.881Z"
   },
   {
    "duration": 157,
    "start_time": "2022-11-08T13:43:11.055Z"
   },
   {
    "duration": 171,
    "start_time": "2022-11-08T13:43:11.214Z"
   },
   {
    "duration": 170,
    "start_time": "2022-11-08T13:43:11.387Z"
   },
   {
    "duration": 13,
    "start_time": "2022-11-08T13:43:11.559Z"
   },
   {
    "duration": 35,
    "start_time": "2022-11-08T13:43:11.576Z"
   },
   {
    "duration": 201,
    "start_time": "2022-11-08T13:43:11.613Z"
   },
   {
    "duration": 15,
    "start_time": "2022-11-08T13:46:50.569Z"
   },
   {
    "duration": 12,
    "start_time": "2022-11-08T13:47:21.077Z"
   },
   {
    "duration": 16,
    "start_time": "2022-11-08T13:47:25.481Z"
   },
   {
    "duration": 10,
    "start_time": "2022-11-08T13:48:58.924Z"
   },
   {
    "duration": 225,
    "start_time": "2022-11-08T13:50:20.893Z"
   },
   {
    "duration": 35,
    "start_time": "2022-11-08T13:50:58.916Z"
   },
   {
    "duration": 1127,
    "start_time": "2022-11-08T13:51:13.699Z"
   },
   {
    "duration": 1144,
    "start_time": "2022-11-08T13:51:23.430Z"
   },
   {
    "duration": 1106,
    "start_time": "2022-11-08T13:52:37.965Z"
   },
   {
    "duration": 5,
    "start_time": "2022-11-08T13:53:34.529Z"
   },
   {
    "duration": 1126,
    "start_time": "2022-11-08T13:54:59.470Z"
   },
   {
    "duration": 6,
    "start_time": "2022-11-08T13:57:08.614Z"
   },
   {
    "duration": 80,
    "start_time": "2022-11-08T14:33:53.554Z"
   },
   {
    "duration": 4,
    "start_time": "2022-11-08T14:41:43.987Z"
   },
   {
    "duration": 3,
    "start_time": "2022-11-08T14:41:47.817Z"
   },
   {
    "duration": 4,
    "start_time": "2022-11-08T14:44:21.027Z"
   },
   {
    "duration": 3,
    "start_time": "2022-11-08T14:44:24.919Z"
   },
   {
    "duration": 5,
    "start_time": "2022-11-08T14:45:51.422Z"
   },
   {
    "duration": 14,
    "start_time": "2022-11-08T14:46:21.680Z"
   },
   {
    "duration": 14,
    "start_time": "2022-11-08T14:46:54.301Z"
   },
   {
    "duration": 6,
    "start_time": "2022-11-08T14:47:24.218Z"
   },
   {
    "duration": 5,
    "start_time": "2022-11-08T14:50:31.890Z"
   },
   {
    "duration": 16,
    "start_time": "2022-11-08T14:52:31.176Z"
   },
   {
    "duration": 140,
    "start_time": "2022-11-08T18:20:10.853Z"
   },
   {
    "duration": 45,
    "start_time": "2022-11-08T18:20:23.727Z"
   },
   {
    "duration": 484,
    "start_time": "2022-11-08T18:20:35.696Z"
   },
   {
    "duration": 20,
    "start_time": "2022-11-08T18:20:36.182Z"
   },
   {
    "duration": 14,
    "start_time": "2022-11-08T18:20:36.203Z"
   },
   {
    "duration": 457,
    "start_time": "2022-11-08T18:20:36.219Z"
   },
   {
    "duration": 21,
    "start_time": "2022-11-08T18:20:36.677Z"
   },
   {
    "duration": 7,
    "start_time": "2022-11-08T18:20:36.700Z"
   },
   {
    "duration": 6,
    "start_time": "2022-11-08T18:20:36.708Z"
   },
   {
    "duration": 9,
    "start_time": "2022-11-08T18:20:36.716Z"
   },
   {
    "duration": 7,
    "start_time": "2022-11-08T18:20:36.726Z"
   },
   {
    "duration": 6,
    "start_time": "2022-11-08T18:20:36.737Z"
   },
   {
    "duration": 11,
    "start_time": "2022-11-08T18:20:36.744Z"
   },
   {
    "duration": 9,
    "start_time": "2022-11-08T18:20:36.757Z"
   },
   {
    "duration": 8,
    "start_time": "2022-11-08T18:20:36.768Z"
   },
   {
    "duration": 206,
    "start_time": "2022-11-08T18:20:36.778Z"
   },
   {
    "duration": 124,
    "start_time": "2022-11-08T18:20:36.986Z"
   },
   {
    "duration": 16,
    "start_time": "2022-11-08T18:20:37.112Z"
   },
   {
    "duration": 5,
    "start_time": "2022-11-08T18:20:37.130Z"
   },
   {
    "duration": 9,
    "start_time": "2022-11-08T18:20:37.136Z"
   },
   {
    "duration": 4,
    "start_time": "2022-11-08T18:20:37.147Z"
   },
   {
    "duration": 19,
    "start_time": "2022-11-08T18:20:37.152Z"
   },
   {
    "duration": 177,
    "start_time": "2022-11-08T18:20:37.172Z"
   },
   {
    "duration": 232,
    "start_time": "2022-11-08T18:20:37.351Z"
   },
   {
    "duration": 168,
    "start_time": "2022-11-08T18:20:37.584Z"
   },
   {
    "duration": 159,
    "start_time": "2022-11-08T18:20:37.754Z"
   },
   {
    "duration": 153,
    "start_time": "2022-11-08T18:20:37.914Z"
   },
   {
    "duration": 158,
    "start_time": "2022-11-08T18:20:38.069Z"
   },
   {
    "duration": 11,
    "start_time": "2022-11-08T18:20:38.228Z"
   },
   {
    "duration": 27,
    "start_time": "2022-11-08T18:20:38.242Z"
   },
   {
    "duration": 96,
    "start_time": "2022-11-08T18:20:38.271Z"
   },
   {
    "duration": 19,
    "start_time": "2022-11-08T18:21:08.784Z"
   },
   {
    "duration": 149,
    "start_time": "2022-11-08T18:29:47.316Z"
   },
   {
    "duration": 376,
    "start_time": "2022-11-08T18:40:37.340Z"
   },
   {
    "duration": 18,
    "start_time": "2022-11-08T19:22:06.746Z"
   },
   {
    "duration": 433,
    "start_time": "2022-11-08T19:22:18.713Z"
   },
   {
    "duration": 22,
    "start_time": "2022-11-08T19:22:19.148Z"
   },
   {
    "duration": 14,
    "start_time": "2022-11-08T19:22:19.171Z"
   },
   {
    "duration": 313,
    "start_time": "2022-11-08T19:22:19.187Z"
   },
   {
    "duration": 13,
    "start_time": "2022-11-08T19:22:19.502Z"
   },
   {
    "duration": 12,
    "start_time": "2022-11-08T19:22:19.517Z"
   },
   {
    "duration": 5,
    "start_time": "2022-11-08T19:22:19.532Z"
   },
   {
    "duration": 12,
    "start_time": "2022-11-08T19:22:19.539Z"
   },
   {
    "duration": 9,
    "start_time": "2022-11-08T19:22:19.553Z"
   },
   {
    "duration": 9,
    "start_time": "2022-11-08T19:22:19.566Z"
   },
   {
    "duration": 26,
    "start_time": "2022-11-08T19:22:19.576Z"
   },
   {
    "duration": 11,
    "start_time": "2022-11-08T19:22:19.604Z"
   },
   {
    "duration": 9,
    "start_time": "2022-11-08T19:22:19.616Z"
   },
   {
    "duration": 261,
    "start_time": "2022-11-08T19:22:19.627Z"
   },
   {
    "duration": 157,
    "start_time": "2022-11-08T19:22:19.890Z"
   },
   {
    "duration": 22,
    "start_time": "2022-11-08T19:22:20.049Z"
   },
   {
    "duration": 9,
    "start_time": "2022-11-08T19:22:20.074Z"
   },
   {
    "duration": 14,
    "start_time": "2022-11-08T19:22:20.098Z"
   },
   {
    "duration": 15,
    "start_time": "2022-11-08T19:22:20.114Z"
   },
   {
    "duration": 27,
    "start_time": "2022-11-08T19:22:20.131Z"
   },
   {
    "duration": 176,
    "start_time": "2022-11-08T19:22:20.160Z"
   },
   {
    "duration": 294,
    "start_time": "2022-11-08T19:22:20.339Z"
   },
   {
    "duration": 162,
    "start_time": "2022-11-08T19:22:20.635Z"
   },
   {
    "duration": 190,
    "start_time": "2022-11-08T19:22:20.800Z"
   },
   {
    "duration": 194,
    "start_time": "2022-11-08T19:22:20.998Z"
   },
   {
    "duration": 162,
    "start_time": "2022-11-08T19:22:21.196Z"
   },
   {
    "duration": 14,
    "start_time": "2022-11-08T19:22:21.360Z"
   },
   {
    "duration": 30,
    "start_time": "2022-11-08T19:22:21.377Z"
   },
   {
    "duration": 45,
    "start_time": "2022-11-08T19:22:21.409Z"
   },
   {
    "duration": 99,
    "start_time": "2022-11-08T19:22:21.456Z"
   },
   {
    "duration": 14,
    "start_time": "2022-11-08T19:22:46.317Z"
   },
   {
    "duration": 453,
    "start_time": "2022-11-08T19:22:56.699Z"
   },
   {
    "duration": 26,
    "start_time": "2022-11-08T19:22:57.154Z"
   },
   {
    "duration": 14,
    "start_time": "2022-11-08T19:22:57.181Z"
   },
   {
    "duration": 290,
    "start_time": "2022-11-08T19:22:57.199Z"
   },
   {
    "duration": 18,
    "start_time": "2022-11-08T19:22:57.491Z"
   },
   {
    "duration": 6,
    "start_time": "2022-11-08T19:22:57.511Z"
   },
   {
    "duration": 7,
    "start_time": "2022-11-08T19:22:57.519Z"
   },
   {
    "duration": 19,
    "start_time": "2022-11-08T19:22:57.527Z"
   },
   {
    "duration": 6,
    "start_time": "2022-11-08T19:22:57.548Z"
   },
   {
    "duration": 11,
    "start_time": "2022-11-08T19:22:57.556Z"
   },
   {
    "duration": 37,
    "start_time": "2022-11-08T19:22:57.569Z"
   },
   {
    "duration": 7,
    "start_time": "2022-11-08T19:22:57.608Z"
   },
   {
    "duration": 6,
    "start_time": "2022-11-08T19:22:57.616Z"
   },
   {
    "duration": 7,
    "start_time": "2022-11-08T19:22:57.623Z"
   },
   {
    "duration": 205,
    "start_time": "2022-11-08T19:22:57.632Z"
   },
   {
    "duration": 136,
    "start_time": "2022-11-08T19:22:57.838Z"
   },
   {
    "duration": 22,
    "start_time": "2022-11-08T19:22:57.976Z"
   },
   {
    "duration": 5,
    "start_time": "2022-11-08T19:22:58.000Z"
   },
   {
    "duration": 17,
    "start_time": "2022-11-08T19:22:58.006Z"
   },
   {
    "duration": 5,
    "start_time": "2022-11-08T19:22:58.025Z"
   },
   {
    "duration": 20,
    "start_time": "2022-11-08T19:22:58.032Z"
   },
   {
    "duration": 171,
    "start_time": "2022-11-08T19:22:58.053Z"
   },
   {
    "duration": 224,
    "start_time": "2022-11-08T19:22:58.226Z"
   },
   {
    "duration": 169,
    "start_time": "2022-11-08T19:22:58.452Z"
   },
   {
    "duration": 158,
    "start_time": "2022-11-08T19:22:58.623Z"
   },
   {
    "duration": 160,
    "start_time": "2022-11-08T19:22:58.783Z"
   },
   {
    "duration": 167,
    "start_time": "2022-11-08T19:22:58.945Z"
   },
   {
    "duration": 11,
    "start_time": "2022-11-08T19:22:59.115Z"
   },
   {
    "duration": 21,
    "start_time": "2022-11-08T19:22:59.127Z"
   },
   {
    "duration": 36,
    "start_time": "2022-11-08T19:22:59.149Z"
   },
   {
    "duration": 99,
    "start_time": "2022-11-08T19:22:59.198Z"
   },
   {
    "duration": 4,
    "start_time": "2022-11-08T19:23:51.739Z"
   },
   {
    "duration": 15,
    "start_time": "2022-11-08T19:23:53.618Z"
   },
   {
    "duration": 19,
    "start_time": "2022-11-08T19:23:58.016Z"
   },
   {
    "duration": 453,
    "start_time": "2022-11-08T19:24:04.695Z"
   },
   {
    "duration": 22,
    "start_time": "2022-11-08T19:24:05.150Z"
   },
   {
    "duration": 20,
    "start_time": "2022-11-08T19:24:05.173Z"
   },
   {
    "duration": 291,
    "start_time": "2022-11-08T19:24:05.195Z"
   },
   {
    "duration": 19,
    "start_time": "2022-11-08T19:24:05.488Z"
   },
   {
    "duration": 24,
    "start_time": "2022-11-08T19:24:05.508Z"
   },
   {
    "duration": 40,
    "start_time": "2022-11-08T19:24:05.533Z"
   },
   {
    "duration": 24,
    "start_time": "2022-11-08T19:24:05.574Z"
   },
   {
    "duration": 8,
    "start_time": "2022-11-08T19:24:05.600Z"
   },
   {
    "duration": 10,
    "start_time": "2022-11-08T19:24:05.610Z"
   },
   {
    "duration": 12,
    "start_time": "2022-11-08T19:24:05.622Z"
   },
   {
    "duration": 8,
    "start_time": "2022-11-08T19:24:05.636Z"
   },
   {
    "duration": 11,
    "start_time": "2022-11-08T19:24:05.646Z"
   },
   {
    "duration": 12,
    "start_time": "2022-11-08T19:24:05.659Z"
   },
   {
    "duration": 210,
    "start_time": "2022-11-08T19:24:05.673Z"
   },
   {
    "duration": 139,
    "start_time": "2022-11-08T19:24:05.885Z"
   },
   {
    "duration": 18,
    "start_time": "2022-11-08T19:24:06.026Z"
   },
   {
    "duration": 5,
    "start_time": "2022-11-08T19:24:06.046Z"
   },
   {
    "duration": 14,
    "start_time": "2022-11-08T19:24:06.053Z"
   },
   {
    "duration": 4,
    "start_time": "2022-11-08T19:24:06.069Z"
   },
   {
    "duration": 43,
    "start_time": "2022-11-08T19:24:06.074Z"
   },
   {
    "duration": 158,
    "start_time": "2022-11-08T19:24:06.119Z"
   },
   {
    "duration": 233,
    "start_time": "2022-11-08T19:24:06.279Z"
   },
   {
    "duration": 156,
    "start_time": "2022-11-08T19:24:06.514Z"
   },
   {
    "duration": 158,
    "start_time": "2022-11-08T19:24:06.672Z"
   },
   {
    "duration": 196,
    "start_time": "2022-11-08T19:24:06.832Z"
   },
   {
    "duration": 159,
    "start_time": "2022-11-08T19:24:07.030Z"
   },
   {
    "duration": 12,
    "start_time": "2022-11-08T19:24:07.197Z"
   },
   {
    "duration": 22,
    "start_time": "2022-11-08T19:24:07.211Z"
   },
   {
    "duration": 32,
    "start_time": "2022-11-08T19:24:07.235Z"
   },
   {
    "duration": 93,
    "start_time": "2022-11-08T19:24:07.268Z"
   },
   {
    "duration": 468,
    "start_time": "2022-11-08T19:24:31.528Z"
   },
   {
    "duration": 22,
    "start_time": "2022-11-08T19:24:31.998Z"
   },
   {
    "duration": 14,
    "start_time": "2022-11-08T19:24:32.022Z"
   },
   {
    "duration": 319,
    "start_time": "2022-11-08T19:24:32.039Z"
   },
   {
    "duration": 15,
    "start_time": "2022-11-08T19:24:32.360Z"
   },
   {
    "duration": 30,
    "start_time": "2022-11-08T19:24:32.377Z"
   },
   {
    "duration": 25,
    "start_time": "2022-11-08T19:24:32.409Z"
   },
   {
    "duration": 27,
    "start_time": "2022-11-08T19:24:32.436Z"
   },
   {
    "duration": 8,
    "start_time": "2022-11-08T19:24:32.465Z"
   },
   {
    "duration": 23,
    "start_time": "2022-11-08T19:24:32.475Z"
   },
   {
    "duration": 15,
    "start_time": "2022-11-08T19:24:32.499Z"
   },
   {
    "duration": 18,
    "start_time": "2022-11-08T19:24:32.516Z"
   },
   {
    "duration": 13,
    "start_time": "2022-11-08T19:24:32.537Z"
   },
   {
    "duration": 7,
    "start_time": "2022-11-08T19:24:32.551Z"
   },
   {
    "duration": 190,
    "start_time": "2022-11-08T19:24:32.559Z"
   },
   {
    "duration": 140,
    "start_time": "2022-11-08T19:24:32.752Z"
   },
   {
    "duration": 19,
    "start_time": "2022-11-08T19:24:32.894Z"
   },
   {
    "duration": 5,
    "start_time": "2022-11-08T19:24:32.915Z"
   },
   {
    "duration": 13,
    "start_time": "2022-11-08T19:24:32.923Z"
   },
   {
    "duration": 10,
    "start_time": "2022-11-08T19:24:32.938Z"
   },
   {
    "duration": 19,
    "start_time": "2022-11-08T19:24:32.950Z"
   },
   {
    "duration": 174,
    "start_time": "2022-11-08T19:24:32.972Z"
   },
   {
    "duration": 228,
    "start_time": "2022-11-08T19:24:33.148Z"
   },
   {
    "duration": 152,
    "start_time": "2022-11-08T19:24:33.378Z"
   },
   {
    "duration": 157,
    "start_time": "2022-11-08T19:24:33.532Z"
   },
   {
    "duration": 159,
    "start_time": "2022-11-08T19:24:33.691Z"
   },
   {
    "duration": 177,
    "start_time": "2022-11-08T19:24:33.852Z"
   },
   {
    "duration": 11,
    "start_time": "2022-11-08T19:24:34.033Z"
   },
   {
    "duration": 11,
    "start_time": "2022-11-08T19:24:34.047Z"
   },
   {
    "duration": 53,
    "start_time": "2022-11-08T19:24:34.060Z"
   },
   {
    "duration": 132,
    "start_time": "2022-11-08T19:24:34.115Z"
   },
   {
    "duration": 419,
    "start_time": "2022-11-08T19:27:56.532Z"
   },
   {
    "duration": 29,
    "start_time": "2022-11-08T19:27:56.954Z"
   },
   {
    "duration": 17,
    "start_time": "2022-11-08T19:27:56.985Z"
   },
   {
    "duration": 307,
    "start_time": "2022-11-08T19:27:57.005Z"
   },
   {
    "duration": 15,
    "start_time": "2022-11-08T19:27:57.314Z"
   },
   {
    "duration": 5,
    "start_time": "2022-11-08T19:27:57.331Z"
   },
   {
    "duration": 7,
    "start_time": "2022-11-08T19:27:57.337Z"
   },
   {
    "duration": 33,
    "start_time": "2022-11-08T19:27:57.346Z"
   },
   {
    "duration": 17,
    "start_time": "2022-11-08T19:27:57.381Z"
   },
   {
    "duration": 7,
    "start_time": "2022-11-08T19:27:57.400Z"
   },
   {
    "duration": 12,
    "start_time": "2022-11-08T19:27:57.409Z"
   },
   {
    "duration": 8,
    "start_time": "2022-11-08T19:27:57.423Z"
   },
   {
    "duration": 10,
    "start_time": "2022-11-08T19:27:57.432Z"
   },
   {
    "duration": 7,
    "start_time": "2022-11-08T19:27:57.444Z"
   },
   {
    "duration": 220,
    "start_time": "2022-11-08T19:27:57.452Z"
   },
   {
    "duration": 141,
    "start_time": "2022-11-08T19:27:57.674Z"
   },
   {
    "duration": 21,
    "start_time": "2022-11-08T19:27:57.817Z"
   },
   {
    "duration": 6,
    "start_time": "2022-11-08T19:27:57.839Z"
   },
   {
    "duration": 13,
    "start_time": "2022-11-08T19:27:57.847Z"
   },
   {
    "duration": 5,
    "start_time": "2022-11-08T19:27:57.864Z"
   },
   {
    "duration": 38,
    "start_time": "2022-11-08T19:27:57.871Z"
   },
   {
    "duration": 156,
    "start_time": "2022-11-08T19:27:57.911Z"
   },
   {
    "duration": 224,
    "start_time": "2022-11-08T19:27:58.069Z"
   },
   {
    "duration": 160,
    "start_time": "2022-11-08T19:27:58.297Z"
   },
   {
    "duration": 199,
    "start_time": "2022-11-08T19:27:58.458Z"
   },
   {
    "duration": 163,
    "start_time": "2022-11-08T19:27:58.660Z"
   },
   {
    "duration": 158,
    "start_time": "2022-11-08T19:27:58.825Z"
   },
   {
    "duration": 15,
    "start_time": "2022-11-08T19:27:58.986Z"
   },
   {
    "duration": 19,
    "start_time": "2022-11-08T19:27:59.003Z"
   },
   {
    "duration": 34,
    "start_time": "2022-11-08T19:27:59.024Z"
   },
   {
    "duration": 98,
    "start_time": "2022-11-08T19:27:59.060Z"
   },
   {
    "duration": 4,
    "start_time": "2022-11-08T19:29:51.884Z"
   },
   {
    "duration": 20,
    "start_time": "2022-11-08T19:29:54.160Z"
   },
   {
    "duration": 4,
    "start_time": "2022-11-08T19:30:08.188Z"
   },
   {
    "duration": 4,
    "start_time": "2022-11-08T19:30:09.293Z"
   },
   {
    "duration": 14,
    "start_time": "2022-11-08T19:30:10.497Z"
   },
   {
    "duration": 4,
    "start_time": "2022-11-08T19:30:19.618Z"
   },
   {
    "duration": 16,
    "start_time": "2022-11-08T19:30:20.668Z"
   },
   {
    "duration": 16,
    "start_time": "2022-11-08T19:30:26.138Z"
   },
   {
    "duration": 29,
    "start_time": "2022-11-08T19:30:50.352Z"
   },
   {
    "duration": 26,
    "start_time": "2022-11-08T19:31:16.164Z"
   },
   {
    "duration": 386,
    "start_time": "2022-11-08T19:31:26.653Z"
   },
   {
    "duration": 21,
    "start_time": "2022-11-08T19:31:27.041Z"
   },
   {
    "duration": 20,
    "start_time": "2022-11-08T19:31:27.064Z"
   },
   {
    "duration": 287,
    "start_time": "2022-11-08T19:31:27.087Z"
   },
   {
    "duration": 16,
    "start_time": "2022-11-08T19:31:27.375Z"
   },
   {
    "duration": 11,
    "start_time": "2022-11-08T19:31:27.393Z"
   },
   {
    "duration": 6,
    "start_time": "2022-11-08T19:31:27.406Z"
   },
   {
    "duration": 98,
    "start_time": "2022-11-08T19:31:27.413Z"
   },
   {
    "duration": 0,
    "start_time": "2022-11-08T19:31:27.514Z"
   },
   {
    "duration": 0,
    "start_time": "2022-11-08T19:31:27.515Z"
   },
   {
    "duration": 0,
    "start_time": "2022-11-08T19:31:27.517Z"
   },
   {
    "duration": 0,
    "start_time": "2022-11-08T19:31:27.518Z"
   },
   {
    "duration": 0,
    "start_time": "2022-11-08T19:31:27.520Z"
   },
   {
    "duration": 0,
    "start_time": "2022-11-08T19:31:27.521Z"
   },
   {
    "duration": 0,
    "start_time": "2022-11-08T19:31:27.523Z"
   },
   {
    "duration": 0,
    "start_time": "2022-11-08T19:31:27.524Z"
   },
   {
    "duration": 0,
    "start_time": "2022-11-08T19:31:27.526Z"
   },
   {
    "duration": 0,
    "start_time": "2022-11-08T19:31:27.527Z"
   },
   {
    "duration": 0,
    "start_time": "2022-11-08T19:31:27.529Z"
   },
   {
    "duration": 0,
    "start_time": "2022-11-08T19:31:27.531Z"
   },
   {
    "duration": 0,
    "start_time": "2022-11-08T19:31:27.532Z"
   },
   {
    "duration": 0,
    "start_time": "2022-11-08T19:31:27.534Z"
   },
   {
    "duration": 0,
    "start_time": "2022-11-08T19:31:27.536Z"
   },
   {
    "duration": 0,
    "start_time": "2022-11-08T19:31:27.537Z"
   },
   {
    "duration": 0,
    "start_time": "2022-11-08T19:31:27.540Z"
   },
   {
    "duration": 0,
    "start_time": "2022-11-08T19:31:27.541Z"
   },
   {
    "duration": 0,
    "start_time": "2022-11-08T19:31:27.543Z"
   },
   {
    "duration": 0,
    "start_time": "2022-11-08T19:31:27.544Z"
   },
   {
    "duration": 0,
    "start_time": "2022-11-08T19:31:27.597Z"
   },
   {
    "duration": 0,
    "start_time": "2022-11-08T19:31:27.598Z"
   },
   {
    "duration": 0,
    "start_time": "2022-11-08T19:31:27.599Z"
   },
   {
    "duration": 13,
    "start_time": "2022-11-08T19:31:53.279Z"
   },
   {
    "duration": 4,
    "start_time": "2022-11-08T19:32:05.058Z"
   },
   {
    "duration": 3,
    "start_time": "2022-11-08T19:32:06.177Z"
   },
   {
    "duration": 14,
    "start_time": "2022-11-08T19:32:07.113Z"
   },
   {
    "duration": 4,
    "start_time": "2022-11-08T19:32:18.281Z"
   },
   {
    "duration": 25,
    "start_time": "2022-11-08T19:32:19.484Z"
   },
   {
    "duration": 419,
    "start_time": "2022-11-08T19:33:29.242Z"
   },
   {
    "duration": 20,
    "start_time": "2022-11-08T19:33:29.664Z"
   },
   {
    "duration": 21,
    "start_time": "2022-11-08T19:33:29.685Z"
   },
   {
    "duration": 304,
    "start_time": "2022-11-08T19:33:29.711Z"
   },
   {
    "duration": 14,
    "start_time": "2022-11-08T19:33:30.017Z"
   },
   {
    "duration": 13,
    "start_time": "2022-11-08T19:33:30.032Z"
   },
   {
    "duration": 8,
    "start_time": "2022-11-08T19:33:30.046Z"
   },
   {
    "duration": 16,
    "start_time": "2022-11-08T19:33:30.056Z"
   },
   {
    "duration": 6,
    "start_time": "2022-11-08T19:33:30.074Z"
   },
   {
    "duration": 27,
    "start_time": "2022-11-08T19:33:30.082Z"
   },
   {
    "duration": 21,
    "start_time": "2022-11-08T19:33:30.111Z"
   },
   {
    "duration": 18,
    "start_time": "2022-11-08T19:33:30.134Z"
   },
   {
    "duration": 10,
    "start_time": "2022-11-08T19:33:30.154Z"
   },
   {
    "duration": 14,
    "start_time": "2022-11-08T19:33:30.167Z"
   },
   {
    "duration": 235,
    "start_time": "2022-11-08T19:33:30.182Z"
   },
   {
    "duration": 149,
    "start_time": "2022-11-08T19:33:30.419Z"
   },
   {
    "duration": 41,
    "start_time": "2022-11-08T19:33:30.570Z"
   },
   {
    "duration": 26,
    "start_time": "2022-11-08T19:33:30.612Z"
   },
   {
    "duration": 43,
    "start_time": "2022-11-08T19:33:30.640Z"
   },
   {
    "duration": 21,
    "start_time": "2022-11-08T19:33:30.685Z"
   },
   {
    "duration": 43,
    "start_time": "2022-11-08T19:33:30.716Z"
   },
   {
    "duration": 176,
    "start_time": "2022-11-08T19:33:30.761Z"
   },
   {
    "duration": 251,
    "start_time": "2022-11-08T19:33:30.939Z"
   },
   {
    "duration": 168,
    "start_time": "2022-11-08T19:33:31.192Z"
   },
   {
    "duration": 156,
    "start_time": "2022-11-08T19:33:31.362Z"
   },
   {
    "duration": 159,
    "start_time": "2022-11-08T19:33:31.520Z"
   },
   {
    "duration": 163,
    "start_time": "2022-11-08T19:33:31.682Z"
   },
   {
    "duration": 10,
    "start_time": "2022-11-08T19:33:31.847Z"
   },
   {
    "duration": 13,
    "start_time": "2022-11-08T19:33:31.859Z"
   },
   {
    "duration": 49,
    "start_time": "2022-11-08T19:33:31.873Z"
   },
   {
    "duration": 92,
    "start_time": "2022-11-08T19:33:31.924Z"
   },
   {
    "duration": 4,
    "start_time": "2022-11-08T19:33:51.312Z"
   },
   {
    "duration": 15,
    "start_time": "2022-11-08T19:33:52.650Z"
   },
   {
    "duration": 10,
    "start_time": "2022-11-08T19:35:47.055Z"
   },
   {
    "duration": 37,
    "start_time": "2022-11-08T19:35:48.447Z"
   },
   {
    "duration": 10,
    "start_time": "2022-11-08T19:36:49.340Z"
   },
   {
    "duration": 25,
    "start_time": "2022-11-08T19:36:51.422Z"
   },
   {
    "duration": 6,
    "start_time": "2022-11-08T19:37:15.483Z"
   },
   {
    "duration": 30,
    "start_time": "2022-11-08T19:37:30.702Z"
   },
   {
    "duration": 9,
    "start_time": "2022-11-08T19:37:49.288Z"
   },
   {
    "duration": 4,
    "start_time": "2022-11-08T19:41:23.015Z"
   },
   {
    "duration": 15,
    "start_time": "2022-11-08T19:41:26.566Z"
   },
   {
    "duration": 554,
    "start_time": "2022-11-08T19:41:49.633Z"
   },
   {
    "duration": 16,
    "start_time": "2022-11-08T19:54:53.294Z"
   },
   {
    "duration": 13,
    "start_time": "2022-11-08T19:54:57.334Z"
   },
   {
    "duration": 13,
    "start_time": "2022-11-08T19:55:07.546Z"
   },
   {
    "duration": 4,
    "start_time": "2022-11-08T19:58:33.265Z"
   },
   {
    "duration": 10,
    "start_time": "2022-11-08T20:00:55.162Z"
   },
   {
    "duration": 5,
    "start_time": "2022-11-08T20:01:12.997Z"
   },
   {
    "duration": 3,
    "start_time": "2022-11-08T20:01:17.361Z"
   },
   {
    "duration": 14,
    "start_time": "2022-11-08T20:01:25.522Z"
   },
   {
    "duration": 10,
    "start_time": "2022-11-08T20:17:08.615Z"
   },
   {
    "duration": 21,
    "start_time": "2022-11-08T20:17:21.321Z"
   },
   {
    "duration": 414,
    "start_time": "2022-11-08T20:17:42.537Z"
   },
   {
    "duration": 22,
    "start_time": "2022-11-08T20:17:42.953Z"
   },
   {
    "duration": 15,
    "start_time": "2022-11-08T20:17:42.976Z"
   },
   {
    "duration": 295,
    "start_time": "2022-11-08T20:17:42.992Z"
   },
   {
    "duration": 17,
    "start_time": "2022-11-08T20:17:43.289Z"
   },
   {
    "duration": 9,
    "start_time": "2022-11-08T20:17:43.308Z"
   },
   {
    "duration": 10,
    "start_time": "2022-11-08T20:17:43.319Z"
   },
   {
    "duration": 8,
    "start_time": "2022-11-08T20:17:43.331Z"
   },
   {
    "duration": 7,
    "start_time": "2022-11-08T20:17:43.340Z"
   },
   {
    "duration": 6,
    "start_time": "2022-11-08T20:17:43.349Z"
   },
   {
    "duration": 7,
    "start_time": "2022-11-08T20:17:43.357Z"
   },
   {
    "duration": 31,
    "start_time": "2022-11-08T20:17:43.366Z"
   },
   {
    "duration": 4,
    "start_time": "2022-11-08T20:17:43.399Z"
   },
   {
    "duration": 196,
    "start_time": "2022-11-08T20:17:43.406Z"
   },
   {
    "duration": 145,
    "start_time": "2022-11-08T20:17:43.604Z"
   },
   {
    "duration": 19,
    "start_time": "2022-11-08T20:17:43.750Z"
   },
   {
    "duration": 5,
    "start_time": "2022-11-08T20:17:43.771Z"
   },
   {
    "duration": 33,
    "start_time": "2022-11-08T20:17:43.777Z"
   },
   {
    "duration": 10,
    "start_time": "2022-11-08T20:17:43.812Z"
   },
   {
    "duration": 23,
    "start_time": "2022-11-08T20:17:43.824Z"
   },
   {
    "duration": 150,
    "start_time": "2022-11-08T20:17:43.849Z"
   },
   {
    "duration": 285,
    "start_time": "2022-11-08T20:17:44.001Z"
   },
   {
    "duration": 161,
    "start_time": "2022-11-08T20:17:44.288Z"
   },
   {
    "duration": 174,
    "start_time": "2022-11-08T20:17:44.451Z"
   },
   {
    "duration": 150,
    "start_time": "2022-11-08T20:17:44.627Z"
   },
   {
    "duration": 147,
    "start_time": "2022-11-08T20:17:44.779Z"
   },
   {
    "duration": 19,
    "start_time": "2022-11-08T20:17:44.928Z"
   },
   {
    "duration": 12,
    "start_time": "2022-11-08T20:17:44.948Z"
   },
   {
    "duration": 45,
    "start_time": "2022-11-08T20:17:44.962Z"
   },
   {
    "duration": 95,
    "start_time": "2022-11-08T20:17:45.009Z"
   },
   {
    "duration": 18,
    "start_time": "2022-11-08T20:20:03.099Z"
   },
   {
    "duration": 5,
    "start_time": "2022-11-08T20:20:39.585Z"
   },
   {
    "duration": 25,
    "start_time": "2022-11-08T20:21:03.927Z"
   },
   {
    "duration": 45,
    "start_time": "2022-11-09T05:22:38.309Z"
   },
   {
    "duration": 543,
    "start_time": "2022-11-09T05:22:44.285Z"
   },
   {
    "duration": 20,
    "start_time": "2022-11-09T05:22:44.829Z"
   },
   {
    "duration": 13,
    "start_time": "2022-11-09T05:22:44.850Z"
   },
   {
    "duration": 401,
    "start_time": "2022-11-09T05:22:44.864Z"
   },
   {
    "duration": 14,
    "start_time": "2022-11-09T05:22:45.267Z"
   },
   {
    "duration": 9,
    "start_time": "2022-11-09T05:22:45.283Z"
   },
   {
    "duration": 7,
    "start_time": "2022-11-09T05:22:45.294Z"
   },
   {
    "duration": 16,
    "start_time": "2022-11-09T05:22:45.303Z"
   },
   {
    "duration": 5,
    "start_time": "2022-11-09T05:22:45.321Z"
   },
   {
    "duration": 11,
    "start_time": "2022-11-09T05:22:45.327Z"
   },
   {
    "duration": 4,
    "start_time": "2022-11-09T05:22:45.339Z"
   },
   {
    "duration": 8,
    "start_time": "2022-11-09T05:22:45.345Z"
   },
   {
    "duration": 14,
    "start_time": "2022-11-09T05:22:45.354Z"
   },
   {
    "duration": 185,
    "start_time": "2022-11-09T05:22:45.371Z"
   },
   {
    "duration": 124,
    "start_time": "2022-11-09T05:22:45.558Z"
   },
   {
    "duration": 17,
    "start_time": "2022-11-09T05:22:45.684Z"
   },
   {
    "duration": 4,
    "start_time": "2022-11-09T05:22:45.702Z"
   },
   {
    "duration": 8,
    "start_time": "2022-11-09T05:22:45.707Z"
   },
   {
    "duration": 5,
    "start_time": "2022-11-09T05:22:45.716Z"
   },
   {
    "duration": 15,
    "start_time": "2022-11-09T05:22:45.722Z"
   },
   {
    "duration": 165,
    "start_time": "2022-11-09T05:22:45.739Z"
   },
   {
    "duration": 241,
    "start_time": "2022-11-09T05:22:45.906Z"
   },
   {
    "duration": 149,
    "start_time": "2022-11-09T05:22:46.149Z"
   },
   {
    "duration": 147,
    "start_time": "2022-11-09T05:22:46.300Z"
   },
   {
    "duration": 143,
    "start_time": "2022-11-09T05:22:46.449Z"
   },
   {
    "duration": 144,
    "start_time": "2022-11-09T05:22:46.594Z"
   },
   {
    "duration": 19,
    "start_time": "2022-11-09T05:22:46.739Z"
   },
   {
    "duration": 15,
    "start_time": "2022-11-09T05:22:46.760Z"
   },
   {
    "duration": 19,
    "start_time": "2022-11-09T05:22:46.776Z"
   },
   {
    "duration": 152,
    "start_time": "2022-11-09T05:22:46.797Z"
   },
   {
    "duration": 299,
    "start_time": "2022-11-09T05:23:16.899Z"
   },
   {
    "duration": 18,
    "start_time": "2022-11-09T05:26:38.235Z"
   },
   {
    "duration": 50,
    "start_time": "2022-11-09T05:27:23.403Z"
   },
   {
    "duration": 3,
    "start_time": "2022-11-09T05:52:50.224Z"
   },
   {
    "duration": 4,
    "start_time": "2022-11-09T05:55:44.022Z"
   },
   {
    "duration": 8,
    "start_time": "2022-11-09T05:56:31.500Z"
   },
   {
    "duration": 16,
    "start_time": "2022-11-09T05:57:03.443Z"
   },
   {
    "duration": 9,
    "start_time": "2022-11-09T06:00:00.691Z"
   },
   {
    "duration": 14,
    "start_time": "2022-11-09T06:00:09.032Z"
   },
   {
    "duration": 11,
    "start_time": "2022-11-09T06:02:50.547Z"
   },
   {
    "duration": 19,
    "start_time": "2022-11-09T06:03:50.435Z"
   },
   {
    "duration": 602,
    "start_time": "2022-11-09T23:48:23.428Z"
   },
   {
    "duration": 18,
    "start_time": "2022-11-09T23:48:24.032Z"
   },
   {
    "duration": 12,
    "start_time": "2022-11-09T23:48:24.052Z"
   },
   {
    "duration": 416,
    "start_time": "2022-11-09T23:48:24.066Z"
   },
   {
    "duration": 13,
    "start_time": "2022-11-09T23:48:24.484Z"
   },
   {
    "duration": 11,
    "start_time": "2022-11-09T23:48:24.498Z"
   },
   {
    "duration": 9,
    "start_time": "2022-11-09T23:48:24.511Z"
   },
   {
    "duration": 8,
    "start_time": "2022-11-09T23:48:24.521Z"
   },
   {
    "duration": 5,
    "start_time": "2022-11-09T23:48:24.548Z"
   },
   {
    "duration": 13,
    "start_time": "2022-11-09T23:48:24.556Z"
   },
   {
    "duration": 7,
    "start_time": "2022-11-09T23:48:24.571Z"
   },
   {
    "duration": 7,
    "start_time": "2022-11-09T23:48:24.580Z"
   },
   {
    "duration": 16,
    "start_time": "2022-11-09T23:48:24.588Z"
   },
   {
    "duration": 189,
    "start_time": "2022-11-09T23:48:24.605Z"
   },
   {
    "duration": 128,
    "start_time": "2022-11-09T23:48:24.796Z"
   },
   {
    "duration": 27,
    "start_time": "2022-11-09T23:48:24.926Z"
   },
   {
    "duration": 4,
    "start_time": "2022-11-09T23:48:24.955Z"
   },
   {
    "duration": 14,
    "start_time": "2022-11-09T23:48:24.961Z"
   },
   {
    "duration": 8,
    "start_time": "2022-11-09T23:48:24.977Z"
   },
   {
    "duration": 23,
    "start_time": "2022-11-09T23:48:24.987Z"
   },
   {
    "duration": 156,
    "start_time": "2022-11-09T23:48:25.012Z"
   },
   {
    "duration": 266,
    "start_time": "2022-11-09T23:48:25.170Z"
   },
   {
    "duration": 146,
    "start_time": "2022-11-09T23:48:25.437Z"
   },
   {
    "duration": 154,
    "start_time": "2022-11-09T23:48:25.585Z"
   },
   {
    "duration": 143,
    "start_time": "2022-11-09T23:48:25.748Z"
   },
   {
    "duration": 159,
    "start_time": "2022-11-09T23:48:25.893Z"
   },
   {
    "duration": 18,
    "start_time": "2022-11-09T23:48:26.053Z"
   },
   {
    "duration": 8,
    "start_time": "2022-11-09T23:48:26.074Z"
   },
   {
    "duration": 103,
    "start_time": "2022-11-09T23:48:26.083Z"
   },
   {
    "duration": 12,
    "start_time": "2022-11-10T00:03:45.387Z"
   },
   {
    "duration": 14,
    "start_time": "2022-11-10T00:03:55.681Z"
   },
   {
    "duration": 13,
    "start_time": "2022-11-10T00:04:05.784Z"
   },
   {
    "duration": 23,
    "start_time": "2022-11-10T00:04:11.903Z"
   },
   {
    "duration": 772,
    "start_time": "2022-11-10T00:05:30.909Z"
   },
   {
    "duration": 25,
    "start_time": "2022-11-10T00:05:42.522Z"
   },
   {
    "duration": 22,
    "start_time": "2022-11-10T00:06:20.008Z"
   },
   {
    "duration": 722,
    "start_time": "2022-11-10T00:06:50.771Z"
   },
   {
    "duration": 718,
    "start_time": "2022-11-10T00:08:00.936Z"
   },
   {
    "duration": 151,
    "start_time": "2022-11-10T00:09:21.125Z"
   },
   {
    "duration": 263,
    "start_time": "2022-11-10T00:09:42.307Z"
   },
   {
    "duration": 975,
    "start_time": "2022-11-10T00:11:31.166Z"
   },
   {
    "duration": 1035,
    "start_time": "2022-11-10T00:11:47.046Z"
   },
   {
    "duration": 1003,
    "start_time": "2022-11-10T00:11:55.079Z"
   },
   {
    "duration": 1133,
    "start_time": "2022-11-10T00:12:07.106Z"
   },
   {
    "duration": 18,
    "start_time": "2022-11-10T00:15:13.369Z"
   },
   {
    "duration": 26,
    "start_time": "2022-11-10T00:15:14.531Z"
   },
   {
    "duration": 1087,
    "start_time": "2022-11-10T00:15:15.750Z"
   },
   {
    "duration": 1138,
    "start_time": "2022-11-10T00:16:56.694Z"
   },
   {
    "duration": 14,
    "start_time": "2022-11-10T00:22:59.077Z"
   },
   {
    "duration": 16,
    "start_time": "2022-11-10T00:23:23.204Z"
   },
   {
    "duration": 17,
    "start_time": "2022-11-10T00:24:20.207Z"
   },
   {
    "duration": 48,
    "start_time": "2022-11-10T01:34:34.902Z"
   },
   {
    "duration": 6,
    "start_time": "2022-11-10T01:34:45.445Z"
   },
   {
    "duration": 85,
    "start_time": "2022-11-10T01:45:47.056Z"
   },
   {
    "duration": 92,
    "start_time": "2022-11-10T01:46:33.804Z"
   },
   {
    "duration": 81,
    "start_time": "2022-11-10T01:46:59.734Z"
   },
   {
    "duration": 91,
    "start_time": "2022-11-10T01:47:23.021Z"
   },
   {
    "duration": 199,
    "start_time": "2022-11-10T01:48:07.332Z"
   },
   {
    "duration": 91,
    "start_time": "2022-11-10T01:48:22.783Z"
   },
   {
    "duration": 209,
    "start_time": "2022-11-10T01:49:41.526Z"
   },
   {
    "duration": 95,
    "start_time": "2022-11-10T01:52:29.966Z"
   },
   {
    "duration": 4,
    "start_time": "2022-11-10T01:52:46.668Z"
   },
   {
    "duration": 3,
    "start_time": "2022-11-10T01:52:55.833Z"
   },
   {
    "duration": 8,
    "start_time": "2022-11-10T01:53:26.017Z"
   },
   {
    "duration": 4,
    "start_time": "2022-11-10T01:53:34.322Z"
   },
   {
    "duration": 7,
    "start_time": "2022-11-10T01:53:52.820Z"
   },
   {
    "duration": 11,
    "start_time": "2022-11-10T01:55:28.761Z"
   },
   {
    "duration": 12,
    "start_time": "2022-11-10T02:13:28.690Z"
   },
   {
    "duration": 14,
    "start_time": "2022-11-10T02:17:14.309Z"
   },
   {
    "duration": 20,
    "start_time": "2022-11-10T02:18:14.666Z"
   },
   {
    "duration": 49,
    "start_time": "2022-11-10T02:18:29.775Z"
   },
   {
    "duration": 24,
    "start_time": "2022-11-10T02:18:35.633Z"
   },
   {
    "duration": 14,
    "start_time": "2022-11-10T02:18:39.795Z"
   },
   {
    "duration": 16,
    "start_time": "2022-11-10T02:19:05.365Z"
   },
   {
    "duration": 56,
    "start_time": "2022-11-10T02:21:44.319Z"
   },
   {
    "duration": 136,
    "start_time": "2022-11-10T02:21:53.009Z"
   },
   {
    "duration": 13,
    "start_time": "2022-11-10T02:22:04.538Z"
   },
   {
    "duration": 12,
    "start_time": "2022-11-10T02:22:41.261Z"
   },
   {
    "duration": 211,
    "start_time": "2022-11-10T02:26:51.408Z"
   },
   {
    "duration": 120,
    "start_time": "2022-11-10T02:27:30.216Z"
   },
   {
    "duration": 104,
    "start_time": "2022-11-10T02:27:59.223Z"
   },
   {
    "duration": 110,
    "start_time": "2022-11-10T02:28:12.089Z"
   },
   {
    "duration": 104,
    "start_time": "2022-11-10T02:28:35.672Z"
   },
   {
    "duration": 116,
    "start_time": "2022-11-10T02:29:14.350Z"
   },
   {
    "duration": 139,
    "start_time": "2022-11-10T02:29:25.325Z"
   },
   {
    "duration": 109,
    "start_time": "2022-11-10T02:29:44.811Z"
   },
   {
    "duration": 100,
    "start_time": "2022-11-10T02:30:10.030Z"
   },
   {
    "duration": 142,
    "start_time": "2022-11-10T02:30:15.236Z"
   },
   {
    "duration": 508,
    "start_time": "2022-12-16T13:47:04.025Z"
   },
   {
    "duration": 21,
    "start_time": "2022-12-16T13:47:04.535Z"
   },
   {
    "duration": 14,
    "start_time": "2022-12-16T13:47:04.557Z"
   },
   {
    "duration": 487,
    "start_time": "2022-12-16T13:47:04.573Z"
   },
   {
    "duration": 14,
    "start_time": "2022-12-16T13:47:05.062Z"
   },
   {
    "duration": 30,
    "start_time": "2022-12-16T13:47:05.078Z"
   },
   {
    "duration": 13,
    "start_time": "2022-12-16T13:47:05.110Z"
   },
   {
    "duration": 9,
    "start_time": "2022-12-16T13:47:05.125Z"
   },
   {
    "duration": 7,
    "start_time": "2022-12-16T13:47:05.136Z"
   },
   {
    "duration": 5,
    "start_time": "2022-12-16T13:47:05.146Z"
   },
   {
    "duration": 4,
    "start_time": "2022-12-16T13:47:05.152Z"
   },
   {
    "duration": 9,
    "start_time": "2022-12-16T13:47:05.158Z"
   },
   {
    "duration": 9,
    "start_time": "2022-12-16T13:47:05.168Z"
   },
   {
    "duration": 215,
    "start_time": "2022-12-16T13:47:05.178Z"
   },
   {
    "duration": 135,
    "start_time": "2022-12-16T13:47:05.395Z"
   },
   {
    "duration": 18,
    "start_time": "2022-12-16T13:47:05.532Z"
   },
   {
    "duration": 4,
    "start_time": "2022-12-16T13:47:05.552Z"
   },
   {
    "duration": 9,
    "start_time": "2022-12-16T13:47:05.558Z"
   },
   {
    "duration": 6,
    "start_time": "2022-12-16T13:47:05.569Z"
   },
   {
    "duration": 40,
    "start_time": "2022-12-16T13:47:05.577Z"
   },
   {
    "duration": 170,
    "start_time": "2022-12-16T13:47:05.619Z"
   },
   {
    "duration": 230,
    "start_time": "2022-12-16T13:47:05.791Z"
   },
   {
    "duration": 158,
    "start_time": "2022-12-16T13:47:06.023Z"
   },
   {
    "duration": 160,
    "start_time": "2022-12-16T13:47:06.183Z"
   },
   {
    "duration": 145,
    "start_time": "2022-12-16T13:47:06.345Z"
   },
   {
    "duration": 162,
    "start_time": "2022-12-16T13:47:06.492Z"
   },
   {
    "duration": 19,
    "start_time": "2022-12-16T13:47:06.655Z"
   },
   {
    "duration": 46,
    "start_time": "2022-12-16T13:47:06.677Z"
   },
   {
    "duration": 1355,
    "start_time": "2022-12-16T13:47:06.725Z"
   },
   {
    "duration": 29,
    "start_time": "2022-12-16T13:47:08.081Z"
   },
   {
    "duration": 146,
    "start_time": "2022-12-16T13:47:08.111Z"
   },
   {
    "duration": 49,
    "start_time": "2022-12-19T11:44:40.797Z"
   },
   {
    "duration": 502,
    "start_time": "2022-12-19T11:44:46.564Z"
   },
   {
    "duration": 18,
    "start_time": "2022-12-19T11:44:47.067Z"
   },
   {
    "duration": 13,
    "start_time": "2022-12-19T11:44:47.087Z"
   },
   {
    "duration": 399,
    "start_time": "2022-12-19T11:44:47.102Z"
   },
   {
    "duration": 12,
    "start_time": "2022-12-19T11:44:47.503Z"
   },
   {
    "duration": 21,
    "start_time": "2022-12-19T11:44:47.516Z"
   },
   {
    "duration": 23,
    "start_time": "2022-12-19T11:44:47.538Z"
   },
   {
    "duration": 24,
    "start_time": "2022-12-19T11:44:47.563Z"
   },
   {
    "duration": 32,
    "start_time": "2022-12-19T11:44:47.588Z"
   },
   {
    "duration": 13,
    "start_time": "2022-12-19T11:44:47.622Z"
   },
   {
    "duration": 18,
    "start_time": "2022-12-19T11:44:47.636Z"
   },
   {
    "duration": 17,
    "start_time": "2022-12-19T11:44:47.655Z"
   },
   {
    "duration": 14,
    "start_time": "2022-12-19T11:44:47.673Z"
   },
   {
    "duration": 25,
    "start_time": "2022-12-19T11:44:47.688Z"
   },
   {
    "duration": 168,
    "start_time": "2022-12-19T11:44:47.715Z"
   },
   {
    "duration": 123,
    "start_time": "2022-12-19T11:44:47.884Z"
   },
   {
    "duration": 17,
    "start_time": "2022-12-19T11:44:48.008Z"
   },
   {
    "duration": 5,
    "start_time": "2022-12-19T11:44:48.026Z"
   },
   {
    "duration": 21,
    "start_time": "2022-12-19T11:44:48.032Z"
   },
   {
    "duration": 38,
    "start_time": "2022-12-19T11:44:48.054Z"
   },
   {
    "duration": 24,
    "start_time": "2022-12-19T11:44:48.094Z"
   },
   {
    "duration": 142,
    "start_time": "2022-12-19T11:44:48.119Z"
   },
   {
    "duration": 204,
    "start_time": "2022-12-19T11:44:48.263Z"
   },
   {
    "duration": 136,
    "start_time": "2022-12-19T11:44:48.469Z"
   },
   {
    "duration": 128,
    "start_time": "2022-12-19T11:44:48.606Z"
   },
   {
    "duration": 134,
    "start_time": "2022-12-19T11:44:48.735Z"
   },
   {
    "duration": 140,
    "start_time": "2022-12-19T11:44:48.870Z"
   },
   {
    "duration": 18,
    "start_time": "2022-12-19T11:44:49.014Z"
   },
   {
    "duration": 30,
    "start_time": "2022-12-19T11:44:49.033Z"
   },
   {
    "duration": 1213,
    "start_time": "2022-12-19T11:44:49.065Z"
   },
   {
    "duration": 25,
    "start_time": "2022-12-19T11:44:50.280Z"
   },
   {
    "duration": 129,
    "start_time": "2022-12-19T11:44:50.307Z"
   },
   {
    "duration": 11,
    "start_time": "2022-12-19T11:46:25.094Z"
   },
   {
    "duration": 444,
    "start_time": "2022-12-19T11:46:32.991Z"
   },
   {
    "duration": 19,
    "start_time": "2022-12-19T11:46:33.437Z"
   },
   {
    "duration": 27,
    "start_time": "2022-12-19T11:46:33.457Z"
   },
   {
    "duration": 258,
    "start_time": "2022-12-19T11:46:33.486Z"
   },
   {
    "duration": 12,
    "start_time": "2022-12-19T11:46:33.745Z"
   },
   {
    "duration": 38,
    "start_time": "2022-12-19T11:46:33.759Z"
   },
   {
    "duration": 30,
    "start_time": "2022-12-19T11:46:33.798Z"
   },
   {
    "duration": 12,
    "start_time": "2022-12-19T11:46:33.830Z"
   },
   {
    "duration": 25,
    "start_time": "2022-12-19T11:46:33.844Z"
   },
   {
    "duration": 29,
    "start_time": "2022-12-19T11:46:33.872Z"
   },
   {
    "duration": 22,
    "start_time": "2022-12-19T11:46:33.903Z"
   },
   {
    "duration": 21,
    "start_time": "2022-12-19T11:46:33.927Z"
   },
   {
    "duration": 14,
    "start_time": "2022-12-19T11:46:33.950Z"
   },
   {
    "duration": 18,
    "start_time": "2022-12-19T11:46:33.965Z"
   },
   {
    "duration": 18,
    "start_time": "2022-12-19T11:46:33.984Z"
   },
   {
    "duration": 192,
    "start_time": "2022-12-19T11:46:34.003Z"
   },
   {
    "duration": 125,
    "start_time": "2022-12-19T11:46:34.197Z"
   },
   {
    "duration": 18,
    "start_time": "2022-12-19T11:46:34.324Z"
   },
   {
    "duration": 18,
    "start_time": "2022-12-19T11:46:34.344Z"
   },
   {
    "duration": 44,
    "start_time": "2022-12-19T11:46:34.363Z"
   },
   {
    "duration": 14,
    "start_time": "2022-12-19T11:46:34.409Z"
   },
   {
    "duration": 31,
    "start_time": "2022-12-19T11:46:34.425Z"
   },
   {
    "duration": 135,
    "start_time": "2022-12-19T11:46:34.457Z"
   },
   {
    "duration": 188,
    "start_time": "2022-12-19T11:46:34.597Z"
   },
   {
    "duration": 151,
    "start_time": "2022-12-19T11:46:34.787Z"
   },
   {
    "duration": 185,
    "start_time": "2022-12-19T11:46:34.940Z"
   },
   {
    "duration": 162,
    "start_time": "2022-12-19T11:46:35.127Z"
   },
   {
    "duration": 126,
    "start_time": "2022-12-19T11:46:35.297Z"
   },
   {
    "duration": 16,
    "start_time": "2022-12-19T11:46:35.424Z"
   },
   {
    "duration": 27,
    "start_time": "2022-12-19T11:46:35.441Z"
   },
   {
    "duration": 1125,
    "start_time": "2022-12-19T11:46:35.469Z"
   },
   {
    "duration": 24,
    "start_time": "2022-12-19T11:46:36.596Z"
   },
   {
    "duration": 128,
    "start_time": "2022-12-19T11:46:36.622Z"
   },
   {
    "duration": 5,
    "start_time": "2022-12-19T11:46:56.846Z"
   },
   {
    "duration": 17,
    "start_time": "2022-12-19T11:47:10.038Z"
   },
   {
    "duration": 423,
    "start_time": "2022-12-19T11:47:14.942Z"
   },
   {
    "duration": 20,
    "start_time": "2022-12-19T11:47:15.367Z"
   },
   {
    "duration": 15,
    "start_time": "2022-12-19T11:47:15.389Z"
   },
   {
    "duration": 284,
    "start_time": "2022-12-19T11:47:15.405Z"
   },
   {
    "duration": 15,
    "start_time": "2022-12-19T11:47:15.699Z"
   },
   {
    "duration": 13,
    "start_time": "2022-12-19T11:47:15.715Z"
   },
   {
    "duration": 17,
    "start_time": "2022-12-19T11:47:15.730Z"
   },
   {
    "duration": 10,
    "start_time": "2022-12-19T11:47:15.748Z"
   },
   {
    "duration": 8,
    "start_time": "2022-12-19T11:47:15.759Z"
   },
   {
    "duration": 41,
    "start_time": "2022-12-19T11:47:15.769Z"
   },
   {
    "duration": 6,
    "start_time": "2022-12-19T11:47:15.813Z"
   },
   {
    "duration": 11,
    "start_time": "2022-12-19T11:47:15.821Z"
   },
   {
    "duration": 10,
    "start_time": "2022-12-19T11:47:15.834Z"
   },
   {
    "duration": 7,
    "start_time": "2022-12-19T11:47:15.848Z"
   },
   {
    "duration": 8,
    "start_time": "2022-12-19T11:47:15.857Z"
   },
   {
    "duration": 223,
    "start_time": "2022-12-19T11:47:15.866Z"
   },
   {
    "duration": 121,
    "start_time": "2022-12-19T11:47:16.091Z"
   },
   {
    "duration": 25,
    "start_time": "2022-12-19T11:47:16.215Z"
   },
   {
    "duration": 6,
    "start_time": "2022-12-19T11:47:16.242Z"
   },
   {
    "duration": 10,
    "start_time": "2022-12-19T11:47:16.249Z"
   },
   {
    "duration": 5,
    "start_time": "2022-12-19T11:47:16.260Z"
   },
   {
    "duration": 44,
    "start_time": "2022-12-19T11:47:16.267Z"
   },
   {
    "duration": 153,
    "start_time": "2022-12-19T11:47:16.313Z"
   },
   {
    "duration": 218,
    "start_time": "2022-12-19T11:47:16.468Z"
   },
   {
    "duration": 189,
    "start_time": "2022-12-19T11:47:16.687Z"
   },
   {
    "duration": 148,
    "start_time": "2022-12-19T11:47:16.878Z"
   },
   {
    "duration": 162,
    "start_time": "2022-12-19T11:47:17.027Z"
   },
   {
    "duration": 154,
    "start_time": "2022-12-19T11:47:17.190Z"
   },
   {
    "duration": 17,
    "start_time": "2022-12-19T11:47:17.346Z"
   },
   {
    "duration": 54,
    "start_time": "2022-12-19T11:47:17.365Z"
   },
   {
    "duration": 1281,
    "start_time": "2022-12-19T11:47:17.421Z"
   },
   {
    "duration": 28,
    "start_time": "2022-12-19T11:47:18.704Z"
   },
   {
    "duration": 131,
    "start_time": "2022-12-19T11:47:18.734Z"
   },
   {
    "duration": 65,
    "start_time": "2022-12-19T13:56:09.627Z"
   },
   {
    "duration": 605,
    "start_time": "2022-12-19T13:56:15.625Z"
   },
   {
    "duration": 21,
    "start_time": "2022-12-19T13:56:16.231Z"
   },
   {
    "duration": 14,
    "start_time": "2022-12-19T13:56:16.253Z"
   },
   {
    "duration": 460,
    "start_time": "2022-12-19T13:56:16.269Z"
   },
   {
    "duration": 15,
    "start_time": "2022-12-19T13:56:16.730Z"
   },
   {
    "duration": 8,
    "start_time": "2022-12-19T13:56:16.747Z"
   },
   {
    "duration": 8,
    "start_time": "2022-12-19T13:56:16.757Z"
   },
   {
    "duration": 10,
    "start_time": "2022-12-19T13:56:16.767Z"
   },
   {
    "duration": 10,
    "start_time": "2022-12-19T13:56:16.779Z"
   },
   {
    "duration": 49,
    "start_time": "2022-12-19T13:56:16.791Z"
   },
   {
    "duration": 25,
    "start_time": "2022-12-19T13:56:16.842Z"
   },
   {
    "duration": 9,
    "start_time": "2022-12-19T13:56:16.869Z"
   },
   {
    "duration": 6,
    "start_time": "2022-12-19T13:56:16.881Z"
   },
   {
    "duration": 22,
    "start_time": "2022-12-19T13:56:16.889Z"
   },
   {
    "duration": 12,
    "start_time": "2022-12-19T13:56:16.913Z"
   },
   {
    "duration": 8,
    "start_time": "2022-12-19T13:56:16.927Z"
   },
   {
    "duration": 190,
    "start_time": "2022-12-19T13:56:16.936Z"
   },
   {
    "duration": 133,
    "start_time": "2022-12-19T13:56:17.129Z"
   },
   {
    "duration": 18,
    "start_time": "2022-12-19T13:56:17.264Z"
   },
   {
    "duration": 5,
    "start_time": "2022-12-19T13:56:17.284Z"
   },
   {
    "duration": 9,
    "start_time": "2022-12-19T13:56:17.290Z"
   },
   {
    "duration": 25,
    "start_time": "2022-12-19T13:56:17.300Z"
   },
   {
    "duration": 19,
    "start_time": "2022-12-19T13:56:17.327Z"
   },
   {
    "duration": 196,
    "start_time": "2022-12-19T13:56:17.348Z"
   },
   {
    "duration": 230,
    "start_time": "2022-12-19T13:56:17.545Z"
   },
   {
    "duration": 162,
    "start_time": "2022-12-19T13:56:17.777Z"
   },
   {
    "duration": 154,
    "start_time": "2022-12-19T13:56:17.941Z"
   },
   {
    "duration": 154,
    "start_time": "2022-12-19T13:56:18.098Z"
   },
   {
    "duration": 146,
    "start_time": "2022-12-19T13:56:18.253Z"
   },
   {
    "duration": 29,
    "start_time": "2022-12-19T13:56:18.400Z"
   },
   {
    "duration": 26,
    "start_time": "2022-12-19T13:56:18.431Z"
   },
   {
    "duration": 1349,
    "start_time": "2022-12-19T13:56:18.459Z"
   },
   {
    "duration": 28,
    "start_time": "2022-12-19T13:56:19.810Z"
   },
   {
    "duration": 143,
    "start_time": "2022-12-19T13:56:19.841Z"
   },
   {
    "duration": 249,
    "start_time": "2022-12-19T13:57:38.749Z"
   },
   {
    "duration": 744,
    "start_time": "2022-12-19T15:30:38.732Z"
   },
   {
    "duration": 467,
    "start_time": "2022-12-19T15:30:48.526Z"
   },
   {
    "duration": 20,
    "start_time": "2022-12-19T15:30:48.996Z"
   },
   {
    "duration": 37,
    "start_time": "2022-12-19T15:30:49.018Z"
   },
   {
    "duration": 276,
    "start_time": "2022-12-19T15:30:49.058Z"
   },
   {
    "duration": 13,
    "start_time": "2022-12-19T15:30:49.336Z"
   },
   {
    "duration": 8,
    "start_time": "2022-12-19T15:30:49.351Z"
   },
   {
    "duration": 12,
    "start_time": "2022-12-19T15:30:49.360Z"
   },
   {
    "duration": 5,
    "start_time": "2022-12-19T15:30:49.373Z"
   },
   {
    "duration": 8,
    "start_time": "2022-12-19T15:30:49.380Z"
   },
   {
    "duration": 39,
    "start_time": "2022-12-19T15:30:49.390Z"
   },
   {
    "duration": 5,
    "start_time": "2022-12-19T15:30:49.430Z"
   },
   {
    "duration": 12,
    "start_time": "2022-12-19T15:30:49.436Z"
   },
   {
    "duration": 5,
    "start_time": "2022-12-19T15:30:49.449Z"
   },
   {
    "duration": 6,
    "start_time": "2022-12-19T15:30:49.456Z"
   },
   {
    "duration": 13,
    "start_time": "2022-12-19T15:30:49.463Z"
   },
   {
    "duration": 169,
    "start_time": "2022-12-19T15:30:49.477Z"
   },
   {
    "duration": 118,
    "start_time": "2022-12-19T15:30:49.648Z"
   },
   {
    "duration": 16,
    "start_time": "2022-12-19T15:30:49.768Z"
   },
   {
    "duration": 4,
    "start_time": "2022-12-19T15:30:49.785Z"
   },
   {
    "duration": 26,
    "start_time": "2022-12-19T15:30:49.790Z"
   },
   {
    "duration": 16,
    "start_time": "2022-12-19T15:30:49.821Z"
   },
   {
    "duration": 34,
    "start_time": "2022-12-19T15:30:49.838Z"
   },
   {
    "duration": 149,
    "start_time": "2022-12-19T15:30:49.874Z"
   },
   {
    "duration": 201,
    "start_time": "2022-12-19T15:30:50.025Z"
   },
   {
    "duration": 148,
    "start_time": "2022-12-19T15:30:50.227Z"
   },
   {
    "duration": 140,
    "start_time": "2022-12-19T15:30:50.377Z"
   },
   {
    "duration": 133,
    "start_time": "2022-12-19T15:30:50.518Z"
   },
   {
    "duration": 140,
    "start_time": "2022-12-19T15:30:50.655Z"
   },
   {
    "duration": 25,
    "start_time": "2022-12-19T15:30:50.796Z"
   },
   {
    "duration": 46,
    "start_time": "2022-12-19T15:30:50.822Z"
   },
   {
    "duration": 1115,
    "start_time": "2022-12-19T15:30:50.869Z"
   },
   {
    "duration": 28,
    "start_time": "2022-12-19T15:30:51.986Z"
   },
   {
    "duration": 117,
    "start_time": "2022-12-19T15:30:52.016Z"
   },
   {
    "duration": 17,
    "start_time": "2022-12-19T15:48:45.769Z"
   },
   {
    "duration": 23,
    "start_time": "2022-12-19T15:53:16.726Z"
   },
   {
    "duration": 75,
    "start_time": "2022-12-19T16:22:20.607Z"
   },
   {
    "duration": 48,
    "start_time": "2022-12-19T16:22:29.098Z"
   },
   {
    "duration": 202,
    "start_time": "2022-12-19T16:23:28.927Z"
   },
   {
    "duration": 419,
    "start_time": "2022-12-19T16:23:37.232Z"
   },
   {
    "duration": 8,
    "start_time": "2022-12-19T16:29:21.101Z"
   },
   {
    "duration": 15,
    "start_time": "2022-12-19T16:29:38.543Z"
   },
   {
    "duration": 14,
    "start_time": "2022-12-19T16:35:20.176Z"
   },
   {
    "duration": 61,
    "start_time": "2022-12-19T16:40:04.355Z"
   },
   {
    "duration": 70,
    "start_time": "2022-12-19T16:40:25.336Z"
   },
   {
    "duration": 42,
    "start_time": "2022-12-19T16:40:43.594Z"
   },
   {
    "duration": 48,
    "start_time": "2022-12-19T16:41:01.619Z"
   },
   {
    "duration": 15,
    "start_time": "2022-12-19T16:41:50.918Z"
   },
   {
    "duration": 23,
    "start_time": "2022-12-19T16:42:43.091Z"
   },
   {
    "duration": 33,
    "start_time": "2022-12-19T16:43:34.996Z"
   },
   {
    "duration": 11,
    "start_time": "2022-12-19T16:46:02.233Z"
   },
   {
    "duration": 114,
    "start_time": "2022-12-19T16:49:06.952Z"
   },
   {
    "duration": 123,
    "start_time": "2022-12-19T16:50:59.423Z"
   },
   {
    "duration": 14,
    "start_time": "2022-12-19T16:51:23.350Z"
   },
   {
    "duration": 44,
    "start_time": "2022-12-19T16:51:58.254Z"
   },
   {
    "duration": 419,
    "start_time": "2022-12-19T16:52:18.038Z"
   },
   {
    "duration": 47,
    "start_time": "2022-12-19T16:52:26.834Z"
   },
   {
    "duration": 55,
    "start_time": "2022-12-19T16:53:20.368Z"
   },
   {
    "duration": 113,
    "start_time": "2022-12-19T16:53:37.873Z"
   },
   {
    "duration": 12,
    "start_time": "2022-12-19T16:56:45.003Z"
   },
   {
    "duration": 47,
    "start_time": "2022-12-19T16:56:52.592Z"
   },
   {
    "duration": 93,
    "start_time": "2022-12-19T16:59:51.499Z"
   },
   {
    "duration": 51,
    "start_time": "2022-12-19T17:00:05.405Z"
   },
   {
    "duration": 37,
    "start_time": "2022-12-19T17:00:59.416Z"
   },
   {
    "duration": 45,
    "start_time": "2022-12-19T17:03:45.796Z"
   },
   {
    "duration": 25,
    "start_time": "2022-12-19T17:04:05.430Z"
   },
   {
    "duration": 37,
    "start_time": "2022-12-19T17:04:23.037Z"
   },
   {
    "duration": 6,
    "start_time": "2022-12-19T17:05:00.009Z"
   },
   {
    "duration": 28,
    "start_time": "2022-12-19T17:05:21.592Z"
   },
   {
    "duration": 221,
    "start_time": "2022-12-19T17:05:37.017Z"
   },
   {
    "duration": 227,
    "start_time": "2022-12-19T17:05:45.869Z"
   },
   {
    "duration": 245,
    "start_time": "2022-12-19T17:06:30.659Z"
   },
   {
    "duration": 218,
    "start_time": "2022-12-19T17:06:40.909Z"
   },
   {
    "duration": 223,
    "start_time": "2022-12-19T17:09:38.420Z"
   },
   {
    "duration": 295,
    "start_time": "2022-12-19T17:12:07.724Z"
   },
   {
    "duration": 222,
    "start_time": "2022-12-19T17:12:13.712Z"
   },
   {
    "duration": 229,
    "start_time": "2022-12-19T17:12:22.135Z"
   },
   {
    "duration": 234,
    "start_time": "2022-12-19T17:14:52.789Z"
   },
   {
    "duration": 238,
    "start_time": "2022-12-19T17:14:57.389Z"
   },
   {
    "duration": 254,
    "start_time": "2022-12-19T17:15:03.664Z"
   },
   {
    "duration": 300,
    "start_time": "2022-12-19T17:15:09.890Z"
   },
   {
    "duration": 250,
    "start_time": "2022-12-19T17:15:22.012Z"
   },
   {
    "duration": 226,
    "start_time": "2022-12-19T17:18:53.458Z"
   },
   {
    "duration": 210,
    "start_time": "2022-12-19T17:18:59.168Z"
   },
   {
    "duration": 693,
    "start_time": "2022-12-20T13:14:03.662Z"
   },
   {
    "duration": 703,
    "start_time": "2022-12-20T13:14:09.887Z"
   },
   {
    "duration": 20,
    "start_time": "2022-12-20T13:14:10.592Z"
   },
   {
    "duration": 22,
    "start_time": "2022-12-20T13:14:10.614Z"
   },
   {
    "duration": 291,
    "start_time": "2022-12-20T13:14:10.638Z"
   },
   {
    "duration": 18,
    "start_time": "2022-12-20T13:14:10.931Z"
   },
   {
    "duration": 24,
    "start_time": "2022-12-20T13:14:10.951Z"
   },
   {
    "duration": 19,
    "start_time": "2022-12-20T13:14:10.977Z"
   },
   {
    "duration": 43,
    "start_time": "2022-12-20T13:14:10.998Z"
   },
   {
    "duration": 30,
    "start_time": "2022-12-20T13:14:11.042Z"
   },
   {
    "duration": 47,
    "start_time": "2022-12-20T13:14:11.074Z"
   },
   {
    "duration": 14,
    "start_time": "2022-12-20T13:14:11.122Z"
   },
   {
    "duration": 35,
    "start_time": "2022-12-20T13:14:11.138Z"
   },
   {
    "duration": 18,
    "start_time": "2022-12-20T13:14:11.174Z"
   },
   {
    "duration": 24,
    "start_time": "2022-12-20T13:14:11.194Z"
   },
   {
    "duration": 28,
    "start_time": "2022-12-20T13:14:11.220Z"
   },
   {
    "duration": 201,
    "start_time": "2022-12-20T13:14:11.250Z"
   },
   {
    "duration": 125,
    "start_time": "2022-12-20T13:14:11.453Z"
   },
   {
    "duration": 18,
    "start_time": "2022-12-20T13:14:11.580Z"
   },
   {
    "duration": 16,
    "start_time": "2022-12-20T13:14:11.600Z"
   },
   {
    "duration": 27,
    "start_time": "2022-12-20T13:14:11.618Z"
   },
   {
    "duration": 22,
    "start_time": "2022-12-20T13:14:11.647Z"
   },
   {
    "duration": 39,
    "start_time": "2022-12-20T13:14:11.671Z"
   },
   {
    "duration": 153,
    "start_time": "2022-12-20T13:14:11.712Z"
   },
   {
    "duration": 209,
    "start_time": "2022-12-20T13:14:11.867Z"
   },
   {
    "duration": 155,
    "start_time": "2022-12-20T13:14:12.078Z"
   },
   {
    "duration": 139,
    "start_time": "2022-12-20T13:14:12.235Z"
   },
   {
    "duration": 162,
    "start_time": "2022-12-20T13:14:12.376Z"
   },
   {
    "duration": 159,
    "start_time": "2022-12-20T13:14:12.542Z"
   },
   {
    "duration": 27,
    "start_time": "2022-12-20T13:14:12.702Z"
   },
   {
    "duration": 52,
    "start_time": "2022-12-20T13:14:12.731Z"
   },
   {
    "duration": 1140,
    "start_time": "2022-12-20T13:14:12.785Z"
   },
   {
    "duration": 24,
    "start_time": "2022-12-20T13:14:13.927Z"
   },
   {
    "duration": 122,
    "start_time": "2022-12-20T13:14:13.952Z"
   },
   {
    "duration": 7,
    "start_time": "2022-12-20T13:14:14.076Z"
   },
   {
    "duration": 302,
    "start_time": "2022-12-20T13:14:14.084Z"
   },
   {
    "duration": 44,
    "start_time": "2022-12-20T14:23:03.463Z"
   },
   {
    "duration": 594,
    "start_time": "2022-12-20T14:23:09.417Z"
   },
   {
    "duration": 25,
    "start_time": "2022-12-20T14:23:10.013Z"
   },
   {
    "duration": 14,
    "start_time": "2022-12-20T14:23:10.040Z"
   },
   {
    "duration": 343,
    "start_time": "2022-12-20T14:23:10.056Z"
   },
   {
    "duration": 16,
    "start_time": "2022-12-20T14:23:10.402Z"
   },
   {
    "duration": 29,
    "start_time": "2022-12-20T14:23:10.420Z"
   },
   {
    "duration": 25,
    "start_time": "2022-12-20T14:23:10.451Z"
   },
   {
    "duration": 26,
    "start_time": "2022-12-20T14:23:10.478Z"
   },
   {
    "duration": 25,
    "start_time": "2022-12-20T14:23:10.506Z"
   },
   {
    "duration": 36,
    "start_time": "2022-12-20T14:23:10.532Z"
   },
   {
    "duration": 7,
    "start_time": "2022-12-20T14:23:10.569Z"
   },
   {
    "duration": 22,
    "start_time": "2022-12-20T14:23:10.577Z"
   },
   {
    "duration": 27,
    "start_time": "2022-12-20T14:23:10.600Z"
   },
   {
    "duration": 24,
    "start_time": "2022-12-20T14:23:10.629Z"
   },
   {
    "duration": 26,
    "start_time": "2022-12-20T14:23:10.655Z"
   },
   {
    "duration": 196,
    "start_time": "2022-12-20T14:23:10.683Z"
   },
   {
    "duration": 116,
    "start_time": "2022-12-20T14:23:10.880Z"
   },
   {
    "duration": 26,
    "start_time": "2022-12-20T14:23:10.998Z"
   },
   {
    "duration": 4,
    "start_time": "2022-12-20T14:23:11.026Z"
   },
   {
    "duration": 17,
    "start_time": "2022-12-20T14:23:11.031Z"
   },
   {
    "duration": 19,
    "start_time": "2022-12-20T14:23:11.049Z"
   },
   {
    "duration": 49,
    "start_time": "2022-12-20T14:23:11.069Z"
   },
   {
    "duration": 152,
    "start_time": "2022-12-20T14:23:11.120Z"
   },
   {
    "duration": 196,
    "start_time": "2022-12-20T14:23:11.274Z"
   },
   {
    "duration": 138,
    "start_time": "2022-12-20T14:23:11.471Z"
   },
   {
    "duration": 129,
    "start_time": "2022-12-20T14:23:11.612Z"
   },
   {
    "duration": 125,
    "start_time": "2022-12-20T14:23:11.743Z"
   },
   {
    "duration": 137,
    "start_time": "2022-12-20T14:23:11.869Z"
   },
   {
    "duration": 15,
    "start_time": "2022-12-20T14:23:12.013Z"
   },
   {
    "duration": 27,
    "start_time": "2022-12-20T14:23:12.030Z"
   },
   {
    "duration": 1103,
    "start_time": "2022-12-20T14:23:12.058Z"
   },
   {
    "duration": 7,
    "start_time": "2022-12-20T14:23:13.163Z"
   },
   {
    "duration": 324,
    "start_time": "2022-12-20T14:23:13.171Z"
   },
   {
    "duration": 41,
    "start_time": "2022-12-20T14:23:21.418Z"
   },
   {
    "duration": 7,
    "start_time": "2022-12-20T14:24:17.182Z"
   },
   {
    "duration": 572,
    "start_time": "2022-12-20T14:24:23.901Z"
   },
   {
    "duration": 18,
    "start_time": "2022-12-20T14:24:24.475Z"
   },
   {
    "duration": 12,
    "start_time": "2022-12-20T14:24:24.495Z"
   },
   {
    "duration": 269,
    "start_time": "2022-12-20T14:24:24.508Z"
   },
   {
    "duration": 13,
    "start_time": "2022-12-20T14:24:24.779Z"
   },
   {
    "duration": 10,
    "start_time": "2022-12-20T14:24:24.793Z"
   },
   {
    "duration": 15,
    "start_time": "2022-12-20T14:24:24.804Z"
   },
   {
    "duration": 15,
    "start_time": "2022-12-20T14:24:24.820Z"
   },
   {
    "duration": 8,
    "start_time": "2022-12-20T14:24:24.837Z"
   },
   {
    "duration": 17,
    "start_time": "2022-12-20T14:24:24.846Z"
   },
   {
    "duration": 5,
    "start_time": "2022-12-20T14:24:24.864Z"
   },
   {
    "duration": 6,
    "start_time": "2022-12-20T14:24:24.870Z"
   },
   {
    "duration": 7,
    "start_time": "2022-12-20T14:24:24.877Z"
   },
   {
    "duration": 4,
    "start_time": "2022-12-20T14:24:24.886Z"
   },
   {
    "duration": 24,
    "start_time": "2022-12-20T14:24:24.891Z"
   },
   {
    "duration": 185,
    "start_time": "2022-12-20T14:24:24.916Z"
   },
   {
    "duration": 109,
    "start_time": "2022-12-20T14:24:25.103Z"
   },
   {
    "duration": 16,
    "start_time": "2022-12-20T14:24:25.214Z"
   },
   {
    "duration": 5,
    "start_time": "2022-12-20T14:24:25.231Z"
   },
   {
    "duration": 9,
    "start_time": "2022-12-20T14:24:25.237Z"
   },
   {
    "duration": 4,
    "start_time": "2022-12-20T14:24:25.248Z"
   },
   {
    "duration": 18,
    "start_time": "2022-12-20T14:24:25.253Z"
   },
   {
    "duration": 158,
    "start_time": "2022-12-20T14:24:25.273Z"
   },
   {
    "duration": 201,
    "start_time": "2022-12-20T14:24:25.433Z"
   },
   {
    "duration": 142,
    "start_time": "2022-12-20T14:24:25.636Z"
   },
   {
    "duration": 134,
    "start_time": "2022-12-20T14:24:25.779Z"
   },
   {
    "duration": 135,
    "start_time": "2022-12-20T14:24:25.914Z"
   },
   {
    "duration": 135,
    "start_time": "2022-12-20T14:24:26.050Z"
   },
   {
    "duration": 16,
    "start_time": "2022-12-20T14:24:26.187Z"
   },
   {
    "duration": 22,
    "start_time": "2022-12-20T14:24:26.213Z"
   },
   {
    "duration": 1080,
    "start_time": "2022-12-20T14:24:26.237Z"
   },
   {
    "duration": 6,
    "start_time": "2022-12-20T14:24:27.319Z"
   },
   {
    "duration": 297,
    "start_time": "2022-12-20T14:24:27.326Z"
   },
   {
    "duration": 263,
    "start_time": "2022-12-20T14:24:27.624Z"
   },
   {
    "duration": 258,
    "start_time": "2022-12-20T14:24:45.704Z"
   },
   {
    "duration": 23,
    "start_time": "2022-12-20T14:34:45.899Z"
   },
   {
    "duration": 64,
    "start_time": "2022-12-20T14:38:10.673Z"
   },
   {
    "duration": 425,
    "start_time": "2022-12-20T14:38:20.319Z"
   },
   {
    "duration": 18,
    "start_time": "2022-12-20T14:38:20.746Z"
   },
   {
    "duration": 13,
    "start_time": "2022-12-20T14:38:20.766Z"
   },
   {
    "duration": 272,
    "start_time": "2022-12-20T14:38:20.781Z"
   },
   {
    "duration": 13,
    "start_time": "2022-12-20T14:38:21.054Z"
   },
   {
    "duration": 20,
    "start_time": "2022-12-20T14:38:21.068Z"
   },
   {
    "duration": 30,
    "start_time": "2022-12-20T14:38:21.089Z"
   },
   {
    "duration": 24,
    "start_time": "2022-12-20T14:38:21.121Z"
   },
   {
    "duration": 26,
    "start_time": "2022-12-20T14:38:21.146Z"
   },
   {
    "duration": 33,
    "start_time": "2022-12-20T14:38:21.174Z"
   },
   {
    "duration": 25,
    "start_time": "2022-12-20T14:38:21.209Z"
   },
   {
    "duration": 26,
    "start_time": "2022-12-20T14:38:21.236Z"
   },
   {
    "duration": 17,
    "start_time": "2022-12-20T14:38:21.263Z"
   },
   {
    "duration": 39,
    "start_time": "2022-12-20T14:38:21.282Z"
   },
   {
    "duration": 14,
    "start_time": "2022-12-20T14:38:21.322Z"
   },
   {
    "duration": 198,
    "start_time": "2022-12-20T14:38:21.337Z"
   },
   {
    "duration": 115,
    "start_time": "2022-12-20T14:38:21.537Z"
   },
   {
    "duration": 17,
    "start_time": "2022-12-20T14:38:21.654Z"
   },
   {
    "duration": 4,
    "start_time": "2022-12-20T14:38:21.673Z"
   },
   {
    "duration": 14,
    "start_time": "2022-12-20T14:38:21.678Z"
   },
   {
    "duration": 21,
    "start_time": "2022-12-20T14:38:21.693Z"
   },
   {
    "duration": 18,
    "start_time": "2022-12-20T14:38:21.716Z"
   },
   {
    "duration": 153,
    "start_time": "2022-12-20T14:38:21.735Z"
   },
   {
    "duration": 210,
    "start_time": "2022-12-20T14:38:21.890Z"
   },
   {
    "duration": 135,
    "start_time": "2022-12-20T14:38:22.103Z"
   },
   {
    "duration": 140,
    "start_time": "2022-12-20T14:38:22.239Z"
   },
   {
    "duration": 141,
    "start_time": "2022-12-20T14:38:22.381Z"
   },
   {
    "duration": 136,
    "start_time": "2022-12-20T14:38:22.525Z"
   },
   {
    "duration": 15,
    "start_time": "2022-12-20T14:38:22.662Z"
   },
   {
    "duration": 35,
    "start_time": "2022-12-20T14:38:22.679Z"
   },
   {
    "duration": 1162,
    "start_time": "2022-12-20T14:38:22.715Z"
   },
   {
    "duration": 10,
    "start_time": "2022-12-20T14:38:23.879Z"
   },
   {
    "duration": 311,
    "start_time": "2022-12-20T14:38:23.891Z"
   },
   {
    "duration": 18,
    "start_time": "2022-12-20T14:38:24.205Z"
   },
   {
    "duration": 760,
    "start_time": "2022-12-20T14:38:24.225Z"
   },
   {
    "duration": 710,
    "start_time": "2022-12-20T14:38:31.186Z"
   },
   {
    "duration": 102,
    "start_time": "2022-12-20T14:40:20.236Z"
   },
   {
    "duration": 17,
    "start_time": "2022-12-20T14:40:38.238Z"
   },
   {
    "duration": 827,
    "start_time": "2022-12-20T14:40:44.700Z"
   },
   {
    "duration": 385,
    "start_time": "2022-12-20T14:40:51.457Z"
   },
   {
    "duration": 21,
    "start_time": "2022-12-20T14:40:51.844Z"
   },
   {
    "duration": 21,
    "start_time": "2022-12-20T14:40:51.866Z"
   },
   {
    "duration": 280,
    "start_time": "2022-12-20T14:40:51.888Z"
   },
   {
    "duration": 13,
    "start_time": "2022-12-20T14:40:52.170Z"
   },
   {
    "duration": 17,
    "start_time": "2022-12-20T14:40:52.184Z"
   },
   {
    "duration": 41,
    "start_time": "2022-12-20T14:40:52.203Z"
   },
   {
    "duration": 14,
    "start_time": "2022-12-20T14:40:52.246Z"
   },
   {
    "duration": 23,
    "start_time": "2022-12-20T14:40:52.262Z"
   },
   {
    "duration": 34,
    "start_time": "2022-12-20T14:40:52.287Z"
   },
   {
    "duration": 14,
    "start_time": "2022-12-20T14:40:52.323Z"
   },
   {
    "duration": 40,
    "start_time": "2022-12-20T14:40:52.338Z"
   },
   {
    "duration": 25,
    "start_time": "2022-12-20T14:40:52.380Z"
   },
   {
    "duration": 54,
    "start_time": "2022-12-20T14:40:52.408Z"
   },
   {
    "duration": 51,
    "start_time": "2022-12-20T14:40:52.463Z"
   },
   {
    "duration": 183,
    "start_time": "2022-12-20T14:40:52.516Z"
   },
   {
    "duration": 105,
    "start_time": "2022-12-20T14:40:52.700Z"
   },
   {
    "duration": 16,
    "start_time": "2022-12-20T14:40:52.812Z"
   },
   {
    "duration": 15,
    "start_time": "2022-12-20T14:40:52.830Z"
   },
   {
    "duration": 40,
    "start_time": "2022-12-20T14:40:52.847Z"
   },
   {
    "duration": 37,
    "start_time": "2022-12-20T14:40:52.889Z"
   },
   {
    "duration": 63,
    "start_time": "2022-12-20T14:40:52.928Z"
   },
   {
    "duration": 128,
    "start_time": "2022-12-20T14:40:52.992Z"
   },
   {
    "duration": 194,
    "start_time": "2022-12-20T14:40:53.122Z"
   },
   {
    "duration": 136,
    "start_time": "2022-12-20T14:40:53.318Z"
   },
   {
    "duration": 148,
    "start_time": "2022-12-20T14:40:53.456Z"
   },
   {
    "duration": 140,
    "start_time": "2022-12-20T14:40:53.606Z"
   },
   {
    "duration": 142,
    "start_time": "2022-12-20T14:40:53.748Z"
   },
   {
    "duration": 24,
    "start_time": "2022-12-20T14:40:53.892Z"
   },
   {
    "duration": 23,
    "start_time": "2022-12-20T14:40:53.918Z"
   },
   {
    "duration": 1142,
    "start_time": "2022-12-20T14:40:53.943Z"
   },
   {
    "duration": 7,
    "start_time": "2022-12-20T14:40:55.087Z"
   },
   {
    "duration": 302,
    "start_time": "2022-12-20T14:40:55.095Z"
   },
   {
    "duration": 22,
    "start_time": "2022-12-20T14:40:55.398Z"
   },
   {
    "duration": 78,
    "start_time": "2022-12-20T14:40:55.422Z"
   },
   {
    "duration": 543,
    "start_time": "2022-12-20T14:41:06.329Z"
   },
   {
    "duration": 384,
    "start_time": "2022-12-20T14:41:12.962Z"
   },
   {
    "duration": 18,
    "start_time": "2022-12-20T14:41:13.348Z"
   },
   {
    "duration": 40,
    "start_time": "2022-12-20T14:41:13.367Z"
   },
   {
    "duration": 262,
    "start_time": "2022-12-20T14:41:13.410Z"
   },
   {
    "duration": 13,
    "start_time": "2022-12-20T14:41:13.673Z"
   },
   {
    "duration": 28,
    "start_time": "2022-12-20T14:41:13.687Z"
   },
   {
    "duration": 40,
    "start_time": "2022-12-20T14:41:13.716Z"
   },
   {
    "duration": 23,
    "start_time": "2022-12-20T14:41:13.758Z"
   },
   {
    "duration": 35,
    "start_time": "2022-12-20T14:41:13.783Z"
   },
   {
    "duration": 26,
    "start_time": "2022-12-20T14:41:13.822Z"
   },
   {
    "duration": 30,
    "start_time": "2022-12-20T14:41:13.850Z"
   },
   {
    "duration": 47,
    "start_time": "2022-12-20T14:41:13.882Z"
   },
   {
    "duration": 23,
    "start_time": "2022-12-20T14:41:13.931Z"
   },
   {
    "duration": 27,
    "start_time": "2022-12-20T14:41:13.956Z"
   },
   {
    "duration": 15,
    "start_time": "2022-12-20T14:41:13.985Z"
   },
   {
    "duration": 194,
    "start_time": "2022-12-20T14:41:14.002Z"
   },
   {
    "duration": 110,
    "start_time": "2022-12-20T14:41:14.198Z"
   },
   {
    "duration": 18,
    "start_time": "2022-12-20T14:41:14.310Z"
   },
   {
    "duration": 10,
    "start_time": "2022-12-20T14:41:14.329Z"
   },
   {
    "duration": 27,
    "start_time": "2022-12-20T14:41:14.341Z"
   },
   {
    "duration": 39,
    "start_time": "2022-12-20T14:41:14.370Z"
   },
   {
    "duration": 40,
    "start_time": "2022-12-20T14:41:14.410Z"
   },
   {
    "duration": 148,
    "start_time": "2022-12-20T14:41:14.451Z"
   },
   {
    "duration": 221,
    "start_time": "2022-12-20T14:41:14.601Z"
   },
   {
    "duration": 148,
    "start_time": "2022-12-20T14:41:14.824Z"
   },
   {
    "duration": 140,
    "start_time": "2022-12-20T14:41:14.973Z"
   },
   {
    "duration": 132,
    "start_time": "2022-12-20T14:41:15.114Z"
   },
   {
    "duration": 137,
    "start_time": "2022-12-20T14:41:15.249Z"
   },
   {
    "duration": 26,
    "start_time": "2022-12-20T14:41:15.387Z"
   },
   {
    "duration": 25,
    "start_time": "2022-12-20T14:41:15.415Z"
   },
   {
    "duration": 1135,
    "start_time": "2022-12-20T14:41:15.442Z"
   },
   {
    "duration": 7,
    "start_time": "2022-12-20T14:41:16.579Z"
   },
   {
    "duration": 312,
    "start_time": "2022-12-20T14:41:16.587Z"
   },
   {
    "duration": 15,
    "start_time": "2022-12-20T14:41:16.902Z"
   },
   {
    "duration": 530,
    "start_time": "2022-12-20T14:41:16.918Z"
   },
   {
    "duration": 53,
    "start_time": "2022-12-20T19:48:52.289Z"
   },
   {
    "duration": 7,
    "start_time": "2022-12-20T19:48:54.008Z"
   },
   {
    "duration": 490,
    "start_time": "2022-12-20T19:48:59.759Z"
   },
   {
    "duration": 22,
    "start_time": "2022-12-20T19:49:00.251Z"
   },
   {
    "duration": 30,
    "start_time": "2022-12-20T19:49:00.275Z"
   },
   {
    "duration": 468,
    "start_time": "2022-12-20T19:49:00.306Z"
   },
   {
    "duration": 15,
    "start_time": "2022-12-20T19:49:00.777Z"
   },
   {
    "duration": 41,
    "start_time": "2022-12-20T19:49:00.793Z"
   },
   {
    "duration": 37,
    "start_time": "2022-12-20T19:49:00.836Z"
   },
   {
    "duration": 27,
    "start_time": "2022-12-20T19:49:00.875Z"
   },
   {
    "duration": 35,
    "start_time": "2022-12-20T19:49:00.904Z"
   },
   {
    "duration": 48,
    "start_time": "2022-12-20T19:49:00.941Z"
   },
   {
    "duration": 20,
    "start_time": "2022-12-20T19:49:00.991Z"
   },
   {
    "duration": 46,
    "start_time": "2022-12-20T19:49:01.012Z"
   },
   {
    "duration": 78,
    "start_time": "2022-12-20T19:49:01.060Z"
   },
   {
    "duration": 69,
    "start_time": "2022-12-20T19:49:01.141Z"
   },
   {
    "duration": 59,
    "start_time": "2022-12-20T19:49:01.212Z"
   },
   {
    "duration": 250,
    "start_time": "2022-12-20T19:49:01.273Z"
   },
   {
    "duration": 131,
    "start_time": "2022-12-20T19:49:01.525Z"
   },
   {
    "duration": 18,
    "start_time": "2022-12-20T19:49:01.658Z"
   },
   {
    "duration": 5,
    "start_time": "2022-12-20T19:49:01.678Z"
   },
   {
    "duration": 32,
    "start_time": "2022-12-20T19:49:01.685Z"
   },
   {
    "duration": 24,
    "start_time": "2022-12-20T19:49:01.719Z"
   },
   {
    "duration": 53,
    "start_time": "2022-12-20T19:49:01.745Z"
   },
   {
    "duration": 151,
    "start_time": "2022-12-20T19:49:01.799Z"
   },
   {
    "duration": 227,
    "start_time": "2022-12-20T19:49:01.952Z"
   },
   {
    "duration": 159,
    "start_time": "2022-12-20T19:49:02.180Z"
   },
   {
    "duration": 169,
    "start_time": "2022-12-20T19:49:02.341Z"
   },
   {
    "duration": 188,
    "start_time": "2022-12-20T19:49:02.512Z"
   },
   {
    "duration": 156,
    "start_time": "2022-12-20T19:49:02.701Z"
   },
   {
    "duration": 17,
    "start_time": "2022-12-20T19:49:02.859Z"
   },
   {
    "duration": 26,
    "start_time": "2022-12-20T19:49:02.877Z"
   },
   {
    "duration": 1281,
    "start_time": "2022-12-20T19:49:02.904Z"
   },
   {
    "duration": 7,
    "start_time": "2022-12-20T19:49:04.188Z"
   },
   {
    "duration": 343,
    "start_time": "2022-12-20T19:49:04.197Z"
   },
   {
    "duration": 104,
    "start_time": "2022-12-20T19:49:04.542Z"
   },
   {
    "duration": 0,
    "start_time": "2022-12-20T19:49:04.647Z"
   },
   {
    "duration": 14,
    "start_time": "2022-12-20T19:49:18.820Z"
   },
   {
    "duration": 592,
    "start_time": "2022-12-20T19:49:25.315Z"
   },
   {
    "duration": 15,
    "start_time": "2022-12-20T19:49:44.507Z"
   },
   {
    "duration": 584,
    "start_time": "2022-12-20T19:49:45.034Z"
   },
   {
    "duration": 51,
    "start_time": "2022-12-21T11:03:37.856Z"
   },
   {
    "duration": 8,
    "start_time": "2022-12-21T11:03:38.642Z"
   },
   {
    "duration": 569,
    "start_time": "2022-12-21T11:03:50.903Z"
   },
   {
    "duration": 22,
    "start_time": "2022-12-21T11:03:51.474Z"
   },
   {
    "duration": 14,
    "start_time": "2022-12-21T11:03:51.498Z"
   },
   {
    "duration": 511,
    "start_time": "2022-12-21T11:03:51.515Z"
   },
   {
    "duration": 16,
    "start_time": "2022-12-21T11:03:52.028Z"
   },
   {
    "duration": 9,
    "start_time": "2022-12-21T11:03:52.051Z"
   },
   {
    "duration": 11,
    "start_time": "2022-12-21T11:03:52.062Z"
   },
   {
    "duration": 9,
    "start_time": "2022-12-21T11:03:52.074Z"
   },
   {
    "duration": 9,
    "start_time": "2022-12-21T11:03:52.085Z"
   },
   {
    "duration": 59,
    "start_time": "2022-12-21T11:03:52.098Z"
   },
   {
    "duration": 5,
    "start_time": "2022-12-21T11:03:52.159Z"
   },
   {
    "duration": 22,
    "start_time": "2022-12-21T11:03:52.167Z"
   },
   {
    "duration": 7,
    "start_time": "2022-12-21T11:03:52.191Z"
   },
   {
    "duration": 8,
    "start_time": "2022-12-21T11:03:52.200Z"
   },
   {
    "duration": 6,
    "start_time": "2022-12-21T11:03:52.210Z"
   },
   {
    "duration": 212,
    "start_time": "2022-12-21T11:03:52.218Z"
   },
   {
    "duration": 140,
    "start_time": "2022-12-21T11:03:52.432Z"
   },
   {
    "duration": 20,
    "start_time": "2022-12-21T11:03:52.574Z"
   },
   {
    "duration": 6,
    "start_time": "2022-12-21T11:03:52.596Z"
   },
   {
    "duration": 12,
    "start_time": "2022-12-21T11:03:52.604Z"
   },
   {
    "duration": 6,
    "start_time": "2022-12-21T11:03:52.618Z"
   },
   {
    "duration": 18,
    "start_time": "2022-12-21T11:03:52.652Z"
   },
   {
    "duration": 176,
    "start_time": "2022-12-21T11:03:52.672Z"
   },
   {
    "duration": 277,
    "start_time": "2022-12-21T11:03:52.849Z"
   },
   {
    "duration": 179,
    "start_time": "2022-12-21T11:03:53.128Z"
   },
   {
    "duration": 166,
    "start_time": "2022-12-21T11:03:53.308Z"
   },
   {
    "duration": 186,
    "start_time": "2022-12-21T11:03:53.475Z"
   },
   {
    "duration": 164,
    "start_time": "2022-12-21T11:03:53.665Z"
   },
   {
    "duration": 32,
    "start_time": "2022-12-21T11:03:53.830Z"
   },
   {
    "duration": 34,
    "start_time": "2022-12-21T11:03:53.864Z"
   },
   {
    "duration": 1442,
    "start_time": "2022-12-21T11:03:53.899Z"
   },
   {
    "duration": 9,
    "start_time": "2022-12-21T11:03:55.343Z"
   },
   {
    "duration": 369,
    "start_time": "2022-12-21T11:03:55.354Z"
   },
   {
    "duration": 36,
    "start_time": "2022-12-21T11:03:55.725Z"
   },
   {
    "duration": 6217,
    "start_time": "2022-12-21T11:03:55.763Z"
   },
   {
    "duration": 17,
    "start_time": "2022-12-21T11:08:44.160Z"
   },
   {
    "duration": 615,
    "start_time": "2022-12-21T11:08:44.693Z"
   },
   {
    "duration": 13,
    "start_time": "2022-12-21T11:09:04.656Z"
   },
   {
    "duration": 15,
    "start_time": "2022-12-21T11:11:41.601Z"
   },
   {
    "duration": 635,
    "start_time": "2022-12-21T11:11:43.724Z"
   },
   {
    "duration": 14,
    "start_time": "2022-12-21T11:11:52.176Z"
   },
   {
    "duration": 5,
    "start_time": "2022-12-21T11:12:54.206Z"
   },
   {
    "duration": 7,
    "start_time": "2022-12-21T11:13:27.262Z"
   },
   {
    "duration": 8,
    "start_time": "2022-12-21T11:13:33.011Z"
   },
   {
    "duration": 12,
    "start_time": "2022-12-21T13:08:40.927Z"
   },
   {
    "duration": 1105,
    "start_time": "2022-12-21T13:10:03.223Z"
   },
   {
    "duration": 863,
    "start_time": "2022-12-21T13:10:09.327Z"
   },
   {
    "duration": 6,
    "start_time": "2022-12-21T13:11:48.469Z"
   },
   {
    "duration": 6,
    "start_time": "2022-12-21T13:12:04.847Z"
   },
   {
    "duration": 9,
    "start_time": "2022-12-21T13:12:34.318Z"
   },
   {
    "duration": 46,
    "start_time": "2022-12-21T15:21:29.271Z"
   },
   {
    "duration": 517,
    "start_time": "2022-12-21T15:21:35.464Z"
   },
   {
    "duration": 21,
    "start_time": "2022-12-21T15:21:35.984Z"
   },
   {
    "duration": 19,
    "start_time": "2022-12-21T15:21:36.007Z"
   },
   {
    "duration": 480,
    "start_time": "2022-12-21T15:21:36.028Z"
   },
   {
    "duration": 16,
    "start_time": "2022-12-21T15:21:36.510Z"
   },
   {
    "duration": 16,
    "start_time": "2022-12-21T15:21:36.528Z"
   },
   {
    "duration": 11,
    "start_time": "2022-12-21T15:21:36.546Z"
   },
   {
    "duration": 14,
    "start_time": "2022-12-21T15:21:36.559Z"
   },
   {
    "duration": 19,
    "start_time": "2022-12-21T15:21:36.575Z"
   },
   {
    "duration": 21,
    "start_time": "2022-12-21T15:21:36.598Z"
   },
   {
    "duration": 28,
    "start_time": "2022-12-21T15:21:36.621Z"
   },
   {
    "duration": 12,
    "start_time": "2022-12-21T15:21:36.650Z"
   },
   {
    "duration": 22,
    "start_time": "2022-12-21T15:21:36.664Z"
   },
   {
    "duration": 9,
    "start_time": "2022-12-21T15:21:36.688Z"
   },
   {
    "duration": 7,
    "start_time": "2022-12-21T15:21:36.699Z"
   },
   {
    "duration": 209,
    "start_time": "2022-12-21T15:21:36.708Z"
   },
   {
    "duration": 158,
    "start_time": "2022-12-21T15:21:36.919Z"
   },
   {
    "duration": 20,
    "start_time": "2022-12-21T15:21:37.078Z"
   },
   {
    "duration": 6,
    "start_time": "2022-12-21T15:21:37.099Z"
   },
   {
    "duration": 10,
    "start_time": "2022-12-21T15:21:37.107Z"
   },
   {
    "duration": 34,
    "start_time": "2022-12-21T15:21:37.118Z"
   },
   {
    "duration": 20,
    "start_time": "2022-12-21T15:21:37.153Z"
   },
   {
    "duration": 172,
    "start_time": "2022-12-21T15:21:37.175Z"
   },
   {
    "duration": 232,
    "start_time": "2022-12-21T15:21:37.348Z"
   },
   {
    "duration": 174,
    "start_time": "2022-12-21T15:21:37.581Z"
   },
   {
    "duration": 147,
    "start_time": "2022-12-21T15:21:37.757Z"
   },
   {
    "duration": 172,
    "start_time": "2022-12-21T15:21:37.905Z"
   },
   {
    "duration": 172,
    "start_time": "2022-12-21T15:21:38.081Z"
   },
   {
    "duration": 18,
    "start_time": "2022-12-21T15:21:38.255Z"
   },
   {
    "duration": 36,
    "start_time": "2022-12-21T15:21:38.275Z"
   },
   {
    "duration": 1336,
    "start_time": "2022-12-21T15:21:38.313Z"
   },
   {
    "duration": 7,
    "start_time": "2022-12-21T15:21:39.652Z"
   },
   {
    "duration": 395,
    "start_time": "2022-12-21T15:21:39.661Z"
   },
   {
    "duration": 15,
    "start_time": "2022-12-21T15:21:40.059Z"
   },
   {
    "duration": 97,
    "start_time": "2022-12-21T15:21:40.076Z"
   },
   {
    "duration": 0,
    "start_time": "2022-12-21T15:21:40.175Z"
   },
   {
    "duration": 0,
    "start_time": "2022-12-21T15:21:40.176Z"
   },
   {
    "duration": 0,
    "start_time": "2022-12-21T15:21:40.177Z"
   },
   {
    "duration": 0,
    "start_time": "2022-12-21T15:21:40.179Z"
   },
   {
    "duration": 0,
    "start_time": "2022-12-21T15:21:40.180Z"
   },
   {
    "duration": 19,
    "start_time": "2022-12-21T15:21:46.470Z"
   },
   {
    "duration": 9,
    "start_time": "2022-12-21T15:22:13.965Z"
   },
   {
    "duration": 10,
    "start_time": "2022-12-21T15:23:24.408Z"
   },
   {
    "duration": 9,
    "start_time": "2022-12-21T15:23:33.693Z"
   },
   {
    "duration": 7,
    "start_time": "2022-12-21T15:39:14.502Z"
   },
   {
    "duration": 9,
    "start_time": "2022-12-21T15:47:58.782Z"
   },
   {
    "duration": 10,
    "start_time": "2022-12-21T15:58:23.468Z"
   },
   {
    "duration": 8,
    "start_time": "2022-12-21T16:01:59.998Z"
   },
   {
    "duration": 4,
    "start_time": "2022-12-21T16:34:41.686Z"
   },
   {
    "duration": 459,
    "start_time": "2022-12-21T16:52:37.622Z"
   },
   {
    "duration": 21,
    "start_time": "2022-12-21T16:52:38.083Z"
   },
   {
    "duration": 26,
    "start_time": "2022-12-21T16:52:38.105Z"
   },
   {
    "duration": 263,
    "start_time": "2022-12-21T16:52:38.134Z"
   },
   {
    "duration": 13,
    "start_time": "2022-12-21T16:52:38.398Z"
   },
   {
    "duration": 22,
    "start_time": "2022-12-21T16:52:38.413Z"
   },
   {
    "duration": 11,
    "start_time": "2022-12-21T16:52:38.437Z"
   },
   {
    "duration": 21,
    "start_time": "2022-12-21T16:52:38.449Z"
   },
   {
    "duration": 17,
    "start_time": "2022-12-21T16:52:38.472Z"
   },
   {
    "duration": 27,
    "start_time": "2022-12-21T16:52:38.491Z"
   },
   {
    "duration": 7,
    "start_time": "2022-12-21T16:52:38.520Z"
   },
   {
    "duration": 15,
    "start_time": "2022-12-21T16:52:38.528Z"
   },
   {
    "duration": 11,
    "start_time": "2022-12-21T16:52:38.545Z"
   },
   {
    "duration": 22,
    "start_time": "2022-12-21T16:52:38.557Z"
   },
   {
    "duration": 14,
    "start_time": "2022-12-21T16:52:38.581Z"
   },
   {
    "duration": 186,
    "start_time": "2022-12-21T16:52:38.597Z"
   },
   {
    "duration": 128,
    "start_time": "2022-12-21T16:52:38.785Z"
   },
   {
    "duration": 21,
    "start_time": "2022-12-21T16:52:38.915Z"
   },
   {
    "duration": 5,
    "start_time": "2022-12-21T16:52:38.937Z"
   },
   {
    "duration": 15,
    "start_time": "2022-12-21T16:52:38.943Z"
   },
   {
    "duration": 9,
    "start_time": "2022-12-21T16:52:38.960Z"
   },
   {
    "duration": 19,
    "start_time": "2022-12-21T16:52:38.970Z"
   },
   {
    "duration": 146,
    "start_time": "2022-12-21T16:52:38.991Z"
   },
   {
    "duration": 209,
    "start_time": "2022-12-21T16:52:39.138Z"
   },
   {
    "duration": 145,
    "start_time": "2022-12-21T16:52:39.348Z"
   },
   {
    "duration": 142,
    "start_time": "2022-12-21T16:52:39.495Z"
   },
   {
    "duration": 140,
    "start_time": "2022-12-21T16:52:39.638Z"
   },
   {
    "duration": 133,
    "start_time": "2022-12-21T16:52:39.781Z"
   },
   {
    "duration": 21,
    "start_time": "2022-12-21T16:52:39.916Z"
   },
   {
    "duration": 23,
    "start_time": "2022-12-21T16:52:39.938Z"
   },
   {
    "duration": 1235,
    "start_time": "2022-12-21T16:52:39.962Z"
   },
   {
    "duration": 7,
    "start_time": "2022-12-21T16:52:41.199Z"
   },
   {
    "duration": 297,
    "start_time": "2022-12-21T16:52:41.207Z"
   },
   {
    "duration": 13,
    "start_time": "2022-12-21T16:52:41.505Z"
   },
   {
    "duration": 74,
    "start_time": "2022-12-21T16:52:41.519Z"
   },
   {
    "duration": 0,
    "start_time": "2022-12-21T16:52:41.594Z"
   },
   {
    "duration": 0,
    "start_time": "2022-12-21T16:52:41.595Z"
   },
   {
    "duration": 0,
    "start_time": "2022-12-21T16:52:41.596Z"
   },
   {
    "duration": 0,
    "start_time": "2022-12-21T16:52:41.597Z"
   },
   {
    "duration": 0,
    "start_time": "2022-12-21T16:52:41.598Z"
   },
   {
    "duration": 0,
    "start_time": "2022-12-21T16:52:41.599Z"
   },
   {
    "duration": 535,
    "start_time": "2022-12-21T16:53:02.894Z"
   },
   {
    "duration": 11,
    "start_time": "2022-12-21T16:53:09.910Z"
   },
   {
    "duration": 684,
    "start_time": "2022-12-21T16:53:55.775Z"
   },
   {
    "duration": 44,
    "start_time": "2022-12-21T16:54:38.824Z"
   },
   {
    "duration": 8,
    "start_time": "2022-12-21T17:27:46.095Z"
   },
   {
    "duration": 8,
    "start_time": "2022-12-21T17:31:38.379Z"
   },
   {
    "duration": 8,
    "start_time": "2022-12-21T17:33:12.715Z"
   },
   {
    "duration": 7,
    "start_time": "2022-12-21T17:35:18.316Z"
   },
   {
    "duration": 17,
    "start_time": "2022-12-21T17:57:13.537Z"
   },
   {
    "duration": 19,
    "start_time": "2022-12-21T17:57:25.314Z"
   },
   {
    "duration": 22,
    "start_time": "2022-12-21T17:57:34.430Z"
   },
   {
    "duration": 24,
    "start_time": "2022-12-21T17:57:43.629Z"
   },
   {
    "duration": 16,
    "start_time": "2022-12-21T17:58:24.486Z"
   },
   {
    "duration": 42,
    "start_time": "2022-12-21T17:59:32.960Z"
   },
   {
    "duration": 15,
    "start_time": "2022-12-21T17:59:44.574Z"
   },
   {
    "duration": 25,
    "start_time": "2022-12-21T18:00:01.926Z"
   },
   {
    "duration": 14,
    "start_time": "2022-12-21T18:04:16.132Z"
   },
   {
    "duration": 11,
    "start_time": "2022-12-21T18:05:33.679Z"
   },
   {
    "duration": 16,
    "start_time": "2022-12-21T18:05:40.240Z"
   },
   {
    "duration": 786,
    "start_time": "2022-12-21T18:06:37.176Z"
   },
   {
    "duration": 26,
    "start_time": "2022-12-21T18:08:24.990Z"
   },
   {
    "duration": 1165,
    "start_time": "2022-12-21T18:08:37.124Z"
   },
   {
    "duration": 26,
    "start_time": "2022-12-21T18:11:21.717Z"
   },
   {
    "duration": 14,
    "start_time": "2022-12-21T18:11:28.813Z"
   },
   {
    "duration": 16,
    "start_time": "2022-12-21T18:14:26.177Z"
   },
   {
    "duration": 29,
    "start_time": "2022-12-21T18:14:49.057Z"
   },
   {
    "duration": 1268,
    "start_time": "2022-12-21T18:14:56.987Z"
   },
   {
    "duration": 15,
    "start_time": "2022-12-21T18:21:35.843Z"
   },
   {
    "duration": 552,
    "start_time": "2022-12-21T18:21:37.054Z"
   },
   {
    "duration": 16,
    "start_time": "2022-12-21T18:21:57.943Z"
   },
   {
    "duration": 538,
    "start_time": "2022-12-21T18:21:59.257Z"
   },
   {
    "duration": 12,
    "start_time": "2022-12-21T18:23:00.205Z"
   },
   {
    "duration": 745,
    "start_time": "2022-12-21T18:23:01.940Z"
   },
   {
    "duration": 12,
    "start_time": "2022-12-21T18:23:25.305Z"
   },
   {
    "duration": 518,
    "start_time": "2022-12-21T18:23:25.806Z"
   },
   {
    "duration": 13,
    "start_time": "2022-12-21T18:24:32.883Z"
   },
   {
    "duration": 543,
    "start_time": "2022-12-21T18:24:33.808Z"
   },
   {
    "duration": 11,
    "start_time": "2022-12-21T18:24:48.749Z"
   },
   {
    "duration": 8,
    "start_time": "2022-12-21T18:25:13.148Z"
   },
   {
    "duration": 480,
    "start_time": "2022-12-22T11:03:37.968Z"
   },
   {
    "duration": 23,
    "start_time": "2022-12-22T11:03:38.450Z"
   },
   {
    "duration": 16,
    "start_time": "2022-12-22T11:03:38.475Z"
   },
   {
    "duration": 482,
    "start_time": "2022-12-22T11:03:38.494Z"
   },
   {
    "duration": 16,
    "start_time": "2022-12-22T11:03:38.978Z"
   },
   {
    "duration": 20,
    "start_time": "2022-12-22T11:03:38.996Z"
   },
   {
    "duration": 9,
    "start_time": "2022-12-22T11:03:39.018Z"
   },
   {
    "duration": 10,
    "start_time": "2022-12-22T11:03:39.029Z"
   },
   {
    "duration": 8,
    "start_time": "2022-12-22T11:03:39.041Z"
   },
   {
    "duration": 22,
    "start_time": "2022-12-22T11:03:39.052Z"
   },
   {
    "duration": 6,
    "start_time": "2022-12-22T11:03:39.076Z"
   },
   {
    "duration": 34,
    "start_time": "2022-12-22T11:03:39.083Z"
   },
   {
    "duration": 7,
    "start_time": "2022-12-22T11:03:39.119Z"
   },
   {
    "duration": 14,
    "start_time": "2022-12-22T11:03:39.128Z"
   },
   {
    "duration": 38,
    "start_time": "2022-12-22T11:03:39.144Z"
   },
   {
    "duration": 236,
    "start_time": "2022-12-22T11:03:39.184Z"
   },
   {
    "duration": 149,
    "start_time": "2022-12-22T11:03:39.423Z"
   },
   {
    "duration": 19,
    "start_time": "2022-12-22T11:03:39.573Z"
   },
   {
    "duration": 19,
    "start_time": "2022-12-22T11:03:39.593Z"
   },
   {
    "duration": 10,
    "start_time": "2022-12-22T11:03:39.614Z"
   },
   {
    "duration": 8,
    "start_time": "2022-12-22T11:03:39.626Z"
   },
   {
    "duration": 21,
    "start_time": "2022-12-22T11:03:39.636Z"
   },
   {
    "duration": 180,
    "start_time": "2022-12-22T11:03:39.659Z"
   },
   {
    "duration": 256,
    "start_time": "2022-12-22T11:03:39.841Z"
   },
   {
    "duration": 184,
    "start_time": "2022-12-22T11:03:40.099Z"
   },
   {
    "duration": 160,
    "start_time": "2022-12-22T11:03:40.285Z"
   },
   {
    "duration": 165,
    "start_time": "2022-12-22T11:03:40.447Z"
   },
   {
    "duration": 166,
    "start_time": "2022-12-22T11:03:40.615Z"
   },
   {
    "duration": 17,
    "start_time": "2022-12-22T11:03:40.783Z"
   },
   {
    "duration": 28,
    "start_time": "2022-12-22T11:03:40.813Z"
   },
   {
    "duration": 1405,
    "start_time": "2022-12-22T11:03:40.843Z"
   },
   {
    "duration": 11,
    "start_time": "2022-12-22T11:03:42.250Z"
   },
   {
    "duration": 373,
    "start_time": "2022-12-22T11:03:42.263Z"
   },
   {
    "duration": 14,
    "start_time": "2022-12-22T11:03:42.638Z"
   },
   {
    "duration": 601,
    "start_time": "2022-12-22T11:03:42.654Z"
   },
   {
    "duration": 12,
    "start_time": "2022-12-22T11:03:43.256Z"
   },
   {
    "duration": 13,
    "start_time": "2022-12-22T11:03:43.270Z"
   },
   {
    "duration": 784,
    "start_time": "2022-12-22T11:03:43.284Z"
   },
   {
    "duration": 9,
    "start_time": "2022-12-22T11:03:44.069Z"
   },
   {
    "duration": 910,
    "start_time": "2022-12-22T11:03:44.080Z"
   },
   {
    "duration": 8,
    "start_time": "2022-12-22T11:03:44.992Z"
   },
   {
    "duration": 28,
    "start_time": "2022-12-22T11:03:45.013Z"
   },
   {
    "duration": 20,
    "start_time": "2022-12-22T11:03:45.043Z"
   },
   {
    "duration": 22,
    "start_time": "2022-12-22T11:03:50.035Z"
   },
   {
    "duration": 17,
    "start_time": "2022-12-22T11:04:43.578Z"
   },
   {
    "duration": 18,
    "start_time": "2022-12-22T11:05:20.499Z"
   },
   {
    "duration": 18,
    "start_time": "2022-12-22T11:23:06.714Z"
   },
   {
    "duration": 17,
    "start_time": "2022-12-22T11:23:07.268Z"
   },
   {
    "duration": 17,
    "start_time": "2022-12-22T11:23:07.820Z"
   },
   {
    "duration": 17,
    "start_time": "2022-12-22T11:23:11.644Z"
   },
   {
    "duration": 10,
    "start_time": "2022-12-22T11:33:34.392Z"
   },
   {
    "duration": 22,
    "start_time": "2022-12-22T11:45:11.839Z"
   },
   {
    "duration": 23,
    "start_time": "2022-12-22T11:45:16.156Z"
   },
   {
    "duration": 22,
    "start_time": "2022-12-22T11:45:20.615Z"
   },
   {
    "duration": 14,
    "start_time": "2022-12-22T11:45:55.524Z"
   },
   {
    "duration": 18,
    "start_time": "2022-12-22T11:47:24.163Z"
   },
   {
    "duration": 16,
    "start_time": "2022-12-22T11:47:43.000Z"
   },
   {
    "duration": 16,
    "start_time": "2022-12-22T11:47:57.648Z"
   },
   {
    "duration": 18,
    "start_time": "2022-12-22T11:48:07.066Z"
   },
   {
    "duration": 11,
    "start_time": "2022-12-22T11:48:10.857Z"
   },
   {
    "duration": 465,
    "start_time": "2022-12-22T11:48:23.667Z"
   },
   {
    "duration": 23,
    "start_time": "2022-12-22T11:48:24.135Z"
   },
   {
    "duration": 18,
    "start_time": "2022-12-22T11:48:24.160Z"
   },
   {
    "duration": 306,
    "start_time": "2022-12-22T11:48:24.180Z"
   },
   {
    "duration": 25,
    "start_time": "2022-12-22T11:48:24.488Z"
   },
   {
    "duration": 8,
    "start_time": "2022-12-22T11:48:24.515Z"
   },
   {
    "duration": 10,
    "start_time": "2022-12-22T11:48:24.524Z"
   },
   {
    "duration": 14,
    "start_time": "2022-12-22T11:48:24.535Z"
   },
   {
    "duration": 7,
    "start_time": "2022-12-22T11:48:24.551Z"
   },
   {
    "duration": 23,
    "start_time": "2022-12-22T11:48:24.560Z"
   },
   {
    "duration": 5,
    "start_time": "2022-12-22T11:48:24.612Z"
   },
   {
    "duration": 7,
    "start_time": "2022-12-22T11:48:24.619Z"
   },
   {
    "duration": 7,
    "start_time": "2022-12-22T11:48:24.628Z"
   },
   {
    "duration": 6,
    "start_time": "2022-12-22T11:48:24.638Z"
   },
   {
    "duration": 10,
    "start_time": "2022-12-22T11:48:24.645Z"
   },
   {
    "duration": 231,
    "start_time": "2022-12-22T11:48:24.656Z"
   },
   {
    "duration": 142,
    "start_time": "2022-12-22T11:48:24.890Z"
   },
   {
    "duration": 19,
    "start_time": "2022-12-22T11:48:25.034Z"
   },
   {
    "duration": 6,
    "start_time": "2022-12-22T11:48:25.054Z"
   },
   {
    "duration": 12,
    "start_time": "2022-12-22T11:48:25.061Z"
   },
   {
    "duration": 6,
    "start_time": "2022-12-22T11:48:25.075Z"
   },
   {
    "duration": 45,
    "start_time": "2022-12-22T11:48:25.082Z"
   },
   {
    "duration": 162,
    "start_time": "2022-12-22T11:48:25.129Z"
   },
   {
    "duration": 246,
    "start_time": "2022-12-22T11:48:25.293Z"
   },
   {
    "duration": 172,
    "start_time": "2022-12-22T11:48:25.542Z"
   },
   {
    "duration": 171,
    "start_time": "2022-12-22T11:48:25.716Z"
   },
   {
    "duration": 163,
    "start_time": "2022-12-22T11:48:25.889Z"
   },
   {
    "duration": 166,
    "start_time": "2022-12-22T11:48:26.054Z"
   },
   {
    "duration": 19,
    "start_time": "2022-12-22T11:48:26.222Z"
   },
   {
    "duration": 28,
    "start_time": "2022-12-22T11:48:26.243Z"
   },
   {
    "duration": 1454,
    "start_time": "2022-12-22T11:48:26.273Z"
   },
   {
    "duration": 8,
    "start_time": "2022-12-22T11:48:27.729Z"
   },
   {
    "duration": 338,
    "start_time": "2022-12-22T11:48:27.739Z"
   },
   {
    "duration": 13,
    "start_time": "2022-12-22T11:48:28.079Z"
   },
   {
    "duration": 610,
    "start_time": "2022-12-22T11:48:28.093Z"
   },
   {
    "duration": 18,
    "start_time": "2022-12-22T11:48:28.704Z"
   },
   {
    "duration": 10,
    "start_time": "2022-12-22T11:48:28.724Z"
   },
   {
    "duration": 792,
    "start_time": "2022-12-22T11:48:28.735Z"
   },
   {
    "duration": 8,
    "start_time": "2022-12-22T11:48:29.529Z"
   },
   {
    "duration": 897,
    "start_time": "2022-12-22T11:48:29.539Z"
   },
   {
    "duration": 9,
    "start_time": "2022-12-22T11:48:30.439Z"
   },
   {
    "duration": 14,
    "start_time": "2022-12-22T11:48:30.450Z"
   },
   {
    "duration": 43,
    "start_time": "2022-12-22T11:48:30.465Z"
   },
   {
    "duration": 29,
    "start_time": "2022-12-22T11:48:30.510Z"
   },
   {
    "duration": 22,
    "start_time": "2022-12-22T11:48:30.541Z"
   },
   {
    "duration": 34,
    "start_time": "2022-12-22T11:48:30.565Z"
   },
   {
    "duration": 12,
    "start_time": "2022-12-22T11:48:52.238Z"
   },
   {
    "duration": 17,
    "start_time": "2022-12-22T11:48:59.193Z"
   },
   {
    "duration": 12,
    "start_time": "2022-12-22T11:49:09.689Z"
   },
   {
    "duration": 14,
    "start_time": "2022-12-22T11:49:16.013Z"
   },
   {
    "duration": 13,
    "start_time": "2022-12-22T11:49:23.955Z"
   },
   {
    "duration": 12,
    "start_time": "2022-12-22T11:49:26.655Z"
   },
   {
    "duration": 18,
    "start_time": "2022-12-22T11:49:44.863Z"
   },
   {
    "duration": 14,
    "start_time": "2022-12-22T11:49:51.438Z"
   },
   {
    "duration": 13,
    "start_time": "2022-12-22T11:49:56.072Z"
   },
   {
    "duration": 11,
    "start_time": "2022-12-22T11:50:17.757Z"
   },
   {
    "duration": 15,
    "start_time": "2022-12-22T11:50:33.847Z"
   },
   {
    "duration": 23,
    "start_time": "2022-12-22T11:51:06.868Z"
   },
   {
    "duration": 13,
    "start_time": "2022-12-22T12:00:24.765Z"
   },
   {
    "duration": 102,
    "start_time": "2022-12-22T12:01:29.456Z"
   },
   {
    "duration": 14,
    "start_time": "2022-12-22T12:01:48.820Z"
   },
   {
    "duration": 18,
    "start_time": "2022-12-22T12:02:02.619Z"
   },
   {
    "duration": 17,
    "start_time": "2022-12-22T12:02:16.951Z"
   },
   {
    "duration": 14,
    "start_time": "2022-12-22T12:02:57.304Z"
   },
   {
    "duration": 14,
    "start_time": "2022-12-22T12:03:35.544Z"
   },
   {
    "duration": 23,
    "start_time": "2022-12-22T12:04:17.900Z"
   },
   {
    "duration": 13,
    "start_time": "2022-12-22T12:17:50.735Z"
   },
   {
    "duration": 13,
    "start_time": "2022-12-22T12:18:07.188Z"
   },
   {
    "duration": 18,
    "start_time": "2022-12-22T12:18:12.984Z"
   },
   {
    "duration": 13,
    "start_time": "2022-12-22T12:45:23.523Z"
   },
   {
    "duration": 739,
    "start_time": "2022-12-22T12:45:54.442Z"
   },
   {
    "duration": 13,
    "start_time": "2022-12-22T12:47:12.014Z"
   },
   {
    "duration": 13,
    "start_time": "2022-12-22T12:47:56.939Z"
   },
   {
    "duration": 15,
    "start_time": "2022-12-22T12:48:27.587Z"
   },
   {
    "duration": 21,
    "start_time": "2022-12-22T12:48:38.602Z"
   },
   {
    "duration": 396,
    "start_time": "2022-12-22T21:24:33.027Z"
   },
   {
    "duration": 9,
    "start_time": "2022-12-22T21:25:06.255Z"
   },
   {
    "duration": 8,
    "start_time": "2022-12-22T21:25:27.225Z"
   },
   {
    "duration": 8,
    "start_time": "2022-12-22T21:25:39.167Z"
   },
   {
    "duration": 7,
    "start_time": "2022-12-22T21:25:47.679Z"
   },
   {
    "duration": 10,
    "start_time": "2022-12-22T21:26:08.863Z"
   },
   {
    "duration": 12,
    "start_time": "2022-12-22T21:27:01.165Z"
   },
   {
    "duration": 26,
    "start_time": "2022-12-22T21:27:07.655Z"
   },
   {
    "duration": 11,
    "start_time": "2022-12-22T21:27:58.801Z"
   },
   {
    "duration": 518,
    "start_time": "2022-12-22T21:28:06.094Z"
   },
   {
    "duration": 99,
    "start_time": "2022-12-22T21:28:06.614Z"
   },
   {
    "duration": 0,
    "start_time": "2022-12-22T21:28:06.716Z"
   },
   {
    "duration": 0,
    "start_time": "2022-12-22T21:28:06.718Z"
   },
   {
    "duration": 0,
    "start_time": "2022-12-22T21:28:06.719Z"
   },
   {
    "duration": 0,
    "start_time": "2022-12-22T21:28:06.720Z"
   },
   {
    "duration": 0,
    "start_time": "2022-12-22T21:28:06.721Z"
   },
   {
    "duration": 0,
    "start_time": "2022-12-22T21:28:06.722Z"
   },
   {
    "duration": 0,
    "start_time": "2022-12-22T21:28:06.723Z"
   },
   {
    "duration": 0,
    "start_time": "2022-12-22T21:28:06.724Z"
   },
   {
    "duration": 0,
    "start_time": "2022-12-22T21:28:06.725Z"
   },
   {
    "duration": 0,
    "start_time": "2022-12-22T21:28:06.726Z"
   },
   {
    "duration": 0,
    "start_time": "2022-12-22T21:28:06.726Z"
   },
   {
    "duration": 0,
    "start_time": "2022-12-22T21:28:06.727Z"
   },
   {
    "duration": 0,
    "start_time": "2022-12-22T21:28:06.728Z"
   },
   {
    "duration": 0,
    "start_time": "2022-12-22T21:28:06.729Z"
   },
   {
    "duration": 1,
    "start_time": "2022-12-22T21:28:06.730Z"
   },
   {
    "duration": 0,
    "start_time": "2022-12-22T21:28:06.731Z"
   },
   {
    "duration": 0,
    "start_time": "2022-12-22T21:28:06.732Z"
   },
   {
    "duration": 0,
    "start_time": "2022-12-22T21:28:06.733Z"
   },
   {
    "duration": 0,
    "start_time": "2022-12-22T21:28:06.734Z"
   },
   {
    "duration": 0,
    "start_time": "2022-12-22T21:28:06.735Z"
   },
   {
    "duration": 0,
    "start_time": "2022-12-22T21:28:06.736Z"
   },
   {
    "duration": 0,
    "start_time": "2022-12-22T21:28:06.737Z"
   },
   {
    "duration": 0,
    "start_time": "2022-12-22T21:28:06.738Z"
   },
   {
    "duration": 0,
    "start_time": "2022-12-22T21:28:06.739Z"
   },
   {
    "duration": 0,
    "start_time": "2022-12-22T21:28:06.740Z"
   },
   {
    "duration": 0,
    "start_time": "2022-12-22T21:28:06.741Z"
   },
   {
    "duration": 0,
    "start_time": "2022-12-22T21:28:06.744Z"
   },
   {
    "duration": 0,
    "start_time": "2022-12-22T21:28:06.745Z"
   },
   {
    "duration": 0,
    "start_time": "2022-12-22T21:28:06.747Z"
   },
   {
    "duration": 0,
    "start_time": "2022-12-22T21:28:06.748Z"
   },
   {
    "duration": 0,
    "start_time": "2022-12-22T21:28:06.750Z"
   },
   {
    "duration": 0,
    "start_time": "2022-12-22T21:28:06.751Z"
   },
   {
    "duration": 0,
    "start_time": "2022-12-22T21:28:06.752Z"
   },
   {
    "duration": 0,
    "start_time": "2022-12-22T21:28:06.753Z"
   },
   {
    "duration": 0,
    "start_time": "2022-12-22T21:28:06.811Z"
   },
   {
    "duration": 0,
    "start_time": "2022-12-22T21:28:06.813Z"
   },
   {
    "duration": 0,
    "start_time": "2022-12-22T21:28:06.814Z"
   },
   {
    "duration": 0,
    "start_time": "2022-12-22T21:28:06.816Z"
   },
   {
    "duration": 1,
    "start_time": "2022-12-22T21:28:06.817Z"
   },
   {
    "duration": 0,
    "start_time": "2022-12-22T21:28:06.819Z"
   },
   {
    "duration": 0,
    "start_time": "2022-12-22T21:28:06.821Z"
   },
   {
    "duration": 0,
    "start_time": "2022-12-22T21:28:06.822Z"
   },
   {
    "duration": 0,
    "start_time": "2022-12-22T21:28:06.824Z"
   },
   {
    "duration": 0,
    "start_time": "2022-12-22T21:28:06.827Z"
   },
   {
    "duration": 0,
    "start_time": "2022-12-22T21:28:06.827Z"
   },
   {
    "duration": 0,
    "start_time": "2022-12-22T21:28:06.828Z"
   },
   {
    "duration": 0,
    "start_time": "2022-12-22T21:28:06.829Z"
   },
   {
    "duration": 0,
    "start_time": "2022-12-22T21:28:06.830Z"
   },
   {
    "duration": 0,
    "start_time": "2022-12-22T21:28:06.833Z"
   },
   {
    "duration": 0,
    "start_time": "2022-12-22T21:28:06.834Z"
   },
   {
    "duration": 0,
    "start_time": "2022-12-22T21:28:06.836Z"
   },
   {
    "duration": 0,
    "start_time": "2022-12-22T21:28:06.837Z"
   },
   {
    "duration": 0,
    "start_time": "2022-12-22T21:28:06.839Z"
   },
   {
    "duration": 0,
    "start_time": "2022-12-22T21:28:06.841Z"
   },
   {
    "duration": 0,
    "start_time": "2022-12-22T21:28:06.843Z"
   },
   {
    "duration": 29,
    "start_time": "2022-12-22T21:28:39.297Z"
   },
   {
    "duration": 469,
    "start_time": "2022-12-22T21:28:48.930Z"
   },
   {
    "duration": 22,
    "start_time": "2022-12-22T21:28:49.401Z"
   },
   {
    "duration": 14,
    "start_time": "2022-12-22T21:28:49.425Z"
   },
   {
    "duration": 274,
    "start_time": "2022-12-22T21:28:49.441Z"
   },
   {
    "duration": 14,
    "start_time": "2022-12-22T21:28:49.717Z"
   },
   {
    "duration": 11,
    "start_time": "2022-12-22T21:28:49.733Z"
   },
   {
    "duration": 7,
    "start_time": "2022-12-22T21:28:49.745Z"
   },
   {
    "duration": 9,
    "start_time": "2022-12-22T21:28:49.753Z"
   },
   {
    "duration": 8,
    "start_time": "2022-12-22T21:28:49.763Z"
   },
   {
    "duration": 5,
    "start_time": "2022-12-22T21:28:49.775Z"
   },
   {
    "duration": 16,
    "start_time": "2022-12-22T21:28:49.813Z"
   },
   {
    "duration": 6,
    "start_time": "2022-12-22T21:28:49.831Z"
   },
   {
    "duration": 8,
    "start_time": "2022-12-22T21:28:49.838Z"
   },
   {
    "duration": 6,
    "start_time": "2022-12-22T21:28:49.847Z"
   },
   {
    "duration": 5,
    "start_time": "2022-12-22T21:28:49.854Z"
   },
   {
    "duration": 8,
    "start_time": "2022-12-22T21:28:49.861Z"
   },
   {
    "duration": 214,
    "start_time": "2022-12-22T21:28:49.871Z"
   },
   {
    "duration": 135,
    "start_time": "2022-12-22T21:28:50.087Z"
   },
   {
    "duration": 18,
    "start_time": "2022-12-22T21:28:50.224Z"
   },
   {
    "duration": 5,
    "start_time": "2022-12-22T21:28:50.244Z"
   },
   {
    "duration": 8,
    "start_time": "2022-12-22T21:28:50.250Z"
   },
   {
    "duration": 4,
    "start_time": "2022-12-22T21:28:50.260Z"
   },
   {
    "duration": 46,
    "start_time": "2022-12-22T21:28:50.266Z"
   },
   {
    "duration": 164,
    "start_time": "2022-12-22T21:28:50.314Z"
   },
   {
    "duration": 216,
    "start_time": "2022-12-22T21:28:50.480Z"
   },
   {
    "duration": 153,
    "start_time": "2022-12-22T21:28:50.698Z"
   },
   {
    "duration": 141,
    "start_time": "2022-12-22T21:28:50.852Z"
   },
   {
    "duration": 147,
    "start_time": "2022-12-22T21:28:50.997Z"
   },
   {
    "duration": 145,
    "start_time": "2022-12-22T21:28:51.146Z"
   },
   {
    "duration": 28,
    "start_time": "2022-12-22T21:28:51.293Z"
   },
   {
    "duration": 24,
    "start_time": "2022-12-22T21:28:51.322Z"
   },
   {
    "duration": 1272,
    "start_time": "2022-12-22T21:28:51.347Z"
   },
   {
    "duration": 7,
    "start_time": "2022-12-22T21:28:52.621Z"
   },
   {
    "duration": 334,
    "start_time": "2022-12-22T21:28:52.630Z"
   },
   {
    "duration": 15,
    "start_time": "2022-12-22T21:28:52.965Z"
   },
   {
    "duration": 586,
    "start_time": "2022-12-22T21:28:52.981Z"
   },
   {
    "duration": 12,
    "start_time": "2022-12-22T21:28:53.568Z"
   },
   {
    "duration": 27,
    "start_time": "2022-12-22T21:28:53.582Z"
   },
   {
    "duration": 769,
    "start_time": "2022-12-22T21:28:53.612Z"
   },
   {
    "duration": 9,
    "start_time": "2022-12-22T21:28:54.383Z"
   },
   {
    "duration": 861,
    "start_time": "2022-12-22T21:28:54.394Z"
   },
   {
    "duration": 9,
    "start_time": "2022-12-22T21:28:55.258Z"
   },
   {
    "duration": 12,
    "start_time": "2022-12-22T21:28:55.269Z"
   },
   {
    "duration": 31,
    "start_time": "2022-12-22T21:28:55.283Z"
   },
   {
    "duration": 12,
    "start_time": "2022-12-22T21:28:55.316Z"
   },
   {
    "duration": 12,
    "start_time": "2022-12-22T21:28:55.330Z"
   },
   {
    "duration": 21,
    "start_time": "2022-12-22T21:28:55.343Z"
   },
   {
    "duration": 11,
    "start_time": "2022-12-22T21:28:55.365Z"
   },
   {
    "duration": 41,
    "start_time": "2022-12-22T21:28:55.378Z"
   },
   {
    "duration": 15,
    "start_time": "2022-12-22T21:28:55.420Z"
   },
   {
    "duration": 21,
    "start_time": "2022-12-22T21:28:55.436Z"
   },
   {
    "duration": 16,
    "start_time": "2022-12-22T21:28:55.459Z"
   },
   {
    "duration": 37,
    "start_time": "2022-12-22T21:28:55.477Z"
   },
   {
    "duration": 13,
    "start_time": "2022-12-22T21:28:55.515Z"
   },
   {
    "duration": 30,
    "start_time": "2022-12-22T21:28:55.530Z"
   },
   {
    "duration": 469,
    "start_time": "2022-12-22T21:28:55.562Z"
   },
   {
    "duration": 10,
    "start_time": "2022-12-22T21:28:56.033Z"
   },
   {
    "duration": 12,
    "start_time": "2022-12-22T21:30:26.947Z"
   },
   {
    "duration": 9,
    "start_time": "2022-12-22T21:31:26.762Z"
   },
   {
    "duration": 464,
    "start_time": "2022-12-22T21:31:38.813Z"
   },
   {
    "duration": 25,
    "start_time": "2022-12-22T21:31:39.279Z"
   },
   {
    "duration": 14,
    "start_time": "2022-12-22T21:31:39.306Z"
   },
   {
    "duration": 335,
    "start_time": "2022-12-22T21:31:39.322Z"
   },
   {
    "duration": 15,
    "start_time": "2022-12-22T21:31:39.658Z"
   },
   {
    "duration": 14,
    "start_time": "2022-12-22T21:31:39.675Z"
   },
   {
    "duration": 22,
    "start_time": "2022-12-22T21:31:39.691Z"
   },
   {
    "duration": 12,
    "start_time": "2022-12-22T21:31:39.715Z"
   },
   {
    "duration": 8,
    "start_time": "2022-12-22T21:31:39.729Z"
   },
   {
    "duration": 37,
    "start_time": "2022-12-22T21:31:39.742Z"
   },
   {
    "duration": 9,
    "start_time": "2022-12-22T21:31:39.782Z"
   },
   {
    "duration": 29,
    "start_time": "2022-12-22T21:31:39.793Z"
   },
   {
    "duration": 10,
    "start_time": "2022-12-22T21:31:39.824Z"
   },
   {
    "duration": 11,
    "start_time": "2022-12-22T21:31:39.836Z"
   },
   {
    "duration": 15,
    "start_time": "2022-12-22T21:31:39.849Z"
   },
   {
    "duration": 235,
    "start_time": "2022-12-22T21:31:39.866Z"
   },
   {
    "duration": 132,
    "start_time": "2022-12-22T21:31:40.103Z"
   },
   {
    "duration": 18,
    "start_time": "2022-12-22T21:31:40.237Z"
   },
   {
    "duration": 6,
    "start_time": "2022-12-22T21:31:40.256Z"
   },
   {
    "duration": 12,
    "start_time": "2022-12-22T21:31:40.264Z"
   },
   {
    "duration": 6,
    "start_time": "2022-12-22T21:31:40.277Z"
   },
   {
    "duration": 51,
    "start_time": "2022-12-22T21:31:40.284Z"
   },
   {
    "duration": 173,
    "start_time": "2022-12-22T21:31:40.337Z"
   },
   {
    "duration": 231,
    "start_time": "2022-12-22T21:31:40.512Z"
   },
   {
    "duration": 153,
    "start_time": "2022-12-22T21:31:40.745Z"
   },
   {
    "duration": 171,
    "start_time": "2022-12-22T21:31:40.899Z"
   },
   {
    "duration": 157,
    "start_time": "2022-12-22T21:31:41.072Z"
   },
   {
    "duration": 163,
    "start_time": "2022-12-22T21:31:41.233Z"
   },
   {
    "duration": 33,
    "start_time": "2022-12-22T21:31:41.398Z"
   },
   {
    "duration": 32,
    "start_time": "2022-12-22T21:31:41.433Z"
   },
   {
    "duration": 1329,
    "start_time": "2022-12-22T21:31:41.467Z"
   },
   {
    "duration": 8,
    "start_time": "2022-12-22T21:31:42.797Z"
   },
   {
    "duration": 358,
    "start_time": "2022-12-22T21:31:42.807Z"
   },
   {
    "duration": 16,
    "start_time": "2022-12-22T21:31:43.167Z"
   },
   {
    "duration": 587,
    "start_time": "2022-12-22T21:31:43.185Z"
   },
   {
    "duration": 12,
    "start_time": "2022-12-22T21:31:43.773Z"
   },
   {
    "duration": 26,
    "start_time": "2022-12-22T21:31:43.786Z"
   },
   {
    "duration": 743,
    "start_time": "2022-12-22T21:31:43.814Z"
   },
   {
    "duration": 8,
    "start_time": "2022-12-22T21:31:44.559Z"
   },
   {
    "duration": 857,
    "start_time": "2022-12-22T21:31:44.569Z"
   },
   {
    "duration": 8,
    "start_time": "2022-12-22T21:31:45.428Z"
   },
   {
    "duration": 11,
    "start_time": "2022-12-22T21:31:45.437Z"
   },
   {
    "duration": 12,
    "start_time": "2022-12-22T21:31:45.450Z"
   },
   {
    "duration": 11,
    "start_time": "2022-12-22T21:31:45.464Z"
   },
   {
    "duration": 42,
    "start_time": "2022-12-22T21:31:45.477Z"
   },
   {
    "duration": 23,
    "start_time": "2022-12-22T21:31:45.521Z"
   },
   {
    "duration": 18,
    "start_time": "2022-12-22T21:31:45.546Z"
   },
   {
    "duration": 15,
    "start_time": "2022-12-22T21:31:45.566Z"
   },
   {
    "duration": 30,
    "start_time": "2022-12-22T21:31:45.582Z"
   },
   {
    "duration": 21,
    "start_time": "2022-12-22T21:31:45.614Z"
   },
   {
    "duration": 13,
    "start_time": "2022-12-22T21:31:45.637Z"
   },
   {
    "duration": 12,
    "start_time": "2022-12-22T21:31:45.652Z"
   },
   {
    "duration": 22,
    "start_time": "2022-12-22T21:31:45.666Z"
   },
   {
    "duration": 37,
    "start_time": "2022-12-22T21:31:45.690Z"
   },
   {
    "duration": 411,
    "start_time": "2022-12-22T21:31:45.729Z"
   },
   {
    "duration": 8,
    "start_time": "2022-12-22T21:32:14.092Z"
   },
   {
    "duration": 8,
    "start_time": "2022-12-22T21:32:24.730Z"
   },
   {
    "duration": 7,
    "start_time": "2022-12-22T21:32:39.380Z"
   },
   {
    "duration": 6,
    "start_time": "2022-12-22T21:32:52.018Z"
   },
   {
    "duration": 10,
    "start_time": "2022-12-22T21:33:22.030Z"
   },
   {
    "duration": 11,
    "start_time": "2022-12-22T21:34:04.259Z"
   },
   {
    "duration": 6,
    "start_time": "2022-12-22T21:34:12.490Z"
   },
   {
    "duration": 97,
    "start_time": "2022-12-22T21:35:27.582Z"
   },
   {
    "duration": 9,
    "start_time": "2022-12-22T21:35:45.485Z"
   },
   {
    "duration": 5,
    "start_time": "2022-12-22T21:35:56.096Z"
   },
   {
    "duration": 8,
    "start_time": "2022-12-22T21:51:49.001Z"
   },
   {
    "duration": 4,
    "start_time": "2022-12-22T21:52:09.066Z"
   },
   {
    "duration": 8,
    "start_time": "2022-12-22T21:53:16.078Z"
   },
   {
    "duration": 4,
    "start_time": "2022-12-22T21:53:18.636Z"
   },
   {
    "duration": 460,
    "start_time": "2022-12-22T21:53:26.709Z"
   },
   {
    "duration": 21,
    "start_time": "2022-12-22T21:53:27.171Z"
   },
   {
    "duration": 13,
    "start_time": "2022-12-22T21:53:27.194Z"
   },
   {
    "duration": 277,
    "start_time": "2022-12-22T21:53:27.209Z"
   },
   {
    "duration": 15,
    "start_time": "2022-12-22T21:53:27.488Z"
   },
   {
    "duration": 22,
    "start_time": "2022-12-22T21:53:27.505Z"
   },
   {
    "duration": 23,
    "start_time": "2022-12-22T21:53:27.529Z"
   },
   {
    "duration": 14,
    "start_time": "2022-12-22T21:53:27.554Z"
   },
   {
    "duration": 16,
    "start_time": "2022-12-22T21:53:27.570Z"
   },
   {
    "duration": 20,
    "start_time": "2022-12-22T21:53:27.588Z"
   },
   {
    "duration": 5,
    "start_time": "2022-12-22T21:53:27.610Z"
   },
   {
    "duration": 27,
    "start_time": "2022-12-22T21:53:27.616Z"
   },
   {
    "duration": 17,
    "start_time": "2022-12-22T21:53:27.645Z"
   },
   {
    "duration": 13,
    "start_time": "2022-12-22T21:53:27.665Z"
   },
   {
    "duration": 16,
    "start_time": "2022-12-22T21:53:27.680Z"
   },
   {
    "duration": 203,
    "start_time": "2022-12-22T21:53:27.697Z"
   },
   {
    "duration": 126,
    "start_time": "2022-12-22T21:53:27.902Z"
   },
   {
    "duration": 20,
    "start_time": "2022-12-22T21:53:28.029Z"
   },
   {
    "duration": 5,
    "start_time": "2022-12-22T21:53:28.051Z"
   },
   {
    "duration": 23,
    "start_time": "2022-12-22T21:53:28.058Z"
   },
   {
    "duration": 13,
    "start_time": "2022-12-22T21:53:28.083Z"
   },
   {
    "duration": 26,
    "start_time": "2022-12-22T21:53:28.098Z"
   },
   {
    "duration": 162,
    "start_time": "2022-12-22T21:53:28.127Z"
   },
   {
    "duration": 229,
    "start_time": "2022-12-22T21:53:28.292Z"
   },
   {
    "duration": 157,
    "start_time": "2022-12-22T21:53:28.523Z"
   },
   {
    "duration": 156,
    "start_time": "2022-12-22T21:53:28.682Z"
   },
   {
    "duration": 142,
    "start_time": "2022-12-22T21:53:28.840Z"
   },
   {
    "duration": 166,
    "start_time": "2022-12-22T21:53:28.983Z"
   },
   {
    "duration": 19,
    "start_time": "2022-12-22T21:53:29.151Z"
   },
   {
    "duration": 41,
    "start_time": "2022-12-22T21:53:29.172Z"
   },
   {
    "duration": 1313,
    "start_time": "2022-12-22T21:53:29.215Z"
   },
   {
    "duration": 7,
    "start_time": "2022-12-22T21:53:30.530Z"
   },
   {
    "duration": 336,
    "start_time": "2022-12-22T21:53:30.539Z"
   },
   {
    "duration": 15,
    "start_time": "2022-12-22T21:53:30.877Z"
   },
   {
    "duration": 576,
    "start_time": "2022-12-22T21:53:30.893Z"
   },
   {
    "duration": 12,
    "start_time": "2022-12-22T21:53:31.472Z"
   },
   {
    "duration": 13,
    "start_time": "2022-12-22T21:53:31.485Z"
   },
   {
    "duration": 725,
    "start_time": "2022-12-22T21:53:31.512Z"
   },
   {
    "duration": 8,
    "start_time": "2022-12-22T21:53:32.239Z"
   },
   {
    "duration": 828,
    "start_time": "2022-12-22T21:53:32.249Z"
   },
   {
    "duration": 8,
    "start_time": "2022-12-22T21:53:33.081Z"
   },
   {
    "duration": 23,
    "start_time": "2022-12-22T21:53:33.090Z"
   },
   {
    "duration": 14,
    "start_time": "2022-12-22T21:53:33.114Z"
   },
   {
    "duration": 13,
    "start_time": "2022-12-22T21:53:33.130Z"
   },
   {
    "duration": 12,
    "start_time": "2022-12-22T21:53:33.145Z"
   },
   {
    "duration": 20,
    "start_time": "2022-12-22T21:53:33.159Z"
   },
   {
    "duration": 45,
    "start_time": "2022-12-22T21:53:33.180Z"
   },
   {
    "duration": 27,
    "start_time": "2022-12-22T21:53:33.227Z"
   },
   {
    "duration": 17,
    "start_time": "2022-12-22T21:53:33.256Z"
   },
   {
    "duration": 21,
    "start_time": "2022-12-22T21:53:33.274Z"
   },
   {
    "duration": 24,
    "start_time": "2022-12-22T21:53:33.296Z"
   },
   {
    "duration": 12,
    "start_time": "2022-12-22T21:53:33.322Z"
   },
   {
    "duration": 12,
    "start_time": "2022-12-22T21:53:33.335Z"
   },
   {
    "duration": 19,
    "start_time": "2022-12-22T21:53:33.348Z"
   },
   {
    "duration": 89,
    "start_time": "2022-12-22T21:53:33.369Z"
   },
   {
    "duration": 0,
    "start_time": "2022-12-22T21:53:33.460Z"
   },
   {
    "duration": 453,
    "start_time": "2022-12-22T21:54:03.058Z"
   },
   {
    "duration": 4,
    "start_time": "2022-12-22T21:54:05.691Z"
   },
   {
    "duration": 464,
    "start_time": "2022-12-22T21:54:11.024Z"
   },
   {
    "duration": 22,
    "start_time": "2022-12-22T21:54:11.491Z"
   },
   {
    "duration": 16,
    "start_time": "2022-12-22T21:54:11.515Z"
   },
   {
    "duration": 282,
    "start_time": "2022-12-22T21:54:11.533Z"
   },
   {
    "duration": 16,
    "start_time": "2022-12-22T21:54:11.817Z"
   },
   {
    "duration": 9,
    "start_time": "2022-12-22T21:54:11.834Z"
   },
   {
    "duration": 10,
    "start_time": "2022-12-22T21:54:11.845Z"
   },
   {
    "duration": 10,
    "start_time": "2022-12-22T21:54:11.857Z"
   },
   {
    "duration": 6,
    "start_time": "2022-12-22T21:54:11.869Z"
   },
   {
    "duration": 44,
    "start_time": "2022-12-22T21:54:11.877Z"
   },
   {
    "duration": 5,
    "start_time": "2022-12-22T21:54:11.923Z"
   },
   {
    "duration": 7,
    "start_time": "2022-12-22T21:54:11.929Z"
   },
   {
    "duration": 8,
    "start_time": "2022-12-22T21:54:11.938Z"
   },
   {
    "duration": 13,
    "start_time": "2022-12-22T21:54:11.947Z"
   },
   {
    "duration": 6,
    "start_time": "2022-12-22T21:54:11.962Z"
   },
   {
    "duration": 196,
    "start_time": "2022-12-22T21:54:11.969Z"
   },
   {
    "duration": 135,
    "start_time": "2022-12-22T21:54:12.167Z"
   },
   {
    "duration": 20,
    "start_time": "2022-12-22T21:54:12.303Z"
   },
   {
    "duration": 5,
    "start_time": "2022-12-22T21:54:12.325Z"
   },
   {
    "duration": 8,
    "start_time": "2022-12-22T21:54:12.332Z"
   },
   {
    "duration": 4,
    "start_time": "2022-12-22T21:54:12.342Z"
   },
   {
    "duration": 20,
    "start_time": "2022-12-22T21:54:12.347Z"
   },
   {
    "duration": 202,
    "start_time": "2022-12-22T21:54:12.368Z"
   },
   {
    "duration": 210,
    "start_time": "2022-12-22T21:54:12.572Z"
   },
   {
    "duration": 160,
    "start_time": "2022-12-22T21:54:12.784Z"
   },
   {
    "duration": 154,
    "start_time": "2022-12-22T21:54:12.946Z"
   },
   {
    "duration": 158,
    "start_time": "2022-12-22T21:54:13.102Z"
   },
   {
    "duration": 154,
    "start_time": "2022-12-22T21:54:13.264Z"
   },
   {
    "duration": 18,
    "start_time": "2022-12-22T21:54:13.419Z"
   },
   {
    "duration": 26,
    "start_time": "2022-12-22T21:54:13.438Z"
   },
   {
    "duration": 1338,
    "start_time": "2022-12-22T21:54:13.466Z"
   },
   {
    "duration": 8,
    "start_time": "2022-12-22T21:54:14.806Z"
   },
   {
    "duration": 347,
    "start_time": "2022-12-22T21:54:14.816Z"
   },
   {
    "duration": 15,
    "start_time": "2022-12-22T21:54:15.165Z"
   },
   {
    "duration": 630,
    "start_time": "2022-12-22T21:54:15.182Z"
   },
   {
    "duration": 11,
    "start_time": "2022-12-22T21:54:15.813Z"
   },
   {
    "duration": 19,
    "start_time": "2022-12-22T21:54:15.826Z"
   },
   {
    "duration": 801,
    "start_time": "2022-12-22T21:54:15.846Z"
   },
   {
    "duration": 8,
    "start_time": "2022-12-22T21:54:16.648Z"
   },
   {
    "duration": 845,
    "start_time": "2022-12-22T21:54:16.658Z"
   },
   {
    "duration": 11,
    "start_time": "2022-12-22T21:54:17.505Z"
   },
   {
    "duration": 11,
    "start_time": "2022-12-22T21:54:17.518Z"
   },
   {
    "duration": 35,
    "start_time": "2022-12-22T21:54:17.531Z"
   },
   {
    "duration": 27,
    "start_time": "2022-12-22T21:54:17.568Z"
   },
   {
    "duration": 18,
    "start_time": "2022-12-22T21:54:17.597Z"
   },
   {
    "duration": 27,
    "start_time": "2022-12-22T21:54:17.617Z"
   },
   {
    "duration": 14,
    "start_time": "2022-12-22T21:54:17.646Z"
   },
   {
    "duration": 24,
    "start_time": "2022-12-22T21:54:17.661Z"
   },
   {
    "duration": 25,
    "start_time": "2022-12-22T21:54:17.687Z"
   },
   {
    "duration": 19,
    "start_time": "2022-12-22T21:54:17.714Z"
   },
   {
    "duration": 12,
    "start_time": "2022-12-22T21:54:17.735Z"
   },
   {
    "duration": 15,
    "start_time": "2022-12-22T21:54:17.749Z"
   },
   {
    "duration": 16,
    "start_time": "2022-12-22T21:54:17.765Z"
   },
   {
    "duration": 41,
    "start_time": "2022-12-22T21:54:17.783Z"
   },
   {
    "duration": 437,
    "start_time": "2022-12-22T21:54:17.826Z"
   },
   {
    "duration": 4,
    "start_time": "2022-12-22T21:54:18.265Z"
   },
   {
    "duration": 121,
    "start_time": "2022-12-22T21:57:32.779Z"
   },
   {
    "duration": 6,
    "start_time": "2022-12-22T21:57:53.831Z"
   },
   {
    "duration": 18,
    "start_time": "2022-12-22T22:00:48.464Z"
   },
   {
    "duration": 15,
    "start_time": "2022-12-22T22:01:27.356Z"
   },
   {
    "duration": 25,
    "start_time": "2022-12-22T22:01:51.946Z"
   },
   {
    "duration": 1317,
    "start_time": "2022-12-22T22:02:17.881Z"
   },
   {
    "duration": 6,
    "start_time": "2022-12-22T22:02:32.655Z"
   },
   {
    "duration": 239,
    "start_time": "2022-12-22T22:02:33.850Z"
   },
   {
    "duration": 13,
    "start_time": "2022-12-22T22:03:03.872Z"
   },
   {
    "duration": 556,
    "start_time": "2022-12-22T22:03:04.980Z"
   },
   {
    "duration": 20,
    "start_time": "2022-12-22T22:03:53.448Z"
   },
   {
    "duration": 693,
    "start_time": "2022-12-22T22:03:57.499Z"
   },
   {
    "duration": 9,
    "start_time": "2022-12-22T22:04:03.980Z"
   },
   {
    "duration": 603,
    "start_time": "2022-12-22T22:05:18.427Z"
   },
   {
    "duration": 7,
    "start_time": "2022-12-22T22:06:50.960Z"
   },
   {
    "duration": 8,
    "start_time": "2022-12-22T22:06:59.415Z"
   },
   {
    "duration": 7,
    "start_time": "2022-12-22T22:07:04.724Z"
   },
   {
    "duration": 9,
    "start_time": "2022-12-22T22:10:26.458Z"
   },
   {
    "duration": 8,
    "start_time": "2022-12-22T22:13:09.079Z"
   },
   {
    "duration": 14,
    "start_time": "2022-12-22T22:13:30.503Z"
   },
   {
    "duration": 13,
    "start_time": "2022-12-22T22:13:41.036Z"
   },
   {
    "duration": 12,
    "start_time": "2022-12-22T22:13:45.915Z"
   },
   {
    "duration": 22,
    "start_time": "2022-12-22T22:13:50.468Z"
   },
   {
    "duration": 13,
    "start_time": "2022-12-22T23:25:47.796Z"
   },
   {
    "duration": 22,
    "start_time": "2022-12-22T23:25:49.274Z"
   },
   {
    "duration": 21,
    "start_time": "2022-12-22T23:27:13.278Z"
   },
   {
    "duration": 9,
    "start_time": "2022-12-22T23:27:51.733Z"
   },
   {
    "duration": 12,
    "start_time": "2022-12-22T23:29:00.563Z"
   },
   {
    "duration": 477,
    "start_time": "2022-12-22T23:32:11.506Z"
   },
   {
    "duration": 22,
    "start_time": "2022-12-22T23:32:11.985Z"
   },
   {
    "duration": 14,
    "start_time": "2022-12-22T23:32:12.009Z"
   },
   {
    "duration": 299,
    "start_time": "2022-12-22T23:32:12.025Z"
   },
   {
    "duration": 15,
    "start_time": "2022-12-22T23:32:12.326Z"
   },
   {
    "duration": 27,
    "start_time": "2022-12-22T23:32:12.343Z"
   },
   {
    "duration": 16,
    "start_time": "2022-12-22T23:32:12.371Z"
   },
   {
    "duration": 13,
    "start_time": "2022-12-22T23:32:12.389Z"
   },
   {
    "duration": 14,
    "start_time": "2022-12-22T23:32:12.404Z"
   },
   {
    "duration": 30,
    "start_time": "2022-12-22T23:32:12.420Z"
   },
   {
    "duration": 8,
    "start_time": "2022-12-22T23:32:12.451Z"
   },
   {
    "duration": 13,
    "start_time": "2022-12-22T23:32:12.461Z"
   },
   {
    "duration": 14,
    "start_time": "2022-12-22T23:32:12.475Z"
   },
   {
    "duration": 24,
    "start_time": "2022-12-22T23:32:12.490Z"
   },
   {
    "duration": 17,
    "start_time": "2022-12-22T23:32:12.515Z"
   },
   {
    "duration": 202,
    "start_time": "2022-12-22T23:32:12.534Z"
   },
   {
    "duration": 137,
    "start_time": "2022-12-22T23:32:12.738Z"
   },
   {
    "duration": 19,
    "start_time": "2022-12-22T23:32:12.876Z"
   },
   {
    "duration": 19,
    "start_time": "2022-12-22T23:32:12.897Z"
   },
   {
    "duration": 22,
    "start_time": "2022-12-22T23:32:12.918Z"
   },
   {
    "duration": 13,
    "start_time": "2022-12-22T23:32:12.942Z"
   },
   {
    "duration": 21,
    "start_time": "2022-12-22T23:32:12.957Z"
   },
   {
    "duration": 160,
    "start_time": "2022-12-22T23:32:12.980Z"
   },
   {
    "duration": 241,
    "start_time": "2022-12-22T23:32:13.142Z"
   },
   {
    "duration": 168,
    "start_time": "2022-12-22T23:32:13.385Z"
   },
   {
    "duration": 176,
    "start_time": "2022-12-22T23:32:13.555Z"
   },
   {
    "duration": 163,
    "start_time": "2022-12-22T23:32:13.733Z"
   },
   {
    "duration": 161,
    "start_time": "2022-12-22T23:32:13.900Z"
   },
   {
    "duration": 7,
    "start_time": "2022-12-22T23:32:14.062Z"
   },
   {
    "duration": 34,
    "start_time": "2022-12-22T23:32:14.070Z"
   },
   {
    "duration": 45,
    "start_time": "2022-12-22T23:32:14.106Z"
   },
   {
    "duration": 1395,
    "start_time": "2022-12-22T23:32:14.153Z"
   },
   {
    "duration": 7,
    "start_time": "2022-12-22T23:32:15.549Z"
   },
   {
    "duration": 376,
    "start_time": "2022-12-22T23:32:15.557Z"
   },
   {
    "duration": 15,
    "start_time": "2022-12-22T23:32:15.935Z"
   },
   {
    "duration": 717,
    "start_time": "2022-12-22T23:32:15.952Z"
   },
   {
    "duration": 13,
    "start_time": "2022-12-22T23:32:16.671Z"
   },
   {
    "duration": 27,
    "start_time": "2022-12-22T23:32:16.686Z"
   },
   {
    "duration": 635,
    "start_time": "2022-12-22T23:32:16.715Z"
   },
   {
    "duration": 8,
    "start_time": "2022-12-22T23:32:17.352Z"
   },
   {
    "duration": 735,
    "start_time": "2022-12-22T23:32:17.362Z"
   },
   {
    "duration": 14,
    "start_time": "2022-12-22T23:32:18.099Z"
   },
   {
    "duration": 12,
    "start_time": "2022-12-22T23:32:18.115Z"
   },
   {
    "duration": 29,
    "start_time": "2022-12-22T23:32:18.128Z"
   },
   {
    "duration": 24,
    "start_time": "2022-12-22T23:32:18.160Z"
   },
   {
    "duration": 30,
    "start_time": "2022-12-22T23:32:18.186Z"
   },
   {
    "duration": 24,
    "start_time": "2022-12-22T23:32:18.218Z"
   },
   {
    "duration": 16,
    "start_time": "2022-12-22T23:32:18.244Z"
   },
   {
    "duration": 16,
    "start_time": "2022-12-22T23:32:18.262Z"
   },
   {
    "duration": 17,
    "start_time": "2022-12-22T23:32:18.280Z"
   },
   {
    "duration": 50,
    "start_time": "2022-12-22T23:32:18.299Z"
   },
   {
    "duration": 25,
    "start_time": "2022-12-22T23:32:18.351Z"
   },
   {
    "duration": 12,
    "start_time": "2022-12-22T23:32:18.378Z"
   },
   {
    "duration": 65,
    "start_time": "2022-12-22T23:32:18.392Z"
   },
   {
    "duration": 55,
    "start_time": "2022-12-22T23:32:18.459Z"
   },
   {
    "duration": 423,
    "start_time": "2022-12-22T23:32:18.517Z"
   },
   {
    "duration": 3,
    "start_time": "2022-12-22T23:32:18.943Z"
   },
   {
    "duration": 20,
    "start_time": "2022-12-22T23:32:18.948Z"
   },
   {
    "duration": 10,
    "start_time": "2022-12-22T23:41:58.066Z"
   },
   {
    "duration": 11,
    "start_time": "2022-12-22T23:43:49.077Z"
   },
   {
    "duration": 12,
    "start_time": "2022-12-22T23:48:14.705Z"
   },
   {
    "duration": 11,
    "start_time": "2022-12-22T23:48:19.031Z"
   },
   {
    "duration": 11,
    "start_time": "2022-12-22T23:53:49.690Z"
   },
   {
    "duration": 14,
    "start_time": "2022-12-22T23:55:15.417Z"
   },
   {
    "duration": 21,
    "start_time": "2022-12-22T23:55:34.113Z"
   },
   {
    "duration": 18,
    "start_time": "2022-12-22T23:55:54.210Z"
   },
   {
    "duration": 11,
    "start_time": "2022-12-22T23:55:59.898Z"
   },
   {
    "duration": 13,
    "start_time": "2022-12-22T23:56:13.111Z"
   },
   {
    "duration": 13,
    "start_time": "2022-12-22T23:56:16.462Z"
   },
   {
    "duration": 486,
    "start_time": "2022-12-23T10:06:24.948Z"
   },
   {
    "duration": 19,
    "start_time": "2022-12-23T10:06:25.436Z"
   },
   {
    "duration": 18,
    "start_time": "2022-12-23T10:06:25.457Z"
   },
   {
    "duration": 280,
    "start_time": "2022-12-23T10:06:25.477Z"
   },
   {
    "duration": 13,
    "start_time": "2022-12-23T10:06:25.759Z"
   },
   {
    "duration": 19,
    "start_time": "2022-12-23T10:06:25.774Z"
   },
   {
    "duration": 18,
    "start_time": "2022-12-23T10:06:25.795Z"
   },
   {
    "duration": 14,
    "start_time": "2022-12-23T10:06:25.815Z"
   },
   {
    "duration": 11,
    "start_time": "2022-12-23T10:06:25.831Z"
   },
   {
    "duration": 46,
    "start_time": "2022-12-23T10:06:25.845Z"
   },
   {
    "duration": 30,
    "start_time": "2022-12-23T10:06:25.893Z"
   },
   {
    "duration": 38,
    "start_time": "2022-12-23T10:06:25.925Z"
   },
   {
    "duration": 5,
    "start_time": "2022-12-23T10:06:25.965Z"
   },
   {
    "duration": 10,
    "start_time": "2022-12-23T10:06:25.972Z"
   },
   {
    "duration": 9,
    "start_time": "2022-12-23T10:06:25.984Z"
   },
   {
    "duration": 186,
    "start_time": "2022-12-23T10:06:25.994Z"
   },
   {
    "duration": 124,
    "start_time": "2022-12-23T10:06:26.182Z"
   },
   {
    "duration": 28,
    "start_time": "2022-12-23T10:06:26.308Z"
   },
   {
    "duration": 5,
    "start_time": "2022-12-23T10:06:26.338Z"
   },
   {
    "duration": 28,
    "start_time": "2022-12-23T10:06:26.344Z"
   },
   {
    "duration": 17,
    "start_time": "2022-12-23T10:06:26.374Z"
   },
   {
    "duration": 21,
    "start_time": "2022-12-23T10:06:26.393Z"
   },
   {
    "duration": 140,
    "start_time": "2022-12-23T10:06:26.415Z"
   },
   {
    "duration": 234,
    "start_time": "2022-12-23T10:06:26.556Z"
   },
   {
    "duration": 149,
    "start_time": "2022-12-23T10:06:26.792Z"
   },
   {
    "duration": 139,
    "start_time": "2022-12-23T10:06:26.943Z"
   },
   {
    "duration": 155,
    "start_time": "2022-12-23T10:06:27.084Z"
   },
   {
    "duration": 141,
    "start_time": "2022-12-23T10:06:27.243Z"
   },
   {
    "duration": 6,
    "start_time": "2022-12-23T10:06:27.385Z"
   },
   {
    "duration": 34,
    "start_time": "2022-12-23T10:06:27.392Z"
   },
   {
    "duration": 51,
    "start_time": "2022-12-23T10:06:27.428Z"
   },
   {
    "duration": 1178,
    "start_time": "2022-12-23T10:06:27.480Z"
   },
   {
    "duration": 6,
    "start_time": "2022-12-23T10:06:28.660Z"
   },
   {
    "duration": 326,
    "start_time": "2022-12-23T10:06:28.667Z"
   },
   {
    "duration": 16,
    "start_time": "2022-12-23T10:06:28.994Z"
   },
   {
    "duration": 529,
    "start_time": "2022-12-23T10:06:29.011Z"
   },
   {
    "duration": 10,
    "start_time": "2022-12-23T10:06:29.542Z"
   },
   {
    "duration": 22,
    "start_time": "2022-12-23T10:06:29.553Z"
   },
   {
    "duration": 574,
    "start_time": "2022-12-23T10:06:29.577Z"
   },
   {
    "duration": 7,
    "start_time": "2022-12-23T10:06:30.153Z"
   },
   {
    "duration": 640,
    "start_time": "2022-12-23T10:06:30.162Z"
   },
   {
    "duration": 7,
    "start_time": "2022-12-23T10:06:30.804Z"
   },
   {
    "duration": 34,
    "start_time": "2022-12-23T10:06:30.813Z"
   },
   {
    "duration": 37,
    "start_time": "2022-12-23T10:06:30.849Z"
   },
   {
    "duration": 28,
    "start_time": "2022-12-23T10:06:30.888Z"
   },
   {
    "duration": 16,
    "start_time": "2022-12-23T10:06:30.917Z"
   },
   {
    "duration": 466,
    "start_time": "2022-12-23T10:14:14.100Z"
   },
   {
    "duration": 20,
    "start_time": "2022-12-23T10:14:14.568Z"
   },
   {
    "duration": 41,
    "start_time": "2022-12-23T10:14:14.589Z"
   },
   {
    "duration": 325,
    "start_time": "2022-12-23T10:14:14.633Z"
   },
   {
    "duration": 16,
    "start_time": "2022-12-23T10:14:14.960Z"
   },
   {
    "duration": 36,
    "start_time": "2022-12-23T10:14:14.978Z"
   },
   {
    "duration": 31,
    "start_time": "2022-12-23T10:14:15.016Z"
   },
   {
    "duration": 7,
    "start_time": "2022-12-23T10:14:15.049Z"
   },
   {
    "duration": 26,
    "start_time": "2022-12-23T10:14:15.058Z"
   },
   {
    "duration": 26,
    "start_time": "2022-12-23T10:14:15.086Z"
   },
   {
    "duration": 18,
    "start_time": "2022-12-23T10:14:15.114Z"
   },
   {
    "duration": 50,
    "start_time": "2022-12-23T10:14:15.133Z"
   },
   {
    "duration": 34,
    "start_time": "2022-12-23T10:14:15.185Z"
   },
   {
    "duration": 27,
    "start_time": "2022-12-23T10:14:15.221Z"
   },
   {
    "duration": 15,
    "start_time": "2022-12-23T10:14:15.250Z"
   },
   {
    "duration": 200,
    "start_time": "2022-12-23T10:14:15.266Z"
   },
   {
    "duration": 127,
    "start_time": "2022-12-23T10:14:15.468Z"
   },
   {
    "duration": 19,
    "start_time": "2022-12-23T10:14:15.596Z"
   },
   {
    "duration": 20,
    "start_time": "2022-12-23T10:14:15.616Z"
   },
   {
    "duration": 23,
    "start_time": "2022-12-23T10:14:15.638Z"
   },
   {
    "duration": 22,
    "start_time": "2022-12-23T10:14:15.663Z"
   },
   {
    "duration": 32,
    "start_time": "2022-12-23T10:14:15.686Z"
   },
   {
    "duration": 158,
    "start_time": "2022-12-23T10:14:15.719Z"
   },
   {
    "duration": 232,
    "start_time": "2022-12-23T10:14:15.879Z"
   },
   {
    "duration": 162,
    "start_time": "2022-12-23T10:14:16.113Z"
   },
   {
    "duration": 160,
    "start_time": "2022-12-23T10:14:16.277Z"
   },
   {
    "duration": 159,
    "start_time": "2022-12-23T10:14:16.438Z"
   },
   {
    "duration": 185,
    "start_time": "2022-12-23T10:14:16.601Z"
   },
   {
    "duration": 6,
    "start_time": "2022-12-23T10:14:16.787Z"
   },
   {
    "duration": 25,
    "start_time": "2022-12-23T10:14:16.795Z"
   },
   {
    "duration": 51,
    "start_time": "2022-12-23T10:14:16.822Z"
   },
   {
    "duration": 1329,
    "start_time": "2022-12-23T10:14:16.876Z"
   },
   {
    "duration": 7,
    "start_time": "2022-12-23T10:14:18.207Z"
   },
   {
    "duration": 345,
    "start_time": "2022-12-23T10:14:18.215Z"
   },
   {
    "duration": 14,
    "start_time": "2022-12-23T10:14:18.562Z"
   },
   {
    "duration": 581,
    "start_time": "2022-12-23T10:14:18.577Z"
   },
   {
    "duration": 13,
    "start_time": "2022-12-23T10:14:19.160Z"
   },
   {
    "duration": 36,
    "start_time": "2022-12-23T10:14:19.174Z"
   },
   {
    "duration": 648,
    "start_time": "2022-12-23T10:14:19.212Z"
   },
   {
    "duration": 8,
    "start_time": "2022-12-23T10:14:19.862Z"
   },
   {
    "duration": 713,
    "start_time": "2022-12-23T10:14:19.871Z"
   },
   {
    "duration": 7,
    "start_time": "2022-12-23T10:14:20.585Z"
   },
   {
    "duration": 18,
    "start_time": "2022-12-23T10:14:20.594Z"
   },
   {
    "duration": 26,
    "start_time": "2022-12-23T10:14:20.613Z"
   },
   {
    "duration": 65,
    "start_time": "2022-12-23T10:14:20.640Z"
   },
   {
    "duration": 16,
    "start_time": "2022-12-23T10:14:20.707Z"
   },
   {
    "duration": 27,
    "start_time": "2022-12-23T10:14:20.725Z"
   },
   {
    "duration": 27,
    "start_time": "2022-12-23T10:14:20.754Z"
   },
   {
    "duration": 22,
    "start_time": "2022-12-23T10:14:20.783Z"
   },
   {
    "duration": 30,
    "start_time": "2022-12-23T10:14:20.807Z"
   },
   {
    "duration": 67,
    "start_time": "2022-12-23T10:14:20.839Z"
   },
   {
    "duration": 32,
    "start_time": "2022-12-23T10:14:20.908Z"
   },
   {
    "duration": 55,
    "start_time": "2022-12-23T10:14:20.942Z"
   },
   {
    "duration": 31,
    "start_time": "2022-12-23T10:14:20.999Z"
   },
   {
    "duration": 52,
    "start_time": "2022-12-23T10:14:21.032Z"
   },
   {
    "duration": 464,
    "start_time": "2022-12-23T10:14:21.086Z"
   },
   {
    "duration": 10,
    "start_time": "2022-12-23T10:14:21.552Z"
   },
   {
    "duration": 412,
    "start_time": "2022-12-23T13:11:23.307Z"
   },
   {
    "duration": 194,
    "start_time": "2022-12-23T13:11:23.802Z"
   },
   {
    "duration": 573,
    "start_time": "2022-12-23T13:17:30.115Z"
   },
   {
    "duration": 17,
    "start_time": "2022-12-23T13:19:27.032Z"
   },
   {
    "duration": 14,
    "start_time": "2022-12-23T13:19:33.271Z"
   },
   {
    "duration": 78,
    "start_time": "2022-12-23T13:35:54.444Z"
   },
   {
    "duration": 453,
    "start_time": "2022-12-23T13:36:16.652Z"
   },
   {
    "duration": 59,
    "start_time": "2022-12-23T13:36:17.107Z"
   },
   {
    "duration": 25,
    "start_time": "2022-12-23T13:36:17.168Z"
   },
   {
    "duration": 24,
    "start_time": "2022-12-23T13:36:17.197Z"
   },
   {
    "duration": 346,
    "start_time": "2022-12-23T13:36:17.222Z"
   },
   {
    "duration": 15,
    "start_time": "2022-12-23T13:36:17.570Z"
   },
   {
    "duration": 29,
    "start_time": "2022-12-23T13:36:17.588Z"
   },
   {
    "duration": 32,
    "start_time": "2022-12-23T13:36:17.619Z"
   },
   {
    "duration": 21,
    "start_time": "2022-12-23T13:36:17.653Z"
   },
   {
    "duration": 28,
    "start_time": "2022-12-23T13:36:17.678Z"
   },
   {
    "duration": 42,
    "start_time": "2022-12-23T13:36:17.708Z"
   },
   {
    "duration": 24,
    "start_time": "2022-12-23T13:36:17.753Z"
   },
   {
    "duration": 46,
    "start_time": "2022-12-23T13:36:17.779Z"
   },
   {
    "duration": 14,
    "start_time": "2022-12-23T13:36:17.828Z"
   },
   {
    "duration": 27,
    "start_time": "2022-12-23T13:36:17.845Z"
   },
   {
    "duration": 25,
    "start_time": "2022-12-23T13:36:17.874Z"
   },
   {
    "duration": 32,
    "start_time": "2022-12-23T13:36:17.901Z"
   },
   {
    "duration": 25,
    "start_time": "2022-12-23T13:36:17.935Z"
   },
   {
    "duration": 243,
    "start_time": "2022-12-23T13:36:17.962Z"
   },
   {
    "duration": 186,
    "start_time": "2022-12-23T13:36:18.207Z"
   },
   {
    "duration": 25,
    "start_time": "2022-12-23T13:36:18.395Z"
   },
   {
    "duration": 6,
    "start_time": "2022-12-23T13:36:18.422Z"
   },
   {
    "duration": 38,
    "start_time": "2022-12-23T13:36:18.430Z"
   },
   {
    "duration": 19,
    "start_time": "2022-12-23T13:36:18.470Z"
   },
   {
    "duration": 44,
    "start_time": "2022-12-23T13:36:18.491Z"
   },
   {
    "duration": 181,
    "start_time": "2022-12-23T13:36:18.537Z"
   },
   {
    "duration": 273,
    "start_time": "2022-12-23T13:36:18.720Z"
   },
   {
    "duration": 212,
    "start_time": "2022-12-23T13:36:19.014Z"
   },
   {
    "duration": 201,
    "start_time": "2022-12-23T13:36:19.229Z"
   },
   {
    "duration": 194,
    "start_time": "2022-12-23T13:36:19.432Z"
   },
   {
    "duration": 247,
    "start_time": "2022-12-23T13:36:19.629Z"
   },
   {
    "duration": 9,
    "start_time": "2022-12-23T13:36:19.881Z"
   },
   {
    "duration": 41,
    "start_time": "2022-12-23T13:36:19.892Z"
   },
   {
    "duration": 64,
    "start_time": "2022-12-23T13:36:19.936Z"
   },
   {
    "duration": 1546,
    "start_time": "2022-12-23T13:36:20.003Z"
   },
   {
    "duration": 8,
    "start_time": "2022-12-23T13:36:21.551Z"
   },
   {
    "duration": 378,
    "start_time": "2022-12-23T13:36:21.561Z"
   },
   {
    "duration": 26,
    "start_time": "2022-12-23T13:36:21.941Z"
   },
   {
    "duration": 673,
    "start_time": "2022-12-23T13:36:21.969Z"
   },
   {
    "duration": 15,
    "start_time": "2022-12-23T13:36:22.652Z"
   },
   {
    "duration": 19,
    "start_time": "2022-12-23T13:36:22.669Z"
   },
   {
    "duration": 711,
    "start_time": "2022-12-23T13:36:22.690Z"
   },
   {
    "duration": 9,
    "start_time": "2022-12-23T13:36:23.404Z"
   },
   {
    "duration": 831,
    "start_time": "2022-12-23T13:36:23.415Z"
   },
   {
    "duration": 9,
    "start_time": "2022-12-23T13:36:24.252Z"
   },
   {
    "duration": 24,
    "start_time": "2022-12-23T13:36:24.262Z"
   },
   {
    "duration": 31,
    "start_time": "2022-12-23T13:36:24.291Z"
   },
   {
    "duration": 13,
    "start_time": "2022-12-23T13:36:24.324Z"
   },
   {
    "duration": 19,
    "start_time": "2022-12-23T13:36:24.339Z"
   },
   {
    "duration": 32,
    "start_time": "2022-12-23T13:36:24.360Z"
   },
   {
    "duration": 16,
    "start_time": "2022-12-23T13:36:24.394Z"
   },
   {
    "duration": 28,
    "start_time": "2022-12-23T13:36:24.412Z"
   },
   {
    "duration": 29,
    "start_time": "2022-12-23T13:36:24.442Z"
   },
   {
    "duration": 34,
    "start_time": "2022-12-23T13:36:24.474Z"
   },
   {
    "duration": 22,
    "start_time": "2022-12-23T13:36:24.510Z"
   },
   {
    "duration": 24,
    "start_time": "2022-12-23T13:36:24.534Z"
   },
   {
    "duration": 15,
    "start_time": "2022-12-23T13:36:24.561Z"
   },
   {
    "duration": 25,
    "start_time": "2022-12-23T13:36:24.579Z"
   },
   {
    "duration": 495,
    "start_time": "2022-12-23T13:36:24.606Z"
   },
   {
    "duration": 14,
    "start_time": "2022-12-23T13:36:25.103Z"
   },
   {
    "duration": 15,
    "start_time": "2022-12-23T13:42:33.602Z"
   },
   {
    "duration": 3,
    "start_time": "2022-12-23T13:43:15.305Z"
   },
   {
    "duration": 136,
    "start_time": "2022-12-23T13:43:20.258Z"
   },
   {
    "duration": 5,
    "start_time": "2022-12-23T13:45:02.945Z"
   },
   {
    "duration": 4,
    "start_time": "2022-12-23T13:45:26.668Z"
   },
   {
    "duration": 300,
    "start_time": "2022-12-23T13:45:39.037Z"
   },
   {
    "duration": 3,
    "start_time": "2022-12-23T13:45:53.788Z"
   },
   {
    "duration": 3,
    "start_time": "2022-12-23T13:46:05.344Z"
   },
   {
    "duration": 14,
    "start_time": "2022-12-23T13:47:01.280Z"
   },
   {
    "duration": 7,
    "start_time": "2022-12-23T14:08:45.208Z"
   },
   {
    "duration": 6,
    "start_time": "2022-12-23T14:08:48.767Z"
   },
   {
    "duration": 113,
    "start_time": "2022-12-23T14:27:32.896Z"
   },
   {
    "duration": 96,
    "start_time": "2022-12-23T14:27:37.994Z"
   },
   {
    "duration": 24,
    "start_time": "2022-12-23T14:27:41.460Z"
   },
   {
    "duration": 17,
    "start_time": "2022-12-23T14:27:57.124Z"
   },
   {
    "duration": 1249,
    "start_time": "2022-12-23T14:28:07.139Z"
   },
   {
    "duration": 55,
    "start_time": "2022-12-23T14:28:08.390Z"
   },
   {
    "duration": 26,
    "start_time": "2022-12-23T14:28:08.447Z"
   },
   {
    "duration": 21,
    "start_time": "2022-12-23T14:28:08.475Z"
   },
   {
    "duration": 75,
    "start_time": "2022-12-23T14:28:08.497Z"
   },
   {
    "duration": 11,
    "start_time": "2022-12-23T14:28:08.574Z"
   },
   {
    "duration": 32,
    "start_time": "2022-12-23T14:28:08.587Z"
   },
   {
    "duration": 43,
    "start_time": "2022-12-23T14:28:08.621Z"
   },
   {
    "duration": 17,
    "start_time": "2022-12-23T14:28:08.666Z"
   },
   {
    "duration": 32,
    "start_time": "2022-12-23T14:28:08.686Z"
   },
   {
    "duration": 22,
    "start_time": "2022-12-23T14:28:08.719Z"
   },
   {
    "duration": 23,
    "start_time": "2022-12-23T14:28:08.743Z"
   },
   {
    "duration": 28,
    "start_time": "2022-12-23T14:28:08.768Z"
   },
   {
    "duration": 5,
    "start_time": "2022-12-23T14:28:08.798Z"
   },
   {
    "duration": 25,
    "start_time": "2022-12-23T14:28:08.805Z"
   },
   {
    "duration": 24,
    "start_time": "2022-12-23T14:28:08.832Z"
   },
   {
    "duration": 9,
    "start_time": "2022-12-23T14:28:08.858Z"
   },
   {
    "duration": 21,
    "start_time": "2022-12-23T14:28:08.869Z"
   },
   {
    "duration": 18,
    "start_time": "2022-12-23T14:28:08.892Z"
   },
   {
    "duration": 252,
    "start_time": "2022-12-23T14:28:08.912Z"
   },
   {
    "duration": 172,
    "start_time": "2022-12-23T14:28:09.166Z"
   },
   {
    "duration": 33,
    "start_time": "2022-12-23T14:28:09.340Z"
   },
   {
    "duration": 7,
    "start_time": "2022-12-23T14:28:09.375Z"
   },
   {
    "duration": 9,
    "start_time": "2022-12-23T14:28:09.383Z"
   },
   {
    "duration": 6,
    "start_time": "2022-12-23T14:28:09.394Z"
   },
   {
    "duration": 18,
    "start_time": "2022-12-23T14:28:09.401Z"
   },
   {
    "duration": 204,
    "start_time": "2022-12-23T14:28:09.421Z"
   },
   {
    "duration": 249,
    "start_time": "2022-12-23T14:28:09.630Z"
   },
   {
    "duration": 219,
    "start_time": "2022-12-23T14:28:09.881Z"
   },
   {
    "duration": 180,
    "start_time": "2022-12-23T14:28:10.102Z"
   },
   {
    "duration": 183,
    "start_time": "2022-12-23T14:28:10.284Z"
   },
   {
    "duration": 204,
    "start_time": "2022-12-23T14:28:10.468Z"
   },
   {
    "duration": 14,
    "start_time": "2022-12-23T14:28:10.674Z"
   },
   {
    "duration": 25,
    "start_time": "2022-12-23T14:28:10.690Z"
   },
   {
    "duration": 137,
    "start_time": "2022-12-23T14:28:10.717Z"
   },
   {
    "duration": 1509,
    "start_time": "2022-12-23T14:28:10.856Z"
   },
   {
    "duration": 7,
    "start_time": "2022-12-23T14:28:12.367Z"
   },
   {
    "duration": 259,
    "start_time": "2022-12-23T14:28:12.375Z"
   },
   {
    "duration": 32,
    "start_time": "2022-12-23T14:28:12.636Z"
   },
   {
    "duration": 645,
    "start_time": "2022-12-23T14:28:12.670Z"
   },
   {
    "duration": 11,
    "start_time": "2022-12-23T14:28:13.317Z"
   },
   {
    "duration": 38,
    "start_time": "2022-12-23T14:28:13.330Z"
   },
   {
    "duration": 809,
    "start_time": "2022-12-23T14:28:13.370Z"
   },
   {
    "duration": 10,
    "start_time": "2022-12-23T14:28:14.181Z"
   },
   {
    "duration": 717,
    "start_time": "2022-12-23T14:28:14.193Z"
   },
   {
    "duration": 8,
    "start_time": "2022-12-23T14:28:14.912Z"
   },
   {
    "duration": 49,
    "start_time": "2022-12-23T14:28:14.921Z"
   },
   {
    "duration": 46,
    "start_time": "2022-12-23T14:28:14.971Z"
   },
   {
    "duration": 77,
    "start_time": "2022-12-23T14:28:15.019Z"
   },
   {
    "duration": 56,
    "start_time": "2022-12-23T14:28:15.098Z"
   },
   {
    "duration": 66,
    "start_time": "2022-12-23T14:28:15.165Z"
   },
   {
    "duration": 41,
    "start_time": "2022-12-23T14:28:15.232Z"
   },
   {
    "duration": 42,
    "start_time": "2022-12-23T14:28:15.274Z"
   },
   {
    "duration": 27,
    "start_time": "2022-12-23T14:28:15.318Z"
   },
   {
    "duration": 36,
    "start_time": "2022-12-23T14:28:15.348Z"
   },
   {
    "duration": 12,
    "start_time": "2022-12-23T14:28:15.386Z"
   },
   {
    "duration": 15,
    "start_time": "2022-12-23T14:28:15.400Z"
   },
   {
    "duration": 20,
    "start_time": "2022-12-23T14:28:15.417Z"
   },
   {
    "duration": 26,
    "start_time": "2022-12-23T14:28:15.439Z"
   },
   {
    "duration": 17,
    "start_time": "2022-12-23T14:28:15.467Z"
   },
   {
    "duration": 17,
    "start_time": "2022-12-23T14:28:15.486Z"
   },
   {
    "duration": 5,
    "start_time": "2022-12-23T14:31:52.291Z"
   },
   {
    "duration": 5,
    "start_time": "2022-12-23T14:32:25.313Z"
   },
   {
    "duration": 3,
    "start_time": "2022-12-23T14:32:56.149Z"
   },
   {
    "duration": 1288,
    "start_time": "2022-12-23T14:33:13.930Z"
   },
   {
    "duration": 67,
    "start_time": "2022-12-23T14:33:15.220Z"
   },
   {
    "duration": 26,
    "start_time": "2022-12-23T14:33:15.289Z"
   },
   {
    "duration": 21,
    "start_time": "2022-12-23T14:33:15.317Z"
   },
   {
    "duration": 64,
    "start_time": "2022-12-23T14:33:15.350Z"
   },
   {
    "duration": 10,
    "start_time": "2022-12-23T14:33:15.416Z"
   },
   {
    "duration": 42,
    "start_time": "2022-12-23T14:33:15.428Z"
   },
   {
    "duration": 14,
    "start_time": "2022-12-23T14:33:15.472Z"
   },
   {
    "duration": 6,
    "start_time": "2022-12-23T14:33:15.488Z"
   },
   {
    "duration": 15,
    "start_time": "2022-12-23T14:33:15.497Z"
   },
   {
    "duration": 15,
    "start_time": "2022-12-23T14:33:15.514Z"
   },
   {
    "duration": 22,
    "start_time": "2022-12-23T14:33:15.531Z"
   },
   {
    "duration": 35,
    "start_time": "2022-12-23T14:33:15.555Z"
   },
   {
    "duration": 6,
    "start_time": "2022-12-23T14:33:15.592Z"
   },
   {
    "duration": 17,
    "start_time": "2022-12-23T14:33:15.599Z"
   },
   {
    "duration": 18,
    "start_time": "2022-12-23T14:33:15.618Z"
   },
   {
    "duration": 25,
    "start_time": "2022-12-23T14:33:15.638Z"
   },
   {
    "duration": 7,
    "start_time": "2022-12-23T14:33:15.667Z"
   },
   {
    "duration": 7,
    "start_time": "2022-12-23T14:33:15.677Z"
   },
   {
    "duration": 7,
    "start_time": "2022-12-23T14:33:15.687Z"
   },
   {
    "duration": 231,
    "start_time": "2022-12-23T14:33:15.696Z"
   },
   {
    "duration": 160,
    "start_time": "2022-12-23T14:33:15.929Z"
   },
   {
    "duration": 20,
    "start_time": "2022-12-23T14:33:16.091Z"
   },
   {
    "duration": 5,
    "start_time": "2022-12-23T14:33:16.113Z"
   },
   {
    "duration": 12,
    "start_time": "2022-12-23T14:33:16.119Z"
   },
   {
    "duration": 13,
    "start_time": "2022-12-23T14:33:16.150Z"
   },
   {
    "duration": 32,
    "start_time": "2022-12-23T14:33:16.169Z"
   },
   {
    "duration": 172,
    "start_time": "2022-12-23T14:33:16.206Z"
   },
   {
    "duration": 199,
    "start_time": "2022-12-23T14:33:16.379Z"
   },
   {
    "duration": 189,
    "start_time": "2022-12-23T14:33:16.580Z"
   },
   {
    "duration": 166,
    "start_time": "2022-12-23T14:33:16.771Z"
   },
   {
    "duration": 178,
    "start_time": "2022-12-23T14:33:16.939Z"
   },
   {
    "duration": 191,
    "start_time": "2022-12-23T14:33:17.119Z"
   },
   {
    "duration": 7,
    "start_time": "2022-12-23T14:33:17.313Z"
   },
   {
    "duration": 18,
    "start_time": "2022-12-23T14:33:17.322Z"
   },
   {
    "duration": 139,
    "start_time": "2022-12-23T14:33:17.351Z"
   },
   {
    "duration": 1545,
    "start_time": "2022-12-23T14:33:17.492Z"
   },
   {
    "duration": 7,
    "start_time": "2022-12-23T14:33:19.039Z"
   },
   {
    "duration": 330,
    "start_time": "2022-12-23T14:33:19.049Z"
   },
   {
    "duration": 20,
    "start_time": "2022-12-23T14:33:19.381Z"
   },
   {
    "duration": 803,
    "start_time": "2022-12-23T14:33:19.403Z"
   },
   {
    "duration": 13,
    "start_time": "2022-12-23T14:33:20.208Z"
   },
   {
    "duration": 32,
    "start_time": "2022-12-23T14:33:20.223Z"
   },
   {
    "duration": 857,
    "start_time": "2022-12-23T14:33:20.257Z"
   },
   {
    "duration": 10,
    "start_time": "2022-12-23T14:33:21.117Z"
   },
   {
    "duration": 731,
    "start_time": "2022-12-23T14:33:21.129Z"
   },
   {
    "duration": 12,
    "start_time": "2022-12-23T14:33:21.862Z"
   },
   {
    "duration": 26,
    "start_time": "2022-12-23T14:33:21.876Z"
   },
   {
    "duration": 31,
    "start_time": "2022-12-23T14:33:21.904Z"
   },
   {
    "duration": 57,
    "start_time": "2022-12-23T14:33:21.937Z"
   },
   {
    "duration": 31,
    "start_time": "2022-12-23T14:33:21.996Z"
   },
   {
    "duration": 63,
    "start_time": "2022-12-23T14:33:22.029Z"
   },
   {
    "duration": 36,
    "start_time": "2022-12-23T14:33:22.095Z"
   },
   {
    "duration": 78,
    "start_time": "2022-12-23T14:33:22.132Z"
   },
   {
    "duration": 38,
    "start_time": "2022-12-23T14:33:22.212Z"
   },
   {
    "duration": 56,
    "start_time": "2022-12-23T14:33:22.252Z"
   },
   {
    "duration": 19,
    "start_time": "2022-12-23T14:33:22.310Z"
   },
   {
    "duration": 16,
    "start_time": "2022-12-23T14:33:22.331Z"
   },
   {
    "duration": 27,
    "start_time": "2022-12-23T14:33:22.359Z"
   },
   {
    "duration": 26,
    "start_time": "2022-12-23T14:33:22.388Z"
   },
   {
    "duration": 14,
    "start_time": "2022-12-23T14:33:22.416Z"
   },
   {
    "duration": 18,
    "start_time": "2022-12-23T14:33:22.432Z"
   },
   {
    "duration": 49,
    "start_time": "2022-12-24T18:34:46.262Z"
   },
   {
    "duration": 1313,
    "start_time": "2022-12-24T18:34:51.885Z"
   },
   {
    "duration": 93,
    "start_time": "2022-12-24T18:34:53.200Z"
   },
   {
    "duration": 19,
    "start_time": "2022-12-24T18:34:53.294Z"
   },
   {
    "duration": 25,
    "start_time": "2022-12-24T18:34:53.315Z"
   },
   {
    "duration": 59,
    "start_time": "2022-12-24T18:34:53.342Z"
   },
   {
    "duration": 9,
    "start_time": "2022-12-24T18:34:53.403Z"
   },
   {
    "duration": 44,
    "start_time": "2022-12-24T18:34:53.414Z"
   },
   {
    "duration": 32,
    "start_time": "2022-12-24T18:34:53.460Z"
   },
   {
    "duration": 28,
    "start_time": "2022-12-24T18:34:53.494Z"
   },
   {
    "duration": 12,
    "start_time": "2022-12-24T18:34:53.524Z"
   },
   {
    "duration": 27,
    "start_time": "2022-12-24T18:34:53.537Z"
   },
   {
    "duration": 16,
    "start_time": "2022-12-24T18:34:53.566Z"
   },
   {
    "duration": 51,
    "start_time": "2022-12-24T18:34:53.584Z"
   },
   {
    "duration": 56,
    "start_time": "2022-12-24T18:34:53.637Z"
   },
   {
    "duration": 39,
    "start_time": "2022-12-24T18:34:53.695Z"
   },
   {
    "duration": 87,
    "start_time": "2022-12-24T18:34:53.736Z"
   },
   {
    "duration": 4,
    "start_time": "2022-12-24T18:34:53.825Z"
   },
   {
    "duration": 25,
    "start_time": "2022-12-24T18:34:53.831Z"
   },
   {
    "duration": 19,
    "start_time": "2022-12-24T18:34:53.858Z"
   },
   {
    "duration": 41,
    "start_time": "2022-12-24T18:34:53.878Z"
   },
   {
    "duration": 22,
    "start_time": "2022-12-24T18:34:53.920Z"
   },
   {
    "duration": 190,
    "start_time": "2022-12-24T18:34:53.943Z"
   },
   {
    "duration": 119,
    "start_time": "2022-12-24T18:34:54.135Z"
   },
   {
    "duration": 18,
    "start_time": "2022-12-24T18:34:54.256Z"
   },
   {
    "duration": 45,
    "start_time": "2022-12-24T18:34:54.276Z"
   },
   {
    "duration": 32,
    "start_time": "2022-12-24T18:34:54.322Z"
   },
   {
    "duration": 41,
    "start_time": "2022-12-24T18:34:54.356Z"
   },
   {
    "duration": 50,
    "start_time": "2022-12-24T18:34:54.401Z"
   },
   {
    "duration": 173,
    "start_time": "2022-12-24T18:34:54.452Z"
   },
   {
    "duration": 162,
    "start_time": "2022-12-24T18:34:54.627Z"
   },
   {
    "duration": 157,
    "start_time": "2022-12-24T18:34:54.791Z"
   },
   {
    "duration": 144,
    "start_time": "2022-12-24T18:34:54.950Z"
   },
   {
    "duration": 144,
    "start_time": "2022-12-24T18:34:55.096Z"
   },
   {
    "duration": 146,
    "start_time": "2022-12-24T18:34:55.242Z"
   },
   {
    "duration": 6,
    "start_time": "2022-12-24T18:34:55.389Z"
   },
   {
    "duration": 20,
    "start_time": "2022-12-24T18:34:55.397Z"
   },
   {
    "duration": 121,
    "start_time": "2022-12-24T18:34:55.419Z"
   },
   {
    "duration": 1323,
    "start_time": "2022-12-24T18:34:55.542Z"
   },
   {
    "duration": 6,
    "start_time": "2022-12-24T18:34:56.867Z"
   },
   {
    "duration": 251,
    "start_time": "2022-12-24T18:34:56.875Z"
   },
   {
    "duration": 18,
    "start_time": "2022-12-24T18:34:57.127Z"
   },
   {
    "duration": 603,
    "start_time": "2022-12-24T18:34:57.146Z"
   },
   {
    "duration": 13,
    "start_time": "2022-12-24T18:34:57.751Z"
   },
   {
    "duration": 15,
    "start_time": "2022-12-24T18:34:57.765Z"
   },
   {
    "duration": 702,
    "start_time": "2022-12-24T18:34:57.782Z"
   },
   {
    "duration": 11,
    "start_time": "2022-12-24T18:34:58.486Z"
   },
   {
    "duration": 592,
    "start_time": "2022-12-24T18:34:58.499Z"
   },
   {
    "duration": 7,
    "start_time": "2022-12-24T18:34:59.093Z"
   },
   {
    "duration": 18,
    "start_time": "2022-12-24T18:34:59.101Z"
   },
   {
    "duration": 22,
    "start_time": "2022-12-24T18:34:59.121Z"
   },
   {
    "duration": 16,
    "start_time": "2022-12-24T18:34:59.145Z"
   },
   {
    "duration": 27,
    "start_time": "2022-12-24T18:34:59.162Z"
   },
   {
    "duration": 23,
    "start_time": "2022-12-24T18:34:59.190Z"
   },
   {
    "duration": 21,
    "start_time": "2022-12-24T18:34:59.214Z"
   },
   {
    "duration": 11,
    "start_time": "2022-12-24T18:34:59.237Z"
   },
   {
    "duration": 17,
    "start_time": "2022-12-24T18:34:59.250Z"
   },
   {
    "duration": 22,
    "start_time": "2022-12-24T18:34:59.269Z"
   },
   {
    "duration": 15,
    "start_time": "2022-12-24T18:34:59.292Z"
   },
   {
    "duration": 33,
    "start_time": "2022-12-24T18:34:59.309Z"
   },
   {
    "duration": 31,
    "start_time": "2022-12-24T18:34:59.344Z"
   },
   {
    "duration": 31,
    "start_time": "2022-12-24T18:34:59.377Z"
   },
   {
    "duration": 20,
    "start_time": "2022-12-24T18:34:59.410Z"
   },
   {
    "duration": 17,
    "start_time": "2022-12-24T18:34:59.432Z"
   },
   {
    "duration": 93,
    "start_time": "2022-12-24T18:35:49.448Z"
   },
   {
    "duration": 14,
    "start_time": "2022-12-24T18:36:03.287Z"
   },
   {
    "duration": 61,
    "start_time": "2022-12-24T19:20:23.125Z"
   },
   {
    "duration": 9,
    "start_time": "2022-12-24T19:20:29.957Z"
   },
   {
    "duration": 10,
    "start_time": "2022-12-24T19:20:46.618Z"
   },
   {
    "duration": 9,
    "start_time": "2022-12-24T19:20:54.617Z"
   },
   {
    "duration": 3,
    "start_time": "2022-12-24T19:35:13.776Z"
   },
   {
    "duration": 16,
    "start_time": "2022-12-24T19:35:17.856Z"
   },
   {
    "duration": 5,
    "start_time": "2022-12-24T19:37:22.658Z"
   },
   {
    "duration": 32,
    "start_time": "2022-12-24T19:38:52.054Z"
   },
   {
    "duration": 641,
    "start_time": "2022-12-24T19:39:24.163Z"
   },
   {
    "duration": 7,
    "start_time": "2022-12-24T19:49:48.159Z"
   },
   {
    "duration": 566,
    "start_time": "2022-12-24T19:49:53.207Z"
   },
   {
    "duration": 21,
    "start_time": "2022-12-24T19:52:05.189Z"
   },
   {
    "duration": 36,
    "start_time": "2022-12-24T19:52:16.338Z"
   },
   {
    "duration": 7,
    "start_time": "2022-12-24T20:04:36.243Z"
   },
   {
    "duration": 10,
    "start_time": "2022-12-24T20:04:53.446Z"
   },
   {
    "duration": 19,
    "start_time": "2022-12-24T20:05:12.629Z"
   },
   {
    "duration": 9,
    "start_time": "2022-12-24T20:05:31.407Z"
   },
   {
    "duration": 11,
    "start_time": "2022-12-24T20:05:54.450Z"
   },
   {
    "duration": 8,
    "start_time": "2022-12-24T20:20:06.573Z"
   },
   {
    "duration": 14,
    "start_time": "2022-12-24T20:22:49.695Z"
   },
   {
    "duration": 16,
    "start_time": "2022-12-24T20:23:02.590Z"
   },
   {
    "duration": 6,
    "start_time": "2022-12-24T20:23:15.148Z"
   },
   {
    "duration": 708,
    "start_time": "2022-12-24T20:23:21.553Z"
   },
   {
    "duration": 616,
    "start_time": "2022-12-24T20:24:02.594Z"
   },
   {
    "duration": 1151,
    "start_time": "2022-12-24T20:24:19.355Z"
   },
   {
    "duration": 53,
    "start_time": "2022-12-24T20:24:20.508Z"
   },
   {
    "duration": 22,
    "start_time": "2022-12-24T20:24:20.563Z"
   },
   {
    "duration": 39,
    "start_time": "2022-12-24T20:24:20.587Z"
   },
   {
    "duration": 65,
    "start_time": "2022-12-24T20:24:20.628Z"
   },
   {
    "duration": 12,
    "start_time": "2022-12-24T20:24:20.697Z"
   },
   {
    "duration": 32,
    "start_time": "2022-12-24T20:24:20.710Z"
   },
   {
    "duration": 41,
    "start_time": "2022-12-24T20:24:20.745Z"
   },
   {
    "duration": 6,
    "start_time": "2022-12-24T20:24:20.789Z"
   },
   {
    "duration": 23,
    "start_time": "2022-12-24T20:24:20.798Z"
   },
   {
    "duration": 8,
    "start_time": "2022-12-24T20:24:20.823Z"
   },
   {
    "duration": 25,
    "start_time": "2022-12-24T20:24:20.832Z"
   },
   {
    "duration": 41,
    "start_time": "2022-12-24T20:24:20.859Z"
   },
   {
    "duration": 7,
    "start_time": "2022-12-24T20:24:20.902Z"
   },
   {
    "duration": 15,
    "start_time": "2022-12-24T20:24:20.910Z"
   },
   {
    "duration": 21,
    "start_time": "2022-12-24T20:24:20.927Z"
   },
   {
    "duration": 5,
    "start_time": "2022-12-24T20:24:20.949Z"
   },
   {
    "duration": 25,
    "start_time": "2022-12-24T20:24:20.956Z"
   },
   {
    "duration": 45,
    "start_time": "2022-12-24T20:24:20.983Z"
   },
   {
    "duration": 40,
    "start_time": "2022-12-24T20:24:21.029Z"
   },
   {
    "duration": 275,
    "start_time": "2022-12-24T20:24:21.071Z"
   },
   {
    "duration": 34,
    "start_time": "2022-12-24T20:24:21.348Z"
   },
   {
    "duration": 212,
    "start_time": "2022-12-24T20:24:21.436Z"
   },
   {
    "duration": 28,
    "start_time": "2022-12-24T20:24:21.650Z"
   },
   {
    "duration": 59,
    "start_time": "2022-12-24T20:24:21.680Z"
   },
   {
    "duration": 27,
    "start_time": "2022-12-24T20:24:21.740Z"
   },
   {
    "duration": 11,
    "start_time": "2022-12-24T20:24:21.769Z"
   },
   {
    "duration": 27,
    "start_time": "2022-12-24T20:24:21.784Z"
   },
   {
    "duration": 154,
    "start_time": "2022-12-24T20:24:21.813Z"
   },
   {
    "duration": 194,
    "start_time": "2022-12-24T20:24:21.969Z"
   },
   {
    "duration": 177,
    "start_time": "2022-12-24T20:24:22.165Z"
   },
   {
    "duration": 215,
    "start_time": "2022-12-24T20:24:22.344Z"
   },
   {
    "duration": 216,
    "start_time": "2022-12-24T20:24:22.561Z"
   },
   {
    "duration": 183,
    "start_time": "2022-12-24T20:24:22.779Z"
   },
   {
    "duration": 7,
    "start_time": "2022-12-24T20:24:22.964Z"
   },
   {
    "duration": 30,
    "start_time": "2022-12-24T20:24:22.973Z"
   },
   {
    "duration": 120,
    "start_time": "2022-12-24T20:24:23.005Z"
   },
   {
    "duration": 1438,
    "start_time": "2022-12-24T20:24:23.127Z"
   },
   {
    "duration": 7,
    "start_time": "2022-12-24T20:24:24.568Z"
   },
   {
    "duration": 303,
    "start_time": "2022-12-24T20:24:24.577Z"
   },
   {
    "duration": 22,
    "start_time": "2022-12-24T20:24:24.883Z"
   },
   {
    "duration": 720,
    "start_time": "2022-12-24T20:24:24.907Z"
   },
   {
    "duration": 16,
    "start_time": "2022-12-24T20:24:25.635Z"
   },
   {
    "duration": 25,
    "start_time": "2022-12-24T20:24:25.653Z"
   },
   {
    "duration": 750,
    "start_time": "2022-12-24T20:24:25.680Z"
   },
   {
    "duration": 10,
    "start_time": "2022-12-24T20:24:26.435Z"
   },
   {
    "duration": 629,
    "start_time": "2022-12-24T20:24:26.447Z"
   },
   {
    "duration": 7,
    "start_time": "2022-12-24T20:24:27.078Z"
   },
   {
    "duration": 11,
    "start_time": "2022-12-24T20:24:27.086Z"
   },
   {
    "duration": 20,
    "start_time": "2022-12-24T20:24:27.099Z"
   },
   {
    "duration": 13,
    "start_time": "2022-12-24T20:24:27.135Z"
   },
   {
    "duration": 15,
    "start_time": "2022-12-24T20:24:27.150Z"
   },
   {
    "duration": 25,
    "start_time": "2022-12-24T20:24:27.167Z"
   },
   {
    "duration": 12,
    "start_time": "2022-12-24T20:24:27.194Z"
   },
   {
    "duration": 36,
    "start_time": "2022-12-24T20:24:27.208Z"
   },
   {
    "duration": 12,
    "start_time": "2022-12-24T20:24:27.246Z"
   },
   {
    "duration": 23,
    "start_time": "2022-12-24T20:24:27.259Z"
   },
   {
    "duration": 12,
    "start_time": "2022-12-24T20:24:27.283Z"
   },
   {
    "duration": 39,
    "start_time": "2022-12-24T20:24:27.297Z"
   },
   {
    "duration": 20,
    "start_time": "2022-12-24T20:24:27.337Z"
   },
   {
    "duration": 21,
    "start_time": "2022-12-24T20:24:27.359Z"
   },
   {
    "duration": 10,
    "start_time": "2022-12-24T20:24:27.382Z"
   },
   {
    "duration": 13,
    "start_time": "2022-12-24T20:24:27.393Z"
   },
   {
    "duration": 20,
    "start_time": "2022-12-24T20:25:00.606Z"
   },
   {
    "duration": 26,
    "start_time": "2022-12-24T20:25:07.729Z"
   },
   {
    "duration": 1202,
    "start_time": "2022-12-24T20:25:25.103Z"
   },
   {
    "duration": 66,
    "start_time": "2022-12-24T20:25:26.308Z"
   },
   {
    "duration": 22,
    "start_time": "2022-12-24T20:25:26.375Z"
   },
   {
    "duration": 15,
    "start_time": "2022-12-24T20:25:26.399Z"
   },
   {
    "duration": 69,
    "start_time": "2022-12-24T20:25:26.416Z"
   },
   {
    "duration": 10,
    "start_time": "2022-12-24T20:25:26.487Z"
   },
   {
    "duration": 36,
    "start_time": "2022-12-24T20:25:26.499Z"
   },
   {
    "duration": 12,
    "start_time": "2022-12-24T20:25:26.537Z"
   },
   {
    "duration": 5,
    "start_time": "2022-12-24T20:25:26.551Z"
   },
   {
    "duration": 17,
    "start_time": "2022-12-24T20:25:26.559Z"
   },
   {
    "duration": 13,
    "start_time": "2022-12-24T20:25:26.578Z"
   },
   {
    "duration": 16,
    "start_time": "2022-12-24T20:25:26.593Z"
   },
   {
    "duration": 26,
    "start_time": "2022-12-24T20:25:26.610Z"
   },
   {
    "duration": 5,
    "start_time": "2022-12-24T20:25:26.637Z"
   },
   {
    "duration": 19,
    "start_time": "2022-12-24T20:25:26.644Z"
   },
   {
    "duration": 30,
    "start_time": "2022-12-24T20:25:26.665Z"
   },
   {
    "duration": 4,
    "start_time": "2022-12-24T20:25:26.697Z"
   },
   {
    "duration": 8,
    "start_time": "2022-12-24T20:25:26.702Z"
   },
   {
    "duration": 15,
    "start_time": "2022-12-24T20:25:26.711Z"
   },
   {
    "duration": 25,
    "start_time": "2022-12-24T20:25:26.728Z"
   },
   {
    "duration": 199,
    "start_time": "2022-12-24T20:25:26.755Z"
   },
   {
    "duration": 22,
    "start_time": "2022-12-24T20:25:26.956Z"
   },
   {
    "duration": 146,
    "start_time": "2022-12-24T20:25:26.980Z"
   },
   {
    "duration": 19,
    "start_time": "2022-12-24T20:25:27.136Z"
   },
   {
    "duration": 6,
    "start_time": "2022-12-24T20:25:27.157Z"
   },
   {
    "duration": 25,
    "start_time": "2022-12-24T20:25:27.165Z"
   },
   {
    "duration": 7,
    "start_time": "2022-12-24T20:25:27.191Z"
   },
   {
    "duration": 27,
    "start_time": "2022-12-24T20:25:27.202Z"
   },
   {
    "duration": 162,
    "start_time": "2022-12-24T20:25:27.231Z"
   },
   {
    "duration": 174,
    "start_time": "2022-12-24T20:25:27.395Z"
   },
   {
    "duration": 176,
    "start_time": "2022-12-24T20:25:27.571Z"
   },
   {
    "duration": 200,
    "start_time": "2022-12-24T20:25:27.749Z"
   },
   {
    "duration": 164,
    "start_time": "2022-12-24T20:25:27.951Z"
   },
   {
    "duration": 171,
    "start_time": "2022-12-24T20:25:28.117Z"
   },
   {
    "duration": 6,
    "start_time": "2022-12-24T20:25:28.290Z"
   },
   {
    "duration": 32,
    "start_time": "2022-12-24T20:25:28.298Z"
   },
   {
    "duration": 135,
    "start_time": "2022-12-24T20:25:28.334Z"
   },
   {
    "duration": 1302,
    "start_time": "2022-12-24T20:25:28.471Z"
   },
   {
    "duration": 7,
    "start_time": "2022-12-24T20:25:29.775Z"
   },
   {
    "duration": 242,
    "start_time": "2022-12-24T20:25:29.784Z"
   },
   {
    "duration": 15,
    "start_time": "2022-12-24T20:25:30.034Z"
   },
   {
    "duration": 610,
    "start_time": "2022-12-24T20:25:30.051Z"
   },
   {
    "duration": 12,
    "start_time": "2022-12-24T20:25:30.663Z"
   },
   {
    "duration": 44,
    "start_time": "2022-12-24T20:25:30.677Z"
   },
   {
    "duration": 700,
    "start_time": "2022-12-24T20:25:30.723Z"
   },
   {
    "duration": 17,
    "start_time": "2022-12-24T20:25:31.424Z"
   },
   {
    "duration": 629,
    "start_time": "2022-12-24T20:25:31.442Z"
   },
   {
    "duration": 7,
    "start_time": "2022-12-24T20:25:32.073Z"
   },
   {
    "duration": 15,
    "start_time": "2022-12-24T20:25:32.082Z"
   },
   {
    "duration": 19,
    "start_time": "2022-12-24T20:25:32.098Z"
   },
   {
    "duration": 25,
    "start_time": "2022-12-24T20:25:32.119Z"
   },
   {
    "duration": 20,
    "start_time": "2022-12-24T20:25:32.146Z"
   },
   {
    "duration": 26,
    "start_time": "2022-12-24T20:25:32.168Z"
   },
   {
    "duration": 29,
    "start_time": "2022-12-24T20:25:32.196Z"
   },
   {
    "duration": 18,
    "start_time": "2022-12-24T20:25:32.226Z"
   },
   {
    "duration": 15,
    "start_time": "2022-12-24T20:25:32.246Z"
   },
   {
    "duration": 26,
    "start_time": "2022-12-24T20:25:32.263Z"
   },
   {
    "duration": 13,
    "start_time": "2022-12-24T20:25:32.290Z"
   },
   {
    "duration": 20,
    "start_time": "2022-12-24T20:25:32.304Z"
   },
   {
    "duration": 19,
    "start_time": "2022-12-24T20:25:32.326Z"
   },
   {
    "duration": 26,
    "start_time": "2022-12-24T20:25:32.347Z"
   },
   {
    "duration": 22,
    "start_time": "2022-12-24T20:25:32.375Z"
   },
   {
    "duration": 44,
    "start_time": "2022-12-24T20:25:32.399Z"
   },
   {
    "duration": 8,
    "start_time": "2022-12-24T20:25:47.813Z"
   },
   {
    "duration": 40,
    "start_time": "2022-12-24T20:25:55.418Z"
   },
   {
    "duration": 31,
    "start_time": "2022-12-24T20:27:31.103Z"
   },
   {
    "duration": 222,
    "start_time": "2022-12-24T20:27:46.615Z"
   },
   {
    "duration": 220,
    "start_time": "2022-12-24T20:28:35.902Z"
   },
   {
    "duration": 5,
    "start_time": "2022-12-24T20:35:06.590Z"
   },
   {
    "duration": 5,
    "start_time": "2022-12-24T20:36:30.775Z"
   },
   {
    "duration": 1138,
    "start_time": "2022-12-24T20:36:53.655Z"
   },
   {
    "duration": 54,
    "start_time": "2022-12-24T20:36:54.795Z"
   },
   {
    "duration": 23,
    "start_time": "2022-12-24T20:36:54.851Z"
   },
   {
    "duration": 31,
    "start_time": "2022-12-24T20:36:54.877Z"
   },
   {
    "duration": 67,
    "start_time": "2022-12-24T20:36:54.910Z"
   },
   {
    "duration": 14,
    "start_time": "2022-12-24T20:36:54.979Z"
   },
   {
    "duration": 40,
    "start_time": "2022-12-24T20:36:54.995Z"
   },
   {
    "duration": 33,
    "start_time": "2022-12-24T20:36:55.037Z"
   },
   {
    "duration": 17,
    "start_time": "2022-12-24T20:36:55.072Z"
   },
   {
    "duration": 20,
    "start_time": "2022-12-24T20:36:55.092Z"
   },
   {
    "duration": 24,
    "start_time": "2022-12-24T20:36:55.114Z"
   },
   {
    "duration": 24,
    "start_time": "2022-12-24T20:36:55.140Z"
   },
   {
    "duration": 23,
    "start_time": "2022-12-24T20:36:55.167Z"
   },
   {
    "duration": 17,
    "start_time": "2022-12-24T20:36:55.192Z"
   },
   {
    "duration": 19,
    "start_time": "2022-12-24T20:36:55.210Z"
   },
   {
    "duration": 26,
    "start_time": "2022-12-24T20:36:55.230Z"
   },
   {
    "duration": 7,
    "start_time": "2022-12-24T20:36:55.258Z"
   },
   {
    "duration": 15,
    "start_time": "2022-12-24T20:36:55.267Z"
   },
   {
    "duration": 17,
    "start_time": "2022-12-24T20:36:55.284Z"
   },
   {
    "duration": 25,
    "start_time": "2022-12-24T20:36:55.303Z"
   },
   {
    "duration": 195,
    "start_time": "2022-12-24T20:36:55.330Z"
   },
   {
    "duration": 8,
    "start_time": "2022-12-24T20:36:55.528Z"
   },
   {
    "duration": 223,
    "start_time": "2022-12-24T20:36:55.539Z"
   },
   {
    "duration": 136,
    "start_time": "2022-12-24T20:36:55.764Z"
   },
   {
    "duration": 33,
    "start_time": "2022-12-24T20:36:55.902Z"
   },
   {
    "duration": 7,
    "start_time": "2022-12-24T20:36:55.937Z"
   },
   {
    "duration": 16,
    "start_time": "2022-12-24T20:36:55.946Z"
   },
   {
    "duration": 3,
    "start_time": "2022-12-24T20:36:55.968Z"
   },
   {
    "duration": 26,
    "start_time": "2022-12-24T20:36:55.973Z"
   },
   {
    "duration": 196,
    "start_time": "2022-12-24T20:36:56.002Z"
   },
   {
    "duration": 195,
    "start_time": "2022-12-24T20:36:56.200Z"
   },
   {
    "duration": 192,
    "start_time": "2022-12-24T20:36:56.397Z"
   },
   {
    "duration": 201,
    "start_time": "2022-12-24T20:36:56.591Z"
   },
   {
    "duration": 170,
    "start_time": "2022-12-24T20:36:56.795Z"
   },
   {
    "duration": 244,
    "start_time": "2022-12-24T20:36:56.967Z"
   },
   {
    "duration": 6,
    "start_time": "2022-12-24T20:36:57.213Z"
   },
   {
    "duration": 33,
    "start_time": "2022-12-24T20:36:57.221Z"
   },
   {
    "duration": 27,
    "start_time": "2022-12-24T20:36:57.256Z"
   },
   {
    "duration": 1352,
    "start_time": "2022-12-24T20:36:57.285Z"
   },
   {
    "duration": 6,
    "start_time": "2022-12-24T20:36:58.640Z"
   },
   {
    "duration": 258,
    "start_time": "2022-12-24T20:36:58.648Z"
   },
   {
    "duration": 27,
    "start_time": "2022-12-24T20:36:58.908Z"
   },
   {
    "duration": 708,
    "start_time": "2022-12-24T20:36:58.937Z"
   },
   {
    "duration": 12,
    "start_time": "2022-12-24T20:36:59.647Z"
   },
   {
    "duration": 15,
    "start_time": "2022-12-24T20:36:59.660Z"
   },
   {
    "duration": 625,
    "start_time": "2022-12-24T20:36:59.677Z"
   },
   {
    "duration": 10,
    "start_time": "2022-12-24T20:37:00.304Z"
   },
   {
    "duration": 641,
    "start_time": "2022-12-24T20:37:00.316Z"
   },
   {
    "duration": 9,
    "start_time": "2022-12-24T20:37:00.958Z"
   },
   {
    "duration": 18,
    "start_time": "2022-12-24T20:37:00.969Z"
   },
   {
    "duration": 17,
    "start_time": "2022-12-24T20:37:00.988Z"
   },
   {
    "duration": 30,
    "start_time": "2022-12-24T20:37:01.007Z"
   },
   {
    "duration": 29,
    "start_time": "2022-12-24T20:37:01.039Z"
   },
   {
    "duration": 38,
    "start_time": "2022-12-24T20:37:01.070Z"
   },
   {
    "duration": 22,
    "start_time": "2022-12-24T20:37:01.110Z"
   },
   {
    "duration": 41,
    "start_time": "2022-12-24T20:37:01.133Z"
   },
   {
    "duration": 55,
    "start_time": "2022-12-24T20:37:01.176Z"
   },
   {
    "duration": 33,
    "start_time": "2022-12-24T20:37:01.232Z"
   },
   {
    "duration": 19,
    "start_time": "2022-12-24T20:37:01.267Z"
   },
   {
    "duration": 31,
    "start_time": "2022-12-24T20:37:01.288Z"
   },
   {
    "duration": 39,
    "start_time": "2022-12-24T20:37:01.321Z"
   },
   {
    "duration": 21,
    "start_time": "2022-12-24T20:37:01.362Z"
   },
   {
    "duration": 42,
    "start_time": "2022-12-24T20:37:01.385Z"
   },
   {
    "duration": 35,
    "start_time": "2022-12-24T20:37:01.429Z"
   },
   {
    "duration": 5,
    "start_time": "2022-12-24T20:37:23.463Z"
   },
   {
    "duration": 173,
    "start_time": "2022-12-24T20:37:29.950Z"
   },
   {
    "duration": 46,
    "start_time": "2022-12-24T23:21:41.588Z"
   },
   {
    "duration": 6,
    "start_time": "2022-12-24T23:27:39.911Z"
   },
   {
    "duration": 1363,
    "start_time": "2022-12-24T23:27:48.114Z"
   },
   {
    "duration": 85,
    "start_time": "2022-12-24T23:27:49.480Z"
   },
   {
    "duration": 19,
    "start_time": "2022-12-24T23:27:49.567Z"
   },
   {
    "duration": 15,
    "start_time": "2022-12-24T23:27:49.588Z"
   },
   {
    "duration": 53,
    "start_time": "2022-12-24T23:27:49.605Z"
   },
   {
    "duration": 9,
    "start_time": "2022-12-24T23:27:49.659Z"
   },
   {
    "duration": 16,
    "start_time": "2022-12-24T23:27:49.669Z"
   },
   {
    "duration": 15,
    "start_time": "2022-12-24T23:27:49.686Z"
   },
   {
    "duration": 6,
    "start_time": "2022-12-24T23:27:49.716Z"
   },
   {
    "duration": 10,
    "start_time": "2022-12-24T23:27:49.725Z"
   },
   {
    "duration": 7,
    "start_time": "2022-12-24T23:27:49.736Z"
   },
   {
    "duration": 7,
    "start_time": "2022-12-24T23:27:49.744Z"
   },
   {
    "duration": 18,
    "start_time": "2022-12-24T23:27:49.752Z"
   },
   {
    "duration": 5,
    "start_time": "2022-12-24T23:27:49.771Z"
   },
   {
    "duration": 6,
    "start_time": "2022-12-24T23:27:49.777Z"
   },
   {
    "duration": 40,
    "start_time": "2022-12-24T23:27:49.784Z"
   },
   {
    "duration": 3,
    "start_time": "2022-12-24T23:27:49.825Z"
   },
   {
    "duration": 6,
    "start_time": "2022-12-24T23:27:49.829Z"
   },
   {
    "duration": 6,
    "start_time": "2022-12-24T23:27:49.836Z"
   },
   {
    "duration": 6,
    "start_time": "2022-12-24T23:27:49.843Z"
   },
   {
    "duration": 191,
    "start_time": "2022-12-24T23:27:49.850Z"
   },
   {
    "duration": 4,
    "start_time": "2022-12-24T23:27:50.044Z"
   },
   {
    "duration": 201,
    "start_time": "2022-12-24T23:27:50.049Z"
   },
   {
    "duration": 121,
    "start_time": "2022-12-24T23:27:50.251Z"
   },
   {
    "duration": 19,
    "start_time": "2022-12-24T23:27:50.374Z"
   },
   {
    "duration": 5,
    "start_time": "2022-12-24T23:27:50.394Z"
   },
   {
    "duration": 8,
    "start_time": "2022-12-24T23:27:50.415Z"
   },
   {
    "duration": 14,
    "start_time": "2022-12-24T23:27:50.427Z"
   },
   {
    "duration": 20,
    "start_time": "2022-12-24T23:27:50.443Z"
   },
   {
    "duration": 158,
    "start_time": "2022-12-24T23:27:50.465Z"
   },
   {
    "duration": 184,
    "start_time": "2022-12-24T23:27:50.625Z"
   },
   {
    "duration": 156,
    "start_time": "2022-12-24T23:27:50.816Z"
   },
   {
    "duration": 151,
    "start_time": "2022-12-24T23:27:50.973Z"
   },
   {
    "duration": 156,
    "start_time": "2022-12-24T23:27:51.126Z"
   },
   {
    "duration": 253,
    "start_time": "2022-12-24T23:27:51.284Z"
   },
   {
    "duration": 7,
    "start_time": "2022-12-24T23:27:51.539Z"
   },
   {
    "duration": 20,
    "start_time": "2022-12-24T23:27:51.548Z"
   },
   {
    "duration": 49,
    "start_time": "2022-12-24T23:27:51.570Z"
   },
   {
    "duration": 1323,
    "start_time": "2022-12-24T23:27:51.621Z"
   },
   {
    "duration": 5,
    "start_time": "2022-12-24T23:27:52.946Z"
   },
   {
    "duration": 212,
    "start_time": "2022-12-24T23:27:52.953Z"
   },
   {
    "duration": 225,
    "start_time": "2022-12-24T23:27:53.167Z"
   },
   {
    "duration": 26,
    "start_time": "2022-12-24T23:27:53.394Z"
   },
   {
    "duration": 632,
    "start_time": "2022-12-24T23:27:53.422Z"
   },
   {
    "duration": 13,
    "start_time": "2022-12-24T23:27:54.056Z"
   },
   {
    "duration": 6,
    "start_time": "2022-12-24T23:27:54.071Z"
   },
   {
    "duration": 566,
    "start_time": "2022-12-24T23:27:54.079Z"
   },
   {
    "duration": 8,
    "start_time": "2022-12-24T23:27:54.646Z"
   },
   {
    "duration": 567,
    "start_time": "2022-12-24T23:27:54.655Z"
   },
   {
    "duration": 7,
    "start_time": "2022-12-24T23:27:55.223Z"
   },
   {
    "duration": 7,
    "start_time": "2022-12-24T23:27:55.232Z"
   },
   {
    "duration": 14,
    "start_time": "2022-12-24T23:27:55.241Z"
   },
   {
    "duration": 11,
    "start_time": "2022-12-24T23:27:55.256Z"
   },
   {
    "duration": 11,
    "start_time": "2022-12-24T23:27:55.268Z"
   },
   {
    "duration": 145,
    "start_time": "2022-12-24T23:27:55.281Z"
   },
   {
    "duration": 11,
    "start_time": "2022-12-24T23:27:55.427Z"
   },
   {
    "duration": 12,
    "start_time": "2022-12-24T23:27:55.440Z"
   },
   {
    "duration": 13,
    "start_time": "2022-12-24T23:27:55.453Z"
   },
   {
    "duration": 23,
    "start_time": "2022-12-24T23:27:55.467Z"
   },
   {
    "duration": 31,
    "start_time": "2022-12-24T23:27:55.491Z"
   },
   {
    "duration": 14,
    "start_time": "2022-12-24T23:27:55.523Z"
   },
   {
    "duration": 10,
    "start_time": "2022-12-24T23:27:55.539Z"
   },
   {
    "duration": 24,
    "start_time": "2022-12-24T23:27:55.551Z"
   },
   {
    "duration": 10,
    "start_time": "2022-12-24T23:27:55.576Z"
   },
   {
    "duration": 29,
    "start_time": "2022-12-24T23:27:55.587Z"
   },
   {
    "duration": 209,
    "start_time": "2022-12-24T23:28:45.526Z"
   },
   {
    "duration": 204,
    "start_time": "2022-12-24T23:30:23.271Z"
   },
   {
    "duration": 1029,
    "start_time": "2022-12-24T23:30:30.165Z"
   },
   {
    "duration": 52,
    "start_time": "2022-12-24T23:30:31.196Z"
   },
   {
    "duration": 19,
    "start_time": "2022-12-24T23:30:31.249Z"
   },
   {
    "duration": 14,
    "start_time": "2022-12-24T23:30:31.270Z"
   },
   {
    "duration": 61,
    "start_time": "2022-12-24T23:30:31.286Z"
   },
   {
    "duration": 9,
    "start_time": "2022-12-24T23:30:31.348Z"
   },
   {
    "duration": 14,
    "start_time": "2022-12-24T23:30:31.359Z"
   },
   {
    "duration": 19,
    "start_time": "2022-12-24T23:30:31.374Z"
   },
   {
    "duration": 23,
    "start_time": "2022-12-24T23:30:31.395Z"
   },
   {
    "duration": 8,
    "start_time": "2022-12-24T23:30:31.421Z"
   },
   {
    "duration": 6,
    "start_time": "2022-12-24T23:30:31.431Z"
   },
   {
    "duration": 7,
    "start_time": "2022-12-24T23:30:31.438Z"
   },
   {
    "duration": 17,
    "start_time": "2022-12-24T23:30:31.446Z"
   },
   {
    "duration": 5,
    "start_time": "2022-12-24T23:30:31.464Z"
   },
   {
    "duration": 7,
    "start_time": "2022-12-24T23:30:31.470Z"
   },
   {
    "duration": 40,
    "start_time": "2022-12-24T23:30:31.479Z"
   },
   {
    "duration": 4,
    "start_time": "2022-12-24T23:30:31.520Z"
   },
   {
    "duration": 6,
    "start_time": "2022-12-24T23:30:31.525Z"
   },
   {
    "duration": 5,
    "start_time": "2022-12-24T23:30:31.533Z"
   },
   {
    "duration": 6,
    "start_time": "2022-12-24T23:30:31.540Z"
   },
   {
    "duration": 180,
    "start_time": "2022-12-24T23:30:31.547Z"
   },
   {
    "duration": 4,
    "start_time": "2022-12-24T23:30:31.729Z"
   },
   {
    "duration": 184,
    "start_time": "2022-12-24T23:30:31.734Z"
   },
   {
    "duration": 128,
    "start_time": "2022-12-24T23:30:31.920Z"
   },
   {
    "duration": 21,
    "start_time": "2022-12-24T23:30:32.050Z"
   },
   {
    "duration": 10,
    "start_time": "2022-12-24T23:30:32.073Z"
   },
   {
    "duration": 27,
    "start_time": "2022-12-24T23:30:32.084Z"
   },
   {
    "duration": 13,
    "start_time": "2022-12-24T23:30:32.116Z"
   },
   {
    "duration": 28,
    "start_time": "2022-12-24T23:30:32.131Z"
   },
   {
    "duration": 139,
    "start_time": "2022-12-24T23:30:32.161Z"
   },
   {
    "duration": 191,
    "start_time": "2022-12-24T23:30:32.302Z"
   },
   {
    "duration": 157,
    "start_time": "2022-12-24T23:30:32.495Z"
   },
   {
    "duration": 147,
    "start_time": "2022-12-24T23:30:32.654Z"
   },
   {
    "duration": 142,
    "start_time": "2022-12-24T23:30:32.803Z"
   },
   {
    "duration": 217,
    "start_time": "2022-12-24T23:30:32.946Z"
   },
   {
    "duration": 6,
    "start_time": "2022-12-24T23:30:33.165Z"
   },
   {
    "duration": 18,
    "start_time": "2022-12-24T23:30:33.172Z"
   },
   {
    "duration": 43,
    "start_time": "2022-12-24T23:30:33.192Z"
   },
   {
    "duration": 1230,
    "start_time": "2022-12-24T23:30:33.237Z"
   },
   {
    "duration": 6,
    "start_time": "2022-12-24T23:30:34.470Z"
   },
   {
    "duration": 238,
    "start_time": "2022-12-24T23:30:34.477Z"
   },
   {
    "duration": 219,
    "start_time": "2022-12-24T23:30:34.716Z"
   },
   {
    "duration": 13,
    "start_time": "2022-12-24T23:30:34.937Z"
   },
   {
    "duration": 641,
    "start_time": "2022-12-24T23:30:34.951Z"
   },
   {
    "duration": 11,
    "start_time": "2022-12-24T23:30:35.593Z"
   },
   {
    "duration": 6,
    "start_time": "2022-12-24T23:30:35.615Z"
   },
   {
    "duration": 561,
    "start_time": "2022-12-24T23:30:35.623Z"
   },
   {
    "duration": 7,
    "start_time": "2022-12-24T23:30:36.186Z"
   },
   {
    "duration": 587,
    "start_time": "2022-12-24T23:30:36.194Z"
   },
   {
    "duration": 6,
    "start_time": "2022-12-24T23:30:36.783Z"
   },
   {
    "duration": 9,
    "start_time": "2022-12-24T23:30:36.790Z"
   },
   {
    "duration": 22,
    "start_time": "2022-12-24T23:30:36.801Z"
   },
   {
    "duration": 10,
    "start_time": "2022-12-24T23:30:36.824Z"
   },
   {
    "duration": 11,
    "start_time": "2022-12-24T23:30:36.835Z"
   },
   {
    "duration": 124,
    "start_time": "2022-12-24T23:30:36.847Z"
   },
   {
    "duration": 11,
    "start_time": "2022-12-24T23:30:36.972Z"
   },
   {
    "duration": 12,
    "start_time": "2022-12-24T23:30:36.985Z"
   },
   {
    "duration": 25,
    "start_time": "2022-12-24T23:30:36.998Z"
   },
   {
    "duration": 18,
    "start_time": "2022-12-24T23:30:37.024Z"
   },
   {
    "duration": 11,
    "start_time": "2022-12-24T23:30:37.044Z"
   },
   {
    "duration": 11,
    "start_time": "2022-12-24T23:30:37.057Z"
   },
   {
    "duration": 10,
    "start_time": "2022-12-24T23:30:37.070Z"
   },
   {
    "duration": 48,
    "start_time": "2022-12-24T23:30:37.082Z"
   },
   {
    "duration": 9,
    "start_time": "2022-12-24T23:30:37.132Z"
   },
   {
    "duration": 11,
    "start_time": "2022-12-24T23:30:37.143Z"
   },
   {
    "duration": 211,
    "start_time": "2022-12-24T23:30:43.708Z"
   },
   {
    "duration": 210,
    "start_time": "2022-12-24T23:37:14.352Z"
   },
   {
    "duration": 208,
    "start_time": "2022-12-24T23:37:18.257Z"
   },
   {
    "duration": 214,
    "start_time": "2022-12-24T23:44:42.486Z"
   },
   {
    "duration": 1047,
    "start_time": "2022-12-24T23:45:03.337Z"
   },
   {
    "duration": 52,
    "start_time": "2022-12-24T23:45:04.386Z"
   },
   {
    "duration": 18,
    "start_time": "2022-12-24T23:45:04.440Z"
   },
   {
    "duration": 13,
    "start_time": "2022-12-24T23:45:04.460Z"
   },
   {
    "duration": 64,
    "start_time": "2022-12-24T23:45:04.474Z"
   },
   {
    "duration": 9,
    "start_time": "2022-12-24T23:45:04.539Z"
   },
   {
    "duration": 14,
    "start_time": "2022-12-24T23:45:04.549Z"
   },
   {
    "duration": 19,
    "start_time": "2022-12-24T23:45:04.565Z"
   },
   {
    "duration": 5,
    "start_time": "2022-12-24T23:45:04.585Z"
   },
   {
    "duration": 28,
    "start_time": "2022-12-24T23:45:04.593Z"
   },
   {
    "duration": 5,
    "start_time": "2022-12-24T23:45:04.622Z"
   },
   {
    "duration": 10,
    "start_time": "2022-12-24T23:45:04.628Z"
   },
   {
    "duration": 17,
    "start_time": "2022-12-24T23:45:04.639Z"
   },
   {
    "duration": 5,
    "start_time": "2022-12-24T23:45:04.658Z"
   },
   {
    "duration": 8,
    "start_time": "2022-12-24T23:45:04.664Z"
   },
   {
    "duration": 22,
    "start_time": "2022-12-24T23:45:04.673Z"
   },
   {
    "duration": 19,
    "start_time": "2022-12-24T23:45:04.696Z"
   },
   {
    "duration": 3,
    "start_time": "2022-12-24T23:45:04.717Z"
   },
   {
    "duration": 5,
    "start_time": "2022-12-24T23:45:04.721Z"
   },
   {
    "duration": 5,
    "start_time": "2022-12-24T23:45:04.728Z"
   },
   {
    "duration": 179,
    "start_time": "2022-12-24T23:45:04.735Z"
   },
   {
    "duration": 4,
    "start_time": "2022-12-24T23:45:04.916Z"
   },
   {
    "duration": 184,
    "start_time": "2022-12-24T23:45:04.922Z"
   },
   {
    "duration": 120,
    "start_time": "2022-12-24T23:45:05.107Z"
   },
   {
    "duration": 17,
    "start_time": "2022-12-24T23:45:05.228Z"
   },
   {
    "duration": 4,
    "start_time": "2022-12-24T23:45:05.247Z"
   },
   {
    "duration": 8,
    "start_time": "2022-12-24T23:45:05.253Z"
   },
   {
    "duration": 2,
    "start_time": "2022-12-24T23:45:05.265Z"
   },
   {
    "duration": 48,
    "start_time": "2022-12-24T23:45:05.268Z"
   },
   {
    "duration": 151,
    "start_time": "2022-12-24T23:45:05.318Z"
   },
   {
    "duration": 155,
    "start_time": "2022-12-24T23:45:05.470Z"
   },
   {
    "duration": 163,
    "start_time": "2022-12-24T23:45:05.627Z"
   },
   {
    "duration": 139,
    "start_time": "2022-12-24T23:45:05.791Z"
   },
   {
    "duration": 135,
    "start_time": "2022-12-24T23:45:05.932Z"
   },
   {
    "duration": 231,
    "start_time": "2022-12-24T23:45:06.068Z"
   },
   {
    "duration": 17,
    "start_time": "2022-12-24T23:45:06.301Z"
   },
   {
    "duration": 19,
    "start_time": "2022-12-24T23:45:06.320Z"
   },
   {
    "duration": 30,
    "start_time": "2022-12-24T23:45:06.341Z"
   },
   {
    "duration": 1207,
    "start_time": "2022-12-24T23:45:06.373Z"
   },
   {
    "duration": 6,
    "start_time": "2022-12-24T23:45:07.582Z"
   },
   {
    "duration": 230,
    "start_time": "2022-12-24T23:45:07.589Z"
   },
   {
    "duration": 212,
    "start_time": "2022-12-24T23:45:07.821Z"
   },
   {
    "duration": 13,
    "start_time": "2022-12-24T23:45:08.035Z"
   },
   {
    "duration": 630,
    "start_time": "2022-12-24T23:45:08.050Z"
   },
   {
    "duration": 10,
    "start_time": "2022-12-24T23:45:08.682Z"
   },
   {
    "duration": 22,
    "start_time": "2022-12-24T23:45:08.694Z"
   },
   {
    "duration": 539,
    "start_time": "2022-12-24T23:45:08.718Z"
   },
   {
    "duration": 9,
    "start_time": "2022-12-24T23:45:09.259Z"
   },
   {
    "duration": 580,
    "start_time": "2022-12-24T23:45:09.269Z"
   },
   {
    "duration": 7,
    "start_time": "2022-12-24T23:45:09.851Z"
   },
   {
    "duration": 12,
    "start_time": "2022-12-24T23:45:09.859Z"
   },
   {
    "duration": 13,
    "start_time": "2022-12-24T23:45:09.872Z"
   },
   {
    "duration": 29,
    "start_time": "2022-12-24T23:45:09.886Z"
   },
   {
    "duration": 11,
    "start_time": "2022-12-24T23:45:09.917Z"
   },
   {
    "duration": 115,
    "start_time": "2022-12-24T23:45:09.930Z"
   },
   {
    "duration": 11,
    "start_time": "2022-12-24T23:45:10.047Z"
   },
   {
    "duration": 18,
    "start_time": "2022-12-24T23:45:10.060Z"
   },
   {
    "duration": 13,
    "start_time": "2022-12-24T23:45:10.079Z"
   },
   {
    "duration": 35,
    "start_time": "2022-12-24T23:45:10.093Z"
   },
   {
    "duration": 12,
    "start_time": "2022-12-24T23:45:10.129Z"
   },
   {
    "duration": 15,
    "start_time": "2022-12-24T23:45:10.142Z"
   },
   {
    "duration": 11,
    "start_time": "2022-12-24T23:45:10.158Z"
   },
   {
    "duration": 18,
    "start_time": "2022-12-24T23:45:10.171Z"
   },
   {
    "duration": 31,
    "start_time": "2022-12-24T23:45:10.191Z"
   },
   {
    "duration": 13,
    "start_time": "2022-12-24T23:45:10.223Z"
   },
   {
    "duration": 124,
    "start_time": "2022-12-24T23:53:45.836Z"
   },
   {
    "duration": 225,
    "start_time": "2022-12-24T23:54:58.975Z"
   },
   {
    "duration": 165,
    "start_time": "2022-12-24T23:55:16.324Z"
   },
   {
    "duration": 227,
    "start_time": "2022-12-24T23:58:16.281Z"
   },
   {
    "duration": 124,
    "start_time": "2022-12-25T00:08:00.195Z"
   },
   {
    "duration": 132,
    "start_time": "2022-12-25T00:10:38.608Z"
   },
   {
    "duration": 16,
    "start_time": "2022-12-25T00:11:00.812Z"
   },
   {
    "duration": 5,
    "start_time": "2022-12-25T00:11:28.013Z"
   },
   {
    "duration": 203,
    "start_time": "2022-12-25T00:11:55.099Z"
   },
   {
    "duration": 161,
    "start_time": "2022-12-25T00:12:04.802Z"
   },
   {
    "duration": 146,
    "start_time": "2022-12-25T00:29:26.434Z"
   },
   {
    "duration": 132,
    "start_time": "2022-12-25T00:30:36.912Z"
   },
   {
    "duration": 455,
    "start_time": "2022-12-25T00:30:59.609Z"
   },
   {
    "duration": 269,
    "start_time": "2022-12-25T00:31:23.384Z"
   },
   {
    "duration": 21,
    "start_time": "2022-12-25T00:31:47.808Z"
   },
   {
    "duration": 292,
    "start_time": "2022-12-25T00:32:02.062Z"
   },
   {
    "duration": 6,
    "start_time": "2022-12-25T00:33:00.466Z"
   },
   {
    "duration": 392,
    "start_time": "2022-12-25T00:59:02.310Z"
   },
   {
    "duration": 444,
    "start_time": "2022-12-25T00:59:08.416Z"
   },
   {
    "duration": 322,
    "start_time": "2022-12-25T00:59:26.034Z"
   },
   {
    "duration": 255,
    "start_time": "2022-12-25T00:59:40.438Z"
   },
   {
    "duration": 268,
    "start_time": "2022-12-25T00:59:46.891Z"
   },
   {
    "duration": 246,
    "start_time": "2022-12-25T01:11:50.156Z"
   },
   {
    "duration": 245,
    "start_time": "2022-12-25T01:12:28.706Z"
   },
   {
    "duration": 325,
    "start_time": "2022-12-25T01:12:41.169Z"
   },
   {
    "duration": 271,
    "start_time": "2022-12-25T01:12:48.955Z"
   },
   {
    "duration": 8,
    "start_time": "2022-12-25T01:17:16.421Z"
   },
   {
    "duration": 43,
    "start_time": "2022-12-25T02:01:55.438Z"
   },
   {
    "duration": 51,
    "start_time": "2022-12-25T02:02:14.579Z"
   },
   {
    "duration": 6,
    "start_time": "2022-12-25T02:02:23.307Z"
   },
   {
    "duration": 5,
    "start_time": "2022-12-25T02:02:30.780Z"
   },
   {
    "duration": 10,
    "start_time": "2022-12-25T02:03:54.257Z"
   },
   {
    "duration": 6,
    "start_time": "2022-12-25T02:04:02.167Z"
   },
   {
    "duration": 50,
    "start_time": "2022-12-25T02:04:48.438Z"
   },
   {
    "duration": 27,
    "start_time": "2022-12-25T02:05:03.898Z"
   },
   {
    "duration": 578,
    "start_time": "2022-12-25T02:05:27.993Z"
   },
   {
    "duration": 644,
    "start_time": "2022-12-25T02:06:08.250Z"
   },
   {
    "duration": 573,
    "start_time": "2022-12-25T02:07:20.616Z"
   },
   {
    "duration": 257,
    "start_time": "2022-12-25T02:08:06.420Z"
   },
   {
    "duration": 186,
    "start_time": "2022-12-25T02:11:50.692Z"
   },
   {
    "duration": 174,
    "start_time": "2022-12-25T02:11:57.569Z"
   },
   {
    "duration": 162,
    "start_time": "2022-12-25T02:12:11.069Z"
   },
   {
    "duration": 157,
    "start_time": "2022-12-25T02:12:15.521Z"
   },
   {
    "duration": 350,
    "start_time": "2022-12-25T02:13:05.059Z"
   },
   {
    "duration": 169,
    "start_time": "2022-12-25T02:15:04.695Z"
   },
   {
    "duration": 173,
    "start_time": "2022-12-25T02:15:13.539Z"
   },
   {
    "duration": 160,
    "start_time": "2022-12-25T02:16:08.283Z"
   },
   {
    "duration": 197,
    "start_time": "2022-12-25T02:17:01.296Z"
   },
   {
    "duration": 182,
    "start_time": "2022-12-25T02:17:25.203Z"
   },
   {
    "duration": 183,
    "start_time": "2022-12-25T02:17:37.239Z"
   },
   {
    "duration": 170,
    "start_time": "2022-12-25T02:17:44.457Z"
   },
   {
    "duration": 165,
    "start_time": "2022-12-25T02:17:48.358Z"
   },
   {
    "duration": 163,
    "start_time": "2022-12-25T02:17:56.874Z"
   },
   {
    "duration": 265,
    "start_time": "2022-12-25T02:18:12.151Z"
   },
   {
    "duration": 136,
    "start_time": "2022-12-25T02:20:08.785Z"
   },
   {
    "duration": 188,
    "start_time": "2022-12-25T02:20:26.222Z"
   },
   {
    "duration": 133,
    "start_time": "2022-12-25T02:20:32.890Z"
   },
   {
    "duration": 195,
    "start_time": "2022-12-25T02:21:50.025Z"
   },
   {
    "duration": 177,
    "start_time": "2022-12-25T02:21:54.249Z"
   },
   {
    "duration": 206,
    "start_time": "2022-12-25T02:22:16.398Z"
   },
   {
    "duration": 277,
    "start_time": "2022-12-25T02:22:28.903Z"
   },
   {
    "duration": 217,
    "start_time": "2022-12-25T02:22:42.903Z"
   },
   {
    "duration": 151,
    "start_time": "2022-12-25T02:22:50.296Z"
   },
   {
    "duration": 237,
    "start_time": "2022-12-25T02:23:02.959Z"
   },
   {
    "duration": 338,
    "start_time": "2022-12-25T02:23:17.354Z"
   },
   {
    "duration": 1914,
    "start_time": "2022-12-25T02:24:32.444Z"
   },
   {
    "duration": 1625,
    "start_time": "2022-12-25T02:24:48.557Z"
   },
   {
    "duration": 1495,
    "start_time": "2022-12-25T02:24:59.601Z"
   },
   {
    "duration": 1387,
    "start_time": "2022-12-25T02:25:05.867Z"
   },
   {
    "duration": 752,
    "start_time": "2022-12-25T02:26:23.453Z"
   },
   {
    "duration": 701,
    "start_time": "2022-12-25T02:26:30.505Z"
   },
   {
    "duration": 601,
    "start_time": "2022-12-25T02:26:38.198Z"
   },
   {
    "duration": 201,
    "start_time": "2022-12-25T02:27:38.294Z"
   },
   {
    "duration": 352,
    "start_time": "2022-12-25T02:27:44.132Z"
   },
   {
    "duration": 171,
    "start_time": "2022-12-25T02:27:57.276Z"
   },
   {
    "duration": 249,
    "start_time": "2022-12-25T02:28:12.299Z"
   },
   {
    "duration": 252,
    "start_time": "2022-12-25T02:28:16.201Z"
   },
   {
    "duration": 181,
    "start_time": "2022-12-25T02:28:19.429Z"
   },
   {
    "duration": 154,
    "start_time": "2022-12-25T02:28:24.945Z"
   },
   {
    "duration": 161,
    "start_time": "2022-12-25T02:28:29.246Z"
   },
   {
    "duration": 1150,
    "start_time": "2022-12-25T18:20:03.612Z"
   },
   {
    "duration": 53,
    "start_time": "2022-12-25T18:20:04.764Z"
   },
   {
    "duration": 19,
    "start_time": "2022-12-25T18:20:04.819Z"
   },
   {
    "duration": 17,
    "start_time": "2022-12-25T18:20:04.840Z"
   },
   {
    "duration": 87,
    "start_time": "2022-12-25T18:20:04.859Z"
   },
   {
    "duration": 12,
    "start_time": "2022-12-25T18:20:04.947Z"
   },
   {
    "duration": 25,
    "start_time": "2022-12-25T18:20:04.961Z"
   },
   {
    "duration": 33,
    "start_time": "2022-12-25T18:20:04.988Z"
   },
   {
    "duration": 6,
    "start_time": "2022-12-25T18:20:05.023Z"
   },
   {
    "duration": 17,
    "start_time": "2022-12-25T18:20:05.032Z"
   },
   {
    "duration": 23,
    "start_time": "2022-12-25T18:20:05.050Z"
   },
   {
    "duration": 20,
    "start_time": "2022-12-25T18:20:05.074Z"
   },
   {
    "duration": 38,
    "start_time": "2022-12-25T18:20:05.096Z"
   },
   {
    "duration": 5,
    "start_time": "2022-12-25T18:20:05.136Z"
   },
   {
    "duration": 25,
    "start_time": "2022-12-25T18:20:05.142Z"
   },
   {
    "duration": 30,
    "start_time": "2022-12-25T18:20:05.169Z"
   },
   {
    "duration": 17,
    "start_time": "2022-12-25T18:20:05.201Z"
   },
   {
    "duration": 32,
    "start_time": "2022-12-25T18:20:05.219Z"
   },
   {
    "duration": 16,
    "start_time": "2022-12-25T18:20:05.253Z"
   },
   {
    "duration": 25,
    "start_time": "2022-12-25T18:20:05.271Z"
   },
   {
    "duration": 248,
    "start_time": "2022-12-25T18:20:05.298Z"
   },
   {
    "duration": 208,
    "start_time": "2022-12-25T18:20:16.776Z"
   },
   {
    "duration": 1338,
    "start_time": "2022-12-25T18:39:36.007Z"
   },
   {
    "duration": 450,
    "start_time": "2022-12-25T18:39:37.349Z"
   },
   {
    "duration": 25,
    "start_time": "2022-12-25T18:39:37.801Z"
   },
   {
    "duration": 15,
    "start_time": "2022-12-25T18:39:37.831Z"
   },
   {
    "duration": 47,
    "start_time": "2022-12-25T18:39:37.847Z"
   },
   {
    "duration": 25,
    "start_time": "2022-12-25T18:39:37.896Z"
   },
   {
    "duration": 19,
    "start_time": "2022-12-25T18:39:37.923Z"
   },
   {
    "duration": 11,
    "start_time": "2022-12-25T18:39:37.943Z"
   },
   {
    "duration": 5,
    "start_time": "2022-12-25T18:39:37.955Z"
   },
   {
    "duration": 8,
    "start_time": "2022-12-25T18:39:37.962Z"
   },
   {
    "duration": 8,
    "start_time": "2022-12-25T18:39:37.971Z"
   },
   {
    "duration": 42,
    "start_time": "2022-12-25T18:39:37.980Z"
   },
   {
    "duration": 25,
    "start_time": "2022-12-25T18:39:38.024Z"
   },
   {
    "duration": 5,
    "start_time": "2022-12-25T18:39:38.050Z"
   },
   {
    "duration": 8,
    "start_time": "2022-12-25T18:39:38.056Z"
   },
   {
    "duration": 17,
    "start_time": "2022-12-25T18:39:38.065Z"
   },
   {
    "duration": 3,
    "start_time": "2022-12-25T18:39:38.083Z"
   },
   {
    "duration": 5,
    "start_time": "2022-12-25T18:39:38.088Z"
   },
   {
    "duration": 5,
    "start_time": "2022-12-25T18:39:38.095Z"
   },
   {
    "duration": 19,
    "start_time": "2022-12-25T18:39:38.102Z"
   },
   {
    "duration": 245,
    "start_time": "2022-12-25T18:39:38.128Z"
   },
   {
    "duration": 4,
    "start_time": "2022-12-25T18:39:38.375Z"
   },
   {
    "duration": 238,
    "start_time": "2022-12-25T18:39:38.381Z"
   },
   {
    "duration": 140,
    "start_time": "2022-12-25T18:39:38.621Z"
   },
   {
    "duration": 19,
    "start_time": "2022-12-25T18:39:38.763Z"
   },
   {
    "duration": 4,
    "start_time": "2022-12-25T18:39:38.784Z"
   },
   {
    "duration": 21,
    "start_time": "2022-12-25T18:39:38.790Z"
   },
   {
    "duration": 23,
    "start_time": "2022-12-25T18:39:38.815Z"
   },
   {
    "duration": 20,
    "start_time": "2022-12-25T18:39:38.840Z"
   },
   {
    "duration": 169,
    "start_time": "2022-12-25T18:39:38.861Z"
   },
   {
    "duration": 176,
    "start_time": "2022-12-25T18:39:39.032Z"
   },
   {
    "duration": 167,
    "start_time": "2022-12-25T18:39:39.209Z"
   },
   {
    "duration": 166,
    "start_time": "2022-12-25T18:39:39.378Z"
   },
   {
    "duration": 250,
    "start_time": "2022-12-25T18:39:39.546Z"
   },
   {
    "duration": 175,
    "start_time": "2022-12-25T18:39:39.798Z"
   },
   {
    "duration": 6,
    "start_time": "2022-12-25T18:39:39.975Z"
   },
   {
    "duration": 27,
    "start_time": "2022-12-25T18:39:39.983Z"
   },
   {
    "duration": 32,
    "start_time": "2022-12-25T18:39:40.021Z"
   },
   {
    "duration": 1214,
    "start_time": "2022-12-25T18:39:40.055Z"
   },
   {
    "duration": 5,
    "start_time": "2022-12-25T18:39:41.271Z"
   },
   {
    "duration": 240,
    "start_time": "2022-12-25T18:39:41.278Z"
   },
   {
    "duration": 24,
    "start_time": "2022-12-25T18:39:46.335Z"
   },
   {
    "duration": 33,
    "start_time": "2022-12-25T18:40:02.200Z"
   },
   {
    "duration": 16,
    "start_time": "2022-12-25T18:40:33.963Z"
   },
   {
    "duration": 6,
    "start_time": "2022-12-25T18:40:42.891Z"
   },
   {
    "duration": 4,
    "start_time": "2022-12-25T18:41:06.586Z"
   },
   {
    "duration": 16,
    "start_time": "2022-12-25T18:41:17.561Z"
   },
   {
    "duration": 5,
    "start_time": "2022-12-25T18:41:23.993Z"
   },
   {
    "duration": 25,
    "start_time": "2022-12-25T18:41:25.640Z"
   },
   {
    "duration": 22,
    "start_time": "2022-12-25T18:41:35.443Z"
   },
   {
    "duration": 26,
    "start_time": "2022-12-25T18:44:21.516Z"
   },
   {
    "duration": 27,
    "start_time": "2022-12-25T18:44:52.285Z"
   },
   {
    "duration": 26,
    "start_time": "2022-12-25T18:45:02.253Z"
   },
   {
    "duration": 28,
    "start_time": "2022-12-25T18:45:08.781Z"
   },
   {
    "duration": 110,
    "start_time": "2022-12-25T18:46:18.407Z"
   },
   {
    "duration": 20,
    "start_time": "2022-12-25T18:46:28.670Z"
   },
   {
    "duration": 8,
    "start_time": "2022-12-25T18:47:09.352Z"
   },
   {
    "duration": 21,
    "start_time": "2022-12-25T18:47:15.214Z"
   },
   {
    "duration": 1112,
    "start_time": "2022-12-25T18:55:18.969Z"
   },
   {
    "duration": 50,
    "start_time": "2022-12-25T18:55:20.082Z"
   },
   {
    "duration": 19,
    "start_time": "2022-12-25T18:55:20.133Z"
   },
   {
    "duration": 13,
    "start_time": "2022-12-25T18:55:20.154Z"
   },
   {
    "duration": 66,
    "start_time": "2022-12-25T18:55:20.168Z"
   },
   {
    "duration": 8,
    "start_time": "2022-12-25T18:55:20.235Z"
   },
   {
    "duration": 16,
    "start_time": "2022-12-25T18:55:20.245Z"
   },
   {
    "duration": 12,
    "start_time": "2022-12-25T18:55:20.262Z"
   },
   {
    "duration": 14,
    "start_time": "2022-12-25T18:55:20.275Z"
   },
   {
    "duration": 14,
    "start_time": "2022-12-25T18:55:20.291Z"
   },
   {
    "duration": 4,
    "start_time": "2022-12-25T18:55:20.306Z"
   },
   {
    "duration": 7,
    "start_time": "2022-12-25T18:55:20.311Z"
   },
   {
    "duration": 16,
    "start_time": "2022-12-25T18:55:20.319Z"
   },
   {
    "duration": 10,
    "start_time": "2022-12-25T18:55:20.337Z"
   },
   {
    "duration": 8,
    "start_time": "2022-12-25T18:55:20.348Z"
   },
   {
    "duration": 23,
    "start_time": "2022-12-25T18:55:20.358Z"
   },
   {
    "duration": 4,
    "start_time": "2022-12-25T18:55:20.382Z"
   },
   {
    "duration": 15,
    "start_time": "2022-12-25T18:55:20.387Z"
   },
   {
    "duration": 13,
    "start_time": "2022-12-25T18:55:20.403Z"
   },
   {
    "duration": 14,
    "start_time": "2022-12-25T18:55:20.417Z"
   },
   {
    "duration": 197,
    "start_time": "2022-12-25T18:55:20.432Z"
   },
   {
    "duration": 4,
    "start_time": "2022-12-25T18:55:20.631Z"
   },
   {
    "duration": 185,
    "start_time": "2022-12-25T18:55:20.636Z"
   },
   {
    "duration": 120,
    "start_time": "2022-12-25T18:55:20.822Z"
   },
   {
    "duration": 16,
    "start_time": "2022-12-25T18:55:20.944Z"
   },
   {
    "duration": 4,
    "start_time": "2022-12-25T18:55:20.962Z"
   },
   {
    "duration": 11,
    "start_time": "2022-12-25T18:55:20.967Z"
   },
   {
    "duration": 2,
    "start_time": "2022-12-25T18:55:20.981Z"
   },
   {
    "duration": 33,
    "start_time": "2022-12-25T18:55:20.984Z"
   },
   {
    "duration": 158,
    "start_time": "2022-12-25T18:55:21.019Z"
   },
   {
    "duration": 157,
    "start_time": "2022-12-25T18:55:21.179Z"
   },
   {
    "duration": 153,
    "start_time": "2022-12-25T18:55:21.338Z"
   },
   {
    "duration": 143,
    "start_time": "2022-12-25T18:55:21.492Z"
   },
   {
    "duration": 221,
    "start_time": "2022-12-25T18:55:21.637Z"
   },
   {
    "duration": 147,
    "start_time": "2022-12-25T18:55:21.860Z"
   },
   {
    "duration": 6,
    "start_time": "2022-12-25T18:55:22.009Z"
   },
   {
    "duration": 18,
    "start_time": "2022-12-25T18:55:22.016Z"
   },
   {
    "duration": 23,
    "start_time": "2022-12-25T18:55:22.035Z"
   },
   {
    "duration": 1253,
    "start_time": "2022-12-25T18:55:22.060Z"
   },
   {
    "duration": 6,
    "start_time": "2022-12-25T18:55:23.315Z"
   },
   {
    "duration": 220,
    "start_time": "2022-12-25T18:55:23.322Z"
   },
   {
    "duration": 264,
    "start_time": "2022-12-25T18:55:23.543Z"
   },
   {
    "duration": 5,
    "start_time": "2022-12-25T18:55:23.808Z"
   },
   {
    "duration": 13,
    "start_time": "2022-12-25T18:55:23.814Z"
   },
   {
    "duration": 618,
    "start_time": "2022-12-25T18:55:23.829Z"
   },
   {
    "duration": 10,
    "start_time": "2022-12-25T18:55:24.448Z"
   },
   {
    "duration": 11,
    "start_time": "2022-12-25T18:55:24.459Z"
   },
   {
    "duration": 549,
    "start_time": "2022-12-25T18:55:24.472Z"
   },
   {
    "duration": 6,
    "start_time": "2022-12-25T18:55:25.023Z"
   },
   {
    "duration": 617,
    "start_time": "2022-12-25T18:55:25.031Z"
   },
   {
    "duration": 7,
    "start_time": "2022-12-25T18:55:25.649Z"
   },
   {
    "duration": 9,
    "start_time": "2022-12-25T18:55:25.657Z"
   },
   {
    "duration": 15,
    "start_time": "2022-12-25T18:55:25.668Z"
   },
   {
    "duration": 23,
    "start_time": "2022-12-25T18:55:25.684Z"
   },
   {
    "duration": 9,
    "start_time": "2022-12-25T18:55:25.709Z"
   },
   {
    "duration": 18,
    "start_time": "2022-12-25T18:55:25.720Z"
   },
   {
    "duration": 11,
    "start_time": "2022-12-25T18:55:25.739Z"
   },
   {
    "duration": 10,
    "start_time": "2022-12-25T18:55:25.752Z"
   },
   {
    "duration": 10,
    "start_time": "2022-12-25T18:55:25.764Z"
   },
   {
    "duration": 46,
    "start_time": "2022-12-25T18:55:25.776Z"
   },
   {
    "duration": 10,
    "start_time": "2022-12-25T18:55:25.823Z"
   },
   {
    "duration": 10,
    "start_time": "2022-12-25T18:55:25.835Z"
   },
   {
    "duration": 13,
    "start_time": "2022-12-25T18:55:25.847Z"
   },
   {
    "duration": 22,
    "start_time": "2022-12-25T18:55:25.861Z"
   },
   {
    "duration": 27,
    "start_time": "2022-12-25T18:55:25.884Z"
   },
   {
    "duration": 9,
    "start_time": "2022-12-25T18:55:25.913Z"
   }
  ],
  "kernelspec": {
   "display_name": "Python 3 (ipykernel)",
   "language": "python",
   "name": "python3"
  },
  "language_info": {
   "codemirror_mode": {
    "name": "ipython",
    "version": 3
   },
   "file_extension": ".py",
   "mimetype": "text/x-python",
   "name": "python",
   "nbconvert_exporter": "python",
   "pygments_lexer": "ipython3",
   "version": "3.10.9"
  },
  "toc": {
   "base_numbering": 1,
   "nav_menu": {},
   "number_sections": true,
   "sideBar": true,
   "skip_h1_title": true,
   "title_cell": "Table of Contents",
   "title_sidebar": "Contents",
   "toc_cell": false,
   "toc_position": {},
   "toc_section_display": true,
   "toc_window_display": false
  }
 },
 "nbformat": 4,
 "nbformat_minor": 2
}
